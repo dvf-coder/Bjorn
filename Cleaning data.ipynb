{
 "cells": [
  {
   "cell_type": "code",
   "execution_count": 2,
   "id": "feae92fe",
   "metadata": {},
   "outputs": [],
   "source": [
    "import pandas as pd\n",
    "import numpy as np"
   ]
  },
  {
   "cell_type": "code",
   "execution_count": 3,
   "id": "88dad6e9",
   "metadata": {},
   "outputs": [],
   "source": [
    "df_main = pd.read_excel(\"data/groentValg.xlsx\")"
   ]
  },
  {
   "cell_type": "code",
   "execution_count": 4,
   "id": "1052d6fc",
   "metadata": {},
   "outputs": [
    {
     "data": {
      "text/plain": [
       "Index(['Folketinget skal vedtage, at det altid skal være muligt, som en valgmulighed, at få et plantebaseret måltid i de offentlige køkkener - ALLE offentlige køkkener (både de ovenfor nævnte og andre)',\n",
       "       'Alle offentlige køkkener skal pålægges at reducere deres CO2-udslip fra mad og måltider med 25% i 2025.',\n",
       "       'Alle offentlige køkkener skal pålægges at reducere deres CO2-udslip fra mad og måltider med 50% i 2030.',\n",
       "       'En øremærket pulje til efteruddannelse af køkkenpersonale skal sikre, at alle madprofessionelle ved, hvordan de tilbereder klimavenlig, plantebaseret mad.',\n",
       "       'Lægeuddannelsen skal indeholde et obligatorisk fag om forebyggelse af sygdomme gennem mere plantebaseret kost.',\n",
       "       'Der skal være en plantebaseret kokkeuddannelse i Danmark, så den grønne gastronomi kan blive udviklet.',\n",
       "       'Fødevarestyrelsen skal have flere midler til at styrke deres faglige ressourcer til at rådgive om plantebaseret ernæring.',\n",
       "       'Det skal sikres, at myndighederne på altomkost.dk vejleder konstruktivt i plantebaseret kost, herunder også sikrer konstruktiv vejledning til veganske børnefamilier.',\n",
       "       'Momsen på frugt og grønt skal sænkes.',\n",
       "       'Der skal være en klimaafgift på alle fødevarer, der afspejler deres drivhusgasudledning.',\n",
       "       'Der skal være en klimaafgift specifikt på alle animalske fødevarer',\n",
       "       'Finansielle institutioner (banker, pensionskasser og investeringsrådgivere, långivere etc.) skal pålægges hvert år at afrapportere, hvordan deres porteføljer, produkter og långivning bidrager til grøn omstilling af landbruget, herunder især fra animalsk til plantebaseret produktion.',\n",
       "       'Fonden for Plantebaserede Fødevarer skal have mindst 200 mio. kr. ekstra årligt udover de eksisterende 85 mio. kr. årligt, så niveauet i højere grad svarer til omfanget af den nødvendige omstilling.',\n",
       "       'Forskningsmidler indenfor fødevarer skal omlægges til i højere grad at fokusere på klimavenlige, plantebaserede fødevarer frem for animalske.',\n",
       "       'Den danske animalske landbrugsproduktion står for en stor andel af den samlede danske drivhusgasudledning. Derfor skal antallet af landbrugsdyr (svin, kyllinger, køer, osv.) mindskes til halvdelen af det nuværende antal i 2030.',\n",
       "       'Landmænd, der vil omlægge deres produktion til flere plantebaserede afgrøder til mennesker, skal kunne modtage gratis efteruddannelse.',\n",
       "       'Støtteordninger til fødevareerhvervet skal omlægges til i højere grad at støtte klimavenlige, plantebaserede fødevarer frem for animalske.',\n",
       "       'Hvilken af følgende beskrivelser synes du passer bedst på dig selv?'],\n",
       "      dtype='object')"
      ]
     },
     "execution_count": 4,
     "metadata": {},
     "output_type": "execute_result"
    }
   ],
   "source": [
    "df_main.columns[10:]"
   ]
  },
  {
   "cell_type": "code",
   "execution_count": 5,
   "id": "4f219c8d",
   "metadata": {},
   "outputs": [
    {
     "data": {
      "text/html": [
       "<div>\n",
       "<style scoped>\n",
       "    .dataframe tbody tr th:only-of-type {\n",
       "        vertical-align: middle;\n",
       "    }\n",
       "\n",
       "    .dataframe tbody tr th {\n",
       "        vertical-align: top;\n",
       "    }\n",
       "\n",
       "    .dataframe thead th {\n",
       "        text-align: right;\n",
       "    }\n",
       "</style>\n",
       "<table border=\"1\" class=\"dataframe\">\n",
       "  <thead>\n",
       "    <tr style=\"text-align: right;\">\n",
       "      <th></th>\n",
       "      <th>I hvilken storkreds er du opstillet?</th>\n",
       "      <th>Hvilket parti stiller du op for?</th>\n",
       "      <th>Dit fulde navnAngiv venligst det navn du opstiller under</th>\n",
       "      <th>Hvilken af følgende beskrivelser synes du passer bedst på dig selv?</th>\n",
       "      <th>Alle offentlige køkkener skal pålægges at reducere deres CO2-udslip fra mad og måltider med 25% i 2025.</th>\n",
       "      <th>Alle offentlige køkkener skal pålægges at reducere deres CO2-udslip fra mad og måltider med 50% i 2030.</th>\n",
       "      <th>En øremærket pulje til efteruddannelse af køkkenpersonale skal sikre, at alle madprofessionelle ved, hvordan de tilbereder klimavenlig, plantebaseret mad.</th>\n",
       "      <th>Lægeuddannelsen skal indeholde et obligatorisk fag om forebyggelse af sygdomme gennem mere plantebaseret kost.</th>\n",
       "      <th>Der skal være en plantebaseret kokkeuddannelse i Danmark, så den grønne gastronomi kan blive udviklet.</th>\n",
       "      <th>Fødevarestyrelsen skal have flere midler til at styrke deres faglige ressourcer til at rådgive om plantebaseret ernæring.</th>\n",
       "      <th>Det skal sikres, at myndighederne på altomkost.dk vejleder konstruktivt i plantebaseret kost, herunder også sikrer konstruktiv vejledning til veganske børnefamilier.</th>\n",
       "      <th>Momsen på frugt og grønt skal sænkes.</th>\n",
       "      <th>Der skal være en klimaafgift på alle fødevarer, der afspejler deres drivhusgasudledning.</th>\n",
       "      <th>Der skal være en klimaafgift specifikt på alle animalske fødevarer</th>\n",
       "      <th>Finansielle institutioner (banker, pensionskasser og investeringsrådgivere, långivere etc.) skal pålægges hvert år at afrapportere, hvordan deres porteføljer, produkter og långivning bidrager til grøn omstilling af landbruget, herunder især fra animalsk til plantebaseret produktion.</th>\n",
       "      <th>Fonden for Plantebaserede Fødevarer skal have mindst 200 mio. kr. ekstra årligt udover de eksisterende 85 mio. kr. årligt, så niveauet i højere grad svarer til omfanget af den nødvendige omstilling.</th>\n",
       "      <th>Forskningsmidler indenfor fødevarer skal omlægges til i højere grad at fokusere på klimavenlige, plantebaserede fødevarer frem for animalske.</th>\n",
       "      <th>Den danske animalske landbrugsproduktion står for en stor andel af den samlede danske drivhusgasudledning. Derfor skal antallet af landbrugsdyr (svin, kyllinger, køer, osv.) mindskes til halvdelen af det nuværende antal i 2030.</th>\n",
       "      <th>Landmænd, der vil omlægge deres produktion til flere plantebaserede afgrøder til mennesker, skal kunne modtage gratis efteruddannelse.</th>\n",
       "      <th>Støtteordninger til fødevareerhvervet skal omlægges til i højere grad at støtte klimavenlige, plantebaserede fødevarer frem for animalske.</th>\n",
       "    </tr>\n",
       "  </thead>\n",
       "  <tbody>\n",
       "    <tr>\n",
       "      <th>0</th>\n",
       "      <td>Sjællands Storkreds</td>\n",
       "      <td>Q. Frie Grønne</td>\n",
       "      <td>Ahmet Üzümcü</td>\n",
       "      <td>Spiser vegetarisk mindst halvdelen af ugens da...</td>\n",
       "      <td>Enig - det vil jeg arbejde aktivt for</td>\n",
       "      <td>Enig - det vil jeg arbejde aktivt for</td>\n",
       "      <td>Enig - det vil jeg arbejde aktivt for</td>\n",
       "      <td>Enig - det vil jeg arbejde aktivt for</td>\n",
       "      <td>Enig - det vil jeg arbejde aktivt for</td>\n",
       "      <td>Enig - det vil jeg arbejde aktivt for</td>\n",
       "      <td>Enig - det vil jeg arbejde aktivt for</td>\n",
       "      <td>Uenig - det vil jeg ikke støtte</td>\n",
       "      <td>Uenig - det vil jeg ikke støtte</td>\n",
       "      <td>Uenig - det vil jeg ikke støtte</td>\n",
       "      <td>Uenig - det vil jeg ikke støtte</td>\n",
       "      <td>Enig - det vil jeg støtte, men jeg vil ikke se...</td>\n",
       "      <td>Enig - det vil jeg arbejde aktivt for</td>\n",
       "      <td>Enig - det vil jeg støtte, men jeg vil ikke se...</td>\n",
       "      <td>Enig - det vil jeg arbejde aktivt for</td>\n",
       "      <td>Enig - det vil jeg arbejde aktivt for</td>\n",
       "    </tr>\n",
       "    <tr>\n",
       "      <th>1</th>\n",
       "      <td>Vestjyllands Storkreds</td>\n",
       "      <td>Ø. Enhedslisten</td>\n",
       "      <td>Aksel Rosager Johansen</td>\n",
       "      <td>Spiser vegetarisk mindst halvdelen af ugens da...</td>\n",
       "      <td>Enig - det vil jeg arbejde aktivt for</td>\n",
       "      <td>Enig - det vil jeg arbejde aktivt for</td>\n",
       "      <td>Enig - det vil jeg arbejde aktivt for</td>\n",
       "      <td>Uenig - det vil jeg ikke støtte</td>\n",
       "      <td>Enig - det vil jeg støtte, men jeg vil ikke se...</td>\n",
       "      <td>Enig - det vil jeg arbejde aktivt for</td>\n",
       "      <td>Enig - det vil jeg arbejde aktivt for</td>\n",
       "      <td>Enig - det vil jeg støtte, men jeg vil ikke se...</td>\n",
       "      <td>Enig - det vil jeg arbejde aktivt for</td>\n",
       "      <td>Enig - det vil jeg arbejde aktivt for</td>\n",
       "      <td>Enig - det vil jeg støtte, men jeg vil ikke se...</td>\n",
       "      <td>Enig - det vil jeg arbejde aktivt for</td>\n",
       "      <td>Enig - det vil jeg arbejde aktivt for</td>\n",
       "      <td>Enig - det vil jeg arbejde aktivt for</td>\n",
       "      <td>Enig - det vil jeg arbejde aktivt for</td>\n",
       "      <td>Enig - det vil jeg arbejde aktivt for</td>\n",
       "    </tr>\n",
       "  </tbody>\n",
       "</table>\n",
       "</div>"
      ],
      "text/plain": [
       "  I hvilken storkreds er du opstillet? Hvilket parti stiller du op for?  \\\n",
       "0                  Sjællands Storkreds                   Q. Frie Grønne   \n",
       "1               Vestjyllands Storkreds                  Ø. Enhedslisten   \n",
       "\n",
       "  Dit fulde navnAngiv venligst det navn du opstiller under  \\\n",
       "0                                       Ahmet Üzümcü         \n",
       "1                             Aksel Rosager Johansen         \n",
       "\n",
       "  Hvilken af følgende beskrivelser synes du passer bedst på dig selv?  \\\n",
       "0  Spiser vegetarisk mindst halvdelen af ugens da...                    \n",
       "1  Spiser vegetarisk mindst halvdelen af ugens da...                    \n",
       "\n",
       "  Alle offentlige køkkener skal pålægges at reducere deres CO2-udslip fra mad og måltider med 25% i 2025.  \\\n",
       "0              Enig - det vil jeg arbejde aktivt for                                                        \n",
       "1              Enig - det vil jeg arbejde aktivt for                                                        \n",
       "\n",
       "  Alle offentlige køkkener skal pålægges at reducere deres CO2-udslip fra mad og måltider med 50% i 2030.  \\\n",
       "0              Enig - det vil jeg arbejde aktivt for                                                        \n",
       "1              Enig - det vil jeg arbejde aktivt for                                                        \n",
       "\n",
       "  En øremærket pulje til efteruddannelse af køkkenpersonale skal sikre, at alle madprofessionelle ved, hvordan de tilbereder klimavenlig, plantebaseret mad.  \\\n",
       "0              Enig - det vil jeg arbejde aktivt for                                                                                                           \n",
       "1              Enig - det vil jeg arbejde aktivt for                                                                                                           \n",
       "\n",
       "  Lægeuddannelsen skal indeholde et obligatorisk fag om forebyggelse af sygdomme gennem mere plantebaseret kost.  \\\n",
       "0              Enig - det vil jeg arbejde aktivt for                                                               \n",
       "1                    Uenig - det vil jeg ikke støtte                                                               \n",
       "\n",
       "  Der skal være en plantebaseret kokkeuddannelse i Danmark, så den grønne gastronomi kan blive udviklet.  \\\n",
       "0              Enig - det vil jeg arbejde aktivt for                                                       \n",
       "1  Enig - det vil jeg støtte, men jeg vil ikke se...                                                       \n",
       "\n",
       "  Fødevarestyrelsen skal have flere midler til at styrke deres faglige ressourcer til at rådgive om plantebaseret ernæring.  \\\n",
       "0              Enig - det vil jeg arbejde aktivt for                                                                          \n",
       "1              Enig - det vil jeg arbejde aktivt for                                                                          \n",
       "\n",
       "  Det skal sikres, at myndighederne på altomkost.dk vejleder konstruktivt i plantebaseret kost, herunder også sikrer konstruktiv vejledning til veganske børnefamilier.  \\\n",
       "0              Enig - det vil jeg arbejde aktivt for                                                                                                                      \n",
       "1              Enig - det vil jeg arbejde aktivt for                                                                                                                      \n",
       "\n",
       "               Momsen på frugt og grønt skal sænkes.  \\\n",
       "0                    Uenig - det vil jeg ikke støtte   \n",
       "1  Enig - det vil jeg støtte, men jeg vil ikke se...   \n",
       "\n",
       "  Der skal være en klimaafgift på alle fødevarer, der afspejler deres drivhusgasudledning.  \\\n",
       "0                    Uenig - det vil jeg ikke støtte                                         \n",
       "1              Enig - det vil jeg arbejde aktivt for                                         \n",
       "\n",
       "  Der skal være en klimaafgift specifikt på alle animalske fødevarer  \\\n",
       "0                    Uenig - det vil jeg ikke støtte                   \n",
       "1              Enig - det vil jeg arbejde aktivt for                   \n",
       "\n",
       "  Finansielle institutioner (banker, pensionskasser og investeringsrådgivere, långivere etc.) skal pålægges hvert år at afrapportere, hvordan deres porteføljer, produkter og långivning bidrager til grøn omstilling af landbruget, herunder især fra animalsk til plantebaseret produktion.  \\\n",
       "0                    Uenig - det vil jeg ikke støtte                                                                                                                                                                                                                                            \n",
       "1  Enig - det vil jeg støtte, men jeg vil ikke se...                                                                                                                                                                                                                                            \n",
       "\n",
       "  Fonden for Plantebaserede Fødevarer skal have mindst 200 mio. kr. ekstra årligt udover de eksisterende 85 mio. kr. årligt, så niveauet i højere grad svarer til omfanget af den nødvendige omstilling.  \\\n",
       "0  Enig - det vil jeg støtte, men jeg vil ikke se...                                                                                                                                                       \n",
       "1              Enig - det vil jeg arbejde aktivt for                                                                                                                                                       \n",
       "\n",
       "  Forskningsmidler indenfor fødevarer skal omlægges til i højere grad at fokusere på klimavenlige, plantebaserede fødevarer frem for animalske.  \\\n",
       "0              Enig - det vil jeg arbejde aktivt for                                                                                              \n",
       "1              Enig - det vil jeg arbejde aktivt for                                                                                              \n",
       "\n",
       "  Den danske animalske landbrugsproduktion står for en stor andel af den samlede danske drivhusgasudledning. Derfor skal antallet af landbrugsdyr (svin, kyllinger, køer, osv.) mindskes til halvdelen af det nuværende antal i 2030.  \\\n",
       "0  Enig - det vil jeg støtte, men jeg vil ikke se...                                                                                                                                                                                    \n",
       "1              Enig - det vil jeg arbejde aktivt for                                                                                                                                                                                    \n",
       "\n",
       "  Landmænd, der vil omlægge deres produktion til flere plantebaserede afgrøder til mennesker, skal kunne modtage gratis efteruddannelse.  \\\n",
       "0              Enig - det vil jeg arbejde aktivt for                                                                                       \n",
       "1              Enig - det vil jeg arbejde aktivt for                                                                                       \n",
       "\n",
       "  Støtteordninger til fødevareerhvervet skal omlægges til i højere grad at støtte klimavenlige, plantebaserede fødevarer frem for animalske.  \n",
       "0              Enig - det vil jeg arbejde aktivt for                                                                                          \n",
       "1              Enig - det vil jeg arbejde aktivt for                                                                                          "
      ]
     },
     "execution_count": 5,
     "metadata": {},
     "output_type": "execute_result"
    }
   ],
   "source": [
    "# Don't want to read in the data everytime i make a mistake\n",
    "df_fv = df_main.copy()\n",
    "\n",
    "# Drop the samtykke, who cares anyways\n",
    "# df_fv = df_fv.drop(df_fv.columns[3], axis = 1)\n",
    "\n",
    "# Setting the columns in the right order... For now\n",
    "df1 =  df_fv.iloc[:, [2,3,4,-1]]\n",
    "df2 = df_fv.iloc[:,11:27]\n",
    "df_fv = pd.concat([df1,df2], axis = 1)\n",
    "df_fv.head(2)"
   ]
  },
  {
   "cell_type": "markdown",
   "id": "200eff48",
   "metadata": {},
   "source": [
    "## Now! To replace the awfull string values, yikes!\n",
    "And also replace NaN with zero"
   ]
  },
  {
   "cell_type": "code",
   "execution_count": 6,
   "id": "4517a6ab",
   "metadata": {},
   "outputs": [],
   "source": [
    "# First, NaN is replaced with 0\n",
    "df_fv = df_fv.fillna(0)"
   ]
  },
  {
   "cell_type": "code",
   "execution_count": 7,
   "id": "d7df04e2",
   "metadata": {},
   "outputs": [],
   "source": [
    "# Second first step is to find out what the values even are!\n",
    "answerUnique = df_fv.iloc[:, 4].unique()"
   ]
  },
  {
   "cell_type": "code",
   "execution_count": 8,
   "id": "728de6a5",
   "metadata": {},
   "outputs": [
    {
     "data": {
      "text/plain": [
       "array(['Enig - det vil jeg arbejde aktivt for',\n",
       "       'Ved ikke / har ikke taget stilling',\n",
       "       'Uenig - det vil jeg ikke støtte',\n",
       "       'Enig - det vil jeg støtte, men jeg vil ikke selv sætte det på dagsordenen',\n",
       "       0], dtype=object)"
      ]
     },
     "execution_count": 8,
     "metadata": {},
     "output_type": "execute_result"
    }
   ],
   "source": [
    "answerUnique"
   ]
  },
  {
   "cell_type": "code",
   "execution_count": 9,
   "id": "3b13d32a",
   "metadata": {},
   "outputs": [
    {
     "data": {
      "text/plain": [
       "{'Enig - det vil jeg arbejde aktivt for': 2,\n",
       " 'Ved ikke / har ikke taget stilling': 0,\n",
       " 'Uenig - det vil jeg ikke støtte': 0,\n",
       " 'Enig - det vil jeg støtte, men jeg vil ikke selv sætte det på dagsordenen': 1,\n",
       " 0: 0}"
      ]
     },
     "execution_count": 9,
     "metadata": {},
     "output_type": "execute_result"
    }
   ],
   "source": [
    "# Then i create a dict to do the switcheroo\n",
    "answerValues = {answerUnique[0]:2,answerUnique[1]:0, answerUnique[2] :0, answerUnique[3]: 1 , 0:0}\n",
    "answerValues"
   ]
  },
  {
   "cell_type": "code",
   "execution_count": 10,
   "id": "2dd098ce",
   "metadata": {},
   "outputs": [],
   "source": [
    "for column in df_fv.columns[4:]: #i ignore q1 for now, but replace the values for the rest of the columns\n",
    "    df_fv[column] = [answerValues[x] for x in df_fv[column]]"
   ]
  },
  {
   "cell_type": "code",
   "execution_count": 11,
   "id": "d400f3a4",
   "metadata": {},
   "outputs": [
    {
     "data": {
      "text/html": [
       "<div>\n",
       "<style scoped>\n",
       "    .dataframe tbody tr th:only-of-type {\n",
       "        vertical-align: middle;\n",
       "    }\n",
       "\n",
       "    .dataframe tbody tr th {\n",
       "        vertical-align: top;\n",
       "    }\n",
       "\n",
       "    .dataframe thead th {\n",
       "        text-align: right;\n",
       "    }\n",
       "</style>\n",
       "<table border=\"1\" class=\"dataframe\">\n",
       "  <thead>\n",
       "    <tr style=\"text-align: right;\">\n",
       "      <th></th>\n",
       "      <th>Alle offentlige køkkener skal pålægges at reducere deres CO2-udslip fra mad og måltider med 25% i 2025.</th>\n",
       "      <th>Alle offentlige køkkener skal pålægges at reducere deres CO2-udslip fra mad og måltider med 50% i 2030.</th>\n",
       "      <th>En øremærket pulje til efteruddannelse af køkkenpersonale skal sikre, at alle madprofessionelle ved, hvordan de tilbereder klimavenlig, plantebaseret mad.</th>\n",
       "      <th>Lægeuddannelsen skal indeholde et obligatorisk fag om forebyggelse af sygdomme gennem mere plantebaseret kost.</th>\n",
       "      <th>Der skal være en plantebaseret kokkeuddannelse i Danmark, så den grønne gastronomi kan blive udviklet.</th>\n",
       "      <th>Fødevarestyrelsen skal have flere midler til at styrke deres faglige ressourcer til at rådgive om plantebaseret ernæring.</th>\n",
       "      <th>Det skal sikres, at myndighederne på altomkost.dk vejleder konstruktivt i plantebaseret kost, herunder også sikrer konstruktiv vejledning til veganske børnefamilier.</th>\n",
       "      <th>Momsen på frugt og grønt skal sænkes.</th>\n",
       "      <th>Der skal være en klimaafgift på alle fødevarer, der afspejler deres drivhusgasudledning.</th>\n",
       "      <th>Der skal være en klimaafgift specifikt på alle animalske fødevarer</th>\n",
       "      <th>Finansielle institutioner (banker, pensionskasser og investeringsrådgivere, långivere etc.) skal pålægges hvert år at afrapportere, hvordan deres porteføljer, produkter og långivning bidrager til grøn omstilling af landbruget, herunder især fra animalsk til plantebaseret produktion.</th>\n",
       "      <th>Fonden for Plantebaserede Fødevarer skal have mindst 200 mio. kr. ekstra årligt udover de eksisterende 85 mio. kr. årligt, så niveauet i højere grad svarer til omfanget af den nødvendige omstilling.</th>\n",
       "      <th>Forskningsmidler indenfor fødevarer skal omlægges til i højere grad at fokusere på klimavenlige, plantebaserede fødevarer frem for animalske.</th>\n",
       "      <th>Den danske animalske landbrugsproduktion står for en stor andel af den samlede danske drivhusgasudledning. Derfor skal antallet af landbrugsdyr (svin, kyllinger, køer, osv.) mindskes til halvdelen af det nuværende antal i 2030.</th>\n",
       "      <th>Landmænd, der vil omlægge deres produktion til flere plantebaserede afgrøder til mennesker, skal kunne modtage gratis efteruddannelse.</th>\n",
       "      <th>Støtteordninger til fødevareerhvervet skal omlægges til i højere grad at støtte klimavenlige, plantebaserede fødevarer frem for animalske.</th>\n",
       "    </tr>\n",
       "  </thead>\n",
       "  <tbody>\n",
       "    <tr>\n",
       "      <th>0</th>\n",
       "      <td>2</td>\n",
       "      <td>2</td>\n",
       "      <td>2</td>\n",
       "      <td>2</td>\n",
       "      <td>2</td>\n",
       "      <td>2</td>\n",
       "      <td>2</td>\n",
       "      <td>0</td>\n",
       "      <td>0</td>\n",
       "      <td>0</td>\n",
       "      <td>0</td>\n",
       "      <td>1</td>\n",
       "      <td>2</td>\n",
       "      <td>1</td>\n",
       "      <td>2</td>\n",
       "      <td>2</td>\n",
       "    </tr>\n",
       "    <tr>\n",
       "      <th>1</th>\n",
       "      <td>2</td>\n",
       "      <td>2</td>\n",
       "      <td>2</td>\n",
       "      <td>0</td>\n",
       "      <td>1</td>\n",
       "      <td>2</td>\n",
       "      <td>2</td>\n",
       "      <td>1</td>\n",
       "      <td>2</td>\n",
       "      <td>2</td>\n",
       "      <td>1</td>\n",
       "      <td>2</td>\n",
       "      <td>2</td>\n",
       "      <td>2</td>\n",
       "      <td>2</td>\n",
       "      <td>2</td>\n",
       "    </tr>\n",
       "    <tr>\n",
       "      <th>2</th>\n",
       "      <td>0</td>\n",
       "      <td>0</td>\n",
       "      <td>0</td>\n",
       "      <td>0</td>\n",
       "      <td>0</td>\n",
       "      <td>0</td>\n",
       "      <td>0</td>\n",
       "      <td>0</td>\n",
       "      <td>0</td>\n",
       "      <td>0</td>\n",
       "      <td>0</td>\n",
       "      <td>0</td>\n",
       "      <td>0</td>\n",
       "      <td>0</td>\n",
       "      <td>1</td>\n",
       "      <td>0</td>\n",
       "    </tr>\n",
       "    <tr>\n",
       "      <th>3</th>\n",
       "      <td>0</td>\n",
       "      <td>0</td>\n",
       "      <td>0</td>\n",
       "      <td>0</td>\n",
       "      <td>0</td>\n",
       "      <td>0</td>\n",
       "      <td>0</td>\n",
       "      <td>2</td>\n",
       "      <td>0</td>\n",
       "      <td>0</td>\n",
       "      <td>0</td>\n",
       "      <td>0</td>\n",
       "      <td>0</td>\n",
       "      <td>0</td>\n",
       "      <td>0</td>\n",
       "      <td>0</td>\n",
       "    </tr>\n",
       "  </tbody>\n",
       "</table>\n",
       "</div>"
      ],
      "text/plain": [
       "   Alle offentlige køkkener skal pålægges at reducere deres CO2-udslip fra mad og måltider med 25% i 2025.  \\\n",
       "0                                                  2                                                         \n",
       "1                                                  2                                                         \n",
       "2                                                  0                                                         \n",
       "3                                                  0                                                         \n",
       "\n",
       "   Alle offentlige køkkener skal pålægges at reducere deres CO2-udslip fra mad og måltider med 50% i 2030.  \\\n",
       "0                                                  2                                                         \n",
       "1                                                  2                                                         \n",
       "2                                                  0                                                         \n",
       "3                                                  0                                                         \n",
       "\n",
       "   En øremærket pulje til efteruddannelse af køkkenpersonale skal sikre, at alle madprofessionelle ved, hvordan de tilbereder klimavenlig, plantebaseret mad.  \\\n",
       "0                                                  2                                                                                                            \n",
       "1                                                  2                                                                                                            \n",
       "2                                                  0                                                                                                            \n",
       "3                                                  0                                                                                                            \n",
       "\n",
       "   Lægeuddannelsen skal indeholde et obligatorisk fag om forebyggelse af sygdomme gennem mere plantebaseret kost.  \\\n",
       "0                                                  2                                                                \n",
       "1                                                  0                                                                \n",
       "2                                                  0                                                                \n",
       "3                                                  0                                                                \n",
       "\n",
       "   Der skal være en plantebaseret kokkeuddannelse i Danmark, så den grønne gastronomi kan blive udviklet.  \\\n",
       "0                                                  2                                                        \n",
       "1                                                  1                                                        \n",
       "2                                                  0                                                        \n",
       "3                                                  0                                                        \n",
       "\n",
       "   Fødevarestyrelsen skal have flere midler til at styrke deres faglige ressourcer til at rådgive om plantebaseret ernæring.  \\\n",
       "0                                                  2                                                                           \n",
       "1                                                  2                                                                           \n",
       "2                                                  0                                                                           \n",
       "3                                                  0                                                                           \n",
       "\n",
       "   Det skal sikres, at myndighederne på altomkost.dk vejleder konstruktivt i plantebaseret kost, herunder også sikrer konstruktiv vejledning til veganske børnefamilier.  \\\n",
       "0                                                  2                                                                                                                       \n",
       "1                                                  2                                                                                                                       \n",
       "2                                                  0                                                                                                                       \n",
       "3                                                  0                                                                                                                       \n",
       "\n",
       "   Momsen på frugt og grønt skal sænkes.  \\\n",
       "0                                      0   \n",
       "1                                      1   \n",
       "2                                      0   \n",
       "3                                      2   \n",
       "\n",
       "   Der skal være en klimaafgift på alle fødevarer, der afspejler deres drivhusgasudledning.  \\\n",
       "0                                                  0                                          \n",
       "1                                                  2                                          \n",
       "2                                                  0                                          \n",
       "3                                                  0                                          \n",
       "\n",
       "   Der skal være en klimaafgift specifikt på alle animalske fødevarer  \\\n",
       "0                                                  0                    \n",
       "1                                                  2                    \n",
       "2                                                  0                    \n",
       "3                                                  0                    \n",
       "\n",
       "   Finansielle institutioner (banker, pensionskasser og investeringsrådgivere, långivere etc.) skal pålægges hvert år at afrapportere, hvordan deres porteføljer, produkter og långivning bidrager til grøn omstilling af landbruget, herunder især fra animalsk til plantebaseret produktion.  \\\n",
       "0                                                  0                                                                                                                                                                                                                                             \n",
       "1                                                  1                                                                                                                                                                                                                                             \n",
       "2                                                  0                                                                                                                                                                                                                                             \n",
       "3                                                  0                                                                                                                                                                                                                                             \n",
       "\n",
       "   Fonden for Plantebaserede Fødevarer skal have mindst 200 mio. kr. ekstra årligt udover de eksisterende 85 mio. kr. årligt, så niveauet i højere grad svarer til omfanget af den nødvendige omstilling.  \\\n",
       "0                                                  1                                                                                                                                                        \n",
       "1                                                  2                                                                                                                                                        \n",
       "2                                                  0                                                                                                                                                        \n",
       "3                                                  0                                                                                                                                                        \n",
       "\n",
       "   Forskningsmidler indenfor fødevarer skal omlægges til i højere grad at fokusere på klimavenlige, plantebaserede fødevarer frem for animalske.  \\\n",
       "0                                                  2                                                                                               \n",
       "1                                                  2                                                                                               \n",
       "2                                                  0                                                                                               \n",
       "3                                                  0                                                                                               \n",
       "\n",
       "   Den danske animalske landbrugsproduktion står for en stor andel af den samlede danske drivhusgasudledning. Derfor skal antallet af landbrugsdyr (svin, kyllinger, køer, osv.) mindskes til halvdelen af det nuværende antal i 2030.  \\\n",
       "0                                                  1                                                                                                                                                                                     \n",
       "1                                                  2                                                                                                                                                                                     \n",
       "2                                                  0                                                                                                                                                                                     \n",
       "3                                                  0                                                                                                                                                                                     \n",
       "\n",
       "   Landmænd, der vil omlægge deres produktion til flere plantebaserede afgrøder til mennesker, skal kunne modtage gratis efteruddannelse.  \\\n",
       "0                                                  2                                                                                        \n",
       "1                                                  2                                                                                        \n",
       "2                                                  1                                                                                        \n",
       "3                                                  0                                                                                        \n",
       "\n",
       "   Støtteordninger til fødevareerhvervet skal omlægges til i højere grad at støtte klimavenlige, plantebaserede fødevarer frem for animalske.  \n",
       "0                                                  2                                                                                           \n",
       "1                                                  2                                                                                           \n",
       "2                                                  0                                                                                           \n",
       "3                                                  0                                                                                           "
      ]
     },
     "execution_count": 11,
     "metadata": {},
     "output_type": "execute_result"
    }
   ],
   "source": [
    "df_fv.iloc[:4,4:]"
   ]
  },
  {
   "cell_type": "code",
   "execution_count": 12,
   "id": "a037e0a3",
   "metadata": {},
   "outputs": [],
   "source": [
    "df_fv[\"Score\"] = df_fv.iloc[:,4:].sum( axis = 1)"
   ]
  },
  {
   "cell_type": "code",
   "execution_count": 13,
   "id": "97551ed3",
   "metadata": {},
   "outputs": [
    {
     "data": {
      "text/html": [
       "<div>\n",
       "<style scoped>\n",
       "    .dataframe tbody tr th:only-of-type {\n",
       "        vertical-align: middle;\n",
       "    }\n",
       "\n",
       "    .dataframe tbody tr th {\n",
       "        vertical-align: top;\n",
       "    }\n",
       "\n",
       "    .dataframe thead th {\n",
       "        text-align: right;\n",
       "    }\n",
       "</style>\n",
       "<table border=\"1\" class=\"dataframe\">\n",
       "  <thead>\n",
       "    <tr style=\"text-align: right;\">\n",
       "      <th></th>\n",
       "      <th>I hvilken storkreds er du opstillet?</th>\n",
       "      <th>Hvilket parti stiller du op for?</th>\n",
       "      <th>Dit fulde navnAngiv venligst det navn du opstiller under</th>\n",
       "      <th>Hvilken af følgende beskrivelser synes du passer bedst på dig selv?</th>\n",
       "      <th>Alle offentlige køkkener skal pålægges at reducere deres CO2-udslip fra mad og måltider med 25% i 2025.</th>\n",
       "      <th>Alle offentlige køkkener skal pålægges at reducere deres CO2-udslip fra mad og måltider med 50% i 2030.</th>\n",
       "      <th>En øremærket pulje til efteruddannelse af køkkenpersonale skal sikre, at alle madprofessionelle ved, hvordan de tilbereder klimavenlig, plantebaseret mad.</th>\n",
       "      <th>Lægeuddannelsen skal indeholde et obligatorisk fag om forebyggelse af sygdomme gennem mere plantebaseret kost.</th>\n",
       "      <th>Der skal være en plantebaseret kokkeuddannelse i Danmark, så den grønne gastronomi kan blive udviklet.</th>\n",
       "      <th>Fødevarestyrelsen skal have flere midler til at styrke deres faglige ressourcer til at rådgive om plantebaseret ernæring.</th>\n",
       "      <th>...</th>\n",
       "      <th>Momsen på frugt og grønt skal sænkes.</th>\n",
       "      <th>Der skal være en klimaafgift på alle fødevarer, der afspejler deres drivhusgasudledning.</th>\n",
       "      <th>Der skal være en klimaafgift specifikt på alle animalske fødevarer</th>\n",
       "      <th>Finansielle institutioner (banker, pensionskasser og investeringsrådgivere, långivere etc.) skal pålægges hvert år at afrapportere, hvordan deres porteføljer, produkter og långivning bidrager til grøn omstilling af landbruget, herunder især fra animalsk til plantebaseret produktion.</th>\n",
       "      <th>Fonden for Plantebaserede Fødevarer skal have mindst 200 mio. kr. ekstra årligt udover de eksisterende 85 mio. kr. årligt, så niveauet i højere grad svarer til omfanget af den nødvendige omstilling.</th>\n",
       "      <th>Forskningsmidler indenfor fødevarer skal omlægges til i højere grad at fokusere på klimavenlige, plantebaserede fødevarer frem for animalske.</th>\n",
       "      <th>Den danske animalske landbrugsproduktion står for en stor andel af den samlede danske drivhusgasudledning. Derfor skal antallet af landbrugsdyr (svin, kyllinger, køer, osv.) mindskes til halvdelen af det nuværende antal i 2030.</th>\n",
       "      <th>Landmænd, der vil omlægge deres produktion til flere plantebaserede afgrøder til mennesker, skal kunne modtage gratis efteruddannelse.</th>\n",
       "      <th>Støtteordninger til fødevareerhvervet skal omlægges til i højere grad at støtte klimavenlige, plantebaserede fødevarer frem for animalske.</th>\n",
       "      <th>Score</th>\n",
       "    </tr>\n",
       "  </thead>\n",
       "  <tbody>\n",
       "    <tr>\n",
       "      <th>0</th>\n",
       "      <td>Sjællands Storkreds</td>\n",
       "      <td>Q. Frie Grønne</td>\n",
       "      <td>Ahmet Üzümcü</td>\n",
       "      <td>Spiser vegetarisk mindst halvdelen af ugens da...</td>\n",
       "      <td>2</td>\n",
       "      <td>2</td>\n",
       "      <td>2</td>\n",
       "      <td>2</td>\n",
       "      <td>2</td>\n",
       "      <td>2</td>\n",
       "      <td>...</td>\n",
       "      <td>0</td>\n",
       "      <td>0</td>\n",
       "      <td>0</td>\n",
       "      <td>0</td>\n",
       "      <td>1</td>\n",
       "      <td>2</td>\n",
       "      <td>1</td>\n",
       "      <td>2</td>\n",
       "      <td>2</td>\n",
       "      <td>22</td>\n",
       "    </tr>\n",
       "    <tr>\n",
       "      <th>1</th>\n",
       "      <td>Vestjyllands Storkreds</td>\n",
       "      <td>Ø. Enhedslisten</td>\n",
       "      <td>Aksel Rosager Johansen</td>\n",
       "      <td>Spiser vegetarisk mindst halvdelen af ugens da...</td>\n",
       "      <td>2</td>\n",
       "      <td>2</td>\n",
       "      <td>2</td>\n",
       "      <td>0</td>\n",
       "      <td>1</td>\n",
       "      <td>2</td>\n",
       "      <td>...</td>\n",
       "      <td>1</td>\n",
       "      <td>2</td>\n",
       "      <td>2</td>\n",
       "      <td>1</td>\n",
       "      <td>2</td>\n",
       "      <td>2</td>\n",
       "      <td>2</td>\n",
       "      <td>2</td>\n",
       "      <td>2</td>\n",
       "      <td>27</td>\n",
       "    </tr>\n",
       "  </tbody>\n",
       "</table>\n",
       "<p>2 rows × 21 columns</p>\n",
       "</div>"
      ],
      "text/plain": [
       "  I hvilken storkreds er du opstillet? Hvilket parti stiller du op for?  \\\n",
       "0                  Sjællands Storkreds                   Q. Frie Grønne   \n",
       "1               Vestjyllands Storkreds                  Ø. Enhedslisten   \n",
       "\n",
       "  Dit fulde navnAngiv venligst det navn du opstiller under  \\\n",
       "0                                       Ahmet Üzümcü         \n",
       "1                             Aksel Rosager Johansen         \n",
       "\n",
       "  Hvilken af følgende beskrivelser synes du passer bedst på dig selv?  \\\n",
       "0  Spiser vegetarisk mindst halvdelen af ugens da...                    \n",
       "1  Spiser vegetarisk mindst halvdelen af ugens da...                    \n",
       "\n",
       "   Alle offentlige køkkener skal pålægges at reducere deres CO2-udslip fra mad og måltider med 25% i 2025.  \\\n",
       "0                                                  2                                                         \n",
       "1                                                  2                                                         \n",
       "\n",
       "   Alle offentlige køkkener skal pålægges at reducere deres CO2-udslip fra mad og måltider med 50% i 2030.  \\\n",
       "0                                                  2                                                         \n",
       "1                                                  2                                                         \n",
       "\n",
       "   En øremærket pulje til efteruddannelse af køkkenpersonale skal sikre, at alle madprofessionelle ved, hvordan de tilbereder klimavenlig, plantebaseret mad.  \\\n",
       "0                                                  2                                                                                                            \n",
       "1                                                  2                                                                                                            \n",
       "\n",
       "   Lægeuddannelsen skal indeholde et obligatorisk fag om forebyggelse af sygdomme gennem mere plantebaseret kost.  \\\n",
       "0                                                  2                                                                \n",
       "1                                                  0                                                                \n",
       "\n",
       "   Der skal være en plantebaseret kokkeuddannelse i Danmark, så den grønne gastronomi kan blive udviklet.  \\\n",
       "0                                                  2                                                        \n",
       "1                                                  1                                                        \n",
       "\n",
       "   Fødevarestyrelsen skal have flere midler til at styrke deres faglige ressourcer til at rådgive om plantebaseret ernæring.  \\\n",
       "0                                                  2                                                                           \n",
       "1                                                  2                                                                           \n",
       "\n",
       "   ...  Momsen på frugt og grønt skal sænkes.  \\\n",
       "0  ...                                      0   \n",
       "1  ...                                      1   \n",
       "\n",
       "   Der skal være en klimaafgift på alle fødevarer, der afspejler deres drivhusgasudledning.  \\\n",
       "0                                                  0                                          \n",
       "1                                                  2                                          \n",
       "\n",
       "   Der skal være en klimaafgift specifikt på alle animalske fødevarer  \\\n",
       "0                                                  0                    \n",
       "1                                                  2                    \n",
       "\n",
       "   Finansielle institutioner (banker, pensionskasser og investeringsrådgivere, långivere etc.) skal pålægges hvert år at afrapportere, hvordan deres porteføljer, produkter og långivning bidrager til grøn omstilling af landbruget, herunder især fra animalsk til plantebaseret produktion.  \\\n",
       "0                                                  0                                                                                                                                                                                                                                             \n",
       "1                                                  1                                                                                                                                                                                                                                             \n",
       "\n",
       "   Fonden for Plantebaserede Fødevarer skal have mindst 200 mio. kr. ekstra årligt udover de eksisterende 85 mio. kr. årligt, så niveauet i højere grad svarer til omfanget af den nødvendige omstilling.  \\\n",
       "0                                                  1                                                                                                                                                        \n",
       "1                                                  2                                                                                                                                                        \n",
       "\n",
       "   Forskningsmidler indenfor fødevarer skal omlægges til i højere grad at fokusere på klimavenlige, plantebaserede fødevarer frem for animalske.  \\\n",
       "0                                                  2                                                                                               \n",
       "1                                                  2                                                                                               \n",
       "\n",
       "   Den danske animalske landbrugsproduktion står for en stor andel af den samlede danske drivhusgasudledning. Derfor skal antallet af landbrugsdyr (svin, kyllinger, køer, osv.) mindskes til halvdelen af det nuværende antal i 2030.  \\\n",
       "0                                                  1                                                                                                                                                                                     \n",
       "1                                                  2                                                                                                                                                                                     \n",
       "\n",
       "   Landmænd, der vil omlægge deres produktion til flere plantebaserede afgrøder til mennesker, skal kunne modtage gratis efteruddannelse.  \\\n",
       "0                                                  2                                                                                        \n",
       "1                                                  2                                                                                        \n",
       "\n",
       "   Støtteordninger til fødevareerhvervet skal omlægges til i højere grad at støtte klimavenlige, plantebaserede fødevarer frem for animalske.  \\\n",
       "0                                                  2                                                                                            \n",
       "1                                                  2                                                                                            \n",
       "\n",
       "   Score  \n",
       "0     22  \n",
       "1     27  \n",
       "\n",
       "[2 rows x 21 columns]"
      ]
     },
     "execution_count": 13,
     "metadata": {},
     "output_type": "execute_result"
    }
   ],
   "source": [
    "df_fv.head(2)"
   ]
  },
  {
   "cell_type": "markdown",
   "id": "6ea396cd",
   "metadata": {},
   "source": [
    "### Mindre df ændringer"
   ]
  },
  {
   "cell_type": "code",
   "execution_count": 14,
   "id": "a9d23525",
   "metadata": {
    "scrolled": false
   },
   "outputs": [],
   "source": [
    "df_fv = df_fv.rename(columns={df_fv.columns[0]:\"Storkreds\", \n",
    "                     df_fv.columns[1]:\"Parti\",\n",
    "                     df_fv.columns[2]:\"Navn\",\n",
    "                     df_fv.columns[3]:\"Kost\"})"
   ]
  },
  {
   "cell_type": "code",
   "execution_count": 15,
   "id": "e1983b1f",
   "metadata": {},
   "outputs": [
    {
     "data": {
      "text/html": [
       "<div>\n",
       "<style scoped>\n",
       "    .dataframe tbody tr th:only-of-type {\n",
       "        vertical-align: middle;\n",
       "    }\n",
       "\n",
       "    .dataframe tbody tr th {\n",
       "        vertical-align: top;\n",
       "    }\n",
       "\n",
       "    .dataframe thead th {\n",
       "        text-align: right;\n",
       "    }\n",
       "</style>\n",
       "<table border=\"1\" class=\"dataframe\">\n",
       "  <thead>\n",
       "    <tr style=\"text-align: right;\">\n",
       "      <th></th>\n",
       "      <th>Storkreds</th>\n",
       "      <th>Parti</th>\n",
       "      <th>Navn</th>\n",
       "      <th>Kost</th>\n",
       "      <th>Alle offentlige køkkener skal pålægges at reducere deres CO2-udslip fra mad og måltider med 25% i 2025.</th>\n",
       "      <th>Alle offentlige køkkener skal pålægges at reducere deres CO2-udslip fra mad og måltider med 50% i 2030.</th>\n",
       "      <th>En øremærket pulje til efteruddannelse af køkkenpersonale skal sikre, at alle madprofessionelle ved, hvordan de tilbereder klimavenlig, plantebaseret mad.</th>\n",
       "      <th>Lægeuddannelsen skal indeholde et obligatorisk fag om forebyggelse af sygdomme gennem mere plantebaseret kost.</th>\n",
       "      <th>Der skal være en plantebaseret kokkeuddannelse i Danmark, så den grønne gastronomi kan blive udviklet.</th>\n",
       "      <th>Fødevarestyrelsen skal have flere midler til at styrke deres faglige ressourcer til at rådgive om plantebaseret ernæring.</th>\n",
       "      <th>...</th>\n",
       "      <th>Momsen på frugt og grønt skal sænkes.</th>\n",
       "      <th>Der skal være en klimaafgift på alle fødevarer, der afspejler deres drivhusgasudledning.</th>\n",
       "      <th>Der skal være en klimaafgift specifikt på alle animalske fødevarer</th>\n",
       "      <th>Finansielle institutioner (banker, pensionskasser og investeringsrådgivere, långivere etc.) skal pålægges hvert år at afrapportere, hvordan deres porteføljer, produkter og långivning bidrager til grøn omstilling af landbruget, herunder især fra animalsk til plantebaseret produktion.</th>\n",
       "      <th>Fonden for Plantebaserede Fødevarer skal have mindst 200 mio. kr. ekstra årligt udover de eksisterende 85 mio. kr. årligt, så niveauet i højere grad svarer til omfanget af den nødvendige omstilling.</th>\n",
       "      <th>Forskningsmidler indenfor fødevarer skal omlægges til i højere grad at fokusere på klimavenlige, plantebaserede fødevarer frem for animalske.</th>\n",
       "      <th>Den danske animalske landbrugsproduktion står for en stor andel af den samlede danske drivhusgasudledning. Derfor skal antallet af landbrugsdyr (svin, kyllinger, køer, osv.) mindskes til halvdelen af det nuværende antal i 2030.</th>\n",
       "      <th>Landmænd, der vil omlægge deres produktion til flere plantebaserede afgrøder til mennesker, skal kunne modtage gratis efteruddannelse.</th>\n",
       "      <th>Støtteordninger til fødevareerhvervet skal omlægges til i højere grad at støtte klimavenlige, plantebaserede fødevarer frem for animalske.</th>\n",
       "      <th>Score</th>\n",
       "    </tr>\n",
       "  </thead>\n",
       "  <tbody>\n",
       "    <tr>\n",
       "      <th>0</th>\n",
       "      <td>Sjællands Storkreds</td>\n",
       "      <td>Q. Frie Grønne</td>\n",
       "      <td>Ahmet Üzümcü</td>\n",
       "      <td>Spiser vegetarisk mindst halvdelen af ugens da...</td>\n",
       "      <td>2</td>\n",
       "      <td>2</td>\n",
       "      <td>2</td>\n",
       "      <td>2</td>\n",
       "      <td>2</td>\n",
       "      <td>2</td>\n",
       "      <td>...</td>\n",
       "      <td>0</td>\n",
       "      <td>0</td>\n",
       "      <td>0</td>\n",
       "      <td>0</td>\n",
       "      <td>1</td>\n",
       "      <td>2</td>\n",
       "      <td>1</td>\n",
       "      <td>2</td>\n",
       "      <td>2</td>\n",
       "      <td>22</td>\n",
       "    </tr>\n",
       "  </tbody>\n",
       "</table>\n",
       "<p>1 rows × 21 columns</p>\n",
       "</div>"
      ],
      "text/plain": [
       "             Storkreds           Parti          Navn  \\\n",
       "0  Sjællands Storkreds  Q. Frie Grønne  Ahmet Üzümcü   \n",
       "\n",
       "                                                Kost  \\\n",
       "0  Spiser vegetarisk mindst halvdelen af ugens da...   \n",
       "\n",
       "   Alle offentlige køkkener skal pålægges at reducere deres CO2-udslip fra mad og måltider med 25% i 2025.  \\\n",
       "0                                                  2                                                         \n",
       "\n",
       "   Alle offentlige køkkener skal pålægges at reducere deres CO2-udslip fra mad og måltider med 50% i 2030.  \\\n",
       "0                                                  2                                                         \n",
       "\n",
       "   En øremærket pulje til efteruddannelse af køkkenpersonale skal sikre, at alle madprofessionelle ved, hvordan de tilbereder klimavenlig, plantebaseret mad.  \\\n",
       "0                                                  2                                                                                                            \n",
       "\n",
       "   Lægeuddannelsen skal indeholde et obligatorisk fag om forebyggelse af sygdomme gennem mere plantebaseret kost.  \\\n",
       "0                                                  2                                                                \n",
       "\n",
       "   Der skal være en plantebaseret kokkeuddannelse i Danmark, så den grønne gastronomi kan blive udviklet.  \\\n",
       "0                                                  2                                                        \n",
       "\n",
       "   Fødevarestyrelsen skal have flere midler til at styrke deres faglige ressourcer til at rådgive om plantebaseret ernæring.  \\\n",
       "0                                                  2                                                                           \n",
       "\n",
       "   ...  Momsen på frugt og grønt skal sænkes.  \\\n",
       "0  ...                                      0   \n",
       "\n",
       "   Der skal være en klimaafgift på alle fødevarer, der afspejler deres drivhusgasudledning.  \\\n",
       "0                                                  0                                          \n",
       "\n",
       "   Der skal være en klimaafgift specifikt på alle animalske fødevarer  \\\n",
       "0                                                  0                    \n",
       "\n",
       "   Finansielle institutioner (banker, pensionskasser og investeringsrådgivere, långivere etc.) skal pålægges hvert år at afrapportere, hvordan deres porteføljer, produkter og långivning bidrager til grøn omstilling af landbruget, herunder især fra animalsk til plantebaseret produktion.  \\\n",
       "0                                                  0                                                                                                                                                                                                                                             \n",
       "\n",
       "   Fonden for Plantebaserede Fødevarer skal have mindst 200 mio. kr. ekstra årligt udover de eksisterende 85 mio. kr. årligt, så niveauet i højere grad svarer til omfanget af den nødvendige omstilling.  \\\n",
       "0                                                  1                                                                                                                                                        \n",
       "\n",
       "   Forskningsmidler indenfor fødevarer skal omlægges til i højere grad at fokusere på klimavenlige, plantebaserede fødevarer frem for animalske.  \\\n",
       "0                                                  2                                                                                               \n",
       "\n",
       "   Den danske animalske landbrugsproduktion står for en stor andel af den samlede danske drivhusgasudledning. Derfor skal antallet af landbrugsdyr (svin, kyllinger, køer, osv.) mindskes til halvdelen af det nuværende antal i 2030.  \\\n",
       "0                                                  1                                                                                                                                                                                     \n",
       "\n",
       "   Landmænd, der vil omlægge deres produktion til flere plantebaserede afgrøder til mennesker, skal kunne modtage gratis efteruddannelse.  \\\n",
       "0                                                  2                                                                                        \n",
       "\n",
       "   Støtteordninger til fødevareerhvervet skal omlægges til i højere grad at støtte klimavenlige, plantebaserede fødevarer frem for animalske.  \\\n",
       "0                                                  2                                                                                            \n",
       "\n",
       "   Score  \n",
       "0     22  \n",
       "\n",
       "[1 rows x 21 columns]"
      ]
     },
     "execution_count": 15,
     "metadata": {},
     "output_type": "execute_result"
    }
   ],
   "source": [
    "df_fv.head(1)"
   ]
  },
  {
   "cell_type": "code",
   "execution_count": 16,
   "id": "09975cbb",
   "metadata": {},
   "outputs": [],
   "source": [
    "df_fv[\"Navn\"] = [name.title() for name in df_fv[\"Navn\"]]"
   ]
  },
  {
   "cell_type": "code",
   "execution_count": 17,
   "id": "3eccd3f1",
   "metadata": {},
   "outputs": [],
   "source": [
    "df_fv[\"Navn\"] = [name + \" (\" + df_fv[\"Parti\"][i][:2] + \")\" for i, name in enumerate(df_fv[\"Navn\"])]"
   ]
  },
  {
   "cell_type": "code",
   "execution_count": 18,
   "id": "c14a5900",
   "metadata": {
    "scrolled": true
   },
   "outputs": [
    {
     "data": {
      "text/html": [
       "<div>\n",
       "<style scoped>\n",
       "    .dataframe tbody tr th:only-of-type {\n",
       "        vertical-align: middle;\n",
       "    }\n",
       "\n",
       "    .dataframe tbody tr th {\n",
       "        vertical-align: top;\n",
       "    }\n",
       "\n",
       "    .dataframe thead th {\n",
       "        text-align: right;\n",
       "    }\n",
       "</style>\n",
       "<table border=\"1\" class=\"dataframe\">\n",
       "  <thead>\n",
       "    <tr style=\"text-align: right;\">\n",
       "      <th></th>\n",
       "      <th>Storkreds</th>\n",
       "      <th>Parti</th>\n",
       "      <th>Navn</th>\n",
       "      <th>Kost</th>\n",
       "      <th>Alle offentlige køkkener skal pålægges at reducere deres CO2-udslip fra mad og måltider med 25% i 2025.</th>\n",
       "      <th>Alle offentlige køkkener skal pålægges at reducere deres CO2-udslip fra mad og måltider med 50% i 2030.</th>\n",
       "      <th>En øremærket pulje til efteruddannelse af køkkenpersonale skal sikre, at alle madprofessionelle ved, hvordan de tilbereder klimavenlig, plantebaseret mad.</th>\n",
       "      <th>Lægeuddannelsen skal indeholde et obligatorisk fag om forebyggelse af sygdomme gennem mere plantebaseret kost.</th>\n",
       "      <th>Der skal være en plantebaseret kokkeuddannelse i Danmark, så den grønne gastronomi kan blive udviklet.</th>\n",
       "      <th>Fødevarestyrelsen skal have flere midler til at styrke deres faglige ressourcer til at rådgive om plantebaseret ernæring.</th>\n",
       "      <th>...</th>\n",
       "      <th>Momsen på frugt og grønt skal sænkes.</th>\n",
       "      <th>Der skal være en klimaafgift på alle fødevarer, der afspejler deres drivhusgasudledning.</th>\n",
       "      <th>Der skal være en klimaafgift specifikt på alle animalske fødevarer</th>\n",
       "      <th>Finansielle institutioner (banker, pensionskasser og investeringsrådgivere, långivere etc.) skal pålægges hvert år at afrapportere, hvordan deres porteføljer, produkter og långivning bidrager til grøn omstilling af landbruget, herunder især fra animalsk til plantebaseret produktion.</th>\n",
       "      <th>Fonden for Plantebaserede Fødevarer skal have mindst 200 mio. kr. ekstra årligt udover de eksisterende 85 mio. kr. årligt, så niveauet i højere grad svarer til omfanget af den nødvendige omstilling.</th>\n",
       "      <th>Forskningsmidler indenfor fødevarer skal omlægges til i højere grad at fokusere på klimavenlige, plantebaserede fødevarer frem for animalske.</th>\n",
       "      <th>Den danske animalske landbrugsproduktion står for en stor andel af den samlede danske drivhusgasudledning. Derfor skal antallet af landbrugsdyr (svin, kyllinger, køer, osv.) mindskes til halvdelen af det nuværende antal i 2030.</th>\n",
       "      <th>Landmænd, der vil omlægge deres produktion til flere plantebaserede afgrøder til mennesker, skal kunne modtage gratis efteruddannelse.</th>\n",
       "      <th>Støtteordninger til fødevareerhvervet skal omlægges til i højere grad at støtte klimavenlige, plantebaserede fødevarer frem for animalske.</th>\n",
       "      <th>Score</th>\n",
       "    </tr>\n",
       "  </thead>\n",
       "  <tbody>\n",
       "    <tr>\n",
       "      <th>0</th>\n",
       "      <td>Sjællands Storkreds</td>\n",
       "      <td>Q. Frie Grønne</td>\n",
       "      <td>Ahmet Üzümcü (Q.)</td>\n",
       "      <td>Spiser vegetarisk mindst halvdelen af ugens da...</td>\n",
       "      <td>2</td>\n",
       "      <td>2</td>\n",
       "      <td>2</td>\n",
       "      <td>2</td>\n",
       "      <td>2</td>\n",
       "      <td>2</td>\n",
       "      <td>...</td>\n",
       "      <td>0</td>\n",
       "      <td>0</td>\n",
       "      <td>0</td>\n",
       "      <td>0</td>\n",
       "      <td>1</td>\n",
       "      <td>2</td>\n",
       "      <td>1</td>\n",
       "      <td>2</td>\n",
       "      <td>2</td>\n",
       "      <td>22</td>\n",
       "    </tr>\n",
       "    <tr>\n",
       "      <th>1</th>\n",
       "      <td>Vestjyllands Storkreds</td>\n",
       "      <td>Ø. Enhedslisten</td>\n",
       "      <td>Aksel Rosager Johansen (Ø.)</td>\n",
       "      <td>Spiser vegetarisk mindst halvdelen af ugens da...</td>\n",
       "      <td>2</td>\n",
       "      <td>2</td>\n",
       "      <td>2</td>\n",
       "      <td>0</td>\n",
       "      <td>1</td>\n",
       "      <td>2</td>\n",
       "      <td>...</td>\n",
       "      <td>1</td>\n",
       "      <td>2</td>\n",
       "      <td>2</td>\n",
       "      <td>1</td>\n",
       "      <td>2</td>\n",
       "      <td>2</td>\n",
       "      <td>2</td>\n",
       "      <td>2</td>\n",
       "      <td>2</td>\n",
       "      <td>27</td>\n",
       "    </tr>\n",
       "    <tr>\n",
       "      <th>2</th>\n",
       "      <td>Københavns Omegns Storkreds</td>\n",
       "      <td>F. Socialistisk Folkeparti</td>\n",
       "      <td>Alexander Bruhn Skjøth (F.)</td>\n",
       "      <td>Spiser ofte kød, kødpålæg, fjerkræ og/eller fi...</td>\n",
       "      <td>0</td>\n",
       "      <td>0</td>\n",
       "      <td>0</td>\n",
       "      <td>0</td>\n",
       "      <td>0</td>\n",
       "      <td>0</td>\n",
       "      <td>...</td>\n",
       "      <td>0</td>\n",
       "      <td>0</td>\n",
       "      <td>0</td>\n",
       "      <td>0</td>\n",
       "      <td>0</td>\n",
       "      <td>0</td>\n",
       "      <td>0</td>\n",
       "      <td>1</td>\n",
       "      <td>0</td>\n",
       "      <td>1</td>\n",
       "    </tr>\n",
       "    <tr>\n",
       "      <th>3</th>\n",
       "      <td>Vestjyllands Storkreds</td>\n",
       "      <td>D. Nye Borgerlige</td>\n",
       "      <td>Allan Berg (D.)</td>\n",
       "      <td>Spiser ofte kød, kødpålæg, fjerkræ og/eller fi...</td>\n",
       "      <td>0</td>\n",
       "      <td>0</td>\n",
       "      <td>0</td>\n",
       "      <td>0</td>\n",
       "      <td>0</td>\n",
       "      <td>0</td>\n",
       "      <td>...</td>\n",
       "      <td>2</td>\n",
       "      <td>0</td>\n",
       "      <td>0</td>\n",
       "      <td>0</td>\n",
       "      <td>0</td>\n",
       "      <td>0</td>\n",
       "      <td>0</td>\n",
       "      <td>0</td>\n",
       "      <td>0</td>\n",
       "      <td>2</td>\n",
       "    </tr>\n",
       "    <tr>\n",
       "      <th>4</th>\n",
       "      <td>Nordsjællands Storkreds</td>\n",
       "      <td>Å. Alternativet</td>\n",
       "      <td>Allon Hein Sørensen (Å.)</td>\n",
       "      <td>Spiser ofte kød, kødpålæg, fjerkræ og/eller fi...</td>\n",
       "      <td>2</td>\n",
       "      <td>1</td>\n",
       "      <td>1</td>\n",
       "      <td>1</td>\n",
       "      <td>0</td>\n",
       "      <td>1</td>\n",
       "      <td>...</td>\n",
       "      <td>2</td>\n",
       "      <td>2</td>\n",
       "      <td>2</td>\n",
       "      <td>0</td>\n",
       "      <td>2</td>\n",
       "      <td>2</td>\n",
       "      <td>2</td>\n",
       "      <td>2</td>\n",
       "      <td>2</td>\n",
       "      <td>23</td>\n",
       "    </tr>\n",
       "  </tbody>\n",
       "</table>\n",
       "<p>5 rows × 21 columns</p>\n",
       "</div>"
      ],
      "text/plain": [
       "                     Storkreds                       Parti  \\\n",
       "0          Sjællands Storkreds              Q. Frie Grønne   \n",
       "1       Vestjyllands Storkreds             Ø. Enhedslisten   \n",
       "2  Københavns Omegns Storkreds  F. Socialistisk Folkeparti   \n",
       "3       Vestjyllands Storkreds           D. Nye Borgerlige   \n",
       "4      Nordsjællands Storkreds             Å. Alternativet   \n",
       "\n",
       "                          Navn  \\\n",
       "0            Ahmet Üzümcü (Q.)   \n",
       "1  Aksel Rosager Johansen (Ø.)   \n",
       "2  Alexander Bruhn Skjøth (F.)   \n",
       "3              Allan Berg (D.)   \n",
       "4     Allon Hein Sørensen (Å.)   \n",
       "\n",
       "                                                Kost  \\\n",
       "0  Spiser vegetarisk mindst halvdelen af ugens da...   \n",
       "1  Spiser vegetarisk mindst halvdelen af ugens da...   \n",
       "2  Spiser ofte kød, kødpålæg, fjerkræ og/eller fi...   \n",
       "3  Spiser ofte kød, kødpålæg, fjerkræ og/eller fi...   \n",
       "4  Spiser ofte kød, kødpålæg, fjerkræ og/eller fi...   \n",
       "\n",
       "   Alle offentlige køkkener skal pålægges at reducere deres CO2-udslip fra mad og måltider med 25% i 2025.  \\\n",
       "0                                                  2                                                         \n",
       "1                                                  2                                                         \n",
       "2                                                  0                                                         \n",
       "3                                                  0                                                         \n",
       "4                                                  2                                                         \n",
       "\n",
       "   Alle offentlige køkkener skal pålægges at reducere deres CO2-udslip fra mad og måltider med 50% i 2030.  \\\n",
       "0                                                  2                                                         \n",
       "1                                                  2                                                         \n",
       "2                                                  0                                                         \n",
       "3                                                  0                                                         \n",
       "4                                                  1                                                         \n",
       "\n",
       "   En øremærket pulje til efteruddannelse af køkkenpersonale skal sikre, at alle madprofessionelle ved, hvordan de tilbereder klimavenlig, plantebaseret mad.  \\\n",
       "0                                                  2                                                                                                            \n",
       "1                                                  2                                                                                                            \n",
       "2                                                  0                                                                                                            \n",
       "3                                                  0                                                                                                            \n",
       "4                                                  1                                                                                                            \n",
       "\n",
       "   Lægeuddannelsen skal indeholde et obligatorisk fag om forebyggelse af sygdomme gennem mere plantebaseret kost.  \\\n",
       "0                                                  2                                                                \n",
       "1                                                  0                                                                \n",
       "2                                                  0                                                                \n",
       "3                                                  0                                                                \n",
       "4                                                  1                                                                \n",
       "\n",
       "   Der skal være en plantebaseret kokkeuddannelse i Danmark, så den grønne gastronomi kan blive udviklet.  \\\n",
       "0                                                  2                                                        \n",
       "1                                                  1                                                        \n",
       "2                                                  0                                                        \n",
       "3                                                  0                                                        \n",
       "4                                                  0                                                        \n",
       "\n",
       "   Fødevarestyrelsen skal have flere midler til at styrke deres faglige ressourcer til at rådgive om plantebaseret ernæring.  \\\n",
       "0                                                  2                                                                           \n",
       "1                                                  2                                                                           \n",
       "2                                                  0                                                                           \n",
       "3                                                  0                                                                           \n",
       "4                                                  1                                                                           \n",
       "\n",
       "   ...  Momsen på frugt og grønt skal sænkes.  \\\n",
       "0  ...                                      0   \n",
       "1  ...                                      1   \n",
       "2  ...                                      0   \n",
       "3  ...                                      2   \n",
       "4  ...                                      2   \n",
       "\n",
       "   Der skal være en klimaafgift på alle fødevarer, der afspejler deres drivhusgasudledning.  \\\n",
       "0                                                  0                                          \n",
       "1                                                  2                                          \n",
       "2                                                  0                                          \n",
       "3                                                  0                                          \n",
       "4                                                  2                                          \n",
       "\n",
       "   Der skal være en klimaafgift specifikt på alle animalske fødevarer  \\\n",
       "0                                                  0                    \n",
       "1                                                  2                    \n",
       "2                                                  0                    \n",
       "3                                                  0                    \n",
       "4                                                  2                    \n",
       "\n",
       "   Finansielle institutioner (banker, pensionskasser og investeringsrådgivere, långivere etc.) skal pålægges hvert år at afrapportere, hvordan deres porteføljer, produkter og långivning bidrager til grøn omstilling af landbruget, herunder især fra animalsk til plantebaseret produktion.  \\\n",
       "0                                                  0                                                                                                                                                                                                                                             \n",
       "1                                                  1                                                                                                                                                                                                                                             \n",
       "2                                                  0                                                                                                                                                                                                                                             \n",
       "3                                                  0                                                                                                                                                                                                                                             \n",
       "4                                                  0                                                                                                                                                                                                                                             \n",
       "\n",
       "   Fonden for Plantebaserede Fødevarer skal have mindst 200 mio. kr. ekstra årligt udover de eksisterende 85 mio. kr. årligt, så niveauet i højere grad svarer til omfanget af den nødvendige omstilling.  \\\n",
       "0                                                  1                                                                                                                                                        \n",
       "1                                                  2                                                                                                                                                        \n",
       "2                                                  0                                                                                                                                                        \n",
       "3                                                  0                                                                                                                                                        \n",
       "4                                                  2                                                                                                                                                        \n",
       "\n",
       "   Forskningsmidler indenfor fødevarer skal omlægges til i højere grad at fokusere på klimavenlige, plantebaserede fødevarer frem for animalske.  \\\n",
       "0                                                  2                                                                                               \n",
       "1                                                  2                                                                                               \n",
       "2                                                  0                                                                                               \n",
       "3                                                  0                                                                                               \n",
       "4                                                  2                                                                                               \n",
       "\n",
       "   Den danske animalske landbrugsproduktion står for en stor andel af den samlede danske drivhusgasudledning. Derfor skal antallet af landbrugsdyr (svin, kyllinger, køer, osv.) mindskes til halvdelen af det nuværende antal i 2030.  \\\n",
       "0                                                  1                                                                                                                                                                                     \n",
       "1                                                  2                                                                                                                                                                                     \n",
       "2                                                  0                                                                                                                                                                                     \n",
       "3                                                  0                                                                                                                                                                                     \n",
       "4                                                  2                                                                                                                                                                                     \n",
       "\n",
       "   Landmænd, der vil omlægge deres produktion til flere plantebaserede afgrøder til mennesker, skal kunne modtage gratis efteruddannelse.  \\\n",
       "0                                                  2                                                                                        \n",
       "1                                                  2                                                                                        \n",
       "2                                                  1                                                                                        \n",
       "3                                                  0                                                                                        \n",
       "4                                                  2                                                                                        \n",
       "\n",
       "   Støtteordninger til fødevareerhvervet skal omlægges til i højere grad at støtte klimavenlige, plantebaserede fødevarer frem for animalske.  \\\n",
       "0                                                  2                                                                                            \n",
       "1                                                  2                                                                                            \n",
       "2                                                  0                                                                                            \n",
       "3                                                  0                                                                                            \n",
       "4                                                  2                                                                                            \n",
       "\n",
       "   Score  \n",
       "0     22  \n",
       "1     27  \n",
       "2      1  \n",
       "3      2  \n",
       "4     23  \n",
       "\n",
       "[5 rows x 21 columns]"
      ]
     },
     "execution_count": 18,
     "metadata": {},
     "output_type": "execute_result"
    }
   ],
   "source": [
    "df_fv.head(5)"
   ]
  },
  {
   "cell_type": "code",
   "execution_count": 19,
   "id": "9196f028",
   "metadata": {},
   "outputs": [
    {
     "data": {
      "text/html": [
       "<div>\n",
       "<style scoped>\n",
       "    .dataframe tbody tr th:only-of-type {\n",
       "        vertical-align: middle;\n",
       "    }\n",
       "\n",
       "    .dataframe tbody tr th {\n",
       "        vertical-align: top;\n",
       "    }\n",
       "\n",
       "    .dataframe thead th {\n",
       "        text-align: right;\n",
       "    }\n",
       "</style>\n",
       "<table border=\"1\" class=\"dataframe\">\n",
       "  <thead>\n",
       "    <tr style=\"text-align: right;\">\n",
       "      <th></th>\n",
       "      <th>Storkreds</th>\n",
       "      <th>Parti</th>\n",
       "      <th>Kost</th>\n",
       "      <th>Alle offentlige køkkener skal pålægges at reducere deres CO2-udslip fra mad og måltider med 25% i 2025.</th>\n",
       "      <th>Alle offentlige køkkener skal pålægges at reducere deres CO2-udslip fra mad og måltider med 50% i 2030.</th>\n",
       "      <th>En øremærket pulje til efteruddannelse af køkkenpersonale skal sikre, at alle madprofessionelle ved, hvordan de tilbereder klimavenlig, plantebaseret mad.</th>\n",
       "      <th>Lægeuddannelsen skal indeholde et obligatorisk fag om forebyggelse af sygdomme gennem mere plantebaseret kost.</th>\n",
       "      <th>Der skal være en plantebaseret kokkeuddannelse i Danmark, så den grønne gastronomi kan blive udviklet.</th>\n",
       "      <th>Fødevarestyrelsen skal have flere midler til at styrke deres faglige ressourcer til at rådgive om plantebaseret ernæring.</th>\n",
       "      <th>Det skal sikres, at myndighederne på altomkost.dk vejleder konstruktivt i plantebaseret kost, herunder også sikrer konstruktiv vejledning til veganske børnefamilier.</th>\n",
       "      <th>Momsen på frugt og grønt skal sænkes.</th>\n",
       "      <th>Der skal være en klimaafgift på alle fødevarer, der afspejler deres drivhusgasudledning.</th>\n",
       "      <th>Der skal være en klimaafgift specifikt på alle animalske fødevarer</th>\n",
       "      <th>Finansielle institutioner (banker, pensionskasser og investeringsrådgivere, långivere etc.) skal pålægges hvert år at afrapportere, hvordan deres porteføljer, produkter og långivning bidrager til grøn omstilling af landbruget, herunder især fra animalsk til plantebaseret produktion.</th>\n",
       "      <th>Fonden for Plantebaserede Fødevarer skal have mindst 200 mio. kr. ekstra årligt udover de eksisterende 85 mio. kr. årligt, så niveauet i højere grad svarer til omfanget af den nødvendige omstilling.</th>\n",
       "      <th>Forskningsmidler indenfor fødevarer skal omlægges til i højere grad at fokusere på klimavenlige, plantebaserede fødevarer frem for animalske.</th>\n",
       "      <th>Den danske animalske landbrugsproduktion står for en stor andel af den samlede danske drivhusgasudledning. Derfor skal antallet af landbrugsdyr (svin, kyllinger, køer, osv.) mindskes til halvdelen af det nuværende antal i 2030.</th>\n",
       "      <th>Landmænd, der vil omlægge deres produktion til flere plantebaserede afgrøder til mennesker, skal kunne modtage gratis efteruddannelse.</th>\n",
       "      <th>Støtteordninger til fødevareerhvervet skal omlægges til i højere grad at støtte klimavenlige, plantebaserede fødevarer frem for animalske.</th>\n",
       "      <th>Score</th>\n",
       "    </tr>\n",
       "    <tr>\n",
       "      <th>Navn</th>\n",
       "      <th></th>\n",
       "      <th></th>\n",
       "      <th></th>\n",
       "      <th></th>\n",
       "      <th></th>\n",
       "      <th></th>\n",
       "      <th></th>\n",
       "      <th></th>\n",
       "      <th></th>\n",
       "      <th></th>\n",
       "      <th></th>\n",
       "      <th></th>\n",
       "      <th></th>\n",
       "      <th></th>\n",
       "      <th></th>\n",
       "      <th></th>\n",
       "      <th></th>\n",
       "      <th></th>\n",
       "      <th></th>\n",
       "      <th></th>\n",
       "    </tr>\n",
       "  </thead>\n",
       "  <tbody>\n",
       "    <tr>\n",
       "      <th>Ahmet Üzümcü (Q.)</th>\n",
       "      <td>Sjællands Storkreds</td>\n",
       "      <td>Q. Frie Grønne</td>\n",
       "      <td>Spiser vegetarisk mindst halvdelen af ugens da...</td>\n",
       "      <td>2</td>\n",
       "      <td>2</td>\n",
       "      <td>2</td>\n",
       "      <td>2</td>\n",
       "      <td>2</td>\n",
       "      <td>2</td>\n",
       "      <td>2</td>\n",
       "      <td>0</td>\n",
       "      <td>0</td>\n",
       "      <td>0</td>\n",
       "      <td>0</td>\n",
       "      <td>1</td>\n",
       "      <td>2</td>\n",
       "      <td>1</td>\n",
       "      <td>2</td>\n",
       "      <td>2</td>\n",
       "      <td>22</td>\n",
       "    </tr>\n",
       "  </tbody>\n",
       "</table>\n",
       "</div>"
      ],
      "text/plain": [
       "                             Storkreds           Parti  \\\n",
       "Navn                                                     \n",
       "Ahmet Üzümcü (Q.)  Sjællands Storkreds  Q. Frie Grønne   \n",
       "\n",
       "                                                                Kost  \\\n",
       "Navn                                                                   \n",
       "Ahmet Üzümcü (Q.)  Spiser vegetarisk mindst halvdelen af ugens da...   \n",
       "\n",
       "                   Alle offentlige køkkener skal pålægges at reducere deres CO2-udslip fra mad og måltider med 25% i 2025.  \\\n",
       "Navn                                                                                                                         \n",
       "Ahmet Üzümcü (Q.)                                                  2                                                         \n",
       "\n",
       "                   Alle offentlige køkkener skal pålægges at reducere deres CO2-udslip fra mad og måltider med 50% i 2030.  \\\n",
       "Navn                                                                                                                         \n",
       "Ahmet Üzümcü (Q.)                                                  2                                                         \n",
       "\n",
       "                   En øremærket pulje til efteruddannelse af køkkenpersonale skal sikre, at alle madprofessionelle ved, hvordan de tilbereder klimavenlig, plantebaseret mad.  \\\n",
       "Navn                                                                                                                                                                            \n",
       "Ahmet Üzümcü (Q.)                                                  2                                                                                                            \n",
       "\n",
       "                   Lægeuddannelsen skal indeholde et obligatorisk fag om forebyggelse af sygdomme gennem mere plantebaseret kost.  \\\n",
       "Navn                                                                                                                                \n",
       "Ahmet Üzümcü (Q.)                                                  2                                                                \n",
       "\n",
       "                   Der skal være en plantebaseret kokkeuddannelse i Danmark, så den grønne gastronomi kan blive udviklet.  \\\n",
       "Navn                                                                                                                        \n",
       "Ahmet Üzümcü (Q.)                                                  2                                                        \n",
       "\n",
       "                   Fødevarestyrelsen skal have flere midler til at styrke deres faglige ressourcer til at rådgive om plantebaseret ernæring.  \\\n",
       "Navn                                                                                                                                           \n",
       "Ahmet Üzümcü (Q.)                                                  2                                                                           \n",
       "\n",
       "                   Det skal sikres, at myndighederne på altomkost.dk vejleder konstruktivt i plantebaseret kost, herunder også sikrer konstruktiv vejledning til veganske børnefamilier.  \\\n",
       "Navn                                                                                                                                                                                       \n",
       "Ahmet Üzümcü (Q.)                                                  2                                                                                                                       \n",
       "\n",
       "                   Momsen på frugt og grønt skal sænkes.  \\\n",
       "Navn                                                       \n",
       "Ahmet Üzümcü (Q.)                                      0   \n",
       "\n",
       "                   Der skal være en klimaafgift på alle fødevarer, der afspejler deres drivhusgasudledning.  \\\n",
       "Navn                                                                                                          \n",
       "Ahmet Üzümcü (Q.)                                                  0                                          \n",
       "\n",
       "                   Der skal være en klimaafgift specifikt på alle animalske fødevarer  \\\n",
       "Navn                                                                                    \n",
       "Ahmet Üzümcü (Q.)                                                  0                    \n",
       "\n",
       "                   Finansielle institutioner (banker, pensionskasser og investeringsrådgivere, långivere etc.) skal pålægges hvert år at afrapportere, hvordan deres porteføljer, produkter og långivning bidrager til grøn omstilling af landbruget, herunder især fra animalsk til plantebaseret produktion.  \\\n",
       "Navn                                                                                                                                                                                                                                                                                                             \n",
       "Ahmet Üzümcü (Q.)                                                  0                                                                                                                                                                                                                                             \n",
       "\n",
       "                   Fonden for Plantebaserede Fødevarer skal have mindst 200 mio. kr. ekstra årligt udover de eksisterende 85 mio. kr. årligt, så niveauet i højere grad svarer til omfanget af den nødvendige omstilling.  \\\n",
       "Navn                                                                                                                                                                                                                        \n",
       "Ahmet Üzümcü (Q.)                                                  1                                                                                                                                                        \n",
       "\n",
       "                   Forskningsmidler indenfor fødevarer skal omlægges til i højere grad at fokusere på klimavenlige, plantebaserede fødevarer frem for animalske.  \\\n",
       "Navn                                                                                                                                                               \n",
       "Ahmet Üzümcü (Q.)                                                  2                                                                                               \n",
       "\n",
       "                   Den danske animalske landbrugsproduktion står for en stor andel af den samlede danske drivhusgasudledning. Derfor skal antallet af landbrugsdyr (svin, kyllinger, køer, osv.) mindskes til halvdelen af det nuværende antal i 2030.  \\\n",
       "Navn                                                                                                                                                                                                                                                     \n",
       "Ahmet Üzümcü (Q.)                                                  1                                                                                                                                                                                     \n",
       "\n",
       "                   Landmænd, der vil omlægge deres produktion til flere plantebaserede afgrøder til mennesker, skal kunne modtage gratis efteruddannelse.  \\\n",
       "Navn                                                                                                                                                        \n",
       "Ahmet Üzümcü (Q.)                                                  2                                                                                        \n",
       "\n",
       "                   Støtteordninger til fødevareerhvervet skal omlægges til i højere grad at støtte klimavenlige, plantebaserede fødevarer frem for animalske.  \\\n",
       "Navn                                                                                                                                                            \n",
       "Ahmet Üzümcü (Q.)                                                  2                                                                                            \n",
       "\n",
       "                   Score  \n",
       "Navn                      \n",
       "Ahmet Üzümcü (Q.)     22  "
      ]
     },
     "execution_count": 19,
     "metadata": {},
     "output_type": "execute_result"
    }
   ],
   "source": [
    "df_fvnameIndex= df_fv.set_index(\"Navn\")\n",
    "df_fvnameIndex.head(1)"
   ]
  },
  {
   "cell_type": "code",
   "execution_count": 20,
   "id": "05b22c3b",
   "metadata": {},
   "outputs": [],
   "source": [
    "kostValues = df_fvnameIndex.iloc[:,2].unique()"
   ]
  },
  {
   "cell_type": "code",
   "execution_count": 21,
   "id": "a4930052",
   "metadata": {},
   "outputs": [
    {
     "data": {
      "text/plain": [
       "array(['Spiser vegetarisk mindst halvdelen af ugens dage, de øvrige dage kød, fjerkræ og/eller fisk',\n",
       "       'Spiser ofte kød, kødpålæg, fjerkræ og/eller fisk (hver dag eller næsten hver dag)',\n",
       "       0,\n",
       "       'Spiser fisk, men derudover kun vegetarisk, aldrig kød, kødpålæg og fjerkræ',\n",
       "       'Spiser kun vegansk',\n",
       "       'Spiser kun vegetarisk, sjældent mælkeprodukter og æg',\n",
       "       'Ønsker ikke at svare',\n",
       "       'Spiser kun vegetarisk, aldrig kød, kødpålæg, fjerkræ og fisk'],\n",
       "      dtype=object)"
      ]
     },
     "execution_count": 21,
     "metadata": {},
     "output_type": "execute_result"
    }
   ],
   "source": [
    "kostValues"
   ]
  },
  {
   "cell_type": "code",
   "execution_count": 22,
   "id": "ab58fb2d",
   "metadata": {},
   "outputs": [],
   "source": [
    "veganGreen = 'rgb(16,114,60)' # Light-green for the vegan color option !!! Change for real color\n",
    "veggieGreen = 'rgb(140,190,84)' # Dark-green for the vegetarian color option !!! Change for real color\n",
    "veggieGreenLight = \"rgb(180, 240, 120)\"\n",
    "\n",
    "kost_colorOLD = {\"Kødspiser\":\"red\", \"Fleksitar\":\"turquoise\",\"Pescetar\":\"blue\", \"Vegetar\":veggieGreen,\"Veganer\":veganGreen\n",
    "              ,\"Ønsker ikke at svare\" : \"grey\"}\n",
    "\n",
    "kost_color = {kostValues[1]: \"red\", \n",
    "             kostValues[0]:\"turquoise\",\n",
    "             kostValues[3]:\"blue\", \n",
    "             kostValues[5]: veggieGreenLight,\n",
    "             kostValues[7]: veggieGreen,\n",
    "             kostValues[4]:veganGreen, \n",
    "             kostValues[6]: \"grey\",\n",
    "            0:\"grey\"}"
   ]
  },
  {
   "cell_type": "code",
   "execution_count": 179,
   "id": "c107d043",
   "metadata": {},
   "outputs": [],
   "source": [
    "# df_fvnameIndex[\"Kost\"] = [kost_dict[x] for x in df_fvnameIndex[\"Kost\"]]"
   ]
  },
  {
   "cell_type": "code",
   "execution_count": 180,
   "id": "97285452",
   "metadata": {},
   "outputs": [
    {
     "data": {
      "text/html": [
       "<div>\n",
       "<style scoped>\n",
       "    .dataframe tbody tr th:only-of-type {\n",
       "        vertical-align: middle;\n",
       "    }\n",
       "\n",
       "    .dataframe tbody tr th {\n",
       "        vertical-align: top;\n",
       "    }\n",
       "\n",
       "    .dataframe thead th {\n",
       "        text-align: right;\n",
       "    }\n",
       "</style>\n",
       "<table border=\"1\" class=\"dataframe\">\n",
       "  <thead>\n",
       "    <tr style=\"text-align: right;\">\n",
       "      <th></th>\n",
       "      <th>Storkreds</th>\n",
       "      <th>Parti</th>\n",
       "      <th>Kost</th>\n",
       "      <th>Alle offentlige køkkener skal pålægges at reducere deres CO2-udslip fra mad og måltider med 25% i 2025.</th>\n",
       "      <th>Alle offentlige køkkener skal pålægges at reducere deres CO2-udslip fra mad og måltider med 50% i 2030.</th>\n",
       "      <th>En øremærket pulje til efteruddannelse af køkkenpersonale skal sikre, at alle madprofessionelle ved, hvordan de tilbereder klimavenlig, plantebaseret mad.</th>\n",
       "      <th>Lægeuddannelsen skal indeholde et obligatorisk fag om forebyggelse af sygdomme gennem mere plantebaseret kost.</th>\n",
       "      <th>Der skal være en plantebaseret kokkeuddannelse i Danmark, så den grønne gastronomi kan blive udviklet.</th>\n",
       "      <th>Fødevarestyrelsen skal have flere midler til at styrke deres faglige ressourcer til at rådgive om plantebaseret ernæring.</th>\n",
       "      <th>Det skal sikres, at myndighederne på altomkost.dk vejleder konstruktivt i plantebaseret kost, herunder også sikrer konstruktiv vejledning til veganske børnefamilier.</th>\n",
       "      <th>Momsen på frugt og grønt skal sænkes.</th>\n",
       "      <th>Der skal være en klimaafgift på alle fødevarer, der afspejler deres drivhusgasudledning.</th>\n",
       "      <th>Der skal være en klimaafgift specifikt på alle animalske fødevarer</th>\n",
       "      <th>Finansielle institutioner (banker, pensionskasser og investeringsrådgivere, långivere etc.) skal pålægges hvert år at afrapportere, hvordan deres porteføljer, produkter og långivning bidrager til grøn omstilling af landbruget, herunder især fra animalsk til plantebaseret produktion.</th>\n",
       "      <th>Fonden for Plantebaserede Fødevarer skal have mindst 200 mio. kr. ekstra årligt udover de eksisterende 85 mio. kr. årligt, så niveauet i højere grad svarer til omfanget af den nødvendige omstilling.</th>\n",
       "      <th>Forskningsmidler indenfor fødevarer skal omlægges til i højere grad at fokusere på klimavenlige, plantebaserede fødevarer frem for animalske.</th>\n",
       "      <th>Den danske animalske landbrugsproduktion står for en stor andel af den samlede danske drivhusgasudledning. Derfor skal antallet af landbrugsdyr (svin, kyllinger, køer, osv.) mindskes til halvdelen af det nuværende antal i 2030.</th>\n",
       "      <th>Landmænd, der vil omlægge deres produktion til flere plantebaserede afgrøder til mennesker, skal kunne modtage gratis efteruddannelse.</th>\n",
       "      <th>Støtteordninger til fødevareerhvervet skal omlægges til i højere grad at støtte klimavenlige, plantebaserede fødevarer frem for animalske.</th>\n",
       "      <th>Score</th>\n",
       "    </tr>\n",
       "    <tr>\n",
       "      <th>Navn</th>\n",
       "      <th></th>\n",
       "      <th></th>\n",
       "      <th></th>\n",
       "      <th></th>\n",
       "      <th></th>\n",
       "      <th></th>\n",
       "      <th></th>\n",
       "      <th></th>\n",
       "      <th></th>\n",
       "      <th></th>\n",
       "      <th></th>\n",
       "      <th></th>\n",
       "      <th></th>\n",
       "      <th></th>\n",
       "      <th></th>\n",
       "      <th></th>\n",
       "      <th></th>\n",
       "      <th></th>\n",
       "      <th></th>\n",
       "      <th></th>\n",
       "    </tr>\n",
       "  </thead>\n",
       "  <tbody>\n",
       "    <tr>\n",
       "      <th>Ahmet Üzümcü (Q.)</th>\n",
       "      <td>Sjællands Storkreds</td>\n",
       "      <td>Q. Frie Grønne</td>\n",
       "      <td>Fleksitar</td>\n",
       "      <td>2</td>\n",
       "      <td>2</td>\n",
       "      <td>2</td>\n",
       "      <td>2</td>\n",
       "      <td>2</td>\n",
       "      <td>2</td>\n",
       "      <td>2</td>\n",
       "      <td>0</td>\n",
       "      <td>0</td>\n",
       "      <td>0</td>\n",
       "      <td>0</td>\n",
       "      <td>1</td>\n",
       "      <td>2</td>\n",
       "      <td>1</td>\n",
       "      <td>2</td>\n",
       "      <td>2</td>\n",
       "      <td>22</td>\n",
       "    </tr>\n",
       "  </tbody>\n",
       "</table>\n",
       "</div>"
      ],
      "text/plain": [
       "                             Storkreds           Parti       Kost  \\\n",
       "Navn                                                                \n",
       "Ahmet Üzümcü (Q.)  Sjællands Storkreds  Q. Frie Grønne  Fleksitar   \n",
       "\n",
       "                   Alle offentlige køkkener skal pålægges at reducere deres CO2-udslip fra mad og måltider med 25% i 2025.  \\\n",
       "Navn                                                                                                                         \n",
       "Ahmet Üzümcü (Q.)                                                  2                                                         \n",
       "\n",
       "                   Alle offentlige køkkener skal pålægges at reducere deres CO2-udslip fra mad og måltider med 50% i 2030.  \\\n",
       "Navn                                                                                                                         \n",
       "Ahmet Üzümcü (Q.)                                                  2                                                         \n",
       "\n",
       "                   En øremærket pulje til efteruddannelse af køkkenpersonale skal sikre, at alle madprofessionelle ved, hvordan de tilbereder klimavenlig, plantebaseret mad.  \\\n",
       "Navn                                                                                                                                                                            \n",
       "Ahmet Üzümcü (Q.)                                                  2                                                                                                            \n",
       "\n",
       "                   Lægeuddannelsen skal indeholde et obligatorisk fag om forebyggelse af sygdomme gennem mere plantebaseret kost.  \\\n",
       "Navn                                                                                                                                \n",
       "Ahmet Üzümcü (Q.)                                                  2                                                                \n",
       "\n",
       "                   Der skal være en plantebaseret kokkeuddannelse i Danmark, så den grønne gastronomi kan blive udviklet.  \\\n",
       "Navn                                                                                                                        \n",
       "Ahmet Üzümcü (Q.)                                                  2                                                        \n",
       "\n",
       "                   Fødevarestyrelsen skal have flere midler til at styrke deres faglige ressourcer til at rådgive om plantebaseret ernæring.  \\\n",
       "Navn                                                                                                                                           \n",
       "Ahmet Üzümcü (Q.)                                                  2                                                                           \n",
       "\n",
       "                   Det skal sikres, at myndighederne på altomkost.dk vejleder konstruktivt i plantebaseret kost, herunder også sikrer konstruktiv vejledning til veganske børnefamilier.  \\\n",
       "Navn                                                                                                                                                                                       \n",
       "Ahmet Üzümcü (Q.)                                                  2                                                                                                                       \n",
       "\n",
       "                   Momsen på frugt og grønt skal sænkes.  \\\n",
       "Navn                                                       \n",
       "Ahmet Üzümcü (Q.)                                      0   \n",
       "\n",
       "                   Der skal være en klimaafgift på alle fødevarer, der afspejler deres drivhusgasudledning.  \\\n",
       "Navn                                                                                                          \n",
       "Ahmet Üzümcü (Q.)                                                  0                                          \n",
       "\n",
       "                   Der skal være en klimaafgift specifikt på alle animalske fødevarer  \\\n",
       "Navn                                                                                    \n",
       "Ahmet Üzümcü (Q.)                                                  0                    \n",
       "\n",
       "                   Finansielle institutioner (banker, pensionskasser og investeringsrådgivere, långivere etc.) skal pålægges hvert år at afrapportere, hvordan deres porteføljer, produkter og långivning bidrager til grøn omstilling af landbruget, herunder især fra animalsk til plantebaseret produktion.  \\\n",
       "Navn                                                                                                                                                                                                                                                                                                             \n",
       "Ahmet Üzümcü (Q.)                                                  0                                                                                                                                                                                                                                             \n",
       "\n",
       "                   Fonden for Plantebaserede Fødevarer skal have mindst 200 mio. kr. ekstra årligt udover de eksisterende 85 mio. kr. årligt, så niveauet i højere grad svarer til omfanget af den nødvendige omstilling.  \\\n",
       "Navn                                                                                                                                                                                                                        \n",
       "Ahmet Üzümcü (Q.)                                                  1                                                                                                                                                        \n",
       "\n",
       "                   Forskningsmidler indenfor fødevarer skal omlægges til i højere grad at fokusere på klimavenlige, plantebaserede fødevarer frem for animalske.  \\\n",
       "Navn                                                                                                                                                               \n",
       "Ahmet Üzümcü (Q.)                                                  2                                                                                               \n",
       "\n",
       "                   Den danske animalske landbrugsproduktion står for en stor andel af den samlede danske drivhusgasudledning. Derfor skal antallet af landbrugsdyr (svin, kyllinger, køer, osv.) mindskes til halvdelen af det nuværende antal i 2030.  \\\n",
       "Navn                                                                                                                                                                                                                                                     \n",
       "Ahmet Üzümcü (Q.)                                                  1                                                                                                                                                                                     \n",
       "\n",
       "                   Landmænd, der vil omlægge deres produktion til flere plantebaserede afgrøder til mennesker, skal kunne modtage gratis efteruddannelse.  \\\n",
       "Navn                                                                                                                                                        \n",
       "Ahmet Üzümcü (Q.)                                                  2                                                                                        \n",
       "\n",
       "                   Støtteordninger til fødevareerhvervet skal omlægges til i højere grad at støtte klimavenlige, plantebaserede fødevarer frem for animalske.  \\\n",
       "Navn                                                                                                                                                            \n",
       "Ahmet Üzümcü (Q.)                                                  2                                                                                            \n",
       "\n",
       "                   Score  \n",
       "Navn                      \n",
       "Ahmet Üzümcü (Q.)     22  "
      ]
     },
     "execution_count": 180,
     "metadata": {},
     "output_type": "execute_result"
    }
   ],
   "source": [
    "df_fvnameIndex.head(1)"
   ]
  },
  {
   "cell_type": "code",
   "execution_count": 23,
   "id": "f8f5c665",
   "metadata": {},
   "outputs": [],
   "source": [
    "# # kost_dict = {5: \"Kødspiser\", 4:\"Fleksitar\",3:\"Pescetar\", 2: \"Vegetar\",1:\"Veganer\", 6: \"Ønsker ikke at svare\"}\n",
    "# veganGreen = 'rgb(16,114,60)' # Light-green for the vegan color option !!! Change for real color\n",
    "# veggieGreen = 'rgb(140,190,84)' # Dark-green for the vegetarian color option !!! Change for real color\n",
    "# kost_color = {\"Kødspiser\":\"red\", \"Fleksitar\":\"turquoise\",\"Pescetar\":\"blue\", \"Vegetar\":veggieGreen,\"Veganer\":veganGreen\n",
    "#               ,\"Ønsker ikke at svare\" : \"grey\"}\n",
    "# df_fvnameIndex[\"Kost\"] = [kost_dict[x] for x in df_fvnameIndex[\"Kost\"]]\n",
    "df_fvnameIndex[\"Kost_color\"] = [kost_color[x] for x in df_fvnameIndex[\"Kost\"]]"
   ]
  },
  {
   "cell_type": "code",
   "execution_count": 24,
   "id": "c31a2033",
   "metadata": {},
   "outputs": [
    {
     "data": {
      "text/html": [
       "<div>\n",
       "<style scoped>\n",
       "    .dataframe tbody tr th:only-of-type {\n",
       "        vertical-align: middle;\n",
       "    }\n",
       "\n",
       "    .dataframe tbody tr th {\n",
       "        vertical-align: top;\n",
       "    }\n",
       "\n",
       "    .dataframe thead th {\n",
       "        text-align: right;\n",
       "    }\n",
       "</style>\n",
       "<table border=\"1\" class=\"dataframe\">\n",
       "  <thead>\n",
       "    <tr style=\"text-align: right;\">\n",
       "      <th></th>\n",
       "      <th>Storkreds</th>\n",
       "      <th>Parti</th>\n",
       "      <th>Kost</th>\n",
       "      <th>Alle offentlige køkkener skal pålægges at reducere deres CO2-udslip fra mad og måltider med 25% i 2025.</th>\n",
       "      <th>Alle offentlige køkkener skal pålægges at reducere deres CO2-udslip fra mad og måltider med 50% i 2030.</th>\n",
       "      <th>En øremærket pulje til efteruddannelse af køkkenpersonale skal sikre, at alle madprofessionelle ved, hvordan de tilbereder klimavenlig, plantebaseret mad.</th>\n",
       "      <th>Lægeuddannelsen skal indeholde et obligatorisk fag om forebyggelse af sygdomme gennem mere plantebaseret kost.</th>\n",
       "      <th>Der skal være en plantebaseret kokkeuddannelse i Danmark, så den grønne gastronomi kan blive udviklet.</th>\n",
       "      <th>Fødevarestyrelsen skal have flere midler til at styrke deres faglige ressourcer til at rådgive om plantebaseret ernæring.</th>\n",
       "      <th>Det skal sikres, at myndighederne på altomkost.dk vejleder konstruktivt i plantebaseret kost, herunder også sikrer konstruktiv vejledning til veganske børnefamilier.</th>\n",
       "      <th>...</th>\n",
       "      <th>Der skal være en klimaafgift på alle fødevarer, der afspejler deres drivhusgasudledning.</th>\n",
       "      <th>Der skal være en klimaafgift specifikt på alle animalske fødevarer</th>\n",
       "      <th>Finansielle institutioner (banker, pensionskasser og investeringsrådgivere, långivere etc.) skal pålægges hvert år at afrapportere, hvordan deres porteføljer, produkter og långivning bidrager til grøn omstilling af landbruget, herunder især fra animalsk til plantebaseret produktion.</th>\n",
       "      <th>Fonden for Plantebaserede Fødevarer skal have mindst 200 mio. kr. ekstra årligt udover de eksisterende 85 mio. kr. årligt, så niveauet i højere grad svarer til omfanget af den nødvendige omstilling.</th>\n",
       "      <th>Forskningsmidler indenfor fødevarer skal omlægges til i højere grad at fokusere på klimavenlige, plantebaserede fødevarer frem for animalske.</th>\n",
       "      <th>Den danske animalske landbrugsproduktion står for en stor andel af den samlede danske drivhusgasudledning. Derfor skal antallet af landbrugsdyr (svin, kyllinger, køer, osv.) mindskes til halvdelen af det nuværende antal i 2030.</th>\n",
       "      <th>Landmænd, der vil omlægge deres produktion til flere plantebaserede afgrøder til mennesker, skal kunne modtage gratis efteruddannelse.</th>\n",
       "      <th>Støtteordninger til fødevareerhvervet skal omlægges til i højere grad at støtte klimavenlige, plantebaserede fødevarer frem for animalske.</th>\n",
       "      <th>Score</th>\n",
       "      <th>Kost_color</th>\n",
       "    </tr>\n",
       "    <tr>\n",
       "      <th>Navn</th>\n",
       "      <th></th>\n",
       "      <th></th>\n",
       "      <th></th>\n",
       "      <th></th>\n",
       "      <th></th>\n",
       "      <th></th>\n",
       "      <th></th>\n",
       "      <th></th>\n",
       "      <th></th>\n",
       "      <th></th>\n",
       "      <th></th>\n",
       "      <th></th>\n",
       "      <th></th>\n",
       "      <th></th>\n",
       "      <th></th>\n",
       "      <th></th>\n",
       "      <th></th>\n",
       "      <th></th>\n",
       "      <th></th>\n",
       "      <th></th>\n",
       "      <th></th>\n",
       "    </tr>\n",
       "  </thead>\n",
       "  <tbody>\n",
       "    <tr>\n",
       "      <th>Ahmet Üzümcü (Q.)</th>\n",
       "      <td>Sjællands Storkreds</td>\n",
       "      <td>Q. Frie Grønne</td>\n",
       "      <td>Spiser vegetarisk mindst halvdelen af ugens da...</td>\n",
       "      <td>2</td>\n",
       "      <td>2</td>\n",
       "      <td>2</td>\n",
       "      <td>2</td>\n",
       "      <td>2</td>\n",
       "      <td>2</td>\n",
       "      <td>2</td>\n",
       "      <td>...</td>\n",
       "      <td>0</td>\n",
       "      <td>0</td>\n",
       "      <td>0</td>\n",
       "      <td>1</td>\n",
       "      <td>2</td>\n",
       "      <td>1</td>\n",
       "      <td>2</td>\n",
       "      <td>2</td>\n",
       "      <td>22</td>\n",
       "      <td>turquoise</td>\n",
       "    </tr>\n",
       "    <tr>\n",
       "      <th>Aksel Rosager Johansen (Ø.)</th>\n",
       "      <td>Vestjyllands Storkreds</td>\n",
       "      <td>Ø. Enhedslisten</td>\n",
       "      <td>Spiser vegetarisk mindst halvdelen af ugens da...</td>\n",
       "      <td>2</td>\n",
       "      <td>2</td>\n",
       "      <td>2</td>\n",
       "      <td>0</td>\n",
       "      <td>1</td>\n",
       "      <td>2</td>\n",
       "      <td>2</td>\n",
       "      <td>...</td>\n",
       "      <td>2</td>\n",
       "      <td>2</td>\n",
       "      <td>1</td>\n",
       "      <td>2</td>\n",
       "      <td>2</td>\n",
       "      <td>2</td>\n",
       "      <td>2</td>\n",
       "      <td>2</td>\n",
       "      <td>27</td>\n",
       "      <td>turquoise</td>\n",
       "    </tr>\n",
       "    <tr>\n",
       "      <th>Alexander Bruhn Skjøth (F.)</th>\n",
       "      <td>Københavns Omegns Storkreds</td>\n",
       "      <td>F. Socialistisk Folkeparti</td>\n",
       "      <td>Spiser ofte kød, kødpålæg, fjerkræ og/eller fi...</td>\n",
       "      <td>0</td>\n",
       "      <td>0</td>\n",
       "      <td>0</td>\n",
       "      <td>0</td>\n",
       "      <td>0</td>\n",
       "      <td>0</td>\n",
       "      <td>0</td>\n",
       "      <td>...</td>\n",
       "      <td>0</td>\n",
       "      <td>0</td>\n",
       "      <td>0</td>\n",
       "      <td>0</td>\n",
       "      <td>0</td>\n",
       "      <td>0</td>\n",
       "      <td>1</td>\n",
       "      <td>0</td>\n",
       "      <td>1</td>\n",
       "      <td>red</td>\n",
       "    </tr>\n",
       "    <tr>\n",
       "      <th>Allan Berg (D.)</th>\n",
       "      <td>Vestjyllands Storkreds</td>\n",
       "      <td>D. Nye Borgerlige</td>\n",
       "      <td>Spiser ofte kød, kødpålæg, fjerkræ og/eller fi...</td>\n",
       "      <td>0</td>\n",
       "      <td>0</td>\n",
       "      <td>0</td>\n",
       "      <td>0</td>\n",
       "      <td>0</td>\n",
       "      <td>0</td>\n",
       "      <td>0</td>\n",
       "      <td>...</td>\n",
       "      <td>0</td>\n",
       "      <td>0</td>\n",
       "      <td>0</td>\n",
       "      <td>0</td>\n",
       "      <td>0</td>\n",
       "      <td>0</td>\n",
       "      <td>0</td>\n",
       "      <td>0</td>\n",
       "      <td>2</td>\n",
       "      <td>red</td>\n",
       "    </tr>\n",
       "    <tr>\n",
       "      <th>Allon Hein Sørensen (Å.)</th>\n",
       "      <td>Nordsjællands Storkreds</td>\n",
       "      <td>Å. Alternativet</td>\n",
       "      <td>Spiser ofte kød, kødpålæg, fjerkræ og/eller fi...</td>\n",
       "      <td>2</td>\n",
       "      <td>1</td>\n",
       "      <td>1</td>\n",
       "      <td>1</td>\n",
       "      <td>0</td>\n",
       "      <td>1</td>\n",
       "      <td>1</td>\n",
       "      <td>...</td>\n",
       "      <td>2</td>\n",
       "      <td>2</td>\n",
       "      <td>0</td>\n",
       "      <td>2</td>\n",
       "      <td>2</td>\n",
       "      <td>2</td>\n",
       "      <td>2</td>\n",
       "      <td>2</td>\n",
       "      <td>23</td>\n",
       "      <td>red</td>\n",
       "    </tr>\n",
       "  </tbody>\n",
       "</table>\n",
       "<p>5 rows × 21 columns</p>\n",
       "</div>"
      ],
      "text/plain": [
       "                                               Storkreds  \\\n",
       "Navn                                                       \n",
       "Ahmet Üzümcü (Q.)                    Sjællands Storkreds   \n",
       "Aksel Rosager Johansen (Ø.)       Vestjyllands Storkreds   \n",
       "Alexander Bruhn Skjøth (F.)  Københavns Omegns Storkreds   \n",
       "Allan Berg (D.)                   Vestjyllands Storkreds   \n",
       "Allon Hein Sørensen (Å.)         Nordsjællands Storkreds   \n",
       "\n",
       "                                                  Parti  \\\n",
       "Navn                                                      \n",
       "Ahmet Üzümcü (Q.)                        Q. Frie Grønne   \n",
       "Aksel Rosager Johansen (Ø.)             Ø. Enhedslisten   \n",
       "Alexander Bruhn Skjøth (F.)  F. Socialistisk Folkeparti   \n",
       "Allan Berg (D.)                       D. Nye Borgerlige   \n",
       "Allon Hein Sørensen (Å.)                Å. Alternativet   \n",
       "\n",
       "                                                                          Kost  \\\n",
       "Navn                                                                             \n",
       "Ahmet Üzümcü (Q.)            Spiser vegetarisk mindst halvdelen af ugens da...   \n",
       "Aksel Rosager Johansen (Ø.)  Spiser vegetarisk mindst halvdelen af ugens da...   \n",
       "Alexander Bruhn Skjøth (F.)  Spiser ofte kød, kødpålæg, fjerkræ og/eller fi...   \n",
       "Allan Berg (D.)              Spiser ofte kød, kødpålæg, fjerkræ og/eller fi...   \n",
       "Allon Hein Sørensen (Å.)     Spiser ofte kød, kødpålæg, fjerkræ og/eller fi...   \n",
       "\n",
       "                             Alle offentlige køkkener skal pålægges at reducere deres CO2-udslip fra mad og måltider med 25% i 2025.  \\\n",
       "Navn                                                                                                                                   \n",
       "Ahmet Üzümcü (Q.)                                                            2                                                         \n",
       "Aksel Rosager Johansen (Ø.)                                                  2                                                         \n",
       "Alexander Bruhn Skjøth (F.)                                                  0                                                         \n",
       "Allan Berg (D.)                                                              0                                                         \n",
       "Allon Hein Sørensen (Å.)                                                     2                                                         \n",
       "\n",
       "                             Alle offentlige køkkener skal pålægges at reducere deres CO2-udslip fra mad og måltider med 50% i 2030.  \\\n",
       "Navn                                                                                                                                   \n",
       "Ahmet Üzümcü (Q.)                                                            2                                                         \n",
       "Aksel Rosager Johansen (Ø.)                                                  2                                                         \n",
       "Alexander Bruhn Skjøth (F.)                                                  0                                                         \n",
       "Allan Berg (D.)                                                              0                                                         \n",
       "Allon Hein Sørensen (Å.)                                                     1                                                         \n",
       "\n",
       "                             En øremærket pulje til efteruddannelse af køkkenpersonale skal sikre, at alle madprofessionelle ved, hvordan de tilbereder klimavenlig, plantebaseret mad.  \\\n",
       "Navn                                                                                                                                                                                      \n",
       "Ahmet Üzümcü (Q.)                                                            2                                                                                                            \n",
       "Aksel Rosager Johansen (Ø.)                                                  2                                                                                                            \n",
       "Alexander Bruhn Skjøth (F.)                                                  0                                                                                                            \n",
       "Allan Berg (D.)                                                              0                                                                                                            \n",
       "Allon Hein Sørensen (Å.)                                                     1                                                                                                            \n",
       "\n",
       "                             Lægeuddannelsen skal indeholde et obligatorisk fag om forebyggelse af sygdomme gennem mere plantebaseret kost.  \\\n",
       "Navn                                                                                                                                          \n",
       "Ahmet Üzümcü (Q.)                                                            2                                                                \n",
       "Aksel Rosager Johansen (Ø.)                                                  0                                                                \n",
       "Alexander Bruhn Skjøth (F.)                                                  0                                                                \n",
       "Allan Berg (D.)                                                              0                                                                \n",
       "Allon Hein Sørensen (Å.)                                                     1                                                                \n",
       "\n",
       "                             Der skal være en plantebaseret kokkeuddannelse i Danmark, så den grønne gastronomi kan blive udviklet.  \\\n",
       "Navn                                                                                                                                  \n",
       "Ahmet Üzümcü (Q.)                                                            2                                                        \n",
       "Aksel Rosager Johansen (Ø.)                                                  1                                                        \n",
       "Alexander Bruhn Skjøth (F.)                                                  0                                                        \n",
       "Allan Berg (D.)                                                              0                                                        \n",
       "Allon Hein Sørensen (Å.)                                                     0                                                        \n",
       "\n",
       "                             Fødevarestyrelsen skal have flere midler til at styrke deres faglige ressourcer til at rådgive om plantebaseret ernæring.  \\\n",
       "Navn                                                                                                                                                     \n",
       "Ahmet Üzümcü (Q.)                                                            2                                                                           \n",
       "Aksel Rosager Johansen (Ø.)                                                  2                                                                           \n",
       "Alexander Bruhn Skjøth (F.)                                                  0                                                                           \n",
       "Allan Berg (D.)                                                              0                                                                           \n",
       "Allon Hein Sørensen (Å.)                                                     1                                                                           \n",
       "\n",
       "                             Det skal sikres, at myndighederne på altomkost.dk vejleder konstruktivt i plantebaseret kost, herunder også sikrer konstruktiv vejledning til veganske børnefamilier.  \\\n",
       "Navn                                                                                                                                                                                                 \n",
       "Ahmet Üzümcü (Q.)                                                            2                                                                                                                       \n",
       "Aksel Rosager Johansen (Ø.)                                                  2                                                                                                                       \n",
       "Alexander Bruhn Skjøth (F.)                                                  0                                                                                                                       \n",
       "Allan Berg (D.)                                                              0                                                                                                                       \n",
       "Allon Hein Sørensen (Å.)                                                     1                                                                                                                       \n",
       "\n",
       "                             ...  \\\n",
       "Navn                         ...   \n",
       "Ahmet Üzümcü (Q.)            ...   \n",
       "Aksel Rosager Johansen (Ø.)  ...   \n",
       "Alexander Bruhn Skjøth (F.)  ...   \n",
       "Allan Berg (D.)              ...   \n",
       "Allon Hein Sørensen (Å.)     ...   \n",
       "\n",
       "                             Der skal være en klimaafgift på alle fødevarer, der afspejler deres drivhusgasudledning.  \\\n",
       "Navn                                                                                                                    \n",
       "Ahmet Üzümcü (Q.)                                                            0                                          \n",
       "Aksel Rosager Johansen (Ø.)                                                  2                                          \n",
       "Alexander Bruhn Skjøth (F.)                                                  0                                          \n",
       "Allan Berg (D.)                                                              0                                          \n",
       "Allon Hein Sørensen (Å.)                                                     2                                          \n",
       "\n",
       "                             Der skal være en klimaafgift specifikt på alle animalske fødevarer  \\\n",
       "Navn                                                                                              \n",
       "Ahmet Üzümcü (Q.)                                                            0                    \n",
       "Aksel Rosager Johansen (Ø.)                                                  2                    \n",
       "Alexander Bruhn Skjøth (F.)                                                  0                    \n",
       "Allan Berg (D.)                                                              0                    \n",
       "Allon Hein Sørensen (Å.)                                                     2                    \n",
       "\n",
       "                             Finansielle institutioner (banker, pensionskasser og investeringsrådgivere, långivere etc.) skal pålægges hvert år at afrapportere, hvordan deres porteføljer, produkter og långivning bidrager til grøn omstilling af landbruget, herunder især fra animalsk til plantebaseret produktion.  \\\n",
       "Navn                                                                                                                                                                                                                                                                                                                       \n",
       "Ahmet Üzümcü (Q.)                                                            0                                                                                                                                                                                                                                             \n",
       "Aksel Rosager Johansen (Ø.)                                                  1                                                                                                                                                                                                                                             \n",
       "Alexander Bruhn Skjøth (F.)                                                  0                                                                                                                                                                                                                                             \n",
       "Allan Berg (D.)                                                              0                                                                                                                                                                                                                                             \n",
       "Allon Hein Sørensen (Å.)                                                     0                                                                                                                                                                                                                                             \n",
       "\n",
       "                             Fonden for Plantebaserede Fødevarer skal have mindst 200 mio. kr. ekstra årligt udover de eksisterende 85 mio. kr. årligt, så niveauet i højere grad svarer til omfanget af den nødvendige omstilling.  \\\n",
       "Navn                                                                                                                                                                                                                                  \n",
       "Ahmet Üzümcü (Q.)                                                            1                                                                                                                                                        \n",
       "Aksel Rosager Johansen (Ø.)                                                  2                                                                                                                                                        \n",
       "Alexander Bruhn Skjøth (F.)                                                  0                                                                                                                                                        \n",
       "Allan Berg (D.)                                                              0                                                                                                                                                        \n",
       "Allon Hein Sørensen (Å.)                                                     2                                                                                                                                                        \n",
       "\n",
       "                             Forskningsmidler indenfor fødevarer skal omlægges til i højere grad at fokusere på klimavenlige, plantebaserede fødevarer frem for animalske.  \\\n",
       "Navn                                                                                                                                                                         \n",
       "Ahmet Üzümcü (Q.)                                                            2                                                                                               \n",
       "Aksel Rosager Johansen (Ø.)                                                  2                                                                                               \n",
       "Alexander Bruhn Skjøth (F.)                                                  0                                                                                               \n",
       "Allan Berg (D.)                                                              0                                                                                               \n",
       "Allon Hein Sørensen (Å.)                                                     2                                                                                               \n",
       "\n",
       "                             Den danske animalske landbrugsproduktion står for en stor andel af den samlede danske drivhusgasudledning. Derfor skal antallet af landbrugsdyr (svin, kyllinger, køer, osv.) mindskes til halvdelen af det nuværende antal i 2030.  \\\n",
       "Navn                                                                                                                                                                                                                                                               \n",
       "Ahmet Üzümcü (Q.)                                                            1                                                                                                                                                                                     \n",
       "Aksel Rosager Johansen (Ø.)                                                  2                                                                                                                                                                                     \n",
       "Alexander Bruhn Skjøth (F.)                                                  0                                                                                                                                                                                     \n",
       "Allan Berg (D.)                                                              0                                                                                                                                                                                     \n",
       "Allon Hein Sørensen (Å.)                                                     2                                                                                                                                                                                     \n",
       "\n",
       "                             Landmænd, der vil omlægge deres produktion til flere plantebaserede afgrøder til mennesker, skal kunne modtage gratis efteruddannelse.  \\\n",
       "Navn                                                                                                                                                                  \n",
       "Ahmet Üzümcü (Q.)                                                            2                                                                                        \n",
       "Aksel Rosager Johansen (Ø.)                                                  2                                                                                        \n",
       "Alexander Bruhn Skjøth (F.)                                                  1                                                                                        \n",
       "Allan Berg (D.)                                                              0                                                                                        \n",
       "Allon Hein Sørensen (Å.)                                                     2                                                                                        \n",
       "\n",
       "                             Støtteordninger til fødevareerhvervet skal omlægges til i højere grad at støtte klimavenlige, plantebaserede fødevarer frem for animalske.  \\\n",
       "Navn                                                                                                                                                                      \n",
       "Ahmet Üzümcü (Q.)                                                            2                                                                                            \n",
       "Aksel Rosager Johansen (Ø.)                                                  2                                                                                            \n",
       "Alexander Bruhn Skjøth (F.)                                                  0                                                                                            \n",
       "Allan Berg (D.)                                                              0                                                                                            \n",
       "Allon Hein Sørensen (Å.)                                                     2                                                                                            \n",
       "\n",
       "                             Score  Kost_color  \n",
       "Navn                                            \n",
       "Ahmet Üzümcü (Q.)               22   turquoise  \n",
       "Aksel Rosager Johansen (Ø.)     27   turquoise  \n",
       "Alexander Bruhn Skjøth (F.)      1         red  \n",
       "Allan Berg (D.)                  2         red  \n",
       "Allon Hein Sørensen (Å.)        23         red  \n",
       "\n",
       "[5 rows x 21 columns]"
      ]
     },
     "execution_count": 24,
     "metadata": {},
     "output_type": "execute_result"
    }
   ],
   "source": [
    "df_fvnameIndex.head(5)"
   ]
  },
  {
   "cell_type": "code",
   "execution_count": 25,
   "id": "b9eb29f3",
   "metadata": {},
   "outputs": [],
   "source": [
    "df_fvnameIndex.to_csv(\"data/fv_data.csv\")"
   ]
  },
  {
   "cell_type": "code",
   "execution_count": 111,
   "id": "17dadbe2",
   "metadata": {},
   "outputs": [
    {
     "data": {
      "text/plain": [
       "Navn\n",
       "Mira Issa Bloch           32\n",
       "Benny Dall                25\n",
       "Karen Budtz-Jørgensen      3\n",
       "Jesper Housgaard           1\n",
       "Hikmet Altun              19\n",
       "                          ..\n",
       "Rune Kristensen           10\n",
       "Allon Hein Sørensen       23\n",
       "Sinus Petter Kremmer       0\n",
       "Kenneth Bjerg Andersen     1\n",
       "Søren Espersen             0\n",
       "Name: Score, Length: 193, dtype: int64"
      ]
     },
     "execution_count": 111,
     "metadata": {},
     "output_type": "execute_result"
    }
   ],
   "source": [
    "df_fvnameIndex.iloc[:,25]"
   ]
  },
  {
   "cell_type": "markdown",
   "id": "ce1e9b05",
   "metadata": {},
   "source": [
    "The questions excluding q1 are from column [11:25] (so with column 24)\n",
    "The score is at column 25\n",
    "The kost color is at row 26"
   ]
  },
  {
   "cell_type": "code",
   "execution_count": 195,
   "id": "56b5bb9c",
   "metadata": {},
   "outputs": [
    {
     "data": {
      "text/plain": [
       "Index(['Alle offentlige køkkener skal pålægges at reducere deres CO2-udslip fra mad og måltider med 25% i 2025.',\n",
       "       'Alle offentlige køkkener skal pålægges at reducere deres CO2-udslip fra mad og måltider med 50% i 2030.',\n",
       "       'En øremærket pulje til efteruddannelse af køkkenpersonale skal sikre, at alle madprofessionelle ved, hvordan de tilbereder klimavenlig, plantebaseret mad.',\n",
       "       'Lægeuddannelsen skal indeholde et obligatorisk fag om forebyggelse af sygdomme gennem mere plantebaseret kost.',\n",
       "       'Der skal være en plantebaseret kokkeuddannelse i Danmark, så den grønne gastronomi kan blive udviklet.',\n",
       "       'Fødevarestyrelsen skal have flere midler til at styrke deres faglige ressourcer til at rådgive om plantebaseret ernæring.',\n",
       "       'Det skal sikres, at myndighederne på altomkost.dk vejleder konstruktivt i plantebaseret kost, herunder også sikrer konstruktiv vejledning til veganske børnefamilier.',\n",
       "       'Momsen på frugt og grønt skal sænkes.',\n",
       "       'Der skal være en klimaafgift på alle fødevarer, der afspejler deres drivhusgasudledning.',\n",
       "       'Der skal være en klimaafgift specifikt på alle animalske fødevarer',\n",
       "       'Finansielle institutioner (banker, pensionskasser og investeringsrådgivere, långivere etc.) skal pålægges hvert år at afrapportere, hvordan deres porteføljer, produkter og långivning bidrager til grøn omstilling af landbruget, herunder især fra animalsk til plantebaseret produktion.',\n",
       "       'Fonden for Plantebaserede Fødevarer skal have mindst 200 mio. kr. ekstra årligt udover de eksisterende 85 mio. kr. årligt, så niveauet i højere grad svarer til omfanget af den nødvendige omstilling.',\n",
       "       'Forskningsmidler indenfor fødevarer skal omlægges til i højere grad at fokusere på klimavenlige, plantebaserede fødevarer frem for animalske.',\n",
       "       'Den danske animalske landbrugsproduktion står for en stor andel af den samlede danske drivhusgasudledning. Derfor skal antallet af landbrugsdyr (svin, kyllinger, køer, osv.) mindskes til halvdelen af det nuværende antal i 2030.',\n",
       "       'Landmænd, der vil omlægge deres produktion til flere plantebaserede afgrøder til mennesker, skal kunne modtage gratis efteruddannelse.',\n",
       "       'Støtteordninger til fødevareerhvervet skal omlægges til i højere grad at støtte klimavenlige, plantebaserede fødevarer frem for animalske.',\n",
       "       'Score'],\n",
       "      dtype='object')"
      ]
     },
     "execution_count": 195,
     "metadata": {},
     "output_type": "execute_result"
    }
   ],
   "source": [
    "df_fvnameIndex.columns[3:20]"
   ]
  },
  {
   "cell_type": "code",
   "execution_count": null,
   "id": "f1e391c1",
   "metadata": {},
   "outputs": [],
   "source": []
  },
  {
   "cell_type": "markdown",
   "id": "4bb2d99c",
   "metadata": {},
   "source": [
    "# Debugging"
   ]
  },
  {
   "cell_type": "code",
   "execution_count": 112,
   "id": "234f0989",
   "metadata": {},
   "outputs": [],
   "source": [
    "from plotly import graph_objects as go\n",
    "import plotly.express as px\n",
    "import pandas as pd\n",
    "import dash\n",
    "from dash.dependencies import Input, Output\n",
    "from dash import Dash, html, dcc \n",
    "from urllib.request import urlopen\n",
    "import json\n",
    "from plotly.subplots import make_subplots\n",
    "import numpy as np"
   ]
  },
  {
   "cell_type": "code",
   "execution_count": 113,
   "id": "ed81dd84",
   "metadata": {},
   "outputs": [
    {
     "data": {
      "text/html": [
       "<div>\n",
       "<style scoped>\n",
       "    .dataframe tbody tr th:only-of-type {\n",
       "        vertical-align: middle;\n",
       "    }\n",
       "\n",
       "    .dataframe tbody tr th {\n",
       "        vertical-align: top;\n",
       "    }\n",
       "\n",
       "    .dataframe thead th {\n",
       "        text-align: right;\n",
       "    }\n",
       "</style>\n",
       "<table border=\"1\" class=\"dataframe\">\n",
       "  <thead>\n",
       "    <tr style=\"text-align: right;\">\n",
       "      <th></th>\n",
       "      <th>Storkreds</th>\n",
       "      <th>Parti</th>\n",
       "      <th>Kost</th>\n",
       "      <th>Q1</th>\n",
       "      <th>Q1.1</th>\n",
       "      <th>Q1.2</th>\n",
       "      <th>Q1.3</th>\n",
       "      <th>Q1.4</th>\n",
       "      <th>Q1.5</th>\n",
       "      <th>Alle offentlige køkkener skal pålægges at reducere deres CO2-udslip fra mad og måltider med 25% i 2025.</th>\n",
       "      <th>...</th>\n",
       "      <th>Der skal være en klimaafgift på alle fødevarer, der afspejler deres drivhusgasudledning.</th>\n",
       "      <th>Der skal være en klimaafgift specifikt på alle animalske fødevarer</th>\n",
       "      <th>Finansielle institutioner (banker, pensionskasser og investeringsrådgivere, långivere etc.) skal pålægges hvert år at afrapportere, hvordan deres porteføljer, produkter og långivning bidrager til grøn omstilling af landbruget, herunder især fra animalsk til plantebaseret produktion.</th>\n",
       "      <th>Fonden for Plantebaserede Fødevarer skal have mindst 200 mio. kr. ekstra årligt udover de eksisterende 85 mio. kr. årligt, så niveauet i højere grad svarer til omfanget af den nødvendige omstilling.</th>\n",
       "      <th>Forskningsmidler indenfor fødevarer skal omlægges til i højere grad at fokusere på klimavenlige, plantebaserede fødevarer frem for animalske.</th>\n",
       "      <th>Den danske animalske landbrugsproduktion står for en stor andel af den samlede danske drivhusgasudledning. Derfor skal antallet af landbrugsdyr (svin, kyllinger, køer, osv.) mindskes til halvdelen af det nuværende antal i 2030.</th>\n",
       "      <th>Landmænd, der vil omlægge deres produktion til flere plantebaserede afgrøder til mennesker, skal kunne modtage gratis efteruddannelse.</th>\n",
       "      <th>Støtteordninger til fødevareerhvervet skal omlægges til i højere grad at støtte klimavenlige, plantebaserede fødevarer frem for animalske.</th>\n",
       "      <th>Score</th>\n",
       "      <th>Kost_color</th>\n",
       "    </tr>\n",
       "    <tr>\n",
       "      <th>Navn</th>\n",
       "      <th></th>\n",
       "      <th></th>\n",
       "      <th></th>\n",
       "      <th></th>\n",
       "      <th></th>\n",
       "      <th></th>\n",
       "      <th></th>\n",
       "      <th></th>\n",
       "      <th></th>\n",
       "      <th></th>\n",
       "      <th></th>\n",
       "      <th></th>\n",
       "      <th></th>\n",
       "      <th></th>\n",
       "      <th></th>\n",
       "      <th></th>\n",
       "      <th></th>\n",
       "      <th></th>\n",
       "      <th></th>\n",
       "      <th></th>\n",
       "      <th></th>\n",
       "    </tr>\n",
       "  </thead>\n",
       "  <tbody>\n",
       "    <tr>\n",
       "      <th>Mira Issa Bloch</th>\n",
       "      <td>Østjyllands Storkreds</td>\n",
       "      <td>Å. Alternativet</td>\n",
       "      <td>Pescetar</td>\n",
       "      <td>Enig - det vil jeg arbejde aktivt for</td>\n",
       "      <td>Enig - det vil jeg arbejde aktivt for</td>\n",
       "      <td>Enig - det vil jeg arbejde aktivt for</td>\n",
       "      <td>Enig - det vil jeg arbejde aktivt for</td>\n",
       "      <td>Enig - det vil jeg arbejde aktivt for</td>\n",
       "      <td>Enig - det vil jeg arbejde aktivt for</td>\n",
       "      <td>2</td>\n",
       "      <td>...</td>\n",
       "      <td>2</td>\n",
       "      <td>2</td>\n",
       "      <td>2</td>\n",
       "      <td>2</td>\n",
       "      <td>2</td>\n",
       "      <td>2</td>\n",
       "      <td>2</td>\n",
       "      <td>2</td>\n",
       "      <td>32</td>\n",
       "      <td>blue</td>\n",
       "    </tr>\n",
       "  </tbody>\n",
       "</table>\n",
       "<p>1 rows × 27 columns</p>\n",
       "</div>"
      ],
      "text/plain": [
       "                             Storkreds            Parti      Kost  \\\n",
       "Navn                                                                \n",
       "Mira Issa Bloch  Østjyllands Storkreds  Å. Alternativet  Pescetar   \n",
       "\n",
       "                                                    Q1  \\\n",
       "Navn                                                     \n",
       "Mira Issa Bloch  Enig - det vil jeg arbejde aktivt for   \n",
       "\n",
       "                                                  Q1.1  \\\n",
       "Navn                                                     \n",
       "Mira Issa Bloch  Enig - det vil jeg arbejde aktivt for   \n",
       "\n",
       "                                                  Q1.2  \\\n",
       "Navn                                                     \n",
       "Mira Issa Bloch  Enig - det vil jeg arbejde aktivt for   \n",
       "\n",
       "                                                  Q1.3  \\\n",
       "Navn                                                     \n",
       "Mira Issa Bloch  Enig - det vil jeg arbejde aktivt for   \n",
       "\n",
       "                                                  Q1.4  \\\n",
       "Navn                                                     \n",
       "Mira Issa Bloch  Enig - det vil jeg arbejde aktivt for   \n",
       "\n",
       "                                                  Q1.5  \\\n",
       "Navn                                                     \n",
       "Mira Issa Bloch  Enig - det vil jeg arbejde aktivt for   \n",
       "\n",
       "                 Alle offentlige køkkener skal pålægges at reducere deres CO2-udslip fra mad og måltider med 25% i 2025.  \\\n",
       "Navn                                                                                                                       \n",
       "Mira Issa Bloch                                                  2                                                         \n",
       "\n",
       "                 ...  \\\n",
       "Navn             ...   \n",
       "Mira Issa Bloch  ...   \n",
       "\n",
       "                 Der skal være en klimaafgift på alle fødevarer, der afspejler deres drivhusgasudledning.  \\\n",
       "Navn                                                                                                        \n",
       "Mira Issa Bloch                                                  2                                          \n",
       "\n",
       "                 Der skal være en klimaafgift specifikt på alle animalske fødevarer  \\\n",
       "Navn                                                                                  \n",
       "Mira Issa Bloch                                                  2                    \n",
       "\n",
       "                 Finansielle institutioner (banker, pensionskasser og investeringsrådgivere, långivere etc.) skal pålægges hvert år at afrapportere, hvordan deres porteføljer, produkter og långivning bidrager til grøn omstilling af landbruget, herunder især fra animalsk til plantebaseret produktion.  \\\n",
       "Navn                                                                                                                                                                                                                                                                                                           \n",
       "Mira Issa Bloch                                                  2                                                                                                                                                                                                                                             \n",
       "\n",
       "                 Fonden for Plantebaserede Fødevarer skal have mindst 200 mio. kr. ekstra årligt udover de eksisterende 85 mio. kr. årligt, så niveauet i højere grad svarer til omfanget af den nødvendige omstilling.  \\\n",
       "Navn                                                                                                                                                                                                                      \n",
       "Mira Issa Bloch                                                  2                                                                                                                                                        \n",
       "\n",
       "                 Forskningsmidler indenfor fødevarer skal omlægges til i højere grad at fokusere på klimavenlige, plantebaserede fødevarer frem for animalske.  \\\n",
       "Navn                                                                                                                                                             \n",
       "Mira Issa Bloch                                                  2                                                                                               \n",
       "\n",
       "                 Den danske animalske landbrugsproduktion står for en stor andel af den samlede danske drivhusgasudledning. Derfor skal antallet af landbrugsdyr (svin, kyllinger, køer, osv.) mindskes til halvdelen af det nuværende antal i 2030.  \\\n",
       "Navn                                                                                                                                                                                                                                                   \n",
       "Mira Issa Bloch                                                  2                                                                                                                                                                                     \n",
       "\n",
       "                 Landmænd, der vil omlægge deres produktion til flere plantebaserede afgrøder til mennesker, skal kunne modtage gratis efteruddannelse.  \\\n",
       "Navn                                                                                                                                                      \n",
       "Mira Issa Bloch                                                  2                                                                                        \n",
       "\n",
       "                 Støtteordninger til fødevareerhvervet skal omlægges til i højere grad at støtte klimavenlige, plantebaserede fødevarer frem for animalske.  \\\n",
       "Navn                                                                                                                                                          \n",
       "Mira Issa Bloch                                                  2                                                                                            \n",
       "\n",
       "                 Score  Kost_color  \n",
       "Navn                                \n",
       "Mira Issa Bloch     32        blue  \n",
       "\n",
       "[1 rows x 27 columns]"
      ]
     },
     "execution_count": 113,
     "metadata": {},
     "output_type": "execute_result"
    }
   ],
   "source": [
    "df_nameIndex = df_fvnameIndex.copy()\n",
    "df_nameIndex.head(1)"
   ]
  },
  {
   "cell_type": "code",
   "execution_count": 114,
   "id": "6e4711c9",
   "metadata": {},
   "outputs": [
    {
     "name": "stdout",
     "output_type": "stream",
     "text": [
      "Østjyllands Storkreds \n",
      " Østjyllands Storkreds \n",
      " Det skal sikres, at myndighederne på altomkost.dk vejleder konstruktivt i plantebaseret kost, herunder også sikrer konstruktiv vejledning til veganske børnefamilier.\n"
     ]
    }
   ],
   "source": [
    "value = df_nameIndex[\"Storkreds\"][0]\n",
    "storkreds = value\n",
    "question = df_nameIndex.columns[15]\n",
    "\n",
    "print(value,\"\\n\",\n",
    "      storkreds, \"\\n\",\n",
    "      question)"
   ]
  },
  {
   "cell_type": "code",
   "execution_count": 115,
   "id": "25fef186",
   "metadata": {},
   "outputs": [
    {
     "data": {
      "text/html": [
       "<div>\n",
       "<style scoped>\n",
       "    .dataframe tbody tr th:only-of-type {\n",
       "        vertical-align: middle;\n",
       "    }\n",
       "\n",
       "    .dataframe tbody tr th {\n",
       "        vertical-align: top;\n",
       "    }\n",
       "\n",
       "    .dataframe thead th {\n",
       "        text-align: right;\n",
       "    }\n",
       "</style>\n",
       "<table border=\"1\" class=\"dataframe\">\n",
       "  <thead>\n",
       "    <tr style=\"text-align: right;\">\n",
       "      <th></th>\n",
       "      <th>Storkreds</th>\n",
       "      <th>Parti</th>\n",
       "      <th>Kost</th>\n",
       "      <th>Q1</th>\n",
       "      <th>Q1.1</th>\n",
       "      <th>Q1.2</th>\n",
       "      <th>Q1.3</th>\n",
       "      <th>Q1.4</th>\n",
       "      <th>Q1.5</th>\n",
       "      <th>Alle offentlige køkkener skal pålægges at reducere deres CO2-udslip fra mad og måltider med 25% i 2025.</th>\n",
       "      <th>...</th>\n",
       "      <th>Der skal være en klimaafgift på alle fødevarer, der afspejler deres drivhusgasudledning.</th>\n",
       "      <th>Der skal være en klimaafgift specifikt på alle animalske fødevarer</th>\n",
       "      <th>Finansielle institutioner (banker, pensionskasser og investeringsrådgivere, långivere etc.) skal pålægges hvert år at afrapportere, hvordan deres porteføljer, produkter og långivning bidrager til grøn omstilling af landbruget, herunder især fra animalsk til plantebaseret produktion.</th>\n",
       "      <th>Fonden for Plantebaserede Fødevarer skal have mindst 200 mio. kr. ekstra årligt udover de eksisterende 85 mio. kr. årligt, så niveauet i højere grad svarer til omfanget af den nødvendige omstilling.</th>\n",
       "      <th>Forskningsmidler indenfor fødevarer skal omlægges til i højere grad at fokusere på klimavenlige, plantebaserede fødevarer frem for animalske.</th>\n",
       "      <th>Den danske animalske landbrugsproduktion står for en stor andel af den samlede danske drivhusgasudledning. Derfor skal antallet af landbrugsdyr (svin, kyllinger, køer, osv.) mindskes til halvdelen af det nuværende antal i 2030.</th>\n",
       "      <th>Landmænd, der vil omlægge deres produktion til flere plantebaserede afgrøder til mennesker, skal kunne modtage gratis efteruddannelse.</th>\n",
       "      <th>Støtteordninger til fødevareerhvervet skal omlægges til i højere grad at støtte klimavenlige, plantebaserede fødevarer frem for animalske.</th>\n",
       "      <th>Score</th>\n",
       "      <th>Kost_color</th>\n",
       "    </tr>\n",
       "    <tr>\n",
       "      <th>Navn</th>\n",
       "      <th></th>\n",
       "      <th></th>\n",
       "      <th></th>\n",
       "      <th></th>\n",
       "      <th></th>\n",
       "      <th></th>\n",
       "      <th></th>\n",
       "      <th></th>\n",
       "      <th></th>\n",
       "      <th></th>\n",
       "      <th></th>\n",
       "      <th></th>\n",
       "      <th></th>\n",
       "      <th></th>\n",
       "      <th></th>\n",
       "      <th></th>\n",
       "      <th></th>\n",
       "      <th></th>\n",
       "      <th></th>\n",
       "      <th></th>\n",
       "      <th></th>\n",
       "    </tr>\n",
       "  </thead>\n",
       "  <tbody>\n",
       "    <tr>\n",
       "      <th>Lisa Perkins</th>\n",
       "      <td>Østjyllands Storkreds</td>\n",
       "      <td>I. Liberal Alliance</td>\n",
       "      <td>Ønsker ikke at svare</td>\n",
       "      <td>Uenig - det vil jeg ikke støtte</td>\n",
       "      <td>Uenig - det vil jeg ikke støtte</td>\n",
       "      <td>Enig - det vil jeg støtte, men jeg vil ikke se...</td>\n",
       "      <td>Enig - det vil jeg støtte, men jeg vil ikke se...</td>\n",
       "      <td>Uenig - det vil jeg ikke støtte</td>\n",
       "      <td>Uenig - det vil jeg ikke støtte</td>\n",
       "      <td>0</td>\n",
       "      <td>...</td>\n",
       "      <td>0</td>\n",
       "      <td>0</td>\n",
       "      <td>0</td>\n",
       "      <td>0</td>\n",
       "      <td>0</td>\n",
       "      <td>0</td>\n",
       "      <td>0</td>\n",
       "      <td>0</td>\n",
       "      <td>0</td>\n",
       "      <td>grey</td>\n",
       "    </tr>\n",
       "    <tr>\n",
       "      <th>Lars Axel Nielsen</th>\n",
       "      <td>Østjyllands Storkreds</td>\n",
       "      <td>D. Nye Borgerlige</td>\n",
       "      <td>Ønsker ikke at svare</td>\n",
       "      <td>0</td>\n",
       "      <td>0</td>\n",
       "      <td>0</td>\n",
       "      <td>0</td>\n",
       "      <td>0</td>\n",
       "      <td>0</td>\n",
       "      <td>0</td>\n",
       "      <td>...</td>\n",
       "      <td>0</td>\n",
       "      <td>0</td>\n",
       "      <td>0</td>\n",
       "      <td>0</td>\n",
       "      <td>0</td>\n",
       "      <td>0</td>\n",
       "      <td>0</td>\n",
       "      <td>0</td>\n",
       "      <td>0</td>\n",
       "      <td>grey</td>\n",
       "    </tr>\n",
       "    <tr>\n",
       "      <th>Kirsten Normann Andersen</th>\n",
       "      <td>Østjyllands Storkreds</td>\n",
       "      <td>F. Socialistisk Folkeparti</td>\n",
       "      <td>Ønsker ikke at svare</td>\n",
       "      <td>0</td>\n",
       "      <td>0</td>\n",
       "      <td>0</td>\n",
       "      <td>0</td>\n",
       "      <td>0</td>\n",
       "      <td>0</td>\n",
       "      <td>0</td>\n",
       "      <td>...</td>\n",
       "      <td>0</td>\n",
       "      <td>0</td>\n",
       "      <td>0</td>\n",
       "      <td>0</td>\n",
       "      <td>0</td>\n",
       "      <td>0</td>\n",
       "      <td>0</td>\n",
       "      <td>0</td>\n",
       "      <td>0</td>\n",
       "      <td>grey</td>\n",
       "    </tr>\n",
       "    <tr>\n",
       "      <th>Ditte Wedege</th>\n",
       "      <td>Østjyllands Storkreds</td>\n",
       "      <td>I. Liberal Alliance</td>\n",
       "      <td>Ønsker ikke at svare</td>\n",
       "      <td>Uenig - det vil jeg ikke støtte</td>\n",
       "      <td>Uenig - det vil jeg ikke støtte</td>\n",
       "      <td>Enig - det vil jeg støtte, men jeg vil ikke se...</td>\n",
       "      <td>Enig - det vil jeg støtte, men jeg vil ikke se...</td>\n",
       "      <td>Uenig - det vil jeg ikke støtte</td>\n",
       "      <td>Uenig - det vil jeg ikke støtte</td>\n",
       "      <td>0</td>\n",
       "      <td>...</td>\n",
       "      <td>0</td>\n",
       "      <td>0</td>\n",
       "      <td>0</td>\n",
       "      <td>0</td>\n",
       "      <td>0</td>\n",
       "      <td>0</td>\n",
       "      <td>0</td>\n",
       "      <td>0</td>\n",
       "      <td>0</td>\n",
       "      <td>grey</td>\n",
       "    </tr>\n",
       "    <tr>\n",
       "      <th>Anders Krojgaard Lund</th>\n",
       "      <td>Østjyllands Storkreds</td>\n",
       "      <td>C. Det Konservative Folkeparti</td>\n",
       "      <td>Kødspiser</td>\n",
       "      <td>Ved ikke / har ikke taget stilling</td>\n",
       "      <td>Ved ikke / har ikke taget stilling</td>\n",
       "      <td>Enig - det vil jeg støtte, men jeg vil ikke se...</td>\n",
       "      <td>Enig - det vil jeg støtte, men jeg vil ikke se...</td>\n",
       "      <td>Ved ikke / har ikke taget stilling</td>\n",
       "      <td>Ved ikke / har ikke taget stilling</td>\n",
       "      <td>0</td>\n",
       "      <td>...</td>\n",
       "      <td>1</td>\n",
       "      <td>0</td>\n",
       "      <td>0</td>\n",
       "      <td>0</td>\n",
       "      <td>0</td>\n",
       "      <td>0</td>\n",
       "      <td>0</td>\n",
       "      <td>0</td>\n",
       "      <td>1</td>\n",
       "      <td>red</td>\n",
       "    </tr>\n",
       "    <tr>\n",
       "      <th>Karen Budtz-Jørgensen</th>\n",
       "      <td>Østjyllands Storkreds</td>\n",
       "      <td>Ø. Enhedslisten</td>\n",
       "      <td>Ønsker ikke at svare</td>\n",
       "      <td>Enig - det vil jeg arbejde aktivt for</td>\n",
       "      <td>Enig - det vil jeg arbejde aktivt for</td>\n",
       "      <td>Enig - det vil jeg arbejde aktivt for</td>\n",
       "      <td>Enig - det vil jeg arbejde aktivt for</td>\n",
       "      <td>Enig - det vil jeg arbejde aktivt for</td>\n",
       "      <td>Enig - det vil jeg arbejde aktivt for</td>\n",
       "      <td>2</td>\n",
       "      <td>...</td>\n",
       "      <td>0</td>\n",
       "      <td>0</td>\n",
       "      <td>0</td>\n",
       "      <td>0</td>\n",
       "      <td>0</td>\n",
       "      <td>0</td>\n",
       "      <td>0</td>\n",
       "      <td>0</td>\n",
       "      <td>3</td>\n",
       "      <td>grey</td>\n",
       "    </tr>\n",
       "    <tr>\n",
       "      <th>Tina Lund Sørensen</th>\n",
       "      <td>Østjyllands Storkreds</td>\n",
       "      <td>V. Venstre</td>\n",
       "      <td>Kødspiser</td>\n",
       "      <td>Uenig - det vil jeg ikke støtte</td>\n",
       "      <td>Uenig - det vil jeg ikke støtte</td>\n",
       "      <td>Uenig - det vil jeg ikke støtte</td>\n",
       "      <td>Uenig - det vil jeg ikke støtte</td>\n",
       "      <td>Uenig - det vil jeg ikke støtte</td>\n",
       "      <td>Uenig - det vil jeg ikke støtte</td>\n",
       "      <td>0</td>\n",
       "      <td>...</td>\n",
       "      <td>0</td>\n",
       "      <td>0</td>\n",
       "      <td>0</td>\n",
       "      <td>0</td>\n",
       "      <td>0</td>\n",
       "      <td>0</td>\n",
       "      <td>1</td>\n",
       "      <td>0</td>\n",
       "      <td>3</td>\n",
       "      <td>red</td>\n",
       "    </tr>\n",
       "    <tr>\n",
       "      <th>Hanna-Maria Lyng</th>\n",
       "      <td>Østjyllands Storkreds</td>\n",
       "      <td>K. Kristendemokraterne</td>\n",
       "      <td>Kødspiser</td>\n",
       "      <td>Enig - det vil jeg støtte, men jeg vil ikke se...</td>\n",
       "      <td>Enig - det vil jeg støtte, men jeg vil ikke se...</td>\n",
       "      <td>Enig - det vil jeg støtte, men jeg vil ikke se...</td>\n",
       "      <td>Enig - det vil jeg støtte, men jeg vil ikke se...</td>\n",
       "      <td>Enig - det vil jeg støtte, men jeg vil ikke se...</td>\n",
       "      <td>Enig - det vil jeg støtte, men jeg vil ikke se...</td>\n",
       "      <td>0</td>\n",
       "      <td>...</td>\n",
       "      <td>0</td>\n",
       "      <td>0</td>\n",
       "      <td>0</td>\n",
       "      <td>0</td>\n",
       "      <td>0</td>\n",
       "      <td>0</td>\n",
       "      <td>0</td>\n",
       "      <td>0</td>\n",
       "      <td>3</td>\n",
       "      <td>red</td>\n",
       "    </tr>\n",
       "    <tr>\n",
       "      <th>Danny Rosenkilde</th>\n",
       "      <td>Østjyllands Storkreds</td>\n",
       "      <td>O. Dansk Folkeparti</td>\n",
       "      <td>Kødspiser</td>\n",
       "      <td>0</td>\n",
       "      <td>0</td>\n",
       "      <td>Enig - det vil jeg støtte, men jeg vil ikke se...</td>\n",
       "      <td>Enig - det vil jeg støtte, men jeg vil ikke se...</td>\n",
       "      <td>Uenig - det vil jeg ikke støtte</td>\n",
       "      <td>0</td>\n",
       "      <td>0</td>\n",
       "      <td>...</td>\n",
       "      <td>1</td>\n",
       "      <td>0</td>\n",
       "      <td>0</td>\n",
       "      <td>0</td>\n",
       "      <td>0</td>\n",
       "      <td>0</td>\n",
       "      <td>0</td>\n",
       "      <td>0</td>\n",
       "      <td>3</td>\n",
       "      <td>red</td>\n",
       "    </tr>\n",
       "    <tr>\n",
       "      <th>Inger-Marie Tryde</th>\n",
       "      <td>Østjyllands Storkreds</td>\n",
       "      <td>D. Nye Borgerlige</td>\n",
       "      <td>Kødspiser</td>\n",
       "      <td>Enig - det vil jeg støtte, men jeg vil ikke se...</td>\n",
       "      <td>Enig - det vil jeg støtte, men jeg vil ikke se...</td>\n",
       "      <td>Enig - det vil jeg støtte, men jeg vil ikke se...</td>\n",
       "      <td>Enig - det vil jeg støtte, men jeg vil ikke se...</td>\n",
       "      <td>Enig - det vil jeg støtte, men jeg vil ikke se...</td>\n",
       "      <td>Enig - det vil jeg støtte, men jeg vil ikke se...</td>\n",
       "      <td>0</td>\n",
       "      <td>...</td>\n",
       "      <td>0</td>\n",
       "      <td>0</td>\n",
       "      <td>0</td>\n",
       "      <td>0</td>\n",
       "      <td>0</td>\n",
       "      <td>0</td>\n",
       "      <td>0</td>\n",
       "      <td>0</td>\n",
       "      <td>4</td>\n",
       "      <td>red</td>\n",
       "    </tr>\n",
       "    <tr>\n",
       "      <th>Anders Vistisen</th>\n",
       "      <td>Østjyllands Storkreds</td>\n",
       "      <td>O. Dansk Folkeparti</td>\n",
       "      <td>Kødspiser</td>\n",
       "      <td>Uenig - det vil jeg ikke støtte</td>\n",
       "      <td>Uenig - det vil jeg ikke støtte</td>\n",
       "      <td>Uenig - det vil jeg ikke støtte</td>\n",
       "      <td>Uenig - det vil jeg ikke støtte</td>\n",
       "      <td>Uenig - det vil jeg ikke støtte</td>\n",
       "      <td>Uenig - det vil jeg ikke støtte</td>\n",
       "      <td>1</td>\n",
       "      <td>...</td>\n",
       "      <td>0</td>\n",
       "      <td>0</td>\n",
       "      <td>0</td>\n",
       "      <td>0</td>\n",
       "      <td>0</td>\n",
       "      <td>0</td>\n",
       "      <td>0</td>\n",
       "      <td>0</td>\n",
       "      <td>5</td>\n",
       "      <td>red</td>\n",
       "    </tr>\n",
       "    <tr>\n",
       "      <th>Isabella Arendt</th>\n",
       "      <td>Østjyllands Storkreds</td>\n",
       "      <td>C. Det Konservative Folkeparti</td>\n",
       "      <td>Kødspiser</td>\n",
       "      <td>Uenig - det vil jeg ikke støtte</td>\n",
       "      <td>Uenig - det vil jeg ikke støtte</td>\n",
       "      <td>Enig - det vil jeg støtte, men jeg vil ikke se...</td>\n",
       "      <td>Enig - det vil jeg støtte, men jeg vil ikke se...</td>\n",
       "      <td>Uenig - det vil jeg ikke støtte</td>\n",
       "      <td>Uenig - det vil jeg ikke støtte</td>\n",
       "      <td>2</td>\n",
       "      <td>...</td>\n",
       "      <td>1</td>\n",
       "      <td>0</td>\n",
       "      <td>0</td>\n",
       "      <td>0</td>\n",
       "      <td>0</td>\n",
       "      <td>0</td>\n",
       "      <td>0</td>\n",
       "      <td>0</td>\n",
       "      <td>7</td>\n",
       "      <td>red</td>\n",
       "    </tr>\n",
       "    <tr>\n",
       "      <th>Rasmus Nordqvist</th>\n",
       "      <td>Østjyllands Storkreds</td>\n",
       "      <td>F. Socialistisk Folkeparti</td>\n",
       "      <td>Ønsker ikke at svare</td>\n",
       "      <td>Enig - det vil jeg arbejde aktivt for</td>\n",
       "      <td>Enig - det vil jeg arbejde aktivt for</td>\n",
       "      <td>Enig - det vil jeg arbejde aktivt for</td>\n",
       "      <td>Enig - det vil jeg arbejde aktivt for</td>\n",
       "      <td>Enig - det vil jeg arbejde aktivt for</td>\n",
       "      <td>Enig - det vil jeg arbejde aktivt for</td>\n",
       "      <td>2</td>\n",
       "      <td>...</td>\n",
       "      <td>0</td>\n",
       "      <td>0</td>\n",
       "      <td>0</td>\n",
       "      <td>0</td>\n",
       "      <td>0</td>\n",
       "      <td>0</td>\n",
       "      <td>0</td>\n",
       "      <td>0</td>\n",
       "      <td>9</td>\n",
       "      <td>grey</td>\n",
       "    </tr>\n",
       "    <tr>\n",
       "      <th>Karin Liltorp</th>\n",
       "      <td>Østjyllands Storkreds</td>\n",
       "      <td>M. Moderaterne</td>\n",
       "      <td>Pescetar</td>\n",
       "      <td>Enig - det vil jeg støtte, men jeg vil ikke se...</td>\n",
       "      <td>Enig - det vil jeg støtte, men jeg vil ikke se...</td>\n",
       "      <td>Enig - det vil jeg støtte, men jeg vil ikke se...</td>\n",
       "      <td>Enig - det vil jeg støtte, men jeg vil ikke se...</td>\n",
       "      <td>Enig - det vil jeg støtte, men jeg vil ikke se...</td>\n",
       "      <td>Enig - det vil jeg støtte, men jeg vil ikke se...</td>\n",
       "      <td>1</td>\n",
       "      <td>...</td>\n",
       "      <td>1</td>\n",
       "      <td>0</td>\n",
       "      <td>0</td>\n",
       "      <td>0</td>\n",
       "      <td>0</td>\n",
       "      <td>1</td>\n",
       "      <td>1</td>\n",
       "      <td>0</td>\n",
       "      <td>9</td>\n",
       "      <td>blue</td>\n",
       "    </tr>\n",
       "    <tr>\n",
       "      <th>Louise Louring</th>\n",
       "      <td>Østjyllands Storkreds</td>\n",
       "      <td>V. Venstre</td>\n",
       "      <td>Fleksitar</td>\n",
       "      <td>Enig - det vil jeg arbejde aktivt for</td>\n",
       "      <td>Enig - det vil jeg arbejde aktivt for</td>\n",
       "      <td>Enig - det vil jeg arbejde aktivt for</td>\n",
       "      <td>Enig - det vil jeg arbejde aktivt for</td>\n",
       "      <td>Enig - det vil jeg arbejde aktivt for</td>\n",
       "      <td>Enig - det vil jeg arbejde aktivt for</td>\n",
       "      <td>1</td>\n",
       "      <td>...</td>\n",
       "      <td>0</td>\n",
       "      <td>0</td>\n",
       "      <td>0</td>\n",
       "      <td>0</td>\n",
       "      <td>1</td>\n",
       "      <td>0</td>\n",
       "      <td>1</td>\n",
       "      <td>1</td>\n",
       "      <td>10</td>\n",
       "      <td>turquoise</td>\n",
       "    </tr>\n",
       "    <tr>\n",
       "      <th>Heidi Printzen</th>\n",
       "      <td>Østjyllands Storkreds</td>\n",
       "      <td>C. Det Konservative Folkeparti</td>\n",
       "      <td>Kødspiser</td>\n",
       "      <td>Enig - det vil jeg støtte, men jeg vil ikke se...</td>\n",
       "      <td>Enig - det vil jeg støtte, men jeg vil ikke se...</td>\n",
       "      <td>Enig - det vil jeg støtte, men jeg vil ikke se...</td>\n",
       "      <td>Enig - det vil jeg støtte, men jeg vil ikke se...</td>\n",
       "      <td>Enig - det vil jeg støtte, men jeg vil ikke se...</td>\n",
       "      <td>Enig - det vil jeg støtte, men jeg vil ikke se...</td>\n",
       "      <td>2</td>\n",
       "      <td>...</td>\n",
       "      <td>2</td>\n",
       "      <td>0</td>\n",
       "      <td>0</td>\n",
       "      <td>0</td>\n",
       "      <td>1</td>\n",
       "      <td>0</td>\n",
       "      <td>0</td>\n",
       "      <td>2</td>\n",
       "      <td>15</td>\n",
       "      <td>red</td>\n",
       "    </tr>\n",
       "    <tr>\n",
       "      <th>Camilla Fabricius</th>\n",
       "      <td>Østjyllands Storkreds</td>\n",
       "      <td>A. Socialdemokratiet</td>\n",
       "      <td>Ønsker ikke at svare</td>\n",
       "      <td>Enig - det vil jeg arbejde aktivt for</td>\n",
       "      <td>Enig - det vil jeg arbejde aktivt for</td>\n",
       "      <td>Enig - det vil jeg arbejde aktivt for</td>\n",
       "      <td>Enig - det vil jeg arbejde aktivt for</td>\n",
       "      <td>Enig - det vil jeg arbejde aktivt for</td>\n",
       "      <td>Enig - det vil jeg arbejde aktivt for</td>\n",
       "      <td>2</td>\n",
       "      <td>...</td>\n",
       "      <td>2</td>\n",
       "      <td>0</td>\n",
       "      <td>2</td>\n",
       "      <td>2</td>\n",
       "      <td>2</td>\n",
       "      <td>0</td>\n",
       "      <td>0</td>\n",
       "      <td>0</td>\n",
       "      <td>20</td>\n",
       "      <td>grey</td>\n",
       "    </tr>\n",
       "    <tr>\n",
       "      <th>Sofie Lippert</th>\n",
       "      <td>Østjyllands Storkreds</td>\n",
       "      <td>F. Socialistisk Folkeparti</td>\n",
       "      <td>Pescetar</td>\n",
       "      <td>Enig - det vil jeg arbejde aktivt for</td>\n",
       "      <td>Enig - det vil jeg arbejde aktivt for</td>\n",
       "      <td>Enig - det vil jeg arbejde aktivt for</td>\n",
       "      <td>Enig - det vil jeg støtte, men jeg vil ikke se...</td>\n",
       "      <td>Enig - det vil jeg arbejde aktivt for</td>\n",
       "      <td>Enig - det vil jeg arbejde aktivt for</td>\n",
       "      <td>2</td>\n",
       "      <td>...</td>\n",
       "      <td>2</td>\n",
       "      <td>1</td>\n",
       "      <td>2</td>\n",
       "      <td>0</td>\n",
       "      <td>1</td>\n",
       "      <td>2</td>\n",
       "      <td>2</td>\n",
       "      <td>2</td>\n",
       "      <td>21</td>\n",
       "      <td>blue</td>\n",
       "    </tr>\n",
       "    <tr>\n",
       "      <th>Mads Damgaard Mortensen</th>\n",
       "      <td>Østjyllands Storkreds</td>\n",
       "      <td>Å. Alternativet</td>\n",
       "      <td>Kødspiser</td>\n",
       "      <td>Enig - det vil jeg støtte, men jeg vil ikke se...</td>\n",
       "      <td>Enig - det vil jeg støtte, men jeg vil ikke se...</td>\n",
       "      <td>Enig - det vil jeg støtte, men jeg vil ikke se...</td>\n",
       "      <td>Enig - det vil jeg støtte, men jeg vil ikke se...</td>\n",
       "      <td>Enig - det vil jeg støtte, men jeg vil ikke se...</td>\n",
       "      <td>Enig - det vil jeg støtte, men jeg vil ikke se...</td>\n",
       "      <td>1</td>\n",
       "      <td>...</td>\n",
       "      <td>2</td>\n",
       "      <td>1</td>\n",
       "      <td>1</td>\n",
       "      <td>1</td>\n",
       "      <td>1</td>\n",
       "      <td>2</td>\n",
       "      <td>2</td>\n",
       "      <td>1</td>\n",
       "      <td>21</td>\n",
       "      <td>red</td>\n",
       "    </tr>\n",
       "    <tr>\n",
       "      <th>Søren Lahn Sloth</th>\n",
       "      <td>Østjyllands Storkreds</td>\n",
       "      <td>F. Socialistisk Folkeparti</td>\n",
       "      <td>Fleksitar</td>\n",
       "      <td>Enig - det vil jeg arbejde aktivt for</td>\n",
       "      <td>Enig - det vil jeg arbejde aktivt for</td>\n",
       "      <td>Enig - det vil jeg arbejde aktivt for</td>\n",
       "      <td>Enig - det vil jeg arbejde aktivt for</td>\n",
       "      <td>Enig - det vil jeg arbejde aktivt for</td>\n",
       "      <td>Enig - det vil jeg arbejde aktivt for</td>\n",
       "      <td>2</td>\n",
       "      <td>...</td>\n",
       "      <td>2</td>\n",
       "      <td>0</td>\n",
       "      <td>0</td>\n",
       "      <td>2</td>\n",
       "      <td>2</td>\n",
       "      <td>2</td>\n",
       "      <td>2</td>\n",
       "      <td>2</td>\n",
       "      <td>22</td>\n",
       "      <td>turquoise</td>\n",
       "    </tr>\n",
       "    <tr>\n",
       "      <th>Anders Pedersen</th>\n",
       "      <td>Østjyllands Storkreds</td>\n",
       "      <td>Ø. Enhedslisten</td>\n",
       "      <td>Pescetar</td>\n",
       "      <td>Enig - det vil jeg arbejde aktivt for</td>\n",
       "      <td>Enig - det vil jeg arbejde aktivt for</td>\n",
       "      <td>Enig - det vil jeg arbejde aktivt for</td>\n",
       "      <td>Enig - det vil jeg arbejde aktivt for</td>\n",
       "      <td>Enig - det vil jeg arbejde aktivt for</td>\n",
       "      <td>Enig - det vil jeg arbejde aktivt for</td>\n",
       "      <td>2</td>\n",
       "      <td>...</td>\n",
       "      <td>2</td>\n",
       "      <td>2</td>\n",
       "      <td>2</td>\n",
       "      <td>2</td>\n",
       "      <td>2</td>\n",
       "      <td>2</td>\n",
       "      <td>1</td>\n",
       "      <td>2</td>\n",
       "      <td>25</td>\n",
       "      <td>blue</td>\n",
       "    </tr>\n",
       "    <tr>\n",
       "      <th>Sara Grouleff</th>\n",
       "      <td>Østjyllands Storkreds</td>\n",
       "      <td>Q. Frie Grønne</td>\n",
       "      <td>Vegetar</td>\n",
       "      <td>Enig - det vil jeg arbejde aktivt for</td>\n",
       "      <td>Enig - det vil jeg arbejde aktivt for</td>\n",
       "      <td>Enig - det vil jeg arbejde aktivt for</td>\n",
       "      <td>Enig - det vil jeg arbejde aktivt for</td>\n",
       "      <td>Enig - det vil jeg arbejde aktivt for</td>\n",
       "      <td>Enig - det vil jeg arbejde aktivt for</td>\n",
       "      <td>2</td>\n",
       "      <td>...</td>\n",
       "      <td>2</td>\n",
       "      <td>2</td>\n",
       "      <td>2</td>\n",
       "      <td>2</td>\n",
       "      <td>2</td>\n",
       "      <td>2</td>\n",
       "      <td>2</td>\n",
       "      <td>2</td>\n",
       "      <td>26</td>\n",
       "      <td>rgb(140,190,84)</td>\n",
       "    </tr>\n",
       "    <tr>\n",
       "      <th>Lucasia Gregersen</th>\n",
       "      <td>Østjyllands Storkreds</td>\n",
       "      <td>Ø. Enhedslisten</td>\n",
       "      <td>Fleksitar</td>\n",
       "      <td>Enig - det vil jeg støtte, men jeg vil ikke se...</td>\n",
       "      <td>Enig - det vil jeg arbejde aktivt for</td>\n",
       "      <td>Enig - det vil jeg arbejde aktivt for</td>\n",
       "      <td>Enig - det vil jeg arbejde aktivt for</td>\n",
       "      <td>Enig - det vil jeg arbejde aktivt for</td>\n",
       "      <td>Enig - det vil jeg arbejde aktivt for</td>\n",
       "      <td>2</td>\n",
       "      <td>...</td>\n",
       "      <td>2</td>\n",
       "      <td>2</td>\n",
       "      <td>2</td>\n",
       "      <td>1</td>\n",
       "      <td>2</td>\n",
       "      <td>2</td>\n",
       "      <td>2</td>\n",
       "      <td>1</td>\n",
       "      <td>28</td>\n",
       "      <td>turquoise</td>\n",
       "    </tr>\n",
       "    <tr>\n",
       "      <th>Mohamed Abdikarim</th>\n",
       "      <td>Østjyllands Storkreds</td>\n",
       "      <td>Q. Frie Grønne</td>\n",
       "      <td>Fleksitar</td>\n",
       "      <td>Enig - det vil jeg arbejde aktivt for</td>\n",
       "      <td>Enig - det vil jeg arbejde aktivt for</td>\n",
       "      <td>Enig - det vil jeg arbejde aktivt for</td>\n",
       "      <td>Enig - det vil jeg arbejde aktivt for</td>\n",
       "      <td>Enig - det vil jeg arbejde aktivt for</td>\n",
       "      <td>Enig - det vil jeg arbejde aktivt for</td>\n",
       "      <td>2</td>\n",
       "      <td>...</td>\n",
       "      <td>2</td>\n",
       "      <td>2</td>\n",
       "      <td>2</td>\n",
       "      <td>2</td>\n",
       "      <td>2</td>\n",
       "      <td>2</td>\n",
       "      <td>2</td>\n",
       "      <td>2</td>\n",
       "      <td>30</td>\n",
       "      <td>turquoise</td>\n",
       "    </tr>\n",
       "    <tr>\n",
       "      <th>Niko Grünfeld</th>\n",
       "      <td>Østjyllands Storkreds</td>\n",
       "      <td>Q. Frie Grønne</td>\n",
       "      <td>Ønsker ikke at svare</td>\n",
       "      <td>Enig - det vil jeg arbejde aktivt for</td>\n",
       "      <td>Enig - det vil jeg arbejde aktivt for</td>\n",
       "      <td>Enig - det vil jeg arbejde aktivt for</td>\n",
       "      <td>Enig - det vil jeg arbejde aktivt for</td>\n",
       "      <td>Enig - det vil jeg arbejde aktivt for</td>\n",
       "      <td>Enig - det vil jeg arbejde aktivt for</td>\n",
       "      <td>2</td>\n",
       "      <td>...</td>\n",
       "      <td>2</td>\n",
       "      <td>2</td>\n",
       "      <td>2</td>\n",
       "      <td>2</td>\n",
       "      <td>2</td>\n",
       "      <td>2</td>\n",
       "      <td>2</td>\n",
       "      <td>2</td>\n",
       "      <td>32</td>\n",
       "      <td>grey</td>\n",
       "    </tr>\n",
       "    <tr>\n",
       "      <th>Mira Issa Bloch</th>\n",
       "      <td>Østjyllands Storkreds</td>\n",
       "      <td>Å. Alternativet</td>\n",
       "      <td>Pescetar</td>\n",
       "      <td>Enig - det vil jeg arbejde aktivt for</td>\n",
       "      <td>Enig - det vil jeg arbejde aktivt for</td>\n",
       "      <td>Enig - det vil jeg arbejde aktivt for</td>\n",
       "      <td>Enig - det vil jeg arbejde aktivt for</td>\n",
       "      <td>Enig - det vil jeg arbejde aktivt for</td>\n",
       "      <td>Enig - det vil jeg arbejde aktivt for</td>\n",
       "      <td>2</td>\n",
       "      <td>...</td>\n",
       "      <td>2</td>\n",
       "      <td>2</td>\n",
       "      <td>2</td>\n",
       "      <td>2</td>\n",
       "      <td>2</td>\n",
       "      <td>2</td>\n",
       "      <td>2</td>\n",
       "      <td>2</td>\n",
       "      <td>32</td>\n",
       "      <td>blue</td>\n",
       "    </tr>\n",
       "  </tbody>\n",
       "</table>\n",
       "<p>26 rows × 27 columns</p>\n",
       "</div>"
      ],
      "text/plain": [
       "                                       Storkreds  \\\n",
       "Navn                                               \n",
       "Lisa Perkins               Østjyllands Storkreds   \n",
       "Lars Axel Nielsen          Østjyllands Storkreds   \n",
       "Kirsten Normann Andersen   Østjyllands Storkreds   \n",
       "Ditte Wedege               Østjyllands Storkreds   \n",
       "Anders Krojgaard Lund      Østjyllands Storkreds   \n",
       "Karen Budtz-Jørgensen      Østjyllands Storkreds   \n",
       "Tina Lund Sørensen         Østjyllands Storkreds   \n",
       "Hanna-Maria Lyng           Østjyllands Storkreds   \n",
       "Danny Rosenkilde           Østjyllands Storkreds   \n",
       "Inger-Marie Tryde          Østjyllands Storkreds   \n",
       "Anders Vistisen            Østjyllands Storkreds   \n",
       "Isabella Arendt            Østjyllands Storkreds   \n",
       "Rasmus Nordqvist           Østjyllands Storkreds   \n",
       "Karin Liltorp              Østjyllands Storkreds   \n",
       "Louise Louring             Østjyllands Storkreds   \n",
       "Heidi Printzen             Østjyllands Storkreds   \n",
       "Camilla Fabricius          Østjyllands Storkreds   \n",
       "Sofie Lippert              Østjyllands Storkreds   \n",
       "Mads Damgaard Mortensen    Østjyllands Storkreds   \n",
       "Søren Lahn Sloth           Østjyllands Storkreds   \n",
       "Anders Pedersen            Østjyllands Storkreds   \n",
       "Sara Grouleff              Østjyllands Storkreds   \n",
       "Lucasia Gregersen          Østjyllands Storkreds   \n",
       "Mohamed Abdikarim          Østjyllands Storkreds   \n",
       "Niko Grünfeld              Østjyllands Storkreds   \n",
       "Mira Issa Bloch            Østjyllands Storkreds   \n",
       "\n",
       "                                                    Parti  \\\n",
       "Navn                                                        \n",
       "Lisa Perkins                          I. Liberal Alliance   \n",
       "Lars Axel Nielsen                       D. Nye Borgerlige   \n",
       "Kirsten Normann Andersen       F. Socialistisk Folkeparti   \n",
       "Ditte Wedege                          I. Liberal Alliance   \n",
       "Anders Krojgaard Lund      C. Det Konservative Folkeparti   \n",
       "Karen Budtz-Jørgensen                     Ø. Enhedslisten   \n",
       "Tina Lund Sørensen                             V. Venstre   \n",
       "Hanna-Maria Lyng                   K. Kristendemokraterne   \n",
       "Danny Rosenkilde                      O. Dansk Folkeparti   \n",
       "Inger-Marie Tryde                       D. Nye Borgerlige   \n",
       "Anders Vistisen                       O. Dansk Folkeparti   \n",
       "Isabella Arendt            C. Det Konservative Folkeparti   \n",
       "Rasmus Nordqvist               F. Socialistisk Folkeparti   \n",
       "Karin Liltorp                              M. Moderaterne   \n",
       "Louise Louring                                 V. Venstre   \n",
       "Heidi Printzen             C. Det Konservative Folkeparti   \n",
       "Camilla Fabricius                    A. Socialdemokratiet   \n",
       "Sofie Lippert                  F. Socialistisk Folkeparti   \n",
       "Mads Damgaard Mortensen                   Å. Alternativet   \n",
       "Søren Lahn Sloth               F. Socialistisk Folkeparti   \n",
       "Anders Pedersen                           Ø. Enhedslisten   \n",
       "Sara Grouleff                              Q. Frie Grønne   \n",
       "Lucasia Gregersen                         Ø. Enhedslisten   \n",
       "Mohamed Abdikarim                          Q. Frie Grønne   \n",
       "Niko Grünfeld                              Q. Frie Grønne   \n",
       "Mira Issa Bloch                           Å. Alternativet   \n",
       "\n",
       "                                           Kost  \\\n",
       "Navn                                              \n",
       "Lisa Perkins               Ønsker ikke at svare   \n",
       "Lars Axel Nielsen          Ønsker ikke at svare   \n",
       "Kirsten Normann Andersen   Ønsker ikke at svare   \n",
       "Ditte Wedege               Ønsker ikke at svare   \n",
       "Anders Krojgaard Lund                 Kødspiser   \n",
       "Karen Budtz-Jørgensen      Ønsker ikke at svare   \n",
       "Tina Lund Sørensen                    Kødspiser   \n",
       "Hanna-Maria Lyng                      Kødspiser   \n",
       "Danny Rosenkilde                      Kødspiser   \n",
       "Inger-Marie Tryde                     Kødspiser   \n",
       "Anders Vistisen                       Kødspiser   \n",
       "Isabella Arendt                       Kødspiser   \n",
       "Rasmus Nordqvist           Ønsker ikke at svare   \n",
       "Karin Liltorp                          Pescetar   \n",
       "Louise Louring                        Fleksitar   \n",
       "Heidi Printzen                        Kødspiser   \n",
       "Camilla Fabricius          Ønsker ikke at svare   \n",
       "Sofie Lippert                          Pescetar   \n",
       "Mads Damgaard Mortensen               Kødspiser   \n",
       "Søren Lahn Sloth                      Fleksitar   \n",
       "Anders Pedersen                        Pescetar   \n",
       "Sara Grouleff                           Vegetar   \n",
       "Lucasia Gregersen                     Fleksitar   \n",
       "Mohamed Abdikarim                     Fleksitar   \n",
       "Niko Grünfeld              Ønsker ikke at svare   \n",
       "Mira Issa Bloch                        Pescetar   \n",
       "\n",
       "                                                                          Q1  \\\n",
       "Navn                                                                           \n",
       "Lisa Perkins                                 Uenig - det vil jeg ikke støtte   \n",
       "Lars Axel Nielsen                                                          0   \n",
       "Kirsten Normann Andersen                                                   0   \n",
       "Ditte Wedege                                 Uenig - det vil jeg ikke støtte   \n",
       "Anders Krojgaard Lund                     Ved ikke / har ikke taget stilling   \n",
       "Karen Budtz-Jørgensen                  Enig - det vil jeg arbejde aktivt for   \n",
       "Tina Lund Sørensen                           Uenig - det vil jeg ikke støtte   \n",
       "Hanna-Maria Lyng           Enig - det vil jeg støtte, men jeg vil ikke se...   \n",
       "Danny Rosenkilde                                                           0   \n",
       "Inger-Marie Tryde          Enig - det vil jeg støtte, men jeg vil ikke se...   \n",
       "Anders Vistisen                              Uenig - det vil jeg ikke støtte   \n",
       "Isabella Arendt                              Uenig - det vil jeg ikke støtte   \n",
       "Rasmus Nordqvist                       Enig - det vil jeg arbejde aktivt for   \n",
       "Karin Liltorp              Enig - det vil jeg støtte, men jeg vil ikke se...   \n",
       "Louise Louring                         Enig - det vil jeg arbejde aktivt for   \n",
       "Heidi Printzen             Enig - det vil jeg støtte, men jeg vil ikke se...   \n",
       "Camilla Fabricius                      Enig - det vil jeg arbejde aktivt for   \n",
       "Sofie Lippert                          Enig - det vil jeg arbejde aktivt for   \n",
       "Mads Damgaard Mortensen    Enig - det vil jeg støtte, men jeg vil ikke se...   \n",
       "Søren Lahn Sloth                       Enig - det vil jeg arbejde aktivt for   \n",
       "Anders Pedersen                        Enig - det vil jeg arbejde aktivt for   \n",
       "Sara Grouleff                          Enig - det vil jeg arbejde aktivt for   \n",
       "Lucasia Gregersen          Enig - det vil jeg støtte, men jeg vil ikke se...   \n",
       "Mohamed Abdikarim                      Enig - det vil jeg arbejde aktivt for   \n",
       "Niko Grünfeld                          Enig - det vil jeg arbejde aktivt for   \n",
       "Mira Issa Bloch                        Enig - det vil jeg arbejde aktivt for   \n",
       "\n",
       "                                                                        Q1.1  \\\n",
       "Navn                                                                           \n",
       "Lisa Perkins                                 Uenig - det vil jeg ikke støtte   \n",
       "Lars Axel Nielsen                                                          0   \n",
       "Kirsten Normann Andersen                                                   0   \n",
       "Ditte Wedege                                 Uenig - det vil jeg ikke støtte   \n",
       "Anders Krojgaard Lund                     Ved ikke / har ikke taget stilling   \n",
       "Karen Budtz-Jørgensen                  Enig - det vil jeg arbejde aktivt for   \n",
       "Tina Lund Sørensen                           Uenig - det vil jeg ikke støtte   \n",
       "Hanna-Maria Lyng           Enig - det vil jeg støtte, men jeg vil ikke se...   \n",
       "Danny Rosenkilde                                                           0   \n",
       "Inger-Marie Tryde          Enig - det vil jeg støtte, men jeg vil ikke se...   \n",
       "Anders Vistisen                              Uenig - det vil jeg ikke støtte   \n",
       "Isabella Arendt                              Uenig - det vil jeg ikke støtte   \n",
       "Rasmus Nordqvist                       Enig - det vil jeg arbejde aktivt for   \n",
       "Karin Liltorp              Enig - det vil jeg støtte, men jeg vil ikke se...   \n",
       "Louise Louring                         Enig - det vil jeg arbejde aktivt for   \n",
       "Heidi Printzen             Enig - det vil jeg støtte, men jeg vil ikke se...   \n",
       "Camilla Fabricius                      Enig - det vil jeg arbejde aktivt for   \n",
       "Sofie Lippert                          Enig - det vil jeg arbejde aktivt for   \n",
       "Mads Damgaard Mortensen    Enig - det vil jeg støtte, men jeg vil ikke se...   \n",
       "Søren Lahn Sloth                       Enig - det vil jeg arbejde aktivt for   \n",
       "Anders Pedersen                        Enig - det vil jeg arbejde aktivt for   \n",
       "Sara Grouleff                          Enig - det vil jeg arbejde aktivt for   \n",
       "Lucasia Gregersen                      Enig - det vil jeg arbejde aktivt for   \n",
       "Mohamed Abdikarim                      Enig - det vil jeg arbejde aktivt for   \n",
       "Niko Grünfeld                          Enig - det vil jeg arbejde aktivt for   \n",
       "Mira Issa Bloch                        Enig - det vil jeg arbejde aktivt for   \n",
       "\n",
       "                                                                        Q1.2  \\\n",
       "Navn                                                                           \n",
       "Lisa Perkins               Enig - det vil jeg støtte, men jeg vil ikke se...   \n",
       "Lars Axel Nielsen                                                          0   \n",
       "Kirsten Normann Andersen                                                   0   \n",
       "Ditte Wedege               Enig - det vil jeg støtte, men jeg vil ikke se...   \n",
       "Anders Krojgaard Lund      Enig - det vil jeg støtte, men jeg vil ikke se...   \n",
       "Karen Budtz-Jørgensen                  Enig - det vil jeg arbejde aktivt for   \n",
       "Tina Lund Sørensen                           Uenig - det vil jeg ikke støtte   \n",
       "Hanna-Maria Lyng           Enig - det vil jeg støtte, men jeg vil ikke se...   \n",
       "Danny Rosenkilde           Enig - det vil jeg støtte, men jeg vil ikke se...   \n",
       "Inger-Marie Tryde          Enig - det vil jeg støtte, men jeg vil ikke se...   \n",
       "Anders Vistisen                              Uenig - det vil jeg ikke støtte   \n",
       "Isabella Arendt            Enig - det vil jeg støtte, men jeg vil ikke se...   \n",
       "Rasmus Nordqvist                       Enig - det vil jeg arbejde aktivt for   \n",
       "Karin Liltorp              Enig - det vil jeg støtte, men jeg vil ikke se...   \n",
       "Louise Louring                         Enig - det vil jeg arbejde aktivt for   \n",
       "Heidi Printzen             Enig - det vil jeg støtte, men jeg vil ikke se...   \n",
       "Camilla Fabricius                      Enig - det vil jeg arbejde aktivt for   \n",
       "Sofie Lippert                          Enig - det vil jeg arbejde aktivt for   \n",
       "Mads Damgaard Mortensen    Enig - det vil jeg støtte, men jeg vil ikke se...   \n",
       "Søren Lahn Sloth                       Enig - det vil jeg arbejde aktivt for   \n",
       "Anders Pedersen                        Enig - det vil jeg arbejde aktivt for   \n",
       "Sara Grouleff                          Enig - det vil jeg arbejde aktivt for   \n",
       "Lucasia Gregersen                      Enig - det vil jeg arbejde aktivt for   \n",
       "Mohamed Abdikarim                      Enig - det vil jeg arbejde aktivt for   \n",
       "Niko Grünfeld                          Enig - det vil jeg arbejde aktivt for   \n",
       "Mira Issa Bloch                        Enig - det vil jeg arbejde aktivt for   \n",
       "\n",
       "                                                                        Q1.3  \\\n",
       "Navn                                                                           \n",
       "Lisa Perkins               Enig - det vil jeg støtte, men jeg vil ikke se...   \n",
       "Lars Axel Nielsen                                                          0   \n",
       "Kirsten Normann Andersen                                                   0   \n",
       "Ditte Wedege               Enig - det vil jeg støtte, men jeg vil ikke se...   \n",
       "Anders Krojgaard Lund      Enig - det vil jeg støtte, men jeg vil ikke se...   \n",
       "Karen Budtz-Jørgensen                  Enig - det vil jeg arbejde aktivt for   \n",
       "Tina Lund Sørensen                           Uenig - det vil jeg ikke støtte   \n",
       "Hanna-Maria Lyng           Enig - det vil jeg støtte, men jeg vil ikke se...   \n",
       "Danny Rosenkilde           Enig - det vil jeg støtte, men jeg vil ikke se...   \n",
       "Inger-Marie Tryde          Enig - det vil jeg støtte, men jeg vil ikke se...   \n",
       "Anders Vistisen                              Uenig - det vil jeg ikke støtte   \n",
       "Isabella Arendt            Enig - det vil jeg støtte, men jeg vil ikke se...   \n",
       "Rasmus Nordqvist                       Enig - det vil jeg arbejde aktivt for   \n",
       "Karin Liltorp              Enig - det vil jeg støtte, men jeg vil ikke se...   \n",
       "Louise Louring                         Enig - det vil jeg arbejde aktivt for   \n",
       "Heidi Printzen             Enig - det vil jeg støtte, men jeg vil ikke se...   \n",
       "Camilla Fabricius                      Enig - det vil jeg arbejde aktivt for   \n",
       "Sofie Lippert              Enig - det vil jeg støtte, men jeg vil ikke se...   \n",
       "Mads Damgaard Mortensen    Enig - det vil jeg støtte, men jeg vil ikke se...   \n",
       "Søren Lahn Sloth                       Enig - det vil jeg arbejde aktivt for   \n",
       "Anders Pedersen                        Enig - det vil jeg arbejde aktivt for   \n",
       "Sara Grouleff                          Enig - det vil jeg arbejde aktivt for   \n",
       "Lucasia Gregersen                      Enig - det vil jeg arbejde aktivt for   \n",
       "Mohamed Abdikarim                      Enig - det vil jeg arbejde aktivt for   \n",
       "Niko Grünfeld                          Enig - det vil jeg arbejde aktivt for   \n",
       "Mira Issa Bloch                        Enig - det vil jeg arbejde aktivt for   \n",
       "\n",
       "                                                                        Q1.4  \\\n",
       "Navn                                                                           \n",
       "Lisa Perkins                                 Uenig - det vil jeg ikke støtte   \n",
       "Lars Axel Nielsen                                                          0   \n",
       "Kirsten Normann Andersen                                                   0   \n",
       "Ditte Wedege                                 Uenig - det vil jeg ikke støtte   \n",
       "Anders Krojgaard Lund                     Ved ikke / har ikke taget stilling   \n",
       "Karen Budtz-Jørgensen                  Enig - det vil jeg arbejde aktivt for   \n",
       "Tina Lund Sørensen                           Uenig - det vil jeg ikke støtte   \n",
       "Hanna-Maria Lyng           Enig - det vil jeg støtte, men jeg vil ikke se...   \n",
       "Danny Rosenkilde                             Uenig - det vil jeg ikke støtte   \n",
       "Inger-Marie Tryde          Enig - det vil jeg støtte, men jeg vil ikke se...   \n",
       "Anders Vistisen                              Uenig - det vil jeg ikke støtte   \n",
       "Isabella Arendt                              Uenig - det vil jeg ikke støtte   \n",
       "Rasmus Nordqvist                       Enig - det vil jeg arbejde aktivt for   \n",
       "Karin Liltorp              Enig - det vil jeg støtte, men jeg vil ikke se...   \n",
       "Louise Louring                         Enig - det vil jeg arbejde aktivt for   \n",
       "Heidi Printzen             Enig - det vil jeg støtte, men jeg vil ikke se...   \n",
       "Camilla Fabricius                      Enig - det vil jeg arbejde aktivt for   \n",
       "Sofie Lippert                          Enig - det vil jeg arbejde aktivt for   \n",
       "Mads Damgaard Mortensen    Enig - det vil jeg støtte, men jeg vil ikke se...   \n",
       "Søren Lahn Sloth                       Enig - det vil jeg arbejde aktivt for   \n",
       "Anders Pedersen                        Enig - det vil jeg arbejde aktivt for   \n",
       "Sara Grouleff                          Enig - det vil jeg arbejde aktivt for   \n",
       "Lucasia Gregersen                      Enig - det vil jeg arbejde aktivt for   \n",
       "Mohamed Abdikarim                      Enig - det vil jeg arbejde aktivt for   \n",
       "Niko Grünfeld                          Enig - det vil jeg arbejde aktivt for   \n",
       "Mira Issa Bloch                        Enig - det vil jeg arbejde aktivt for   \n",
       "\n",
       "                                                                        Q1.5  \\\n",
       "Navn                                                                           \n",
       "Lisa Perkins                                 Uenig - det vil jeg ikke støtte   \n",
       "Lars Axel Nielsen                                                          0   \n",
       "Kirsten Normann Andersen                                                   0   \n",
       "Ditte Wedege                                 Uenig - det vil jeg ikke støtte   \n",
       "Anders Krojgaard Lund                     Ved ikke / har ikke taget stilling   \n",
       "Karen Budtz-Jørgensen                  Enig - det vil jeg arbejde aktivt for   \n",
       "Tina Lund Sørensen                           Uenig - det vil jeg ikke støtte   \n",
       "Hanna-Maria Lyng           Enig - det vil jeg støtte, men jeg vil ikke se...   \n",
       "Danny Rosenkilde                                                           0   \n",
       "Inger-Marie Tryde          Enig - det vil jeg støtte, men jeg vil ikke se...   \n",
       "Anders Vistisen                              Uenig - det vil jeg ikke støtte   \n",
       "Isabella Arendt                              Uenig - det vil jeg ikke støtte   \n",
       "Rasmus Nordqvist                       Enig - det vil jeg arbejde aktivt for   \n",
       "Karin Liltorp              Enig - det vil jeg støtte, men jeg vil ikke se...   \n",
       "Louise Louring                         Enig - det vil jeg arbejde aktivt for   \n",
       "Heidi Printzen             Enig - det vil jeg støtte, men jeg vil ikke se...   \n",
       "Camilla Fabricius                      Enig - det vil jeg arbejde aktivt for   \n",
       "Sofie Lippert                          Enig - det vil jeg arbejde aktivt for   \n",
       "Mads Damgaard Mortensen    Enig - det vil jeg støtte, men jeg vil ikke se...   \n",
       "Søren Lahn Sloth                       Enig - det vil jeg arbejde aktivt for   \n",
       "Anders Pedersen                        Enig - det vil jeg arbejde aktivt for   \n",
       "Sara Grouleff                          Enig - det vil jeg arbejde aktivt for   \n",
       "Lucasia Gregersen                      Enig - det vil jeg arbejde aktivt for   \n",
       "Mohamed Abdikarim                      Enig - det vil jeg arbejde aktivt for   \n",
       "Niko Grünfeld                          Enig - det vil jeg arbejde aktivt for   \n",
       "Mira Issa Bloch                        Enig - det vil jeg arbejde aktivt for   \n",
       "\n",
       "                           Alle offentlige køkkener skal pålægges at reducere deres CO2-udslip fra mad og måltider med 25% i 2025.  \\\n",
       "Navn                                                                                                                                 \n",
       "Lisa Perkins                                                               0                                                         \n",
       "Lars Axel Nielsen                                                          0                                                         \n",
       "Kirsten Normann Andersen                                                   0                                                         \n",
       "Ditte Wedege                                                               0                                                         \n",
       "Anders Krojgaard Lund                                                      0                                                         \n",
       "Karen Budtz-Jørgensen                                                      2                                                         \n",
       "Tina Lund Sørensen                                                         0                                                         \n",
       "Hanna-Maria Lyng                                                           0                                                         \n",
       "Danny Rosenkilde                                                           0                                                         \n",
       "Inger-Marie Tryde                                                          0                                                         \n",
       "Anders Vistisen                                                            1                                                         \n",
       "Isabella Arendt                                                            2                                                         \n",
       "Rasmus Nordqvist                                                           2                                                         \n",
       "Karin Liltorp                                                              1                                                         \n",
       "Louise Louring                                                             1                                                         \n",
       "Heidi Printzen                                                             2                                                         \n",
       "Camilla Fabricius                                                          2                                                         \n",
       "Sofie Lippert                                                              2                                                         \n",
       "Mads Damgaard Mortensen                                                    1                                                         \n",
       "Søren Lahn Sloth                                                           2                                                         \n",
       "Anders Pedersen                                                            2                                                         \n",
       "Sara Grouleff                                                              2                                                         \n",
       "Lucasia Gregersen                                                          2                                                         \n",
       "Mohamed Abdikarim                                                          2                                                         \n",
       "Niko Grünfeld                                                              2                                                         \n",
       "Mira Issa Bloch                                                            2                                                         \n",
       "\n",
       "                           ...  \\\n",
       "Navn                       ...   \n",
       "Lisa Perkins               ...   \n",
       "Lars Axel Nielsen          ...   \n",
       "Kirsten Normann Andersen   ...   \n",
       "Ditte Wedege               ...   \n",
       "Anders Krojgaard Lund      ...   \n",
       "Karen Budtz-Jørgensen      ...   \n",
       "Tina Lund Sørensen         ...   \n",
       "Hanna-Maria Lyng           ...   \n",
       "Danny Rosenkilde           ...   \n",
       "Inger-Marie Tryde          ...   \n",
       "Anders Vistisen            ...   \n",
       "Isabella Arendt            ...   \n",
       "Rasmus Nordqvist           ...   \n",
       "Karin Liltorp              ...   \n",
       "Louise Louring             ...   \n",
       "Heidi Printzen             ...   \n",
       "Camilla Fabricius          ...   \n",
       "Sofie Lippert              ...   \n",
       "Mads Damgaard Mortensen    ...   \n",
       "Søren Lahn Sloth           ...   \n",
       "Anders Pedersen            ...   \n",
       "Sara Grouleff              ...   \n",
       "Lucasia Gregersen          ...   \n",
       "Mohamed Abdikarim          ...   \n",
       "Niko Grünfeld              ...   \n",
       "Mira Issa Bloch            ...   \n",
       "\n",
       "                           Der skal være en klimaafgift på alle fødevarer, der afspejler deres drivhusgasudledning.  \\\n",
       "Navn                                                                                                                  \n",
       "Lisa Perkins                                                               0                                          \n",
       "Lars Axel Nielsen                                                          0                                          \n",
       "Kirsten Normann Andersen                                                   0                                          \n",
       "Ditte Wedege                                                               0                                          \n",
       "Anders Krojgaard Lund                                                      1                                          \n",
       "Karen Budtz-Jørgensen                                                      0                                          \n",
       "Tina Lund Sørensen                                                         0                                          \n",
       "Hanna-Maria Lyng                                                           0                                          \n",
       "Danny Rosenkilde                                                           1                                          \n",
       "Inger-Marie Tryde                                                          0                                          \n",
       "Anders Vistisen                                                            0                                          \n",
       "Isabella Arendt                                                            1                                          \n",
       "Rasmus Nordqvist                                                           0                                          \n",
       "Karin Liltorp                                                              1                                          \n",
       "Louise Louring                                                             0                                          \n",
       "Heidi Printzen                                                             2                                          \n",
       "Camilla Fabricius                                                          2                                          \n",
       "Sofie Lippert                                                              2                                          \n",
       "Mads Damgaard Mortensen                                                    2                                          \n",
       "Søren Lahn Sloth                                                           2                                          \n",
       "Anders Pedersen                                                            2                                          \n",
       "Sara Grouleff                                                              2                                          \n",
       "Lucasia Gregersen                                                          2                                          \n",
       "Mohamed Abdikarim                                                          2                                          \n",
       "Niko Grünfeld                                                              2                                          \n",
       "Mira Issa Bloch                                                            2                                          \n",
       "\n",
       "                           Der skal være en klimaafgift specifikt på alle animalske fødevarer  \\\n",
       "Navn                                                                                            \n",
       "Lisa Perkins                                                               0                    \n",
       "Lars Axel Nielsen                                                          0                    \n",
       "Kirsten Normann Andersen                                                   0                    \n",
       "Ditte Wedege                                                               0                    \n",
       "Anders Krojgaard Lund                                                      0                    \n",
       "Karen Budtz-Jørgensen                                                      0                    \n",
       "Tina Lund Sørensen                                                         0                    \n",
       "Hanna-Maria Lyng                                                           0                    \n",
       "Danny Rosenkilde                                                           0                    \n",
       "Inger-Marie Tryde                                                          0                    \n",
       "Anders Vistisen                                                            0                    \n",
       "Isabella Arendt                                                            0                    \n",
       "Rasmus Nordqvist                                                           0                    \n",
       "Karin Liltorp                                                              0                    \n",
       "Louise Louring                                                             0                    \n",
       "Heidi Printzen                                                             0                    \n",
       "Camilla Fabricius                                                          0                    \n",
       "Sofie Lippert                                                              1                    \n",
       "Mads Damgaard Mortensen                                                    1                    \n",
       "Søren Lahn Sloth                                                           0                    \n",
       "Anders Pedersen                                                            2                    \n",
       "Sara Grouleff                                                              2                    \n",
       "Lucasia Gregersen                                                          2                    \n",
       "Mohamed Abdikarim                                                          2                    \n",
       "Niko Grünfeld                                                              2                    \n",
       "Mira Issa Bloch                                                            2                    \n",
       "\n",
       "                           Finansielle institutioner (banker, pensionskasser og investeringsrådgivere, långivere etc.) skal pålægges hvert år at afrapportere, hvordan deres porteføljer, produkter og långivning bidrager til grøn omstilling af landbruget, herunder især fra animalsk til plantebaseret produktion.  \\\n",
       "Navn                                                                                                                                                                                                                                                                                                                     \n",
       "Lisa Perkins                                                               0                                                                                                                                                                                                                                             \n",
       "Lars Axel Nielsen                                                          0                                                                                                                                                                                                                                             \n",
       "Kirsten Normann Andersen                                                   0                                                                                                                                                                                                                                             \n",
       "Ditte Wedege                                                               0                                                                                                                                                                                                                                             \n",
       "Anders Krojgaard Lund                                                      0                                                                                                                                                                                                                                             \n",
       "Karen Budtz-Jørgensen                                                      0                                                                                                                                                                                                                                             \n",
       "Tina Lund Sørensen                                                         0                                                                                                                                                                                                                                             \n",
       "Hanna-Maria Lyng                                                           0                                                                                                                                                                                                                                             \n",
       "Danny Rosenkilde                                                           0                                                                                                                                                                                                                                             \n",
       "Inger-Marie Tryde                                                          0                                                                                                                                                                                                                                             \n",
       "Anders Vistisen                                                            0                                                                                                                                                                                                                                             \n",
       "Isabella Arendt                                                            0                                                                                                                                                                                                                                             \n",
       "Rasmus Nordqvist                                                           0                                                                                                                                                                                                                                             \n",
       "Karin Liltorp                                                              0                                                                                                                                                                                                                                             \n",
       "Louise Louring                                                             0                                                                                                                                                                                                                                             \n",
       "Heidi Printzen                                                             0                                                                                                                                                                                                                                             \n",
       "Camilla Fabricius                                                          2                                                                                                                                                                                                                                             \n",
       "Sofie Lippert                                                              2                                                                                                                                                                                                                                             \n",
       "Mads Damgaard Mortensen                                                    1                                                                                                                                                                                                                                             \n",
       "Søren Lahn Sloth                                                           0                                                                                                                                                                                                                                             \n",
       "Anders Pedersen                                                            2                                                                                                                                                                                                                                             \n",
       "Sara Grouleff                                                              2                                                                                                                                                                                                                                             \n",
       "Lucasia Gregersen                                                          2                                                                                                                                                                                                                                             \n",
       "Mohamed Abdikarim                                                          2                                                                                                                                                                                                                                             \n",
       "Niko Grünfeld                                                              2                                                                                                                                                                                                                                             \n",
       "Mira Issa Bloch                                                            2                                                                                                                                                                                                                                             \n",
       "\n",
       "                           Fonden for Plantebaserede Fødevarer skal have mindst 200 mio. kr. ekstra årligt udover de eksisterende 85 mio. kr. årligt, så niveauet i højere grad svarer til omfanget af den nødvendige omstilling.  \\\n",
       "Navn                                                                                                                                                                                                                                \n",
       "Lisa Perkins                                                               0                                                                                                                                                        \n",
       "Lars Axel Nielsen                                                          0                                                                                                                                                        \n",
       "Kirsten Normann Andersen                                                   0                                                                                                                                                        \n",
       "Ditte Wedege                                                               0                                                                                                                                                        \n",
       "Anders Krojgaard Lund                                                      0                                                                                                                                                        \n",
       "Karen Budtz-Jørgensen                                                      0                                                                                                                                                        \n",
       "Tina Lund Sørensen                                                         0                                                                                                                                                        \n",
       "Hanna-Maria Lyng                                                           0                                                                                                                                                        \n",
       "Danny Rosenkilde                                                           0                                                                                                                                                        \n",
       "Inger-Marie Tryde                                                          0                                                                                                                                                        \n",
       "Anders Vistisen                                                            0                                                                                                                                                        \n",
       "Isabella Arendt                                                            0                                                                                                                                                        \n",
       "Rasmus Nordqvist                                                           0                                                                                                                                                        \n",
       "Karin Liltorp                                                              0                                                                                                                                                        \n",
       "Louise Louring                                                             0                                                                                                                                                        \n",
       "Heidi Printzen                                                             0                                                                                                                                                        \n",
       "Camilla Fabricius                                                          2                                                                                                                                                        \n",
       "Sofie Lippert                                                              0                                                                                                                                                        \n",
       "Mads Damgaard Mortensen                                                    1                                                                                                                                                        \n",
       "Søren Lahn Sloth                                                           2                                                                                                                                                        \n",
       "Anders Pedersen                                                            2                                                                                                                                                        \n",
       "Sara Grouleff                                                              2                                                                                                                                                        \n",
       "Lucasia Gregersen                                                          1                                                                                                                                                        \n",
       "Mohamed Abdikarim                                                          2                                                                                                                                                        \n",
       "Niko Grünfeld                                                              2                                                                                                                                                        \n",
       "Mira Issa Bloch                                                            2                                                                                                                                                        \n",
       "\n",
       "                           Forskningsmidler indenfor fødevarer skal omlægges til i højere grad at fokusere på klimavenlige, plantebaserede fødevarer frem for animalske.  \\\n",
       "Navn                                                                                                                                                                       \n",
       "Lisa Perkins                                                               0                                                                                               \n",
       "Lars Axel Nielsen                                                          0                                                                                               \n",
       "Kirsten Normann Andersen                                                   0                                                                                               \n",
       "Ditte Wedege                                                               0                                                                                               \n",
       "Anders Krojgaard Lund                                                      0                                                                                               \n",
       "Karen Budtz-Jørgensen                                                      0                                                                                               \n",
       "Tina Lund Sørensen                                                         0                                                                                               \n",
       "Hanna-Maria Lyng                                                           0                                                                                               \n",
       "Danny Rosenkilde                                                           0                                                                                               \n",
       "Inger-Marie Tryde                                                          0                                                                                               \n",
       "Anders Vistisen                                                            0                                                                                               \n",
       "Isabella Arendt                                                            0                                                                                               \n",
       "Rasmus Nordqvist                                                           0                                                                                               \n",
       "Karin Liltorp                                                              0                                                                                               \n",
       "Louise Louring                                                             1                                                                                               \n",
       "Heidi Printzen                                                             1                                                                                               \n",
       "Camilla Fabricius                                                          2                                                                                               \n",
       "Sofie Lippert                                                              1                                                                                               \n",
       "Mads Damgaard Mortensen                                                    1                                                                                               \n",
       "Søren Lahn Sloth                                                           2                                                                                               \n",
       "Anders Pedersen                                                            2                                                                                               \n",
       "Sara Grouleff                                                              2                                                                                               \n",
       "Lucasia Gregersen                                                          2                                                                                               \n",
       "Mohamed Abdikarim                                                          2                                                                                               \n",
       "Niko Grünfeld                                                              2                                                                                               \n",
       "Mira Issa Bloch                                                            2                                                                                               \n",
       "\n",
       "                           Den danske animalske landbrugsproduktion står for en stor andel af den samlede danske drivhusgasudledning. Derfor skal antallet af landbrugsdyr (svin, kyllinger, køer, osv.) mindskes til halvdelen af det nuværende antal i 2030.  \\\n",
       "Navn                                                                                                                                                                                                                                                             \n",
       "Lisa Perkins                                                               0                                                                                                                                                                                     \n",
       "Lars Axel Nielsen                                                          0                                                                                                                                                                                     \n",
       "Kirsten Normann Andersen                                                   0                                                                                                                                                                                     \n",
       "Ditte Wedege                                                               0                                                                                                                                                                                     \n",
       "Anders Krojgaard Lund                                                      0                                                                                                                                                                                     \n",
       "Karen Budtz-Jørgensen                                                      0                                                                                                                                                                                     \n",
       "Tina Lund Sørensen                                                         0                                                                                                                                                                                     \n",
       "Hanna-Maria Lyng                                                           0                                                                                                                                                                                     \n",
       "Danny Rosenkilde                                                           0                                                                                                                                                                                     \n",
       "Inger-Marie Tryde                                                          0                                                                                                                                                                                     \n",
       "Anders Vistisen                                                            0                                                                                                                                                                                     \n",
       "Isabella Arendt                                                            0                                                                                                                                                                                     \n",
       "Rasmus Nordqvist                                                           0                                                                                                                                                                                     \n",
       "Karin Liltorp                                                              1                                                                                                                                                                                     \n",
       "Louise Louring                                                             0                                                                                                                                                                                     \n",
       "Heidi Printzen                                                             0                                                                                                                                                                                     \n",
       "Camilla Fabricius                                                          0                                                                                                                                                                                     \n",
       "Sofie Lippert                                                              2                                                                                                                                                                                     \n",
       "Mads Damgaard Mortensen                                                    2                                                                                                                                                                                     \n",
       "Søren Lahn Sloth                                                           2                                                                                                                                                                                     \n",
       "Anders Pedersen                                                            2                                                                                                                                                                                     \n",
       "Sara Grouleff                                                              2                                                                                                                                                                                     \n",
       "Lucasia Gregersen                                                          2                                                                                                                                                                                     \n",
       "Mohamed Abdikarim                                                          2                                                                                                                                                                                     \n",
       "Niko Grünfeld                                                              2                                                                                                                                                                                     \n",
       "Mira Issa Bloch                                                            2                                                                                                                                                                                     \n",
       "\n",
       "                           Landmænd, der vil omlægge deres produktion til flere plantebaserede afgrøder til mennesker, skal kunne modtage gratis efteruddannelse.  \\\n",
       "Navn                                                                                                                                                                \n",
       "Lisa Perkins                                                               0                                                                                        \n",
       "Lars Axel Nielsen                                                          0                                                                                        \n",
       "Kirsten Normann Andersen                                                   0                                                                                        \n",
       "Ditte Wedege                                                               0                                                                                        \n",
       "Anders Krojgaard Lund                                                      0                                                                                        \n",
       "Karen Budtz-Jørgensen                                                      0                                                                                        \n",
       "Tina Lund Sørensen                                                         1                                                                                        \n",
       "Hanna-Maria Lyng                                                           0                                                                                        \n",
       "Danny Rosenkilde                                                           0                                                                                        \n",
       "Inger-Marie Tryde                                                          0                                                                                        \n",
       "Anders Vistisen                                                            0                                                                                        \n",
       "Isabella Arendt                                                            0                                                                                        \n",
       "Rasmus Nordqvist                                                           0                                                                                        \n",
       "Karin Liltorp                                                              1                                                                                        \n",
       "Louise Louring                                                             1                                                                                        \n",
       "Heidi Printzen                                                             0                                                                                        \n",
       "Camilla Fabricius                                                          0                                                                                        \n",
       "Sofie Lippert                                                              2                                                                                        \n",
       "Mads Damgaard Mortensen                                                    2                                                                                        \n",
       "Søren Lahn Sloth                                                           2                                                                                        \n",
       "Anders Pedersen                                                            1                                                                                        \n",
       "Sara Grouleff                                                              2                                                                                        \n",
       "Lucasia Gregersen                                                          2                                                                                        \n",
       "Mohamed Abdikarim                                                          2                                                                                        \n",
       "Niko Grünfeld                                                              2                                                                                        \n",
       "Mira Issa Bloch                                                            2                                                                                        \n",
       "\n",
       "                           Støtteordninger til fødevareerhvervet skal omlægges til i højere grad at støtte klimavenlige, plantebaserede fødevarer frem for animalske.  \\\n",
       "Navn                                                                                                                                                                    \n",
       "Lisa Perkins                                                               0                                                                                            \n",
       "Lars Axel Nielsen                                                          0                                                                                            \n",
       "Kirsten Normann Andersen                                                   0                                                                                            \n",
       "Ditte Wedege                                                               0                                                                                            \n",
       "Anders Krojgaard Lund                                                      0                                                                                            \n",
       "Karen Budtz-Jørgensen                                                      0                                                                                            \n",
       "Tina Lund Sørensen                                                         0                                                                                            \n",
       "Hanna-Maria Lyng                                                           0                                                                                            \n",
       "Danny Rosenkilde                                                           0                                                                                            \n",
       "Inger-Marie Tryde                                                          0                                                                                            \n",
       "Anders Vistisen                                                            0                                                                                            \n",
       "Isabella Arendt                                                            0                                                                                            \n",
       "Rasmus Nordqvist                                                           0                                                                                            \n",
       "Karin Liltorp                                                              0                                                                                            \n",
       "Louise Louring                                                             1                                                                                            \n",
       "Heidi Printzen                                                             2                                                                                            \n",
       "Camilla Fabricius                                                          0                                                                                            \n",
       "Sofie Lippert                                                              2                                                                                            \n",
       "Mads Damgaard Mortensen                                                    1                                                                                            \n",
       "Søren Lahn Sloth                                                           2                                                                                            \n",
       "Anders Pedersen                                                            2                                                                                            \n",
       "Sara Grouleff                                                              2                                                                                            \n",
       "Lucasia Gregersen                                                          1                                                                                            \n",
       "Mohamed Abdikarim                                                          2                                                                                            \n",
       "Niko Grünfeld                                                              2                                                                                            \n",
       "Mira Issa Bloch                                                            2                                                                                            \n",
       "\n",
       "                           Score       Kost_color  \n",
       "Navn                                               \n",
       "Lisa Perkins                   0             grey  \n",
       "Lars Axel Nielsen              0             grey  \n",
       "Kirsten Normann Andersen       0             grey  \n",
       "Ditte Wedege                   0             grey  \n",
       "Anders Krojgaard Lund          1              red  \n",
       "Karen Budtz-Jørgensen          3             grey  \n",
       "Tina Lund Sørensen             3              red  \n",
       "Hanna-Maria Lyng               3              red  \n",
       "Danny Rosenkilde               3              red  \n",
       "Inger-Marie Tryde              4              red  \n",
       "Anders Vistisen                5              red  \n",
       "Isabella Arendt                7              red  \n",
       "Rasmus Nordqvist               9             grey  \n",
       "Karin Liltorp                  9             blue  \n",
       "Louise Louring                10        turquoise  \n",
       "Heidi Printzen                15              red  \n",
       "Camilla Fabricius             20             grey  \n",
       "Sofie Lippert                 21             blue  \n",
       "Mads Damgaard Mortensen       21              red  \n",
       "Søren Lahn Sloth              22        turquoise  \n",
       "Anders Pedersen               25             blue  \n",
       "Sara Grouleff                 26  rgb(140,190,84)  \n",
       "Lucasia Gregersen             28        turquoise  \n",
       "Mohamed Abdikarim             30        turquoise  \n",
       "Niko Grünfeld                 32             grey  \n",
       "Mira Issa Bloch               32             blue  \n",
       "\n",
       "[26 rows x 27 columns]"
      ]
     },
     "execution_count": 115,
     "metadata": {},
     "output_type": "execute_result"
    }
   ],
   "source": [
    "df_temp = df_nameIndex[df_nameIndex[\"Storkreds\"]==value]\n",
    "df_temp = df_temp.sort_values(\"Score\")\n",
    "df_temp"
   ]
  },
  {
   "cell_type": "code",
   "execution_count": 116,
   "id": "661ddb71",
   "metadata": {
    "scrolled": true
   },
   "outputs": [
    {
     "data": {
      "application/vnd.plotly.v1+json": {
       "config": {
        "plotlyServerURL": "https://plot.ly"
       },
       "data": [
        {
         "hoverinfo": [
          "none",
          "x+y+text"
         ],
         "hovertext": [
          "I. Liberal Alliance",
          "I. Liberal Alliance"
         ],
         "line": {
          "color": "rgb(140,190,84)"
         },
         "marker": {
          "color": "grey",
          "size": [
           0,
           12
          ]
         },
         "showlegend": false,
         "type": "scatter",
         "x": [
          0,
          0
         ],
         "y": [
          0,
          0
         ]
        },
        {
         "hoverinfo": [
          "none",
          "x+y+text"
         ],
         "hovertext": [
          "D. Nye Borgerlige",
          "D. Nye Borgerlige"
         ],
         "line": {
          "color": "rgb(140,190,84)"
         },
         "marker": {
          "color": "grey",
          "size": [
           0,
           12
          ]
         },
         "showlegend": false,
         "type": "scatter",
         "x": [
          0,
          0
         ],
         "y": [
          1,
          1
         ]
        },
        {
         "hoverinfo": [
          "none",
          "x+y+text"
         ],
         "hovertext": [
          "F. Socialistisk Folkeparti",
          "F. Socialistisk Folkeparti"
         ],
         "line": {
          "color": "rgb(140,190,84)"
         },
         "marker": {
          "color": "grey",
          "size": [
           0,
           12
          ]
         },
         "showlegend": false,
         "type": "scatter",
         "x": [
          0,
          1
         ],
         "y": [
          2,
          2
         ]
        },
        {
         "hoverinfo": [
          "none",
          "x+y+text"
         ],
         "hovertext": [
          "I. Liberal Alliance",
          "I. Liberal Alliance"
         ],
         "line": {
          "color": "rgb(140,190,84)"
         },
         "marker": {
          "color": "grey",
          "size": [
           0,
           12
          ]
         },
         "showlegend": false,
         "type": "scatter",
         "x": [
          0,
          3
         ],
         "y": [
          3,
          3
         ]
        },
        {
         "hoverinfo": [
          "none",
          "x+y+text"
         ],
         "hovertext": [
          "C. Det Konservative Folkeparti",
          "C. Det Konservative Folkeparti"
         ],
         "line": {
          "color": "rgb(140,190,84)"
         },
         "marker": {
          "color": "red",
          "size": [
           0,
           12
          ]
         },
         "showlegend": false,
         "type": "scatter",
         "x": [
          0,
          3
         ],
         "y": [
          4,
          4
         ]
        },
        {
         "hoverinfo": [
          "none",
          "x+y+text"
         ],
         "hovertext": [
          "Ø. Enhedslisten",
          "Ø. Enhedslisten"
         ],
         "line": {
          "color": "rgb(140,190,84)"
         },
         "marker": {
          "color": "grey",
          "size": [
           0,
           12
          ]
         },
         "showlegend": false,
         "type": "scatter",
         "x": [
          0,
          5
         ],
         "y": [
          5,
          5
         ]
        },
        {
         "hoverinfo": [
          "none",
          "x+y+text"
         ],
         "hovertext": [
          "V. Venstre",
          "V. Venstre"
         ],
         "line": {
          "color": "rgb(140,190,84)"
         },
         "marker": {
          "color": "red",
          "size": [
           0,
           12
          ]
         },
         "showlegend": false,
         "type": "scatter",
         "x": [
          0,
          9
         ],
         "y": [
          6,
          6
         ]
        },
        {
         "hoverinfo": [
          "none",
          "x+y+text"
         ],
         "hovertext": [
          "K. Kristendemokraterne",
          "K. Kristendemokraterne"
         ],
         "line": {
          "color": "rgb(140,190,84)"
         },
         "marker": {
          "color": "red",
          "size": [
           0,
           12
          ]
         },
         "showlegend": false,
         "type": "scatter",
         "x": [
          0,
          10
         ],
         "y": [
          7,
          7
         ]
        },
        {
         "hoverinfo": [
          "none",
          "x+y+text"
         ],
         "hovertext": [
          "O. Dansk Folkeparti",
          "O. Dansk Folkeparti"
         ],
         "line": {
          "color": "rgb(140,190,84)"
         },
         "marker": {
          "color": "red",
          "size": [
           0,
           12
          ]
         },
         "showlegend": false,
         "type": "scatter",
         "x": [
          0,
          20
         ],
         "y": [
          8,
          8
         ]
        },
        {
         "hoverinfo": [
          "none",
          "x+y+text"
         ],
         "hovertext": [
          "D. Nye Borgerlige",
          "D. Nye Borgerlige"
         ],
         "line": {
          "color": "rgb(140,190,84)"
         },
         "marker": {
          "color": "red",
          "size": [
           0,
           12
          ]
         },
         "showlegend": false,
         "type": "scatter",
         "x": [
          0,
          21
         ],
         "y": [
          9,
          9
         ]
        },
        {
         "hoverinfo": [
          "none",
          "x+y+text"
         ],
         "hovertext": [
          "O. Dansk Folkeparti",
          "O. Dansk Folkeparti"
         ],
         "line": {
          "color": "rgb(140,190,84)"
         },
         "marker": {
          "color": "red",
          "size": [
           0,
           12
          ]
         },
         "showlegend": false,
         "type": "scatter",
         "x": [
          0,
          25
         ],
         "y": [
          10,
          10
         ]
        },
        {
         "hoverinfo": [
          "none",
          "x+y+text"
         ],
         "hovertext": [
          "C. Det Konservative Folkeparti",
          "C. Det Konservative Folkeparti"
         ],
         "line": {
          "color": "rgb(140,190,84)"
         },
         "marker": {
          "color": "red",
          "size": [
           0,
           12
          ]
         },
         "showlegend": false,
         "type": "scatter",
         "x": [
          0,
          28
         ],
         "y": [
          11,
          11
         ]
        },
        {
         "hoverinfo": [
          "none",
          "x+y+text"
         ],
         "hovertext": [
          "F. Socialistisk Folkeparti",
          "F. Socialistisk Folkeparti"
         ],
         "line": {
          "color": "rgb(140,190,84)"
         },
         "marker": {
          "color": "grey",
          "size": [
           0,
           12
          ]
         },
         "showlegend": false,
         "type": "scatter",
         "x": [
          0,
          32
         ],
         "y": [
          12,
          12
         ]
        },
        {
         "marker": {
          "color": "red",
          "size": [
           0
          ]
         },
         "name": "Kødspiser",
         "type": "scatter",
         "x": [
          0
         ],
         "y": [
          0
         ]
        },
        {
         "marker": {
          "color": "turquoise",
          "size": [
           0
          ]
         },
         "name": "Fleksitar",
         "type": "scatter",
         "x": [
          0
         ],
         "y": [
          0
         ]
        },
        {
         "marker": {
          "color": "blue",
          "size": [
           0
          ]
         },
         "name": "Pescetar",
         "type": "scatter",
         "x": [
          0
         ],
         "y": [
          0
         ]
        },
        {
         "marker": {
          "color": "rgb(140,190,84)",
          "size": [
           0
          ]
         },
         "name": "Vegetar",
         "type": "scatter",
         "x": [
          0
         ],
         "y": [
          0
         ]
        },
        {
         "marker": {
          "color": "rgb(16,114,60)",
          "size": [
           0
          ]
         },
         "name": "Veganer",
         "type": "scatter",
         "x": [
          0
         ],
         "y": [
          0
         ]
        },
        {
         "marker": {
          "color": "grey",
          "size": [
           0
          ]
         },
         "name": "Ønsker ikke at svare",
         "type": "scatter",
         "x": [
          0
         ],
         "y": [
          0
         ]
        }
       ],
       "layout": {
        "legend": {
         "itemsizing": "constant"
        },
        "template": {
         "data": {
          "bar": [
           {
            "error_x": {
             "color": "#2a3f5f"
            },
            "error_y": {
             "color": "#2a3f5f"
            },
            "marker": {
             "line": {
              "color": "#E5ECF6",
              "width": 0.5
             },
             "pattern": {
              "fillmode": "overlay",
              "size": 10,
              "solidity": 0.2
             }
            },
            "type": "bar"
           }
          ],
          "barpolar": [
           {
            "marker": {
             "line": {
              "color": "#E5ECF6",
              "width": 0.5
             },
             "pattern": {
              "fillmode": "overlay",
              "size": 10,
              "solidity": 0.2
             }
            },
            "type": "barpolar"
           }
          ],
          "carpet": [
           {
            "aaxis": {
             "endlinecolor": "#2a3f5f",
             "gridcolor": "white",
             "linecolor": "white",
             "minorgridcolor": "white",
             "startlinecolor": "#2a3f5f"
            },
            "baxis": {
             "endlinecolor": "#2a3f5f",
             "gridcolor": "white",
             "linecolor": "white",
             "minorgridcolor": "white",
             "startlinecolor": "#2a3f5f"
            },
            "type": "carpet"
           }
          ],
          "choropleth": [
           {
            "colorbar": {
             "outlinewidth": 0,
             "ticks": ""
            },
            "type": "choropleth"
           }
          ],
          "contour": [
           {
            "colorbar": {
             "outlinewidth": 0,
             "ticks": ""
            },
            "colorscale": [
             [
              0,
              "#0d0887"
             ],
             [
              0.1111111111111111,
              "#46039f"
             ],
             [
              0.2222222222222222,
              "#7201a8"
             ],
             [
              0.3333333333333333,
              "#9c179e"
             ],
             [
              0.4444444444444444,
              "#bd3786"
             ],
             [
              0.5555555555555556,
              "#d8576b"
             ],
             [
              0.6666666666666666,
              "#ed7953"
             ],
             [
              0.7777777777777778,
              "#fb9f3a"
             ],
             [
              0.8888888888888888,
              "#fdca26"
             ],
             [
              1,
              "#f0f921"
             ]
            ],
            "type": "contour"
           }
          ],
          "contourcarpet": [
           {
            "colorbar": {
             "outlinewidth": 0,
             "ticks": ""
            },
            "type": "contourcarpet"
           }
          ],
          "heatmap": [
           {
            "colorbar": {
             "outlinewidth": 0,
             "ticks": ""
            },
            "colorscale": [
             [
              0,
              "#0d0887"
             ],
             [
              0.1111111111111111,
              "#46039f"
             ],
             [
              0.2222222222222222,
              "#7201a8"
             ],
             [
              0.3333333333333333,
              "#9c179e"
             ],
             [
              0.4444444444444444,
              "#bd3786"
             ],
             [
              0.5555555555555556,
              "#d8576b"
             ],
             [
              0.6666666666666666,
              "#ed7953"
             ],
             [
              0.7777777777777778,
              "#fb9f3a"
             ],
             [
              0.8888888888888888,
              "#fdca26"
             ],
             [
              1,
              "#f0f921"
             ]
            ],
            "type": "heatmap"
           }
          ],
          "heatmapgl": [
           {
            "colorbar": {
             "outlinewidth": 0,
             "ticks": ""
            },
            "colorscale": [
             [
              0,
              "#0d0887"
             ],
             [
              0.1111111111111111,
              "#46039f"
             ],
             [
              0.2222222222222222,
              "#7201a8"
             ],
             [
              0.3333333333333333,
              "#9c179e"
             ],
             [
              0.4444444444444444,
              "#bd3786"
             ],
             [
              0.5555555555555556,
              "#d8576b"
             ],
             [
              0.6666666666666666,
              "#ed7953"
             ],
             [
              0.7777777777777778,
              "#fb9f3a"
             ],
             [
              0.8888888888888888,
              "#fdca26"
             ],
             [
              1,
              "#f0f921"
             ]
            ],
            "type": "heatmapgl"
           }
          ],
          "histogram": [
           {
            "marker": {
             "pattern": {
              "fillmode": "overlay",
              "size": 10,
              "solidity": 0.2
             }
            },
            "type": "histogram"
           }
          ],
          "histogram2d": [
           {
            "colorbar": {
             "outlinewidth": 0,
             "ticks": ""
            },
            "colorscale": [
             [
              0,
              "#0d0887"
             ],
             [
              0.1111111111111111,
              "#46039f"
             ],
             [
              0.2222222222222222,
              "#7201a8"
             ],
             [
              0.3333333333333333,
              "#9c179e"
             ],
             [
              0.4444444444444444,
              "#bd3786"
             ],
             [
              0.5555555555555556,
              "#d8576b"
             ],
             [
              0.6666666666666666,
              "#ed7953"
             ],
             [
              0.7777777777777778,
              "#fb9f3a"
             ],
             [
              0.8888888888888888,
              "#fdca26"
             ],
             [
              1,
              "#f0f921"
             ]
            ],
            "type": "histogram2d"
           }
          ],
          "histogram2dcontour": [
           {
            "colorbar": {
             "outlinewidth": 0,
             "ticks": ""
            },
            "colorscale": [
             [
              0,
              "#0d0887"
             ],
             [
              0.1111111111111111,
              "#46039f"
             ],
             [
              0.2222222222222222,
              "#7201a8"
             ],
             [
              0.3333333333333333,
              "#9c179e"
             ],
             [
              0.4444444444444444,
              "#bd3786"
             ],
             [
              0.5555555555555556,
              "#d8576b"
             ],
             [
              0.6666666666666666,
              "#ed7953"
             ],
             [
              0.7777777777777778,
              "#fb9f3a"
             ],
             [
              0.8888888888888888,
              "#fdca26"
             ],
             [
              1,
              "#f0f921"
             ]
            ],
            "type": "histogram2dcontour"
           }
          ],
          "mesh3d": [
           {
            "colorbar": {
             "outlinewidth": 0,
             "ticks": ""
            },
            "type": "mesh3d"
           }
          ],
          "parcoords": [
           {
            "line": {
             "colorbar": {
              "outlinewidth": 0,
              "ticks": ""
             }
            },
            "type": "parcoords"
           }
          ],
          "pie": [
           {
            "automargin": true,
            "type": "pie"
           }
          ],
          "scatter": [
           {
            "fillpattern": {
             "fillmode": "overlay",
             "size": 10,
             "solidity": 0.2
            },
            "type": "scatter"
           }
          ],
          "scatter3d": [
           {
            "line": {
             "colorbar": {
              "outlinewidth": 0,
              "ticks": ""
             }
            },
            "marker": {
             "colorbar": {
              "outlinewidth": 0,
              "ticks": ""
             }
            },
            "type": "scatter3d"
           }
          ],
          "scattercarpet": [
           {
            "marker": {
             "colorbar": {
              "outlinewidth": 0,
              "ticks": ""
             }
            },
            "type": "scattercarpet"
           }
          ],
          "scattergeo": [
           {
            "marker": {
             "colorbar": {
              "outlinewidth": 0,
              "ticks": ""
             }
            },
            "type": "scattergeo"
           }
          ],
          "scattergl": [
           {
            "marker": {
             "colorbar": {
              "outlinewidth": 0,
              "ticks": ""
             }
            },
            "type": "scattergl"
           }
          ],
          "scattermapbox": [
           {
            "marker": {
             "colorbar": {
              "outlinewidth": 0,
              "ticks": ""
             }
            },
            "type": "scattermapbox"
           }
          ],
          "scatterpolar": [
           {
            "marker": {
             "colorbar": {
              "outlinewidth": 0,
              "ticks": ""
             }
            },
            "type": "scatterpolar"
           }
          ],
          "scatterpolargl": [
           {
            "marker": {
             "colorbar": {
              "outlinewidth": 0,
              "ticks": ""
             }
            },
            "type": "scatterpolargl"
           }
          ],
          "scatterternary": [
           {
            "marker": {
             "colorbar": {
              "outlinewidth": 0,
              "ticks": ""
             }
            },
            "type": "scatterternary"
           }
          ],
          "surface": [
           {
            "colorbar": {
             "outlinewidth": 0,
             "ticks": ""
            },
            "colorscale": [
             [
              0,
              "#0d0887"
             ],
             [
              0.1111111111111111,
              "#46039f"
             ],
             [
              0.2222222222222222,
              "#7201a8"
             ],
             [
              0.3333333333333333,
              "#9c179e"
             ],
             [
              0.4444444444444444,
              "#bd3786"
             ],
             [
              0.5555555555555556,
              "#d8576b"
             ],
             [
              0.6666666666666666,
              "#ed7953"
             ],
             [
              0.7777777777777778,
              "#fb9f3a"
             ],
             [
              0.8888888888888888,
              "#fdca26"
             ],
             [
              1,
              "#f0f921"
             ]
            ],
            "type": "surface"
           }
          ],
          "table": [
           {
            "cells": {
             "fill": {
              "color": "#EBF0F8"
             },
             "line": {
              "color": "white"
             }
            },
            "header": {
             "fill": {
              "color": "#C8D4E3"
             },
             "line": {
              "color": "white"
             }
            },
            "type": "table"
           }
          ]
         },
         "layout": {
          "annotationdefaults": {
           "arrowcolor": "#2a3f5f",
           "arrowhead": 0,
           "arrowwidth": 1
          },
          "autotypenumbers": "strict",
          "coloraxis": {
           "colorbar": {
            "outlinewidth": 0,
            "ticks": ""
           }
          },
          "colorscale": {
           "diverging": [
            [
             0,
             "#8e0152"
            ],
            [
             0.1,
             "#c51b7d"
            ],
            [
             0.2,
             "#de77ae"
            ],
            [
             0.3,
             "#f1b6da"
            ],
            [
             0.4,
             "#fde0ef"
            ],
            [
             0.5,
             "#f7f7f7"
            ],
            [
             0.6,
             "#e6f5d0"
            ],
            [
             0.7,
             "#b8e186"
            ],
            [
             0.8,
             "#7fbc41"
            ],
            [
             0.9,
             "#4d9221"
            ],
            [
             1,
             "#276419"
            ]
           ],
           "sequential": [
            [
             0,
             "#0d0887"
            ],
            [
             0.1111111111111111,
             "#46039f"
            ],
            [
             0.2222222222222222,
             "#7201a8"
            ],
            [
             0.3333333333333333,
             "#9c179e"
            ],
            [
             0.4444444444444444,
             "#bd3786"
            ],
            [
             0.5555555555555556,
             "#d8576b"
            ],
            [
             0.6666666666666666,
             "#ed7953"
            ],
            [
             0.7777777777777778,
             "#fb9f3a"
            ],
            [
             0.8888888888888888,
             "#fdca26"
            ],
            [
             1,
             "#f0f921"
            ]
           ],
           "sequentialminus": [
            [
             0,
             "#0d0887"
            ],
            [
             0.1111111111111111,
             "#46039f"
            ],
            [
             0.2222222222222222,
             "#7201a8"
            ],
            [
             0.3333333333333333,
             "#9c179e"
            ],
            [
             0.4444444444444444,
             "#bd3786"
            ],
            [
             0.5555555555555556,
             "#d8576b"
            ],
            [
             0.6666666666666666,
             "#ed7953"
            ],
            [
             0.7777777777777778,
             "#fb9f3a"
            ],
            [
             0.8888888888888888,
             "#fdca26"
            ],
            [
             1,
             "#f0f921"
            ]
           ]
          },
          "colorway": [
           "#636efa",
           "#EF553B",
           "#00cc96",
           "#ab63fa",
           "#FFA15A",
           "#19d3f3",
           "#FF6692",
           "#B6E880",
           "#FF97FF",
           "#FECB52"
          ],
          "font": {
           "color": "#2a3f5f"
          },
          "geo": {
           "bgcolor": "white",
           "lakecolor": "white",
           "landcolor": "#E5ECF6",
           "showlakes": true,
           "showland": true,
           "subunitcolor": "white"
          },
          "hoverlabel": {
           "align": "left"
          },
          "hovermode": "closest",
          "mapbox": {
           "style": "light"
          },
          "paper_bgcolor": "white",
          "plot_bgcolor": "#E5ECF6",
          "polar": {
           "angularaxis": {
            "gridcolor": "white",
            "linecolor": "white",
            "ticks": ""
           },
           "bgcolor": "#E5ECF6",
           "radialaxis": {
            "gridcolor": "white",
            "linecolor": "white",
            "ticks": ""
           }
          },
          "scene": {
           "xaxis": {
            "backgroundcolor": "#E5ECF6",
            "gridcolor": "white",
            "gridwidth": 2,
            "linecolor": "white",
            "showbackground": true,
            "ticks": "",
            "zerolinecolor": "white"
           },
           "yaxis": {
            "backgroundcolor": "#E5ECF6",
            "gridcolor": "white",
            "gridwidth": 2,
            "linecolor": "white",
            "showbackground": true,
            "ticks": "",
            "zerolinecolor": "white"
           },
           "zaxis": {
            "backgroundcolor": "#E5ECF6",
            "gridcolor": "white",
            "gridwidth": 2,
            "linecolor": "white",
            "showbackground": true,
            "ticks": "",
            "zerolinecolor": "white"
           }
          },
          "shapedefaults": {
           "line": {
            "color": "#2a3f5f"
           }
          },
          "ternary": {
           "aaxis": {
            "gridcolor": "white",
            "linecolor": "white",
            "ticks": ""
           },
           "baxis": {
            "gridcolor": "white",
            "linecolor": "white",
            "ticks": ""
           },
           "bgcolor": "#E5ECF6",
           "caxis": {
            "gridcolor": "white",
            "linecolor": "white",
            "ticks": ""
           }
          },
          "title": {
           "x": 0.05
          },
          "xaxis": {
           "automargin": true,
           "gridcolor": "white",
           "linecolor": "white",
           "ticks": "",
           "title": {
            "standoff": 15
           },
           "zerolinecolor": "white",
           "zerolinewidth": 2
          },
          "yaxis": {
           "automargin": true,
           "gridcolor": "white",
           "linecolor": "white",
           "ticks": "",
           "title": {
            "standoff": 15
           },
           "zerolinecolor": "white",
           "zerolinewidth": 2
          }
         }
        },
        "title": {
         "text": "Kandidater for Østjyllands Storkreds"
        },
        "yaxis": {
         "tickmode": "array",
         "ticktext": [
          "Lisa Perkins",
          "Lars Axel Nielsen ",
          "Kirsten Normann Andersen ",
          "Ditte Wedege",
          "Anders Krojgaard Lund",
          "Karen Budtz-Jørgensen",
          "Tina Lund Sørensen",
          "Hanna-Maria Lyng",
          "Danny Rosenkilde",
          "Inger-Marie Tryde",
          "Anders Vistisen",
          "Isabella Arendt",
          "Rasmus Nordqvist ",
          "Karin Liltorp",
          "Louise Louring",
          "Heidi Printzen",
          "Camilla Fabricius",
          "Sofie Lippert ",
          "Mads Damgaard Mortensen",
          "Søren Lahn Sloth",
          "Anders Pedersen ",
          "Sara Grouleff",
          "Lucasia Gregersen",
          "Mohamed Abdikarim ",
          "Niko Grünfeld",
          "Mira Issa Bloch"
         ],
         "tickvals": [
          0,
          1,
          2,
          3,
          4,
          5,
          6,
          7,
          8,
          9,
          10,
          11,
          12,
          13,
          14,
          15,
          16,
          17,
          18,
          19,
          20,
          21,
          22,
          23,
          24,
          25
         ]
        }
       }
      },
      "text/html": [
       "<div>                            <div id=\"e6405c94-41e2-45e5-b0bc-4b39aa731044\" class=\"plotly-graph-div\" style=\"height:525px; width:100%;\"></div>            <script type=\"text/javascript\">                require([\"plotly\"], function(Plotly) {                    window.PLOTLYENV=window.PLOTLYENV || {};                                    if (document.getElementById(\"e6405c94-41e2-45e5-b0bc-4b39aa731044\")) {                    Plotly.newPlot(                        \"e6405c94-41e2-45e5-b0bc-4b39aa731044\",                        [{\"hoverinfo\":[\"none\",\"x+y+text\"],\"hovertext\":[\"I. Liberal Alliance\",\"I. Liberal Alliance\"],\"line\":{\"color\":\"rgb(140,190,84)\"},\"marker\":{\"color\":\"grey\",\"size\":[0,12]},\"showlegend\":false,\"x\":[0,0],\"y\":[0,0],\"type\":\"scatter\"},{\"hoverinfo\":[\"none\",\"x+y+text\"],\"hovertext\":[\"D. Nye Borgerlige\",\"D. Nye Borgerlige\"],\"line\":{\"color\":\"rgb(140,190,84)\"},\"marker\":{\"color\":\"grey\",\"size\":[0,12]},\"showlegend\":false,\"x\":[0,0],\"y\":[1,1],\"type\":\"scatter\"},{\"hoverinfo\":[\"none\",\"x+y+text\"],\"hovertext\":[\"F. Socialistisk Folkeparti\",\"F. Socialistisk Folkeparti\"],\"line\":{\"color\":\"rgb(140,190,84)\"},\"marker\":{\"color\":\"grey\",\"size\":[0,12]},\"showlegend\":false,\"x\":[0,1],\"y\":[2,2],\"type\":\"scatter\"},{\"hoverinfo\":[\"none\",\"x+y+text\"],\"hovertext\":[\"I. Liberal Alliance\",\"I. Liberal Alliance\"],\"line\":{\"color\":\"rgb(140,190,84)\"},\"marker\":{\"color\":\"grey\",\"size\":[0,12]},\"showlegend\":false,\"x\":[0,3],\"y\":[3,3],\"type\":\"scatter\"},{\"hoverinfo\":[\"none\",\"x+y+text\"],\"hovertext\":[\"C. Det Konservative Folkeparti\",\"C. Det Konservative Folkeparti\"],\"line\":{\"color\":\"rgb(140,190,84)\"},\"marker\":{\"color\":\"red\",\"size\":[0,12]},\"showlegend\":false,\"x\":[0,3],\"y\":[4,4],\"type\":\"scatter\"},{\"hoverinfo\":[\"none\",\"x+y+text\"],\"hovertext\":[\"\\u00d8. Enhedslisten\",\"\\u00d8. Enhedslisten\"],\"line\":{\"color\":\"rgb(140,190,84)\"},\"marker\":{\"color\":\"grey\",\"size\":[0,12]},\"showlegend\":false,\"x\":[0,5],\"y\":[5,5],\"type\":\"scatter\"},{\"hoverinfo\":[\"none\",\"x+y+text\"],\"hovertext\":[\"V. Venstre\",\"V. Venstre\"],\"line\":{\"color\":\"rgb(140,190,84)\"},\"marker\":{\"color\":\"red\",\"size\":[0,12]},\"showlegend\":false,\"x\":[0,9],\"y\":[6,6],\"type\":\"scatter\"},{\"hoverinfo\":[\"none\",\"x+y+text\"],\"hovertext\":[\"K. Kristendemokraterne\",\"K. Kristendemokraterne\"],\"line\":{\"color\":\"rgb(140,190,84)\"},\"marker\":{\"color\":\"red\",\"size\":[0,12]},\"showlegend\":false,\"x\":[0,10],\"y\":[7,7],\"type\":\"scatter\"},{\"hoverinfo\":[\"none\",\"x+y+text\"],\"hovertext\":[\"O. Dansk Folkeparti\",\"O. Dansk Folkeparti\"],\"line\":{\"color\":\"rgb(140,190,84)\"},\"marker\":{\"color\":\"red\",\"size\":[0,12]},\"showlegend\":false,\"x\":[0,20],\"y\":[8,8],\"type\":\"scatter\"},{\"hoverinfo\":[\"none\",\"x+y+text\"],\"hovertext\":[\"D. Nye Borgerlige\",\"D. Nye Borgerlige\"],\"line\":{\"color\":\"rgb(140,190,84)\"},\"marker\":{\"color\":\"red\",\"size\":[0,12]},\"showlegend\":false,\"x\":[0,21],\"y\":[9,9],\"type\":\"scatter\"},{\"hoverinfo\":[\"none\",\"x+y+text\"],\"hovertext\":[\"O. Dansk Folkeparti\",\"O. Dansk Folkeparti\"],\"line\":{\"color\":\"rgb(140,190,84)\"},\"marker\":{\"color\":\"red\",\"size\":[0,12]},\"showlegend\":false,\"x\":[0,25],\"y\":[10,10],\"type\":\"scatter\"},{\"hoverinfo\":[\"none\",\"x+y+text\"],\"hovertext\":[\"C. Det Konservative Folkeparti\",\"C. Det Konservative Folkeparti\"],\"line\":{\"color\":\"rgb(140,190,84)\"},\"marker\":{\"color\":\"red\",\"size\":[0,12]},\"showlegend\":false,\"x\":[0,28],\"y\":[11,11],\"type\":\"scatter\"},{\"hoverinfo\":[\"none\",\"x+y+text\"],\"hovertext\":[\"F. Socialistisk Folkeparti\",\"F. Socialistisk Folkeparti\"],\"line\":{\"color\":\"rgb(140,190,84)\"},\"marker\":{\"color\":\"grey\",\"size\":[0,12]},\"showlegend\":false,\"x\":[0,32],\"y\":[12,12],\"type\":\"scatter\"},{\"marker\":{\"color\":\"red\",\"size\":[0]},\"name\":\"K\\u00f8dspiser\",\"x\":[0],\"y\":[0],\"type\":\"scatter\"},{\"marker\":{\"color\":\"turquoise\",\"size\":[0]},\"name\":\"Fleksitar\",\"x\":[0],\"y\":[0],\"type\":\"scatter\"},{\"marker\":{\"color\":\"blue\",\"size\":[0]},\"name\":\"Pescetar\",\"x\":[0],\"y\":[0],\"type\":\"scatter\"},{\"marker\":{\"color\":\"rgb(140,190,84)\",\"size\":[0]},\"name\":\"Vegetar\",\"x\":[0],\"y\":[0],\"type\":\"scatter\"},{\"marker\":{\"color\":\"rgb(16,114,60)\",\"size\":[0]},\"name\":\"Veganer\",\"x\":[0],\"y\":[0],\"type\":\"scatter\"},{\"marker\":{\"color\":\"grey\",\"size\":[0]},\"name\":\"\\u00d8nsker ikke at svare\",\"x\":[0],\"y\":[0],\"type\":\"scatter\"}],                        {\"template\":{\"data\":{\"histogram2dcontour\":[{\"type\":\"histogram2dcontour\",\"colorbar\":{\"outlinewidth\":0,\"ticks\":\"\"},\"colorscale\":[[0.0,\"#0d0887\"],[0.1111111111111111,\"#46039f\"],[0.2222222222222222,\"#7201a8\"],[0.3333333333333333,\"#9c179e\"],[0.4444444444444444,\"#bd3786\"],[0.5555555555555556,\"#d8576b\"],[0.6666666666666666,\"#ed7953\"],[0.7777777777777778,\"#fb9f3a\"],[0.8888888888888888,\"#fdca26\"],[1.0,\"#f0f921\"]]}],\"choropleth\":[{\"type\":\"choropleth\",\"colorbar\":{\"outlinewidth\":0,\"ticks\":\"\"}}],\"histogram2d\":[{\"type\":\"histogram2d\",\"colorbar\":{\"outlinewidth\":0,\"ticks\":\"\"},\"colorscale\":[[0.0,\"#0d0887\"],[0.1111111111111111,\"#46039f\"],[0.2222222222222222,\"#7201a8\"],[0.3333333333333333,\"#9c179e\"],[0.4444444444444444,\"#bd3786\"],[0.5555555555555556,\"#d8576b\"],[0.6666666666666666,\"#ed7953\"],[0.7777777777777778,\"#fb9f3a\"],[0.8888888888888888,\"#fdca26\"],[1.0,\"#f0f921\"]]}],\"heatmap\":[{\"type\":\"heatmap\",\"colorbar\":{\"outlinewidth\":0,\"ticks\":\"\"},\"colorscale\":[[0.0,\"#0d0887\"],[0.1111111111111111,\"#46039f\"],[0.2222222222222222,\"#7201a8\"],[0.3333333333333333,\"#9c179e\"],[0.4444444444444444,\"#bd3786\"],[0.5555555555555556,\"#d8576b\"],[0.6666666666666666,\"#ed7953\"],[0.7777777777777778,\"#fb9f3a\"],[0.8888888888888888,\"#fdca26\"],[1.0,\"#f0f921\"]]}],\"heatmapgl\":[{\"type\":\"heatmapgl\",\"colorbar\":{\"outlinewidth\":0,\"ticks\":\"\"},\"colorscale\":[[0.0,\"#0d0887\"],[0.1111111111111111,\"#46039f\"],[0.2222222222222222,\"#7201a8\"],[0.3333333333333333,\"#9c179e\"],[0.4444444444444444,\"#bd3786\"],[0.5555555555555556,\"#d8576b\"],[0.6666666666666666,\"#ed7953\"],[0.7777777777777778,\"#fb9f3a\"],[0.8888888888888888,\"#fdca26\"],[1.0,\"#f0f921\"]]}],\"contourcarpet\":[{\"type\":\"contourcarpet\",\"colorbar\":{\"outlinewidth\":0,\"ticks\":\"\"}}],\"contour\":[{\"type\":\"contour\",\"colorbar\":{\"outlinewidth\":0,\"ticks\":\"\"},\"colorscale\":[[0.0,\"#0d0887\"],[0.1111111111111111,\"#46039f\"],[0.2222222222222222,\"#7201a8\"],[0.3333333333333333,\"#9c179e\"],[0.4444444444444444,\"#bd3786\"],[0.5555555555555556,\"#d8576b\"],[0.6666666666666666,\"#ed7953\"],[0.7777777777777778,\"#fb9f3a\"],[0.8888888888888888,\"#fdca26\"],[1.0,\"#f0f921\"]]}],\"surface\":[{\"type\":\"surface\",\"colorbar\":{\"outlinewidth\":0,\"ticks\":\"\"},\"colorscale\":[[0.0,\"#0d0887\"],[0.1111111111111111,\"#46039f\"],[0.2222222222222222,\"#7201a8\"],[0.3333333333333333,\"#9c179e\"],[0.4444444444444444,\"#bd3786\"],[0.5555555555555556,\"#d8576b\"],[0.6666666666666666,\"#ed7953\"],[0.7777777777777778,\"#fb9f3a\"],[0.8888888888888888,\"#fdca26\"],[1.0,\"#f0f921\"]]}],\"mesh3d\":[{\"type\":\"mesh3d\",\"colorbar\":{\"outlinewidth\":0,\"ticks\":\"\"}}],\"scatter\":[{\"fillpattern\":{\"fillmode\":\"overlay\",\"size\":10,\"solidity\":0.2},\"type\":\"scatter\"}],\"parcoords\":[{\"type\":\"parcoords\",\"line\":{\"colorbar\":{\"outlinewidth\":0,\"ticks\":\"\"}}}],\"scatterpolargl\":[{\"type\":\"scatterpolargl\",\"marker\":{\"colorbar\":{\"outlinewidth\":0,\"ticks\":\"\"}}}],\"bar\":[{\"error_x\":{\"color\":\"#2a3f5f\"},\"error_y\":{\"color\":\"#2a3f5f\"},\"marker\":{\"line\":{\"color\":\"#E5ECF6\",\"width\":0.5},\"pattern\":{\"fillmode\":\"overlay\",\"size\":10,\"solidity\":0.2}},\"type\":\"bar\"}],\"scattergeo\":[{\"type\":\"scattergeo\",\"marker\":{\"colorbar\":{\"outlinewidth\":0,\"ticks\":\"\"}}}],\"scatterpolar\":[{\"type\":\"scatterpolar\",\"marker\":{\"colorbar\":{\"outlinewidth\":0,\"ticks\":\"\"}}}],\"histogram\":[{\"marker\":{\"pattern\":{\"fillmode\":\"overlay\",\"size\":10,\"solidity\":0.2}},\"type\":\"histogram\"}],\"scattergl\":[{\"type\":\"scattergl\",\"marker\":{\"colorbar\":{\"outlinewidth\":0,\"ticks\":\"\"}}}],\"scatter3d\":[{\"type\":\"scatter3d\",\"line\":{\"colorbar\":{\"outlinewidth\":0,\"ticks\":\"\"}},\"marker\":{\"colorbar\":{\"outlinewidth\":0,\"ticks\":\"\"}}}],\"scattermapbox\":[{\"type\":\"scattermapbox\",\"marker\":{\"colorbar\":{\"outlinewidth\":0,\"ticks\":\"\"}}}],\"scatterternary\":[{\"type\":\"scatterternary\",\"marker\":{\"colorbar\":{\"outlinewidth\":0,\"ticks\":\"\"}}}],\"scattercarpet\":[{\"type\":\"scattercarpet\",\"marker\":{\"colorbar\":{\"outlinewidth\":0,\"ticks\":\"\"}}}],\"carpet\":[{\"aaxis\":{\"endlinecolor\":\"#2a3f5f\",\"gridcolor\":\"white\",\"linecolor\":\"white\",\"minorgridcolor\":\"white\",\"startlinecolor\":\"#2a3f5f\"},\"baxis\":{\"endlinecolor\":\"#2a3f5f\",\"gridcolor\":\"white\",\"linecolor\":\"white\",\"minorgridcolor\":\"white\",\"startlinecolor\":\"#2a3f5f\"},\"type\":\"carpet\"}],\"table\":[{\"cells\":{\"fill\":{\"color\":\"#EBF0F8\"},\"line\":{\"color\":\"white\"}},\"header\":{\"fill\":{\"color\":\"#C8D4E3\"},\"line\":{\"color\":\"white\"}},\"type\":\"table\"}],\"barpolar\":[{\"marker\":{\"line\":{\"color\":\"#E5ECF6\",\"width\":0.5},\"pattern\":{\"fillmode\":\"overlay\",\"size\":10,\"solidity\":0.2}},\"type\":\"barpolar\"}],\"pie\":[{\"automargin\":true,\"type\":\"pie\"}]},\"layout\":{\"autotypenumbers\":\"strict\",\"colorway\":[\"#636efa\",\"#EF553B\",\"#00cc96\",\"#ab63fa\",\"#FFA15A\",\"#19d3f3\",\"#FF6692\",\"#B6E880\",\"#FF97FF\",\"#FECB52\"],\"font\":{\"color\":\"#2a3f5f\"},\"hovermode\":\"closest\",\"hoverlabel\":{\"align\":\"left\"},\"paper_bgcolor\":\"white\",\"plot_bgcolor\":\"#E5ECF6\",\"polar\":{\"bgcolor\":\"#E5ECF6\",\"angularaxis\":{\"gridcolor\":\"white\",\"linecolor\":\"white\",\"ticks\":\"\"},\"radialaxis\":{\"gridcolor\":\"white\",\"linecolor\":\"white\",\"ticks\":\"\"}},\"ternary\":{\"bgcolor\":\"#E5ECF6\",\"aaxis\":{\"gridcolor\":\"white\",\"linecolor\":\"white\",\"ticks\":\"\"},\"baxis\":{\"gridcolor\":\"white\",\"linecolor\":\"white\",\"ticks\":\"\"},\"caxis\":{\"gridcolor\":\"white\",\"linecolor\":\"white\",\"ticks\":\"\"}},\"coloraxis\":{\"colorbar\":{\"outlinewidth\":0,\"ticks\":\"\"}},\"colorscale\":{\"sequential\":[[0.0,\"#0d0887\"],[0.1111111111111111,\"#46039f\"],[0.2222222222222222,\"#7201a8\"],[0.3333333333333333,\"#9c179e\"],[0.4444444444444444,\"#bd3786\"],[0.5555555555555556,\"#d8576b\"],[0.6666666666666666,\"#ed7953\"],[0.7777777777777778,\"#fb9f3a\"],[0.8888888888888888,\"#fdca26\"],[1.0,\"#f0f921\"]],\"sequentialminus\":[[0.0,\"#0d0887\"],[0.1111111111111111,\"#46039f\"],[0.2222222222222222,\"#7201a8\"],[0.3333333333333333,\"#9c179e\"],[0.4444444444444444,\"#bd3786\"],[0.5555555555555556,\"#d8576b\"],[0.6666666666666666,\"#ed7953\"],[0.7777777777777778,\"#fb9f3a\"],[0.8888888888888888,\"#fdca26\"],[1.0,\"#f0f921\"]],\"diverging\":[[0,\"#8e0152\"],[0.1,\"#c51b7d\"],[0.2,\"#de77ae\"],[0.3,\"#f1b6da\"],[0.4,\"#fde0ef\"],[0.5,\"#f7f7f7\"],[0.6,\"#e6f5d0\"],[0.7,\"#b8e186\"],[0.8,\"#7fbc41\"],[0.9,\"#4d9221\"],[1,\"#276419\"]]},\"xaxis\":{\"gridcolor\":\"white\",\"linecolor\":\"white\",\"ticks\":\"\",\"title\":{\"standoff\":15},\"zerolinecolor\":\"white\",\"automargin\":true,\"zerolinewidth\":2},\"yaxis\":{\"gridcolor\":\"white\",\"linecolor\":\"white\",\"ticks\":\"\",\"title\":{\"standoff\":15},\"zerolinecolor\":\"white\",\"automargin\":true,\"zerolinewidth\":2},\"scene\":{\"xaxis\":{\"backgroundcolor\":\"#E5ECF6\",\"gridcolor\":\"white\",\"linecolor\":\"white\",\"showbackground\":true,\"ticks\":\"\",\"zerolinecolor\":\"white\",\"gridwidth\":2},\"yaxis\":{\"backgroundcolor\":\"#E5ECF6\",\"gridcolor\":\"white\",\"linecolor\":\"white\",\"showbackground\":true,\"ticks\":\"\",\"zerolinecolor\":\"white\",\"gridwidth\":2},\"zaxis\":{\"backgroundcolor\":\"#E5ECF6\",\"gridcolor\":\"white\",\"linecolor\":\"white\",\"showbackground\":true,\"ticks\":\"\",\"zerolinecolor\":\"white\",\"gridwidth\":2}},\"shapedefaults\":{\"line\":{\"color\":\"#2a3f5f\"}},\"annotationdefaults\":{\"arrowcolor\":\"#2a3f5f\",\"arrowhead\":0,\"arrowwidth\":1},\"geo\":{\"bgcolor\":\"white\",\"landcolor\":\"#E5ECF6\",\"subunitcolor\":\"white\",\"showland\":true,\"showlakes\":true,\"lakecolor\":\"white\"},\"title\":{\"x\":0.05},\"mapbox\":{\"style\":\"light\"}}},\"legend\":{\"itemsizing\":\"constant\"},\"yaxis\":{\"tickmode\":\"array\",\"tickvals\":[0,1,2,3,4,5,6,7,8,9,10,11,12,13,14,15,16,17,18,19,20,21,22,23,24,25],\"ticktext\":[\"Lisa Perkins\",\"Lars Axel Nielsen \",\"Kirsten Normann Andersen \",\"Ditte Wedege\",\"Anders Krojgaard Lund\",\"Karen Budtz-J\\u00f8rgensen\",\"Tina Lund S\\u00f8rensen\",\"Hanna-Maria Lyng\",\"Danny Rosenkilde\",\"Inger-Marie Tryde\",\"Anders Vistisen\",\"Isabella Arendt\",\"Rasmus Nordqvist \",\"Karin Liltorp\",\"Louise Louring\",\"Heidi Printzen\",\"Camilla Fabricius\",\"Sofie Lippert \",\"Mads Damgaard Mortensen\",\"S\\u00f8ren Lahn Sloth\",\"Anders Pedersen \",\"Sara Grouleff\",\"Lucasia Gregersen\",\"Mohamed Abdikarim \",\"Niko Gr\\u00fcnfeld\",\"Mira Issa Bloch\"]},\"title\":{\"text\":\"Kandidater for \\u00d8stjyllands Storkreds\"}},                        {\"responsive\": true}                    ).then(function(){\n",
       "                            \n",
       "var gd = document.getElementById('e6405c94-41e2-45e5-b0bc-4b39aa731044');\n",
       "var x = new MutationObserver(function (mutations, observer) {{\n",
       "        var display = window.getComputedStyle(gd).display;\n",
       "        if (!display || display === 'none') {{\n",
       "            console.log([gd, 'removed!']);\n",
       "            Plotly.purge(gd);\n",
       "            observer.disconnect();\n",
       "        }}\n",
       "}});\n",
       "\n",
       "// Listen for the removal of the full notebook cells\n",
       "var notebookContainer = gd.closest('#notebook-container');\n",
       "if (notebookContainer) {{\n",
       "    x.observe(notebookContainer, {childList: true});\n",
       "}}\n",
       "\n",
       "// Listen for the clearing of the current output cell\n",
       "var outputEl = gd.closest('.output');\n",
       "if (outputEl) {{\n",
       "    x.observe(outputEl, {childList: true});\n",
       "}}\n",
       "\n",
       "                        })                };                });            </script>        </div>"
      ]
     },
     "metadata": {},
     "output_type": "display_data"
    }
   ],
   "source": [
    "\n",
    "fig = go.Figure()\n",
    "df_temp = df_nameIndex[df_nameIndex[\"Storkreds\"]==value]\n",
    "df_temp = df_temp.sort_values(\"Score\")\n",
    "\n",
    "\n",
    "j = 0\n",
    "for i, mean in enumerate(df_temp[\"Score\"]):\n",
    "    if i % 2 != 0:\n",
    "        continue \n",
    "    candidate = df_temp.index[j]\n",
    "    fig.add_trace(go.Scatter(y=[j,j],x=[0,mean],\n",
    "                             marker_size = [0,12],\n",
    "                             marker_color = df_temp[\"Kost_color\"][j],\n",
    "                             line=go.scatter.Line(color=veggieGreen),\n",
    "                             hovertext=[df_temp.loc[candidate][\"Parti\"],df_temp.loc[candidate][\"Parti\"]],\n",
    "                             showlegend=False,\n",
    "                             hoverinfo=[\"none\",\"x+y+text\"],\n",
    "\n",
    "                             )\n",
    "                  )\n",
    "    j= j+1\n",
    "\n",
    "# Adding a hidden scatterplot to add a legend with the dietary choices of the candidates\n",
    "for k, v in kost_color.items():\n",
    "    fig.add_trace(go.Scatter(x=[0],y=[0],\n",
    "                             marker_size = [0],\n",
    "                             marker_color = v,\n",
    "                             name=k\n",
    "                            ))\n",
    "fig.update_layout(legend= {'itemsizing': 'constant',\n",
    "                           # \"itemsymbol\":\"circle\"\n",
    "                           })\n",
    "\n",
    "#    fig.add_hline(y=df_temp[\"Score\"].mean(),\n",
    "#            line_width=0.5,\n",
    "#            line_dash=\"dash\",\n",
    "#            line_color=veggieGreen,\n",
    "#            annotation_text=\"Kommune gennemsnit\",\n",
    "#            annotation_position=\"bottom right\")\n",
    "\n",
    "\n",
    "\n",
    "tickvals_ = list(range(len(df_temp)))\n",
    "ticktext_ = list(df_temp.index)\n",
    "fig.update_layout(\n",
    "    yaxis = dict(\n",
    "        tickmode = \"array\",\n",
    "        tickvals = tickvals_,\n",
    "        ticktext = ticktext_),\n",
    "    title = {\"text\":f\"Kandidater for {value}\"}\n",
    "    )\n",
    "\n",
    "fig.show()"
   ]
  },
  {
   "cell_type": "code",
   "execution_count": 117,
   "id": "6c55d4a8",
   "metadata": {},
   "outputs": [
    {
     "data": {
      "application/vnd.plotly.v1+json": {
       "config": {
        "plotlyServerURL": "https://plot.ly"
       },
       "data": [
        {
         "branchvalues": "total",
         "insidetextorientation": "radial",
         "labels": [
          "Enig",
          "Delvist Enig",
          "Uenig",
          "Lisa Perkins",
          "Karen Budtz-Jørgensen",
          "Camilla Fabricius",
          "Kirsten Normann Andersen ",
          "Ditte Wedege",
          "Rasmus Nordqvist ",
          "Anders Krojgaard Lund",
          "Lars Axel Nielsen ",
          "Anders Vistisen",
          "Inger-Marie Tryde",
          "Tina Lund Sørensen",
          "Sofie Lippert ",
          "Karin Liltorp",
          "Louise Louring",
          "Danny Rosenkilde",
          "Søren Lahn Sloth",
          "Isabella Arendt",
          "Hanna-Maria Lyng",
          "Mads Damgaard Mortensen",
          "Anders Pedersen ",
          "Mira Issa Bloch",
          "Lucasia Gregersen",
          "Sara Grouleff",
          "Heidi Printzen",
          "Niko Grünfeld",
          "Mohamed Abdikarim "
         ],
         "marker": {
          "colors": [
           "rgb(218,241,212)",
           "rgb(169,220,163)",
           "rgb(15,122,55)"
          ]
         },
         "parents": [
          "",
          "",
          "",
          "Uenig",
          "Uenig",
          "Uenig",
          "Uenig",
          "Uenig",
          "Uenig",
          "Uenig",
          "Uenig",
          "Uenig",
          "Uenig",
          "Uenig",
          "Delvist Enig",
          "Delvist Enig",
          "Delvist Enig",
          "Delvist Enig",
          "Delvist Enig",
          "Delvist Enig",
          "Delvist Enig",
          "Delvist Enig",
          "Enig",
          "Enig",
          "Enig",
          "Enig",
          "Enig",
          "Enig",
          "Enig"
         ],
         "type": "sunburst",
         "values": [
          7,
          8,
          11,
          1,
          1,
          1,
          1,
          1,
          1,
          1,
          1,
          1,
          1,
          1,
          1,
          1,
          1,
          1,
          1,
          1,
          1,
          1,
          1,
          1,
          1,
          1,
          1,
          1,
          1
         ]
        }
       ],
       "layout": {
        "autosize": false,
        "height": 720,
        "template": {
         "data": {
          "bar": [
           {
            "error_x": {
             "color": "#2a3f5f"
            },
            "error_y": {
             "color": "#2a3f5f"
            },
            "marker": {
             "line": {
              "color": "#E5ECF6",
              "width": 0.5
             },
             "pattern": {
              "fillmode": "overlay",
              "size": 10,
              "solidity": 0.2
             }
            },
            "type": "bar"
           }
          ],
          "barpolar": [
           {
            "marker": {
             "line": {
              "color": "#E5ECF6",
              "width": 0.5
             },
             "pattern": {
              "fillmode": "overlay",
              "size": 10,
              "solidity": 0.2
             }
            },
            "type": "barpolar"
           }
          ],
          "carpet": [
           {
            "aaxis": {
             "endlinecolor": "#2a3f5f",
             "gridcolor": "white",
             "linecolor": "white",
             "minorgridcolor": "white",
             "startlinecolor": "#2a3f5f"
            },
            "baxis": {
             "endlinecolor": "#2a3f5f",
             "gridcolor": "white",
             "linecolor": "white",
             "minorgridcolor": "white",
             "startlinecolor": "#2a3f5f"
            },
            "type": "carpet"
           }
          ],
          "choropleth": [
           {
            "colorbar": {
             "outlinewidth": 0,
             "ticks": ""
            },
            "type": "choropleth"
           }
          ],
          "contour": [
           {
            "colorbar": {
             "outlinewidth": 0,
             "ticks": ""
            },
            "colorscale": [
             [
              0,
              "#0d0887"
             ],
             [
              0.1111111111111111,
              "#46039f"
             ],
             [
              0.2222222222222222,
              "#7201a8"
             ],
             [
              0.3333333333333333,
              "#9c179e"
             ],
             [
              0.4444444444444444,
              "#bd3786"
             ],
             [
              0.5555555555555556,
              "#d8576b"
             ],
             [
              0.6666666666666666,
              "#ed7953"
             ],
             [
              0.7777777777777778,
              "#fb9f3a"
             ],
             [
              0.8888888888888888,
              "#fdca26"
             ],
             [
              1,
              "#f0f921"
             ]
            ],
            "type": "contour"
           }
          ],
          "contourcarpet": [
           {
            "colorbar": {
             "outlinewidth": 0,
             "ticks": ""
            },
            "type": "contourcarpet"
           }
          ],
          "heatmap": [
           {
            "colorbar": {
             "outlinewidth": 0,
             "ticks": ""
            },
            "colorscale": [
             [
              0,
              "#0d0887"
             ],
             [
              0.1111111111111111,
              "#46039f"
             ],
             [
              0.2222222222222222,
              "#7201a8"
             ],
             [
              0.3333333333333333,
              "#9c179e"
             ],
             [
              0.4444444444444444,
              "#bd3786"
             ],
             [
              0.5555555555555556,
              "#d8576b"
             ],
             [
              0.6666666666666666,
              "#ed7953"
             ],
             [
              0.7777777777777778,
              "#fb9f3a"
             ],
             [
              0.8888888888888888,
              "#fdca26"
             ],
             [
              1,
              "#f0f921"
             ]
            ],
            "type": "heatmap"
           }
          ],
          "heatmapgl": [
           {
            "colorbar": {
             "outlinewidth": 0,
             "ticks": ""
            },
            "colorscale": [
             [
              0,
              "#0d0887"
             ],
             [
              0.1111111111111111,
              "#46039f"
             ],
             [
              0.2222222222222222,
              "#7201a8"
             ],
             [
              0.3333333333333333,
              "#9c179e"
             ],
             [
              0.4444444444444444,
              "#bd3786"
             ],
             [
              0.5555555555555556,
              "#d8576b"
             ],
             [
              0.6666666666666666,
              "#ed7953"
             ],
             [
              0.7777777777777778,
              "#fb9f3a"
             ],
             [
              0.8888888888888888,
              "#fdca26"
             ],
             [
              1,
              "#f0f921"
             ]
            ],
            "type": "heatmapgl"
           }
          ],
          "histogram": [
           {
            "marker": {
             "pattern": {
              "fillmode": "overlay",
              "size": 10,
              "solidity": 0.2
             }
            },
            "type": "histogram"
           }
          ],
          "histogram2d": [
           {
            "colorbar": {
             "outlinewidth": 0,
             "ticks": ""
            },
            "colorscale": [
             [
              0,
              "#0d0887"
             ],
             [
              0.1111111111111111,
              "#46039f"
             ],
             [
              0.2222222222222222,
              "#7201a8"
             ],
             [
              0.3333333333333333,
              "#9c179e"
             ],
             [
              0.4444444444444444,
              "#bd3786"
             ],
             [
              0.5555555555555556,
              "#d8576b"
             ],
             [
              0.6666666666666666,
              "#ed7953"
             ],
             [
              0.7777777777777778,
              "#fb9f3a"
             ],
             [
              0.8888888888888888,
              "#fdca26"
             ],
             [
              1,
              "#f0f921"
             ]
            ],
            "type": "histogram2d"
           }
          ],
          "histogram2dcontour": [
           {
            "colorbar": {
             "outlinewidth": 0,
             "ticks": ""
            },
            "colorscale": [
             [
              0,
              "#0d0887"
             ],
             [
              0.1111111111111111,
              "#46039f"
             ],
             [
              0.2222222222222222,
              "#7201a8"
             ],
             [
              0.3333333333333333,
              "#9c179e"
             ],
             [
              0.4444444444444444,
              "#bd3786"
             ],
             [
              0.5555555555555556,
              "#d8576b"
             ],
             [
              0.6666666666666666,
              "#ed7953"
             ],
             [
              0.7777777777777778,
              "#fb9f3a"
             ],
             [
              0.8888888888888888,
              "#fdca26"
             ],
             [
              1,
              "#f0f921"
             ]
            ],
            "type": "histogram2dcontour"
           }
          ],
          "mesh3d": [
           {
            "colorbar": {
             "outlinewidth": 0,
             "ticks": ""
            },
            "type": "mesh3d"
           }
          ],
          "parcoords": [
           {
            "line": {
             "colorbar": {
              "outlinewidth": 0,
              "ticks": ""
             }
            },
            "type": "parcoords"
           }
          ],
          "pie": [
           {
            "automargin": true,
            "type": "pie"
           }
          ],
          "scatter": [
           {
            "fillpattern": {
             "fillmode": "overlay",
             "size": 10,
             "solidity": 0.2
            },
            "type": "scatter"
           }
          ],
          "scatter3d": [
           {
            "line": {
             "colorbar": {
              "outlinewidth": 0,
              "ticks": ""
             }
            },
            "marker": {
             "colorbar": {
              "outlinewidth": 0,
              "ticks": ""
             }
            },
            "type": "scatter3d"
           }
          ],
          "scattercarpet": [
           {
            "marker": {
             "colorbar": {
              "outlinewidth": 0,
              "ticks": ""
             }
            },
            "type": "scattercarpet"
           }
          ],
          "scattergeo": [
           {
            "marker": {
             "colorbar": {
              "outlinewidth": 0,
              "ticks": ""
             }
            },
            "type": "scattergeo"
           }
          ],
          "scattergl": [
           {
            "marker": {
             "colorbar": {
              "outlinewidth": 0,
              "ticks": ""
             }
            },
            "type": "scattergl"
           }
          ],
          "scattermapbox": [
           {
            "marker": {
             "colorbar": {
              "outlinewidth": 0,
              "ticks": ""
             }
            },
            "type": "scattermapbox"
           }
          ],
          "scatterpolar": [
           {
            "marker": {
             "colorbar": {
              "outlinewidth": 0,
              "ticks": ""
             }
            },
            "type": "scatterpolar"
           }
          ],
          "scatterpolargl": [
           {
            "marker": {
             "colorbar": {
              "outlinewidth": 0,
              "ticks": ""
             }
            },
            "type": "scatterpolargl"
           }
          ],
          "scatterternary": [
           {
            "marker": {
             "colorbar": {
              "outlinewidth": 0,
              "ticks": ""
             }
            },
            "type": "scatterternary"
           }
          ],
          "surface": [
           {
            "colorbar": {
             "outlinewidth": 0,
             "ticks": ""
            },
            "colorscale": [
             [
              0,
              "#0d0887"
             ],
             [
              0.1111111111111111,
              "#46039f"
             ],
             [
              0.2222222222222222,
              "#7201a8"
             ],
             [
              0.3333333333333333,
              "#9c179e"
             ],
             [
              0.4444444444444444,
              "#bd3786"
             ],
             [
              0.5555555555555556,
              "#d8576b"
             ],
             [
              0.6666666666666666,
              "#ed7953"
             ],
             [
              0.7777777777777778,
              "#fb9f3a"
             ],
             [
              0.8888888888888888,
              "#fdca26"
             ],
             [
              1,
              "#f0f921"
             ]
            ],
            "type": "surface"
           }
          ],
          "table": [
           {
            "cells": {
             "fill": {
              "color": "#EBF0F8"
             },
             "line": {
              "color": "white"
             }
            },
            "header": {
             "fill": {
              "color": "#C8D4E3"
             },
             "line": {
              "color": "white"
             }
            },
            "type": "table"
           }
          ]
         },
         "layout": {
          "annotationdefaults": {
           "arrowcolor": "#2a3f5f",
           "arrowhead": 0,
           "arrowwidth": 1
          },
          "autotypenumbers": "strict",
          "coloraxis": {
           "colorbar": {
            "outlinewidth": 0,
            "ticks": ""
           }
          },
          "colorscale": {
           "diverging": [
            [
             0,
             "#8e0152"
            ],
            [
             0.1,
             "#c51b7d"
            ],
            [
             0.2,
             "#de77ae"
            ],
            [
             0.3,
             "#f1b6da"
            ],
            [
             0.4,
             "#fde0ef"
            ],
            [
             0.5,
             "#f7f7f7"
            ],
            [
             0.6,
             "#e6f5d0"
            ],
            [
             0.7,
             "#b8e186"
            ],
            [
             0.8,
             "#7fbc41"
            ],
            [
             0.9,
             "#4d9221"
            ],
            [
             1,
             "#276419"
            ]
           ],
           "sequential": [
            [
             0,
             "#0d0887"
            ],
            [
             0.1111111111111111,
             "#46039f"
            ],
            [
             0.2222222222222222,
             "#7201a8"
            ],
            [
             0.3333333333333333,
             "#9c179e"
            ],
            [
             0.4444444444444444,
             "#bd3786"
            ],
            [
             0.5555555555555556,
             "#d8576b"
            ],
            [
             0.6666666666666666,
             "#ed7953"
            ],
            [
             0.7777777777777778,
             "#fb9f3a"
            ],
            [
             0.8888888888888888,
             "#fdca26"
            ],
            [
             1,
             "#f0f921"
            ]
           ],
           "sequentialminus": [
            [
             0,
             "#0d0887"
            ],
            [
             0.1111111111111111,
             "#46039f"
            ],
            [
             0.2222222222222222,
             "#7201a8"
            ],
            [
             0.3333333333333333,
             "#9c179e"
            ],
            [
             0.4444444444444444,
             "#bd3786"
            ],
            [
             0.5555555555555556,
             "#d8576b"
            ],
            [
             0.6666666666666666,
             "#ed7953"
            ],
            [
             0.7777777777777778,
             "#fb9f3a"
            ],
            [
             0.8888888888888888,
             "#fdca26"
            ],
            [
             1,
             "#f0f921"
            ]
           ]
          },
          "colorway": [
           "#636efa",
           "#EF553B",
           "#00cc96",
           "#ab63fa",
           "#FFA15A",
           "#19d3f3",
           "#FF6692",
           "#B6E880",
           "#FF97FF",
           "#FECB52"
          ],
          "font": {
           "color": "#2a3f5f"
          },
          "geo": {
           "bgcolor": "white",
           "lakecolor": "white",
           "landcolor": "#E5ECF6",
           "showlakes": true,
           "showland": true,
           "subunitcolor": "white"
          },
          "hoverlabel": {
           "align": "left"
          },
          "hovermode": "closest",
          "mapbox": {
           "style": "light"
          },
          "paper_bgcolor": "white",
          "plot_bgcolor": "#E5ECF6",
          "polar": {
           "angularaxis": {
            "gridcolor": "white",
            "linecolor": "white",
            "ticks": ""
           },
           "bgcolor": "#E5ECF6",
           "radialaxis": {
            "gridcolor": "white",
            "linecolor": "white",
            "ticks": ""
           }
          },
          "scene": {
           "xaxis": {
            "backgroundcolor": "#E5ECF6",
            "gridcolor": "white",
            "gridwidth": 2,
            "linecolor": "white",
            "showbackground": true,
            "ticks": "",
            "zerolinecolor": "white"
           },
           "yaxis": {
            "backgroundcolor": "#E5ECF6",
            "gridcolor": "white",
            "gridwidth": 2,
            "linecolor": "white",
            "showbackground": true,
            "ticks": "",
            "zerolinecolor": "white"
           },
           "zaxis": {
            "backgroundcolor": "#E5ECF6",
            "gridcolor": "white",
            "gridwidth": 2,
            "linecolor": "white",
            "showbackground": true,
            "ticks": "",
            "zerolinecolor": "white"
           }
          },
          "shapedefaults": {
           "line": {
            "color": "#2a3f5f"
           }
          },
          "ternary": {
           "aaxis": {
            "gridcolor": "white",
            "linecolor": "white",
            "ticks": ""
           },
           "baxis": {
            "gridcolor": "white",
            "linecolor": "white",
            "ticks": ""
           },
           "bgcolor": "#E5ECF6",
           "caxis": {
            "gridcolor": "white",
            "linecolor": "white",
            "ticks": ""
           }
          },
          "title": {
           "x": 0.05
          },
          "xaxis": {
           "automargin": true,
           "gridcolor": "white",
           "linecolor": "white",
           "ticks": "",
           "title": {
            "standoff": 15
           },
           "zerolinecolor": "white",
           "zerolinewidth": 2
          },
          "yaxis": {
           "automargin": true,
           "gridcolor": "white",
           "linecolor": "white",
           "ticks": "",
           "title": {
            "standoff": 15
           },
           "zerolinecolor": "white",
           "zerolinewidth": 2
          }
         }
        },
        "width": 1200
       }
      },
      "text/html": [
       "<div>                            <div id=\"2b170b0e-3025-415a-9696-0992995de320\" class=\"plotly-graph-div\" style=\"height:720px; width:1200px;\"></div>            <script type=\"text/javascript\">                require([\"plotly\"], function(Plotly) {                    window.PLOTLYENV=window.PLOTLYENV || {};                                    if (document.getElementById(\"2b170b0e-3025-415a-9696-0992995de320\")) {                    Plotly.newPlot(                        \"2b170b0e-3025-415a-9696-0992995de320\",                        [{\"branchvalues\":\"total\",\"insidetextorientation\":\"radial\",\"labels\":[\"Enig\",\"Delvist Enig\",\"Uenig\",\"Lisa Perkins\",\"Karen Budtz-J\\u00f8rgensen\",\"Camilla Fabricius\",\"Kirsten Normann Andersen \",\"Ditte Wedege\",\"Rasmus Nordqvist \",\"Anders Krojgaard Lund\",\"Lars Axel Nielsen \",\"Anders Vistisen\",\"Inger-Marie Tryde\",\"Tina Lund S\\u00f8rensen\",\"Sofie Lippert \",\"Karin Liltorp\",\"Louise Louring\",\"Danny Rosenkilde\",\"S\\u00f8ren Lahn Sloth\",\"Isabella Arendt\",\"Hanna-Maria Lyng\",\"Mads Damgaard Mortensen\",\"Anders Pedersen \",\"Mira Issa Bloch\",\"Lucasia Gregersen\",\"Sara Grouleff\",\"Heidi Printzen\",\"Niko Gr\\u00fcnfeld\",\"Mohamed Abdikarim \"],\"marker\":{\"colors\":[\"rgb(218,241,212)\",\"rgb(169,220,163)\",\"rgb(15,122,55)\"]},\"parents\":[\"\",\"\",\"\",\"Uenig\",\"Uenig\",\"Uenig\",\"Uenig\",\"Uenig\",\"Uenig\",\"Uenig\",\"Uenig\",\"Uenig\",\"Uenig\",\"Uenig\",\"Delvist Enig\",\"Delvist Enig\",\"Delvist Enig\",\"Delvist Enig\",\"Delvist Enig\",\"Delvist Enig\",\"Delvist Enig\",\"Delvist Enig\",\"Enig\",\"Enig\",\"Enig\",\"Enig\",\"Enig\",\"Enig\",\"Enig\"],\"values\":[7,8,11,1,1,1,1,1,1,1,1,1,1,1,1,1,1,1,1,1,1,1,1,1,1,1,1,1,1],\"type\":\"sunburst\"}],                        {\"template\":{\"data\":{\"histogram2dcontour\":[{\"type\":\"histogram2dcontour\",\"colorbar\":{\"outlinewidth\":0,\"ticks\":\"\"},\"colorscale\":[[0.0,\"#0d0887\"],[0.1111111111111111,\"#46039f\"],[0.2222222222222222,\"#7201a8\"],[0.3333333333333333,\"#9c179e\"],[0.4444444444444444,\"#bd3786\"],[0.5555555555555556,\"#d8576b\"],[0.6666666666666666,\"#ed7953\"],[0.7777777777777778,\"#fb9f3a\"],[0.8888888888888888,\"#fdca26\"],[1.0,\"#f0f921\"]]}],\"choropleth\":[{\"type\":\"choropleth\",\"colorbar\":{\"outlinewidth\":0,\"ticks\":\"\"}}],\"histogram2d\":[{\"type\":\"histogram2d\",\"colorbar\":{\"outlinewidth\":0,\"ticks\":\"\"},\"colorscale\":[[0.0,\"#0d0887\"],[0.1111111111111111,\"#46039f\"],[0.2222222222222222,\"#7201a8\"],[0.3333333333333333,\"#9c179e\"],[0.4444444444444444,\"#bd3786\"],[0.5555555555555556,\"#d8576b\"],[0.6666666666666666,\"#ed7953\"],[0.7777777777777778,\"#fb9f3a\"],[0.8888888888888888,\"#fdca26\"],[1.0,\"#f0f921\"]]}],\"heatmap\":[{\"type\":\"heatmap\",\"colorbar\":{\"outlinewidth\":0,\"ticks\":\"\"},\"colorscale\":[[0.0,\"#0d0887\"],[0.1111111111111111,\"#46039f\"],[0.2222222222222222,\"#7201a8\"],[0.3333333333333333,\"#9c179e\"],[0.4444444444444444,\"#bd3786\"],[0.5555555555555556,\"#d8576b\"],[0.6666666666666666,\"#ed7953\"],[0.7777777777777778,\"#fb9f3a\"],[0.8888888888888888,\"#fdca26\"],[1.0,\"#f0f921\"]]}],\"heatmapgl\":[{\"type\":\"heatmapgl\",\"colorbar\":{\"outlinewidth\":0,\"ticks\":\"\"},\"colorscale\":[[0.0,\"#0d0887\"],[0.1111111111111111,\"#46039f\"],[0.2222222222222222,\"#7201a8\"],[0.3333333333333333,\"#9c179e\"],[0.4444444444444444,\"#bd3786\"],[0.5555555555555556,\"#d8576b\"],[0.6666666666666666,\"#ed7953\"],[0.7777777777777778,\"#fb9f3a\"],[0.8888888888888888,\"#fdca26\"],[1.0,\"#f0f921\"]]}],\"contourcarpet\":[{\"type\":\"contourcarpet\",\"colorbar\":{\"outlinewidth\":0,\"ticks\":\"\"}}],\"contour\":[{\"type\":\"contour\",\"colorbar\":{\"outlinewidth\":0,\"ticks\":\"\"},\"colorscale\":[[0.0,\"#0d0887\"],[0.1111111111111111,\"#46039f\"],[0.2222222222222222,\"#7201a8\"],[0.3333333333333333,\"#9c179e\"],[0.4444444444444444,\"#bd3786\"],[0.5555555555555556,\"#d8576b\"],[0.6666666666666666,\"#ed7953\"],[0.7777777777777778,\"#fb9f3a\"],[0.8888888888888888,\"#fdca26\"],[1.0,\"#f0f921\"]]}],\"surface\":[{\"type\":\"surface\",\"colorbar\":{\"outlinewidth\":0,\"ticks\":\"\"},\"colorscale\":[[0.0,\"#0d0887\"],[0.1111111111111111,\"#46039f\"],[0.2222222222222222,\"#7201a8\"],[0.3333333333333333,\"#9c179e\"],[0.4444444444444444,\"#bd3786\"],[0.5555555555555556,\"#d8576b\"],[0.6666666666666666,\"#ed7953\"],[0.7777777777777778,\"#fb9f3a\"],[0.8888888888888888,\"#fdca26\"],[1.0,\"#f0f921\"]]}],\"mesh3d\":[{\"type\":\"mesh3d\",\"colorbar\":{\"outlinewidth\":0,\"ticks\":\"\"}}],\"scatter\":[{\"fillpattern\":{\"fillmode\":\"overlay\",\"size\":10,\"solidity\":0.2},\"type\":\"scatter\"}],\"parcoords\":[{\"type\":\"parcoords\",\"line\":{\"colorbar\":{\"outlinewidth\":0,\"ticks\":\"\"}}}],\"scatterpolargl\":[{\"type\":\"scatterpolargl\",\"marker\":{\"colorbar\":{\"outlinewidth\":0,\"ticks\":\"\"}}}],\"bar\":[{\"error_x\":{\"color\":\"#2a3f5f\"},\"error_y\":{\"color\":\"#2a3f5f\"},\"marker\":{\"line\":{\"color\":\"#E5ECF6\",\"width\":0.5},\"pattern\":{\"fillmode\":\"overlay\",\"size\":10,\"solidity\":0.2}},\"type\":\"bar\"}],\"scattergeo\":[{\"type\":\"scattergeo\",\"marker\":{\"colorbar\":{\"outlinewidth\":0,\"ticks\":\"\"}}}],\"scatterpolar\":[{\"type\":\"scatterpolar\",\"marker\":{\"colorbar\":{\"outlinewidth\":0,\"ticks\":\"\"}}}],\"histogram\":[{\"marker\":{\"pattern\":{\"fillmode\":\"overlay\",\"size\":10,\"solidity\":0.2}},\"type\":\"histogram\"}],\"scattergl\":[{\"type\":\"scattergl\",\"marker\":{\"colorbar\":{\"outlinewidth\":0,\"ticks\":\"\"}}}],\"scatter3d\":[{\"type\":\"scatter3d\",\"line\":{\"colorbar\":{\"outlinewidth\":0,\"ticks\":\"\"}},\"marker\":{\"colorbar\":{\"outlinewidth\":0,\"ticks\":\"\"}}}],\"scattermapbox\":[{\"type\":\"scattermapbox\",\"marker\":{\"colorbar\":{\"outlinewidth\":0,\"ticks\":\"\"}}}],\"scatterternary\":[{\"type\":\"scatterternary\",\"marker\":{\"colorbar\":{\"outlinewidth\":0,\"ticks\":\"\"}}}],\"scattercarpet\":[{\"type\":\"scattercarpet\",\"marker\":{\"colorbar\":{\"outlinewidth\":0,\"ticks\":\"\"}}}],\"carpet\":[{\"aaxis\":{\"endlinecolor\":\"#2a3f5f\",\"gridcolor\":\"white\",\"linecolor\":\"white\",\"minorgridcolor\":\"white\",\"startlinecolor\":\"#2a3f5f\"},\"baxis\":{\"endlinecolor\":\"#2a3f5f\",\"gridcolor\":\"white\",\"linecolor\":\"white\",\"minorgridcolor\":\"white\",\"startlinecolor\":\"#2a3f5f\"},\"type\":\"carpet\"}],\"table\":[{\"cells\":{\"fill\":{\"color\":\"#EBF0F8\"},\"line\":{\"color\":\"white\"}},\"header\":{\"fill\":{\"color\":\"#C8D4E3\"},\"line\":{\"color\":\"white\"}},\"type\":\"table\"}],\"barpolar\":[{\"marker\":{\"line\":{\"color\":\"#E5ECF6\",\"width\":0.5},\"pattern\":{\"fillmode\":\"overlay\",\"size\":10,\"solidity\":0.2}},\"type\":\"barpolar\"}],\"pie\":[{\"automargin\":true,\"type\":\"pie\"}]},\"layout\":{\"autotypenumbers\":\"strict\",\"colorway\":[\"#636efa\",\"#EF553B\",\"#00cc96\",\"#ab63fa\",\"#FFA15A\",\"#19d3f3\",\"#FF6692\",\"#B6E880\",\"#FF97FF\",\"#FECB52\"],\"font\":{\"color\":\"#2a3f5f\"},\"hovermode\":\"closest\",\"hoverlabel\":{\"align\":\"left\"},\"paper_bgcolor\":\"white\",\"plot_bgcolor\":\"#E5ECF6\",\"polar\":{\"bgcolor\":\"#E5ECF6\",\"angularaxis\":{\"gridcolor\":\"white\",\"linecolor\":\"white\",\"ticks\":\"\"},\"radialaxis\":{\"gridcolor\":\"white\",\"linecolor\":\"white\",\"ticks\":\"\"}},\"ternary\":{\"bgcolor\":\"#E5ECF6\",\"aaxis\":{\"gridcolor\":\"white\",\"linecolor\":\"white\",\"ticks\":\"\"},\"baxis\":{\"gridcolor\":\"white\",\"linecolor\":\"white\",\"ticks\":\"\"},\"caxis\":{\"gridcolor\":\"white\",\"linecolor\":\"white\",\"ticks\":\"\"}},\"coloraxis\":{\"colorbar\":{\"outlinewidth\":0,\"ticks\":\"\"}},\"colorscale\":{\"sequential\":[[0.0,\"#0d0887\"],[0.1111111111111111,\"#46039f\"],[0.2222222222222222,\"#7201a8\"],[0.3333333333333333,\"#9c179e\"],[0.4444444444444444,\"#bd3786\"],[0.5555555555555556,\"#d8576b\"],[0.6666666666666666,\"#ed7953\"],[0.7777777777777778,\"#fb9f3a\"],[0.8888888888888888,\"#fdca26\"],[1.0,\"#f0f921\"]],\"sequentialminus\":[[0.0,\"#0d0887\"],[0.1111111111111111,\"#46039f\"],[0.2222222222222222,\"#7201a8\"],[0.3333333333333333,\"#9c179e\"],[0.4444444444444444,\"#bd3786\"],[0.5555555555555556,\"#d8576b\"],[0.6666666666666666,\"#ed7953\"],[0.7777777777777778,\"#fb9f3a\"],[0.8888888888888888,\"#fdca26\"],[1.0,\"#f0f921\"]],\"diverging\":[[0,\"#8e0152\"],[0.1,\"#c51b7d\"],[0.2,\"#de77ae\"],[0.3,\"#f1b6da\"],[0.4,\"#fde0ef\"],[0.5,\"#f7f7f7\"],[0.6,\"#e6f5d0\"],[0.7,\"#b8e186\"],[0.8,\"#7fbc41\"],[0.9,\"#4d9221\"],[1,\"#276419\"]]},\"xaxis\":{\"gridcolor\":\"white\",\"linecolor\":\"white\",\"ticks\":\"\",\"title\":{\"standoff\":15},\"zerolinecolor\":\"white\",\"automargin\":true,\"zerolinewidth\":2},\"yaxis\":{\"gridcolor\":\"white\",\"linecolor\":\"white\",\"ticks\":\"\",\"title\":{\"standoff\":15},\"zerolinecolor\":\"white\",\"automargin\":true,\"zerolinewidth\":2},\"scene\":{\"xaxis\":{\"backgroundcolor\":\"#E5ECF6\",\"gridcolor\":\"white\",\"linecolor\":\"white\",\"showbackground\":true,\"ticks\":\"\",\"zerolinecolor\":\"white\",\"gridwidth\":2},\"yaxis\":{\"backgroundcolor\":\"#E5ECF6\",\"gridcolor\":\"white\",\"linecolor\":\"white\",\"showbackground\":true,\"ticks\":\"\",\"zerolinecolor\":\"white\",\"gridwidth\":2},\"zaxis\":{\"backgroundcolor\":\"#E5ECF6\",\"gridcolor\":\"white\",\"linecolor\":\"white\",\"showbackground\":true,\"ticks\":\"\",\"zerolinecolor\":\"white\",\"gridwidth\":2}},\"shapedefaults\":{\"line\":{\"color\":\"#2a3f5f\"}},\"annotationdefaults\":{\"arrowcolor\":\"#2a3f5f\",\"arrowhead\":0,\"arrowwidth\":1},\"geo\":{\"bgcolor\":\"white\",\"landcolor\":\"#E5ECF6\",\"subunitcolor\":\"white\",\"showland\":true,\"showlakes\":true,\"lakecolor\":\"white\"},\"title\":{\"x\":0.05},\"mapbox\":{\"style\":\"light\"}}},\"autosize\":false,\"width\":1200,\"height\":720},                        {\"responsive\": true}                    ).then(function(){\n",
       "                            \n",
       "var gd = document.getElementById('2b170b0e-3025-415a-9696-0992995de320');\n",
       "var x = new MutationObserver(function (mutations, observer) {{\n",
       "        var display = window.getComputedStyle(gd).display;\n",
       "        if (!display || display === 'none') {{\n",
       "            console.log([gd, 'removed!']);\n",
       "            Plotly.purge(gd);\n",
       "            observer.disconnect();\n",
       "        }}\n",
       "}});\n",
       "\n",
       "// Listen for the removal of the full notebook cells\n",
       "var notebookContainer = gd.closest('#notebook-container');\n",
       "if (notebookContainer) {{\n",
       "    x.observe(notebookContainer, {childList: true});\n",
       "}}\n",
       "\n",
       "// Listen for the clearing of the current output cell\n",
       "var outputEl = gd.closest('.output');\n",
       "if (outputEl) {{\n",
       "    x.observe(outputEl, {childList: true});\n",
       "}}\n",
       "\n",
       "                        })                };                });            </script>        </div>"
      ]
     },
     "metadata": {},
     "output_type": "display_data"
    }
   ],
   "source": [
    "\n",
    "df_temp =  df_nameIndex[df_nameIndex[\"Storkreds\"]==storkreds]\n",
    "df_temp = df_temp.sort_values(question)\n",
    "\n",
    "# Parents for sunburst\n",
    "value_labels = {0:\"Uenig\", 1:\"Delvist Enig\", 2:\"Enig\"}\n",
    "parents_candidates = pd.Series([value_labels[x] for x in df_temp[question]],\n",
    "                              index =df_temp.index)\n",
    "\n",
    "sunburst_parents = []\n",
    "for answer in parents_candidates.unique():\n",
    "    sunburst_parents.append(\"\")\n",
    "sunburst_parents.extend(parents_candidates)\n",
    "\n",
    "# Names for sunburst\n",
    "sunburst_names = []\n",
    "\n",
    "inner_names = list(parents_candidates.value_counts(sort=False).index)\n",
    "sunburst_names.extend(inner_names)\n",
    "\n",
    "candidate_names = list(df_temp.index)\n",
    "sunburst_names.extend(candidate_names)\n",
    "\n",
    "# Values for sunburst\n",
    "sunburst_values = []\n",
    "\n",
    "inner_values = list(parents_candidates.value_counts(sort=False))\n",
    "sunburst_values.extend(inner_values)\n",
    "\n",
    "candidate_values = []\n",
    "for candidate in list(df_temp.index):\n",
    "    candidate_values.append(1)\n",
    "\n",
    "sunburst_values.extend(candidate_values)\n",
    "\n",
    "fig = go.Figure()\n",
    "\n",
    "color_dict = { \"Enig\":'rgb(15,122,55)',\"Delvist Enig\": 'rgb(169,220,163)',\"Uenig\":'rgb(218,241,212)'}\n",
    "colors_sunburst = {}\n",
    "for answer in parents_candidates.unique():\n",
    "    colors_sunburst[answer] = color_dict[answer]\n",
    "\n",
    "data = dict(\n",
    "    names=sunburst_names,\n",
    "    parent=sunburst_parents,\n",
    "    value=sunburst_values)\n",
    "\n",
    "fig.add_trace(go.Sunburst(\n",
    "    labels=data['names'],\n",
    "    parents=data['parent'],\n",
    "    values=data['value'],\n",
    "    branchvalues=\"total\",\n",
    "    marker_colors = list(colors_sunburst.values()),\n",
    "    insidetextorientation='radial',\n",
    "    ))\n",
    "fig.update_layout(\n",
    "    autosize=False,\n",
    "    width=1200,\n",
    "    height=720)\n"
   ]
  },
  {
   "cell_type": "code",
   "execution_count": 118,
   "id": "5e2f09f6",
   "metadata": {},
   "outputs": [],
   "source": [
    "\n",
    "df_nameIndex = pd.read_csv(\"data/fv_data.csv\",\n",
    "                 dtype={\"fips\": str})\n",
    "\n",
    "df_sim = pd.read_excel(\"data_sim.xlsx\",\n",
    "                 dtype={\"fips\": str})\n",
    "#df = df.fillna(0) # replace NA values with 0\n",
    "#df_nameIndex = df.set_index(\"Navn\")\n",
    "#df[\"Candidate\"] = [df['Navn'][i]+f\" ({df['Parti'][i][:2]})\" for i, x in enumerate(df[\"Navn\"])]\n",
    "#df_nameIndex = df.set_index(\"Candidate\")\n",
    "# Tilføjer en randomiseret kostkolonne\n",
    "#df_nameIndex[\"Kost\"] = list(np.random.randint(low=1, high=6,size=len(df_nameIndex)))\n",
    "#kost_dict = {5: \"Kødspiser\", 4:\"Fleksitar\",3:\"Pescetar\", 2: \"Vegetar\",1:\"Veganer\", 6: \"Ønsker ikke at svare\"}\n",
    "kost_color = {\"Kødspiser\":\"red\", \"Fleksitar\":\"turquoise\",\"Pescetar\":\"blue\", \"Vegetar\":veggieGreen,\"Veganer\":veganGreen\n",
    "              ,\"Ønsker ikke at svare\" : \"grey\"}\n",
    "#df_nameIndex[\"Kost\"] = [kost_dict[x] for x in df_nameIndex[\"Kost\"]]\n",
    "#df_nameIndex[\"Kost_color\"] = [kost_color[x] for x in df_nameIndex[\"Kost\"]]\n",
    "\n",
    "\n",
    "\n",
    "# List of the five new columns\n",
    "#q1Answers = ['Daginstitutioner','Hospitaler, psykiatrien','Plejehjem, plejecentre og offentlig madudbringning til ældre', 'Offentlige arbejdspladser', 'ALLE offentlige institutioner']\n",
    "#Adding the five columns, if not allready added\n",
    "#if q1Answers[0] not in df.columns:\n",
    "#    df = df.reindex(columns = df.columns[0:5].tolist() + q1Answers + df.columns[5:].tolist())\n",
    "\n",
    "# First value adds random boolean(0,1) to \"Alle offentlige institutioner\" column.\n",
    "# Second value adds random boolean (0,1) to the remaining four columns,\n",
    "# depending on the boolean from the \"Alle offentlige institutioner\" column.\n",
    "#q1Questions = df.columns[4:9]\n",
    "#for i in range(0,len(df)):\n",
    "#    value = 1 if random() > 0.7 else 0\n",
    "#    df.loc[i,q1Questions[4:5]] = value\n",
    "#    for col in q1Questions[0:4]:\n",
    "#        value2 = 1 if random() > 0.5 else 0\n",
    "#        if value == 0:\n",
    "#            df.loc[i,col] = value2\n",
    "#        else:\n",
    "#            df.loc[i,col] = 0\n",
    "# Definitions from the main-file\n",
    "\n",
    "# This codeblock contains the variables for the dash-board\n",
    "#Style\n",
    "textBlack = 'rgb(0,0,0)' #Black for text\n",
    "\n",
    "H2Style = {\"fontSize\": \"25px\",\n",
    "            \"color\": veganGreen,\n",
    "            \"text-align\": \"center\",\n",
    "            'background': 'white',\n",
    "            'font-family': 'Calibri',\n",
    "            \"margin-top\": \"20px\",\n",
    "            \"margin-bottom\":'10px',\n",
    "            \"padding\":\"1.5%\"}\n",
    "\n",
    "pStyle = {'fontSize': '18px',\n",
    "            'color': textBlack,\n",
    "            'text-align': 'center',\n",
    "            'background': 'white',\n",
    "            'font-family': 'Calibri',\n",
    "            'margin-top': '-40px',\n",
    "            'margin-bottom':'1px',\n",
    "            'padding':'1.5%'}\n",
    "\n",
    "#Lists\n",
    "parties = [] # !!! Add list according to values from survey\n",
    "candidates = [] # !!! Add list according to values from survey\n",
    "questions = df_nameIndex.columns[11:25] # !!! Add questions to this list\n",
    "kommuneList = df_nameIndex[\"Storkreds\"].unique()  # !!! change list according to values from survey\n",
    "\n",
    "\n",
    "# Placeholder text\n",
    "loremIpsum = \"Lorem ipsum dolor sit amet, consectetur adipiscing elit, sed do eiusmod tempor incididunt ut labore et dolore magna aliqua. Ut enim ad minim veniam, quis nostrud exercitation ullamco laboris nisi ut aliquip ex ea commodo consequat. Duis aute irure dolor in reprehenderit in voluptate velit esse cillum dolore eu fugiat nulla pariatur. Excepteur sint occaecat cupidatat non proident, sunt in culpa qui officia deserunt mollit anim id est laborum.\"\n",
    "\n"
   ]
  },
  {
   "cell_type": "code",
   "execution_count": 119,
   "id": "d3642d30",
   "metadata": {},
   "outputs": [
    {
     "data": {
      "text/html": [
       "<div>\n",
       "<style scoped>\n",
       "    .dataframe tbody tr th:only-of-type {\n",
       "        vertical-align: middle;\n",
       "    }\n",
       "\n",
       "    .dataframe tbody tr th {\n",
       "        vertical-align: top;\n",
       "    }\n",
       "\n",
       "    .dataframe thead th {\n",
       "        text-align: right;\n",
       "    }\n",
       "</style>\n",
       "<table border=\"1\" class=\"dataframe\">\n",
       "  <thead>\n",
       "    <tr style=\"text-align: right;\">\n",
       "      <th></th>\n",
       "      <th>Navn</th>\n",
       "      <th>Storkreds</th>\n",
       "      <th>Parti</th>\n",
       "      <th>Kost</th>\n",
       "      <th>Q1</th>\n",
       "      <th>Q1.1</th>\n",
       "      <th>Q1.2</th>\n",
       "      <th>Q1.3</th>\n",
       "      <th>Q1.4</th>\n",
       "      <th>Q1.5</th>\n",
       "      <th>...</th>\n",
       "      <th>Der skal være en klimaafgift på alle fødevarer, der afspejler deres drivhusgasudledning.</th>\n",
       "      <th>Der skal være en klimaafgift specifikt på alle animalske fødevarer</th>\n",
       "      <th>Finansielle institutioner (banker, pensionskasser og investeringsrådgivere, långivere etc.) skal pålægges hvert år at afrapportere, hvordan deres porteføljer, produkter og långivning bidrager til grøn omstilling af landbruget, herunder især fra animalsk til plantebaseret produktion.</th>\n",
       "      <th>Fonden for Plantebaserede Fødevarer skal have mindst 200 mio. kr. ekstra årligt udover de eksisterende 85 mio. kr. årligt, så niveauet i højere grad svarer til omfanget af den nødvendige omstilling.</th>\n",
       "      <th>Forskningsmidler indenfor fødevarer skal omlægges til i højere grad at fokusere på klimavenlige, plantebaserede fødevarer frem for animalske.</th>\n",
       "      <th>Den danske animalske landbrugsproduktion står for en stor andel af den samlede danske drivhusgasudledning. Derfor skal antallet af landbrugsdyr (svin, kyllinger, køer, osv.) mindskes til halvdelen af det nuværende antal i 2030.</th>\n",
       "      <th>Landmænd, der vil omlægge deres produktion til flere plantebaserede afgrøder til mennesker, skal kunne modtage gratis efteruddannelse.</th>\n",
       "      <th>Støtteordninger til fødevareerhvervet skal omlægges til i højere grad at støtte klimavenlige, plantebaserede fødevarer frem for animalske.</th>\n",
       "      <th>Score</th>\n",
       "      <th>Kost_color</th>\n",
       "    </tr>\n",
       "  </thead>\n",
       "  <tbody>\n",
       "    <tr>\n",
       "      <th>0</th>\n",
       "      <td>Mira Issa Bloch</td>\n",
       "      <td>Østjyllands Storkreds</td>\n",
       "      <td>Å. Alternativet</td>\n",
       "      <td>Pescetar</td>\n",
       "      <td>Enig - det vil jeg arbejde aktivt for</td>\n",
       "      <td>Enig - det vil jeg arbejde aktivt for</td>\n",
       "      <td>Enig - det vil jeg arbejde aktivt for</td>\n",
       "      <td>Enig - det vil jeg arbejde aktivt for</td>\n",
       "      <td>Enig - det vil jeg arbejde aktivt for</td>\n",
       "      <td>Enig - det vil jeg arbejde aktivt for</td>\n",
       "      <td>...</td>\n",
       "      <td>2</td>\n",
       "      <td>2</td>\n",
       "      <td>2</td>\n",
       "      <td>2</td>\n",
       "      <td>2</td>\n",
       "      <td>2</td>\n",
       "      <td>2</td>\n",
       "      <td>2</td>\n",
       "      <td>32</td>\n",
       "      <td>blue</td>\n",
       "    </tr>\n",
       "    <tr>\n",
       "      <th>1</th>\n",
       "      <td>Benny Dall</td>\n",
       "      <td>Sydjyllands Storkreds</td>\n",
       "      <td>Ø. Enhedslisten</td>\n",
       "      <td>Fleksitar</td>\n",
       "      <td>Enig - det vil jeg arbejde aktivt for</td>\n",
       "      <td>Enig - det vil jeg arbejde aktivt for</td>\n",
       "      <td>Enig - det vil jeg arbejde aktivt for</td>\n",
       "      <td>Enig - det vil jeg arbejde aktivt for</td>\n",
       "      <td>Enig - det vil jeg arbejde aktivt for</td>\n",
       "      <td>Enig - det vil jeg arbejde aktivt for</td>\n",
       "      <td>...</td>\n",
       "      <td>2</td>\n",
       "      <td>2</td>\n",
       "      <td>0</td>\n",
       "      <td>1</td>\n",
       "      <td>1</td>\n",
       "      <td>2</td>\n",
       "      <td>2</td>\n",
       "      <td>2</td>\n",
       "      <td>25</td>\n",
       "      <td>turquoise</td>\n",
       "    </tr>\n",
       "    <tr>\n",
       "      <th>2</th>\n",
       "      <td>Karen Budtz-Jørgensen</td>\n",
       "      <td>Østjyllands Storkreds</td>\n",
       "      <td>Ø. Enhedslisten</td>\n",
       "      <td>Ønsker ikke at svare</td>\n",
       "      <td>Enig - det vil jeg arbejde aktivt for</td>\n",
       "      <td>Enig - det vil jeg arbejde aktivt for</td>\n",
       "      <td>Enig - det vil jeg arbejde aktivt for</td>\n",
       "      <td>Enig - det vil jeg arbejde aktivt for</td>\n",
       "      <td>Enig - det vil jeg arbejde aktivt for</td>\n",
       "      <td>Enig - det vil jeg arbejde aktivt for</td>\n",
       "      <td>...</td>\n",
       "      <td>0</td>\n",
       "      <td>0</td>\n",
       "      <td>0</td>\n",
       "      <td>0</td>\n",
       "      <td>0</td>\n",
       "      <td>0</td>\n",
       "      <td>0</td>\n",
       "      <td>0</td>\n",
       "      <td>3</td>\n",
       "      <td>grey</td>\n",
       "    </tr>\n",
       "    <tr>\n",
       "      <th>3</th>\n",
       "      <td>Jesper Housgaard</td>\n",
       "      <td>Københavns Storkreds</td>\n",
       "      <td>K. Kristendemokraterne</td>\n",
       "      <td>Ønsker ikke at svare</td>\n",
       "      <td>0</td>\n",
       "      <td>Enig - det vil jeg støtte, men jeg vil ikke se...</td>\n",
       "      <td>Enig - det vil jeg støtte, men jeg vil ikke se...</td>\n",
       "      <td>Enig - det vil jeg støtte, men jeg vil ikke se...</td>\n",
       "      <td>Uenig - det vil jeg ikke støtte</td>\n",
       "      <td>Uenig - det vil jeg ikke støtte</td>\n",
       "      <td>...</td>\n",
       "      <td>0</td>\n",
       "      <td>0</td>\n",
       "      <td>0</td>\n",
       "      <td>0</td>\n",
       "      <td>0</td>\n",
       "      <td>0</td>\n",
       "      <td>0</td>\n",
       "      <td>0</td>\n",
       "      <td>1</td>\n",
       "      <td>grey</td>\n",
       "    </tr>\n",
       "    <tr>\n",
       "      <th>4</th>\n",
       "      <td>Hikmet Altun</td>\n",
       "      <td>Sjællands Storkreds</td>\n",
       "      <td>B. Det Radikale Venstre</td>\n",
       "      <td>Kødspiser</td>\n",
       "      <td>Enig - det vil jeg arbejde aktivt for</td>\n",
       "      <td>Enig - det vil jeg arbejde aktivt for</td>\n",
       "      <td>Enig - det vil jeg arbejde aktivt for</td>\n",
       "      <td>Enig - det vil jeg arbejde aktivt for</td>\n",
       "      <td>Enig - det vil jeg arbejde aktivt for</td>\n",
       "      <td>Enig - det vil jeg arbejde aktivt for</td>\n",
       "      <td>...</td>\n",
       "      <td>1</td>\n",
       "      <td>0</td>\n",
       "      <td>1</td>\n",
       "      <td>1</td>\n",
       "      <td>1</td>\n",
       "      <td>2</td>\n",
       "      <td>2</td>\n",
       "      <td>1</td>\n",
       "      <td>19</td>\n",
       "      <td>red</td>\n",
       "    </tr>\n",
       "    <tr>\n",
       "      <th>...</th>\n",
       "      <td>...</td>\n",
       "      <td>...</td>\n",
       "      <td>...</td>\n",
       "      <td>...</td>\n",
       "      <td>...</td>\n",
       "      <td>...</td>\n",
       "      <td>...</td>\n",
       "      <td>...</td>\n",
       "      <td>...</td>\n",
       "      <td>...</td>\n",
       "      <td>...</td>\n",
       "      <td>...</td>\n",
       "      <td>...</td>\n",
       "      <td>...</td>\n",
       "      <td>...</td>\n",
       "      <td>...</td>\n",
       "      <td>...</td>\n",
       "      <td>...</td>\n",
       "      <td>...</td>\n",
       "      <td>...</td>\n",
       "      <td>...</td>\n",
       "    </tr>\n",
       "    <tr>\n",
       "      <th>188</th>\n",
       "      <td>Rune Kristensen</td>\n",
       "      <td>Sjællands Storkreds</td>\n",
       "      <td>C. Det Konservative Folkeparti</td>\n",
       "      <td>Kødspiser</td>\n",
       "      <td>Uenig - det vil jeg ikke støtte</td>\n",
       "      <td>Uenig - det vil jeg ikke støtte</td>\n",
       "      <td>Uenig - det vil jeg ikke støtte</td>\n",
       "      <td>Uenig - det vil jeg ikke støtte</td>\n",
       "      <td>Uenig - det vil jeg ikke støtte</td>\n",
       "      <td>Uenig - det vil jeg ikke støtte</td>\n",
       "      <td>...</td>\n",
       "      <td>0</td>\n",
       "      <td>0</td>\n",
       "      <td>0</td>\n",
       "      <td>0</td>\n",
       "      <td>0</td>\n",
       "      <td>0</td>\n",
       "      <td>1</td>\n",
       "      <td>0</td>\n",
       "      <td>10</td>\n",
       "      <td>red</td>\n",
       "    </tr>\n",
       "    <tr>\n",
       "      <th>189</th>\n",
       "      <td>Allon Hein Sørensen</td>\n",
       "      <td>Nordsjællands Storkreds</td>\n",
       "      <td>Å. Alternativet</td>\n",
       "      <td>Kødspiser</td>\n",
       "      <td>Enig - det vil jeg arbejde aktivt for</td>\n",
       "      <td>Enig - det vil jeg arbejde aktivt for</td>\n",
       "      <td>Enig - det vil jeg arbejde aktivt for</td>\n",
       "      <td>Enig - det vil jeg arbejde aktivt for</td>\n",
       "      <td>Enig - det vil jeg arbejde aktivt for</td>\n",
       "      <td>Enig - det vil jeg arbejde aktivt for</td>\n",
       "      <td>...</td>\n",
       "      <td>2</td>\n",
       "      <td>2</td>\n",
       "      <td>0</td>\n",
       "      <td>2</td>\n",
       "      <td>2</td>\n",
       "      <td>2</td>\n",
       "      <td>2</td>\n",
       "      <td>2</td>\n",
       "      <td>23</td>\n",
       "      <td>red</td>\n",
       "    </tr>\n",
       "    <tr>\n",
       "      <th>190</th>\n",
       "      <td>Sinus Petter Kremmer</td>\n",
       "      <td>Fyns Storkreds</td>\n",
       "      <td>I. Liberal Alliance</td>\n",
       "      <td>Ønsker ikke at svare</td>\n",
       "      <td>0</td>\n",
       "      <td>0</td>\n",
       "      <td>0</td>\n",
       "      <td>0</td>\n",
       "      <td>0</td>\n",
       "      <td>0</td>\n",
       "      <td>...</td>\n",
       "      <td>0</td>\n",
       "      <td>0</td>\n",
       "      <td>0</td>\n",
       "      <td>0</td>\n",
       "      <td>0</td>\n",
       "      <td>0</td>\n",
       "      <td>0</td>\n",
       "      <td>0</td>\n",
       "      <td>0</td>\n",
       "      <td>grey</td>\n",
       "    </tr>\n",
       "    <tr>\n",
       "      <th>191</th>\n",
       "      <td>Kenneth Bjerg Andersen</td>\n",
       "      <td>Fyns Storkreds</td>\n",
       "      <td>M. Moderaterne</td>\n",
       "      <td>Ønsker ikke at svare</td>\n",
       "      <td>Uenig - det vil jeg ikke støtte</td>\n",
       "      <td>Uenig - det vil jeg ikke støtte</td>\n",
       "      <td>Uenig - det vil jeg ikke støtte</td>\n",
       "      <td>Uenig - det vil jeg ikke støtte</td>\n",
       "      <td>Uenig - det vil jeg ikke støtte</td>\n",
       "      <td>Uenig - det vil jeg ikke støtte</td>\n",
       "      <td>...</td>\n",
       "      <td>0</td>\n",
       "      <td>0</td>\n",
       "      <td>0</td>\n",
       "      <td>0</td>\n",
       "      <td>0</td>\n",
       "      <td>0</td>\n",
       "      <td>0</td>\n",
       "      <td>0</td>\n",
       "      <td>1</td>\n",
       "      <td>grey</td>\n",
       "    </tr>\n",
       "    <tr>\n",
       "      <th>192</th>\n",
       "      <td>Søren Espersen</td>\n",
       "      <td>Sydjyllands Storkreds</td>\n",
       "      <td>Æ. Danmarksdemokraterne</td>\n",
       "      <td>Ønsker ikke at svare</td>\n",
       "      <td>0</td>\n",
       "      <td>0</td>\n",
       "      <td>0</td>\n",
       "      <td>0</td>\n",
       "      <td>0</td>\n",
       "      <td>0</td>\n",
       "      <td>...</td>\n",
       "      <td>0</td>\n",
       "      <td>0</td>\n",
       "      <td>0</td>\n",
       "      <td>0</td>\n",
       "      <td>0</td>\n",
       "      <td>0</td>\n",
       "      <td>0</td>\n",
       "      <td>0</td>\n",
       "      <td>0</td>\n",
       "      <td>grey</td>\n",
       "    </tr>\n",
       "  </tbody>\n",
       "</table>\n",
       "<p>193 rows × 28 columns</p>\n",
       "</div>"
      ],
      "text/plain": [
       "                       Navn                Storkreds  \\\n",
       "0           Mira Issa Bloch    Østjyllands Storkreds   \n",
       "1                Benny Dall    Sydjyllands Storkreds   \n",
       "2     Karen Budtz-Jørgensen    Østjyllands Storkreds   \n",
       "3          Jesper Housgaard     Københavns Storkreds   \n",
       "4              Hikmet Altun      Sjællands Storkreds   \n",
       "..                      ...                      ...   \n",
       "188         Rune Kristensen      Sjællands Storkreds   \n",
       "189     Allon Hein Sørensen  Nordsjællands Storkreds   \n",
       "190    Sinus Petter Kremmer           Fyns Storkreds   \n",
       "191  Kenneth Bjerg Andersen           Fyns Storkreds   \n",
       "192          Søren Espersen    Sydjyllands Storkreds   \n",
       "\n",
       "                              Parti                  Kost  \\\n",
       "0                   Å. Alternativet              Pescetar   \n",
       "1                   Ø. Enhedslisten             Fleksitar   \n",
       "2                   Ø. Enhedslisten  Ønsker ikke at svare   \n",
       "3            K. Kristendemokraterne  Ønsker ikke at svare   \n",
       "4           B. Det Radikale Venstre             Kødspiser   \n",
       "..                              ...                   ...   \n",
       "188  C. Det Konservative Folkeparti             Kødspiser   \n",
       "189                 Å. Alternativet             Kødspiser   \n",
       "190             I. Liberal Alliance  Ønsker ikke at svare   \n",
       "191                  M. Moderaterne  Ønsker ikke at svare   \n",
       "192         Æ. Danmarksdemokraterne  Ønsker ikke at svare   \n",
       "\n",
       "                                        Q1  \\\n",
       "0    Enig - det vil jeg arbejde aktivt for   \n",
       "1    Enig - det vil jeg arbejde aktivt for   \n",
       "2    Enig - det vil jeg arbejde aktivt for   \n",
       "3                                        0   \n",
       "4    Enig - det vil jeg arbejde aktivt for   \n",
       "..                                     ...   \n",
       "188        Uenig - det vil jeg ikke støtte   \n",
       "189  Enig - det vil jeg arbejde aktivt for   \n",
       "190                                      0   \n",
       "191        Uenig - det vil jeg ikke støtte   \n",
       "192                                      0   \n",
       "\n",
       "                                                  Q1.1  \\\n",
       "0                Enig - det vil jeg arbejde aktivt for   \n",
       "1                Enig - det vil jeg arbejde aktivt for   \n",
       "2                Enig - det vil jeg arbejde aktivt for   \n",
       "3    Enig - det vil jeg støtte, men jeg vil ikke se...   \n",
       "4                Enig - det vil jeg arbejde aktivt for   \n",
       "..                                                 ...   \n",
       "188                    Uenig - det vil jeg ikke støtte   \n",
       "189              Enig - det vil jeg arbejde aktivt for   \n",
       "190                                                  0   \n",
       "191                    Uenig - det vil jeg ikke støtte   \n",
       "192                                                  0   \n",
       "\n",
       "                                                  Q1.2  \\\n",
       "0                Enig - det vil jeg arbejde aktivt for   \n",
       "1                Enig - det vil jeg arbejde aktivt for   \n",
       "2                Enig - det vil jeg arbejde aktivt for   \n",
       "3    Enig - det vil jeg støtte, men jeg vil ikke se...   \n",
       "4                Enig - det vil jeg arbejde aktivt for   \n",
       "..                                                 ...   \n",
       "188                    Uenig - det vil jeg ikke støtte   \n",
       "189              Enig - det vil jeg arbejde aktivt for   \n",
       "190                                                  0   \n",
       "191                    Uenig - det vil jeg ikke støtte   \n",
       "192                                                  0   \n",
       "\n",
       "                                                  Q1.3  \\\n",
       "0                Enig - det vil jeg arbejde aktivt for   \n",
       "1                Enig - det vil jeg arbejde aktivt for   \n",
       "2                Enig - det vil jeg arbejde aktivt for   \n",
       "3    Enig - det vil jeg støtte, men jeg vil ikke se...   \n",
       "4                Enig - det vil jeg arbejde aktivt for   \n",
       "..                                                 ...   \n",
       "188                    Uenig - det vil jeg ikke støtte   \n",
       "189              Enig - det vil jeg arbejde aktivt for   \n",
       "190                                                  0   \n",
       "191                    Uenig - det vil jeg ikke støtte   \n",
       "192                                                  0   \n",
       "\n",
       "                                      Q1.4  \\\n",
       "0    Enig - det vil jeg arbejde aktivt for   \n",
       "1    Enig - det vil jeg arbejde aktivt for   \n",
       "2    Enig - det vil jeg arbejde aktivt for   \n",
       "3          Uenig - det vil jeg ikke støtte   \n",
       "4    Enig - det vil jeg arbejde aktivt for   \n",
       "..                                     ...   \n",
       "188        Uenig - det vil jeg ikke støtte   \n",
       "189  Enig - det vil jeg arbejde aktivt for   \n",
       "190                                      0   \n",
       "191        Uenig - det vil jeg ikke støtte   \n",
       "192                                      0   \n",
       "\n",
       "                                      Q1.5  ...  \\\n",
       "0    Enig - det vil jeg arbejde aktivt for  ...   \n",
       "1    Enig - det vil jeg arbejde aktivt for  ...   \n",
       "2    Enig - det vil jeg arbejde aktivt for  ...   \n",
       "3          Uenig - det vil jeg ikke støtte  ...   \n",
       "4    Enig - det vil jeg arbejde aktivt for  ...   \n",
       "..                                     ...  ...   \n",
       "188        Uenig - det vil jeg ikke støtte  ...   \n",
       "189  Enig - det vil jeg arbejde aktivt for  ...   \n",
       "190                                      0  ...   \n",
       "191        Uenig - det vil jeg ikke støtte  ...   \n",
       "192                                      0  ...   \n",
       "\n",
       "     Der skal være en klimaafgift på alle fødevarer, der afspejler deres drivhusgasudledning.  \\\n",
       "0                                                    2                                          \n",
       "1                                                    2                                          \n",
       "2                                                    0                                          \n",
       "3                                                    0                                          \n",
       "4                                                    1                                          \n",
       "..                                                 ...                                          \n",
       "188                                                  0                                          \n",
       "189                                                  2                                          \n",
       "190                                                  0                                          \n",
       "191                                                  0                                          \n",
       "192                                                  0                                          \n",
       "\n",
       "     Der skal være en klimaafgift specifikt på alle animalske fødevarer  \\\n",
       "0                                                    2                    \n",
       "1                                                    2                    \n",
       "2                                                    0                    \n",
       "3                                                    0                    \n",
       "4                                                    0                    \n",
       "..                                                 ...                    \n",
       "188                                                  0                    \n",
       "189                                                  2                    \n",
       "190                                                  0                    \n",
       "191                                                  0                    \n",
       "192                                                  0                    \n",
       "\n",
       "     Finansielle institutioner (banker, pensionskasser og investeringsrådgivere, långivere etc.) skal pålægges hvert år at afrapportere, hvordan deres porteføljer, produkter og långivning bidrager til grøn omstilling af landbruget, herunder især fra animalsk til plantebaseret produktion.  \\\n",
       "0                                                    2                                                                                                                                                                                                                                             \n",
       "1                                                    0                                                                                                                                                                                                                                             \n",
       "2                                                    0                                                                                                                                                                                                                                             \n",
       "3                                                    0                                                                                                                                                                                                                                             \n",
       "4                                                    1                                                                                                                                                                                                                                             \n",
       "..                                                 ...                                                                                                                                                                                                                                             \n",
       "188                                                  0                                                                                                                                                                                                                                             \n",
       "189                                                  0                                                                                                                                                                                                                                             \n",
       "190                                                  0                                                                                                                                                                                                                                             \n",
       "191                                                  0                                                                                                                                                                                                                                             \n",
       "192                                                  0                                                                                                                                                                                                                                             \n",
       "\n",
       "     Fonden for Plantebaserede Fødevarer skal have mindst 200 mio. kr. ekstra årligt udover de eksisterende 85 mio. kr. årligt, så niveauet i højere grad svarer til omfanget af den nødvendige omstilling.  \\\n",
       "0                                                    2                                                                                                                                                        \n",
       "1                                                    1                                                                                                                                                        \n",
       "2                                                    0                                                                                                                                                        \n",
       "3                                                    0                                                                                                                                                        \n",
       "4                                                    1                                                                                                                                                        \n",
       "..                                                 ...                                                                                                                                                        \n",
       "188                                                  0                                                                                                                                                        \n",
       "189                                                  2                                                                                                                                                        \n",
       "190                                                  0                                                                                                                                                        \n",
       "191                                                  0                                                                                                                                                        \n",
       "192                                                  0                                                                                                                                                        \n",
       "\n",
       "     Forskningsmidler indenfor fødevarer skal omlægges til i højere grad at fokusere på klimavenlige, plantebaserede fødevarer frem for animalske.  \\\n",
       "0                                                    2                                                                                               \n",
       "1                                                    1                                                                                               \n",
       "2                                                    0                                                                                               \n",
       "3                                                    0                                                                                               \n",
       "4                                                    1                                                                                               \n",
       "..                                                 ...                                                                                               \n",
       "188                                                  0                                                                                               \n",
       "189                                                  2                                                                                               \n",
       "190                                                  0                                                                                               \n",
       "191                                                  0                                                                                               \n",
       "192                                                  0                                                                                               \n",
       "\n",
       "     Den danske animalske landbrugsproduktion står for en stor andel af den samlede danske drivhusgasudledning. Derfor skal antallet af landbrugsdyr (svin, kyllinger, køer, osv.) mindskes til halvdelen af det nuværende antal i 2030.  \\\n",
       "0                                                    2                                                                                                                                                                                     \n",
       "1                                                    2                                                                                                                                                                                     \n",
       "2                                                    0                                                                                                                                                                                     \n",
       "3                                                    0                                                                                                                                                                                     \n",
       "4                                                    2                                                                                                                                                                                     \n",
       "..                                                 ...                                                                                                                                                                                     \n",
       "188                                                  0                                                                                                                                                                                     \n",
       "189                                                  2                                                                                                                                                                                     \n",
       "190                                                  0                                                                                                                                                                                     \n",
       "191                                                  0                                                                                                                                                                                     \n",
       "192                                                  0                                                                                                                                                                                     \n",
       "\n",
       "     Landmænd, der vil omlægge deres produktion til flere plantebaserede afgrøder til mennesker, skal kunne modtage gratis efteruddannelse.  \\\n",
       "0                                                    2                                                                                        \n",
       "1                                                    2                                                                                        \n",
       "2                                                    0                                                                                        \n",
       "3                                                    0                                                                                        \n",
       "4                                                    2                                                                                        \n",
       "..                                                 ...                                                                                        \n",
       "188                                                  1                                                                                        \n",
       "189                                                  2                                                                                        \n",
       "190                                                  0                                                                                        \n",
       "191                                                  0                                                                                        \n",
       "192                                                  0                                                                                        \n",
       "\n",
       "     Støtteordninger til fødevareerhvervet skal omlægges til i højere grad at støtte klimavenlige, plantebaserede fødevarer frem for animalske.  \\\n",
       "0                                                    2                                                                                            \n",
       "1                                                    2                                                                                            \n",
       "2                                                    0                                                                                            \n",
       "3                                                    0                                                                                            \n",
       "4                                                    1                                                                                            \n",
       "..                                                 ...                                                                                            \n",
       "188                                                  0                                                                                            \n",
       "189                                                  2                                                                                            \n",
       "190                                                  0                                                                                            \n",
       "191                                                  0                                                                                            \n",
       "192                                                  0                                                                                            \n",
       "\n",
       "     Score  Kost_color  \n",
       "0       32        blue  \n",
       "1       25   turquoise  \n",
       "2        3        grey  \n",
       "3        1        grey  \n",
       "4       19         red  \n",
       "..     ...         ...  \n",
       "188     10         red  \n",
       "189     23         red  \n",
       "190      0        grey  \n",
       "191      1        grey  \n",
       "192      0        grey  \n",
       "\n",
       "[193 rows x 28 columns]"
      ]
     },
     "execution_count": 119,
     "metadata": {},
     "output_type": "execute_result"
    }
   ],
   "source": [
    "df_nameIndex"
   ]
  }
 ],
 "metadata": {
  "kernelspec": {
   "display_name": "Python 3",
   "language": "python",
   "name": "python3"
  },
  "language_info": {
   "codemirror_mode": {
    "name": "ipython",
    "version": 3
   },
   "file_extension": ".py",
   "mimetype": "text/x-python",
   "name": "python",
   "nbconvert_exporter": "python",
   "pygments_lexer": "ipython3",
   "version": "3.8.8"
  }
 },
 "nbformat": 4,
 "nbformat_minor": 5
}
