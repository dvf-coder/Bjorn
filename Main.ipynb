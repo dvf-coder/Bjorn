{
 "cells": [
  {
   "cell_type": "code",
   "execution_count": 1,
   "id": "2fec26c2",
   "metadata": {},
   "outputs": [],
   "source": [
    "# import all libraries\n",
    "from plotly import graph_objects as go\n",
    "import pandas as pd\n",
    "import dash\n",
    "from dash.dependencies import Input, Output\n",
    "from dash import dcc\n",
    "from dash import html\n",
    "import plotly.express as px\n",
    "from urllib.request import urlopen\n",
    "import json\n",
    "from plotly.subplots import make_subplots"
   ]
  },
  {
   "cell_type": "code",
   "execution_count": 2,
   "id": "cc07a1de",
   "metadata": {},
   "outputs": [
    {
     "ename": "SyntaxError",
     "evalue": "invalid syntax (1794144570.py, line 4)",
     "output_type": "error",
     "traceback": [
      "\u001b[0;36m  File \u001b[0;32m\"/tmp/ipykernel_64606/1794144570.py\"\u001b[0;36m, line \u001b[0;32m4\u001b[0m\n\u001b[0;31m    dtype={\"fips\": str})\u001b[0m\n\u001b[0m    ^\u001b[0m\n\u001b[0;31mSyntaxError\u001b[0m\u001b[0;31m:\u001b[0m invalid syntax\n"
     ]
    }
   ],
   "source": [
    "# Load Veggie Data\n",
    "\n",
    "df = pd.read_csv(\"kv21_trimmet_98.csv\",b\n",
    "                 dtype={\"fips\": str})\n",
    "df = df.fillna(0) # replace NA values with 0 "
   ]
  },
  {
   "cell_type": "markdown",
   "id": "a98e46da",
   "metadata": {},
   "source": [
    "## Variables"
   ]
  },
  {
   "cell_type": "code",
   "execution_count": null,
   "id": "1f1fc8b9",
   "metadata": {},
   "outputs": [],
   "source": [
    "# This codeblock contains the variables for the dash-board\n",
    "#Style\n",
    "textBlack = 'rgb(0,0,0)' #Black for text\n",
    "veganGreen = 'rgb(15,122,55)' # Light-green for the vegan color option !!! Change for real color\n",
    "veggieGreen = 'rgb(5,122,87)' # Dark-green for the vegetarian color option !!! Change for real color\n",
    "\n",
    "#Lists\n",
    "storkredse = () # !!! change list according to values from survey\n",
    "parties = () # !!! Add list according to values from survey\n",
    "candidates = () # !!! Add list according to values from survey\n",
    "questions = () # !!! Add questions to this list, maybe as dictionary"
   ]
  },
  {
   "cell_type": "markdown",
   "id": "8bcb0191",
   "metadata": {},
   "source": [
    "# Calculations for choosing a Storkreds"
   ]
  },
  {
   "cell_type": "code",
   "execution_count": null,
   "id": "f46e1ae1",
   "metadata": {},
   "outputs": [],
   "source": [
    "# Add calculations for first solution"
   ]
  },
  {
   "cell_type": "code",
   "execution_count": null,
   "id": "e438eb1f",
   "metadata": {},
   "outputs": [],
   "source": [
    "# Add calculations for second solution"
   ]
  },
  {
   "cell_type": "markdown",
   "id": "e9d746ca",
   "metadata": {},
   "source": [
    "# Choosing a Storkreds - Choose one solution"
   ]
  },
  {
   "cell_type": "code",
   "execution_count": null,
   "id": "ea235372",
   "metadata": {},
   "outputs": [],
   "source": [
    "# First solution\n",
    "# Dropdown menu"
   ]
  },
  {
   "cell_type": "code",
   "execution_count": null,
   "id": "266e549f",
   "metadata": {},
   "outputs": [],
   "source": [
    "# Second solution\n",
    "# Check-boxes"
   ]
  },
  {
   "cell_type": "markdown",
   "id": "e8329c66",
   "metadata": {},
   "source": [
    "## Calculations for lollipop graph"
   ]
  },
  {
   "cell_type": "code",
   "execution_count": null,
   "id": "774bb151",
   "metadata": {},
   "outputs": [],
   "source": [
    "#Insert calculations for lollipop graph here\n",
    "df_score = pd.read_excel(\"data/data.xlsx\")\n",
    "df_score[\"mean\"] = [df_score.iloc[i,2:].mean() for i in range(len(df_score))]"
   ]
  },
  {
   "cell_type": "markdown",
   "id": "4b7e23b4",
   "metadata": {},
   "source": [
    "## Lollipop graph"
   ]
  },
  {
   "cell_type": "code",
   "execution_count": null,
   "id": "bcc08914",
   "metadata": {
    "scrolled": true
   },
   "outputs": [],
   "source": [
    "fig = go.Figure()\n",
    "\n",
    "for i, mean in enumerate(df_score[\"mean\"]):\n",
    "    fig.add_trace(go.Scatter(x=[i,i],y=[0,mean]))\n",
    "    \n",
    "fig.show()"
   ]
  },
  {
   "cell_type": "markdown",
   "id": "01b66bde",
   "metadata": {},
   "source": [
    "# Calculations for visualizing questions"
   ]
  },
  {
   "cell_type": "code",
   "execution_count": null,
   "id": "7850d317",
   "metadata": {},
   "outputs": [],
   "source": [
    "# Add calculations for first solution"
   ]
  },
  {
   "cell_type": "code",
   "execution_count": null,
   "id": "ad9e49cd",
   "metadata": {},
   "outputs": [],
   "source": [
    "# Add calculations for second solution"
   ]
  },
  {
   "cell_type": "markdown",
   "id": "036ad6f0",
   "metadata": {},
   "source": [
    "# Visualize the questions - Choose one solution"
   ]
  },
  {
   "cell_type": "code",
   "execution_count": null,
   "id": "75044c50",
   "metadata": {},
   "outputs": [],
   "source": [
    "# First solution\n",
    "# Dropdown menu"
   ]
  },
  {
   "cell_type": "code",
   "execution_count": null,
   "id": "d9d5fcf0",
   "metadata": {},
   "outputs": [],
   "source": [
    "# Second solution\n",
    "# Check-boxes"
   ]
  },
  {
   "cell_type": "markdown",
   "id": "45b209d6",
   "metadata": {},
   "source": [
    "# Calculations for the Rose graph"
   ]
  },
  {
   "cell_type": "code",
   "execution_count": null,
   "id": "74ad80b1",
   "metadata": {},
   "outputs": [],
   "source": [
    "# Add calculations for the Rose chart"
   ]
  },
  {
   "cell_type": "markdown",
   "id": "608801f6",
   "metadata": {},
   "source": [
    "# Rose graph "
   ]
  },
  {
   "cell_type": "code",
   "execution_count": null,
   "id": "d6396337",
   "metadata": {},
   "outputs": [],
   "source": [
    "# Add rose graph"
   ]
  },
  {
   "cell_type": "markdown",
   "id": "21b260e4",
   "metadata": {},
   "source": [
    "# Calculations for the \"Compare-graph\""
   ]
  },
  {
   "cell_type": "code",
   "execution_count": null,
   "id": "af7a8ab3",
   "metadata": {},
   "outputs": [],
   "source": [
    "# Add calculations for the \"Compare graph\""
   ]
  },
  {
   "cell_type": "markdown",
   "id": "52c81a38",
   "metadata": {},
   "source": [
    "# The Compare graph"
   ]
  },
  {
   "cell_type": "code",
   "execution_count": null,
   "id": "a03e90dc",
   "metadata": {},
   "outputs": [],
   "source": [
    "# !!! The compare graph has not been chosen yet\n",
    "# Add the compare graph"
   ]
  },
  {
   "cell_type": "markdown",
   "id": "e24bd86f",
   "metadata": {},
   "source": [
    "# HTML-code block"
   ]
  },
  {
   "cell_type": "code",
   "execution_count": null,
   "id": "ee6b1261",
   "metadata": {},
   "outputs": [],
   "source": [
    "# Setup app\n",
    "app = dash.Dash()\n",
    "# Setup html\n",
    "app.layout =  html.Div([\n",
    "    # Add code\n",
    "    ], style={'background-color':'white','margin':'2%','display':'inline-block'}) # Style of dash-board, can be changed"
   ]
  },
  {
   "cell_type": "markdown",
   "id": "71ac3e7d",
   "metadata": {},
   "source": [
    "# Dash-code block"
   ]
  },
  {
   "cell_type": "code",
   "execution_count": null,
   "id": "fcc91327",
   "metadata": {},
   "outputs": [],
   "source": [
    "# Add code for callbacks\n",
    "# Start the dash-board\n",
    "server = app.server\n",
    "if __name__ == '__main__':\n",
    "    app.run_server()"
   ]
  }
 ],
 "metadata": {
  "kernelspec": {
   "display_name": "Python 3 (ipykernel)",
   "language": "python",
   "name": "python3"
  },
  "language_info": {
   "codemirror_mode": {
    "name": "ipython",
    "version": 3
   },
   "file_extension": ".py",
   "mimetype": "text/x-python",
   "name": "python",
   "nbconvert_exporter": "python",
   "pygments_lexer": "ipython3",
   "version": "3.8.12"
  }
 },
 "nbformat": 4,
 "nbformat_minor": 5
}
