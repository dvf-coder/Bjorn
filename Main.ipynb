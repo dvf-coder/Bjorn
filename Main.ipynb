{
 "cells": [
  {
   "cell_type": "code",
   "execution_count": 1,
   "id": "2fec26c2",
   "metadata": {},
   "outputs": [],
   "source": [
    "# import all libraries\n",
    "from plotly import graph_objects as go\n",
    "import pandas as pd\n",
    "import dash\n",
    "from dash.dependencies import Input, Output\n",
    "from dash import dcc\n",
    "from dash import html\n",
    "import plotly.express as px\n",
    "from urllib.request import urlopen\n",
    "import json\n",
    "from plotly.subplots import make_subplots"
   ]
  },
  {
   "cell_type": "code",
   "execution_count": 2,
   "id": "cc07a1de",
   "metadata": {},
   "outputs": [],
   "source": [
    "# Load Veggie Data\n",
    "\n",
    "df = pd.read_csv(\"kv21_trimmet_98.csv\",\n",
    "                 dtype={\"fips\": str})\n",
    "df = df.fillna(0) # replace NA values with 0 "
   ]
  }
 ],
 "metadata": {
  "kernelspec": {
   "display_name": "Python 3 (ipykernel)",
   "language": "python",
   "name": "python3"
  },
  "language_info": {
   "codemirror_mode": {
    "name": "ipython",
    "version": 3
   },
   "file_extension": ".py",
   "mimetype": "text/x-python",
   "name": "python",
   "nbconvert_exporter": "python",
   "pygments_lexer": "ipython3",
   "version": "3.8.12"
  }
 },
 "nbformat": 4,
 "nbformat_minor": 5
}
