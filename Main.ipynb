{
 "cells": [
  {
   "cell_type": "code",
   "execution_count": 4,
   "id": "2fec26c2",
   "metadata": {},
   "outputs": [],
   "source": [
    "# import all libraries\n",
    "from plotly import graph_objects as go\n",
    "import pandas as pd\n",
    "import dash\n",
    "from dash.dependencies import Input, Output\n",
    "from dash import Dash, html, dcc # Vi bruger forskellige versioner, hvilket betyder at vi skal importere dash forskelligt :/\n",
    "# import dash_core_components as dcc\n",
    "# import dash_html_components as html\n",
    "import plotly.express as px\n",
    "from urllib.request import urlopen\n",
    "import json\n",
    "from plotly.subplots import make_subplots\n",
    "\n",
    "#These stopped working for some reason\n",
    "#from dash import dcc\n",
    "#from dash import html"
   ]
  },
  {
   "cell_type": "code",
   "execution_count": 2,
   "id": "cc07a1de",
   "metadata": {},
   "outputs": [],
   "source": [
    "# Load Veggie Data\n",
    "\n",
    "df = pd.read_csv(\"kv21_trimmet_98.csv\",\n",
    "                 dtype={\"fips\": str})\n",
    "df = df.fillna(0) # replace NA values with 0 "
   ]
  },
  {
   "cell_type": "markdown",
   "id": "a98e46da",
   "metadata": {},
   "source": [
    "## Variables"
   ]
  },
  {
   "cell_type": "code",
   "execution_count": 20,
   "id": "1f1fc8b9",
   "metadata": {},
   "outputs": [],
   "source": [
    "# This codeblock contains the variables for the dash-board\n",
    "#Style\n",
    "textBlack = 'rgb(0,0,0)' #Black for text\n",
    "veganGreen = 'rgb(15,122,55)' # Light-green for the vegan color option !!! Change for real color\n",
    "veggieGreen = 'rgb(5,122,87)' # Dark-green for the vegetarian color option !!! Change for real color\n",
    "\n",
    "#Lists\n",
    "storkredse = ('Storkøbenhavn','Fyn') # !!! change list according to values from survey\n",
    "parties = () # !!! Add list according to values from survey\n",
    "candidates = () # !!! Add list according to values from survey\n",
    "questions = () # !!! Add questions to this list, maybe as dictionary"
   ]
  },
  {
   "cell_type": "markdown",
   "id": "8bcb0191",
   "metadata": {},
   "source": [
    "# Calculations for choosing a Storkreds"
   ]
  },
  {
   "cell_type": "code",
   "execution_count": 4,
   "id": "f46e1ae1",
   "metadata": {},
   "outputs": [],
   "source": [
    "# Add calculations for first solution"
   ]
  },
  {
   "cell_type": "code",
   "execution_count": 5,
   "id": "e438eb1f",
   "metadata": {},
   "outputs": [],
   "source": [
    "# Add calculations for second solution"
   ]
  },
  {
   "cell_type": "markdown",
   "id": "e9d746ca",
   "metadata": {},
   "source": [
    "# Choosing a Storkreds - Choose one solution"
   ]
  },
  {
   "cell_type": "code",
   "execution_count": 22,
   "id": "ea235372",
   "metadata": {},
   "outputs": [
    {
     "data": {
      "text/plain": [
       "{'label': 'Storkøbenhavn', 'value': 'Storkøbenhavn'}"
      ]
     },
     "execution_count": 22,
     "metadata": {},
     "output_type": "execute_result"
    }
   ],
   "source": [
    "# First solution - Dropdown menu\n",
    "# Dictionaries for dropdown menu\n",
    "dicStorkredse = [{'label': i, 'value':i} for i in storkredse]\n",
    "dicStorkredse[0]"
   ]
  },
  {
   "cell_type": "code",
   "execution_count": 7,
   "id": "266e549f",
   "metadata": {},
   "outputs": [],
   "source": [
    "# Second solution\n",
    "# Check-boxes"
   ]
  },
  {
   "cell_type": "markdown",
   "id": "e8329c66",
   "metadata": {},
   "source": [
    "## Calculations for lollipop graph"
   ]
  },
  {
   "cell_type": "code",
   "execution_count": 8,
   "id": "774bb151",
   "metadata": {},
   "outputs": [],
   "source": [
    "#Insert calculations for lollipop graph here\n",
    "df_score = pd.read_excel(\"data/data.xlsx\")\n",
    "df_score[\"mean\"] = [df_score.iloc[i,2:].mean() for i in range(len(df_score))]"
   ]
  },
  {
   "cell_type": "markdown",
   "id": "4b7e23b4",
   "metadata": {},
   "source": [
    "## Lollipop graph"
   ]
  },
  {
   "cell_type": "code",
   "execution_count": 7,
   "id": "e279f479",
   "metadata": {},
   "outputs": [
    {
     "data": {
      "text/html": [
       "<div>\n",
       "<style scoped>\n",
       "    .dataframe tbody tr th:only-of-type {\n",
       "        vertical-align: middle;\n",
       "    }\n",
       "\n",
       "    .dataframe tbody tr th {\n",
       "        vertical-align: top;\n",
       "    }\n",
       "\n",
       "    .dataframe thead th {\n",
       "        text-align: right;\n",
       "    }\n",
       "</style>\n",
       "<table border=\"1\" class=\"dataframe\">\n",
       "  <thead>\n",
       "    <tr style=\"text-align: right;\">\n",
       "      <th></th>\n",
       "      <th>Person</th>\n",
       "      <th>Parti</th>\n",
       "      <th>Q1</th>\n",
       "      <th>Q2</th>\n",
       "      <th>Q3</th>\n",
       "      <th>Q4</th>\n",
       "      <th>Q5</th>\n",
       "      <th>Q6</th>\n",
       "      <th>Q7</th>\n",
       "      <th>Q8</th>\n",
       "      <th>Q9</th>\n",
       "      <th>Q10</th>\n",
       "      <th>Q11</th>\n",
       "      <th>mean</th>\n",
       "    </tr>\n",
       "    <tr>\n",
       "      <th>Person</th>\n",
       "      <th></th>\n",
       "      <th></th>\n",
       "      <th></th>\n",
       "      <th></th>\n",
       "      <th></th>\n",
       "      <th></th>\n",
       "      <th></th>\n",
       "      <th></th>\n",
       "      <th></th>\n",
       "      <th></th>\n",
       "      <th></th>\n",
       "      <th></th>\n",
       "      <th></th>\n",
       "      <th></th>\n",
       "    </tr>\n",
       "  </thead>\n",
       "  <tbody>\n",
       "    <tr>\n",
       "      <th>A</th>\n",
       "      <td>A</td>\n",
       "      <td>Y</td>\n",
       "      <td>1</td>\n",
       "      <td>2</td>\n",
       "      <td>1</td>\n",
       "      <td>1</td>\n",
       "      <td>1</td>\n",
       "      <td>2</td>\n",
       "      <td>1</td>\n",
       "      <td>1</td>\n",
       "      <td>3</td>\n",
       "      <td>2</td>\n",
       "      <td>1</td>\n",
       "      <td>1.454545</td>\n",
       "    </tr>\n",
       "    <tr>\n",
       "      <th>B</th>\n",
       "      <td>B</td>\n",
       "      <td>T</td>\n",
       "      <td>2</td>\n",
       "      <td>2</td>\n",
       "      <td>3</td>\n",
       "      <td>2</td>\n",
       "      <td>2</td>\n",
       "      <td>3</td>\n",
       "      <td>3</td>\n",
       "      <td>2</td>\n",
       "      <td>2</td>\n",
       "      <td>1</td>\n",
       "      <td>3</td>\n",
       "      <td>2.272727</td>\n",
       "    </tr>\n",
       "  </tbody>\n",
       "</table>\n",
       "</div>"
      ],
      "text/plain": [
       "       Person Parti  Q1  Q2  Q3  Q4  Q5  Q6  Q7  Q8  Q9  Q10  Q11      mean\n",
       "Person                                                                     \n",
       "A           A     Y   1   2   1   1   1   2   1   1   3    2    1  1.454545\n",
       "B           B     T   2   2   3   2   2   3   3   2   2    1    3  2.272727"
      ]
     },
     "execution_count": 7,
     "metadata": {},
     "output_type": "execute_result"
    }
   ],
   "source": [
    "df_score = pd.read_excel(\"data/data.xlsx\")\n",
    "df_score[\"mean\"] = [df_score.iloc[i,2:].mean() for i in range(len(df_score))]\n",
    "df_main = df_score.set_index(df_score[\"Person\"])\n",
    "df_main.loc[[\"A\",\"B\"]]"
   ]
  },
  {
   "cell_type": "code",
   "execution_count": 8,
   "id": "bcc08914",
   "metadata": {
    "scrolled": true
   },
   "outputs": [
    {
     "name": "stdout",
     "output_type": "stream",
     "text": [
      "Dash is running on http://127.0.0.1:8050/\n",
      "\n",
      "Dash is running on http://127.0.0.1:8050/\n",
      "\n",
      " * Serving Flask app \"__main__\" (lazy loading)\n",
      " * Environment: production\n",
      "\u001b[31m   WARNING: This is a development server. Do not use it in a production deployment.\u001b[0m\n",
      "\u001b[2m   Use a production WSGI server instead.\u001b[0m\n",
      " * Debug mode: off\n"
     ]
    },
    {
     "name": "stderr",
     "output_type": "stream",
     "text": [
      " * Running on http://127.0.0.1:8050/ (Press CTRL+C to quit)\n",
      "127.0.0.1 - - [05/Aug/2022 15:47:32] \"GET / HTTP/1.1\" 200 -\n",
      "127.0.0.1 - - [05/Aug/2022 15:47:33] \"GET /_dash-layout HTTP/1.1\" 200 -\n",
      "127.0.0.1 - - [05/Aug/2022 15:47:33] \"GET /_dash-dependencies HTTP/1.1\" 200 -\n",
      "127.0.0.1 - - [05/Aug/2022 15:47:33] \"GET /_dash-component-suites/dash/dcc/async-dropdown.js HTTP/1.1\" 200 -\n",
      "127.0.0.1 - - [05/Aug/2022 15:47:33] \"GET /_dash-component-suites/dash/dcc/async-plotlyjs.js HTTP/1.1\" 200 -\n",
      "127.0.0.1 - - [05/Aug/2022 15:47:33] \"POST /_dash-update-component HTTP/1.1\" 200 -\n",
      "127.0.0.1 - - [05/Aug/2022 15:47:33] \"GET /_dash-component-suites/dash/dcc/async-graph.js HTTP/1.1\" 200 -\n",
      "127.0.0.1 - - [05/Aug/2022 15:47:35] \"POST /_dash-update-component HTTP/1.1\" 200 -\n",
      "127.0.0.1 - - [05/Aug/2022 15:47:37] \"POST /_dash-update-component HTTP/1.1\" 200 -\n"
     ]
    }
   ],
   "source": [
    "app = Dash(__name__)\n",
    "\n",
    "app.layout = html.Div([\n",
    "\n",
    "        html.Label(\"Vælg Kandidat\"),\n",
    "        dcc.Dropdown(df_main.index, \"A\",\n",
    "                     multi= True,\n",
    "                     id = \"Candidate_dropdown\"),\n",
    "        dcc.Graph(id = \"Lollipop_candidates\")\n",
    "      \n",
    "])\n",
    "\n",
    "\n",
    "@app.callback(\n",
    "    Output(\"Lollipop_candidates\", \"figure\"),\n",
    "    Input(\"Candidate_dropdown\", \"value\")\n",
    "    )\n",
    "def update_lollipop(value):\n",
    "    value_list = list(value)\n",
    "    fig = go.Figure()\n",
    "    df_temp = df_main.loc[value_list]\n",
    "    for i, mean in enumerate(df_temp[\"mean\"]):\n",
    "        fig.add_trace(go.Scatter(x=[i,i],y=[0,mean]))\n",
    "    return fig\n",
    "    \n",
    "\n",
    "\n",
    "\n",
    "if __name__ == \"__main__\":\n",
    "    app.run_server()"
   ]
  },
  {
   "cell_type": "markdown",
   "id": "bb39b32a",
   "metadata": {},
   "source": [
    "# Calculations for visualizing questions"
   ]
  },
  {
   "cell_type": "code",
   "execution_count": 10,
   "id": "2b319ed7",
   "metadata": {},
   "outputs": [],
   "source": [
    "# Add calculations for first solution"
   ]
  },
  {
   "cell_type": "code",
   "execution_count": 11,
   "id": "ae0c4075",
   "metadata": {},
   "outputs": [],
   "source": [
    "# Add calculations for second solution"
   ]
  },
  {
   "cell_type": "markdown",
   "id": "a45fadc0",
   "metadata": {},
   "source": [
    "# Visualize the questions - Choose one solution"
   ]
  },
  {
   "cell_type": "code",
   "execution_count": 12,
   "id": "3bebe7e0",
   "metadata": {},
   "outputs": [],
   "source": [
    "# First solution\n",
    "# Dropdown menu"
   ]
  },
  {
   "cell_type": "code",
   "execution_count": 13,
   "id": "a63bc818",
   "metadata": {},
   "outputs": [],
   "source": [
    "# Second solution\n",
    "# Check-boxes"
   ]
  },
  {
   "cell_type": "markdown",
   "id": "cc0e49c3",
   "metadata": {},
   "source": [
    "# Calculations for the Rose graph"
   ]
  },
  {
   "cell_type": "code",
   "execution_count": 14,
   "id": "c9d85939",
   "metadata": {},
   "outputs": [],
   "source": [
    "# Add calculations for the Rose chart"
   ]
  },
  {
   "cell_type": "markdown",
   "id": "a1b226c5",
   "metadata": {},
   "source": [
    "# Rose graph "
   ]
  },
  {
   "cell_type": "code",
   "execution_count": 15,
   "id": "cad12ec9",
   "metadata": {},
   "outputs": [],
   "source": [
    "# Add rose graph"
   ]
  },
  {
   "cell_type": "markdown",
   "id": "425897c8",
   "metadata": {},
   "source": [
    "# Calculations for the \"Compare-graph\""
   ]
  },
  {
   "cell_type": "code",
   "execution_count": 16,
   "id": "5998048a",
   "metadata": {},
   "outputs": [],
   "source": [
    "# Add calculations for the \"Compare graph\""
   ]
  },
  {
   "cell_type": "markdown",
   "id": "9ef8220e",
   "metadata": {},
   "source": [
    "# The Compare graph"
   ]
  },
  {
   "cell_type": "code",
   "execution_count": 17,
   "id": "288ce91f",
   "metadata": {},
   "outputs": [],
   "source": [
    "# !!! The compare graph has not been chosen yet\n",
    "# Add the compare graph"
   ]
  },
  {
   "cell_type": "markdown",
   "id": "13102b87",
   "metadata": {},
   "source": [
    "# HTML-code block"
   ]
  },
  {
   "cell_type": "code",
   "execution_count": 18,
   "id": "cf66d1ac",
   "metadata": {},
   "outputs": [],
   "source": [
    "# Setup app\n",
    "import htmlCode # py-file in work-dir\n",
    "app = dash.Dash()\n",
    "app.layout = htmlCode.CodeHTML(textBlack, veganGreen)"
   ]
  },
  {
   "cell_type": "markdown",
   "id": "1e2e12b9",
   "metadata": {},
   "source": [
    "# Dash-code block"
   ]
  },
  {
   "cell_type": "code",
   "execution_count": 19,
   "id": "6ecff8e9",
   "metadata": {},
   "outputs": [
    {
     "name": "stdout",
     "output_type": "stream",
     "text": [
      "Dash is running on http://127.0.0.1:8050/\n",
      "\n",
      "Dash is running on http://127.0.0.1:8050/\n",
      "\n",
      " * Serving Flask app \"__main__\" (lazy loading)\n",
      " * Environment: production\n",
      "\u001b[31m   WARNING: This is a development server. Do not use it in a production deployment.\u001b[0m\n",
      "\u001b[2m   Use a production WSGI server instead.\u001b[0m\n",
      " * Debug mode: off\n"
     ]
    },
    {
     "ename": "OSError",
     "evalue": "[Errno 98] Address already in use",
     "output_type": "error",
     "traceback": [
      "\u001b[0;31m---------------------------------------------------------------------------\u001b[0m",
      "\u001b[0;31mOSError\u001b[0m                                   Traceback (most recent call last)",
      "Input \u001b[0;32mIn [19]\u001b[0m, in \u001b[0;36m<cell line: 5>\u001b[0;34m()\u001b[0m\n\u001b[1;32m      4\u001b[0m server \u001b[38;5;241m=\u001b[39m app\u001b[38;5;241m.\u001b[39mserver\n\u001b[1;32m      5\u001b[0m \u001b[38;5;28;01mif\u001b[39;00m \u001b[38;5;18m__name__\u001b[39m \u001b[38;5;241m==\u001b[39m \u001b[38;5;124m'\u001b[39m\u001b[38;5;124m__main__\u001b[39m\u001b[38;5;124m'\u001b[39m:\n\u001b[0;32m----> 6\u001b[0m     \u001b[43mapp\u001b[49m\u001b[38;5;241;43m.\u001b[39;49m\u001b[43mrun_server\u001b[49m\u001b[43m(\u001b[49m\u001b[43m)\u001b[49m\n",
      "File \u001b[0;32m~/anaconda3/lib/python3.8/site-packages/dash/dash.py:1717\u001b[0m, in \u001b[0;36mDash.run_server\u001b[0;34m(self, host, port, proxy, debug, dev_tools_ui, dev_tools_props_check, dev_tools_serve_dev_bundles, dev_tools_hot_reload, dev_tools_hot_reload_interval, dev_tools_hot_reload_watch_interval, dev_tools_hot_reload_max_retry, dev_tools_silence_routes_logging, dev_tools_prune_errors, **flask_run_options)\u001b[0m\n\u001b[1;32m   1713\u001b[0m         display_url \u001b[38;5;241m=\u001b[39m (protocol, host, \u001b[38;5;124m\"\u001b[39m\u001b[38;5;124m:\u001b[39m\u001b[38;5;132;01m{}\u001b[39;00m\u001b[38;5;124m\"\u001b[39m\u001b[38;5;241m.\u001b[39mformat(port), path)\n\u001b[1;32m   1715\u001b[0m     \u001b[38;5;28mself\u001b[39m\u001b[38;5;241m.\u001b[39mlogger\u001b[38;5;241m.\u001b[39minfo(\u001b[38;5;124m\"\u001b[39m\u001b[38;5;124mDash is running on \u001b[39m\u001b[38;5;132;01m%s\u001b[39;00m\u001b[38;5;124m://\u001b[39m\u001b[38;5;132;01m%s\u001b[39;00m\u001b[38;5;132;01m%s\u001b[39;00m\u001b[38;5;132;01m%s\u001b[39;00m\u001b[38;5;130;01m\\n\u001b[39;00m\u001b[38;5;124m\"\u001b[39m, \u001b[38;5;241m*\u001b[39mdisplay_url)\n\u001b[0;32m-> 1717\u001b[0m \u001b[38;5;28;43mself\u001b[39;49m\u001b[38;5;241;43m.\u001b[39;49m\u001b[43mserver\u001b[49m\u001b[38;5;241;43m.\u001b[39;49m\u001b[43mrun\u001b[49m\u001b[43m(\u001b[49m\u001b[43mhost\u001b[49m\u001b[38;5;241;43m=\u001b[39;49m\u001b[43mhost\u001b[49m\u001b[43m,\u001b[49m\u001b[43m \u001b[49m\u001b[43mport\u001b[49m\u001b[38;5;241;43m=\u001b[39;49m\u001b[43mport\u001b[49m\u001b[43m,\u001b[49m\u001b[43m \u001b[49m\u001b[43mdebug\u001b[49m\u001b[38;5;241;43m=\u001b[39;49m\u001b[43mdebug\u001b[49m\u001b[43m,\u001b[49m\u001b[43m \u001b[49m\u001b[38;5;241;43m*\u001b[39;49m\u001b[38;5;241;43m*\u001b[39;49m\u001b[43mflask_run_options\u001b[49m\u001b[43m)\u001b[49m\n",
      "File \u001b[0;32m~/anaconda3/lib/python3.8/site-packages/flask/app.py:990\u001b[0m, in \u001b[0;36mFlask.run\u001b[0;34m(self, host, port, debug, load_dotenv, **options)\u001b[0m\n\u001b[1;32m    987\u001b[0m \u001b[38;5;28;01mfrom\u001b[39;00m \u001b[38;5;21;01mwerkzeug\u001b[39;00m\u001b[38;5;21;01m.\u001b[39;00m\u001b[38;5;21;01mserving\u001b[39;00m \u001b[38;5;28;01mimport\u001b[39;00m run_simple\n\u001b[1;32m    989\u001b[0m \u001b[38;5;28;01mtry\u001b[39;00m:\n\u001b[0;32m--> 990\u001b[0m     \u001b[43mrun_simple\u001b[49m\u001b[43m(\u001b[49m\u001b[43mhost\u001b[49m\u001b[43m,\u001b[49m\u001b[43m \u001b[49m\u001b[43mport\u001b[49m\u001b[43m,\u001b[49m\u001b[43m \u001b[49m\u001b[38;5;28;43mself\u001b[39;49m\u001b[43m,\u001b[49m\u001b[43m \u001b[49m\u001b[38;5;241;43m*\u001b[39;49m\u001b[38;5;241;43m*\u001b[39;49m\u001b[43moptions\u001b[49m\u001b[43m)\u001b[49m\n\u001b[1;32m    991\u001b[0m \u001b[38;5;28;01mfinally\u001b[39;00m:\n\u001b[1;32m    992\u001b[0m     \u001b[38;5;66;03m# reset the first request information if the development server\u001b[39;00m\n\u001b[1;32m    993\u001b[0m     \u001b[38;5;66;03m# reset normally.  This makes it possible to restart the server\u001b[39;00m\n\u001b[1;32m    994\u001b[0m     \u001b[38;5;66;03m# without reloader and that stuff from an interactive shell.\u001b[39;00m\n\u001b[1;32m    995\u001b[0m     \u001b[38;5;28mself\u001b[39m\u001b[38;5;241m.\u001b[39m_got_first_request \u001b[38;5;241m=\u001b[39m \u001b[38;5;28;01mFalse\u001b[39;00m\n",
      "File \u001b[0;32m~/anaconda3/lib/python3.8/site-packages/werkzeug/serving.py:1017\u001b[0m, in \u001b[0;36mrun_simple\u001b[0;34m(hostname, port, application, use_reloader, use_debugger, use_evalex, extra_files, exclude_patterns, reloader_interval, reloader_type, threaded, processes, request_handler, static_files, passthrough_errors, ssl_context)\u001b[0m\n\u001b[1;32m   1009\u001b[0m     _rwr(\n\u001b[1;32m   1010\u001b[0m         inner,\n\u001b[1;32m   1011\u001b[0m         extra_files\u001b[38;5;241m=\u001b[39mextra_files,\n\u001b[0;32m   (...)\u001b[0m\n\u001b[1;32m   1014\u001b[0m         reloader_type\u001b[38;5;241m=\u001b[39mreloader_type,\n\u001b[1;32m   1015\u001b[0m     )\n\u001b[1;32m   1016\u001b[0m \u001b[38;5;28;01melse\u001b[39;00m:\n\u001b[0;32m-> 1017\u001b[0m     \u001b[43minner\u001b[49m\u001b[43m(\u001b[49m\u001b[43m)\u001b[49m\n",
      "File \u001b[0;32m~/anaconda3/lib/python3.8/site-packages/werkzeug/serving.py:957\u001b[0m, in \u001b[0;36mrun_simple.<locals>.inner\u001b[0;34m()\u001b[0m\n\u001b[1;32m    955\u001b[0m \u001b[38;5;28;01mexcept\u001b[39;00m (\u001b[38;5;167;01mLookupError\u001b[39;00m, \u001b[38;5;167;01mValueError\u001b[39;00m):\n\u001b[1;32m    956\u001b[0m     fd \u001b[38;5;241m=\u001b[39m \u001b[38;5;28;01mNone\u001b[39;00m\n\u001b[0;32m--> 957\u001b[0m srv \u001b[38;5;241m=\u001b[39m \u001b[43mmake_server\u001b[49m\u001b[43m(\u001b[49m\n\u001b[1;32m    958\u001b[0m \u001b[43m    \u001b[49m\u001b[43mhostname\u001b[49m\u001b[43m,\u001b[49m\n\u001b[1;32m    959\u001b[0m \u001b[43m    \u001b[49m\u001b[43mport\u001b[49m\u001b[43m,\u001b[49m\n\u001b[1;32m    960\u001b[0m \u001b[43m    \u001b[49m\u001b[43mapplication\u001b[49m\u001b[43m,\u001b[49m\n\u001b[1;32m    961\u001b[0m \u001b[43m    \u001b[49m\u001b[43mthreaded\u001b[49m\u001b[43m,\u001b[49m\n\u001b[1;32m    962\u001b[0m \u001b[43m    \u001b[49m\u001b[43mprocesses\u001b[49m\u001b[43m,\u001b[49m\n\u001b[1;32m    963\u001b[0m \u001b[43m    \u001b[49m\u001b[43mrequest_handler\u001b[49m\u001b[43m,\u001b[49m\n\u001b[1;32m    964\u001b[0m \u001b[43m    \u001b[49m\u001b[43mpassthrough_errors\u001b[49m\u001b[43m,\u001b[49m\n\u001b[1;32m    965\u001b[0m \u001b[43m    \u001b[49m\u001b[43mssl_context\u001b[49m\u001b[43m,\u001b[49m\n\u001b[1;32m    966\u001b[0m \u001b[43m    \u001b[49m\u001b[43mfd\u001b[49m\u001b[38;5;241;43m=\u001b[39;49m\u001b[43mfd\u001b[49m\u001b[43m,\u001b[49m\n\u001b[1;32m    967\u001b[0m \u001b[43m\u001b[49m\u001b[43m)\u001b[49m\n\u001b[1;32m    968\u001b[0m \u001b[38;5;28;01mif\u001b[39;00m fd \u001b[38;5;129;01mis\u001b[39;00m \u001b[38;5;28;01mNone\u001b[39;00m:\n\u001b[1;32m    969\u001b[0m     log_startup(srv\u001b[38;5;241m.\u001b[39msocket)\n",
      "File \u001b[0;32m~/anaconda3/lib/python3.8/site-packages/werkzeug/serving.py:789\u001b[0m, in \u001b[0;36mmake_server\u001b[0;34m(host, port, app, threaded, processes, request_handler, passthrough_errors, ssl_context, fd)\u001b[0m\n\u001b[1;32m    787\u001b[0m     \u001b[38;5;28;01mraise\u001b[39;00m \u001b[38;5;167;01mValueError\u001b[39;00m(\u001b[38;5;124m\"\u001b[39m\u001b[38;5;124mcannot have a multithreaded and multi process server.\u001b[39m\u001b[38;5;124m\"\u001b[39m)\n\u001b[1;32m    788\u001b[0m \u001b[38;5;28;01melif\u001b[39;00m threaded:\n\u001b[0;32m--> 789\u001b[0m     \u001b[38;5;28;01mreturn\u001b[39;00m \u001b[43mThreadedWSGIServer\u001b[49m\u001b[43m(\u001b[49m\n\u001b[1;32m    790\u001b[0m \u001b[43m        \u001b[49m\u001b[43mhost\u001b[49m\u001b[43m,\u001b[49m\u001b[43m \u001b[49m\u001b[43mport\u001b[49m\u001b[43m,\u001b[49m\u001b[43m \u001b[49m\u001b[43mapp\u001b[49m\u001b[43m,\u001b[49m\u001b[43m \u001b[49m\u001b[43mrequest_handler\u001b[49m\u001b[43m,\u001b[49m\u001b[43m \u001b[49m\u001b[43mpassthrough_errors\u001b[49m\u001b[43m,\u001b[49m\u001b[43m \u001b[49m\u001b[43mssl_context\u001b[49m\u001b[43m,\u001b[49m\u001b[43m \u001b[49m\u001b[43mfd\u001b[49m\u001b[38;5;241;43m=\u001b[39;49m\u001b[43mfd\u001b[49m\n\u001b[1;32m    791\u001b[0m \u001b[43m    \u001b[49m\u001b[43m)\u001b[49m\n\u001b[1;32m    792\u001b[0m \u001b[38;5;28;01melif\u001b[39;00m processes \u001b[38;5;241m>\u001b[39m \u001b[38;5;241m1\u001b[39m:\n\u001b[1;32m    793\u001b[0m     \u001b[38;5;28;01mreturn\u001b[39;00m ForkingWSGIServer(\n\u001b[1;32m    794\u001b[0m         host,\n\u001b[1;32m    795\u001b[0m         port,\n\u001b[0;32m   (...)\u001b[0m\n\u001b[1;32m    801\u001b[0m         fd\u001b[38;5;241m=\u001b[39mfd,\n\u001b[1;32m    802\u001b[0m     )\n",
      "File \u001b[0;32m~/anaconda3/lib/python3.8/site-packages/werkzeug/serving.py:693\u001b[0m, in \u001b[0;36mBaseWSGIServer.__init__\u001b[0;34m(self, host, port, app, handler, passthrough_errors, ssl_context, fd)\u001b[0m\n\u001b[1;32m    690\u001b[0m     \u001b[38;5;28;01mif\u001b[39;00m os\u001b[38;5;241m.\u001b[39mpath\u001b[38;5;241m.\u001b[39mexists(server_address):\n\u001b[1;32m    691\u001b[0m         os\u001b[38;5;241m.\u001b[39munlink(server_address)\n\u001b[0;32m--> 693\u001b[0m \u001b[38;5;28;43msuper\u001b[39;49m\u001b[43m(\u001b[49m\u001b[43m)\u001b[49m\u001b[38;5;241;43m.\u001b[39;49m\u001b[38;5;21;43m__init__\u001b[39;49m\u001b[43m(\u001b[49m\u001b[43mserver_address\u001b[49m\u001b[43m,\u001b[49m\u001b[43m \u001b[49m\u001b[43mhandler\u001b[49m\u001b[43m)\u001b[49m  \u001b[38;5;66;03m# type: ignore\u001b[39;00m\n\u001b[1;32m    695\u001b[0m \u001b[38;5;28mself\u001b[39m\u001b[38;5;241m.\u001b[39mapp \u001b[38;5;241m=\u001b[39m app\n\u001b[1;32m    696\u001b[0m \u001b[38;5;28mself\u001b[39m\u001b[38;5;241m.\u001b[39mpassthrough_errors \u001b[38;5;241m=\u001b[39m passthrough_errors\n",
      "File \u001b[0;32m~/anaconda3/lib/python3.8/socketserver.py:452\u001b[0m, in \u001b[0;36mTCPServer.__init__\u001b[0;34m(self, server_address, RequestHandlerClass, bind_and_activate)\u001b[0m\n\u001b[1;32m    450\u001b[0m \u001b[38;5;28;01mif\u001b[39;00m bind_and_activate:\n\u001b[1;32m    451\u001b[0m     \u001b[38;5;28;01mtry\u001b[39;00m:\n\u001b[0;32m--> 452\u001b[0m         \u001b[38;5;28;43mself\u001b[39;49m\u001b[38;5;241;43m.\u001b[39;49m\u001b[43mserver_bind\u001b[49m\u001b[43m(\u001b[49m\u001b[43m)\u001b[49m\n\u001b[1;32m    453\u001b[0m         \u001b[38;5;28mself\u001b[39m\u001b[38;5;241m.\u001b[39mserver_activate()\n\u001b[1;32m    454\u001b[0m     \u001b[38;5;28;01mexcept\u001b[39;00m:\n",
      "File \u001b[0;32m~/anaconda3/lib/python3.8/http/server.py:138\u001b[0m, in \u001b[0;36mHTTPServer.server_bind\u001b[0;34m(self)\u001b[0m\n\u001b[1;32m    136\u001b[0m \u001b[38;5;28;01mdef\u001b[39;00m \u001b[38;5;21mserver_bind\u001b[39m(\u001b[38;5;28mself\u001b[39m):\n\u001b[1;32m    137\u001b[0m     \u001b[38;5;124;03m\"\"\"Override server_bind to store the server name.\"\"\"\u001b[39;00m\n\u001b[0;32m--> 138\u001b[0m     \u001b[43msocketserver\u001b[49m\u001b[38;5;241;43m.\u001b[39;49m\u001b[43mTCPServer\u001b[49m\u001b[38;5;241;43m.\u001b[39;49m\u001b[43mserver_bind\u001b[49m\u001b[43m(\u001b[49m\u001b[38;5;28;43mself\u001b[39;49m\u001b[43m)\u001b[49m\n\u001b[1;32m    139\u001b[0m     host, port \u001b[38;5;241m=\u001b[39m \u001b[38;5;28mself\u001b[39m\u001b[38;5;241m.\u001b[39mserver_address[:\u001b[38;5;241m2\u001b[39m]\n\u001b[1;32m    140\u001b[0m     \u001b[38;5;28mself\u001b[39m\u001b[38;5;241m.\u001b[39mserver_name \u001b[38;5;241m=\u001b[39m socket\u001b[38;5;241m.\u001b[39mgetfqdn(host)\n",
      "File \u001b[0;32m~/anaconda3/lib/python3.8/socketserver.py:466\u001b[0m, in \u001b[0;36mTCPServer.server_bind\u001b[0;34m(self)\u001b[0m\n\u001b[1;32m    464\u001b[0m \u001b[38;5;28;01mif\u001b[39;00m \u001b[38;5;28mself\u001b[39m\u001b[38;5;241m.\u001b[39mallow_reuse_address:\n\u001b[1;32m    465\u001b[0m     \u001b[38;5;28mself\u001b[39m\u001b[38;5;241m.\u001b[39msocket\u001b[38;5;241m.\u001b[39msetsockopt(socket\u001b[38;5;241m.\u001b[39mSOL_SOCKET, socket\u001b[38;5;241m.\u001b[39mSO_REUSEADDR, \u001b[38;5;241m1\u001b[39m)\n\u001b[0;32m--> 466\u001b[0m \u001b[38;5;28;43mself\u001b[39;49m\u001b[38;5;241;43m.\u001b[39;49m\u001b[43msocket\u001b[49m\u001b[38;5;241;43m.\u001b[39;49m\u001b[43mbind\u001b[49m\u001b[43m(\u001b[49m\u001b[38;5;28;43mself\u001b[39;49m\u001b[38;5;241;43m.\u001b[39;49m\u001b[43mserver_address\u001b[49m\u001b[43m)\u001b[49m\n\u001b[1;32m    467\u001b[0m \u001b[38;5;28mself\u001b[39m\u001b[38;5;241m.\u001b[39mserver_address \u001b[38;5;241m=\u001b[39m \u001b[38;5;28mself\u001b[39m\u001b[38;5;241m.\u001b[39msocket\u001b[38;5;241m.\u001b[39mgetsockname()\n",
      "\u001b[0;31mOSError\u001b[0m: [Errno 98] Address already in use"
     ]
    }
   ],
   "source": [
    "# Setup callbacks\n",
    "import dashCode # py-file in work-dir\n",
    "# Start the dash-board\n",
    "server = app.server\n",
    "if __name__ == '__main__':\n",
    "    app.run_server()"
   ]
  }
 ],
 "metadata": {
  "kernelspec": {
   "display_name": "Python 3 (ipykernel)",
   "language": "python",
   "name": "python3"
  },
  "language_info": {
   "codemirror_mode": {
    "name": "ipython",
    "version": 3
   },
   "file_extension": ".py",
   "mimetype": "text/x-python",
   "name": "python",
   "nbconvert_exporter": "python",
   "pygments_lexer": "ipython3",
   "version": "3.9.7"
  }
 },
 "nbformat": 4,
 "nbformat_minor": 5
}
