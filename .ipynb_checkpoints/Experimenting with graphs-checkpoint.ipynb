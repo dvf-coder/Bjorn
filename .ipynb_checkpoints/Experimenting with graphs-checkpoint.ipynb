{
 "cells": [
  {
   "cell_type": "code",
   "execution_count": 1,
   "id": "04479f47",
   "metadata": {},
   "outputs": [],
   "source": [
    "# import all libraries\n",
    "from plotly import graph_objects as go\n",
    "import plotly.express as px\n",
    "import pandas as pd\n",
    "import dash\n",
    "from dash.dependencies import Input, Output\n",
    "from dash import Dash, html, dcc \n",
    "from urllib.request import urlopen\n",
    "import json\n",
    "from plotly.subplots import make_subplots\n",
    "import numpy as np"
   ]
  },
  {
   "cell_type": "code",
   "execution_count": 2,
   "id": "5d3e46b0",
   "metadata": {},
   "outputs": [
    {
     "data": {
      "text/html": [
       "<div>\n",
       "<style scoped>\n",
       "    .dataframe tbody tr th:only-of-type {\n",
       "        vertical-align: middle;\n",
       "    }\n",
       "\n",
       "    .dataframe tbody tr th {\n",
       "        vertical-align: top;\n",
       "    }\n",
       "\n",
       "    .dataframe thead th {\n",
       "        text-align: right;\n",
       "    }\n",
       "</style>\n",
       "<table border=\"1\" class=\"dataframe\">\n",
       "  <thead>\n",
       "    <tr style=\"text-align: right;\">\n",
       "      <th></th>\n",
       "      <th>Score</th>\n",
       "      <th>Kommune</th>\n",
       "      <th>Parti</th>\n",
       "      <th>Anden liste</th>\n",
       "      <th>Navn</th>\n",
       "      <th>1. \"Kommunen skal prioritere, at skolerne får flere midler til indkøb af klimavenlige og bæredygtige råvarer til madkundskab\"</th>\n",
       "      <th>2. \"Ved kommunale bevillinger til arrangementer, som involverer udgifter til mad/forplejning, skal de klimavenlige kostråd følges, og der skal altid være et plantebaseret alternativ\"</th>\n",
       "      <th>3. \"Fødevareministeriet har fået beregnet de sundhedsøkonomiske gevinster ved, at danskerne følger kostrådene. Der skal laves en tilsvarende beregning af de sundhedsøkonomiske gevinster for min kommune\"</th>\n",
       "      <th>4. \"De offentlige køkkener i kommunen skal tilbyde en vegetarisk valgmulighed; som kun består af vegetabilske fødevarer (På plejehjem, ældrecentre og ved kommunal madudbringning til ældre)\"</th>\n",
       "      <th>5. \"De offentlige køkkener i kommunen skal tilbyde en vegetarisk valgmulighed; som kun består af vegetabilske fødevarer (I skoler)\"</th>\n",
       "      <th>...</th>\n",
       "      <th>9. \"Alle skolers mælkeordninger skal tilbyde en plantebaseret drik\"</th>\n",
       "      <th>10. Nogle d1ginstitutioner h1r en politik om, 1t børnene sk1l s1mles om et fælles måltid. I nogle 1f de institutioner tilbydes der dog ikke s1mtidigt det mest klim1venlige måltid – et pl1nteb1seret måltid. Det betyder, 1t f1milier, som h1r v1lgt 1t leve klim1venligt, ikke k1n få deres ønske opfyldt, fordi det er i konflikt med politikken om et fælles måltid. Hv1d sk1l kommunens måltidspolitik være?</th>\n",
       "      <th>11. \"Kommunen skal opstille en målsætning om 25 % CO2-reduktion i 2025 fra maden i de offentlige køkkener (referenceåret for sammenligningen er 2020)\"</th>\n",
       "      <th>12. \"Kommunen skal opstille en målsætning om 50 % CO2-reduktion i 2030 fra maden i de offentlige køkkener (referenceåret for sammenligningen er 2020)\"</th>\n",
       "      <th>13. \"Min kommune skal erklære sig som foregangskommune og udarbejde en strategi for plantebaserede fødevarer fra jord til bord\"</th>\n",
       "      <th>14. Konkret borgernær case (daginstitution)*</th>\n",
       "      <th>15 \"Kommunen skal oprette forsøgspuljer til at fremme økologisk plantebaseret iværksætteri\"</th>\n",
       "      <th>16. \"Kommunen skal afsætte penge til efteruddannelse af kommunens køkkenpersonale inden for tilberedning af klimavenlig, økologisk og plantebaseret mad\"</th>\n",
       "      <th>Kost</th>\n",
       "      <th>Kost_color</th>\n",
       "    </tr>\n",
       "    <tr>\n",
       "      <th>Candidate</th>\n",
       "      <th></th>\n",
       "      <th></th>\n",
       "      <th></th>\n",
       "      <th></th>\n",
       "      <th></th>\n",
       "      <th></th>\n",
       "      <th></th>\n",
       "      <th></th>\n",
       "      <th></th>\n",
       "      <th></th>\n",
       "      <th></th>\n",
       "      <th></th>\n",
       "      <th></th>\n",
       "      <th></th>\n",
       "      <th></th>\n",
       "      <th></th>\n",
       "      <th></th>\n",
       "      <th></th>\n",
       "      <th></th>\n",
       "      <th></th>\n",
       "      <th></th>\n",
       "    </tr>\n",
       "  </thead>\n",
       "  <tbody>\n",
       "    <tr>\n",
       "      <th>Flemming Jørgensen (A.)</th>\n",
       "      <td>9</td>\n",
       "      <td>Albertslund</td>\n",
       "      <td>A. Socialdemokratiet</td>\n",
       "      <td>0</td>\n",
       "      <td>Flemming Jørgensen</td>\n",
       "      <td>1.0</td>\n",
       "      <td>1.0</td>\n",
       "      <td>0.0</td>\n",
       "      <td>1.0</td>\n",
       "      <td>1.0</td>\n",
       "      <td>...</td>\n",
       "      <td>1.0</td>\n",
       "      <td>0.0</td>\n",
       "      <td>1.0</td>\n",
       "      <td>0.0</td>\n",
       "      <td>0.0</td>\n",
       "      <td>0.0</td>\n",
       "      <td>0.0</td>\n",
       "      <td>1.0</td>\n",
       "      <td>Vegetar</td>\n",
       "      <td>rgb(140,190,84)</td>\n",
       "    </tr>\n",
       "    <tr>\n",
       "      <th>Nicolai Kofod-Jensen (B.)</th>\n",
       "      <td>16</td>\n",
       "      <td>Albertslund</td>\n",
       "      <td>B. Det Radikale Venstre</td>\n",
       "      <td>0</td>\n",
       "      <td>Nicolai Kofod-Jensen</td>\n",
       "      <td>1.0</td>\n",
       "      <td>2.0</td>\n",
       "      <td>0.0</td>\n",
       "      <td>2.0</td>\n",
       "      <td>2.0</td>\n",
       "      <td>...</td>\n",
       "      <td>1.0</td>\n",
       "      <td>0.0</td>\n",
       "      <td>1.0</td>\n",
       "      <td>0.0</td>\n",
       "      <td>0.0</td>\n",
       "      <td>1.0</td>\n",
       "      <td>0.0</td>\n",
       "      <td>1.0</td>\n",
       "      <td>Fleksitar</td>\n",
       "      <td>turquoise</td>\n",
       "    </tr>\n",
       "    <tr>\n",
       "      <th>Billal Zahoor (C.)</th>\n",
       "      <td>16</td>\n",
       "      <td>Albertslund</td>\n",
       "      <td>C. Det Konservative Folkeparti</td>\n",
       "      <td>0</td>\n",
       "      <td>Billal Zahoor</td>\n",
       "      <td>1.0</td>\n",
       "      <td>1.0</td>\n",
       "      <td>2.0</td>\n",
       "      <td>2.0</td>\n",
       "      <td>1.0</td>\n",
       "      <td>...</td>\n",
       "      <td>0.0</td>\n",
       "      <td>1.0</td>\n",
       "      <td>1.0</td>\n",
       "      <td>1.0</td>\n",
       "      <td>0.0</td>\n",
       "      <td>2.0</td>\n",
       "      <td>1.0</td>\n",
       "      <td>0.0</td>\n",
       "      <td>Fleksitar</td>\n",
       "      <td>turquoise</td>\n",
       "    </tr>\n",
       "    <tr>\n",
       "      <th>Inge Dahn (F.)</th>\n",
       "      <td>23</td>\n",
       "      <td>Albertslund</td>\n",
       "      <td>F. Socialistisk Folkeparti</td>\n",
       "      <td>0</td>\n",
       "      <td>Inge Dahn</td>\n",
       "      <td>1.0</td>\n",
       "      <td>2.0</td>\n",
       "      <td>2.0</td>\n",
       "      <td>1.0</td>\n",
       "      <td>2.0</td>\n",
       "      <td>...</td>\n",
       "      <td>1.0</td>\n",
       "      <td>1.0</td>\n",
       "      <td>1.0</td>\n",
       "      <td>1.0</td>\n",
       "      <td>2.0</td>\n",
       "      <td>0.0</td>\n",
       "      <td>2.0</td>\n",
       "      <td>2.0</td>\n",
       "      <td>Veganer</td>\n",
       "      <td>rgb(16,114,60)</td>\n",
       "    </tr>\n",
       "    <tr>\n",
       "      <th>Michael Jonasen (F.)</th>\n",
       "      <td>16</td>\n",
       "      <td>Albertslund</td>\n",
       "      <td>F. Socialistisk Folkeparti</td>\n",
       "      <td>0</td>\n",
       "      <td>Michael Jonasen</td>\n",
       "      <td>2.0</td>\n",
       "      <td>1.0</td>\n",
       "      <td>1.0</td>\n",
       "      <td>1.0</td>\n",
       "      <td>1.0</td>\n",
       "      <td>...</td>\n",
       "      <td>0.0</td>\n",
       "      <td>1.0</td>\n",
       "      <td>1.0</td>\n",
       "      <td>1.0</td>\n",
       "      <td>1.0</td>\n",
       "      <td>1.0</td>\n",
       "      <td>1.0</td>\n",
       "      <td>1.0</td>\n",
       "      <td>Vegetar</td>\n",
       "      <td>rgb(140,190,84)</td>\n",
       "    </tr>\n",
       "  </tbody>\n",
       "</table>\n",
       "<p>5 rows × 23 columns</p>\n",
       "</div>"
      ],
      "text/plain": [
       "                           Score      Kommune                           Parti  \\\n",
       "Candidate                                                                       \n",
       "Flemming Jørgensen (A.)        9  Albertslund            A. Socialdemokratiet   \n",
       "Nicolai Kofod-Jensen (B.)     16  Albertslund         B. Det Radikale Venstre   \n",
       "Billal Zahoor (C.)            16  Albertslund  C. Det Konservative Folkeparti   \n",
       "Inge Dahn (F.)                23  Albertslund      F. Socialistisk Folkeparti   \n",
       "Michael Jonasen (F.)          16  Albertslund      F. Socialistisk Folkeparti   \n",
       "\n",
       "                          Anden liste                  Navn  \\\n",
       "Candidate                                                     \n",
       "Flemming Jørgensen (A.)             0    Flemming Jørgensen   \n",
       "Nicolai Kofod-Jensen (B.)           0  Nicolai Kofod-Jensen   \n",
       "Billal Zahoor (C.)                  0         Billal Zahoor   \n",
       "Inge Dahn (F.)                      0             Inge Dahn   \n",
       "Michael Jonasen (F.)                0       Michael Jonasen   \n",
       "\n",
       "                           1. \"Kommunen skal prioritere, at skolerne får flere midler til indkøb af klimavenlige og bæredygtige råvarer til madkundskab\"  \\\n",
       "Candidate                                                                                                                                                  \n",
       "Flemming Jørgensen (A.)                                                  1.0                                                                               \n",
       "Nicolai Kofod-Jensen (B.)                                                1.0                                                                               \n",
       "Billal Zahoor (C.)                                                       1.0                                                                               \n",
       "Inge Dahn (F.)                                                           1.0                                                                               \n",
       "Michael Jonasen (F.)                                                     2.0                                                                               \n",
       "\n",
       "                           2. \"Ved kommunale bevillinger til arrangementer, som involverer udgifter til mad/forplejning, skal de klimavenlige kostråd følges, og der skal altid være et plantebaseret alternativ\"  \\\n",
       "Candidate                                                                                                                                                                                                           \n",
       "Flemming Jørgensen (A.)                                                  1.0                                                                                                                                        \n",
       "Nicolai Kofod-Jensen (B.)                                                2.0                                                                                                                                        \n",
       "Billal Zahoor (C.)                                                       1.0                                                                                                                                        \n",
       "Inge Dahn (F.)                                                           2.0                                                                                                                                        \n",
       "Michael Jonasen (F.)                                                     1.0                                                                                                                                        \n",
       "\n",
       "                           3. \"Fødevareministeriet har fået beregnet de sundhedsøkonomiske gevinster ved, at danskerne følger kostrådene. Der skal laves en tilsvarende beregning af de sundhedsøkonomiske gevinster for min kommune\"  \\\n",
       "Candidate                                                                                                                                                                                                                               \n",
       "Flemming Jørgensen (A.)                                                  0.0                                                                                                                                                            \n",
       "Nicolai Kofod-Jensen (B.)                                                0.0                                                                                                                                                            \n",
       "Billal Zahoor (C.)                                                       2.0                                                                                                                                                            \n",
       "Inge Dahn (F.)                                                           2.0                                                                                                                                                            \n",
       "Michael Jonasen (F.)                                                     1.0                                                                                                                                                            \n",
       "\n",
       "                           4. \"De offentlige køkkener i kommunen skal tilbyde en vegetarisk valgmulighed; som kun består af vegetabilske fødevarer (På plejehjem, ældrecentre og ved kommunal madudbringning til ældre)\"  \\\n",
       "Candidate                                                                                                                                                                                                                  \n",
       "Flemming Jørgensen (A.)                                                  1.0                                                                                                                                               \n",
       "Nicolai Kofod-Jensen (B.)                                                2.0                                                                                                                                               \n",
       "Billal Zahoor (C.)                                                       2.0                                                                                                                                               \n",
       "Inge Dahn (F.)                                                           1.0                                                                                                                                               \n",
       "Michael Jonasen (F.)                                                     1.0                                                                                                                                               \n",
       "\n",
       "                           5. \"De offentlige køkkener i kommunen skal tilbyde en vegetarisk valgmulighed; som kun består af vegetabilske fødevarer (I skoler)\"  \\\n",
       "Candidate                                                                                                                                                        \n",
       "Flemming Jørgensen (A.)                                                  1.0                                                                                     \n",
       "Nicolai Kofod-Jensen (B.)                                                2.0                                                                                     \n",
       "Billal Zahoor (C.)                                                       1.0                                                                                     \n",
       "Inge Dahn (F.)                                                           2.0                                                                                     \n",
       "Michael Jonasen (F.)                                                     1.0                                                                                     \n",
       "\n",
       "                           ...  \\\n",
       "Candidate                  ...   \n",
       "Flemming Jørgensen (A.)    ...   \n",
       "Nicolai Kofod-Jensen (B.)  ...   \n",
       "Billal Zahoor (C.)         ...   \n",
       "Inge Dahn (F.)             ...   \n",
       "Michael Jonasen (F.)       ...   \n",
       "\n",
       "                           9. \"Alle skolers mælkeordninger skal tilbyde en plantebaseret drik\"  \\\n",
       "Candidate                                                                                        \n",
       "Flemming Jørgensen (A.)                                                  1.0                     \n",
       "Nicolai Kofod-Jensen (B.)                                                1.0                     \n",
       "Billal Zahoor (C.)                                                       0.0                     \n",
       "Inge Dahn (F.)                                                           1.0                     \n",
       "Michael Jonasen (F.)                                                     0.0                     \n",
       "\n",
       "                           10. Nogle d1ginstitutioner h1r en politik om, 1t børnene sk1l s1mles om et fælles måltid. I nogle 1f de institutioner tilbydes der dog ikke s1mtidigt det mest klim1venlige måltid – et pl1nteb1seret måltid. Det betyder, 1t f1milier, som h1r v1lgt 1t leve klim1venligt, ikke k1n få deres ønske opfyldt, fordi det er i konflikt med politikken om et fælles måltid. Hv1d sk1l kommunens måltidspolitik være?   \\\n",
       "Candidate                                                                                                                                                                                                                                                                                                                                                                                                                                       \n",
       "Flemming Jørgensen (A.)                                                  0.0                                                                                                                                                                                                                                                                                                                                                                    \n",
       "Nicolai Kofod-Jensen (B.)                                                0.0                                                                                                                                                                                                                                                                                                                                                                    \n",
       "Billal Zahoor (C.)                                                       1.0                                                                                                                                                                                                                                                                                                                                                                    \n",
       "Inge Dahn (F.)                                                           1.0                                                                                                                                                                                                                                                                                                                                                                    \n",
       "Michael Jonasen (F.)                                                     1.0                                                                                                                                                                                                                                                                                                                                                                    \n",
       "\n",
       "                           11. \"Kommunen skal opstille en målsætning om 25 % CO2-reduktion i 2025 fra maden i de offentlige køkkener (referenceåret for sammenligningen er 2020)\"  \\\n",
       "Candidate                                                                                                                                                                           \n",
       "Flemming Jørgensen (A.)                                                  1.0                                                                                                        \n",
       "Nicolai Kofod-Jensen (B.)                                                1.0                                                                                                        \n",
       "Billal Zahoor (C.)                                                       1.0                                                                                                        \n",
       "Inge Dahn (F.)                                                           1.0                                                                                                        \n",
       "Michael Jonasen (F.)                                                     1.0                                                                                                        \n",
       "\n",
       "                           12. \"Kommunen skal opstille en målsætning om 50 % CO2-reduktion i 2030 fra maden i de offentlige køkkener (referenceåret for sammenligningen er 2020)\"  \\\n",
       "Candidate                                                                                                                                                                           \n",
       "Flemming Jørgensen (A.)                                                  0.0                                                                                                        \n",
       "Nicolai Kofod-Jensen (B.)                                                0.0                                                                                                        \n",
       "Billal Zahoor (C.)                                                       1.0                                                                                                        \n",
       "Inge Dahn (F.)                                                           1.0                                                                                                        \n",
       "Michael Jonasen (F.)                                                     1.0                                                                                                        \n",
       "\n",
       "                           13. \"Min kommune skal erklære sig som foregangskommune og udarbejde en strategi for plantebaserede fødevarer fra jord til bord\"  \\\n",
       "Candidate                                                                                                                                                    \n",
       "Flemming Jørgensen (A.)                                                  0.0                                                                                 \n",
       "Nicolai Kofod-Jensen (B.)                                                0.0                                                                                 \n",
       "Billal Zahoor (C.)                                                       0.0                                                                                 \n",
       "Inge Dahn (F.)                                                           2.0                                                                                 \n",
       "Michael Jonasen (F.)                                                     1.0                                                                                 \n",
       "\n",
       "                           14. Konkret borgernær case (daginstitution)*  \\\n",
       "Candidate                                                                 \n",
       "Flemming Jørgensen (A.)                                             0.0   \n",
       "Nicolai Kofod-Jensen (B.)                                           1.0   \n",
       "Billal Zahoor (C.)                                                  2.0   \n",
       "Inge Dahn (F.)                                                      0.0   \n",
       "Michael Jonasen (F.)                                                1.0   \n",
       "\n",
       "                           15 \"Kommunen skal oprette forsøgspuljer til at fremme økologisk plantebaseret iværksætteri\"  \\\n",
       "Candidate                                                                                                                \n",
       "Flemming Jørgensen (A.)                                                  0.0                                             \n",
       "Nicolai Kofod-Jensen (B.)                                                0.0                                             \n",
       "Billal Zahoor (C.)                                                       1.0                                             \n",
       "Inge Dahn (F.)                                                           2.0                                             \n",
       "Michael Jonasen (F.)                                                     1.0                                             \n",
       "\n",
       "                           16. \"Kommunen skal afsætte penge til efteruddannelse af kommunens køkkenpersonale inden for tilberedning af klimavenlig, økologisk og plantebaseret mad\"  \\\n",
       "Candidate                                                                                                                                                                             \n",
       "Flemming Jørgensen (A.)                                                  1.0                                                                                                          \n",
       "Nicolai Kofod-Jensen (B.)                                                1.0                                                                                                          \n",
       "Billal Zahoor (C.)                                                       0.0                                                                                                          \n",
       "Inge Dahn (F.)                                                           2.0                                                                                                          \n",
       "Michael Jonasen (F.)                                                     1.0                                                                                                          \n",
       "\n",
       "                                Kost       Kost_color  \n",
       "Candidate                                              \n",
       "Flemming Jørgensen (A.)      Vegetar  rgb(140,190,84)  \n",
       "Nicolai Kofod-Jensen (B.)  Fleksitar        turquoise  \n",
       "Billal Zahoor (C.)         Fleksitar        turquoise  \n",
       "Inge Dahn (F.)               Veganer   rgb(16,114,60)  \n",
       "Michael Jonasen (F.)         Vegetar  rgb(140,190,84)  \n",
       "\n",
       "[5 rows x 23 columns]"
      ]
     },
     "execution_count": 2,
     "metadata": {},
     "output_type": "execute_result"
    }
   ],
   "source": [
    "# Load Veggie Data\n",
    "df = pd.read_csv(\"kv21_trimmet_98.csv\",\n",
    "                 dtype={\"fips\": str})\n",
    "df = df.fillna(0) # replace NA values with 0\n",
    "df[\"Candidate\"] = [df['Navn'][i]+f\" ({df['Parti'][i][:2]})\" for i, x in enumerate(df[\"Navn\"])]\n",
    "df_nameIndex = df.set_index(\"Candidate\")\n",
    "\n",
    "\n",
    "veganGreen = 'rgb(16,114,60)' # Light-green for the vegan color option !!! Change for real color\n",
    "veggieGreen = 'rgb(140,190,84)'\n",
    "\n",
    "# Tilføjer en randomiseret kostkolonne\n",
    "df_nameIndex[\"Kost\"] = list(np.random.randint(low=1, high=6,size=len(df_nameIndex)))\n",
    "kost_dict = {5: \"Kødspiser\", 4:\"Fleksitar\",3:\"Pescetar\", 2: \"Vegetar\",1:\"Veganer\", 6: \"Ønsker ikke at svare\"}\n",
    "kost_color = {\"Kødspiser\":\"red\", \"Fleksitar\":\"turquoise\",\"Pescetar\":\"blue\", \"Vegetar\":veggieGreen,\"Veganer\":veganGreen\n",
    "              ,\"Ønsker ikke at svare\" : \"grey\"}\n",
    "df_nameIndex[\"Kost\"] = [kost_dict[x] for x in df_nameIndex[\"Kost\"]]\n",
    "df_nameIndex[\"Kost_color\"] = [kost_color[x] for x in df_nameIndex[\"Kost\"]]\n",
    "df_nameIndex.head(5)"
   ]
  },
  {
   "cell_type": "code",
   "execution_count": 3,
   "id": "de5b62c9",
   "metadata": {},
   "outputs": [
    {
     "name": "stdout",
     "output_type": "stream",
     "text": [
      "Esbjerg 1. \"Kommunen skal prioritere, at skolerne får flere midler til indkøb af klimavenlige og bæredygtige råvarer til madkundskab\"\n"
     ]
    }
   ],
   "source": [
    "# Input til graferne\n",
    "kommune = df_nameIndex[\"Kommune\"].unique()[10]\n",
    "df_temp =  df_nameIndex[df_nameIndex[\"Kommune\"]==kommune]\n",
    "question = df_nameIndex.columns[5]\n",
    "color_dict = { \"Enig\":'rgb(15,122,55)',\"Delvist Enig\": 'rgb(169,220,163)',\"Uenig\":'rgb(218,241,212)'}\n",
    "print(kommune, question)\n",
    "colors = ['rgb(218,241,212)','rgb(169,220,163)','rgb(15,122,55)']"
   ]
  },
  {
   "cell_type": "code",
   "execution_count": 4,
   "id": "ee9f0bfc",
   "metadata": {},
   "outputs": [],
   "source": [
    "komdict = {}\n",
    "for kommune in df_nameIndex[\"Kommune\"].unique():\n",
    "    if len(df_nameIndex[df_nameIndex[\"Kommune\"]==kommune]) > 25:\n",
    "        komdict[kommune] = len(df_nameIndex[df_nameIndex[\"Kommune\"]==kommune])"
   ]
  },
  {
   "cell_type": "code",
   "execution_count": 5,
   "id": "d70e5cd0",
   "metadata": {},
   "outputs": [
    {
     "data": {
      "text/plain": [
       "{'Frederiksberg': 37,\n",
       " 'København': 60,\n",
       " 'Odense': 28,\n",
       " 'Roskilde': 26,\n",
       " 'Aalborg': 27,\n",
       " 'Aarhus': 39}"
      ]
     },
     "execution_count": 5,
     "metadata": {},
     "output_type": "execute_result"
    }
   ],
   "source": [
    "komdict"
   ]
  },
  {
   "cell_type": "code",
   "execution_count": 6,
   "id": "6200719b",
   "metadata": {},
   "outputs": [],
   "source": [
    "df[\"Candidate\"] = [df['Navn'][i]+f\" ({df['Parti'][i][:2]})\" for i, x in enumerate(df[\"Navn\"])]"
   ]
  },
  {
   "cell_type": "markdown",
   "id": "9dbcacb3",
   "metadata": {},
   "source": [
    "## Lollipop 4 eva"
   ]
  },
  {
   "cell_type": "code",
   "execution_count": 7,
   "id": "55a18826",
   "metadata": {},
   "outputs": [],
   "source": [
    "def Marker_size(lenght):\n",
    "    markerList = []\n",
    "    for i in range(lenght):\n",
    "        markerList.extend([0,12])\n",
    "    return markerList"
   ]
  },
  {
   "cell_type": "code",
   "execution_count": 8,
   "id": "cb5252ac",
   "metadata": {},
   "outputs": [
    {
     "data": {
      "text/html": [
       "<div>\n",
       "<style scoped>\n",
       "    .dataframe tbody tr th:only-of-type {\n",
       "        vertical-align: middle;\n",
       "    }\n",
       "\n",
       "    .dataframe tbody tr th {\n",
       "        vertical-align: top;\n",
       "    }\n",
       "\n",
       "    .dataframe thead th {\n",
       "        text-align: right;\n",
       "    }\n",
       "</style>\n",
       "<table border=\"1\" class=\"dataframe\">\n",
       "  <thead>\n",
       "    <tr style=\"text-align: right;\">\n",
       "      <th></th>\n",
       "      <th>Score</th>\n",
       "      <th>Kommune</th>\n",
       "      <th>Parti</th>\n",
       "      <th>Anden liste</th>\n",
       "      <th>Navn</th>\n",
       "      <th>1. \"Kommunen skal prioritere, at skolerne får flere midler til indkøb af klimavenlige og bæredygtige råvarer til madkundskab\"</th>\n",
       "      <th>2. \"Ved kommunale bevillinger til arrangementer, som involverer udgifter til mad/forplejning, skal de klimavenlige kostråd følges, og der skal altid være et plantebaseret alternativ\"</th>\n",
       "      <th>3. \"Fødevareministeriet har fået beregnet de sundhedsøkonomiske gevinster ved, at danskerne følger kostrådene. Der skal laves en tilsvarende beregning af de sundhedsøkonomiske gevinster for min kommune\"</th>\n",
       "      <th>4. \"De offentlige køkkener i kommunen skal tilbyde en vegetarisk valgmulighed; som kun består af vegetabilske fødevarer (På plejehjem, ældrecentre og ved kommunal madudbringning til ældre)\"</th>\n",
       "      <th>5. \"De offentlige køkkener i kommunen skal tilbyde en vegetarisk valgmulighed; som kun består af vegetabilske fødevarer (I skoler)\"</th>\n",
       "      <th>...</th>\n",
       "      <th>9. \"Alle skolers mælkeordninger skal tilbyde en plantebaseret drik\"</th>\n",
       "      <th>10. Nogle d1ginstitutioner h1r en politik om, 1t børnene sk1l s1mles om et fælles måltid. I nogle 1f de institutioner tilbydes der dog ikke s1mtidigt det mest klim1venlige måltid – et pl1nteb1seret måltid. Det betyder, 1t f1milier, som h1r v1lgt 1t leve klim1venligt, ikke k1n få deres ønske opfyldt, fordi det er i konflikt med politikken om et fælles måltid. Hv1d sk1l kommunens måltidspolitik være?</th>\n",
       "      <th>11. \"Kommunen skal opstille en målsætning om 25 % CO2-reduktion i 2025 fra maden i de offentlige køkkener (referenceåret for sammenligningen er 2020)\"</th>\n",
       "      <th>12. \"Kommunen skal opstille en målsætning om 50 % CO2-reduktion i 2030 fra maden i de offentlige køkkener (referenceåret for sammenligningen er 2020)\"</th>\n",
       "      <th>13. \"Min kommune skal erklære sig som foregangskommune og udarbejde en strategi for plantebaserede fødevarer fra jord til bord\"</th>\n",
       "      <th>14. Konkret borgernær case (daginstitution)*</th>\n",
       "      <th>15 \"Kommunen skal oprette forsøgspuljer til at fremme økologisk plantebaseret iværksætteri\"</th>\n",
       "      <th>16. \"Kommunen skal afsætte penge til efteruddannelse af kommunens køkkenpersonale inden for tilberedning af klimavenlig, økologisk og plantebaseret mad\"</th>\n",
       "      <th>Kost</th>\n",
       "      <th>Kost_color</th>\n",
       "    </tr>\n",
       "    <tr>\n",
       "      <th>Candidate</th>\n",
       "      <th></th>\n",
       "      <th></th>\n",
       "      <th></th>\n",
       "      <th></th>\n",
       "      <th></th>\n",
       "      <th></th>\n",
       "      <th></th>\n",
       "      <th></th>\n",
       "      <th></th>\n",
       "      <th></th>\n",
       "      <th></th>\n",
       "      <th></th>\n",
       "      <th></th>\n",
       "      <th></th>\n",
       "      <th></th>\n",
       "      <th></th>\n",
       "      <th></th>\n",
       "      <th></th>\n",
       "      <th></th>\n",
       "      <th></th>\n",
       "      <th></th>\n",
       "    </tr>\n",
       "  </thead>\n",
       "  <tbody>\n",
       "    <tr>\n",
       "      <th>Jørgen Ahlquist (A.)</th>\n",
       "      <td>21</td>\n",
       "      <td>Esbjerg</td>\n",
       "      <td>A. Socialdemokratiet</td>\n",
       "      <td>0</td>\n",
       "      <td>Jørgen Ahlquist</td>\n",
       "      <td>2.0</td>\n",
       "      <td>1.0</td>\n",
       "      <td>1.0</td>\n",
       "      <td>2.0</td>\n",
       "      <td>2.0</td>\n",
       "      <td>...</td>\n",
       "      <td>2.0</td>\n",
       "      <td>1.0</td>\n",
       "      <td>1.0</td>\n",
       "      <td>0.0</td>\n",
       "      <td>1.0</td>\n",
       "      <td>1.0</td>\n",
       "      <td>1.0</td>\n",
       "      <td>2.0</td>\n",
       "      <td>Vegetar</td>\n",
       "      <td>rgb(140,190,84)</td>\n",
       "    </tr>\n",
       "  </tbody>\n",
       "</table>\n",
       "<p>1 rows × 23 columns</p>\n",
       "</div>"
      ],
      "text/plain": [
       "                      Score  Kommune                 Parti Anden liste  \\\n",
       "Candidate                                                                \n",
       "Jørgen Ahlquist (A.)     21  Esbjerg  A. Socialdemokratiet           0   \n",
       "\n",
       "                                 Navn  \\\n",
       "Candidate                               \n",
       "Jørgen Ahlquist (A.)  Jørgen Ahlquist   \n",
       "\n",
       "                      1. \"Kommunen skal prioritere, at skolerne får flere midler til indkøb af klimavenlige og bæredygtige råvarer til madkundskab\"  \\\n",
       "Candidate                                                                                                                                             \n",
       "Jørgen Ahlquist (A.)                                                2.0                                                                               \n",
       "\n",
       "                      2. \"Ved kommunale bevillinger til arrangementer, som involverer udgifter til mad/forplejning, skal de klimavenlige kostråd følges, og der skal altid være et plantebaseret alternativ\"  \\\n",
       "Candidate                                                                                                                                                                                                      \n",
       "Jørgen Ahlquist (A.)                                                1.0                                                                                                                                        \n",
       "\n",
       "                      3. \"Fødevareministeriet har fået beregnet de sundhedsøkonomiske gevinster ved, at danskerne følger kostrådene. Der skal laves en tilsvarende beregning af de sundhedsøkonomiske gevinster for min kommune\"  \\\n",
       "Candidate                                                                                                                                                                                                                          \n",
       "Jørgen Ahlquist (A.)                                                1.0                                                                                                                                                            \n",
       "\n",
       "                      4. \"De offentlige køkkener i kommunen skal tilbyde en vegetarisk valgmulighed; som kun består af vegetabilske fødevarer (På plejehjem, ældrecentre og ved kommunal madudbringning til ældre)\"  \\\n",
       "Candidate                                                                                                                                                                                                             \n",
       "Jørgen Ahlquist (A.)                                                2.0                                                                                                                                               \n",
       "\n",
       "                      5. \"De offentlige køkkener i kommunen skal tilbyde en vegetarisk valgmulighed; som kun består af vegetabilske fødevarer (I skoler)\"  \\\n",
       "Candidate                                                                                                                                                   \n",
       "Jørgen Ahlquist (A.)                                                2.0                                                                                     \n",
       "\n",
       "                      ...  \\\n",
       "Candidate             ...   \n",
       "Jørgen Ahlquist (A.)  ...   \n",
       "\n",
       "                      9. \"Alle skolers mælkeordninger skal tilbyde en plantebaseret drik\"  \\\n",
       "Candidate                                                                                   \n",
       "Jørgen Ahlquist (A.)                                                2.0                     \n",
       "\n",
       "                      10. Nogle d1ginstitutioner h1r en politik om, 1t børnene sk1l s1mles om et fælles måltid. I nogle 1f de institutioner tilbydes der dog ikke s1mtidigt det mest klim1venlige måltid – et pl1nteb1seret måltid. Det betyder, 1t f1milier, som h1r v1lgt 1t leve klim1venligt, ikke k1n få deres ønske opfyldt, fordi det er i konflikt med politikken om et fælles måltid. Hv1d sk1l kommunens måltidspolitik være?   \\\n",
       "Candidate                                                                                                                                                                                                                                                                                                                                                                                                                                  \n",
       "Jørgen Ahlquist (A.)                                                1.0                                                                                                                                                                                                                                                                                                                                                                    \n",
       "\n",
       "                      11. \"Kommunen skal opstille en målsætning om 25 % CO2-reduktion i 2025 fra maden i de offentlige køkkener (referenceåret for sammenligningen er 2020)\"  \\\n",
       "Candidate                                                                                                                                                                      \n",
       "Jørgen Ahlquist (A.)                                                1.0                                                                                                        \n",
       "\n",
       "                      12. \"Kommunen skal opstille en målsætning om 50 % CO2-reduktion i 2030 fra maden i de offentlige køkkener (referenceåret for sammenligningen er 2020)\"  \\\n",
       "Candidate                                                                                                                                                                      \n",
       "Jørgen Ahlquist (A.)                                                0.0                                                                                                        \n",
       "\n",
       "                      13. \"Min kommune skal erklære sig som foregangskommune og udarbejde en strategi for plantebaserede fødevarer fra jord til bord\"  \\\n",
       "Candidate                                                                                                                                               \n",
       "Jørgen Ahlquist (A.)                                                1.0                                                                                 \n",
       "\n",
       "                      14. Konkret borgernær case (daginstitution)*  \\\n",
       "Candidate                                                            \n",
       "Jørgen Ahlquist (A.)                                           1.0   \n",
       "\n",
       "                      15 \"Kommunen skal oprette forsøgspuljer til at fremme økologisk plantebaseret iværksætteri\"  \\\n",
       "Candidate                                                                                                           \n",
       "Jørgen Ahlquist (A.)                                                1.0                                             \n",
       "\n",
       "                      16. \"Kommunen skal afsætte penge til efteruddannelse af kommunens køkkenpersonale inden for tilberedning af klimavenlig, økologisk og plantebaseret mad\"  \\\n",
       "Candidate                                                                                                                                                                        \n",
       "Jørgen Ahlquist (A.)                                                2.0                                                                                                          \n",
       "\n",
       "                         Kost       Kost_color  \n",
       "Candidate                                       \n",
       "Jørgen Ahlquist (A.)  Vegetar  rgb(140,190,84)  \n",
       "\n",
       "[1 rows x 23 columns]"
      ]
     },
     "execution_count": 8,
     "metadata": {},
     "output_type": "execute_result"
    }
   ],
   "source": [
    "df_temp.head(1)"
   ]
  },
  {
   "cell_type": "code",
   "execution_count": 9,
   "id": "4225b5ae",
   "metadata": {},
   "outputs": [],
   "source": [
    "df_temp = df_nameIndex[df_nameIndex[\"Kommune\"]==kommune].sort_values(\"Score\", ascending = False)\n",
    "color_list = []\n",
    "for color in list(df_temp[\"Kost_color\"]):\n",
    "    color_list.extend([color,color])"
   ]
  },
  {
   "cell_type": "code",
   "execution_count": 10,
   "id": "ef3f20b2",
   "metadata": {},
   "outputs": [
    {
     "data": {
      "text/plain": [
       "39"
      ]
     },
     "execution_count": 10,
     "metadata": {},
     "output_type": "execute_result"
    }
   ],
   "source": [
    "len(df_temp)"
   ]
  },
  {
   "cell_type": "code",
   "execution_count": 15,
   "id": "e0416c58",
   "metadata": {
    "scrolled": true
   },
   "outputs": [
    {
     "data": {
      "application/vnd.plotly.v1+json": {
       "config": {
        "plotlyServerURL": "https://plot.ly"
       },
       "data": [
        {
         "hovertext": [
          "G. Veganerpartiet",
          "G. Veganerpartiet"
         ],
         "line": {
          "color": "rgb(5,122,87)"
         },
         "marker": {
          "color": "blue",
          "size": [
           0,
           12
          ]
         },
         "name": "Pescetar",
         "showlegend": true,
         "type": "scatter",
         "x": [
          0,
          0
         ],
         "y": [
          0,
          32
         ]
        },
        {
         "hovertext": [
          "Ø. Enhedslisten",
          "Ø. Enhedslisten"
         ],
         "line": {
          "color": "rgb(5,122,87)"
         },
         "marker": {
          "color": "rgb(16,114,60)",
          "size": [
           0,
           12
          ]
         },
         "name": "Veganer",
         "showlegend": true,
         "type": "scatter",
         "x": [
          1,
          1
         ],
         "y": [
          0,
          32
         ]
        },
        {
         "hovertext": [
          "G. Veganerpartiet",
          "G. Veganerpartiet"
         ],
         "line": {
          "color": "rgb(5,122,87)"
         },
         "marker": {
          "color": "rgb(140,190,84)",
          "size": [
           0,
           12
          ]
         },
         "name": "Vegetar",
         "showlegend": true,
         "type": "scatter",
         "x": [
          2,
          2
         ],
         "y": [
          0,
          32
         ]
        },
        {
         "hovertext": [
          "G. Veganerpartiet",
          "G. Veganerpartiet"
         ],
         "line": {
          "color": "rgb(5,122,87)"
         },
         "marker": {
          "color": "red",
          "size": [
           0,
           12
          ]
         },
         "name": "Kødspiser",
         "showlegend": true,
         "type": "scatter",
         "x": [
          3,
          3
         ],
         "y": [
          0,
          32
         ]
        },
        {
         "hovertext": [
          "A. Socialdemokratiet",
          "A. Socialdemokratiet"
         ],
         "line": {
          "color": "rgb(5,122,87)"
         },
         "marker": {
          "color": "turquoise",
          "size": [
           0,
           12
          ]
         },
         "name": "Fleksitar",
         "showlegend": true,
         "type": "scatter",
         "x": [
          4,
          4
         ],
         "y": [
          0,
          31
         ]
        },
        {
         "hovertext": [
          "F. Socialistisk Folkeparti",
          "F. Socialistisk Folkeparti"
         ],
         "line": {
          "color": "rgb(5,122,87)"
         },
         "marker": {
          "color": "rgb(16,114,60)",
          "size": [
           0,
           12
          ]
         },
         "name": "Veganer",
         "showlegend": true,
         "type": "scatter",
         "x": [
          5,
          5
         ],
         "y": [
          0,
          31
         ]
        },
        {
         "hovertext": [
          "Å. Alternativet",
          "Å. Alternativet"
         ],
         "line": {
          "color": "rgb(5,122,87)"
         },
         "marker": {
          "color": "red",
          "size": [
           0,
           12
          ]
         },
         "name": "Kødspiser",
         "showlegend": true,
         "type": "scatter",
         "x": [
          6,
          6
         ],
         "y": [
          0,
          31
         ]
        },
        {
         "hovertext": [
          "Ø. Enhedslisten",
          "Ø. Enhedslisten"
         ],
         "line": {
          "color": "rgb(5,122,87)"
         },
         "marker": {
          "color": "rgb(16,114,60)",
          "size": [
           0,
           12
          ]
         },
         "name": "Veganer",
         "showlegend": true,
         "type": "scatter",
         "x": [
          7,
          7
         ],
         "y": [
          0,
          31
         ]
        },
        {
         "hovertext": [
          "B. Det Radikale Venstre",
          "B. Det Radikale Venstre"
         ],
         "line": {
          "color": "rgb(5,122,87)"
         },
         "marker": {
          "color": "rgb(16,114,60)",
          "size": [
           0,
           12
          ]
         },
         "name": "Veganer",
         "showlegend": true,
         "type": "scatter",
         "x": [
          8,
          8
         ],
         "y": [
          0,
          30
         ]
        },
        {
         "hovertext": [
          "Ø. Enhedslisten",
          "Ø. Enhedslisten"
         ],
         "line": {
          "color": "rgb(5,122,87)"
         },
         "marker": {
          "color": "red",
          "size": [
           0,
           12
          ]
         },
         "name": "Kødspiser",
         "showlegend": true,
         "type": "scatter",
         "x": [
          9,
          9
         ],
         "y": [
          0,
          28
         ]
        },
        {
         "hovertext": [
          "Ø. Enhedslisten",
          "Ø. Enhedslisten"
         ],
         "line": {
          "color": "rgb(5,122,87)"
         },
         "marker": {
          "color": "red",
          "size": [
           0,
           12
          ]
         },
         "name": "Kødspiser",
         "showlegend": true,
         "type": "scatter",
         "x": [
          10,
          10
         ],
         "y": [
          0,
          28
         ]
        },
        {
         "hovertext": [
          "F. Socialistisk Folkeparti",
          "F. Socialistisk Folkeparti"
         ],
         "line": {
          "color": "rgb(5,122,87)"
         },
         "marker": {
          "color": "red",
          "size": [
           0,
           12
          ]
         },
         "name": "Kødspiser",
         "showlegend": true,
         "type": "scatter",
         "x": [
          11,
          11
         ],
         "y": [
          0,
          28
         ]
        },
        {
         "hovertext": [
          "Å. Alternativet",
          "Å. Alternativet"
         ],
         "line": {
          "color": "rgb(5,122,87)"
         },
         "marker": {
          "color": "blue",
          "size": [
           0,
           12
          ]
         },
         "name": "Pescetar",
         "showlegend": true,
         "type": "scatter",
         "x": [
          12,
          12
         ],
         "y": [
          0,
          28
         ]
        },
        {
         "hovertext": [
          "Ø. Enhedslisten",
          "Ø. Enhedslisten"
         ],
         "line": {
          "color": "rgb(5,122,87)"
         },
         "marker": {
          "color": "rgb(16,114,60)",
          "size": [
           0,
           12
          ]
         },
         "name": "Veganer",
         "showlegend": true,
         "type": "scatter",
         "x": [
          13,
          13
         ],
         "y": [
          0,
          27
         ]
        },
        {
         "hovertext": [
          "Ø. Enhedslisten",
          "Ø. Enhedslisten"
         ],
         "line": {
          "color": "rgb(5,122,87)"
         },
         "marker": {
          "color": "rgb(140,190,84)",
          "size": [
           0,
           12
          ]
         },
         "name": "Vegetar",
         "showlegend": true,
         "type": "scatter",
         "x": [
          14,
          14
         ],
         "y": [
          0,
          27
         ]
        },
        {
         "hovertext": [
          "Ø. Enhedslisten",
          "Ø. Enhedslisten"
         ],
         "line": {
          "color": "rgb(5,122,87)"
         },
         "marker": {
          "color": "blue",
          "size": [
           0,
           12
          ]
         },
         "name": "Pescetar",
         "showlegend": true,
         "type": "scatter",
         "x": [
          15,
          15
         ],
         "y": [
          0,
          27
         ]
        },
        {
         "hovertext": [
          "Ø. Enhedslisten",
          "Ø. Enhedslisten"
         ],
         "line": {
          "color": "rgb(5,122,87)"
         },
         "marker": {
          "color": "blue",
          "size": [
           0,
           12
          ]
         },
         "name": "Pescetar",
         "showlegend": true,
         "type": "scatter",
         "x": [
          16,
          16
         ],
         "y": [
          0,
          26
         ]
        },
        {
         "hovertext": [
          "F. Socialistisk Folkeparti",
          "F. Socialistisk Folkeparti"
         ],
         "line": {
          "color": "rgb(5,122,87)"
         },
         "marker": {
          "color": "blue",
          "size": [
           0,
           12
          ]
         },
         "name": "Pescetar",
         "showlegend": true,
         "type": "scatter",
         "x": [
          17,
          17
         ],
         "y": [
          0,
          23
         ]
        },
        {
         "hovertext": [
          "F. Socialistisk Folkeparti",
          "F. Socialistisk Folkeparti"
         ],
         "line": {
          "color": "rgb(5,122,87)"
         },
         "marker": {
          "color": "red",
          "size": [
           0,
           12
          ]
         },
         "name": "Kødspiser",
         "showlegend": true,
         "type": "scatter",
         "x": [
          18,
          18
         ],
         "y": [
          0,
          23
         ]
        },
        {
         "hovertext": [
          "F. Socialistisk Folkeparti",
          "F. Socialistisk Folkeparti"
         ],
         "line": {
          "color": "rgb(5,122,87)"
         },
         "marker": {
          "color": "rgb(140,190,84)",
          "size": [
           0,
           12
          ]
         },
         "name": "Vegetar",
         "showlegend": true,
         "type": "scatter",
         "x": [
          19,
          19
         ],
         "y": [
          0,
          22
         ]
        },
        {
         "hovertext": [
          "F. Socialistisk Folkeparti",
          "F. Socialistisk Folkeparti"
         ],
         "line": {
          "color": "rgb(5,122,87)"
         },
         "marker": {
          "color": "turquoise",
          "size": [
           0,
           12
          ]
         },
         "name": "Fleksitar",
         "showlegend": true,
         "type": "scatter",
         "x": [
          20,
          20
         ],
         "y": [
          0,
          22
         ]
        },
        {
         "hovertext": [
          "K. Kristendemokraterne",
          "K. Kristendemokraterne"
         ],
         "line": {
          "color": "rgb(5,122,87)"
         },
         "marker": {
          "color": "turquoise",
          "size": [
           0,
           12
          ]
         },
         "name": "Fleksitar",
         "showlegend": true,
         "type": "scatter",
         "x": [
          21,
          21
         ],
         "y": [
          0,
          22
         ]
        },
        {
         "hovertext": [
          "A. Socialdemokratiet",
          "A. Socialdemokratiet"
         ],
         "line": {
          "color": "rgb(5,122,87)"
         },
         "marker": {
          "color": "red",
          "size": [
           0,
           12
          ]
         },
         "name": "Kødspiser",
         "showlegend": true,
         "type": "scatter",
         "x": [
          22,
          22
         ],
         "y": [
          0,
          20
         ]
        },
        {
         "hovertext": [
          "A. Socialdemokratiet",
          "A. Socialdemokratiet"
         ],
         "line": {
          "color": "rgb(5,122,87)"
         },
         "marker": {
          "color": "rgb(140,190,84)",
          "size": [
           0,
           12
          ]
         },
         "name": "Vegetar",
         "showlegend": true,
         "type": "scatter",
         "x": [
          23,
          23
         ],
         "y": [
          0,
          19
         ]
        },
        {
         "hovertext": [
          "C. Det Konservative Folkeparti",
          "C. Det Konservative Folkeparti"
         ],
         "line": {
          "color": "rgb(5,122,87)"
         },
         "marker": {
          "color": "rgb(140,190,84)",
          "size": [
           0,
           12
          ]
         },
         "name": "Vegetar",
         "showlegend": true,
         "type": "scatter",
         "x": [
          24,
          24
         ],
         "y": [
          0,
          19
         ]
        },
        {
         "hovertext": [
          "F. Socialistisk Folkeparti",
          "F. Socialistisk Folkeparti"
         ],
         "line": {
          "color": "rgb(5,122,87)"
         },
         "marker": {
          "color": "rgb(140,190,84)",
          "size": [
           0,
           12
          ]
         },
         "name": "Vegetar",
         "showlegend": true,
         "type": "scatter",
         "x": [
          25,
          25
         ],
         "y": [
          0,
          17
         ]
        },
        {
         "hovertext": [
          "F. Socialistisk Folkeparti",
          "F. Socialistisk Folkeparti"
         ],
         "line": {
          "color": "rgb(5,122,87)"
         },
         "marker": {
          "color": "blue",
          "size": [
           0,
           12
          ]
         },
         "name": "Pescetar",
         "showlegend": true,
         "type": "scatter",
         "x": [
          26,
          26
         ],
         "y": [
          0,
          16
         ]
        },
        {
         "hovertext": [
          "D. Nye Borgerlige",
          "D. Nye Borgerlige"
         ],
         "line": {
          "color": "rgb(5,122,87)"
         },
         "marker": {
          "color": "blue",
          "size": [
           0,
           12
          ]
         },
         "name": "Pescetar",
         "showlegend": true,
         "type": "scatter",
         "x": [
          27,
          27
         ],
         "y": [
          0,
          16
         ]
        },
        {
         "hovertext": [
          "A. Socialdemokratiet",
          "A. Socialdemokratiet"
         ],
         "line": {
          "color": "rgb(5,122,87)"
         },
         "marker": {
          "color": "rgb(16,114,60)",
          "size": [
           0,
           12
          ]
         },
         "name": "Veganer",
         "showlegend": true,
         "type": "scatter",
         "x": [
          28,
          28
         ],
         "y": [
          0,
          15
         ]
        },
        {
         "hovertext": [
          "B. Det Radikale Venstre",
          "B. Det Radikale Venstre"
         ],
         "line": {
          "color": "rgb(5,122,87)"
         },
         "marker": {
          "color": "rgb(16,114,60)",
          "size": [
           0,
           12
          ]
         },
         "name": "Veganer",
         "showlegend": true,
         "type": "scatter",
         "x": [
          29,
          29
         ],
         "y": [
          0,
          12
         ]
        },
        {
         "hovertext": [
          "C. Det Konservative Folkeparti",
          "C. Det Konservative Folkeparti"
         ],
         "line": {
          "color": "rgb(5,122,87)"
         },
         "marker": {
          "color": "rgb(16,114,60)",
          "size": [
           0,
           12
          ]
         },
         "name": "Veganer",
         "showlegend": true,
         "type": "scatter",
         "x": [
          30,
          30
         ],
         "y": [
          0,
          11
         ]
        },
        {
         "hovertext": [
          "V. Venstre",
          "V. Venstre"
         ],
         "line": {
          "color": "rgb(5,122,87)"
         },
         "marker": {
          "color": "red",
          "size": [
           0,
           12
          ]
         },
         "name": "Kødspiser",
         "showlegend": true,
         "type": "scatter",
         "x": [
          31,
          31
         ],
         "y": [
          0,
          10
         ]
        },
        {
         "hovertext": [
          "V. Venstre",
          "V. Venstre"
         ],
         "line": {
          "color": "rgb(5,122,87)"
         },
         "marker": {
          "color": "rgb(16,114,60)",
          "size": [
           0,
           12
          ]
         },
         "name": "Veganer",
         "showlegend": true,
         "type": "scatter",
         "x": [
          32,
          32
         ],
         "y": [
          0,
          10
         ]
        },
        {
         "hovertext": [
          "B. Det Radikale Venstre",
          "B. Det Radikale Venstre"
         ],
         "line": {
          "color": "rgb(5,122,87)"
         },
         "marker": {
          "color": "rgb(16,114,60)",
          "size": [
           0,
           12
          ]
         },
         "name": "Veganer",
         "showlegend": true,
         "type": "scatter",
         "x": [
          33,
          33
         ],
         "y": [
          0,
          10
         ]
        },
        {
         "hovertext": [
          "A. Socialdemokratiet",
          "A. Socialdemokratiet"
         ],
         "line": {
          "color": "rgb(5,122,87)"
         },
         "marker": {
          "color": "rgb(16,114,60)",
          "size": [
           0,
           12
          ]
         },
         "name": "Veganer",
         "showlegend": true,
         "type": "scatter",
         "x": [
          34,
          34
         ],
         "y": [
          0,
          10
         ]
        },
        {
         "hovertext": [
          "C. Det Konservative Folkeparti",
          "C. Det Konservative Folkeparti"
         ],
         "line": {
          "color": "rgb(5,122,87)"
         },
         "marker": {
          "color": "rgb(16,114,60)",
          "size": [
           0,
           12
          ]
         },
         "name": "Veganer",
         "showlegend": true,
         "type": "scatter",
         "x": [
          35,
          35
         ],
         "y": [
          0,
          9
         ]
        },
        {
         "hovertext": [
          "Ø. Enhedslisten",
          "Ø. Enhedslisten"
         ],
         "line": {
          "color": "rgb(5,122,87)"
         },
         "marker": {
          "color": "rgb(16,114,60)",
          "size": [
           0,
           12
          ]
         },
         "name": "Veganer",
         "showlegend": true,
         "type": "scatter",
         "x": [
          36,
          36
         ],
         "y": [
          0,
          8
         ]
        },
        {
         "hovertext": [
          "O. Dansk Folkeparti",
          "O. Dansk Folkeparti"
         ],
         "line": {
          "color": "rgb(5,122,87)"
         },
         "marker": {
          "color": "rgb(16,114,60)",
          "size": [
           0,
           12
          ]
         },
         "name": "Veganer",
         "showlegend": true,
         "type": "scatter",
         "x": [
          37,
          37
         ],
         "y": [
          0,
          6
         ]
        },
        {
         "hovertext": [
          "D. Nye Borgerlige",
          "D. Nye Borgerlige"
         ],
         "line": {
          "color": "rgb(5,122,87)"
         },
         "marker": {
          "color": "rgb(16,114,60)",
          "size": [
           0,
           12
          ]
         },
         "name": "Veganer",
         "showlegend": true,
         "type": "scatter",
         "x": [
          38,
          38
         ],
         "y": [
          0,
          4
         ]
        }
       ],
       "layout": {
        "annotations": [
         {
          "showarrow": false,
          "text": "Kommune gennemsnit",
          "x": 1,
          "xanchor": "right",
          "xref": "x domain",
          "y": 21.153846153846153,
          "yanchor": "top",
          "yref": "y"
         }
        ],
        "shapes": [
         {
          "line": {
           "color": "rgb(5,122,87)",
           "dash": "dash",
           "width": 0.5
          },
          "type": "line",
          "x0": 0,
          "x1": 1,
          "xref": "x domain",
          "y0": 21.153846153846153,
          "y1": 21.153846153846153,
          "yref": "y"
         }
        ],
        "template": {
         "data": {
          "bar": [
           {
            "error_x": {
             "color": "#2a3f5f"
            },
            "error_y": {
             "color": "#2a3f5f"
            },
            "marker": {
             "line": {
              "color": "#E5ECF6",
              "width": 0.5
             },
             "pattern": {
              "fillmode": "overlay",
              "size": 10,
              "solidity": 0.2
             }
            },
            "type": "bar"
           }
          ],
          "barpolar": [
           {
            "marker": {
             "line": {
              "color": "#E5ECF6",
              "width": 0.5
             },
             "pattern": {
              "fillmode": "overlay",
              "size": 10,
              "solidity": 0.2
             }
            },
            "type": "barpolar"
           }
          ],
          "carpet": [
           {
            "aaxis": {
             "endlinecolor": "#2a3f5f",
             "gridcolor": "white",
             "linecolor": "white",
             "minorgridcolor": "white",
             "startlinecolor": "#2a3f5f"
            },
            "baxis": {
             "endlinecolor": "#2a3f5f",
             "gridcolor": "white",
             "linecolor": "white",
             "minorgridcolor": "white",
             "startlinecolor": "#2a3f5f"
            },
            "type": "carpet"
           }
          ],
          "choropleth": [
           {
            "colorbar": {
             "outlinewidth": 0,
             "ticks": ""
            },
            "type": "choropleth"
           }
          ],
          "contour": [
           {
            "colorbar": {
             "outlinewidth": 0,
             "ticks": ""
            },
            "colorscale": [
             [
              0,
              "#0d0887"
             ],
             [
              0.1111111111111111,
              "#46039f"
             ],
             [
              0.2222222222222222,
              "#7201a8"
             ],
             [
              0.3333333333333333,
              "#9c179e"
             ],
             [
              0.4444444444444444,
              "#bd3786"
             ],
             [
              0.5555555555555556,
              "#d8576b"
             ],
             [
              0.6666666666666666,
              "#ed7953"
             ],
             [
              0.7777777777777778,
              "#fb9f3a"
             ],
             [
              0.8888888888888888,
              "#fdca26"
             ],
             [
              1,
              "#f0f921"
             ]
            ],
            "type": "contour"
           }
          ],
          "contourcarpet": [
           {
            "colorbar": {
             "outlinewidth": 0,
             "ticks": ""
            },
            "type": "contourcarpet"
           }
          ],
          "heatmap": [
           {
            "colorbar": {
             "outlinewidth": 0,
             "ticks": ""
            },
            "colorscale": [
             [
              0,
              "#0d0887"
             ],
             [
              0.1111111111111111,
              "#46039f"
             ],
             [
              0.2222222222222222,
              "#7201a8"
             ],
             [
              0.3333333333333333,
              "#9c179e"
             ],
             [
              0.4444444444444444,
              "#bd3786"
             ],
             [
              0.5555555555555556,
              "#d8576b"
             ],
             [
              0.6666666666666666,
              "#ed7953"
             ],
             [
              0.7777777777777778,
              "#fb9f3a"
             ],
             [
              0.8888888888888888,
              "#fdca26"
             ],
             [
              1,
              "#f0f921"
             ]
            ],
            "type": "heatmap"
           }
          ],
          "heatmapgl": [
           {
            "colorbar": {
             "outlinewidth": 0,
             "ticks": ""
            },
            "colorscale": [
             [
              0,
              "#0d0887"
             ],
             [
              0.1111111111111111,
              "#46039f"
             ],
             [
              0.2222222222222222,
              "#7201a8"
             ],
             [
              0.3333333333333333,
              "#9c179e"
             ],
             [
              0.4444444444444444,
              "#bd3786"
             ],
             [
              0.5555555555555556,
              "#d8576b"
             ],
             [
              0.6666666666666666,
              "#ed7953"
             ],
             [
              0.7777777777777778,
              "#fb9f3a"
             ],
             [
              0.8888888888888888,
              "#fdca26"
             ],
             [
              1,
              "#f0f921"
             ]
            ],
            "type": "heatmapgl"
           }
          ],
          "histogram": [
           {
            "marker": {
             "pattern": {
              "fillmode": "overlay",
              "size": 10,
              "solidity": 0.2
             }
            },
            "type": "histogram"
           }
          ],
          "histogram2d": [
           {
            "colorbar": {
             "outlinewidth": 0,
             "ticks": ""
            },
            "colorscale": [
             [
              0,
              "#0d0887"
             ],
             [
              0.1111111111111111,
              "#46039f"
             ],
             [
              0.2222222222222222,
              "#7201a8"
             ],
             [
              0.3333333333333333,
              "#9c179e"
             ],
             [
              0.4444444444444444,
              "#bd3786"
             ],
             [
              0.5555555555555556,
              "#d8576b"
             ],
             [
              0.6666666666666666,
              "#ed7953"
             ],
             [
              0.7777777777777778,
              "#fb9f3a"
             ],
             [
              0.8888888888888888,
              "#fdca26"
             ],
             [
              1,
              "#f0f921"
             ]
            ],
            "type": "histogram2d"
           }
          ],
          "histogram2dcontour": [
           {
            "colorbar": {
             "outlinewidth": 0,
             "ticks": ""
            },
            "colorscale": [
             [
              0,
              "#0d0887"
             ],
             [
              0.1111111111111111,
              "#46039f"
             ],
             [
              0.2222222222222222,
              "#7201a8"
             ],
             [
              0.3333333333333333,
              "#9c179e"
             ],
             [
              0.4444444444444444,
              "#bd3786"
             ],
             [
              0.5555555555555556,
              "#d8576b"
             ],
             [
              0.6666666666666666,
              "#ed7953"
             ],
             [
              0.7777777777777778,
              "#fb9f3a"
             ],
             [
              0.8888888888888888,
              "#fdca26"
             ],
             [
              1,
              "#f0f921"
             ]
            ],
            "type": "histogram2dcontour"
           }
          ],
          "mesh3d": [
           {
            "colorbar": {
             "outlinewidth": 0,
             "ticks": ""
            },
            "type": "mesh3d"
           }
          ],
          "parcoords": [
           {
            "line": {
             "colorbar": {
              "outlinewidth": 0,
              "ticks": ""
             }
            },
            "type": "parcoords"
           }
          ],
          "pie": [
           {
            "automargin": true,
            "type": "pie"
           }
          ],
          "scatter": [
           {
            "fillpattern": {
             "fillmode": "overlay",
             "size": 10,
             "solidity": 0.2
            },
            "type": "scatter"
           }
          ],
          "scatter3d": [
           {
            "line": {
             "colorbar": {
              "outlinewidth": 0,
              "ticks": ""
             }
            },
            "marker": {
             "colorbar": {
              "outlinewidth": 0,
              "ticks": ""
             }
            },
            "type": "scatter3d"
           }
          ],
          "scattercarpet": [
           {
            "marker": {
             "colorbar": {
              "outlinewidth": 0,
              "ticks": ""
             }
            },
            "type": "scattercarpet"
           }
          ],
          "scattergeo": [
           {
            "marker": {
             "colorbar": {
              "outlinewidth": 0,
              "ticks": ""
             }
            },
            "type": "scattergeo"
           }
          ],
          "scattergl": [
           {
            "marker": {
             "colorbar": {
              "outlinewidth": 0,
              "ticks": ""
             }
            },
            "type": "scattergl"
           }
          ],
          "scattermapbox": [
           {
            "marker": {
             "colorbar": {
              "outlinewidth": 0,
              "ticks": ""
             }
            },
            "type": "scattermapbox"
           }
          ],
          "scatterpolar": [
           {
            "marker": {
             "colorbar": {
              "outlinewidth": 0,
              "ticks": ""
             }
            },
            "type": "scatterpolar"
           }
          ],
          "scatterpolargl": [
           {
            "marker": {
             "colorbar": {
              "outlinewidth": 0,
              "ticks": ""
             }
            },
            "type": "scatterpolargl"
           }
          ],
          "scatterternary": [
           {
            "marker": {
             "colorbar": {
              "outlinewidth": 0,
              "ticks": ""
             }
            },
            "type": "scatterternary"
           }
          ],
          "surface": [
           {
            "colorbar": {
             "outlinewidth": 0,
             "ticks": ""
            },
            "colorscale": [
             [
              0,
              "#0d0887"
             ],
             [
              0.1111111111111111,
              "#46039f"
             ],
             [
              0.2222222222222222,
              "#7201a8"
             ],
             [
              0.3333333333333333,
              "#9c179e"
             ],
             [
              0.4444444444444444,
              "#bd3786"
             ],
             [
              0.5555555555555556,
              "#d8576b"
             ],
             [
              0.6666666666666666,
              "#ed7953"
             ],
             [
              0.7777777777777778,
              "#fb9f3a"
             ],
             [
              0.8888888888888888,
              "#fdca26"
             ],
             [
              1,
              "#f0f921"
             ]
            ],
            "type": "surface"
           }
          ],
          "table": [
           {
            "cells": {
             "fill": {
              "color": "#EBF0F8"
             },
             "line": {
              "color": "white"
             }
            },
            "header": {
             "fill": {
              "color": "#C8D4E3"
             },
             "line": {
              "color": "white"
             }
            },
            "type": "table"
           }
          ]
         },
         "layout": {
          "annotationdefaults": {
           "arrowcolor": "#2a3f5f",
           "arrowhead": 0,
           "arrowwidth": 1
          },
          "autotypenumbers": "strict",
          "coloraxis": {
           "colorbar": {
            "outlinewidth": 0,
            "ticks": ""
           }
          },
          "colorscale": {
           "diverging": [
            [
             0,
             "#8e0152"
            ],
            [
             0.1,
             "#c51b7d"
            ],
            [
             0.2,
             "#de77ae"
            ],
            [
             0.3,
             "#f1b6da"
            ],
            [
             0.4,
             "#fde0ef"
            ],
            [
             0.5,
             "#f7f7f7"
            ],
            [
             0.6,
             "#e6f5d0"
            ],
            [
             0.7,
             "#b8e186"
            ],
            [
             0.8,
             "#7fbc41"
            ],
            [
             0.9,
             "#4d9221"
            ],
            [
             1,
             "#276419"
            ]
           ],
           "sequential": [
            [
             0,
             "#0d0887"
            ],
            [
             0.1111111111111111,
             "#46039f"
            ],
            [
             0.2222222222222222,
             "#7201a8"
            ],
            [
             0.3333333333333333,
             "#9c179e"
            ],
            [
             0.4444444444444444,
             "#bd3786"
            ],
            [
             0.5555555555555556,
             "#d8576b"
            ],
            [
             0.6666666666666666,
             "#ed7953"
            ],
            [
             0.7777777777777778,
             "#fb9f3a"
            ],
            [
             0.8888888888888888,
             "#fdca26"
            ],
            [
             1,
             "#f0f921"
            ]
           ],
           "sequentialminus": [
            [
             0,
             "#0d0887"
            ],
            [
             0.1111111111111111,
             "#46039f"
            ],
            [
             0.2222222222222222,
             "#7201a8"
            ],
            [
             0.3333333333333333,
             "#9c179e"
            ],
            [
             0.4444444444444444,
             "#bd3786"
            ],
            [
             0.5555555555555556,
             "#d8576b"
            ],
            [
             0.6666666666666666,
             "#ed7953"
            ],
            [
             0.7777777777777778,
             "#fb9f3a"
            ],
            [
             0.8888888888888888,
             "#fdca26"
            ],
            [
             1,
             "#f0f921"
            ]
           ]
          },
          "colorway": [
           "#636efa",
           "#EF553B",
           "#00cc96",
           "#ab63fa",
           "#FFA15A",
           "#19d3f3",
           "#FF6692",
           "#B6E880",
           "#FF97FF",
           "#FECB52"
          ],
          "font": {
           "color": "#2a3f5f"
          },
          "geo": {
           "bgcolor": "white",
           "lakecolor": "white",
           "landcolor": "#E5ECF6",
           "showlakes": true,
           "showland": true,
           "subunitcolor": "white"
          },
          "hoverlabel": {
           "align": "left"
          },
          "hovermode": "closest",
          "mapbox": {
           "style": "light"
          },
          "paper_bgcolor": "white",
          "plot_bgcolor": "#E5ECF6",
          "polar": {
           "angularaxis": {
            "gridcolor": "white",
            "linecolor": "white",
            "ticks": ""
           },
           "bgcolor": "#E5ECF6",
           "radialaxis": {
            "gridcolor": "white",
            "linecolor": "white",
            "ticks": ""
           }
          },
          "scene": {
           "xaxis": {
            "backgroundcolor": "#E5ECF6",
            "gridcolor": "white",
            "gridwidth": 2,
            "linecolor": "white",
            "showbackground": true,
            "ticks": "",
            "zerolinecolor": "white"
           },
           "yaxis": {
            "backgroundcolor": "#E5ECF6",
            "gridcolor": "white",
            "gridwidth": 2,
            "linecolor": "white",
            "showbackground": true,
            "ticks": "",
            "zerolinecolor": "white"
           },
           "zaxis": {
            "backgroundcolor": "#E5ECF6",
            "gridcolor": "white",
            "gridwidth": 2,
            "linecolor": "white",
            "showbackground": true,
            "ticks": "",
            "zerolinecolor": "white"
           }
          },
          "shapedefaults": {
           "line": {
            "color": "#2a3f5f"
           }
          },
          "ternary": {
           "aaxis": {
            "gridcolor": "white",
            "linecolor": "white",
            "ticks": ""
           },
           "baxis": {
            "gridcolor": "white",
            "linecolor": "white",
            "ticks": ""
           },
           "bgcolor": "#E5ECF6",
           "caxis": {
            "gridcolor": "white",
            "linecolor": "white",
            "ticks": ""
           }
          },
          "title": {
           "x": 0.05
          },
          "xaxis": {
           "automargin": true,
           "gridcolor": "white",
           "linecolor": "white",
           "ticks": "",
           "title": {
            "standoff": 15
           },
           "zerolinecolor": "white",
           "zerolinewidth": 2
          },
          "yaxis": {
           "automargin": true,
           "gridcolor": "white",
           "linecolor": "white",
           "ticks": "",
           "title": {
            "standoff": 15
           },
           "zerolinecolor": "white",
           "zerolinewidth": 2
          }
         }
        },
        "title": {
         "text": "Kandidater for Aarhus"
        },
        "xaxis": {
         "range": [
          -1,
          39
         ],
         "tickmode": "array",
         "ticktext": [
          "Sabrina Holt (G.)",
          "Poul Krogsgård (Ø.)",
          "Stefan Bjarni Gudnason (G.)",
          "Allan Hagsten Nørlund (G.)",
          "Jasmine Søgaard (A.)",
          "Liv Gro Jensen (F.)",
          "Lissi Bagge (Å.)",
          "Martin Odgaard (Ø.)",
          "Ouafa Rian (B.)",
          "Thure Hastrup (Ø.)",
          "Katrine Vinther Nielsen (Ø.)",
          "Nanna Lippert Troelsen (F.)",
          "Tenna Duch Schaldemose (Å.)",
          "Carsten Andersen (Ø.)",
          "Jeppe Ulrich Lomholt (Ø.)",
          "Doris-Clarisse Lukunku (Ø.)",
          "Solveig Munk (Ø.)",
          "Torben Ernst Wandall (F.)",
          "Niels Kjeldsen (F.)",
          "Anders Gerding Yde (F.)",
          "Ivan Lauridsen (F.)",
          "Henrik Hjortshøj (K.)",
          "Peter Bonfils (A.)",
          "Lone Hindø (A.)",
          "Christian Baller (C.)",
          "Lisbeth Randlev Johnsen (F.)",
          "Sander Jensen (F.)",
          "Claus Vildrik (D.)",
          "Kenneth Koustrup (A.)",
          "Elin Carlsen (B.)",
          "Susanne Lund (C.)",
          "Bünyamin Simsek (V.)",
          "Johnny Willum (V.)",
          "Hanne Roed (B.)",
          "Anette Poulsen (A.)",
          "Mette Skautrup (C.)",
          "Simon Stadsholt (Ø.)",
          "Jakob Søgaard Clausen (O.)",
          "Henrik Ræder Clausen (D.)"
         ],
         "tickvals": [
          0,
          1,
          2,
          3,
          4,
          5,
          6,
          7,
          8,
          9,
          10,
          11,
          12,
          13,
          14,
          15,
          16,
          17,
          18,
          19,
          20,
          21,
          22,
          23,
          24,
          25,
          26,
          27,
          28,
          29,
          30,
          31,
          32,
          33,
          34,
          35,
          36,
          37,
          38
         ]
        }
       }
      },
      "text/html": [
       "<div>                            <div id=\"7b26387b-647a-4815-9075-0a12c7a2e70d\" class=\"plotly-graph-div\" style=\"height:525px; width:100%;\"></div>            <script type=\"text/javascript\">                require([\"plotly\"], function(Plotly) {                    window.PLOTLYENV=window.PLOTLYENV || {};                                    if (document.getElementById(\"7b26387b-647a-4815-9075-0a12c7a2e70d\")) {                    Plotly.newPlot(                        \"7b26387b-647a-4815-9075-0a12c7a2e70d\",                        [{\"hovertext\":[\"G. Veganerpartiet\",\"G. Veganerpartiet\"],\"line\":{\"color\":\"rgb(5,122,87)\"},\"marker\":{\"color\":\"blue\",\"size\":[0,12]},\"name\":\"Pescetar\",\"showlegend\":true,\"x\":[0,0],\"y\":[0,32],\"type\":\"scatter\"},{\"hovertext\":[\"\\u00d8. Enhedslisten\",\"\\u00d8. Enhedslisten\"],\"line\":{\"color\":\"rgb(5,122,87)\"},\"marker\":{\"color\":\"rgb(16,114,60)\",\"size\":[0,12]},\"name\":\"Veganer\",\"showlegend\":true,\"x\":[1,1],\"y\":[0,32],\"type\":\"scatter\"},{\"hovertext\":[\"G. Veganerpartiet\",\"G. Veganerpartiet\"],\"line\":{\"color\":\"rgb(5,122,87)\"},\"marker\":{\"color\":\"rgb(140,190,84)\",\"size\":[0,12]},\"name\":\"Vegetar\",\"showlegend\":true,\"x\":[2,2],\"y\":[0,32],\"type\":\"scatter\"},{\"hovertext\":[\"G. Veganerpartiet\",\"G. Veganerpartiet\"],\"line\":{\"color\":\"rgb(5,122,87)\"},\"marker\":{\"color\":\"red\",\"size\":[0,12]},\"name\":\"K\\u00f8dspiser\",\"showlegend\":true,\"x\":[3,3],\"y\":[0,32],\"type\":\"scatter\"},{\"hovertext\":[\"A. Socialdemokratiet\",\"A. Socialdemokratiet\"],\"line\":{\"color\":\"rgb(5,122,87)\"},\"marker\":{\"color\":\"turquoise\",\"size\":[0,12]},\"name\":\"Fleksitar\",\"showlegend\":true,\"x\":[4,4],\"y\":[0,31],\"type\":\"scatter\"},{\"hovertext\":[\"F. Socialistisk Folkeparti\",\"F. Socialistisk Folkeparti\"],\"line\":{\"color\":\"rgb(5,122,87)\"},\"marker\":{\"color\":\"rgb(16,114,60)\",\"size\":[0,12]},\"name\":\"Veganer\",\"showlegend\":true,\"x\":[5,5],\"y\":[0,31],\"type\":\"scatter\"},{\"hovertext\":[\"\\u00c5. Alternativet\",\"\\u00c5. Alternativet\"],\"line\":{\"color\":\"rgb(5,122,87)\"},\"marker\":{\"color\":\"red\",\"size\":[0,12]},\"name\":\"K\\u00f8dspiser\",\"showlegend\":true,\"x\":[6,6],\"y\":[0,31],\"type\":\"scatter\"},{\"hovertext\":[\"\\u00d8. Enhedslisten\",\"\\u00d8. Enhedslisten\"],\"line\":{\"color\":\"rgb(5,122,87)\"},\"marker\":{\"color\":\"rgb(16,114,60)\",\"size\":[0,12]},\"name\":\"Veganer\",\"showlegend\":true,\"x\":[7,7],\"y\":[0,31],\"type\":\"scatter\"},{\"hovertext\":[\"B. Det Radikale Venstre\",\"B. Det Radikale Venstre\"],\"line\":{\"color\":\"rgb(5,122,87)\"},\"marker\":{\"color\":\"rgb(16,114,60)\",\"size\":[0,12]},\"name\":\"Veganer\",\"showlegend\":true,\"x\":[8,8],\"y\":[0,30],\"type\":\"scatter\"},{\"hovertext\":[\"\\u00d8. Enhedslisten\",\"\\u00d8. Enhedslisten\"],\"line\":{\"color\":\"rgb(5,122,87)\"},\"marker\":{\"color\":\"red\",\"size\":[0,12]},\"name\":\"K\\u00f8dspiser\",\"showlegend\":true,\"x\":[9,9],\"y\":[0,28],\"type\":\"scatter\"},{\"hovertext\":[\"\\u00d8. Enhedslisten\",\"\\u00d8. Enhedslisten\"],\"line\":{\"color\":\"rgb(5,122,87)\"},\"marker\":{\"color\":\"red\",\"size\":[0,12]},\"name\":\"K\\u00f8dspiser\",\"showlegend\":true,\"x\":[10,10],\"y\":[0,28],\"type\":\"scatter\"},{\"hovertext\":[\"F. Socialistisk Folkeparti\",\"F. Socialistisk Folkeparti\"],\"line\":{\"color\":\"rgb(5,122,87)\"},\"marker\":{\"color\":\"red\",\"size\":[0,12]},\"name\":\"K\\u00f8dspiser\",\"showlegend\":true,\"x\":[11,11],\"y\":[0,28],\"type\":\"scatter\"},{\"hovertext\":[\"\\u00c5. Alternativet\",\"\\u00c5. Alternativet\"],\"line\":{\"color\":\"rgb(5,122,87)\"},\"marker\":{\"color\":\"blue\",\"size\":[0,12]},\"name\":\"Pescetar\",\"showlegend\":true,\"x\":[12,12],\"y\":[0,28],\"type\":\"scatter\"},{\"hovertext\":[\"\\u00d8. Enhedslisten\",\"\\u00d8. Enhedslisten\"],\"line\":{\"color\":\"rgb(5,122,87)\"},\"marker\":{\"color\":\"rgb(16,114,60)\",\"size\":[0,12]},\"name\":\"Veganer\",\"showlegend\":true,\"x\":[13,13],\"y\":[0,27],\"type\":\"scatter\"},{\"hovertext\":[\"\\u00d8. Enhedslisten\",\"\\u00d8. Enhedslisten\"],\"line\":{\"color\":\"rgb(5,122,87)\"},\"marker\":{\"color\":\"rgb(140,190,84)\",\"size\":[0,12]},\"name\":\"Vegetar\",\"showlegend\":true,\"x\":[14,14],\"y\":[0,27],\"type\":\"scatter\"},{\"hovertext\":[\"\\u00d8. Enhedslisten\",\"\\u00d8. Enhedslisten\"],\"line\":{\"color\":\"rgb(5,122,87)\"},\"marker\":{\"color\":\"blue\",\"size\":[0,12]},\"name\":\"Pescetar\",\"showlegend\":true,\"x\":[15,15],\"y\":[0,27],\"type\":\"scatter\"},{\"hovertext\":[\"\\u00d8. Enhedslisten\",\"\\u00d8. Enhedslisten\"],\"line\":{\"color\":\"rgb(5,122,87)\"},\"marker\":{\"color\":\"blue\",\"size\":[0,12]},\"name\":\"Pescetar\",\"showlegend\":true,\"x\":[16,16],\"y\":[0,26],\"type\":\"scatter\"},{\"hovertext\":[\"F. Socialistisk Folkeparti\",\"F. Socialistisk Folkeparti\"],\"line\":{\"color\":\"rgb(5,122,87)\"},\"marker\":{\"color\":\"blue\",\"size\":[0,12]},\"name\":\"Pescetar\",\"showlegend\":true,\"x\":[17,17],\"y\":[0,23],\"type\":\"scatter\"},{\"hovertext\":[\"F. Socialistisk Folkeparti\",\"F. Socialistisk Folkeparti\"],\"line\":{\"color\":\"rgb(5,122,87)\"},\"marker\":{\"color\":\"red\",\"size\":[0,12]},\"name\":\"K\\u00f8dspiser\",\"showlegend\":true,\"x\":[18,18],\"y\":[0,23],\"type\":\"scatter\"},{\"hovertext\":[\"F. Socialistisk Folkeparti\",\"F. Socialistisk Folkeparti\"],\"line\":{\"color\":\"rgb(5,122,87)\"},\"marker\":{\"color\":\"rgb(140,190,84)\",\"size\":[0,12]},\"name\":\"Vegetar\",\"showlegend\":true,\"x\":[19,19],\"y\":[0,22],\"type\":\"scatter\"},{\"hovertext\":[\"F. Socialistisk Folkeparti\",\"F. Socialistisk Folkeparti\"],\"line\":{\"color\":\"rgb(5,122,87)\"},\"marker\":{\"color\":\"turquoise\",\"size\":[0,12]},\"name\":\"Fleksitar\",\"showlegend\":true,\"x\":[20,20],\"y\":[0,22],\"type\":\"scatter\"},{\"hovertext\":[\"K. Kristendemokraterne\",\"K. Kristendemokraterne\"],\"line\":{\"color\":\"rgb(5,122,87)\"},\"marker\":{\"color\":\"turquoise\",\"size\":[0,12]},\"name\":\"Fleksitar\",\"showlegend\":true,\"x\":[21,21],\"y\":[0,22],\"type\":\"scatter\"},{\"hovertext\":[\"A. Socialdemokratiet\",\"A. Socialdemokratiet\"],\"line\":{\"color\":\"rgb(5,122,87)\"},\"marker\":{\"color\":\"red\",\"size\":[0,12]},\"name\":\"K\\u00f8dspiser\",\"showlegend\":true,\"x\":[22,22],\"y\":[0,20],\"type\":\"scatter\"},{\"hovertext\":[\"A. Socialdemokratiet\",\"A. Socialdemokratiet\"],\"line\":{\"color\":\"rgb(5,122,87)\"},\"marker\":{\"color\":\"rgb(140,190,84)\",\"size\":[0,12]},\"name\":\"Vegetar\",\"showlegend\":true,\"x\":[23,23],\"y\":[0,19],\"type\":\"scatter\"},{\"hovertext\":[\"C. Det Konservative Folkeparti\",\"C. Det Konservative Folkeparti\"],\"line\":{\"color\":\"rgb(5,122,87)\"},\"marker\":{\"color\":\"rgb(140,190,84)\",\"size\":[0,12]},\"name\":\"Vegetar\",\"showlegend\":true,\"x\":[24,24],\"y\":[0,19],\"type\":\"scatter\"},{\"hovertext\":[\"F. Socialistisk Folkeparti\",\"F. Socialistisk Folkeparti\"],\"line\":{\"color\":\"rgb(5,122,87)\"},\"marker\":{\"color\":\"rgb(140,190,84)\",\"size\":[0,12]},\"name\":\"Vegetar\",\"showlegend\":true,\"x\":[25,25],\"y\":[0,17],\"type\":\"scatter\"},{\"hovertext\":[\"F. Socialistisk Folkeparti\",\"F. Socialistisk Folkeparti\"],\"line\":{\"color\":\"rgb(5,122,87)\"},\"marker\":{\"color\":\"blue\",\"size\":[0,12]},\"name\":\"Pescetar\",\"showlegend\":true,\"x\":[26,26],\"y\":[0,16],\"type\":\"scatter\"},{\"hovertext\":[\"D. Nye Borgerlige\",\"D. Nye Borgerlige\"],\"line\":{\"color\":\"rgb(5,122,87)\"},\"marker\":{\"color\":\"blue\",\"size\":[0,12]},\"name\":\"Pescetar\",\"showlegend\":true,\"x\":[27,27],\"y\":[0,16],\"type\":\"scatter\"},{\"hovertext\":[\"A. Socialdemokratiet\",\"A. Socialdemokratiet\"],\"line\":{\"color\":\"rgb(5,122,87)\"},\"marker\":{\"color\":\"rgb(16,114,60)\",\"size\":[0,12]},\"name\":\"Veganer\",\"showlegend\":true,\"x\":[28,28],\"y\":[0,15],\"type\":\"scatter\"},{\"hovertext\":[\"B. Det Radikale Venstre\",\"B. Det Radikale Venstre\"],\"line\":{\"color\":\"rgb(5,122,87)\"},\"marker\":{\"color\":\"rgb(16,114,60)\",\"size\":[0,12]},\"name\":\"Veganer\",\"showlegend\":true,\"x\":[29,29],\"y\":[0,12],\"type\":\"scatter\"},{\"hovertext\":[\"C. Det Konservative Folkeparti\",\"C. Det Konservative Folkeparti\"],\"line\":{\"color\":\"rgb(5,122,87)\"},\"marker\":{\"color\":\"rgb(16,114,60)\",\"size\":[0,12]},\"name\":\"Veganer\",\"showlegend\":true,\"x\":[30,30],\"y\":[0,11],\"type\":\"scatter\"},{\"hovertext\":[\"V. Venstre\",\"V. Venstre\"],\"line\":{\"color\":\"rgb(5,122,87)\"},\"marker\":{\"color\":\"red\",\"size\":[0,12]},\"name\":\"K\\u00f8dspiser\",\"showlegend\":true,\"x\":[31,31],\"y\":[0,10],\"type\":\"scatter\"},{\"hovertext\":[\"V. Venstre\",\"V. Venstre\"],\"line\":{\"color\":\"rgb(5,122,87)\"},\"marker\":{\"color\":\"rgb(16,114,60)\",\"size\":[0,12]},\"name\":\"Veganer\",\"showlegend\":true,\"x\":[32,32],\"y\":[0,10],\"type\":\"scatter\"},{\"hovertext\":[\"B. Det Radikale Venstre\",\"B. Det Radikale Venstre\"],\"line\":{\"color\":\"rgb(5,122,87)\"},\"marker\":{\"color\":\"rgb(16,114,60)\",\"size\":[0,12]},\"name\":\"Veganer\",\"showlegend\":true,\"x\":[33,33],\"y\":[0,10],\"type\":\"scatter\"},{\"hovertext\":[\"A. Socialdemokratiet\",\"A. Socialdemokratiet\"],\"line\":{\"color\":\"rgb(5,122,87)\"},\"marker\":{\"color\":\"rgb(16,114,60)\",\"size\":[0,12]},\"name\":\"Veganer\",\"showlegend\":true,\"x\":[34,34],\"y\":[0,10],\"type\":\"scatter\"},{\"hovertext\":[\"C. Det Konservative Folkeparti\",\"C. Det Konservative Folkeparti\"],\"line\":{\"color\":\"rgb(5,122,87)\"},\"marker\":{\"color\":\"rgb(16,114,60)\",\"size\":[0,12]},\"name\":\"Veganer\",\"showlegend\":true,\"x\":[35,35],\"y\":[0,9],\"type\":\"scatter\"},{\"hovertext\":[\"\\u00d8. Enhedslisten\",\"\\u00d8. Enhedslisten\"],\"line\":{\"color\":\"rgb(5,122,87)\"},\"marker\":{\"color\":\"rgb(16,114,60)\",\"size\":[0,12]},\"name\":\"Veganer\",\"showlegend\":true,\"x\":[36,36],\"y\":[0,8],\"type\":\"scatter\"},{\"hovertext\":[\"O. Dansk Folkeparti\",\"O. Dansk Folkeparti\"],\"line\":{\"color\":\"rgb(5,122,87)\"},\"marker\":{\"color\":\"rgb(16,114,60)\",\"size\":[0,12]},\"name\":\"Veganer\",\"showlegend\":true,\"x\":[37,37],\"y\":[0,6],\"type\":\"scatter\"},{\"hovertext\":[\"D. Nye Borgerlige\",\"D. Nye Borgerlige\"],\"line\":{\"color\":\"rgb(5,122,87)\"},\"marker\":{\"color\":\"rgb(16,114,60)\",\"size\":[0,12]},\"name\":\"Veganer\",\"showlegend\":true,\"x\":[38,38],\"y\":[0,4],\"type\":\"scatter\"}],                        {\"template\":{\"data\":{\"histogram2dcontour\":[{\"type\":\"histogram2dcontour\",\"colorbar\":{\"outlinewidth\":0,\"ticks\":\"\"},\"colorscale\":[[0.0,\"#0d0887\"],[0.1111111111111111,\"#46039f\"],[0.2222222222222222,\"#7201a8\"],[0.3333333333333333,\"#9c179e\"],[0.4444444444444444,\"#bd3786\"],[0.5555555555555556,\"#d8576b\"],[0.6666666666666666,\"#ed7953\"],[0.7777777777777778,\"#fb9f3a\"],[0.8888888888888888,\"#fdca26\"],[1.0,\"#f0f921\"]]}],\"choropleth\":[{\"type\":\"choropleth\",\"colorbar\":{\"outlinewidth\":0,\"ticks\":\"\"}}],\"histogram2d\":[{\"type\":\"histogram2d\",\"colorbar\":{\"outlinewidth\":0,\"ticks\":\"\"},\"colorscale\":[[0.0,\"#0d0887\"],[0.1111111111111111,\"#46039f\"],[0.2222222222222222,\"#7201a8\"],[0.3333333333333333,\"#9c179e\"],[0.4444444444444444,\"#bd3786\"],[0.5555555555555556,\"#d8576b\"],[0.6666666666666666,\"#ed7953\"],[0.7777777777777778,\"#fb9f3a\"],[0.8888888888888888,\"#fdca26\"],[1.0,\"#f0f921\"]]}],\"heatmap\":[{\"type\":\"heatmap\",\"colorbar\":{\"outlinewidth\":0,\"ticks\":\"\"},\"colorscale\":[[0.0,\"#0d0887\"],[0.1111111111111111,\"#46039f\"],[0.2222222222222222,\"#7201a8\"],[0.3333333333333333,\"#9c179e\"],[0.4444444444444444,\"#bd3786\"],[0.5555555555555556,\"#d8576b\"],[0.6666666666666666,\"#ed7953\"],[0.7777777777777778,\"#fb9f3a\"],[0.8888888888888888,\"#fdca26\"],[1.0,\"#f0f921\"]]}],\"heatmapgl\":[{\"type\":\"heatmapgl\",\"colorbar\":{\"outlinewidth\":0,\"ticks\":\"\"},\"colorscale\":[[0.0,\"#0d0887\"],[0.1111111111111111,\"#46039f\"],[0.2222222222222222,\"#7201a8\"],[0.3333333333333333,\"#9c179e\"],[0.4444444444444444,\"#bd3786\"],[0.5555555555555556,\"#d8576b\"],[0.6666666666666666,\"#ed7953\"],[0.7777777777777778,\"#fb9f3a\"],[0.8888888888888888,\"#fdca26\"],[1.0,\"#f0f921\"]]}],\"contourcarpet\":[{\"type\":\"contourcarpet\",\"colorbar\":{\"outlinewidth\":0,\"ticks\":\"\"}}],\"contour\":[{\"type\":\"contour\",\"colorbar\":{\"outlinewidth\":0,\"ticks\":\"\"},\"colorscale\":[[0.0,\"#0d0887\"],[0.1111111111111111,\"#46039f\"],[0.2222222222222222,\"#7201a8\"],[0.3333333333333333,\"#9c179e\"],[0.4444444444444444,\"#bd3786\"],[0.5555555555555556,\"#d8576b\"],[0.6666666666666666,\"#ed7953\"],[0.7777777777777778,\"#fb9f3a\"],[0.8888888888888888,\"#fdca26\"],[1.0,\"#f0f921\"]]}],\"surface\":[{\"type\":\"surface\",\"colorbar\":{\"outlinewidth\":0,\"ticks\":\"\"},\"colorscale\":[[0.0,\"#0d0887\"],[0.1111111111111111,\"#46039f\"],[0.2222222222222222,\"#7201a8\"],[0.3333333333333333,\"#9c179e\"],[0.4444444444444444,\"#bd3786\"],[0.5555555555555556,\"#d8576b\"],[0.6666666666666666,\"#ed7953\"],[0.7777777777777778,\"#fb9f3a\"],[0.8888888888888888,\"#fdca26\"],[1.0,\"#f0f921\"]]}],\"mesh3d\":[{\"type\":\"mesh3d\",\"colorbar\":{\"outlinewidth\":0,\"ticks\":\"\"}}],\"scatter\":[{\"fillpattern\":{\"fillmode\":\"overlay\",\"size\":10,\"solidity\":0.2},\"type\":\"scatter\"}],\"parcoords\":[{\"type\":\"parcoords\",\"line\":{\"colorbar\":{\"outlinewidth\":0,\"ticks\":\"\"}}}],\"scatterpolargl\":[{\"type\":\"scatterpolargl\",\"marker\":{\"colorbar\":{\"outlinewidth\":0,\"ticks\":\"\"}}}],\"bar\":[{\"error_x\":{\"color\":\"#2a3f5f\"},\"error_y\":{\"color\":\"#2a3f5f\"},\"marker\":{\"line\":{\"color\":\"#E5ECF6\",\"width\":0.5},\"pattern\":{\"fillmode\":\"overlay\",\"size\":10,\"solidity\":0.2}},\"type\":\"bar\"}],\"scattergeo\":[{\"type\":\"scattergeo\",\"marker\":{\"colorbar\":{\"outlinewidth\":0,\"ticks\":\"\"}}}],\"scatterpolar\":[{\"type\":\"scatterpolar\",\"marker\":{\"colorbar\":{\"outlinewidth\":0,\"ticks\":\"\"}}}],\"histogram\":[{\"marker\":{\"pattern\":{\"fillmode\":\"overlay\",\"size\":10,\"solidity\":0.2}},\"type\":\"histogram\"}],\"scattergl\":[{\"type\":\"scattergl\",\"marker\":{\"colorbar\":{\"outlinewidth\":0,\"ticks\":\"\"}}}],\"scatter3d\":[{\"type\":\"scatter3d\",\"line\":{\"colorbar\":{\"outlinewidth\":0,\"ticks\":\"\"}},\"marker\":{\"colorbar\":{\"outlinewidth\":0,\"ticks\":\"\"}}}],\"scattermapbox\":[{\"type\":\"scattermapbox\",\"marker\":{\"colorbar\":{\"outlinewidth\":0,\"ticks\":\"\"}}}],\"scatterternary\":[{\"type\":\"scatterternary\",\"marker\":{\"colorbar\":{\"outlinewidth\":0,\"ticks\":\"\"}}}],\"scattercarpet\":[{\"type\":\"scattercarpet\",\"marker\":{\"colorbar\":{\"outlinewidth\":0,\"ticks\":\"\"}}}],\"carpet\":[{\"aaxis\":{\"endlinecolor\":\"#2a3f5f\",\"gridcolor\":\"white\",\"linecolor\":\"white\",\"minorgridcolor\":\"white\",\"startlinecolor\":\"#2a3f5f\"},\"baxis\":{\"endlinecolor\":\"#2a3f5f\",\"gridcolor\":\"white\",\"linecolor\":\"white\",\"minorgridcolor\":\"white\",\"startlinecolor\":\"#2a3f5f\"},\"type\":\"carpet\"}],\"table\":[{\"cells\":{\"fill\":{\"color\":\"#EBF0F8\"},\"line\":{\"color\":\"white\"}},\"header\":{\"fill\":{\"color\":\"#C8D4E3\"},\"line\":{\"color\":\"white\"}},\"type\":\"table\"}],\"barpolar\":[{\"marker\":{\"line\":{\"color\":\"#E5ECF6\",\"width\":0.5},\"pattern\":{\"fillmode\":\"overlay\",\"size\":10,\"solidity\":0.2}},\"type\":\"barpolar\"}],\"pie\":[{\"automargin\":true,\"type\":\"pie\"}]},\"layout\":{\"autotypenumbers\":\"strict\",\"colorway\":[\"#636efa\",\"#EF553B\",\"#00cc96\",\"#ab63fa\",\"#FFA15A\",\"#19d3f3\",\"#FF6692\",\"#B6E880\",\"#FF97FF\",\"#FECB52\"],\"font\":{\"color\":\"#2a3f5f\"},\"hovermode\":\"closest\",\"hoverlabel\":{\"align\":\"left\"},\"paper_bgcolor\":\"white\",\"plot_bgcolor\":\"#E5ECF6\",\"polar\":{\"bgcolor\":\"#E5ECF6\",\"angularaxis\":{\"gridcolor\":\"white\",\"linecolor\":\"white\",\"ticks\":\"\"},\"radialaxis\":{\"gridcolor\":\"white\",\"linecolor\":\"white\",\"ticks\":\"\"}},\"ternary\":{\"bgcolor\":\"#E5ECF6\",\"aaxis\":{\"gridcolor\":\"white\",\"linecolor\":\"white\",\"ticks\":\"\"},\"baxis\":{\"gridcolor\":\"white\",\"linecolor\":\"white\",\"ticks\":\"\"},\"caxis\":{\"gridcolor\":\"white\",\"linecolor\":\"white\",\"ticks\":\"\"}},\"coloraxis\":{\"colorbar\":{\"outlinewidth\":0,\"ticks\":\"\"}},\"colorscale\":{\"sequential\":[[0.0,\"#0d0887\"],[0.1111111111111111,\"#46039f\"],[0.2222222222222222,\"#7201a8\"],[0.3333333333333333,\"#9c179e\"],[0.4444444444444444,\"#bd3786\"],[0.5555555555555556,\"#d8576b\"],[0.6666666666666666,\"#ed7953\"],[0.7777777777777778,\"#fb9f3a\"],[0.8888888888888888,\"#fdca26\"],[1.0,\"#f0f921\"]],\"sequentialminus\":[[0.0,\"#0d0887\"],[0.1111111111111111,\"#46039f\"],[0.2222222222222222,\"#7201a8\"],[0.3333333333333333,\"#9c179e\"],[0.4444444444444444,\"#bd3786\"],[0.5555555555555556,\"#d8576b\"],[0.6666666666666666,\"#ed7953\"],[0.7777777777777778,\"#fb9f3a\"],[0.8888888888888888,\"#fdca26\"],[1.0,\"#f0f921\"]],\"diverging\":[[0,\"#8e0152\"],[0.1,\"#c51b7d\"],[0.2,\"#de77ae\"],[0.3,\"#f1b6da\"],[0.4,\"#fde0ef\"],[0.5,\"#f7f7f7\"],[0.6,\"#e6f5d0\"],[0.7,\"#b8e186\"],[0.8,\"#7fbc41\"],[0.9,\"#4d9221\"],[1,\"#276419\"]]},\"xaxis\":{\"gridcolor\":\"white\",\"linecolor\":\"white\",\"ticks\":\"\",\"title\":{\"standoff\":15},\"zerolinecolor\":\"white\",\"automargin\":true,\"zerolinewidth\":2},\"yaxis\":{\"gridcolor\":\"white\",\"linecolor\":\"white\",\"ticks\":\"\",\"title\":{\"standoff\":15},\"zerolinecolor\":\"white\",\"automargin\":true,\"zerolinewidth\":2},\"scene\":{\"xaxis\":{\"backgroundcolor\":\"#E5ECF6\",\"gridcolor\":\"white\",\"linecolor\":\"white\",\"showbackground\":true,\"ticks\":\"\",\"zerolinecolor\":\"white\",\"gridwidth\":2},\"yaxis\":{\"backgroundcolor\":\"#E5ECF6\",\"gridcolor\":\"white\",\"linecolor\":\"white\",\"showbackground\":true,\"ticks\":\"\",\"zerolinecolor\":\"white\",\"gridwidth\":2},\"zaxis\":{\"backgroundcolor\":\"#E5ECF6\",\"gridcolor\":\"white\",\"linecolor\":\"white\",\"showbackground\":true,\"ticks\":\"\",\"zerolinecolor\":\"white\",\"gridwidth\":2}},\"shapedefaults\":{\"line\":{\"color\":\"#2a3f5f\"}},\"annotationdefaults\":{\"arrowcolor\":\"#2a3f5f\",\"arrowhead\":0,\"arrowwidth\":1},\"geo\":{\"bgcolor\":\"white\",\"landcolor\":\"#E5ECF6\",\"subunitcolor\":\"white\",\"showland\":true,\"showlakes\":true,\"lakecolor\":\"white\"},\"title\":{\"x\":0.05},\"mapbox\":{\"style\":\"light\"}}},\"shapes\":[{\"line\":{\"color\":\"rgb(5,122,87)\",\"dash\":\"dash\",\"width\":0.5},\"type\":\"line\",\"x0\":0,\"x1\":1,\"xref\":\"x domain\",\"y0\":21.153846153846153,\"y1\":21.153846153846153,\"yref\":\"y\"}],\"annotations\":[{\"showarrow\":false,\"text\":\"Kommune gennemsnit\",\"x\":1,\"xanchor\":\"right\",\"xref\":\"x domain\",\"y\":21.153846153846153,\"yanchor\":\"top\",\"yref\":\"y\"}],\"xaxis\":{\"tickmode\":\"array\",\"tickvals\":[0,1,2,3,4,5,6,7,8,9,10,11,12,13,14,15,16,17,18,19,20,21,22,23,24,25,26,27,28,29,30,31,32,33,34,35,36,37,38],\"ticktext\":[\"Sabrina Holt (G.)\",\"Poul Krogsg\\u00e5rd (\\u00d8.)\",\"Stefan Bjarni Gudnason (G.)\",\"Allan Hagsten N\\u00f8rlund (G.)\",\"Jasmine S\\u00f8gaard (A.)\",\"Liv Gro Jensen (F.)\",\"Lissi Bagge (\\u00c5.)\",\"Martin Odgaard (\\u00d8.)\",\"Ouafa Rian (B.)\",\"Thure Hastrup (\\u00d8.)\",\"Katrine Vinther Nielsen (\\u00d8.)\",\"Nanna Lippert Troelsen (F.)\",\"Tenna Duch Schaldemose (\\u00c5.)\",\"Carsten Andersen (\\u00d8.)\",\"Jeppe Ulrich Lomholt (\\u00d8.)\",\"Doris-Clarisse Lukunku (\\u00d8.)\",\"Solveig Munk (\\u00d8.)\",\"Torben Ernst Wandall (F.)\",\"Niels Kjeldsen (F.)\",\"Anders Gerding Yde (F.)\",\"Ivan Lauridsen (F.)\",\"Henrik Hjortsh\\u00f8j (K.)\",\"Peter Bonfils (A.)\",\"Lone Hind\\u00f8 (A.)\",\"Christian Baller (C.)\",\"Lisbeth Randlev Johnsen (F.)\",\"Sander Jensen (F.)\",\"Claus Vildrik (D.)\",\"Kenneth Koustrup (A.)\",\"Elin Carlsen (B.)\",\"Susanne Lund (C.)\",\"B\\u00fcnyamin Simsek (V.)\",\"Johnny Willum (V.)\",\"Hanne Roed (B.)\",\"Anette Poulsen (A.)\",\"Mette Skautrup (C.)\",\"Simon Stadsholt (\\u00d8.)\",\"Jakob S\\u00f8gaard Clausen (O.)\",\"Henrik R\\u00e6der Clausen (D.)\"],\"range\":[-1,39]},\"title\":{\"text\":\"Kandidater for Aarhus\"}},                        {\"responsive\": true}                    ).then(function(){\n",
       "                            \n",
       "var gd = document.getElementById('7b26387b-647a-4815-9075-0a12c7a2e70d');\n",
       "var x = new MutationObserver(function (mutations, observer) {{\n",
       "        var display = window.getComputedStyle(gd).display;\n",
       "        if (!display || display === 'none') {{\n",
       "            console.log([gd, 'removed!']);\n",
       "            Plotly.purge(gd);\n",
       "            observer.disconnect();\n",
       "        }}\n",
       "}});\n",
       "\n",
       "// Listen for the removal of the full notebook cells\n",
       "var notebookContainer = gd.closest('#notebook-container');\n",
       "if (notebookContainer) {{\n",
       "    x.observe(notebookContainer, {childList: true});\n",
       "}}\n",
       "\n",
       "// Listen for the clearing of the current output cell\n",
       "var outputEl = gd.closest('.output');\n",
       "if (outputEl) {{\n",
       "    x.observe(outputEl, {childList: true});\n",
       "}}\n",
       "\n",
       "                        })                };                });            </script>        </div>"
      ]
     },
     "metadata": {},
     "output_type": "display_data"
    }
   ],
   "source": [
    "fig = go.Figure()\n",
    "\n",
    "df_temp = df_nameIndex[df_nameIndex[\"Kommune\"]==kommune].sort_values(\"Score\", ascending = False)\n",
    "\n",
    "tickvals_ = list(range(len(df_temp)))\n",
    "\n",
    "ticktext_ = list(df_temp.index)\n",
    "\n",
    "color_list = []\n",
    "for color in list(df_temp[\"Kost_color\"]):\n",
    "    color_list.extend([color,color])\n",
    "\n",
    "veggieGreen = 'rgb(5,122,87)' # Dark-green for the vegetarian color option !!! Change for real color\n",
    "markerSize = Marker_size(len(df_temp))\n",
    "\n",
    "\n",
    "for i, mean in enumerate(df_temp[\"Score\"]):\n",
    "    candidate = df_temp.index[i]\n",
    "\n",
    "    fig.add_trace(go.Scatter(x=[i,i],y=[0,mean],\n",
    "                             marker_size = [0,12],\n",
    "                             marker_color = df_temp[\"Kost_color\"][i],\n",
    "#                              marker= {\"color\":color_list, \n",
    "#                                       \"size\":markerSize},\n",
    "                             line=go.scatter.Line(color=veggieGreen),\n",
    "                             hovertext=[df_temp.loc[candidate][\"Parti\"],df_temp.loc[candidate][\"Parti\"]],\n",
    "                             showlegend=True,\n",
    "                            name = df_temp[\"Kost\"][i],\n",
    "                            ),\n",
    "                 )\n",
    "    \n",
    "fig.add_hline(y=df_temp[\"Score\"].mean(), \n",
    "              line_width=0.5, \n",
    "              line_dash=\"dash\", \n",
    "              line_color=veggieGreen,\n",
    "              annotation_text=\"Kommune gennemsnit\", \n",
    "              annotation_position=\"bottom right\")\n",
    "\n",
    "fig.update_layout(\n",
    "    xaxis = dict(\n",
    "        tickmode = \"array\",\n",
    "        tickvals = tickvals_,\n",
    "        ticktext = ticktext_),\n",
    "    xaxis_range=[-1,len(df_temp)],\n",
    "    title = {\"text\":f\"Kandidater for {kommune}\"}\n",
    "    )\n",
    "\n",
    "fig.show()"
   ]
  },
  {
   "cell_type": "code",
   "execution_count": 35,
   "id": "68807bb1",
   "metadata": {},
   "outputs": [
    {
     "data": {
      "text/plain": [
       "dict_keys(['Kødspiser', 'Fleksitar', 'Pescetar', 'Vegetar', 'Veganer', 'Ønsker ikke at svare'])"
      ]
     },
     "execution_count": 35,
     "metadata": {},
     "output_type": "execute_result"
    }
   ],
   "source": [
    "kost_color.keys()"
   ]
  },
  {
   "cell_type": "code",
   "execution_count": 55,
   "id": "0e8bef07",
   "metadata": {},
   "outputs": [
    {
     "data": {
      "application/vnd.plotly.v1+json": {
       "config": {
        "plotlyServerURL": "https://plot.ly"
       },
       "data": [
        {
         "labels": [
          "Kødspiser",
          "Fleksitar",
          "Pescetar",
          "Vegetar",
          "Veganer",
          "Ønsker ikke at svare"
         ],
         "marker": {
          "colors": [
           "red",
           "turquoise",
           "blue",
           "rgb(5,122,87)",
           "rgb(16,114,60)",
           "grey"
          ]
         },
         "showlegend": true,
         "type": "pie",
         "values": [
          1,
          1,
          1,
          1,
          1,
          1
         ]
        },
        {
         "hoverinfo": [
          "none",
          "x+y+text"
         ],
         "hovertext": [
          "G. Veganerpartiet",
          "G. Veganerpartiet"
         ],
         "line": {
          "color": "rgb(5,122,87)"
         },
         "marker": {
          "color": "blue",
          "size": [
           0,
           12
          ]
         },
         "name": "Pescetar",
         "showlegend": false,
         "type": "scatter",
         "x": [
          0,
          0
         ],
         "y": [
          0,
          32
         ]
        },
        {
         "hoverinfo": [
          "none",
          "x+y+text"
         ],
         "hovertext": [
          "Ø. Enhedslisten",
          "Ø. Enhedslisten"
         ],
         "line": {
          "color": "rgb(5,122,87)"
         },
         "marker": {
          "color": "rgb(16,114,60)",
          "size": [
           0,
           12
          ]
         },
         "name": "Veganer",
         "showlegend": false,
         "type": "scatter",
         "x": [
          1,
          1
         ],
         "y": [
          0,
          32
         ]
        },
        {
         "hoverinfo": [
          "none",
          "x+y+text"
         ],
         "hovertext": [
          "G. Veganerpartiet",
          "G. Veganerpartiet"
         ],
         "line": {
          "color": "rgb(5,122,87)"
         },
         "marker": {
          "color": "rgb(140,190,84)",
          "size": [
           0,
           12
          ]
         },
         "name": "Vegetar",
         "showlegend": false,
         "type": "scatter",
         "x": [
          2,
          2
         ],
         "y": [
          0,
          32
         ]
        },
        {
         "hoverinfo": [
          "none",
          "x+y+text"
         ],
         "hovertext": [
          "G. Veganerpartiet",
          "G. Veganerpartiet"
         ],
         "line": {
          "color": "rgb(5,122,87)"
         },
         "marker": {
          "color": "red",
          "size": [
           0,
           12
          ]
         },
         "name": "Kødspiser",
         "showlegend": false,
         "type": "scatter",
         "x": [
          3,
          3
         ],
         "y": [
          0,
          32
         ]
        },
        {
         "hoverinfo": [
          "none",
          "x+y+text"
         ],
         "hovertext": [
          "A. Socialdemokratiet",
          "A. Socialdemokratiet"
         ],
         "line": {
          "color": "rgb(5,122,87)"
         },
         "marker": {
          "color": "turquoise",
          "size": [
           0,
           12
          ]
         },
         "name": "Fleksitar",
         "showlegend": false,
         "type": "scatter",
         "x": [
          4,
          4
         ],
         "y": [
          0,
          31
         ]
        },
        {
         "hoverinfo": [
          "none",
          "x+y+text"
         ],
         "hovertext": [
          "F. Socialistisk Folkeparti",
          "F. Socialistisk Folkeparti"
         ],
         "line": {
          "color": "rgb(5,122,87)"
         },
         "marker": {
          "color": "rgb(16,114,60)",
          "size": [
           0,
           12
          ]
         },
         "name": "Veganer",
         "showlegend": false,
         "type": "scatter",
         "x": [
          5,
          5
         ],
         "y": [
          0,
          31
         ]
        },
        {
         "hoverinfo": [
          "none",
          "x+y+text"
         ],
         "hovertext": [
          "Å. Alternativet",
          "Å. Alternativet"
         ],
         "line": {
          "color": "rgb(5,122,87)"
         },
         "marker": {
          "color": "red",
          "size": [
           0,
           12
          ]
         },
         "name": "Kødspiser",
         "showlegend": false,
         "type": "scatter",
         "x": [
          6,
          6
         ],
         "y": [
          0,
          31
         ]
        },
        {
         "hoverinfo": [
          "none",
          "x+y+text"
         ],
         "hovertext": [
          "Ø. Enhedslisten",
          "Ø. Enhedslisten"
         ],
         "line": {
          "color": "rgb(5,122,87)"
         },
         "marker": {
          "color": "rgb(16,114,60)",
          "size": [
           0,
           12
          ]
         },
         "name": "Veganer",
         "showlegend": false,
         "type": "scatter",
         "x": [
          7,
          7
         ],
         "y": [
          0,
          31
         ]
        },
        {
         "hoverinfo": [
          "none",
          "x+y+text"
         ],
         "hovertext": [
          "B. Det Radikale Venstre",
          "B. Det Radikale Venstre"
         ],
         "line": {
          "color": "rgb(5,122,87)"
         },
         "marker": {
          "color": "rgb(16,114,60)",
          "size": [
           0,
           12
          ]
         },
         "name": "Veganer",
         "showlegend": false,
         "type": "scatter",
         "x": [
          8,
          8
         ],
         "y": [
          0,
          30
         ]
        },
        {
         "hoverinfo": [
          "none",
          "x+y+text"
         ],
         "hovertext": [
          "Ø. Enhedslisten",
          "Ø. Enhedslisten"
         ],
         "line": {
          "color": "rgb(5,122,87)"
         },
         "marker": {
          "color": "red",
          "size": [
           0,
           12
          ]
         },
         "name": "Kødspiser",
         "showlegend": false,
         "type": "scatter",
         "x": [
          9,
          9
         ],
         "y": [
          0,
          28
         ]
        },
        {
         "hoverinfo": [
          "none",
          "x+y+text"
         ],
         "hovertext": [
          "Ø. Enhedslisten",
          "Ø. Enhedslisten"
         ],
         "line": {
          "color": "rgb(5,122,87)"
         },
         "marker": {
          "color": "red",
          "size": [
           0,
           12
          ]
         },
         "name": "Kødspiser",
         "showlegend": false,
         "type": "scatter",
         "x": [
          10,
          10
         ],
         "y": [
          0,
          28
         ]
        },
        {
         "hoverinfo": [
          "none",
          "x+y+text"
         ],
         "hovertext": [
          "F. Socialistisk Folkeparti",
          "F. Socialistisk Folkeparti"
         ],
         "line": {
          "color": "rgb(5,122,87)"
         },
         "marker": {
          "color": "red",
          "size": [
           0,
           12
          ]
         },
         "name": "Kødspiser",
         "showlegend": false,
         "type": "scatter",
         "x": [
          11,
          11
         ],
         "y": [
          0,
          28
         ]
        },
        {
         "hoverinfo": [
          "none",
          "x+y+text"
         ],
         "hovertext": [
          "Å. Alternativet",
          "Å. Alternativet"
         ],
         "line": {
          "color": "rgb(5,122,87)"
         },
         "marker": {
          "color": "blue",
          "size": [
           0,
           12
          ]
         },
         "name": "Pescetar",
         "showlegend": false,
         "type": "scatter",
         "x": [
          12,
          12
         ],
         "y": [
          0,
          28
         ]
        },
        {
         "hoverinfo": [
          "none",
          "x+y+text"
         ],
         "hovertext": [
          "Ø. Enhedslisten",
          "Ø. Enhedslisten"
         ],
         "line": {
          "color": "rgb(5,122,87)"
         },
         "marker": {
          "color": "rgb(16,114,60)",
          "size": [
           0,
           12
          ]
         },
         "name": "Veganer",
         "showlegend": false,
         "type": "scatter",
         "x": [
          13,
          13
         ],
         "y": [
          0,
          27
         ]
        },
        {
         "hoverinfo": [
          "none",
          "x+y+text"
         ],
         "hovertext": [
          "Ø. Enhedslisten",
          "Ø. Enhedslisten"
         ],
         "line": {
          "color": "rgb(5,122,87)"
         },
         "marker": {
          "color": "rgb(140,190,84)",
          "size": [
           0,
           12
          ]
         },
         "name": "Vegetar",
         "showlegend": false,
         "type": "scatter",
         "x": [
          14,
          14
         ],
         "y": [
          0,
          27
         ]
        },
        {
         "hoverinfo": [
          "none",
          "x+y+text"
         ],
         "hovertext": [
          "Ø. Enhedslisten",
          "Ø. Enhedslisten"
         ],
         "line": {
          "color": "rgb(5,122,87)"
         },
         "marker": {
          "color": "blue",
          "size": [
           0,
           12
          ]
         },
         "name": "Pescetar",
         "showlegend": false,
         "type": "scatter",
         "x": [
          15,
          15
         ],
         "y": [
          0,
          27
         ]
        },
        {
         "hoverinfo": [
          "none",
          "x+y+text"
         ],
         "hovertext": [
          "Ø. Enhedslisten",
          "Ø. Enhedslisten"
         ],
         "line": {
          "color": "rgb(5,122,87)"
         },
         "marker": {
          "color": "blue",
          "size": [
           0,
           12
          ]
         },
         "name": "Pescetar",
         "showlegend": false,
         "type": "scatter",
         "x": [
          16,
          16
         ],
         "y": [
          0,
          26
         ]
        },
        {
         "hoverinfo": [
          "none",
          "x+y+text"
         ],
         "hovertext": [
          "F. Socialistisk Folkeparti",
          "F. Socialistisk Folkeparti"
         ],
         "line": {
          "color": "rgb(5,122,87)"
         },
         "marker": {
          "color": "blue",
          "size": [
           0,
           12
          ]
         },
         "name": "Pescetar",
         "showlegend": false,
         "type": "scatter",
         "x": [
          17,
          17
         ],
         "y": [
          0,
          23
         ]
        },
        {
         "hoverinfo": [
          "none",
          "x+y+text"
         ],
         "hovertext": [
          "F. Socialistisk Folkeparti",
          "F. Socialistisk Folkeparti"
         ],
         "line": {
          "color": "rgb(5,122,87)"
         },
         "marker": {
          "color": "red",
          "size": [
           0,
           12
          ]
         },
         "name": "Kødspiser",
         "showlegend": false,
         "type": "scatter",
         "x": [
          18,
          18
         ],
         "y": [
          0,
          23
         ]
        },
        {
         "hoverinfo": [
          "none",
          "x+y+text"
         ],
         "hovertext": [
          "F. Socialistisk Folkeparti",
          "F. Socialistisk Folkeparti"
         ],
         "line": {
          "color": "rgb(5,122,87)"
         },
         "marker": {
          "color": "rgb(140,190,84)",
          "size": [
           0,
           12
          ]
         },
         "name": "Vegetar",
         "showlegend": false,
         "type": "scatter",
         "x": [
          19,
          19
         ],
         "y": [
          0,
          22
         ]
        },
        {
         "hoverinfo": [
          "none",
          "x+y+text"
         ],
         "hovertext": [
          "F. Socialistisk Folkeparti",
          "F. Socialistisk Folkeparti"
         ],
         "line": {
          "color": "rgb(5,122,87)"
         },
         "marker": {
          "color": "turquoise",
          "size": [
           0,
           12
          ]
         },
         "name": "Fleksitar",
         "showlegend": false,
         "type": "scatter",
         "x": [
          20,
          20
         ],
         "y": [
          0,
          22
         ]
        },
        {
         "hoverinfo": [
          "none",
          "x+y+text"
         ],
         "hovertext": [
          "K. Kristendemokraterne",
          "K. Kristendemokraterne"
         ],
         "line": {
          "color": "rgb(5,122,87)"
         },
         "marker": {
          "color": "turquoise",
          "size": [
           0,
           12
          ]
         },
         "name": "Fleksitar",
         "showlegend": false,
         "type": "scatter",
         "x": [
          21,
          21
         ],
         "y": [
          0,
          22
         ]
        },
        {
         "hoverinfo": [
          "none",
          "x+y+text"
         ],
         "hovertext": [
          "A. Socialdemokratiet",
          "A. Socialdemokratiet"
         ],
         "line": {
          "color": "rgb(5,122,87)"
         },
         "marker": {
          "color": "red",
          "size": [
           0,
           12
          ]
         },
         "name": "Kødspiser",
         "showlegend": false,
         "type": "scatter",
         "x": [
          22,
          22
         ],
         "y": [
          0,
          20
         ]
        },
        {
         "hoverinfo": [
          "none",
          "x+y+text"
         ],
         "hovertext": [
          "A. Socialdemokratiet",
          "A. Socialdemokratiet"
         ],
         "line": {
          "color": "rgb(5,122,87)"
         },
         "marker": {
          "color": "rgb(140,190,84)",
          "size": [
           0,
           12
          ]
         },
         "name": "Vegetar",
         "showlegend": false,
         "type": "scatter",
         "x": [
          23,
          23
         ],
         "y": [
          0,
          19
         ]
        },
        {
         "hoverinfo": [
          "none",
          "x+y+text"
         ],
         "hovertext": [
          "C. Det Konservative Folkeparti",
          "C. Det Konservative Folkeparti"
         ],
         "line": {
          "color": "rgb(5,122,87)"
         },
         "marker": {
          "color": "rgb(140,190,84)",
          "size": [
           0,
           12
          ]
         },
         "name": "Vegetar",
         "showlegend": false,
         "type": "scatter",
         "x": [
          24,
          24
         ],
         "y": [
          0,
          19
         ]
        },
        {
         "hoverinfo": [
          "none",
          "x+y+text"
         ],
         "hovertext": [
          "F. Socialistisk Folkeparti",
          "F. Socialistisk Folkeparti"
         ],
         "line": {
          "color": "rgb(5,122,87)"
         },
         "marker": {
          "color": "rgb(140,190,84)",
          "size": [
           0,
           12
          ]
         },
         "name": "Vegetar",
         "showlegend": false,
         "type": "scatter",
         "x": [
          25,
          25
         ],
         "y": [
          0,
          17
         ]
        },
        {
         "hoverinfo": [
          "none",
          "x+y+text"
         ],
         "hovertext": [
          "F. Socialistisk Folkeparti",
          "F. Socialistisk Folkeparti"
         ],
         "line": {
          "color": "rgb(5,122,87)"
         },
         "marker": {
          "color": "blue",
          "size": [
           0,
           12
          ]
         },
         "name": "Pescetar",
         "showlegend": false,
         "type": "scatter",
         "x": [
          26,
          26
         ],
         "y": [
          0,
          16
         ]
        },
        {
         "hoverinfo": [
          "none",
          "x+y+text"
         ],
         "hovertext": [
          "D. Nye Borgerlige",
          "D. Nye Borgerlige"
         ],
         "line": {
          "color": "rgb(5,122,87)"
         },
         "marker": {
          "color": "blue",
          "size": [
           0,
           12
          ]
         },
         "name": "Pescetar",
         "showlegend": false,
         "type": "scatter",
         "x": [
          27,
          27
         ],
         "y": [
          0,
          16
         ]
        },
        {
         "hoverinfo": [
          "none",
          "x+y+text"
         ],
         "hovertext": [
          "A. Socialdemokratiet",
          "A. Socialdemokratiet"
         ],
         "line": {
          "color": "rgb(5,122,87)"
         },
         "marker": {
          "color": "rgb(16,114,60)",
          "size": [
           0,
           12
          ]
         },
         "name": "Veganer",
         "showlegend": false,
         "type": "scatter",
         "x": [
          28,
          28
         ],
         "y": [
          0,
          15
         ]
        },
        {
         "hoverinfo": [
          "none",
          "x+y+text"
         ],
         "hovertext": [
          "B. Det Radikale Venstre",
          "B. Det Radikale Venstre"
         ],
         "line": {
          "color": "rgb(5,122,87)"
         },
         "marker": {
          "color": "rgb(16,114,60)",
          "size": [
           0,
           12
          ]
         },
         "name": "Veganer",
         "showlegend": false,
         "type": "scatter",
         "x": [
          29,
          29
         ],
         "y": [
          0,
          12
         ]
        },
        {
         "hoverinfo": [
          "none",
          "x+y+text"
         ],
         "hovertext": [
          "C. Det Konservative Folkeparti",
          "C. Det Konservative Folkeparti"
         ],
         "line": {
          "color": "rgb(5,122,87)"
         },
         "marker": {
          "color": "rgb(16,114,60)",
          "size": [
           0,
           12
          ]
         },
         "name": "Veganer",
         "showlegend": false,
         "type": "scatter",
         "x": [
          30,
          30
         ],
         "y": [
          0,
          11
         ]
        },
        {
         "hoverinfo": [
          "none",
          "x+y+text"
         ],
         "hovertext": [
          "V. Venstre",
          "V. Venstre"
         ],
         "line": {
          "color": "rgb(5,122,87)"
         },
         "marker": {
          "color": "red",
          "size": [
           0,
           12
          ]
         },
         "name": "Kødspiser",
         "showlegend": false,
         "type": "scatter",
         "x": [
          31,
          31
         ],
         "y": [
          0,
          10
         ]
        },
        {
         "hoverinfo": [
          "none",
          "x+y+text"
         ],
         "hovertext": [
          "V. Venstre",
          "V. Venstre"
         ],
         "line": {
          "color": "rgb(5,122,87)"
         },
         "marker": {
          "color": "rgb(16,114,60)",
          "size": [
           0,
           12
          ]
         },
         "name": "Veganer",
         "showlegend": false,
         "type": "scatter",
         "x": [
          32,
          32
         ],
         "y": [
          0,
          10
         ]
        },
        {
         "hoverinfo": [
          "none",
          "x+y+text"
         ],
         "hovertext": [
          "B. Det Radikale Venstre",
          "B. Det Radikale Venstre"
         ],
         "line": {
          "color": "rgb(5,122,87)"
         },
         "marker": {
          "color": "rgb(16,114,60)",
          "size": [
           0,
           12
          ]
         },
         "name": "Veganer",
         "showlegend": false,
         "type": "scatter",
         "x": [
          33,
          33
         ],
         "y": [
          0,
          10
         ]
        },
        {
         "hoverinfo": [
          "none",
          "x+y+text"
         ],
         "hovertext": [
          "A. Socialdemokratiet",
          "A. Socialdemokratiet"
         ],
         "line": {
          "color": "rgb(5,122,87)"
         },
         "marker": {
          "color": "rgb(16,114,60)",
          "size": [
           0,
           12
          ]
         },
         "name": "Veganer",
         "showlegend": false,
         "type": "scatter",
         "x": [
          34,
          34
         ],
         "y": [
          0,
          10
         ]
        },
        {
         "hoverinfo": [
          "none",
          "x+y+text"
         ],
         "hovertext": [
          "C. Det Konservative Folkeparti",
          "C. Det Konservative Folkeparti"
         ],
         "line": {
          "color": "rgb(5,122,87)"
         },
         "marker": {
          "color": "rgb(16,114,60)",
          "size": [
           0,
           12
          ]
         },
         "name": "Veganer",
         "showlegend": false,
         "type": "scatter",
         "x": [
          35,
          35
         ],
         "y": [
          0,
          9
         ]
        },
        {
         "hoverinfo": [
          "none",
          "x+y+text"
         ],
         "hovertext": [
          "Ø. Enhedslisten",
          "Ø. Enhedslisten"
         ],
         "line": {
          "color": "rgb(5,122,87)"
         },
         "marker": {
          "color": "rgb(16,114,60)",
          "size": [
           0,
           12
          ]
         },
         "name": "Veganer",
         "showlegend": false,
         "type": "scatter",
         "x": [
          36,
          36
         ],
         "y": [
          0,
          8
         ]
        },
        {
         "hoverinfo": [
          "none",
          "x+y+text"
         ],
         "hovertext": [
          "O. Dansk Folkeparti",
          "O. Dansk Folkeparti"
         ],
         "line": {
          "color": "rgb(5,122,87)"
         },
         "marker": {
          "color": "rgb(16,114,60)",
          "size": [
           0,
           12
          ]
         },
         "name": "Veganer",
         "showlegend": false,
         "type": "scatter",
         "x": [
          37,
          37
         ],
         "y": [
          0,
          6
         ]
        },
        {
         "hoverinfo": [
          "none",
          "x+y+text"
         ],
         "hovertext": [
          "D. Nye Borgerlige",
          "D. Nye Borgerlige"
         ],
         "line": {
          "color": "rgb(5,122,87)"
         },
         "marker": {
          "color": "rgb(16,114,60)",
          "size": [
           0,
           12
          ]
         },
         "name": "Veganer",
         "showlegend": false,
         "type": "scatter",
         "x": [
          38,
          38
         ],
         "y": [
          0,
          4
         ]
        }
       ],
       "layout": {
        "annotations": [
         {
          "showarrow": false,
          "text": "Kommune gennemsnit",
          "x": 1,
          "xanchor": "right",
          "xref": "x domain",
          "y": 21.153846153846153,
          "yanchor": "top",
          "yref": "y"
         }
        ],
        "shapes": [
         {
          "line": {
           "color": "rgb(5,122,87)",
           "dash": "dash",
           "width": 0.5
          },
          "type": "line",
          "x0": 0,
          "x1": 1,
          "xref": "x domain",
          "y0": 21.153846153846153,
          "y1": 21.153846153846153,
          "yref": "y"
         }
        ],
        "template": {
         "data": {
          "bar": [
           {
            "error_x": {
             "color": "#2a3f5f"
            },
            "error_y": {
             "color": "#2a3f5f"
            },
            "marker": {
             "line": {
              "color": "#E5ECF6",
              "width": 0.5
             },
             "pattern": {
              "fillmode": "overlay",
              "size": 10,
              "solidity": 0.2
             }
            },
            "type": "bar"
           }
          ],
          "barpolar": [
           {
            "marker": {
             "line": {
              "color": "#E5ECF6",
              "width": 0.5
             },
             "pattern": {
              "fillmode": "overlay",
              "size": 10,
              "solidity": 0.2
             }
            },
            "type": "barpolar"
           }
          ],
          "carpet": [
           {
            "aaxis": {
             "endlinecolor": "#2a3f5f",
             "gridcolor": "white",
             "linecolor": "white",
             "minorgridcolor": "white",
             "startlinecolor": "#2a3f5f"
            },
            "baxis": {
             "endlinecolor": "#2a3f5f",
             "gridcolor": "white",
             "linecolor": "white",
             "minorgridcolor": "white",
             "startlinecolor": "#2a3f5f"
            },
            "type": "carpet"
           }
          ],
          "choropleth": [
           {
            "colorbar": {
             "outlinewidth": 0,
             "ticks": ""
            },
            "type": "choropleth"
           }
          ],
          "contour": [
           {
            "colorbar": {
             "outlinewidth": 0,
             "ticks": ""
            },
            "colorscale": [
             [
              0,
              "#0d0887"
             ],
             [
              0.1111111111111111,
              "#46039f"
             ],
             [
              0.2222222222222222,
              "#7201a8"
             ],
             [
              0.3333333333333333,
              "#9c179e"
             ],
             [
              0.4444444444444444,
              "#bd3786"
             ],
             [
              0.5555555555555556,
              "#d8576b"
             ],
             [
              0.6666666666666666,
              "#ed7953"
             ],
             [
              0.7777777777777778,
              "#fb9f3a"
             ],
             [
              0.8888888888888888,
              "#fdca26"
             ],
             [
              1,
              "#f0f921"
             ]
            ],
            "type": "contour"
           }
          ],
          "contourcarpet": [
           {
            "colorbar": {
             "outlinewidth": 0,
             "ticks": ""
            },
            "type": "contourcarpet"
           }
          ],
          "heatmap": [
           {
            "colorbar": {
             "outlinewidth": 0,
             "ticks": ""
            },
            "colorscale": [
             [
              0,
              "#0d0887"
             ],
             [
              0.1111111111111111,
              "#46039f"
             ],
             [
              0.2222222222222222,
              "#7201a8"
             ],
             [
              0.3333333333333333,
              "#9c179e"
             ],
             [
              0.4444444444444444,
              "#bd3786"
             ],
             [
              0.5555555555555556,
              "#d8576b"
             ],
             [
              0.6666666666666666,
              "#ed7953"
             ],
             [
              0.7777777777777778,
              "#fb9f3a"
             ],
             [
              0.8888888888888888,
              "#fdca26"
             ],
             [
              1,
              "#f0f921"
             ]
            ],
            "type": "heatmap"
           }
          ],
          "heatmapgl": [
           {
            "colorbar": {
             "outlinewidth": 0,
             "ticks": ""
            },
            "colorscale": [
             [
              0,
              "#0d0887"
             ],
             [
              0.1111111111111111,
              "#46039f"
             ],
             [
              0.2222222222222222,
              "#7201a8"
             ],
             [
              0.3333333333333333,
              "#9c179e"
             ],
             [
              0.4444444444444444,
              "#bd3786"
             ],
             [
              0.5555555555555556,
              "#d8576b"
             ],
             [
              0.6666666666666666,
              "#ed7953"
             ],
             [
              0.7777777777777778,
              "#fb9f3a"
             ],
             [
              0.8888888888888888,
              "#fdca26"
             ],
             [
              1,
              "#f0f921"
             ]
            ],
            "type": "heatmapgl"
           }
          ],
          "histogram": [
           {
            "marker": {
             "pattern": {
              "fillmode": "overlay",
              "size": 10,
              "solidity": 0.2
             }
            },
            "type": "histogram"
           }
          ],
          "histogram2d": [
           {
            "colorbar": {
             "outlinewidth": 0,
             "ticks": ""
            },
            "colorscale": [
             [
              0,
              "#0d0887"
             ],
             [
              0.1111111111111111,
              "#46039f"
             ],
             [
              0.2222222222222222,
              "#7201a8"
             ],
             [
              0.3333333333333333,
              "#9c179e"
             ],
             [
              0.4444444444444444,
              "#bd3786"
             ],
             [
              0.5555555555555556,
              "#d8576b"
             ],
             [
              0.6666666666666666,
              "#ed7953"
             ],
             [
              0.7777777777777778,
              "#fb9f3a"
             ],
             [
              0.8888888888888888,
              "#fdca26"
             ],
             [
              1,
              "#f0f921"
             ]
            ],
            "type": "histogram2d"
           }
          ],
          "histogram2dcontour": [
           {
            "colorbar": {
             "outlinewidth": 0,
             "ticks": ""
            },
            "colorscale": [
             [
              0,
              "#0d0887"
             ],
             [
              0.1111111111111111,
              "#46039f"
             ],
             [
              0.2222222222222222,
              "#7201a8"
             ],
             [
              0.3333333333333333,
              "#9c179e"
             ],
             [
              0.4444444444444444,
              "#bd3786"
             ],
             [
              0.5555555555555556,
              "#d8576b"
             ],
             [
              0.6666666666666666,
              "#ed7953"
             ],
             [
              0.7777777777777778,
              "#fb9f3a"
             ],
             [
              0.8888888888888888,
              "#fdca26"
             ],
             [
              1,
              "#f0f921"
             ]
            ],
            "type": "histogram2dcontour"
           }
          ],
          "mesh3d": [
           {
            "colorbar": {
             "outlinewidth": 0,
             "ticks": ""
            },
            "type": "mesh3d"
           }
          ],
          "parcoords": [
           {
            "line": {
             "colorbar": {
              "outlinewidth": 0,
              "ticks": ""
             }
            },
            "type": "parcoords"
           }
          ],
          "pie": [
           {
            "automargin": true,
            "type": "pie"
           }
          ],
          "scatter": [
           {
            "fillpattern": {
             "fillmode": "overlay",
             "size": 10,
             "solidity": 0.2
            },
            "type": "scatter"
           }
          ],
          "scatter3d": [
           {
            "line": {
             "colorbar": {
              "outlinewidth": 0,
              "ticks": ""
             }
            },
            "marker": {
             "colorbar": {
              "outlinewidth": 0,
              "ticks": ""
             }
            },
            "type": "scatter3d"
           }
          ],
          "scattercarpet": [
           {
            "marker": {
             "colorbar": {
              "outlinewidth": 0,
              "ticks": ""
             }
            },
            "type": "scattercarpet"
           }
          ],
          "scattergeo": [
           {
            "marker": {
             "colorbar": {
              "outlinewidth": 0,
              "ticks": ""
             }
            },
            "type": "scattergeo"
           }
          ],
          "scattergl": [
           {
            "marker": {
             "colorbar": {
              "outlinewidth": 0,
              "ticks": ""
             }
            },
            "type": "scattergl"
           }
          ],
          "scattermapbox": [
           {
            "marker": {
             "colorbar": {
              "outlinewidth": 0,
              "ticks": ""
             }
            },
            "type": "scattermapbox"
           }
          ],
          "scatterpolar": [
           {
            "marker": {
             "colorbar": {
              "outlinewidth": 0,
              "ticks": ""
             }
            },
            "type": "scatterpolar"
           }
          ],
          "scatterpolargl": [
           {
            "marker": {
             "colorbar": {
              "outlinewidth": 0,
              "ticks": ""
             }
            },
            "type": "scatterpolargl"
           }
          ],
          "scatterternary": [
           {
            "marker": {
             "colorbar": {
              "outlinewidth": 0,
              "ticks": ""
             }
            },
            "type": "scatterternary"
           }
          ],
          "surface": [
           {
            "colorbar": {
             "outlinewidth": 0,
             "ticks": ""
            },
            "colorscale": [
             [
              0,
              "#0d0887"
             ],
             [
              0.1111111111111111,
              "#46039f"
             ],
             [
              0.2222222222222222,
              "#7201a8"
             ],
             [
              0.3333333333333333,
              "#9c179e"
             ],
             [
              0.4444444444444444,
              "#bd3786"
             ],
             [
              0.5555555555555556,
              "#d8576b"
             ],
             [
              0.6666666666666666,
              "#ed7953"
             ],
             [
              0.7777777777777778,
              "#fb9f3a"
             ],
             [
              0.8888888888888888,
              "#fdca26"
             ],
             [
              1,
              "#f0f921"
             ]
            ],
            "type": "surface"
           }
          ],
          "table": [
           {
            "cells": {
             "fill": {
              "color": "#EBF0F8"
             },
             "line": {
              "color": "white"
             }
            },
            "header": {
             "fill": {
              "color": "#C8D4E3"
             },
             "line": {
              "color": "white"
             }
            },
            "type": "table"
           }
          ]
         },
         "layout": {
          "annotationdefaults": {
           "arrowcolor": "#2a3f5f",
           "arrowhead": 0,
           "arrowwidth": 1
          },
          "autotypenumbers": "strict",
          "coloraxis": {
           "colorbar": {
            "outlinewidth": 0,
            "ticks": ""
           }
          },
          "colorscale": {
           "diverging": [
            [
             0,
             "#8e0152"
            ],
            [
             0.1,
             "#c51b7d"
            ],
            [
             0.2,
             "#de77ae"
            ],
            [
             0.3,
             "#f1b6da"
            ],
            [
             0.4,
             "#fde0ef"
            ],
            [
             0.5,
             "#f7f7f7"
            ],
            [
             0.6,
             "#e6f5d0"
            ],
            [
             0.7,
             "#b8e186"
            ],
            [
             0.8,
             "#7fbc41"
            ],
            [
             0.9,
             "#4d9221"
            ],
            [
             1,
             "#276419"
            ]
           ],
           "sequential": [
            [
             0,
             "#0d0887"
            ],
            [
             0.1111111111111111,
             "#46039f"
            ],
            [
             0.2222222222222222,
             "#7201a8"
            ],
            [
             0.3333333333333333,
             "#9c179e"
            ],
            [
             0.4444444444444444,
             "#bd3786"
            ],
            [
             0.5555555555555556,
             "#d8576b"
            ],
            [
             0.6666666666666666,
             "#ed7953"
            ],
            [
             0.7777777777777778,
             "#fb9f3a"
            ],
            [
             0.8888888888888888,
             "#fdca26"
            ],
            [
             1,
             "#f0f921"
            ]
           ],
           "sequentialminus": [
            [
             0,
             "#0d0887"
            ],
            [
             0.1111111111111111,
             "#46039f"
            ],
            [
             0.2222222222222222,
             "#7201a8"
            ],
            [
             0.3333333333333333,
             "#9c179e"
            ],
            [
             0.4444444444444444,
             "#bd3786"
            ],
            [
             0.5555555555555556,
             "#d8576b"
            ],
            [
             0.6666666666666666,
             "#ed7953"
            ],
            [
             0.7777777777777778,
             "#fb9f3a"
            ],
            [
             0.8888888888888888,
             "#fdca26"
            ],
            [
             1,
             "#f0f921"
            ]
           ]
          },
          "colorway": [
           "#636efa",
           "#EF553B",
           "#00cc96",
           "#ab63fa",
           "#FFA15A",
           "#19d3f3",
           "#FF6692",
           "#B6E880",
           "#FF97FF",
           "#FECB52"
          ],
          "font": {
           "color": "#2a3f5f"
          },
          "geo": {
           "bgcolor": "white",
           "lakecolor": "white",
           "landcolor": "#E5ECF6",
           "showlakes": true,
           "showland": true,
           "subunitcolor": "white"
          },
          "hoverlabel": {
           "align": "left"
          },
          "hovermode": "closest",
          "mapbox": {
           "style": "light"
          },
          "paper_bgcolor": "white",
          "plot_bgcolor": "#E5ECF6",
          "polar": {
           "angularaxis": {
            "gridcolor": "white",
            "linecolor": "white",
            "ticks": ""
           },
           "bgcolor": "#E5ECF6",
           "radialaxis": {
            "gridcolor": "white",
            "linecolor": "white",
            "ticks": ""
           }
          },
          "scene": {
           "xaxis": {
            "backgroundcolor": "#E5ECF6",
            "gridcolor": "white",
            "gridwidth": 2,
            "linecolor": "white",
            "showbackground": true,
            "ticks": "",
            "zerolinecolor": "white"
           },
           "yaxis": {
            "backgroundcolor": "#E5ECF6",
            "gridcolor": "white",
            "gridwidth": 2,
            "linecolor": "white",
            "showbackground": true,
            "ticks": "",
            "zerolinecolor": "white"
           },
           "zaxis": {
            "backgroundcolor": "#E5ECF6",
            "gridcolor": "white",
            "gridwidth": 2,
            "linecolor": "white",
            "showbackground": true,
            "ticks": "",
            "zerolinecolor": "white"
           }
          },
          "shapedefaults": {
           "line": {
            "color": "#2a3f5f"
           }
          },
          "ternary": {
           "aaxis": {
            "gridcolor": "white",
            "linecolor": "white",
            "ticks": ""
           },
           "baxis": {
            "gridcolor": "white",
            "linecolor": "white",
            "ticks": ""
           },
           "bgcolor": "#E5ECF6",
           "caxis": {
            "gridcolor": "white",
            "linecolor": "white",
            "ticks": ""
           }
          },
          "title": {
           "x": 0.05
          },
          "xaxis": {
           "automargin": true,
           "gridcolor": "white",
           "linecolor": "white",
           "ticks": "",
           "title": {
            "standoff": 15
           },
           "zerolinecolor": "white",
           "zerolinewidth": 2
          },
          "yaxis": {
           "automargin": true,
           "gridcolor": "white",
           "linecolor": "white",
           "ticks": "",
           "title": {
            "standoff": 15
           },
           "zerolinecolor": "white",
           "zerolinewidth": 2
          }
         }
        },
        "title": {
         "text": "Kandidater for Aarhus"
        },
        "xaxis": {
         "tickmode": "array",
         "ticktext": [
          "Sabrina Holt (G.)",
          "Poul Krogsgård (Ø.)",
          "Stefan Bjarni Gudnason (G.)",
          "Allan Hagsten Nørlund (G.)",
          "Jasmine Søgaard (A.)",
          "Liv Gro Jensen (F.)",
          "Lissi Bagge (Å.)",
          "Martin Odgaard (Ø.)",
          "Ouafa Rian (B.)",
          "Thure Hastrup (Ø.)",
          "Katrine Vinther Nielsen (Ø.)",
          "Nanna Lippert Troelsen (F.)",
          "Tenna Duch Schaldemose (Å.)",
          "Carsten Andersen (Ø.)",
          "Jeppe Ulrich Lomholt (Ø.)",
          "Doris-Clarisse Lukunku (Ø.)",
          "Solveig Munk (Ø.)",
          "Torben Ernst Wandall (F.)",
          "Niels Kjeldsen (F.)",
          "Anders Gerding Yde (F.)",
          "Ivan Lauridsen (F.)",
          "Henrik Hjortshøj (K.)",
          "Peter Bonfils (A.)",
          "Lone Hindø (A.)",
          "Christian Baller (C.)",
          "Lisbeth Randlev Johnsen (F.)",
          "Sander Jensen (F.)",
          "Claus Vildrik (D.)",
          "Kenneth Koustrup (A.)",
          "Elin Carlsen (B.)",
          "Susanne Lund (C.)",
          "Bünyamin Simsek (V.)",
          "Johnny Willum (V.)",
          "Hanne Roed (B.)",
          "Anette Poulsen (A.)",
          "Mette Skautrup (C.)",
          "Simon Stadsholt (Ø.)",
          "Jakob Søgaard Clausen (O.)",
          "Henrik Ræder Clausen (D.)"
         ],
         "tickvals": [
          0,
          1,
          2,
          3,
          4,
          5,
          6,
          7,
          8,
          9,
          10,
          11,
          12,
          13,
          14,
          15,
          16,
          17,
          18,
          19,
          20,
          21,
          22,
          23,
          24,
          25,
          26,
          27,
          28,
          29,
          30,
          31,
          32,
          33,
          34,
          35,
          36,
          37,
          38
         ]
        }
       }
      },
      "text/html": [
       "<div>                            <div id=\"397a1eb7-2a4f-4d2f-9aa0-e0762e05a818\" class=\"plotly-graph-div\" style=\"height:525px; width:100%;\"></div>            <script type=\"text/javascript\">                require([\"plotly\"], function(Plotly) {                    window.PLOTLYENV=window.PLOTLYENV || {};                                    if (document.getElementById(\"397a1eb7-2a4f-4d2f-9aa0-e0762e05a818\")) {                    Plotly.newPlot(                        \"397a1eb7-2a4f-4d2f-9aa0-e0762e05a818\",                        [{\"labels\":[\"K\\u00f8dspiser\",\"Fleksitar\",\"Pescetar\",\"Vegetar\",\"Veganer\",\"\\u00d8nsker ikke at svare\"],\"marker\":{\"colors\":[\"red\",\"turquoise\",\"blue\",\"rgb(5,122,87)\",\"rgb(16,114,60)\",\"grey\"]},\"showlegend\":true,\"values\":[1,1,1,1,1,1],\"type\":\"pie\"},{\"hoverinfo\":[\"none\",\"x+y+text\"],\"hovertext\":[\"G. Veganerpartiet\",\"G. Veganerpartiet\"],\"line\":{\"color\":\"rgb(5,122,87)\"},\"marker\":{\"color\":\"blue\",\"size\":[0,12]},\"name\":\"Pescetar\",\"showlegend\":false,\"x\":[0,0],\"y\":[0,32],\"type\":\"scatter\"},{\"hoverinfo\":[\"none\",\"x+y+text\"],\"hovertext\":[\"\\u00d8. Enhedslisten\",\"\\u00d8. Enhedslisten\"],\"line\":{\"color\":\"rgb(5,122,87)\"},\"marker\":{\"color\":\"rgb(16,114,60)\",\"size\":[0,12]},\"name\":\"Veganer\",\"showlegend\":false,\"x\":[1,1],\"y\":[0,32],\"type\":\"scatter\"},{\"hoverinfo\":[\"none\",\"x+y+text\"],\"hovertext\":[\"G. Veganerpartiet\",\"G. Veganerpartiet\"],\"line\":{\"color\":\"rgb(5,122,87)\"},\"marker\":{\"color\":\"rgb(140,190,84)\",\"size\":[0,12]},\"name\":\"Vegetar\",\"showlegend\":false,\"x\":[2,2],\"y\":[0,32],\"type\":\"scatter\"},{\"hoverinfo\":[\"none\",\"x+y+text\"],\"hovertext\":[\"G. Veganerpartiet\",\"G. Veganerpartiet\"],\"line\":{\"color\":\"rgb(5,122,87)\"},\"marker\":{\"color\":\"red\",\"size\":[0,12]},\"name\":\"K\\u00f8dspiser\",\"showlegend\":false,\"x\":[3,3],\"y\":[0,32],\"type\":\"scatter\"},{\"hoverinfo\":[\"none\",\"x+y+text\"],\"hovertext\":[\"A. Socialdemokratiet\",\"A. Socialdemokratiet\"],\"line\":{\"color\":\"rgb(5,122,87)\"},\"marker\":{\"color\":\"turquoise\",\"size\":[0,12]},\"name\":\"Fleksitar\",\"showlegend\":false,\"x\":[4,4],\"y\":[0,31],\"type\":\"scatter\"},{\"hoverinfo\":[\"none\",\"x+y+text\"],\"hovertext\":[\"F. Socialistisk Folkeparti\",\"F. Socialistisk Folkeparti\"],\"line\":{\"color\":\"rgb(5,122,87)\"},\"marker\":{\"color\":\"rgb(16,114,60)\",\"size\":[0,12]},\"name\":\"Veganer\",\"showlegend\":false,\"x\":[5,5],\"y\":[0,31],\"type\":\"scatter\"},{\"hoverinfo\":[\"none\",\"x+y+text\"],\"hovertext\":[\"\\u00c5. Alternativet\",\"\\u00c5. Alternativet\"],\"line\":{\"color\":\"rgb(5,122,87)\"},\"marker\":{\"color\":\"red\",\"size\":[0,12]},\"name\":\"K\\u00f8dspiser\",\"showlegend\":false,\"x\":[6,6],\"y\":[0,31],\"type\":\"scatter\"},{\"hoverinfo\":[\"none\",\"x+y+text\"],\"hovertext\":[\"\\u00d8. Enhedslisten\",\"\\u00d8. Enhedslisten\"],\"line\":{\"color\":\"rgb(5,122,87)\"},\"marker\":{\"color\":\"rgb(16,114,60)\",\"size\":[0,12]},\"name\":\"Veganer\",\"showlegend\":false,\"x\":[7,7],\"y\":[0,31],\"type\":\"scatter\"},{\"hoverinfo\":[\"none\",\"x+y+text\"],\"hovertext\":[\"B. Det Radikale Venstre\",\"B. Det Radikale Venstre\"],\"line\":{\"color\":\"rgb(5,122,87)\"},\"marker\":{\"color\":\"rgb(16,114,60)\",\"size\":[0,12]},\"name\":\"Veganer\",\"showlegend\":false,\"x\":[8,8],\"y\":[0,30],\"type\":\"scatter\"},{\"hoverinfo\":[\"none\",\"x+y+text\"],\"hovertext\":[\"\\u00d8. Enhedslisten\",\"\\u00d8. Enhedslisten\"],\"line\":{\"color\":\"rgb(5,122,87)\"},\"marker\":{\"color\":\"red\",\"size\":[0,12]},\"name\":\"K\\u00f8dspiser\",\"showlegend\":false,\"x\":[9,9],\"y\":[0,28],\"type\":\"scatter\"},{\"hoverinfo\":[\"none\",\"x+y+text\"],\"hovertext\":[\"\\u00d8. Enhedslisten\",\"\\u00d8. Enhedslisten\"],\"line\":{\"color\":\"rgb(5,122,87)\"},\"marker\":{\"color\":\"red\",\"size\":[0,12]},\"name\":\"K\\u00f8dspiser\",\"showlegend\":false,\"x\":[10,10],\"y\":[0,28],\"type\":\"scatter\"},{\"hoverinfo\":[\"none\",\"x+y+text\"],\"hovertext\":[\"F. Socialistisk Folkeparti\",\"F. Socialistisk Folkeparti\"],\"line\":{\"color\":\"rgb(5,122,87)\"},\"marker\":{\"color\":\"red\",\"size\":[0,12]},\"name\":\"K\\u00f8dspiser\",\"showlegend\":false,\"x\":[11,11],\"y\":[0,28],\"type\":\"scatter\"},{\"hoverinfo\":[\"none\",\"x+y+text\"],\"hovertext\":[\"\\u00c5. Alternativet\",\"\\u00c5. Alternativet\"],\"line\":{\"color\":\"rgb(5,122,87)\"},\"marker\":{\"color\":\"blue\",\"size\":[0,12]},\"name\":\"Pescetar\",\"showlegend\":false,\"x\":[12,12],\"y\":[0,28],\"type\":\"scatter\"},{\"hoverinfo\":[\"none\",\"x+y+text\"],\"hovertext\":[\"\\u00d8. Enhedslisten\",\"\\u00d8. Enhedslisten\"],\"line\":{\"color\":\"rgb(5,122,87)\"},\"marker\":{\"color\":\"rgb(16,114,60)\",\"size\":[0,12]},\"name\":\"Veganer\",\"showlegend\":false,\"x\":[13,13],\"y\":[0,27],\"type\":\"scatter\"},{\"hoverinfo\":[\"none\",\"x+y+text\"],\"hovertext\":[\"\\u00d8. Enhedslisten\",\"\\u00d8. Enhedslisten\"],\"line\":{\"color\":\"rgb(5,122,87)\"},\"marker\":{\"color\":\"rgb(140,190,84)\",\"size\":[0,12]},\"name\":\"Vegetar\",\"showlegend\":false,\"x\":[14,14],\"y\":[0,27],\"type\":\"scatter\"},{\"hoverinfo\":[\"none\",\"x+y+text\"],\"hovertext\":[\"\\u00d8. Enhedslisten\",\"\\u00d8. Enhedslisten\"],\"line\":{\"color\":\"rgb(5,122,87)\"},\"marker\":{\"color\":\"blue\",\"size\":[0,12]},\"name\":\"Pescetar\",\"showlegend\":false,\"x\":[15,15],\"y\":[0,27],\"type\":\"scatter\"},{\"hoverinfo\":[\"none\",\"x+y+text\"],\"hovertext\":[\"\\u00d8. Enhedslisten\",\"\\u00d8. Enhedslisten\"],\"line\":{\"color\":\"rgb(5,122,87)\"},\"marker\":{\"color\":\"blue\",\"size\":[0,12]},\"name\":\"Pescetar\",\"showlegend\":false,\"x\":[16,16],\"y\":[0,26],\"type\":\"scatter\"},{\"hoverinfo\":[\"none\",\"x+y+text\"],\"hovertext\":[\"F. Socialistisk Folkeparti\",\"F. Socialistisk Folkeparti\"],\"line\":{\"color\":\"rgb(5,122,87)\"},\"marker\":{\"color\":\"blue\",\"size\":[0,12]},\"name\":\"Pescetar\",\"showlegend\":false,\"x\":[17,17],\"y\":[0,23],\"type\":\"scatter\"},{\"hoverinfo\":[\"none\",\"x+y+text\"],\"hovertext\":[\"F. Socialistisk Folkeparti\",\"F. Socialistisk Folkeparti\"],\"line\":{\"color\":\"rgb(5,122,87)\"},\"marker\":{\"color\":\"red\",\"size\":[0,12]},\"name\":\"K\\u00f8dspiser\",\"showlegend\":false,\"x\":[18,18],\"y\":[0,23],\"type\":\"scatter\"},{\"hoverinfo\":[\"none\",\"x+y+text\"],\"hovertext\":[\"F. Socialistisk Folkeparti\",\"F. Socialistisk Folkeparti\"],\"line\":{\"color\":\"rgb(5,122,87)\"},\"marker\":{\"color\":\"rgb(140,190,84)\",\"size\":[0,12]},\"name\":\"Vegetar\",\"showlegend\":false,\"x\":[19,19],\"y\":[0,22],\"type\":\"scatter\"},{\"hoverinfo\":[\"none\",\"x+y+text\"],\"hovertext\":[\"F. Socialistisk Folkeparti\",\"F. Socialistisk Folkeparti\"],\"line\":{\"color\":\"rgb(5,122,87)\"},\"marker\":{\"color\":\"turquoise\",\"size\":[0,12]},\"name\":\"Fleksitar\",\"showlegend\":false,\"x\":[20,20],\"y\":[0,22],\"type\":\"scatter\"},{\"hoverinfo\":[\"none\",\"x+y+text\"],\"hovertext\":[\"K. Kristendemokraterne\",\"K. Kristendemokraterne\"],\"line\":{\"color\":\"rgb(5,122,87)\"},\"marker\":{\"color\":\"turquoise\",\"size\":[0,12]},\"name\":\"Fleksitar\",\"showlegend\":false,\"x\":[21,21],\"y\":[0,22],\"type\":\"scatter\"},{\"hoverinfo\":[\"none\",\"x+y+text\"],\"hovertext\":[\"A. Socialdemokratiet\",\"A. Socialdemokratiet\"],\"line\":{\"color\":\"rgb(5,122,87)\"},\"marker\":{\"color\":\"red\",\"size\":[0,12]},\"name\":\"K\\u00f8dspiser\",\"showlegend\":false,\"x\":[22,22],\"y\":[0,20],\"type\":\"scatter\"},{\"hoverinfo\":[\"none\",\"x+y+text\"],\"hovertext\":[\"A. Socialdemokratiet\",\"A. Socialdemokratiet\"],\"line\":{\"color\":\"rgb(5,122,87)\"},\"marker\":{\"color\":\"rgb(140,190,84)\",\"size\":[0,12]},\"name\":\"Vegetar\",\"showlegend\":false,\"x\":[23,23],\"y\":[0,19],\"type\":\"scatter\"},{\"hoverinfo\":[\"none\",\"x+y+text\"],\"hovertext\":[\"C. Det Konservative Folkeparti\",\"C. Det Konservative Folkeparti\"],\"line\":{\"color\":\"rgb(5,122,87)\"},\"marker\":{\"color\":\"rgb(140,190,84)\",\"size\":[0,12]},\"name\":\"Vegetar\",\"showlegend\":false,\"x\":[24,24],\"y\":[0,19],\"type\":\"scatter\"},{\"hoverinfo\":[\"none\",\"x+y+text\"],\"hovertext\":[\"F. Socialistisk Folkeparti\",\"F. Socialistisk Folkeparti\"],\"line\":{\"color\":\"rgb(5,122,87)\"},\"marker\":{\"color\":\"rgb(140,190,84)\",\"size\":[0,12]},\"name\":\"Vegetar\",\"showlegend\":false,\"x\":[25,25],\"y\":[0,17],\"type\":\"scatter\"},{\"hoverinfo\":[\"none\",\"x+y+text\"],\"hovertext\":[\"F. Socialistisk Folkeparti\",\"F. Socialistisk Folkeparti\"],\"line\":{\"color\":\"rgb(5,122,87)\"},\"marker\":{\"color\":\"blue\",\"size\":[0,12]},\"name\":\"Pescetar\",\"showlegend\":false,\"x\":[26,26],\"y\":[0,16],\"type\":\"scatter\"},{\"hoverinfo\":[\"none\",\"x+y+text\"],\"hovertext\":[\"D. Nye Borgerlige\",\"D. Nye Borgerlige\"],\"line\":{\"color\":\"rgb(5,122,87)\"},\"marker\":{\"color\":\"blue\",\"size\":[0,12]},\"name\":\"Pescetar\",\"showlegend\":false,\"x\":[27,27],\"y\":[0,16],\"type\":\"scatter\"},{\"hoverinfo\":[\"none\",\"x+y+text\"],\"hovertext\":[\"A. Socialdemokratiet\",\"A. Socialdemokratiet\"],\"line\":{\"color\":\"rgb(5,122,87)\"},\"marker\":{\"color\":\"rgb(16,114,60)\",\"size\":[0,12]},\"name\":\"Veganer\",\"showlegend\":false,\"x\":[28,28],\"y\":[0,15],\"type\":\"scatter\"},{\"hoverinfo\":[\"none\",\"x+y+text\"],\"hovertext\":[\"B. Det Radikale Venstre\",\"B. Det Radikale Venstre\"],\"line\":{\"color\":\"rgb(5,122,87)\"},\"marker\":{\"color\":\"rgb(16,114,60)\",\"size\":[0,12]},\"name\":\"Veganer\",\"showlegend\":false,\"x\":[29,29],\"y\":[0,12],\"type\":\"scatter\"},{\"hoverinfo\":[\"none\",\"x+y+text\"],\"hovertext\":[\"C. Det Konservative Folkeparti\",\"C. Det Konservative Folkeparti\"],\"line\":{\"color\":\"rgb(5,122,87)\"},\"marker\":{\"color\":\"rgb(16,114,60)\",\"size\":[0,12]},\"name\":\"Veganer\",\"showlegend\":false,\"x\":[30,30],\"y\":[0,11],\"type\":\"scatter\"},{\"hoverinfo\":[\"none\",\"x+y+text\"],\"hovertext\":[\"V. Venstre\",\"V. Venstre\"],\"line\":{\"color\":\"rgb(5,122,87)\"},\"marker\":{\"color\":\"red\",\"size\":[0,12]},\"name\":\"K\\u00f8dspiser\",\"showlegend\":false,\"x\":[31,31],\"y\":[0,10],\"type\":\"scatter\"},{\"hoverinfo\":[\"none\",\"x+y+text\"],\"hovertext\":[\"V. Venstre\",\"V. Venstre\"],\"line\":{\"color\":\"rgb(5,122,87)\"},\"marker\":{\"color\":\"rgb(16,114,60)\",\"size\":[0,12]},\"name\":\"Veganer\",\"showlegend\":false,\"x\":[32,32],\"y\":[0,10],\"type\":\"scatter\"},{\"hoverinfo\":[\"none\",\"x+y+text\"],\"hovertext\":[\"B. Det Radikale Venstre\",\"B. Det Radikale Venstre\"],\"line\":{\"color\":\"rgb(5,122,87)\"},\"marker\":{\"color\":\"rgb(16,114,60)\",\"size\":[0,12]},\"name\":\"Veganer\",\"showlegend\":false,\"x\":[33,33],\"y\":[0,10],\"type\":\"scatter\"},{\"hoverinfo\":[\"none\",\"x+y+text\"],\"hovertext\":[\"A. Socialdemokratiet\",\"A. Socialdemokratiet\"],\"line\":{\"color\":\"rgb(5,122,87)\"},\"marker\":{\"color\":\"rgb(16,114,60)\",\"size\":[0,12]},\"name\":\"Veganer\",\"showlegend\":false,\"x\":[34,34],\"y\":[0,10],\"type\":\"scatter\"},{\"hoverinfo\":[\"none\",\"x+y+text\"],\"hovertext\":[\"C. Det Konservative Folkeparti\",\"C. Det Konservative Folkeparti\"],\"line\":{\"color\":\"rgb(5,122,87)\"},\"marker\":{\"color\":\"rgb(16,114,60)\",\"size\":[0,12]},\"name\":\"Veganer\",\"showlegend\":false,\"x\":[35,35],\"y\":[0,9],\"type\":\"scatter\"},{\"hoverinfo\":[\"none\",\"x+y+text\"],\"hovertext\":[\"\\u00d8. Enhedslisten\",\"\\u00d8. Enhedslisten\"],\"line\":{\"color\":\"rgb(5,122,87)\"},\"marker\":{\"color\":\"rgb(16,114,60)\",\"size\":[0,12]},\"name\":\"Veganer\",\"showlegend\":false,\"x\":[36,36],\"y\":[0,8],\"type\":\"scatter\"},{\"hoverinfo\":[\"none\",\"x+y+text\"],\"hovertext\":[\"O. Dansk Folkeparti\",\"O. Dansk Folkeparti\"],\"line\":{\"color\":\"rgb(5,122,87)\"},\"marker\":{\"color\":\"rgb(16,114,60)\",\"size\":[0,12]},\"name\":\"Veganer\",\"showlegend\":false,\"x\":[37,37],\"y\":[0,6],\"type\":\"scatter\"},{\"hoverinfo\":[\"none\",\"x+y+text\"],\"hovertext\":[\"D. Nye Borgerlige\",\"D. Nye Borgerlige\"],\"line\":{\"color\":\"rgb(5,122,87)\"},\"marker\":{\"color\":\"rgb(16,114,60)\",\"size\":[0,12]},\"name\":\"Veganer\",\"showlegend\":false,\"x\":[38,38],\"y\":[0,4],\"type\":\"scatter\"}],                        {\"template\":{\"data\":{\"histogram2dcontour\":[{\"type\":\"histogram2dcontour\",\"colorbar\":{\"outlinewidth\":0,\"ticks\":\"\"},\"colorscale\":[[0.0,\"#0d0887\"],[0.1111111111111111,\"#46039f\"],[0.2222222222222222,\"#7201a8\"],[0.3333333333333333,\"#9c179e\"],[0.4444444444444444,\"#bd3786\"],[0.5555555555555556,\"#d8576b\"],[0.6666666666666666,\"#ed7953\"],[0.7777777777777778,\"#fb9f3a\"],[0.8888888888888888,\"#fdca26\"],[1.0,\"#f0f921\"]]}],\"choropleth\":[{\"type\":\"choropleth\",\"colorbar\":{\"outlinewidth\":0,\"ticks\":\"\"}}],\"histogram2d\":[{\"type\":\"histogram2d\",\"colorbar\":{\"outlinewidth\":0,\"ticks\":\"\"},\"colorscale\":[[0.0,\"#0d0887\"],[0.1111111111111111,\"#46039f\"],[0.2222222222222222,\"#7201a8\"],[0.3333333333333333,\"#9c179e\"],[0.4444444444444444,\"#bd3786\"],[0.5555555555555556,\"#d8576b\"],[0.6666666666666666,\"#ed7953\"],[0.7777777777777778,\"#fb9f3a\"],[0.8888888888888888,\"#fdca26\"],[1.0,\"#f0f921\"]]}],\"heatmap\":[{\"type\":\"heatmap\",\"colorbar\":{\"outlinewidth\":0,\"ticks\":\"\"},\"colorscale\":[[0.0,\"#0d0887\"],[0.1111111111111111,\"#46039f\"],[0.2222222222222222,\"#7201a8\"],[0.3333333333333333,\"#9c179e\"],[0.4444444444444444,\"#bd3786\"],[0.5555555555555556,\"#d8576b\"],[0.6666666666666666,\"#ed7953\"],[0.7777777777777778,\"#fb9f3a\"],[0.8888888888888888,\"#fdca26\"],[1.0,\"#f0f921\"]]}],\"heatmapgl\":[{\"type\":\"heatmapgl\",\"colorbar\":{\"outlinewidth\":0,\"ticks\":\"\"},\"colorscale\":[[0.0,\"#0d0887\"],[0.1111111111111111,\"#46039f\"],[0.2222222222222222,\"#7201a8\"],[0.3333333333333333,\"#9c179e\"],[0.4444444444444444,\"#bd3786\"],[0.5555555555555556,\"#d8576b\"],[0.6666666666666666,\"#ed7953\"],[0.7777777777777778,\"#fb9f3a\"],[0.8888888888888888,\"#fdca26\"],[1.0,\"#f0f921\"]]}],\"contourcarpet\":[{\"type\":\"contourcarpet\",\"colorbar\":{\"outlinewidth\":0,\"ticks\":\"\"}}],\"contour\":[{\"type\":\"contour\",\"colorbar\":{\"outlinewidth\":0,\"ticks\":\"\"},\"colorscale\":[[0.0,\"#0d0887\"],[0.1111111111111111,\"#46039f\"],[0.2222222222222222,\"#7201a8\"],[0.3333333333333333,\"#9c179e\"],[0.4444444444444444,\"#bd3786\"],[0.5555555555555556,\"#d8576b\"],[0.6666666666666666,\"#ed7953\"],[0.7777777777777778,\"#fb9f3a\"],[0.8888888888888888,\"#fdca26\"],[1.0,\"#f0f921\"]]}],\"surface\":[{\"type\":\"surface\",\"colorbar\":{\"outlinewidth\":0,\"ticks\":\"\"},\"colorscale\":[[0.0,\"#0d0887\"],[0.1111111111111111,\"#46039f\"],[0.2222222222222222,\"#7201a8\"],[0.3333333333333333,\"#9c179e\"],[0.4444444444444444,\"#bd3786\"],[0.5555555555555556,\"#d8576b\"],[0.6666666666666666,\"#ed7953\"],[0.7777777777777778,\"#fb9f3a\"],[0.8888888888888888,\"#fdca26\"],[1.0,\"#f0f921\"]]}],\"mesh3d\":[{\"type\":\"mesh3d\",\"colorbar\":{\"outlinewidth\":0,\"ticks\":\"\"}}],\"scatter\":[{\"fillpattern\":{\"fillmode\":\"overlay\",\"size\":10,\"solidity\":0.2},\"type\":\"scatter\"}],\"parcoords\":[{\"type\":\"parcoords\",\"line\":{\"colorbar\":{\"outlinewidth\":0,\"ticks\":\"\"}}}],\"scatterpolargl\":[{\"type\":\"scatterpolargl\",\"marker\":{\"colorbar\":{\"outlinewidth\":0,\"ticks\":\"\"}}}],\"bar\":[{\"error_x\":{\"color\":\"#2a3f5f\"},\"error_y\":{\"color\":\"#2a3f5f\"},\"marker\":{\"line\":{\"color\":\"#E5ECF6\",\"width\":0.5},\"pattern\":{\"fillmode\":\"overlay\",\"size\":10,\"solidity\":0.2}},\"type\":\"bar\"}],\"scattergeo\":[{\"type\":\"scattergeo\",\"marker\":{\"colorbar\":{\"outlinewidth\":0,\"ticks\":\"\"}}}],\"scatterpolar\":[{\"type\":\"scatterpolar\",\"marker\":{\"colorbar\":{\"outlinewidth\":0,\"ticks\":\"\"}}}],\"histogram\":[{\"marker\":{\"pattern\":{\"fillmode\":\"overlay\",\"size\":10,\"solidity\":0.2}},\"type\":\"histogram\"}],\"scattergl\":[{\"type\":\"scattergl\",\"marker\":{\"colorbar\":{\"outlinewidth\":0,\"ticks\":\"\"}}}],\"scatter3d\":[{\"type\":\"scatter3d\",\"line\":{\"colorbar\":{\"outlinewidth\":0,\"ticks\":\"\"}},\"marker\":{\"colorbar\":{\"outlinewidth\":0,\"ticks\":\"\"}}}],\"scattermapbox\":[{\"type\":\"scattermapbox\",\"marker\":{\"colorbar\":{\"outlinewidth\":0,\"ticks\":\"\"}}}],\"scatterternary\":[{\"type\":\"scatterternary\",\"marker\":{\"colorbar\":{\"outlinewidth\":0,\"ticks\":\"\"}}}],\"scattercarpet\":[{\"type\":\"scattercarpet\",\"marker\":{\"colorbar\":{\"outlinewidth\":0,\"ticks\":\"\"}}}],\"carpet\":[{\"aaxis\":{\"endlinecolor\":\"#2a3f5f\",\"gridcolor\":\"white\",\"linecolor\":\"white\",\"minorgridcolor\":\"white\",\"startlinecolor\":\"#2a3f5f\"},\"baxis\":{\"endlinecolor\":\"#2a3f5f\",\"gridcolor\":\"white\",\"linecolor\":\"white\",\"minorgridcolor\":\"white\",\"startlinecolor\":\"#2a3f5f\"},\"type\":\"carpet\"}],\"table\":[{\"cells\":{\"fill\":{\"color\":\"#EBF0F8\"},\"line\":{\"color\":\"white\"}},\"header\":{\"fill\":{\"color\":\"#C8D4E3\"},\"line\":{\"color\":\"white\"}},\"type\":\"table\"}],\"barpolar\":[{\"marker\":{\"line\":{\"color\":\"#E5ECF6\",\"width\":0.5},\"pattern\":{\"fillmode\":\"overlay\",\"size\":10,\"solidity\":0.2}},\"type\":\"barpolar\"}],\"pie\":[{\"automargin\":true,\"type\":\"pie\"}]},\"layout\":{\"autotypenumbers\":\"strict\",\"colorway\":[\"#636efa\",\"#EF553B\",\"#00cc96\",\"#ab63fa\",\"#FFA15A\",\"#19d3f3\",\"#FF6692\",\"#B6E880\",\"#FF97FF\",\"#FECB52\"],\"font\":{\"color\":\"#2a3f5f\"},\"hovermode\":\"closest\",\"hoverlabel\":{\"align\":\"left\"},\"paper_bgcolor\":\"white\",\"plot_bgcolor\":\"#E5ECF6\",\"polar\":{\"bgcolor\":\"#E5ECF6\",\"angularaxis\":{\"gridcolor\":\"white\",\"linecolor\":\"white\",\"ticks\":\"\"},\"radialaxis\":{\"gridcolor\":\"white\",\"linecolor\":\"white\",\"ticks\":\"\"}},\"ternary\":{\"bgcolor\":\"#E5ECF6\",\"aaxis\":{\"gridcolor\":\"white\",\"linecolor\":\"white\",\"ticks\":\"\"},\"baxis\":{\"gridcolor\":\"white\",\"linecolor\":\"white\",\"ticks\":\"\"},\"caxis\":{\"gridcolor\":\"white\",\"linecolor\":\"white\",\"ticks\":\"\"}},\"coloraxis\":{\"colorbar\":{\"outlinewidth\":0,\"ticks\":\"\"}},\"colorscale\":{\"sequential\":[[0.0,\"#0d0887\"],[0.1111111111111111,\"#46039f\"],[0.2222222222222222,\"#7201a8\"],[0.3333333333333333,\"#9c179e\"],[0.4444444444444444,\"#bd3786\"],[0.5555555555555556,\"#d8576b\"],[0.6666666666666666,\"#ed7953\"],[0.7777777777777778,\"#fb9f3a\"],[0.8888888888888888,\"#fdca26\"],[1.0,\"#f0f921\"]],\"sequentialminus\":[[0.0,\"#0d0887\"],[0.1111111111111111,\"#46039f\"],[0.2222222222222222,\"#7201a8\"],[0.3333333333333333,\"#9c179e\"],[0.4444444444444444,\"#bd3786\"],[0.5555555555555556,\"#d8576b\"],[0.6666666666666666,\"#ed7953\"],[0.7777777777777778,\"#fb9f3a\"],[0.8888888888888888,\"#fdca26\"],[1.0,\"#f0f921\"]],\"diverging\":[[0,\"#8e0152\"],[0.1,\"#c51b7d\"],[0.2,\"#de77ae\"],[0.3,\"#f1b6da\"],[0.4,\"#fde0ef\"],[0.5,\"#f7f7f7\"],[0.6,\"#e6f5d0\"],[0.7,\"#b8e186\"],[0.8,\"#7fbc41\"],[0.9,\"#4d9221\"],[1,\"#276419\"]]},\"xaxis\":{\"gridcolor\":\"white\",\"linecolor\":\"white\",\"ticks\":\"\",\"title\":{\"standoff\":15},\"zerolinecolor\":\"white\",\"automargin\":true,\"zerolinewidth\":2},\"yaxis\":{\"gridcolor\":\"white\",\"linecolor\":\"white\",\"ticks\":\"\",\"title\":{\"standoff\":15},\"zerolinecolor\":\"white\",\"automargin\":true,\"zerolinewidth\":2},\"scene\":{\"xaxis\":{\"backgroundcolor\":\"#E5ECF6\",\"gridcolor\":\"white\",\"linecolor\":\"white\",\"showbackground\":true,\"ticks\":\"\",\"zerolinecolor\":\"white\",\"gridwidth\":2},\"yaxis\":{\"backgroundcolor\":\"#E5ECF6\",\"gridcolor\":\"white\",\"linecolor\":\"white\",\"showbackground\":true,\"ticks\":\"\",\"zerolinecolor\":\"white\",\"gridwidth\":2},\"zaxis\":{\"backgroundcolor\":\"#E5ECF6\",\"gridcolor\":\"white\",\"linecolor\":\"white\",\"showbackground\":true,\"ticks\":\"\",\"zerolinecolor\":\"white\",\"gridwidth\":2}},\"shapedefaults\":{\"line\":{\"color\":\"#2a3f5f\"}},\"annotationdefaults\":{\"arrowcolor\":\"#2a3f5f\",\"arrowhead\":0,\"arrowwidth\":1},\"geo\":{\"bgcolor\":\"white\",\"landcolor\":\"#E5ECF6\",\"subunitcolor\":\"white\",\"showland\":true,\"showlakes\":true,\"lakecolor\":\"white\"},\"title\":{\"x\":0.05},\"mapbox\":{\"style\":\"light\"}}},\"shapes\":[{\"line\":{\"color\":\"rgb(5,122,87)\",\"dash\":\"dash\",\"width\":0.5},\"type\":\"line\",\"x0\":0,\"x1\":1,\"xref\":\"x domain\",\"y0\":21.153846153846153,\"y1\":21.153846153846153,\"yref\":\"y\"}],\"annotations\":[{\"showarrow\":false,\"text\":\"Kommune gennemsnit\",\"x\":1,\"xanchor\":\"right\",\"xref\":\"x domain\",\"y\":21.153846153846153,\"yanchor\":\"top\",\"yref\":\"y\"}],\"xaxis\":{\"tickmode\":\"array\",\"tickvals\":[0,1,2,3,4,5,6,7,8,9,10,11,12,13,14,15,16,17,18,19,20,21,22,23,24,25,26,27,28,29,30,31,32,33,34,35,36,37,38],\"ticktext\":[\"Sabrina Holt (G.)\",\"Poul Krogsg\\u00e5rd (\\u00d8.)\",\"Stefan Bjarni Gudnason (G.)\",\"Allan Hagsten N\\u00f8rlund (G.)\",\"Jasmine S\\u00f8gaard (A.)\",\"Liv Gro Jensen (F.)\",\"Lissi Bagge (\\u00c5.)\",\"Martin Odgaard (\\u00d8.)\",\"Ouafa Rian (B.)\",\"Thure Hastrup (\\u00d8.)\",\"Katrine Vinther Nielsen (\\u00d8.)\",\"Nanna Lippert Troelsen (F.)\",\"Tenna Duch Schaldemose (\\u00c5.)\",\"Carsten Andersen (\\u00d8.)\",\"Jeppe Ulrich Lomholt (\\u00d8.)\",\"Doris-Clarisse Lukunku (\\u00d8.)\",\"Solveig Munk (\\u00d8.)\",\"Torben Ernst Wandall (F.)\",\"Niels Kjeldsen (F.)\",\"Anders Gerding Yde (F.)\",\"Ivan Lauridsen (F.)\",\"Henrik Hjortsh\\u00f8j (K.)\",\"Peter Bonfils (A.)\",\"Lone Hind\\u00f8 (A.)\",\"Christian Baller (C.)\",\"Lisbeth Randlev Johnsen (F.)\",\"Sander Jensen (F.)\",\"Claus Vildrik (D.)\",\"Kenneth Koustrup (A.)\",\"Elin Carlsen (B.)\",\"Susanne Lund (C.)\",\"B\\u00fcnyamin Simsek (V.)\",\"Johnny Willum (V.)\",\"Hanne Roed (B.)\",\"Anette Poulsen (A.)\",\"Mette Skautrup (C.)\",\"Simon Stadsholt (\\u00d8.)\",\"Jakob S\\u00f8gaard Clausen (O.)\",\"Henrik R\\u00e6der Clausen (D.)\"]},\"title\":{\"text\":\"Kandidater for Aarhus\"}},                        {\"responsive\": true}                    ).then(function(){\n",
       "                            \n",
       "var gd = document.getElementById('397a1eb7-2a4f-4d2f-9aa0-e0762e05a818');\n",
       "var x = new MutationObserver(function (mutations, observer) {{\n",
       "        var display = window.getComputedStyle(gd).display;\n",
       "        if (!display || display === 'none') {{\n",
       "            console.log([gd, 'removed!']);\n",
       "            Plotly.purge(gd);\n",
       "            observer.disconnect();\n",
       "        }}\n",
       "}});\n",
       "\n",
       "// Listen for the removal of the full notebook cells\n",
       "var notebookContainer = gd.closest('#notebook-container');\n",
       "if (notebookContainer) {{\n",
       "    x.observe(notebookContainer, {childList: true});\n",
       "}}\n",
       "\n",
       "// Listen for the clearing of the current output cell\n",
       "var outputEl = gd.closest('.output');\n",
       "if (outputEl) {{\n",
       "    x.observe(outputEl, {childList: true});\n",
       "}}\n",
       "\n",
       "                        })                };                });            </script>        </div>"
      ]
     },
     "metadata": {},
     "output_type": "display_data"
    }
   ],
   "source": [
    "fig = go.Figure()\n",
    "df_temp = df_nameIndex[df_nameIndex[\"Kommune\"]==kommune]\n",
    "df_temp = df_temp.sort_values(\"Score\", ascending = False)\n",
    "\n",
    "\n",
    "fig.add_trace(go.Pie(labels=list(kost_color.keys()),\n",
    "                     values=[1,1,1,1,1,1],\n",
    "                     marker_colors = list(kost_color.values()),\n",
    "                     showlegend=True,\n",
    "                            ))\n",
    "\n",
    "\n",
    "for i, mean in enumerate(df_temp[\"Score\"]):        \n",
    "    candidate = df_temp.index[i]\n",
    "    fig.add_trace(go.Scatter(x=[i,i],y=[0,mean],\n",
    "                             marker_size = [0,12],\n",
    "                             marker_color = df_temp[\"Kost_color\"][i],\n",
    "                             line=go.scatter.Line(color=veggieGreen),\n",
    "                             hovertext=[df_temp.loc[candidate][\"Parti\"],df_temp.loc[candidate][\"Parti\"]],\n",
    "                             showlegend=False,\n",
    "                             hoverinfo=[\"none\",\"x+y+text\"],\n",
    "                             name=df_temp[\"Kost\"][i]\n",
    "                             )\n",
    "                  )\n",
    "\n",
    "kost_color = {\"Kødspiser\":\"red\", \"Fleksitar\":\"turquoise\",\"Pescetar\":\"blue\", \"Vegetar\":veggieGreen,\"Veganer\":veganGreen\n",
    "              ,\"Ønsker ikke at svare\" : \"grey\"}\n",
    "# for k, v in kost_color.items():\n",
    "#     fig.add_trace(go.Scatter(x=[0],y=[0],\n",
    "#                              marker_size = [0],\n",
    "#                              marker_color = v,\n",
    "#                              name=k\n",
    "#                             ))\n",
    "\n",
    "\n",
    "\n",
    "\n",
    "# fig.update_layout(legend= {'itemsizing': 'constant',\n",
    "# #                             \"symbol\":\"circle\"\n",
    "#                                })\n",
    "    \n",
    "fig.add_hline(y=df_temp[\"Score\"].mean(), \n",
    "        line_width=0.5, \n",
    "        line_dash=\"dash\", \n",
    "        line_color=veggieGreen,\n",
    "        annotation_text=\"Kommune gennemsnit\", \n",
    "        annotation_position=\"bottom right\")\n",
    "\n",
    "\n",
    "\n",
    "tickvals_ = list(range(len(df_temp)))\n",
    "ticktext_ = list(df_temp.index)\n",
    "fig.update_layout(\n",
    "    xaxis = dict(\n",
    "        tickmode = \"array\",\n",
    "        tickvals = tickvals_,\n",
    "        ticktext = ticktext_),\n",
    "    title = {\"text\":f\"Kandidater for {kommune}\"}\n",
    ")\n"
   ]
  },
  {
   "cell_type": "code",
   "execution_count": null,
   "id": "7fe9e14f",
   "metadata": {},
   "outputs": [],
   "source": [
    "fig = go.Figure(data=go.Scatter(\n",
    "    x=[1, 2, 3, 4],\n",
    "    y=[10, 11, 12, 13],\n",
    "    mode='markers',\n",
    "    marker=dict(size=[40, 60, 80, 100],\n",
    "                color=[\"red\", \"yellow\", \"green\", \"blue\"])\n",
    "))\n",
    "\n",
    "fig.show()"
   ]
  },
  {
   "cell_type": "markdown",
   "id": "e5f57e38",
   "metadata": {},
   "source": [
    "# Pie-chart"
   ]
  },
  {
   "cell_type": "code",
   "execution_count": null,
   "id": "294aeb35",
   "metadata": {},
   "outputs": [],
   "source": [
    "# df_temp =  df_nameIndex[df_nameIndex[\"Kommune\"]==df_nameIndex[\"Kommune\"][10]]\n",
    "# answer_labels = {2:\"Enig\", 1:\"Delvist Enig\",0: \"Uenig\"}\n",
    "# df_temp[\"question_labels\"] = [answer_labels[x] for x in df_temp[df_temp.columns[5]]]\n",
    "\n",
    "\n",
    "df_pie = df_temp.groupby(df_temp.columns[5]).count()\n",
    "df_pie2 = df_temp.groupby(df_temp.columns[6]).count()\n",
    "\n",
    "\n",
    "# labels = [\"Enig\", \"Delvist Enig\", \"Uenig\"]\n",
    "# df_pie.reindex(labels)[\"Score\"]"
   ]
  },
  {
   "cell_type": "code",
   "execution_count": null,
   "id": "53ca374b",
   "metadata": {},
   "outputs": [],
   "source": [
    "df_temp[question]"
   ]
  },
  {
   "cell_type": "code",
   "execution_count": null,
   "id": "85428dfa",
   "metadata": {},
   "outputs": [],
   "source": [
    "df_temp =  df_nameIndex[df_nameIndex[\"Kommune\"]==kommune]\n",
    "df_temp = df_temp.sort_values(question, ascending = False)\n",
    "\n",
    "\n",
    "# labels for piechart - kommune\n",
    "value_labels = {0:\"Uenig\", 1:\"Delvist Enig\", 2:\"Enig\"}\n",
    "answers_kommune = pd.Series([value_labels[x] for x in df_temp[question]], \n",
    "                              index =df_temp.index)\n",
    "labels_kommune = list(answers_kommune.unique())\n",
    "\n",
    "# Value for kommune\n",
    "df_pie = df_temp.groupby(df_temp[question]).count()\n",
    "value_kommune = df_pie[\"Score\"]\n",
    "\n",
    "# Colors kommune\n",
    "color_dict = { \"Enig\":'rgb(15,122,55)',\"Delvist Enig\": 'rgb(169,220,163)',\"Uenig\":'rgb(218,241,212)'}\n",
    "colors_pie = {}\n",
    "for answer in labels_kommune:\n",
    "    colors_pie[answer] = color_dict[answer]\n",
    "\n",
    "fig = go.Figure()\n",
    "\n",
    "fig.add_trace(go.Pie(labels=labels_kommune, \n",
    "                            values=value_kommune, \n",
    "                            hole=0.6,\n",
    "                            marker_colors = list(colors_pie.values()),\n",
    "                            ))\n"
   ]
  },
  {
   "cell_type": "code",
   "execution_count": null,
   "id": "d2ea4186",
   "metadata": {},
   "outputs": [],
   "source": [
    "df_temp"
   ]
  },
  {
   "cell_type": "code",
   "execution_count": null,
   "id": "f6fa08a8",
   "metadata": {},
   "outputs": [],
   "source": [
    "df_temp =  df_nameIndex[df_nameIndex[\"Kommune\"]==kommune]\n",
    "df_temp = df_temp.sort_values(question, ascending = False)\n",
    "\n",
    "\n",
    "fig_pie = make_subplots(rows=1, cols=2, specs=[[{'type':'domain'}, {'type':'domain'}]])\n",
    "\n",
    "# labels for piechart - kommune\n",
    "value_labels = {0:\"Uenig\", 1:\"Delvist Enig\", 2:\"Enig\"}\n",
    "answers_kommune = pd.Series([value_labels[x] for x in df_temp[question]], \n",
    "                              index =df_temp.index)\n",
    "labels_kommune = list(answers_kommune.unique())\n",
    "\n",
    "# Value for kommune\n",
    "df_pie = df_temp.groupby(df_temp[question]).count()\n",
    "value_kommune = df_pie[\"Score\"]\n",
    "\n",
    "# Colors kommune\n",
    "color_dict = { \"Enig\":'rgb(15,122,55)',\"Delvist Enig\": 'rgb(169,220,163)',\"Uenig\":'rgb(218,241,212)'}\n",
    "colors_pie = {}\n",
    "for answer in labels_kommune:\n",
    "    colors_pie[answer] = color_dict[answer]\n",
    "\n",
    "\n",
    "fig_pie.add_trace(go.Pie(labels=labels_kommune, \n",
    "                            values=value_kommune, \n",
    "                            hole=0.6,\n",
    "                            marker_colors = list(colors_pie.values()),\n",
    "                            ),row = 1,col = 1)\n",
    "\n",
    "\n",
    "df_pie2 = df_nameIndex.groupby(df_nameIndex[question]).count()\n",
    "values = df_pie2[\"Score\"]\n",
    "labels = [\"Uenig\", \"Delvist Enig\", \"Enig\"]\n",
    "colors = ['rgb(218,241,212)','rgb(169,220,163)','rgb(15,122,55)']\n",
    "\n",
    "\n",
    "fig_pie.add_trace(go.Pie(labels=labels, \n",
    "                            values=values, \n",
    "                            hole=0.6,\n",
    "                            marker_colors = colors\n",
    "                            ),row = 1,col = 2)\n",
    "\n",
    "\n",
    "fig_pie.add_trace(go.Sunburst(\n",
    "    labels=[kommune],\n",
    "    parents=[\"\"],\n",
    "    values=[1],\n",
    "    ), row = 1, col=1)\n",
    "\n",
    "\n",
    "fig_pie.add_trace(go.Sunburst(\n",
    "    labels=[\"Danmark\"],\n",
    "    parents=[\"\"],\n",
    "    values=[1],\n",
    "    ), row = 1, col=2)\n",
    "\n",
    "fig_pie.update_layout(\n",
    "    autosize=False,\n",
    "    width=1200,\n",
    "    height=720)"
   ]
  },
  {
   "cell_type": "markdown",
   "id": "b0727e79",
   "metadata": {},
   "source": [
    "# Sunburst chart"
   ]
  },
  {
   "cell_type": "code",
   "execution_count": null,
   "id": "b6e69539",
   "metadata": {},
   "outputs": [],
   "source": [
    "# question = df_temp.columns[5]\n",
    "# municipality = df_nameIndex[\"Kommune\"][10]\n",
    "# df_temp =  df_nameIndex[df_nameIndex[\"Kommune\"]==df_nameIndex[\"Kommune\"][10]]\n",
    "# color_dict = { \"Enig\":'rgb(15,122,55)',\"Delvist Enig\": 'rgb(169,220,163)',\"Uenig\":'rgb(218,241,212)'}"
   ]
  },
  {
   "cell_type": "code",
   "execution_count": null,
   "id": "ffff7eac",
   "metadata": {},
   "outputs": [],
   "source": [
    "df_temp = df_temp.sort_values(question, ascending = False)"
   ]
  },
  {
   "cell_type": "code",
   "execution_count": null,
   "id": "4786806a",
   "metadata": {},
   "outputs": [],
   "source": [
    "print(kommune, question)"
   ]
  },
  {
   "cell_type": "code",
   "execution_count": null,
   "id": "7a91adc4",
   "metadata": {},
   "outputs": [],
   "source": [
    "# Parents for sunburst\n",
    "value_labels = {0:\"Uenig\", 1:\"Delvist Enig\", 2:\"Enig\"}\n",
    "parents_candidates = pd.Series([value_labels[x] for x in df_temp[question]], \n",
    "                              index =df_temp.index)\n",
    "\n",
    "sunburst_parents = [\"\",\"\",\"\"]\n",
    "sunburst_parents.extend(parents_candidates)\n",
    "sunburst_parents"
   ]
  },
  {
   "cell_type": "code",
   "execution_count": null,
   "id": "095ea972",
   "metadata": {},
   "outputs": [],
   "source": [
    "parents_candidates"
   ]
  },
  {
   "cell_type": "code",
   "execution_count": null,
   "id": "a6c43d8b",
   "metadata": {},
   "outputs": [],
   "source": [
    "# Names for sunburst\n",
    "sunburst_names = []\n",
    "\n",
    "inner_names = list(parents_candidates.value_counts(sort=False).index)\n",
    "sunburst_names.extend(inner_names)\n",
    "\n",
    "candidate_names = list(df_temp.index)\n",
    "sunburst_names.extend(candidate_names)\n",
    "\n",
    "sunburst_names"
   ]
  },
  {
   "cell_type": "code",
   "execution_count": null,
   "id": "6ac5e406",
   "metadata": {},
   "outputs": [],
   "source": [
    "# Values for sunburst\n",
    "sunburst_values = []\n",
    "\n",
    "inner_values = list(parents_candidates.value_counts(sort=False))\n",
    "sunburst_values.extend(inner_values)\n",
    "\n",
    "candidate_values = []\n",
    "for candidate in list(df_temp.index):\n",
    "    candidate_values.extend([1])\n",
    "\n",
    "sunburst_values.extend(candidate_values)\n",
    "\n",
    "sunburst_values"
   ]
  },
  {
   "cell_type": "code",
   "execution_count": null,
   "id": "6c779f35",
   "metadata": {},
   "outputs": [],
   "source": [
    "# Denne kode bruges KUN til express sunbursten\n",
    "inner_names = list(parents_candidates.value_counts(sort=False).index)\n",
    "inner_names.extend(parents_candidates)\n",
    "\n",
    "\n",
    "colormap = []\n",
    "for value in inner_names:\n",
    "    colormap.append(color_dict[value])\n"
   ]
  },
  {
   "cell_type": "code",
   "execution_count": null,
   "id": "c271b780",
   "metadata": {},
   "outputs": [],
   "source": [
    "# data = dict(\n",
    "#     names=sunburst_names,\n",
    "#     parent=sunburst_parents,\n",
    "#     value=sunburst_values,\n",
    "#     color_map = inner_names)\n",
    "\n",
    "# fig = px.sunburst(\n",
    "#     data,\n",
    "#     names='names',\n",
    "#     parents='parent',\n",
    "#     values='value',\n",
    "#     branchvalues=\"total\",\n",
    "#     color = \"color_map\",\n",
    "#     color_discrete_map = color_dict\n",
    "#     )\n",
    "\n",
    "\n",
    "\n",
    "# fig.show()"
   ]
  },
  {
   "cell_type": "code",
   "execution_count": null,
   "id": "87da0712",
   "metadata": {},
   "outputs": [],
   "source": [
    "# fig = go.Figure()\n",
    "\n",
    "# colors = ['rgb(218,241,212)','rgb(169,220,163)','rgb(15,122,55)']\n",
    "\n",
    "# data = dict(\n",
    "#     names=sunburst_names,\n",
    "#     parent=sunburst_parents,\n",
    "#     value=sunburst_values)\n",
    "\n",
    "# fig.add_trace(go.Sunburst(\n",
    "#     labels=data['names'],\n",
    "#     parents=data['parent'],\n",
    "#     values=data['value'],\n",
    "#     branchvalues=\"total\",\n",
    "#     marker_colors = ['rgb(169,220,163)','rgb(15,122,55)'],\n",
    "#     insidetextorientation='radial',\n",
    "#     ))\n",
    "\n",
    "\n",
    "\n",
    "# fig.show()"
   ]
  },
  {
   "cell_type": "code",
   "execution_count": null,
   "id": "6a4b3e9a",
   "metadata": {},
   "outputs": [],
   "source": [
    "# parents_candidates.unique()\n",
    "# color_dict = {\"Enig\":'rgb(15,122,55)',\"Delvist Enig\": 'rgb(169,220,163)'}\n",
    "# colors_sunburst = {}\n",
    "# for answer in parents_candidates.unique():\n",
    "#     colors_sunburst[answer] = color_dict[answer]\n",
    "# colors_sunburst"
   ]
  },
  {
   "cell_type": "code",
   "execution_count": null,
   "id": "eab6666c",
   "metadata": {},
   "outputs": [],
   "source": [
    "df_temp =  df_nameIndex[df_nameIndex[\"Kommune\"]==kommune]\n",
    "df_temp = df_temp.sort_values(question, ascending = False)\n",
    "\n",
    "# Parents for sunburst\n",
    "value_labels = {0:\"Uenig\", 1:\"Delvist Enig\", 2:\"Enig\"}\n",
    "parents_candidates = pd.Series([value_labels[x] for x in df_temp[question]], \n",
    "                              index =df_temp.index)\n",
    "\n",
    "sunburst_parents = []\n",
    "for answer in parents_candidates.unique():\n",
    "    sunburst_parents.append(\"\")\n",
    "sunburst_parents.extend(parents_candidates)\n",
    "\n",
    "# Names for sunburst\n",
    "sunburst_names = []\n",
    "\n",
    "inner_names = list(parents_candidates.value_counts(sort=False).index)\n",
    "sunburst_names.extend(inner_names)\n",
    "\n",
    "candidate_names = list(df_temp.index)\n",
    "sunburst_names.extend(candidate_names)\n",
    "\n",
    "# Values for sunburst\n",
    "sunburst_values = []\n",
    "\n",
    "inner_values = list(parents_candidates.value_counts(sort=False))\n",
    "sunburst_values.extend(inner_values)\n",
    "\n",
    "candidate_values = []\n",
    "for candidate in list(df_temp.index):\n",
    "    candidate_values.append(1)\n",
    "\n",
    "sunburst_values.extend(candidate_values)\n",
    "\n",
    "fig = go.Figure()\n",
    "\n",
    "color_dict = { \"Enig\":'rgb(15,122,55)',\"Delvist Enig\": 'rgb(169,220,163)',\"Uenig\":'rgb(218,241,212)'}\n",
    "colors_sunburst = {}\n",
    "for answer in parents_candidates.unique():\n",
    "    colors_sunburst[answer] = color_dict[answer]\n",
    "\n",
    "data = dict(\n",
    "    names=sunburst_names,\n",
    "    parent=sunburst_parents,\n",
    "    value=sunburst_values)\n",
    "\n",
    "fig.add_trace(go.Sunburst(\n",
    "    labels=data['names'],\n",
    "    parents=data['parent'],\n",
    "    values=data['value'],\n",
    "    branchvalues=\"total\",\n",
    "    marker_colors = list(colors_sunburst.values()),\n",
    "    insidetextorientation='radial',\n",
    "    ))\n",
    "fig.update_layout(\n",
    "    autosize=False,\n",
    "    width=1200,\n",
    "    height=720)\n",
    "\n"
   ]
  }
 ],
 "metadata": {
  "kernelspec": {
   "display_name": "Python 3",
   "language": "python",
   "name": "python3"
  },
  "language_info": {
   "codemirror_mode": {
    "name": "ipython",
    "version": 3
   },
   "file_extension": ".py",
   "mimetype": "text/x-python",
   "name": "python",
   "nbconvert_exporter": "python",
   "pygments_lexer": "ipython3",
   "version": "3.8.8"
  }
 },
 "nbformat": 4,
 "nbformat_minor": 5
}
