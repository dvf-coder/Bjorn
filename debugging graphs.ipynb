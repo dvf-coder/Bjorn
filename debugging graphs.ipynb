{
 "cells": [
  {
   "cell_type": "code",
   "execution_count": 1,
   "id": "f83b60fe",
   "metadata": {},
   "outputs": [],
   "source": [
    "from plotly import graph_objects as go\n",
    "import plotly.express as px\n",
    "import pandas as pd\n",
    "import dash\n",
    "from dash.dependencies import Input, Output\n",
    "from dash import Dash, html, dcc \n",
    "from urllib.request import urlopen\n",
    "import json\n",
    "from plotly.subplots import make_subplots\n",
    "import numpy as np"
   ]
  },
  {
   "cell_type": "code",
   "execution_count": 4,
   "id": "a3cbc8c4",
   "metadata": {},
   "outputs": [],
   "source": [
    "\n",
    "veganGreen = 'rgb(16,114,60)' # Light-green for the vegan color option !!! Change for real color\n",
    "veggieGreen = 'rgb(140,190,84)' # Dark-green for the vegetarian color option !!! Change for real color\n",
    "\n",
    "df_nameIndex = pd.read_csv(\"data/fv_data.csv\",\n",
    "                 dtype={\"fips\": str})\n",
    "\n",
    "df_sim = pd.read_excel(\"data_sim.xlsx\",\n",
    "                 dtype={\"fips\": str})\n",
    "#df = df.fillna(0) # replace NA values with 0\n",
    "df_nameIndex = df_nameIndex.set_index(\"Navn\")\n",
    "#df[\"Candidate\"] = [df['Navn'][i]+f\" ({df['Parti'][i][:2]})\" for i, x in enumerate(df[\"Navn\"])]\n",
    "#df_nameIndex = df.set_index(\"Candidate\")\n",
    "# Tilføjer en randomiseret kostkolonne\n",
    "#df_nameIndex[\"Kost\"] = list(np.random.randint(low=1, high=6,size=len(df_nameIndex)))\n",
    "#kost_dict = {5: \"Kødspiser\", 4:\"Fleksitar\",3:\"Pescetar\", 2: \"Vegetar\",1:\"Veganer\", 6: \"Ønsker ikke at svare\"}\n",
    "kost_color = {\"Kødspiser\":\"red\", \"Fleksitar\":\"turquoise\",\"Pescetar\":\"blue\", \"Vegetar\":veggieGreen,\"Veganer\":veganGreen\n",
    "              ,\"Ønsker ikke at svare\" : \"grey\"}\n",
    "#df_nameIndex[\"Kost\"] = [kost_dict[x] for x in df_nameIndex[\"Kost\"]]\n",
    "#df_nameIndex[\"Kost_color\"] = [kost_color[x] for x in df_nameIndex[\"Kost\"]]\n",
    "\n",
    "\n",
    "\n",
    "# List of the five new columns\n",
    "#q1Answers = ['Daginstitutioner','Hospitaler, psykiatrien','Plejehjem, plejecentre og offentlig madudbringning til ældre', 'Offentlige arbejdspladser', 'ALLE offentlige institutioner']\n",
    "#Adding the five columns, if not allready added\n",
    "#if q1Answers[0] not in df.columns:\n",
    "#    df = df.reindex(columns = df.columns[0:5].tolist() + q1Answers + df.columns[5:].tolist())\n",
    "\n",
    "# First value adds random boolean(0,1) to \"Alle offentlige institutioner\" column.\n",
    "# Second value adds random boolean (0,1) to the remaining four columns,\n",
    "# depending on the boolean from the \"Alle offentlige institutioner\" column.\n",
    "#q1Questions = df.columns[4:9]\n",
    "#for i in range(0,len(df)):\n",
    "#    value = 1 if random() > 0.7 else 0\n",
    "#    df.loc[i,q1Questions[4:5]] = value\n",
    "#    for col in q1Questions[0:4]:\n",
    "#        value2 = 1 if random() > 0.5 else 0\n",
    "#        if value == 0:\n",
    "#            df.loc[i,col] = value2\n",
    "#        else:\n",
    "#            df.loc[i,col] = 0\n",
    "# Definitions from the main-file\n",
    "\n",
    "# This codeblock contains the variables for the dash-board\n",
    "#Style\n",
    "textBlack = 'rgb(0,0,0)' #Black for text\n",
    "\n",
    "H2Style = {\"fontSize\": \"25px\",\n",
    "            \"color\": veganGreen,\n",
    "            \"text-align\": \"center\",\n",
    "            'background': 'white',\n",
    "            'font-family': 'Calibri',\n",
    "            \"margin-top\": \"20px\",\n",
    "            \"margin-bottom\":'10px',\n",
    "            \"padding\":\"1.5%\"}\n",
    "\n",
    "pStyle = {'fontSize': '18px',\n",
    "            'color': textBlack,\n",
    "            'text-align': 'center',\n",
    "            'background': 'white',\n",
    "            'font-family': 'Calibri',\n",
    "            'margin-top': '-40px',\n",
    "            'margin-bottom':'1px',\n",
    "            'padding':'1.5%'}\n",
    "\n",
    "#Lists\n",
    "parties = [] # !!! Add list according to values from survey\n",
    "candidates = [] # !!! Add list according to values from survey\n",
    "questions = df_nameIndex.columns[11:25] # !!! Add questions to this list\n",
    "kommuneList = df_nameIndex[\"Storkreds\"].unique()  # !!! change list according to values from survey\n",
    "\n",
    "\n",
    "# Placeholder text\n",
    "loremIpsum = \"Lorem ipsum dolor sit amet, consectetur adipiscing elit, sed do eiusmod tempor incididunt ut labore et dolore magna aliqua. Ut enim ad minim veniam, quis nostrud exercitation ullamco laboris nisi ut aliquip ex ea commodo consequat. Duis aute irure dolor in reprehenderit in voluptate velit esse cillum dolore eu fugiat nulla pariatur. Excepteur sint occaecat cupidatat non proident, sunt in culpa qui officia deserunt mollit anim id est laborum.\"\n",
    "\n"
   ]
  },
  {
   "cell_type": "code",
   "execution_count": 7,
   "id": "07c861dd",
   "metadata": {},
   "outputs": [
    {
     "name": "stdout",
     "output_type": "stream",
     "text": [
      "Vestjyllands Storkreds \n",
      " Vestjyllands Storkreds \n",
      " Det skal sikres, at myndighederne på altomkost.dk vejleder konstruktivt i plantebaseret kost, herunder også sikrer konstruktiv vejledning til veganske børnefamilier.\n"
     ]
    }
   ],
   "source": [
    "value = df_nameIndex[\"Storkreds\"][10]\n",
    "storkreds = value\n",
    "question = df_nameIndex.columns[15]\n",
    "\n",
    "print(value,\"\\n\",\n",
    "      storkreds, \"\\n\",\n",
    "      question)"
   ]
  },
  {
   "cell_type": "code",
   "execution_count": 8,
   "id": "af6a580c",
   "metadata": {},
   "outputs": [
    {
     "data": {
      "text/html": [
       "<div>\n",
       "<style scoped>\n",
       "    .dataframe tbody tr th:only-of-type {\n",
       "        vertical-align: middle;\n",
       "    }\n",
       "\n",
       "    .dataframe tbody tr th {\n",
       "        vertical-align: top;\n",
       "    }\n",
       "\n",
       "    .dataframe thead th {\n",
       "        text-align: right;\n",
       "    }\n",
       "</style>\n",
       "<table border=\"1\" class=\"dataframe\">\n",
       "  <thead>\n",
       "    <tr style=\"text-align: right;\">\n",
       "      <th></th>\n",
       "      <th>Storkreds</th>\n",
       "      <th>Parti</th>\n",
       "      <th>Kost</th>\n",
       "      <th>Q1</th>\n",
       "      <th>Q1.1</th>\n",
       "      <th>Q1.2</th>\n",
       "      <th>Q1.3</th>\n",
       "      <th>Q1.4</th>\n",
       "      <th>Q1.5</th>\n",
       "      <th>Alle offentlige køkkener skal pålægges at reducere deres CO2-udslip fra mad og måltider med 25% i 2025.</th>\n",
       "      <th>...</th>\n",
       "      <th>Der skal være en klimaafgift på alle fødevarer, der afspejler deres drivhusgasudledning.</th>\n",
       "      <th>Der skal være en klimaafgift specifikt på alle animalske fødevarer</th>\n",
       "      <th>Finansielle institutioner (banker, pensionskasser og investeringsrådgivere, långivere etc.) skal pålægges hvert år at afrapportere, hvordan deres porteføljer, produkter og långivning bidrager til grøn omstilling af landbruget, herunder især fra animalsk til plantebaseret produktion.</th>\n",
       "      <th>Fonden for Plantebaserede Fødevarer skal have mindst 200 mio. kr. ekstra årligt udover de eksisterende 85 mio. kr. årligt, så niveauet i højere grad svarer til omfanget af den nødvendige omstilling.</th>\n",
       "      <th>Forskningsmidler indenfor fødevarer skal omlægges til i højere grad at fokusere på klimavenlige, plantebaserede fødevarer frem for animalske.</th>\n",
       "      <th>Den danske animalske landbrugsproduktion står for en stor andel af den samlede danske drivhusgasudledning. Derfor skal antallet af landbrugsdyr (svin, kyllinger, køer, osv.) mindskes til halvdelen af det nuværende antal i 2030.</th>\n",
       "      <th>Landmænd, der vil omlægge deres produktion til flere plantebaserede afgrøder til mennesker, skal kunne modtage gratis efteruddannelse.</th>\n",
       "      <th>Støtteordninger til fødevareerhvervet skal omlægges til i højere grad at støtte klimavenlige, plantebaserede fødevarer frem for animalske.</th>\n",
       "      <th>Score</th>\n",
       "      <th>Kost_color</th>\n",
       "    </tr>\n",
       "    <tr>\n",
       "      <th>Navn</th>\n",
       "      <th></th>\n",
       "      <th></th>\n",
       "      <th></th>\n",
       "      <th></th>\n",
       "      <th></th>\n",
       "      <th></th>\n",
       "      <th></th>\n",
       "      <th></th>\n",
       "      <th></th>\n",
       "      <th></th>\n",
       "      <th></th>\n",
       "      <th></th>\n",
       "      <th></th>\n",
       "      <th></th>\n",
       "      <th></th>\n",
       "      <th></th>\n",
       "      <th></th>\n",
       "      <th></th>\n",
       "      <th></th>\n",
       "      <th></th>\n",
       "      <th></th>\n",
       "    </tr>\n",
       "  </thead>\n",
       "  <tbody>\n",
       "    <tr>\n",
       "      <th>Erling Præstekjær</th>\n",
       "      <td>Vestjyllands Storkreds</td>\n",
       "      <td>O. Dansk Folkeparti</td>\n",
       "      <td>Ønsker ikke at svare</td>\n",
       "      <td>Ved ikke / har ikke taget stilling</td>\n",
       "      <td>Ved ikke / har ikke taget stilling</td>\n",
       "      <td>0</td>\n",
       "      <td>0</td>\n",
       "      <td>0</td>\n",
       "      <td>0</td>\n",
       "      <td>0</td>\n",
       "      <td>...</td>\n",
       "      <td>0</td>\n",
       "      <td>0</td>\n",
       "      <td>0</td>\n",
       "      <td>0</td>\n",
       "      <td>0</td>\n",
       "      <td>0</td>\n",
       "      <td>0</td>\n",
       "      <td>0</td>\n",
       "      <td>0</td>\n",
       "      <td>grey</td>\n",
       "    </tr>\n",
       "    <tr>\n",
       "      <th>Jakob Kjærsgaard</th>\n",
       "      <td>Vestjyllands Storkreds</td>\n",
       "      <td>O. Dansk Folkeparti</td>\n",
       "      <td>Ønsker ikke at svare</td>\n",
       "      <td>0</td>\n",
       "      <td>0</td>\n",
       "      <td>0</td>\n",
       "      <td>0</td>\n",
       "      <td>0</td>\n",
       "      <td>0</td>\n",
       "      <td>0</td>\n",
       "      <td>...</td>\n",
       "      <td>0</td>\n",
       "      <td>0</td>\n",
       "      <td>0</td>\n",
       "      <td>0</td>\n",
       "      <td>0</td>\n",
       "      <td>0</td>\n",
       "      <td>0</td>\n",
       "      <td>0</td>\n",
       "      <td>0</td>\n",
       "      <td>grey</td>\n",
       "    </tr>\n",
       "    <tr>\n",
       "      <th>Freya Luna Andersen</th>\n",
       "      <td>Vestjyllands Storkreds</td>\n",
       "      <td>M. Moderaterne</td>\n",
       "      <td>Ønsker ikke at svare</td>\n",
       "      <td>Enig - det vil jeg støtte, men jeg vil ikke se...</td>\n",
       "      <td>Enig - det vil jeg støtte, men jeg vil ikke se...</td>\n",
       "      <td>Enig - det vil jeg støtte, men jeg vil ikke se...</td>\n",
       "      <td>Enig - det vil jeg støtte, men jeg vil ikke se...</td>\n",
       "      <td>Enig - det vil jeg støtte, men jeg vil ikke se...</td>\n",
       "      <td>Enig - det vil jeg støtte, men jeg vil ikke se...</td>\n",
       "      <td>1</td>\n",
       "      <td>...</td>\n",
       "      <td>0</td>\n",
       "      <td>0</td>\n",
       "      <td>0</td>\n",
       "      <td>0</td>\n",
       "      <td>0</td>\n",
       "      <td>0</td>\n",
       "      <td>0</td>\n",
       "      <td>0</td>\n",
       "      <td>1</td>\n",
       "      <td>grey</td>\n",
       "    </tr>\n",
       "    <tr>\n",
       "      <th>Allan Berg</th>\n",
       "      <td>Vestjyllands Storkreds</td>\n",
       "      <td>D. Nye Borgerlige</td>\n",
       "      <td>Kødspiser</td>\n",
       "      <td>Uenig - det vil jeg ikke støtte</td>\n",
       "      <td>Uenig - det vil jeg ikke støtte</td>\n",
       "      <td>Uenig - det vil jeg ikke støtte</td>\n",
       "      <td>Uenig - det vil jeg ikke støtte</td>\n",
       "      <td>Uenig - det vil jeg ikke støtte</td>\n",
       "      <td>Uenig - det vil jeg ikke støtte</td>\n",
       "      <td>0</td>\n",
       "      <td>...</td>\n",
       "      <td>0</td>\n",
       "      <td>0</td>\n",
       "      <td>0</td>\n",
       "      <td>0</td>\n",
       "      <td>0</td>\n",
       "      <td>0</td>\n",
       "      <td>0</td>\n",
       "      <td>0</td>\n",
       "      <td>2</td>\n",
       "      <td>red</td>\n",
       "    </tr>\n",
       "    <tr>\n",
       "      <th>Ib Bjerregaard</th>\n",
       "      <td>Vestjyllands Storkreds</td>\n",
       "      <td>V. Venstre</td>\n",
       "      <td>Kødspiser</td>\n",
       "      <td>Uenig - det vil jeg ikke støtte</td>\n",
       "      <td>Enig - det vil jeg støtte, men jeg vil ikke se...</td>\n",
       "      <td>Enig - det vil jeg arbejde aktivt for</td>\n",
       "      <td>Enig - det vil jeg støtte, men jeg vil ikke se...</td>\n",
       "      <td>Uenig - det vil jeg ikke støtte</td>\n",
       "      <td>Uenig - det vil jeg ikke støtte</td>\n",
       "      <td>0</td>\n",
       "      <td>...</td>\n",
       "      <td>0</td>\n",
       "      <td>0</td>\n",
       "      <td>0</td>\n",
       "      <td>0</td>\n",
       "      <td>0</td>\n",
       "      <td>0</td>\n",
       "      <td>0</td>\n",
       "      <td>0</td>\n",
       "      <td>2</td>\n",
       "      <td>red</td>\n",
       "    </tr>\n",
       "    <tr>\n",
       "      <th>Tenna Røberg</th>\n",
       "      <td>Vestjyllands Storkreds</td>\n",
       "      <td>D. Nye Borgerlige</td>\n",
       "      <td>Fleksitar</td>\n",
       "      <td>Uenig - det vil jeg ikke støtte</td>\n",
       "      <td>Uenig - det vil jeg ikke støtte</td>\n",
       "      <td>Uenig - det vil jeg ikke støtte</td>\n",
       "      <td>Uenig - det vil jeg ikke støtte</td>\n",
       "      <td>Uenig - det vil jeg ikke støtte</td>\n",
       "      <td>Uenig - det vil jeg ikke støtte</td>\n",
       "      <td>0</td>\n",
       "      <td>...</td>\n",
       "      <td>0</td>\n",
       "      <td>0</td>\n",
       "      <td>0</td>\n",
       "      <td>0</td>\n",
       "      <td>0</td>\n",
       "      <td>0</td>\n",
       "      <td>1</td>\n",
       "      <td>0</td>\n",
       "      <td>3</td>\n",
       "      <td>turquoise</td>\n",
       "    </tr>\n",
       "    <tr>\n",
       "      <th>Thorbjørn Jacobsen</th>\n",
       "      <td>Vestjyllands Storkreds</td>\n",
       "      <td>I. Liberal Alliance</td>\n",
       "      <td>Kødspiser</td>\n",
       "      <td>Enig - det vil jeg støtte, men jeg vil ikke se...</td>\n",
       "      <td>Enig - det vil jeg støtte, men jeg vil ikke se...</td>\n",
       "      <td>Enig - det vil jeg støtte, men jeg vil ikke se...</td>\n",
       "      <td>Enig - det vil jeg støtte, men jeg vil ikke se...</td>\n",
       "      <td>Enig - det vil jeg støtte, men jeg vil ikke se...</td>\n",
       "      <td>Enig - det vil jeg støtte, men jeg vil ikke se...</td>\n",
       "      <td>1</td>\n",
       "      <td>...</td>\n",
       "      <td>0</td>\n",
       "      <td>0</td>\n",
       "      <td>0</td>\n",
       "      <td>0</td>\n",
       "      <td>1</td>\n",
       "      <td>0</td>\n",
       "      <td>0</td>\n",
       "      <td>1</td>\n",
       "      <td>4</td>\n",
       "      <td>red</td>\n",
       "    </tr>\n",
       "    <tr>\n",
       "      <th>Hans Christian Molbech</th>\n",
       "      <td>Vestjyllands Storkreds</td>\n",
       "      <td>Å. Alternativet</td>\n",
       "      <td>Ønsker ikke at svare</td>\n",
       "      <td>Enig - det vil jeg arbejde aktivt for</td>\n",
       "      <td>Enig - det vil jeg arbejde aktivt for</td>\n",
       "      <td>Enig - det vil jeg arbejde aktivt for</td>\n",
       "      <td>Enig - det vil jeg arbejde aktivt for</td>\n",
       "      <td>Enig - det vil jeg arbejde aktivt for</td>\n",
       "      <td>Enig - det vil jeg arbejde aktivt for</td>\n",
       "      <td>2</td>\n",
       "      <td>...</td>\n",
       "      <td>0</td>\n",
       "      <td>0</td>\n",
       "      <td>0</td>\n",
       "      <td>0</td>\n",
       "      <td>0</td>\n",
       "      <td>0</td>\n",
       "      <td>0</td>\n",
       "      <td>0</td>\n",
       "      <td>4</td>\n",
       "      <td>grey</td>\n",
       "    </tr>\n",
       "    <tr>\n",
       "      <th>Dina Raabjerg</th>\n",
       "      <td>Vestjyllands Storkreds</td>\n",
       "      <td>C. Det Konservative Folkeparti</td>\n",
       "      <td>Ønsker ikke at svare</td>\n",
       "      <td>Enig - det vil jeg støtte, men jeg vil ikke se...</td>\n",
       "      <td>Enig - det vil jeg støtte, men jeg vil ikke se...</td>\n",
       "      <td>Enig - det vil jeg støtte, men jeg vil ikke se...</td>\n",
       "      <td>Enig - det vil jeg støtte, men jeg vil ikke se...</td>\n",
       "      <td>Enig - det vil jeg støtte, men jeg vil ikke se...</td>\n",
       "      <td>Enig - det vil jeg støtte, men jeg vil ikke se...</td>\n",
       "      <td>2</td>\n",
       "      <td>...</td>\n",
       "      <td>0</td>\n",
       "      <td>0</td>\n",
       "      <td>0</td>\n",
       "      <td>0</td>\n",
       "      <td>0</td>\n",
       "      <td>0</td>\n",
       "      <td>0</td>\n",
       "      <td>0</td>\n",
       "      <td>7</td>\n",
       "      <td>grey</td>\n",
       "    </tr>\n",
       "    <tr>\n",
       "      <th>Anders Andreasen</th>\n",
       "      <td>Vestjyllands Storkreds</td>\n",
       "      <td>A. Socialdemokratiet</td>\n",
       "      <td>Ønsker ikke at svare</td>\n",
       "      <td>Enig - det vil jeg arbejde aktivt for</td>\n",
       "      <td>Enig - det vil jeg arbejde aktivt for</td>\n",
       "      <td>Enig - det vil jeg arbejde aktivt for</td>\n",
       "      <td>Enig - det vil jeg arbejde aktivt for</td>\n",
       "      <td>Enig - det vil jeg arbejde aktivt for</td>\n",
       "      <td>Enig - det vil jeg arbejde aktivt for</td>\n",
       "      <td>2</td>\n",
       "      <td>...</td>\n",
       "      <td>0</td>\n",
       "      <td>0</td>\n",
       "      <td>0</td>\n",
       "      <td>0</td>\n",
       "      <td>0</td>\n",
       "      <td>0</td>\n",
       "      <td>0</td>\n",
       "      <td>0</td>\n",
       "      <td>8</td>\n",
       "      <td>grey</td>\n",
       "    </tr>\n",
       "    <tr>\n",
       "      <th>Mogens Birkelund</th>\n",
       "      <td>Vestjyllands Storkreds</td>\n",
       "      <td>C. Det Konservative Folkeparti</td>\n",
       "      <td>Kødspiser</td>\n",
       "      <td>Enig - det vil jeg støtte, men jeg vil ikke se...</td>\n",
       "      <td>Enig - det vil jeg støtte, men jeg vil ikke se...</td>\n",
       "      <td>Enig - det vil jeg støtte, men jeg vil ikke se...</td>\n",
       "      <td>Enig - det vil jeg støtte, men jeg vil ikke se...</td>\n",
       "      <td>Enig - det vil jeg støtte, men jeg vil ikke se...</td>\n",
       "      <td>Enig - det vil jeg støtte, men jeg vil ikke se...</td>\n",
       "      <td>2</td>\n",
       "      <td>...</td>\n",
       "      <td>0</td>\n",
       "      <td>0</td>\n",
       "      <td>1</td>\n",
       "      <td>0</td>\n",
       "      <td>0</td>\n",
       "      <td>0</td>\n",
       "      <td>1</td>\n",
       "      <td>0</td>\n",
       "      <td>10</td>\n",
       "      <td>red</td>\n",
       "    </tr>\n",
       "    <tr>\n",
       "      <th>Peter Kempf Pedersen</th>\n",
       "      <td>Vestjyllands Storkreds</td>\n",
       "      <td>A. Socialdemokratiet</td>\n",
       "      <td>Kødspiser</td>\n",
       "      <td>Enig - det vil jeg støtte, men jeg vil ikke se...</td>\n",
       "      <td>Uenig - det vil jeg ikke støtte</td>\n",
       "      <td>Enig - det vil jeg støtte, men jeg vil ikke se...</td>\n",
       "      <td>Enig - det vil jeg støtte, men jeg vil ikke se...</td>\n",
       "      <td>Enig - det vil jeg støtte, men jeg vil ikke se...</td>\n",
       "      <td>Enig - det vil jeg støtte, men jeg vil ikke se...</td>\n",
       "      <td>1</td>\n",
       "      <td>...</td>\n",
       "      <td>0</td>\n",
       "      <td>0</td>\n",
       "      <td>1</td>\n",
       "      <td>0</td>\n",
       "      <td>1</td>\n",
       "      <td>0</td>\n",
       "      <td>1</td>\n",
       "      <td>1</td>\n",
       "      <td>11</td>\n",
       "      <td>red</td>\n",
       "    </tr>\n",
       "    <tr>\n",
       "      <th>Keld Marstrand Wang</th>\n",
       "      <td>Vestjyllands Storkreds</td>\n",
       "      <td>B. Det Radikale Venstre</td>\n",
       "      <td>Fleksitar</td>\n",
       "      <td>Enig - det vil jeg arbejde aktivt for</td>\n",
       "      <td>Enig - det vil jeg støtte, men jeg vil ikke se...</td>\n",
       "      <td>Enig - det vil jeg arbejde aktivt for</td>\n",
       "      <td>Enig - det vil jeg arbejde aktivt for</td>\n",
       "      <td>Enig - det vil jeg støtte, men jeg vil ikke se...</td>\n",
       "      <td>Enig - det vil jeg støtte, men jeg vil ikke se...</td>\n",
       "      <td>1</td>\n",
       "      <td>...</td>\n",
       "      <td>1</td>\n",
       "      <td>0</td>\n",
       "      <td>0</td>\n",
       "      <td>0</td>\n",
       "      <td>1</td>\n",
       "      <td>0</td>\n",
       "      <td>2</td>\n",
       "      <td>2</td>\n",
       "      <td>19</td>\n",
       "      <td>turquoise</td>\n",
       "    </tr>\n",
       "    <tr>\n",
       "      <th>Christian Ivan Jacobsen</th>\n",
       "      <td>Vestjyllands Storkreds</td>\n",
       "      <td>Ø. Enhedslisten</td>\n",
       "      <td>Fleksitar</td>\n",
       "      <td>Enig - det vil jeg støtte, men jeg vil ikke se...</td>\n",
       "      <td>Enig - det vil jeg støtte, men jeg vil ikke se...</td>\n",
       "      <td>Enig - det vil jeg støtte, men jeg vil ikke se...</td>\n",
       "      <td>Enig - det vil jeg støtte, men jeg vil ikke se...</td>\n",
       "      <td>Enig - det vil jeg støtte, men jeg vil ikke se...</td>\n",
       "      <td>Enig - det vil jeg støtte, men jeg vil ikke se...</td>\n",
       "      <td>2</td>\n",
       "      <td>...</td>\n",
       "      <td>0</td>\n",
       "      <td>0</td>\n",
       "      <td>1</td>\n",
       "      <td>2</td>\n",
       "      <td>1</td>\n",
       "      <td>2</td>\n",
       "      <td>2</td>\n",
       "      <td>2</td>\n",
       "      <td>21</td>\n",
       "      <td>turquoise</td>\n",
       "    </tr>\n",
       "    <tr>\n",
       "      <th>Maria Temponeras</th>\n",
       "      <td>Vestjyllands Storkreds</td>\n",
       "      <td>Ø. Enhedslisten</td>\n",
       "      <td>Fleksitar</td>\n",
       "      <td>Enig - det vil jeg arbejde aktivt for</td>\n",
       "      <td>Enig - det vil jeg arbejde aktivt for</td>\n",
       "      <td>Enig - det vil jeg arbejde aktivt for</td>\n",
       "      <td>Enig - det vil jeg arbejde aktivt for</td>\n",
       "      <td>Enig - det vil jeg arbejde aktivt for</td>\n",
       "      <td>Enig - det vil jeg arbejde aktivt for</td>\n",
       "      <td>2</td>\n",
       "      <td>...</td>\n",
       "      <td>0</td>\n",
       "      <td>0</td>\n",
       "      <td>1</td>\n",
       "      <td>1</td>\n",
       "      <td>2</td>\n",
       "      <td>2</td>\n",
       "      <td>2</td>\n",
       "      <td>2</td>\n",
       "      <td>22</td>\n",
       "      <td>turquoise</td>\n",
       "    </tr>\n",
       "    <tr>\n",
       "      <th>Charlotte Lindberg</th>\n",
       "      <td>Vestjyllands Storkreds</td>\n",
       "      <td>Ø. Enhedslisten</td>\n",
       "      <td>Kødspiser</td>\n",
       "      <td>Enig - det vil jeg arbejde aktivt for</td>\n",
       "      <td>Enig - det vil jeg arbejde aktivt for</td>\n",
       "      <td>Enig - det vil jeg arbejde aktivt for</td>\n",
       "      <td>Enig - det vil jeg arbejde aktivt for</td>\n",
       "      <td>Enig - det vil jeg arbejde aktivt for</td>\n",
       "      <td>Enig - det vil jeg arbejde aktivt for</td>\n",
       "      <td>2</td>\n",
       "      <td>...</td>\n",
       "      <td>0</td>\n",
       "      <td>1</td>\n",
       "      <td>0</td>\n",
       "      <td>0</td>\n",
       "      <td>1</td>\n",
       "      <td>2</td>\n",
       "      <td>2</td>\n",
       "      <td>2</td>\n",
       "      <td>23</td>\n",
       "      <td>red</td>\n",
       "    </tr>\n",
       "    <tr>\n",
       "      <th>Emma Thorup Jacobsen</th>\n",
       "      <td>Vestjyllands Storkreds</td>\n",
       "      <td>F. Socialistisk Folkeparti</td>\n",
       "      <td>Fleksitar</td>\n",
       "      <td>Enig - det vil jeg arbejde aktivt for</td>\n",
       "      <td>Enig - det vil jeg arbejde aktivt for</td>\n",
       "      <td>Enig - det vil jeg arbejde aktivt for</td>\n",
       "      <td>Enig - det vil jeg arbejde aktivt for</td>\n",
       "      <td>Enig - det vil jeg arbejde aktivt for</td>\n",
       "      <td>Enig - det vil jeg arbejde aktivt for</td>\n",
       "      <td>2</td>\n",
       "      <td>...</td>\n",
       "      <td>2</td>\n",
       "      <td>2</td>\n",
       "      <td>2</td>\n",
       "      <td>0</td>\n",
       "      <td>2</td>\n",
       "      <td>2</td>\n",
       "      <td>2</td>\n",
       "      <td>2</td>\n",
       "      <td>26</td>\n",
       "      <td>turquoise</td>\n",
       "    </tr>\n",
       "    <tr>\n",
       "      <th>Aksel Rosager Johansen</th>\n",
       "      <td>Vestjyllands Storkreds</td>\n",
       "      <td>Ø. Enhedslisten</td>\n",
       "      <td>Fleksitar</td>\n",
       "      <td>Enig - det vil jeg arbejde aktivt for</td>\n",
       "      <td>Enig - det vil jeg arbejde aktivt for</td>\n",
       "      <td>Enig - det vil jeg arbejde aktivt for</td>\n",
       "      <td>Enig - det vil jeg arbejde aktivt for</td>\n",
       "      <td>Enig - det vil jeg arbejde aktivt for</td>\n",
       "      <td>Enig - det vil jeg arbejde aktivt for</td>\n",
       "      <td>2</td>\n",
       "      <td>...</td>\n",
       "      <td>2</td>\n",
       "      <td>2</td>\n",
       "      <td>1</td>\n",
       "      <td>2</td>\n",
       "      <td>2</td>\n",
       "      <td>2</td>\n",
       "      <td>2</td>\n",
       "      <td>2</td>\n",
       "      <td>27</td>\n",
       "      <td>turquoise</td>\n",
       "    </tr>\n",
       "    <tr>\n",
       "      <th>Johan Brødsgaard</th>\n",
       "      <td>Vestjyllands Storkreds</td>\n",
       "      <td>B. Det Radikale Venstre</td>\n",
       "      <td>Vegetar</td>\n",
       "      <td>Enig - det vil jeg arbejde aktivt for</td>\n",
       "      <td>Enig - det vil jeg arbejde aktivt for</td>\n",
       "      <td>Enig - det vil jeg arbejde aktivt for</td>\n",
       "      <td>Enig - det vil jeg arbejde aktivt for</td>\n",
       "      <td>Enig - det vil jeg arbejde aktivt for</td>\n",
       "      <td>Enig - det vil jeg arbejde aktivt for</td>\n",
       "      <td>2</td>\n",
       "      <td>...</td>\n",
       "      <td>2</td>\n",
       "      <td>2</td>\n",
       "      <td>1</td>\n",
       "      <td>1</td>\n",
       "      <td>2</td>\n",
       "      <td>2</td>\n",
       "      <td>1</td>\n",
       "      <td>2</td>\n",
       "      <td>27</td>\n",
       "      <td>rgb(140,190,84)</td>\n",
       "    </tr>\n",
       "    <tr>\n",
       "      <th>Peter Sig Kristensen</th>\n",
       "      <td>Vestjyllands Storkreds</td>\n",
       "      <td>Ø. Enhedslisten</td>\n",
       "      <td>Kødspiser</td>\n",
       "      <td>Enig - det vil jeg arbejde aktivt for</td>\n",
       "      <td>Enig - det vil jeg arbejde aktivt for</td>\n",
       "      <td>Enig - det vil jeg arbejde aktivt for</td>\n",
       "      <td>Enig - det vil jeg arbejde aktivt for</td>\n",
       "      <td>Enig - det vil jeg arbejde aktivt for</td>\n",
       "      <td>Enig - det vil jeg arbejde aktivt for</td>\n",
       "      <td>2</td>\n",
       "      <td>...</td>\n",
       "      <td>2</td>\n",
       "      <td>1</td>\n",
       "      <td>2</td>\n",
       "      <td>2</td>\n",
       "      <td>1</td>\n",
       "      <td>2</td>\n",
       "      <td>2</td>\n",
       "      <td>2</td>\n",
       "      <td>29</td>\n",
       "      <td>red</td>\n",
       "    </tr>\n",
       "    <tr>\n",
       "      <th>Kirsten Hindbo</th>\n",
       "      <td>Vestjyllands Storkreds</td>\n",
       "      <td>Å. Alternativet</td>\n",
       "      <td>Vegetar</td>\n",
       "      <td>Enig - det vil jeg arbejde aktivt for</td>\n",
       "      <td>Enig - det vil jeg arbejde aktivt for</td>\n",
       "      <td>Enig - det vil jeg arbejde aktivt for</td>\n",
       "      <td>Enig - det vil jeg arbejde aktivt for</td>\n",
       "      <td>Enig - det vil jeg arbejde aktivt for</td>\n",
       "      <td>Enig - det vil jeg arbejde aktivt for</td>\n",
       "      <td>2</td>\n",
       "      <td>...</td>\n",
       "      <td>2</td>\n",
       "      <td>2</td>\n",
       "      <td>2</td>\n",
       "      <td>2</td>\n",
       "      <td>2</td>\n",
       "      <td>2</td>\n",
       "      <td>2</td>\n",
       "      <td>2</td>\n",
       "      <td>32</td>\n",
       "      <td>rgb(140,190,84)</td>\n",
       "    </tr>\n",
       "  </tbody>\n",
       "</table>\n",
       "<p>21 rows × 27 columns</p>\n",
       "</div>"
      ],
      "text/plain": [
       "                                      Storkreds  \\\n",
       "Navn                                              \n",
       "Erling Præstekjær        Vestjyllands Storkreds   \n",
       "Jakob Kjærsgaard         Vestjyllands Storkreds   \n",
       "Freya Luna Andersen      Vestjyllands Storkreds   \n",
       "Allan Berg               Vestjyllands Storkreds   \n",
       "Ib Bjerregaard           Vestjyllands Storkreds   \n",
       "Tenna Røberg             Vestjyllands Storkreds   \n",
       "Thorbjørn Jacobsen       Vestjyllands Storkreds   \n",
       "Hans Christian Molbech   Vestjyllands Storkreds   \n",
       "Dina Raabjerg            Vestjyllands Storkreds   \n",
       "Anders Andreasen         Vestjyllands Storkreds   \n",
       "Mogens Birkelund         Vestjyllands Storkreds   \n",
       "Peter Kempf Pedersen     Vestjyllands Storkreds   \n",
       "Keld Marstrand Wang      Vestjyllands Storkreds   \n",
       "Christian Ivan Jacobsen  Vestjyllands Storkreds   \n",
       "Maria Temponeras         Vestjyllands Storkreds   \n",
       "Charlotte Lindberg       Vestjyllands Storkreds   \n",
       "Emma Thorup Jacobsen     Vestjyllands Storkreds   \n",
       "Aksel Rosager Johansen   Vestjyllands Storkreds   \n",
       "Johan Brødsgaard         Vestjyllands Storkreds   \n",
       "Peter Sig Kristensen     Vestjyllands Storkreds   \n",
       "Kirsten Hindbo           Vestjyllands Storkreds   \n",
       "\n",
       "                                                  Parti                  Kost  \\\n",
       "Navn                                                                            \n",
       "Erling Præstekjær                   O. Dansk Folkeparti  Ønsker ikke at svare   \n",
       "Jakob Kjærsgaard                    O. Dansk Folkeparti  Ønsker ikke at svare   \n",
       "Freya Luna Andersen                      M. Moderaterne  Ønsker ikke at svare   \n",
       "Allan Berg                            D. Nye Borgerlige             Kødspiser   \n",
       "Ib Bjerregaard                               V. Venstre             Kødspiser   \n",
       "Tenna Røberg                          D. Nye Borgerlige             Fleksitar   \n",
       "Thorbjørn Jacobsen                  I. Liberal Alliance             Kødspiser   \n",
       "Hans Christian Molbech                  Å. Alternativet  Ønsker ikke at svare   \n",
       "Dina Raabjerg            C. Det Konservative Folkeparti  Ønsker ikke at svare   \n",
       "Anders Andreasen                   A. Socialdemokratiet  Ønsker ikke at svare   \n",
       "Mogens Birkelund         C. Det Konservative Folkeparti             Kødspiser   \n",
       "Peter Kempf Pedersen               A. Socialdemokratiet             Kødspiser   \n",
       "Keld Marstrand Wang             B. Det Radikale Venstre             Fleksitar   \n",
       "Christian Ivan Jacobsen                 Ø. Enhedslisten             Fleksitar   \n",
       "Maria Temponeras                        Ø. Enhedslisten             Fleksitar   \n",
       "Charlotte Lindberg                      Ø. Enhedslisten             Kødspiser   \n",
       "Emma Thorup Jacobsen         F. Socialistisk Folkeparti             Fleksitar   \n",
       "Aksel Rosager Johansen                  Ø. Enhedslisten             Fleksitar   \n",
       "Johan Brødsgaard                B. Det Radikale Venstre               Vegetar   \n",
       "Peter Sig Kristensen                    Ø. Enhedslisten             Kødspiser   \n",
       "Kirsten Hindbo                          Å. Alternativet               Vegetar   \n",
       "\n",
       "                                                                        Q1  \\\n",
       "Navn                                                                         \n",
       "Erling Præstekjær                       Ved ikke / har ikke taget stilling   \n",
       "Jakob Kjærsgaard                                                         0   \n",
       "Freya Luna Andersen      Enig - det vil jeg støtte, men jeg vil ikke se...   \n",
       "Allan Berg                                 Uenig - det vil jeg ikke støtte   \n",
       "Ib Bjerregaard                             Uenig - det vil jeg ikke støtte   \n",
       "Tenna Røberg                               Uenig - det vil jeg ikke støtte   \n",
       "Thorbjørn Jacobsen       Enig - det vil jeg støtte, men jeg vil ikke se...   \n",
       "Hans Christian Molbech               Enig - det vil jeg arbejde aktivt for   \n",
       "Dina Raabjerg            Enig - det vil jeg støtte, men jeg vil ikke se...   \n",
       "Anders Andreasen                     Enig - det vil jeg arbejde aktivt for   \n",
       "Mogens Birkelund         Enig - det vil jeg støtte, men jeg vil ikke se...   \n",
       "Peter Kempf Pedersen     Enig - det vil jeg støtte, men jeg vil ikke se...   \n",
       "Keld Marstrand Wang                  Enig - det vil jeg arbejde aktivt for   \n",
       "Christian Ivan Jacobsen  Enig - det vil jeg støtte, men jeg vil ikke se...   \n",
       "Maria Temponeras                     Enig - det vil jeg arbejde aktivt for   \n",
       "Charlotte Lindberg                   Enig - det vil jeg arbejde aktivt for   \n",
       "Emma Thorup Jacobsen                 Enig - det vil jeg arbejde aktivt for   \n",
       "Aksel Rosager Johansen               Enig - det vil jeg arbejde aktivt for   \n",
       "Johan Brødsgaard                     Enig - det vil jeg arbejde aktivt for   \n",
       "Peter Sig Kristensen                 Enig - det vil jeg arbejde aktivt for   \n",
       "Kirsten Hindbo                       Enig - det vil jeg arbejde aktivt for   \n",
       "\n",
       "                                                                      Q1.1  \\\n",
       "Navn                                                                         \n",
       "Erling Præstekjær                       Ved ikke / har ikke taget stilling   \n",
       "Jakob Kjærsgaard                                                         0   \n",
       "Freya Luna Andersen      Enig - det vil jeg støtte, men jeg vil ikke se...   \n",
       "Allan Berg                                 Uenig - det vil jeg ikke støtte   \n",
       "Ib Bjerregaard           Enig - det vil jeg støtte, men jeg vil ikke se...   \n",
       "Tenna Røberg                               Uenig - det vil jeg ikke støtte   \n",
       "Thorbjørn Jacobsen       Enig - det vil jeg støtte, men jeg vil ikke se...   \n",
       "Hans Christian Molbech               Enig - det vil jeg arbejde aktivt for   \n",
       "Dina Raabjerg            Enig - det vil jeg støtte, men jeg vil ikke se...   \n",
       "Anders Andreasen                     Enig - det vil jeg arbejde aktivt for   \n",
       "Mogens Birkelund         Enig - det vil jeg støtte, men jeg vil ikke se...   \n",
       "Peter Kempf Pedersen                       Uenig - det vil jeg ikke støtte   \n",
       "Keld Marstrand Wang      Enig - det vil jeg støtte, men jeg vil ikke se...   \n",
       "Christian Ivan Jacobsen  Enig - det vil jeg støtte, men jeg vil ikke se...   \n",
       "Maria Temponeras                     Enig - det vil jeg arbejde aktivt for   \n",
       "Charlotte Lindberg                   Enig - det vil jeg arbejde aktivt for   \n",
       "Emma Thorup Jacobsen                 Enig - det vil jeg arbejde aktivt for   \n",
       "Aksel Rosager Johansen               Enig - det vil jeg arbejde aktivt for   \n",
       "Johan Brødsgaard                     Enig - det vil jeg arbejde aktivt for   \n",
       "Peter Sig Kristensen                 Enig - det vil jeg arbejde aktivt for   \n",
       "Kirsten Hindbo                       Enig - det vil jeg arbejde aktivt for   \n",
       "\n",
       "                                                                      Q1.2  \\\n",
       "Navn                                                                         \n",
       "Erling Præstekjær                                                        0   \n",
       "Jakob Kjærsgaard                                                         0   \n",
       "Freya Luna Andersen      Enig - det vil jeg støtte, men jeg vil ikke se...   \n",
       "Allan Berg                                 Uenig - det vil jeg ikke støtte   \n",
       "Ib Bjerregaard                       Enig - det vil jeg arbejde aktivt for   \n",
       "Tenna Røberg                               Uenig - det vil jeg ikke støtte   \n",
       "Thorbjørn Jacobsen       Enig - det vil jeg støtte, men jeg vil ikke se...   \n",
       "Hans Christian Molbech               Enig - det vil jeg arbejde aktivt for   \n",
       "Dina Raabjerg            Enig - det vil jeg støtte, men jeg vil ikke se...   \n",
       "Anders Andreasen                     Enig - det vil jeg arbejde aktivt for   \n",
       "Mogens Birkelund         Enig - det vil jeg støtte, men jeg vil ikke se...   \n",
       "Peter Kempf Pedersen     Enig - det vil jeg støtte, men jeg vil ikke se...   \n",
       "Keld Marstrand Wang                  Enig - det vil jeg arbejde aktivt for   \n",
       "Christian Ivan Jacobsen  Enig - det vil jeg støtte, men jeg vil ikke se...   \n",
       "Maria Temponeras                     Enig - det vil jeg arbejde aktivt for   \n",
       "Charlotte Lindberg                   Enig - det vil jeg arbejde aktivt for   \n",
       "Emma Thorup Jacobsen                 Enig - det vil jeg arbejde aktivt for   \n",
       "Aksel Rosager Johansen               Enig - det vil jeg arbejde aktivt for   \n",
       "Johan Brødsgaard                     Enig - det vil jeg arbejde aktivt for   \n",
       "Peter Sig Kristensen                 Enig - det vil jeg arbejde aktivt for   \n",
       "Kirsten Hindbo                       Enig - det vil jeg arbejde aktivt for   \n",
       "\n",
       "                                                                      Q1.3  \\\n",
       "Navn                                                                         \n",
       "Erling Præstekjær                                                        0   \n",
       "Jakob Kjærsgaard                                                         0   \n",
       "Freya Luna Andersen      Enig - det vil jeg støtte, men jeg vil ikke se...   \n",
       "Allan Berg                                 Uenig - det vil jeg ikke støtte   \n",
       "Ib Bjerregaard           Enig - det vil jeg støtte, men jeg vil ikke se...   \n",
       "Tenna Røberg                               Uenig - det vil jeg ikke støtte   \n",
       "Thorbjørn Jacobsen       Enig - det vil jeg støtte, men jeg vil ikke se...   \n",
       "Hans Christian Molbech               Enig - det vil jeg arbejde aktivt for   \n",
       "Dina Raabjerg            Enig - det vil jeg støtte, men jeg vil ikke se...   \n",
       "Anders Andreasen                     Enig - det vil jeg arbejde aktivt for   \n",
       "Mogens Birkelund         Enig - det vil jeg støtte, men jeg vil ikke se...   \n",
       "Peter Kempf Pedersen     Enig - det vil jeg støtte, men jeg vil ikke se...   \n",
       "Keld Marstrand Wang                  Enig - det vil jeg arbejde aktivt for   \n",
       "Christian Ivan Jacobsen  Enig - det vil jeg støtte, men jeg vil ikke se...   \n",
       "Maria Temponeras                     Enig - det vil jeg arbejde aktivt for   \n",
       "Charlotte Lindberg                   Enig - det vil jeg arbejde aktivt for   \n",
       "Emma Thorup Jacobsen                 Enig - det vil jeg arbejde aktivt for   \n",
       "Aksel Rosager Johansen               Enig - det vil jeg arbejde aktivt for   \n",
       "Johan Brødsgaard                     Enig - det vil jeg arbejde aktivt for   \n",
       "Peter Sig Kristensen                 Enig - det vil jeg arbejde aktivt for   \n",
       "Kirsten Hindbo                       Enig - det vil jeg arbejde aktivt for   \n",
       "\n",
       "                                                                      Q1.4  \\\n",
       "Navn                                                                         \n",
       "Erling Præstekjær                                                        0   \n",
       "Jakob Kjærsgaard                                                         0   \n",
       "Freya Luna Andersen      Enig - det vil jeg støtte, men jeg vil ikke se...   \n",
       "Allan Berg                                 Uenig - det vil jeg ikke støtte   \n",
       "Ib Bjerregaard                             Uenig - det vil jeg ikke støtte   \n",
       "Tenna Røberg                               Uenig - det vil jeg ikke støtte   \n",
       "Thorbjørn Jacobsen       Enig - det vil jeg støtte, men jeg vil ikke se...   \n",
       "Hans Christian Molbech               Enig - det vil jeg arbejde aktivt for   \n",
       "Dina Raabjerg            Enig - det vil jeg støtte, men jeg vil ikke se...   \n",
       "Anders Andreasen                     Enig - det vil jeg arbejde aktivt for   \n",
       "Mogens Birkelund         Enig - det vil jeg støtte, men jeg vil ikke se...   \n",
       "Peter Kempf Pedersen     Enig - det vil jeg støtte, men jeg vil ikke se...   \n",
       "Keld Marstrand Wang      Enig - det vil jeg støtte, men jeg vil ikke se...   \n",
       "Christian Ivan Jacobsen  Enig - det vil jeg støtte, men jeg vil ikke se...   \n",
       "Maria Temponeras                     Enig - det vil jeg arbejde aktivt for   \n",
       "Charlotte Lindberg                   Enig - det vil jeg arbejde aktivt for   \n",
       "Emma Thorup Jacobsen                 Enig - det vil jeg arbejde aktivt for   \n",
       "Aksel Rosager Johansen               Enig - det vil jeg arbejde aktivt for   \n",
       "Johan Brødsgaard                     Enig - det vil jeg arbejde aktivt for   \n",
       "Peter Sig Kristensen                 Enig - det vil jeg arbejde aktivt for   \n",
       "Kirsten Hindbo                       Enig - det vil jeg arbejde aktivt for   \n",
       "\n",
       "                                                                      Q1.5  \\\n",
       "Navn                                                                         \n",
       "Erling Præstekjær                                                        0   \n",
       "Jakob Kjærsgaard                                                         0   \n",
       "Freya Luna Andersen      Enig - det vil jeg støtte, men jeg vil ikke se...   \n",
       "Allan Berg                                 Uenig - det vil jeg ikke støtte   \n",
       "Ib Bjerregaard                             Uenig - det vil jeg ikke støtte   \n",
       "Tenna Røberg                               Uenig - det vil jeg ikke støtte   \n",
       "Thorbjørn Jacobsen       Enig - det vil jeg støtte, men jeg vil ikke se...   \n",
       "Hans Christian Molbech               Enig - det vil jeg arbejde aktivt for   \n",
       "Dina Raabjerg            Enig - det vil jeg støtte, men jeg vil ikke se...   \n",
       "Anders Andreasen                     Enig - det vil jeg arbejde aktivt for   \n",
       "Mogens Birkelund         Enig - det vil jeg støtte, men jeg vil ikke se...   \n",
       "Peter Kempf Pedersen     Enig - det vil jeg støtte, men jeg vil ikke se...   \n",
       "Keld Marstrand Wang      Enig - det vil jeg støtte, men jeg vil ikke se...   \n",
       "Christian Ivan Jacobsen  Enig - det vil jeg støtte, men jeg vil ikke se...   \n",
       "Maria Temponeras                     Enig - det vil jeg arbejde aktivt for   \n",
       "Charlotte Lindberg                   Enig - det vil jeg arbejde aktivt for   \n",
       "Emma Thorup Jacobsen                 Enig - det vil jeg arbejde aktivt for   \n",
       "Aksel Rosager Johansen               Enig - det vil jeg arbejde aktivt for   \n",
       "Johan Brødsgaard                     Enig - det vil jeg arbejde aktivt for   \n",
       "Peter Sig Kristensen                 Enig - det vil jeg arbejde aktivt for   \n",
       "Kirsten Hindbo                       Enig - det vil jeg arbejde aktivt for   \n",
       "\n",
       "                         Alle offentlige køkkener skal pålægges at reducere deres CO2-udslip fra mad og måltider med 25% i 2025.  \\\n",
       "Navn                                                                                                                               \n",
       "Erling Præstekjær                                                        0                                                         \n",
       "Jakob Kjærsgaard                                                         0                                                         \n",
       "Freya Luna Andersen                                                      1                                                         \n",
       "Allan Berg                                                               0                                                         \n",
       "Ib Bjerregaard                                                           0                                                         \n",
       "Tenna Røberg                                                             0                                                         \n",
       "Thorbjørn Jacobsen                                                       1                                                         \n",
       "Hans Christian Molbech                                                   2                                                         \n",
       "Dina Raabjerg                                                            2                                                         \n",
       "Anders Andreasen                                                         2                                                         \n",
       "Mogens Birkelund                                                         2                                                         \n",
       "Peter Kempf Pedersen                                                     1                                                         \n",
       "Keld Marstrand Wang                                                      1                                                         \n",
       "Christian Ivan Jacobsen                                                  2                                                         \n",
       "Maria Temponeras                                                         2                                                         \n",
       "Charlotte Lindberg                                                       2                                                         \n",
       "Emma Thorup Jacobsen                                                     2                                                         \n",
       "Aksel Rosager Johansen                                                   2                                                         \n",
       "Johan Brødsgaard                                                         2                                                         \n",
       "Peter Sig Kristensen                                                     2                                                         \n",
       "Kirsten Hindbo                                                           2                                                         \n",
       "\n",
       "                         ...  \\\n",
       "Navn                     ...   \n",
       "Erling Præstekjær        ...   \n",
       "Jakob Kjærsgaard         ...   \n",
       "Freya Luna Andersen      ...   \n",
       "Allan Berg               ...   \n",
       "Ib Bjerregaard           ...   \n",
       "Tenna Røberg             ...   \n",
       "Thorbjørn Jacobsen       ...   \n",
       "Hans Christian Molbech   ...   \n",
       "Dina Raabjerg            ...   \n",
       "Anders Andreasen         ...   \n",
       "Mogens Birkelund         ...   \n",
       "Peter Kempf Pedersen     ...   \n",
       "Keld Marstrand Wang      ...   \n",
       "Christian Ivan Jacobsen  ...   \n",
       "Maria Temponeras         ...   \n",
       "Charlotte Lindberg       ...   \n",
       "Emma Thorup Jacobsen     ...   \n",
       "Aksel Rosager Johansen   ...   \n",
       "Johan Brødsgaard         ...   \n",
       "Peter Sig Kristensen     ...   \n",
       "Kirsten Hindbo           ...   \n",
       "\n",
       "                         Der skal være en klimaafgift på alle fødevarer, der afspejler deres drivhusgasudledning.  \\\n",
       "Navn                                                                                                                \n",
       "Erling Præstekjær                                                        0                                          \n",
       "Jakob Kjærsgaard                                                         0                                          \n",
       "Freya Luna Andersen                                                      0                                          \n",
       "Allan Berg                                                               0                                          \n",
       "Ib Bjerregaard                                                           0                                          \n",
       "Tenna Røberg                                                             0                                          \n",
       "Thorbjørn Jacobsen                                                       0                                          \n",
       "Hans Christian Molbech                                                   0                                          \n",
       "Dina Raabjerg                                                            0                                          \n",
       "Anders Andreasen                                                         0                                          \n",
       "Mogens Birkelund                                                         0                                          \n",
       "Peter Kempf Pedersen                                                     0                                          \n",
       "Keld Marstrand Wang                                                      1                                          \n",
       "Christian Ivan Jacobsen                                                  0                                          \n",
       "Maria Temponeras                                                         0                                          \n",
       "Charlotte Lindberg                                                       0                                          \n",
       "Emma Thorup Jacobsen                                                     2                                          \n",
       "Aksel Rosager Johansen                                                   2                                          \n",
       "Johan Brødsgaard                                                         2                                          \n",
       "Peter Sig Kristensen                                                     2                                          \n",
       "Kirsten Hindbo                                                           2                                          \n",
       "\n",
       "                         Der skal være en klimaafgift specifikt på alle animalske fødevarer  \\\n",
       "Navn                                                                                          \n",
       "Erling Præstekjær                                                        0                    \n",
       "Jakob Kjærsgaard                                                         0                    \n",
       "Freya Luna Andersen                                                      0                    \n",
       "Allan Berg                                                               0                    \n",
       "Ib Bjerregaard                                                           0                    \n",
       "Tenna Røberg                                                             0                    \n",
       "Thorbjørn Jacobsen                                                       0                    \n",
       "Hans Christian Molbech                                                   0                    \n",
       "Dina Raabjerg                                                            0                    \n",
       "Anders Andreasen                                                         0                    \n",
       "Mogens Birkelund                                                         0                    \n",
       "Peter Kempf Pedersen                                                     0                    \n",
       "Keld Marstrand Wang                                                      0                    \n",
       "Christian Ivan Jacobsen                                                  0                    \n",
       "Maria Temponeras                                                         0                    \n",
       "Charlotte Lindberg                                                       1                    \n",
       "Emma Thorup Jacobsen                                                     2                    \n",
       "Aksel Rosager Johansen                                                   2                    \n",
       "Johan Brødsgaard                                                         2                    \n",
       "Peter Sig Kristensen                                                     1                    \n",
       "Kirsten Hindbo                                                           2                    \n",
       "\n",
       "                         Finansielle institutioner (banker, pensionskasser og investeringsrådgivere, långivere etc.) skal pålægges hvert år at afrapportere, hvordan deres porteføljer, produkter og långivning bidrager til grøn omstilling af landbruget, herunder især fra animalsk til plantebaseret produktion.  \\\n",
       "Navn                                                                                                                                                                                                                                                                                                                   \n",
       "Erling Præstekjær                                                        0                                                                                                                                                                                                                                             \n",
       "Jakob Kjærsgaard                                                         0                                                                                                                                                                                                                                             \n",
       "Freya Luna Andersen                                                      0                                                                                                                                                                                                                                             \n",
       "Allan Berg                                                               0                                                                                                                                                                                                                                             \n",
       "Ib Bjerregaard                                                           0                                                                                                                                                                                                                                             \n",
       "Tenna Røberg                                                             0                                                                                                                                                                                                                                             \n",
       "Thorbjørn Jacobsen                                                       0                                                                                                                                                                                                                                             \n",
       "Hans Christian Molbech                                                   0                                                                                                                                                                                                                                             \n",
       "Dina Raabjerg                                                            0                                                                                                                                                                                                                                             \n",
       "Anders Andreasen                                                         0                                                                                                                                                                                                                                             \n",
       "Mogens Birkelund                                                         1                                                                                                                                                                                                                                             \n",
       "Peter Kempf Pedersen                                                     1                                                                                                                                                                                                                                             \n",
       "Keld Marstrand Wang                                                      0                                                                                                                                                                                                                                             \n",
       "Christian Ivan Jacobsen                                                  1                                                                                                                                                                                                                                             \n",
       "Maria Temponeras                                                         1                                                                                                                                                                                                                                             \n",
       "Charlotte Lindberg                                                       0                                                                                                                                                                                                                                             \n",
       "Emma Thorup Jacobsen                                                     2                                                                                                                                                                                                                                             \n",
       "Aksel Rosager Johansen                                                   1                                                                                                                                                                                                                                             \n",
       "Johan Brødsgaard                                                         1                                                                                                                                                                                                                                             \n",
       "Peter Sig Kristensen                                                     2                                                                                                                                                                                                                                             \n",
       "Kirsten Hindbo                                                           2                                                                                                                                                                                                                                             \n",
       "\n",
       "                         Fonden for Plantebaserede Fødevarer skal have mindst 200 mio. kr. ekstra årligt udover de eksisterende 85 mio. kr. årligt, så niveauet i højere grad svarer til omfanget af den nødvendige omstilling.  \\\n",
       "Navn                                                                                                                                                                                                                              \n",
       "Erling Præstekjær                                                        0                                                                                                                                                        \n",
       "Jakob Kjærsgaard                                                         0                                                                                                                                                        \n",
       "Freya Luna Andersen                                                      0                                                                                                                                                        \n",
       "Allan Berg                                                               0                                                                                                                                                        \n",
       "Ib Bjerregaard                                                           0                                                                                                                                                        \n",
       "Tenna Røberg                                                             0                                                                                                                                                        \n",
       "Thorbjørn Jacobsen                                                       0                                                                                                                                                        \n",
       "Hans Christian Molbech                                                   0                                                                                                                                                        \n",
       "Dina Raabjerg                                                            0                                                                                                                                                        \n",
       "Anders Andreasen                                                         0                                                                                                                                                        \n",
       "Mogens Birkelund                                                         0                                                                                                                                                        \n",
       "Peter Kempf Pedersen                                                     0                                                                                                                                                        \n",
       "Keld Marstrand Wang                                                      0                                                                                                                                                        \n",
       "Christian Ivan Jacobsen                                                  2                                                                                                                                                        \n",
       "Maria Temponeras                                                         1                                                                                                                                                        \n",
       "Charlotte Lindberg                                                       0                                                                                                                                                        \n",
       "Emma Thorup Jacobsen                                                     0                                                                                                                                                        \n",
       "Aksel Rosager Johansen                                                   2                                                                                                                                                        \n",
       "Johan Brødsgaard                                                         1                                                                                                                                                        \n",
       "Peter Sig Kristensen                                                     2                                                                                                                                                        \n",
       "Kirsten Hindbo                                                           2                                                                                                                                                        \n",
       "\n",
       "                         Forskningsmidler indenfor fødevarer skal omlægges til i højere grad at fokusere på klimavenlige, plantebaserede fødevarer frem for animalske.  \\\n",
       "Navn                                                                                                                                                                     \n",
       "Erling Præstekjær                                                        0                                                                                               \n",
       "Jakob Kjærsgaard                                                         0                                                                                               \n",
       "Freya Luna Andersen                                                      0                                                                                               \n",
       "Allan Berg                                                               0                                                                                               \n",
       "Ib Bjerregaard                                                           0                                                                                               \n",
       "Tenna Røberg                                                             0                                                                                               \n",
       "Thorbjørn Jacobsen                                                       1                                                                                               \n",
       "Hans Christian Molbech                                                   0                                                                                               \n",
       "Dina Raabjerg                                                            0                                                                                               \n",
       "Anders Andreasen                                                         0                                                                                               \n",
       "Mogens Birkelund                                                         0                                                                                               \n",
       "Peter Kempf Pedersen                                                     1                                                                                               \n",
       "Keld Marstrand Wang                                                      1                                                                                               \n",
       "Christian Ivan Jacobsen                                                  1                                                                                               \n",
       "Maria Temponeras                                                         2                                                                                               \n",
       "Charlotte Lindberg                                                       1                                                                                               \n",
       "Emma Thorup Jacobsen                                                     2                                                                                               \n",
       "Aksel Rosager Johansen                                                   2                                                                                               \n",
       "Johan Brødsgaard                                                         2                                                                                               \n",
       "Peter Sig Kristensen                                                     1                                                                                               \n",
       "Kirsten Hindbo                                                           2                                                                                               \n",
       "\n",
       "                         Den danske animalske landbrugsproduktion står for en stor andel af den samlede danske drivhusgasudledning. Derfor skal antallet af landbrugsdyr (svin, kyllinger, køer, osv.) mindskes til halvdelen af det nuværende antal i 2030.  \\\n",
       "Navn                                                                                                                                                                                                                                                           \n",
       "Erling Præstekjær                                                        0                                                                                                                                                                                     \n",
       "Jakob Kjærsgaard                                                         0                                                                                                                                                                                     \n",
       "Freya Luna Andersen                                                      0                                                                                                                                                                                     \n",
       "Allan Berg                                                               0                                                                                                                                                                                     \n",
       "Ib Bjerregaard                                                           0                                                                                                                                                                                     \n",
       "Tenna Røberg                                                             0                                                                                                                                                                                     \n",
       "Thorbjørn Jacobsen                                                       0                                                                                                                                                                                     \n",
       "Hans Christian Molbech                                                   0                                                                                                                                                                                     \n",
       "Dina Raabjerg                                                            0                                                                                                                                                                                     \n",
       "Anders Andreasen                                                         0                                                                                                                                                                                     \n",
       "Mogens Birkelund                                                         0                                                                                                                                                                                     \n",
       "Peter Kempf Pedersen                                                     0                                                                                                                                                                                     \n",
       "Keld Marstrand Wang                                                      0                                                                                                                                                                                     \n",
       "Christian Ivan Jacobsen                                                  2                                                                                                                                                                                     \n",
       "Maria Temponeras                                                         2                                                                                                                                                                                     \n",
       "Charlotte Lindberg                                                       2                                                                                                                                                                                     \n",
       "Emma Thorup Jacobsen                                                     2                                                                                                                                                                                     \n",
       "Aksel Rosager Johansen                                                   2                                                                                                                                                                                     \n",
       "Johan Brødsgaard                                                         2                                                                                                                                                                                     \n",
       "Peter Sig Kristensen                                                     2                                                                                                                                                                                     \n",
       "Kirsten Hindbo                                                           2                                                                                                                                                                                     \n",
       "\n",
       "                         Landmænd, der vil omlægge deres produktion til flere plantebaserede afgrøder til mennesker, skal kunne modtage gratis efteruddannelse.  \\\n",
       "Navn                                                                                                                                                              \n",
       "Erling Præstekjær                                                        0                                                                                        \n",
       "Jakob Kjærsgaard                                                         0                                                                                        \n",
       "Freya Luna Andersen                                                      0                                                                                        \n",
       "Allan Berg                                                               0                                                                                        \n",
       "Ib Bjerregaard                                                           0                                                                                        \n",
       "Tenna Røberg                                                             1                                                                                        \n",
       "Thorbjørn Jacobsen                                                       0                                                                                        \n",
       "Hans Christian Molbech                                                   0                                                                                        \n",
       "Dina Raabjerg                                                            0                                                                                        \n",
       "Anders Andreasen                                                         0                                                                                        \n",
       "Mogens Birkelund                                                         1                                                                                        \n",
       "Peter Kempf Pedersen                                                     1                                                                                        \n",
       "Keld Marstrand Wang                                                      2                                                                                        \n",
       "Christian Ivan Jacobsen                                                  2                                                                                        \n",
       "Maria Temponeras                                                         2                                                                                        \n",
       "Charlotte Lindberg                                                       2                                                                                        \n",
       "Emma Thorup Jacobsen                                                     2                                                                                        \n",
       "Aksel Rosager Johansen                                                   2                                                                                        \n",
       "Johan Brødsgaard                                                         1                                                                                        \n",
       "Peter Sig Kristensen                                                     2                                                                                        \n",
       "Kirsten Hindbo                                                           2                                                                                        \n",
       "\n",
       "                         Støtteordninger til fødevareerhvervet skal omlægges til i højere grad at støtte klimavenlige, plantebaserede fødevarer frem for animalske.  \\\n",
       "Navn                                                                                                                                                                  \n",
       "Erling Præstekjær                                                        0                                                                                            \n",
       "Jakob Kjærsgaard                                                         0                                                                                            \n",
       "Freya Luna Andersen                                                      0                                                                                            \n",
       "Allan Berg                                                               0                                                                                            \n",
       "Ib Bjerregaard                                                           0                                                                                            \n",
       "Tenna Røberg                                                             0                                                                                            \n",
       "Thorbjørn Jacobsen                                                       1                                                                                            \n",
       "Hans Christian Molbech                                                   0                                                                                            \n",
       "Dina Raabjerg                                                            0                                                                                            \n",
       "Anders Andreasen                                                         0                                                                                            \n",
       "Mogens Birkelund                                                         0                                                                                            \n",
       "Peter Kempf Pedersen                                                     1                                                                                            \n",
       "Keld Marstrand Wang                                                      2                                                                                            \n",
       "Christian Ivan Jacobsen                                                  2                                                                                            \n",
       "Maria Temponeras                                                         2                                                                                            \n",
       "Charlotte Lindberg                                                       2                                                                                            \n",
       "Emma Thorup Jacobsen                                                     2                                                                                            \n",
       "Aksel Rosager Johansen                                                   2                                                                                            \n",
       "Johan Brødsgaard                                                         2                                                                                            \n",
       "Peter Sig Kristensen                                                     2                                                                                            \n",
       "Kirsten Hindbo                                                           2                                                                                            \n",
       "\n",
       "                         Score       Kost_color  \n",
       "Navn                                             \n",
       "Erling Præstekjær            0             grey  \n",
       "Jakob Kjærsgaard             0             grey  \n",
       "Freya Luna Andersen          1             grey  \n",
       "Allan Berg                   2              red  \n",
       "Ib Bjerregaard               2              red  \n",
       "Tenna Røberg                 3        turquoise  \n",
       "Thorbjørn Jacobsen           4              red  \n",
       "Hans Christian Molbech       4             grey  \n",
       "Dina Raabjerg                7             grey  \n",
       "Anders Andreasen             8             grey  \n",
       "Mogens Birkelund            10              red  \n",
       "Peter Kempf Pedersen        11              red  \n",
       "Keld Marstrand Wang         19        turquoise  \n",
       "Christian Ivan Jacobsen     21        turquoise  \n",
       "Maria Temponeras            22        turquoise  \n",
       "Charlotte Lindberg          23              red  \n",
       "Emma Thorup Jacobsen        26        turquoise  \n",
       "Aksel Rosager Johansen      27        turquoise  \n",
       "Johan Brødsgaard            27  rgb(140,190,84)  \n",
       "Peter Sig Kristensen        29              red  \n",
       "Kirsten Hindbo              32  rgb(140,190,84)  \n",
       "\n",
       "[21 rows x 27 columns]"
      ]
     },
     "execution_count": 8,
     "metadata": {},
     "output_type": "execute_result"
    }
   ],
   "source": [
    "df_temp = df_nameIndex[df_nameIndex[\"Storkreds\"]==value]\n",
    "df_temp = df_temp.sort_values(\"Score\")\n",
    "df_temp"
   ]
  },
  {
   "cell_type": "code",
   "execution_count": 13,
   "id": "859e4176",
   "metadata": {},
   "outputs": [
    {
     "data": {
      "text/plain": [
       "42"
      ]
     },
     "execution_count": 13,
     "metadata": {},
     "output_type": "execute_result"
    }
   ],
   "source": [
    "len(df_temp)*2"
   ]
  },
  {
   "cell_type": "code",
   "execution_count": null,
   "id": "56399fcd",
   "metadata": {},
   "outputs": [],
   "source": []
  },
  {
   "cell_type": "code",
   "execution_count": 19,
   "id": "264f6d7c",
   "metadata": {},
   "outputs": [
    {
     "data": {
      "application/vnd.plotly.v1+json": {
       "config": {
        "plotlyServerURL": "https://plot.ly"
       },
       "data": [
        {
         "hoverinfo": [
          "none",
          "x+y+text"
         ],
         "hovertext": [
          "O. Dansk Folkeparti",
          "O. Dansk Folkeparti"
         ],
         "line": {
          "color": "rgb(140,190,84)"
         },
         "marker": {
          "color": "grey",
          "size": [
           0,
           12
          ]
         },
         "showlegend": false,
         "type": "scatter",
         "x": [
          0,
          0
         ],
         "y": [
          0,
          0
         ]
        },
        {
         "hoverinfo": [
          "none",
          "x+y+text"
         ],
         "hovertext": [
          "O. Dansk Folkeparti",
          "O. Dansk Folkeparti"
         ],
         "line": {
          "color": "rgb(140,190,84)"
         },
         "marker": {
          "color": "grey",
          "size": [
           0,
           12
          ]
         },
         "showlegend": false,
         "type": "scatter",
         "x": [
          0,
          0
         ],
         "y": [
          1,
          1
         ]
        },
        {
         "hoverinfo": [
          "none",
          "x+y+text"
         ],
         "hovertext": [
          "M. Moderaterne",
          "M. Moderaterne"
         ],
         "line": {
          "color": "rgb(140,190,84)"
         },
         "marker": {
          "color": "grey",
          "size": [
           0,
           12
          ]
         },
         "showlegend": false,
         "type": "scatter",
         "x": [
          0,
          1
         ],
         "y": [
          2,
          2
         ]
        },
        {
         "hoverinfo": [
          "none",
          "x+y+text"
         ],
         "hovertext": [
          "D. Nye Borgerlige",
          "D. Nye Borgerlige"
         ],
         "line": {
          "color": "rgb(140,190,84)"
         },
         "marker": {
          "color": "red",
          "size": [
           0,
           12
          ]
         },
         "showlegend": false,
         "type": "scatter",
         "x": [
          0,
          2
         ],
         "y": [
          3,
          3
         ]
        },
        {
         "hoverinfo": [
          "none",
          "x+y+text"
         ],
         "hovertext": [
          "V. Venstre",
          "V. Venstre"
         ],
         "line": {
          "color": "rgb(140,190,84)"
         },
         "marker": {
          "color": "red",
          "size": [
           0,
           12
          ]
         },
         "showlegend": false,
         "type": "scatter",
         "x": [
          0,
          2
         ],
         "y": [
          4,
          4
         ]
        },
        {
         "hoverinfo": [
          "none",
          "x+y+text"
         ],
         "hovertext": [
          "D. Nye Borgerlige",
          "D. Nye Borgerlige"
         ],
         "line": {
          "color": "rgb(140,190,84)"
         },
         "marker": {
          "color": "turquoise",
          "size": [
           0,
           12
          ]
         },
         "showlegend": false,
         "type": "scatter",
         "x": [
          0,
          3
         ],
         "y": [
          5,
          5
         ]
        },
        {
         "hoverinfo": [
          "none",
          "x+y+text"
         ],
         "hovertext": [
          "I. Liberal Alliance",
          "I. Liberal Alliance"
         ],
         "line": {
          "color": "rgb(140,190,84)"
         },
         "marker": {
          "color": "red",
          "size": [
           0,
           12
          ]
         },
         "showlegend": false,
         "type": "scatter",
         "x": [
          0,
          4
         ],
         "y": [
          6,
          6
         ]
        },
        {
         "hoverinfo": [
          "none",
          "x+y+text"
         ],
         "hovertext": [
          "Å. Alternativet",
          "Å. Alternativet"
         ],
         "line": {
          "color": "rgb(140,190,84)"
         },
         "marker": {
          "color": "grey",
          "size": [
           0,
           12
          ]
         },
         "showlegend": false,
         "type": "scatter",
         "x": [
          0,
          4
         ],
         "y": [
          7,
          7
         ]
        },
        {
         "hoverinfo": [
          "none",
          "x+y+text"
         ],
         "hovertext": [
          "C. Det Konservative Folkeparti",
          "C. Det Konservative Folkeparti"
         ],
         "line": {
          "color": "rgb(140,190,84)"
         },
         "marker": {
          "color": "grey",
          "size": [
           0,
           12
          ]
         },
         "showlegend": false,
         "type": "scatter",
         "x": [
          0,
          7
         ],
         "y": [
          8,
          8
         ]
        },
        {
         "hoverinfo": [
          "none",
          "x+y+text"
         ],
         "hovertext": [
          "A. Socialdemokratiet",
          "A. Socialdemokratiet"
         ],
         "line": {
          "color": "rgb(140,190,84)"
         },
         "marker": {
          "color": "grey",
          "size": [
           0,
           12
          ]
         },
         "showlegend": false,
         "type": "scatter",
         "x": [
          0,
          8
         ],
         "y": [
          9,
          9
         ]
        },
        {
         "hoverinfo": [
          "none",
          "x+y+text"
         ],
         "hovertext": [
          "C. Det Konservative Folkeparti",
          "C. Det Konservative Folkeparti"
         ],
         "line": {
          "color": "rgb(140,190,84)"
         },
         "marker": {
          "color": "red",
          "size": [
           0,
           12
          ]
         },
         "showlegend": false,
         "type": "scatter",
         "x": [
          0,
          10
         ],
         "y": [
          10,
          10
         ]
        },
        {
         "hoverinfo": [
          "none",
          "x+y+text"
         ],
         "hovertext": [
          "A. Socialdemokratiet",
          "A. Socialdemokratiet"
         ],
         "line": {
          "color": "rgb(140,190,84)"
         },
         "marker": {
          "color": "red",
          "size": [
           0,
           12
          ]
         },
         "showlegend": false,
         "type": "scatter",
         "x": [
          0,
          11
         ],
         "y": [
          11,
          11
         ]
        },
        {
         "hoverinfo": [
          "none",
          "x+y+text"
         ],
         "hovertext": [
          "B. Det Radikale Venstre",
          "B. Det Radikale Venstre"
         ],
         "line": {
          "color": "rgb(140,190,84)"
         },
         "marker": {
          "color": "turquoise",
          "size": [
           0,
           12
          ]
         },
         "showlegend": false,
         "type": "scatter",
         "x": [
          0,
          19
         ],
         "y": [
          12,
          12
         ]
        },
        {
         "hoverinfo": [
          "none",
          "x+y+text"
         ],
         "hovertext": [
          "Ø. Enhedslisten",
          "Ø. Enhedslisten"
         ],
         "line": {
          "color": "rgb(140,190,84)"
         },
         "marker": {
          "color": "turquoise",
          "size": [
           0,
           12
          ]
         },
         "showlegend": false,
         "type": "scatter",
         "x": [
          0,
          21
         ],
         "y": [
          13,
          13
         ]
        },
        {
         "hoverinfo": [
          "none",
          "x+y+text"
         ],
         "hovertext": [
          "Ø. Enhedslisten",
          "Ø. Enhedslisten"
         ],
         "line": {
          "color": "rgb(140,190,84)"
         },
         "marker": {
          "color": "turquoise",
          "size": [
           0,
           12
          ]
         },
         "showlegend": false,
         "type": "scatter",
         "x": [
          0,
          22
         ],
         "y": [
          14,
          14
         ]
        },
        {
         "hoverinfo": [
          "none",
          "x+y+text"
         ],
         "hovertext": [
          "Ø. Enhedslisten",
          "Ø. Enhedslisten"
         ],
         "line": {
          "color": "rgb(140,190,84)"
         },
         "marker": {
          "color": "red",
          "size": [
           0,
           12
          ]
         },
         "showlegend": false,
         "type": "scatter",
         "x": [
          0,
          23
         ],
         "y": [
          15,
          15
         ]
        },
        {
         "hoverinfo": [
          "none",
          "x+y+text"
         ],
         "hovertext": [
          "F. Socialistisk Folkeparti",
          "F. Socialistisk Folkeparti"
         ],
         "line": {
          "color": "rgb(140,190,84)"
         },
         "marker": {
          "color": "turquoise",
          "size": [
           0,
           12
          ]
         },
         "showlegend": false,
         "type": "scatter",
         "x": [
          0,
          26
         ],
         "y": [
          16,
          16
         ]
        },
        {
         "hoverinfo": [
          "none",
          "x+y+text"
         ],
         "hovertext": [
          "Ø. Enhedslisten",
          "Ø. Enhedslisten"
         ],
         "line": {
          "color": "rgb(140,190,84)"
         },
         "marker": {
          "color": "turquoise",
          "size": [
           0,
           12
          ]
         },
         "showlegend": false,
         "type": "scatter",
         "x": [
          0,
          27
         ],
         "y": [
          17,
          17
         ]
        },
        {
         "hoverinfo": [
          "none",
          "x+y+text"
         ],
         "hovertext": [
          "B. Det Radikale Venstre",
          "B. Det Radikale Venstre"
         ],
         "line": {
          "color": "rgb(140,190,84)"
         },
         "marker": {
          "color": "rgb(140,190,84)",
          "size": [
           0,
           12
          ]
         },
         "showlegend": false,
         "type": "scatter",
         "x": [
          0,
          27
         ],
         "y": [
          18,
          18
         ]
        },
        {
         "hoverinfo": [
          "none",
          "x+y+text"
         ],
         "hovertext": [
          "Ø. Enhedslisten",
          "Ø. Enhedslisten"
         ],
         "line": {
          "color": "rgb(140,190,84)"
         },
         "marker": {
          "color": "red",
          "size": [
           0,
           12
          ]
         },
         "showlegend": false,
         "type": "scatter",
         "x": [
          0,
          29
         ],
         "y": [
          19,
          19
         ]
        },
        {
         "hoverinfo": [
          "none",
          "x+y+text"
         ],
         "hovertext": [
          "Å. Alternativet",
          "Å. Alternativet"
         ],
         "line": {
          "color": "rgb(140,190,84)"
         },
         "marker": {
          "color": "rgb(140,190,84)",
          "size": [
           0,
           12
          ]
         },
         "showlegend": false,
         "type": "scatter",
         "x": [
          0,
          32
         ],
         "y": [
          20,
          20
         ]
        },
        {
         "marker": {
          "color": "red",
          "size": [
           0
          ]
         },
         "name": "Kødspiser",
         "type": "scatter",
         "x": [
          0
         ],
         "y": [
          0
         ]
        },
        {
         "marker": {
          "color": "turquoise",
          "size": [
           0
          ]
         },
         "name": "Fleksitar",
         "type": "scatter",
         "x": [
          0
         ],
         "y": [
          0
         ]
        },
        {
         "marker": {
          "color": "blue",
          "size": [
           0
          ]
         },
         "name": "Pescetar",
         "type": "scatter",
         "x": [
          0
         ],
         "y": [
          0
         ]
        },
        {
         "marker": {
          "color": "rgb(140,190,84)",
          "size": [
           0
          ]
         },
         "name": "Vegetar",
         "type": "scatter",
         "x": [
          0
         ],
         "y": [
          0
         ]
        },
        {
         "marker": {
          "color": "rgb(16,114,60)",
          "size": [
           0
          ]
         },
         "name": "Veganer",
         "type": "scatter",
         "x": [
          0
         ],
         "y": [
          0
         ]
        },
        {
         "marker": {
          "color": "grey",
          "size": [
           0
          ]
         },
         "name": "Ønsker ikke at svare",
         "type": "scatter",
         "x": [
          0
         ],
         "y": [
          0
         ]
        }
       ],
       "layout": {
        "legend": {
         "itemsizing": "constant"
        },
        "template": {
         "data": {
          "bar": [
           {
            "error_x": {
             "color": "#2a3f5f"
            },
            "error_y": {
             "color": "#2a3f5f"
            },
            "marker": {
             "line": {
              "color": "#E5ECF6",
              "width": 0.5
             },
             "pattern": {
              "fillmode": "overlay",
              "size": 10,
              "solidity": 0.2
             }
            },
            "type": "bar"
           }
          ],
          "barpolar": [
           {
            "marker": {
             "line": {
              "color": "#E5ECF6",
              "width": 0.5
             },
             "pattern": {
              "fillmode": "overlay",
              "size": 10,
              "solidity": 0.2
             }
            },
            "type": "barpolar"
           }
          ],
          "carpet": [
           {
            "aaxis": {
             "endlinecolor": "#2a3f5f",
             "gridcolor": "white",
             "linecolor": "white",
             "minorgridcolor": "white",
             "startlinecolor": "#2a3f5f"
            },
            "baxis": {
             "endlinecolor": "#2a3f5f",
             "gridcolor": "white",
             "linecolor": "white",
             "minorgridcolor": "white",
             "startlinecolor": "#2a3f5f"
            },
            "type": "carpet"
           }
          ],
          "choropleth": [
           {
            "colorbar": {
             "outlinewidth": 0,
             "ticks": ""
            },
            "type": "choropleth"
           }
          ],
          "contour": [
           {
            "colorbar": {
             "outlinewidth": 0,
             "ticks": ""
            },
            "colorscale": [
             [
              0,
              "#0d0887"
             ],
             [
              0.1111111111111111,
              "#46039f"
             ],
             [
              0.2222222222222222,
              "#7201a8"
             ],
             [
              0.3333333333333333,
              "#9c179e"
             ],
             [
              0.4444444444444444,
              "#bd3786"
             ],
             [
              0.5555555555555556,
              "#d8576b"
             ],
             [
              0.6666666666666666,
              "#ed7953"
             ],
             [
              0.7777777777777778,
              "#fb9f3a"
             ],
             [
              0.8888888888888888,
              "#fdca26"
             ],
             [
              1,
              "#f0f921"
             ]
            ],
            "type": "contour"
           }
          ],
          "contourcarpet": [
           {
            "colorbar": {
             "outlinewidth": 0,
             "ticks": ""
            },
            "type": "contourcarpet"
           }
          ],
          "heatmap": [
           {
            "colorbar": {
             "outlinewidth": 0,
             "ticks": ""
            },
            "colorscale": [
             [
              0,
              "#0d0887"
             ],
             [
              0.1111111111111111,
              "#46039f"
             ],
             [
              0.2222222222222222,
              "#7201a8"
             ],
             [
              0.3333333333333333,
              "#9c179e"
             ],
             [
              0.4444444444444444,
              "#bd3786"
             ],
             [
              0.5555555555555556,
              "#d8576b"
             ],
             [
              0.6666666666666666,
              "#ed7953"
             ],
             [
              0.7777777777777778,
              "#fb9f3a"
             ],
             [
              0.8888888888888888,
              "#fdca26"
             ],
             [
              1,
              "#f0f921"
             ]
            ],
            "type": "heatmap"
           }
          ],
          "heatmapgl": [
           {
            "colorbar": {
             "outlinewidth": 0,
             "ticks": ""
            },
            "colorscale": [
             [
              0,
              "#0d0887"
             ],
             [
              0.1111111111111111,
              "#46039f"
             ],
             [
              0.2222222222222222,
              "#7201a8"
             ],
             [
              0.3333333333333333,
              "#9c179e"
             ],
             [
              0.4444444444444444,
              "#bd3786"
             ],
             [
              0.5555555555555556,
              "#d8576b"
             ],
             [
              0.6666666666666666,
              "#ed7953"
             ],
             [
              0.7777777777777778,
              "#fb9f3a"
             ],
             [
              0.8888888888888888,
              "#fdca26"
             ],
             [
              1,
              "#f0f921"
             ]
            ],
            "type": "heatmapgl"
           }
          ],
          "histogram": [
           {
            "marker": {
             "pattern": {
              "fillmode": "overlay",
              "size": 10,
              "solidity": 0.2
             }
            },
            "type": "histogram"
           }
          ],
          "histogram2d": [
           {
            "colorbar": {
             "outlinewidth": 0,
             "ticks": ""
            },
            "colorscale": [
             [
              0,
              "#0d0887"
             ],
             [
              0.1111111111111111,
              "#46039f"
             ],
             [
              0.2222222222222222,
              "#7201a8"
             ],
             [
              0.3333333333333333,
              "#9c179e"
             ],
             [
              0.4444444444444444,
              "#bd3786"
             ],
             [
              0.5555555555555556,
              "#d8576b"
             ],
             [
              0.6666666666666666,
              "#ed7953"
             ],
             [
              0.7777777777777778,
              "#fb9f3a"
             ],
             [
              0.8888888888888888,
              "#fdca26"
             ],
             [
              1,
              "#f0f921"
             ]
            ],
            "type": "histogram2d"
           }
          ],
          "histogram2dcontour": [
           {
            "colorbar": {
             "outlinewidth": 0,
             "ticks": ""
            },
            "colorscale": [
             [
              0,
              "#0d0887"
             ],
             [
              0.1111111111111111,
              "#46039f"
             ],
             [
              0.2222222222222222,
              "#7201a8"
             ],
             [
              0.3333333333333333,
              "#9c179e"
             ],
             [
              0.4444444444444444,
              "#bd3786"
             ],
             [
              0.5555555555555556,
              "#d8576b"
             ],
             [
              0.6666666666666666,
              "#ed7953"
             ],
             [
              0.7777777777777778,
              "#fb9f3a"
             ],
             [
              0.8888888888888888,
              "#fdca26"
             ],
             [
              1,
              "#f0f921"
             ]
            ],
            "type": "histogram2dcontour"
           }
          ],
          "mesh3d": [
           {
            "colorbar": {
             "outlinewidth": 0,
             "ticks": ""
            },
            "type": "mesh3d"
           }
          ],
          "parcoords": [
           {
            "line": {
             "colorbar": {
              "outlinewidth": 0,
              "ticks": ""
             }
            },
            "type": "parcoords"
           }
          ],
          "pie": [
           {
            "automargin": true,
            "type": "pie"
           }
          ],
          "scatter": [
           {
            "fillpattern": {
             "fillmode": "overlay",
             "size": 10,
             "solidity": 0.2
            },
            "type": "scatter"
           }
          ],
          "scatter3d": [
           {
            "line": {
             "colorbar": {
              "outlinewidth": 0,
              "ticks": ""
             }
            },
            "marker": {
             "colorbar": {
              "outlinewidth": 0,
              "ticks": ""
             }
            },
            "type": "scatter3d"
           }
          ],
          "scattercarpet": [
           {
            "marker": {
             "colorbar": {
              "outlinewidth": 0,
              "ticks": ""
             }
            },
            "type": "scattercarpet"
           }
          ],
          "scattergeo": [
           {
            "marker": {
             "colorbar": {
              "outlinewidth": 0,
              "ticks": ""
             }
            },
            "type": "scattergeo"
           }
          ],
          "scattergl": [
           {
            "marker": {
             "colorbar": {
              "outlinewidth": 0,
              "ticks": ""
             }
            },
            "type": "scattergl"
           }
          ],
          "scattermapbox": [
           {
            "marker": {
             "colorbar": {
              "outlinewidth": 0,
              "ticks": ""
             }
            },
            "type": "scattermapbox"
           }
          ],
          "scatterpolar": [
           {
            "marker": {
             "colorbar": {
              "outlinewidth": 0,
              "ticks": ""
             }
            },
            "type": "scatterpolar"
           }
          ],
          "scatterpolargl": [
           {
            "marker": {
             "colorbar": {
              "outlinewidth": 0,
              "ticks": ""
             }
            },
            "type": "scatterpolargl"
           }
          ],
          "scatterternary": [
           {
            "marker": {
             "colorbar": {
              "outlinewidth": 0,
              "ticks": ""
             }
            },
            "type": "scatterternary"
           }
          ],
          "surface": [
           {
            "colorbar": {
             "outlinewidth": 0,
             "ticks": ""
            },
            "colorscale": [
             [
              0,
              "#0d0887"
             ],
             [
              0.1111111111111111,
              "#46039f"
             ],
             [
              0.2222222222222222,
              "#7201a8"
             ],
             [
              0.3333333333333333,
              "#9c179e"
             ],
             [
              0.4444444444444444,
              "#bd3786"
             ],
             [
              0.5555555555555556,
              "#d8576b"
             ],
             [
              0.6666666666666666,
              "#ed7953"
             ],
             [
              0.7777777777777778,
              "#fb9f3a"
             ],
             [
              0.8888888888888888,
              "#fdca26"
             ],
             [
              1,
              "#f0f921"
             ]
            ],
            "type": "surface"
           }
          ],
          "table": [
           {
            "cells": {
             "fill": {
              "color": "#EBF0F8"
             },
             "line": {
              "color": "white"
             }
            },
            "header": {
             "fill": {
              "color": "#C8D4E3"
             },
             "line": {
              "color": "white"
             }
            },
            "type": "table"
           }
          ]
         },
         "layout": {
          "annotationdefaults": {
           "arrowcolor": "#2a3f5f",
           "arrowhead": 0,
           "arrowwidth": 1
          },
          "autotypenumbers": "strict",
          "coloraxis": {
           "colorbar": {
            "outlinewidth": 0,
            "ticks": ""
           }
          },
          "colorscale": {
           "diverging": [
            [
             0,
             "#8e0152"
            ],
            [
             0.1,
             "#c51b7d"
            ],
            [
             0.2,
             "#de77ae"
            ],
            [
             0.3,
             "#f1b6da"
            ],
            [
             0.4,
             "#fde0ef"
            ],
            [
             0.5,
             "#f7f7f7"
            ],
            [
             0.6,
             "#e6f5d0"
            ],
            [
             0.7,
             "#b8e186"
            ],
            [
             0.8,
             "#7fbc41"
            ],
            [
             0.9,
             "#4d9221"
            ],
            [
             1,
             "#276419"
            ]
           ],
           "sequential": [
            [
             0,
             "#0d0887"
            ],
            [
             0.1111111111111111,
             "#46039f"
            ],
            [
             0.2222222222222222,
             "#7201a8"
            ],
            [
             0.3333333333333333,
             "#9c179e"
            ],
            [
             0.4444444444444444,
             "#bd3786"
            ],
            [
             0.5555555555555556,
             "#d8576b"
            ],
            [
             0.6666666666666666,
             "#ed7953"
            ],
            [
             0.7777777777777778,
             "#fb9f3a"
            ],
            [
             0.8888888888888888,
             "#fdca26"
            ],
            [
             1,
             "#f0f921"
            ]
           ],
           "sequentialminus": [
            [
             0,
             "#0d0887"
            ],
            [
             0.1111111111111111,
             "#46039f"
            ],
            [
             0.2222222222222222,
             "#7201a8"
            ],
            [
             0.3333333333333333,
             "#9c179e"
            ],
            [
             0.4444444444444444,
             "#bd3786"
            ],
            [
             0.5555555555555556,
             "#d8576b"
            ],
            [
             0.6666666666666666,
             "#ed7953"
            ],
            [
             0.7777777777777778,
             "#fb9f3a"
            ],
            [
             0.8888888888888888,
             "#fdca26"
            ],
            [
             1,
             "#f0f921"
            ]
           ]
          },
          "colorway": [
           "#636efa",
           "#EF553B",
           "#00cc96",
           "#ab63fa",
           "#FFA15A",
           "#19d3f3",
           "#FF6692",
           "#B6E880",
           "#FF97FF",
           "#FECB52"
          ],
          "font": {
           "color": "#2a3f5f"
          },
          "geo": {
           "bgcolor": "white",
           "lakecolor": "white",
           "landcolor": "#E5ECF6",
           "showlakes": true,
           "showland": true,
           "subunitcolor": "white"
          },
          "hoverlabel": {
           "align": "left"
          },
          "hovermode": "closest",
          "mapbox": {
           "style": "light"
          },
          "paper_bgcolor": "white",
          "plot_bgcolor": "#E5ECF6",
          "polar": {
           "angularaxis": {
            "gridcolor": "white",
            "linecolor": "white",
            "ticks": ""
           },
           "bgcolor": "#E5ECF6",
           "radialaxis": {
            "gridcolor": "white",
            "linecolor": "white",
            "ticks": ""
           }
          },
          "scene": {
           "xaxis": {
            "backgroundcolor": "#E5ECF6",
            "gridcolor": "white",
            "gridwidth": 2,
            "linecolor": "white",
            "showbackground": true,
            "ticks": "",
            "zerolinecolor": "white"
           },
           "yaxis": {
            "backgroundcolor": "#E5ECF6",
            "gridcolor": "white",
            "gridwidth": 2,
            "linecolor": "white",
            "showbackground": true,
            "ticks": "",
            "zerolinecolor": "white"
           },
           "zaxis": {
            "backgroundcolor": "#E5ECF6",
            "gridcolor": "white",
            "gridwidth": 2,
            "linecolor": "white",
            "showbackground": true,
            "ticks": "",
            "zerolinecolor": "white"
           }
          },
          "shapedefaults": {
           "line": {
            "color": "#2a3f5f"
           }
          },
          "ternary": {
           "aaxis": {
            "gridcolor": "white",
            "linecolor": "white",
            "ticks": ""
           },
           "baxis": {
            "gridcolor": "white",
            "linecolor": "white",
            "ticks": ""
           },
           "bgcolor": "#E5ECF6",
           "caxis": {
            "gridcolor": "white",
            "linecolor": "white",
            "ticks": ""
           }
          },
          "title": {
           "x": 0.05
          },
          "xaxis": {
           "automargin": true,
           "gridcolor": "white",
           "linecolor": "white",
           "ticks": "",
           "title": {
            "standoff": 15
           },
           "zerolinecolor": "white",
           "zerolinewidth": 2
          },
          "yaxis": {
           "automargin": true,
           "gridcolor": "white",
           "linecolor": "white",
           "ticks": "",
           "title": {
            "standoff": 15
           },
           "zerolinecolor": "white",
           "zerolinewidth": 2
          }
         }
        },
        "title": {
         "text": "Kandidater for Vestjyllands Storkreds"
        },
        "yaxis": {
         "tickmode": "array",
         "ticktext": [
          "Erling Præstekjær",
          "Jakob Kjærsgaard",
          "Freya Luna Andersen",
          "Allan Berg",
          "Ib Bjerregaard",
          "Tenna Røberg",
          "Thorbjørn Jacobsen",
          "Hans Christian Molbech",
          "Dina Raabjerg",
          "Anders Andreasen",
          "Mogens Birkelund",
          "Peter Kempf Pedersen",
          "Keld Marstrand Wang",
          "Christian Ivan Jacobsen",
          "Maria Temponeras",
          "Charlotte Lindberg ",
          "Emma Thorup Jacobsen",
          "Aksel Rosager Johansen",
          "Johan Brødsgaard",
          "Peter Sig Kristensen",
          "Kirsten Hindbo"
         ],
         "tickvals": [
          0,
          1,
          2,
          3,
          4,
          5,
          6,
          7,
          8,
          9,
          10,
          11,
          12,
          13,
          14,
          15,
          16,
          17,
          18,
          19,
          20
         ]
        }
       }
      },
      "text/html": [
       "<div>                            <div id=\"2dda5321-136d-4b3a-a3c3-57c9c702b6a4\" class=\"plotly-graph-div\" style=\"height:525px; width:100%;\"></div>            <script type=\"text/javascript\">                require([\"plotly\"], function(Plotly) {                    window.PLOTLYENV=window.PLOTLYENV || {};                                    if (document.getElementById(\"2dda5321-136d-4b3a-a3c3-57c9c702b6a4\")) {                    Plotly.newPlot(                        \"2dda5321-136d-4b3a-a3c3-57c9c702b6a4\",                        [{\"hoverinfo\":[\"none\",\"x+y+text\"],\"hovertext\":[\"O. Dansk Folkeparti\",\"O. Dansk Folkeparti\"],\"line\":{\"color\":\"rgb(140,190,84)\"},\"marker\":{\"color\":\"grey\",\"size\":[0,12]},\"showlegend\":false,\"x\":[0,0],\"y\":[0,0],\"type\":\"scatter\"},{\"hoverinfo\":[\"none\",\"x+y+text\"],\"hovertext\":[\"O. Dansk Folkeparti\",\"O. Dansk Folkeparti\"],\"line\":{\"color\":\"rgb(140,190,84)\"},\"marker\":{\"color\":\"grey\",\"size\":[0,12]},\"showlegend\":false,\"x\":[0,0],\"y\":[1,1],\"type\":\"scatter\"},{\"hoverinfo\":[\"none\",\"x+y+text\"],\"hovertext\":[\"M. Moderaterne\",\"M. Moderaterne\"],\"line\":{\"color\":\"rgb(140,190,84)\"},\"marker\":{\"color\":\"grey\",\"size\":[0,12]},\"showlegend\":false,\"x\":[0,1],\"y\":[2,2],\"type\":\"scatter\"},{\"hoverinfo\":[\"none\",\"x+y+text\"],\"hovertext\":[\"D. Nye Borgerlige\",\"D. Nye Borgerlige\"],\"line\":{\"color\":\"rgb(140,190,84)\"},\"marker\":{\"color\":\"red\",\"size\":[0,12]},\"showlegend\":false,\"x\":[0,2],\"y\":[3,3],\"type\":\"scatter\"},{\"hoverinfo\":[\"none\",\"x+y+text\"],\"hovertext\":[\"V. Venstre\",\"V. Venstre\"],\"line\":{\"color\":\"rgb(140,190,84)\"},\"marker\":{\"color\":\"red\",\"size\":[0,12]},\"showlegend\":false,\"x\":[0,2],\"y\":[4,4],\"type\":\"scatter\"},{\"hoverinfo\":[\"none\",\"x+y+text\"],\"hovertext\":[\"D. Nye Borgerlige\",\"D. Nye Borgerlige\"],\"line\":{\"color\":\"rgb(140,190,84)\"},\"marker\":{\"color\":\"turquoise\",\"size\":[0,12]},\"showlegend\":false,\"x\":[0,3],\"y\":[5,5],\"type\":\"scatter\"},{\"hoverinfo\":[\"none\",\"x+y+text\"],\"hovertext\":[\"I. Liberal Alliance\",\"I. Liberal Alliance\"],\"line\":{\"color\":\"rgb(140,190,84)\"},\"marker\":{\"color\":\"red\",\"size\":[0,12]},\"showlegend\":false,\"x\":[0,4],\"y\":[6,6],\"type\":\"scatter\"},{\"hoverinfo\":[\"none\",\"x+y+text\"],\"hovertext\":[\"\\u00c5. Alternativet\",\"\\u00c5. Alternativet\"],\"line\":{\"color\":\"rgb(140,190,84)\"},\"marker\":{\"color\":\"grey\",\"size\":[0,12]},\"showlegend\":false,\"x\":[0,4],\"y\":[7,7],\"type\":\"scatter\"},{\"hoverinfo\":[\"none\",\"x+y+text\"],\"hovertext\":[\"C. Det Konservative Folkeparti\",\"C. Det Konservative Folkeparti\"],\"line\":{\"color\":\"rgb(140,190,84)\"},\"marker\":{\"color\":\"grey\",\"size\":[0,12]},\"showlegend\":false,\"x\":[0,7],\"y\":[8,8],\"type\":\"scatter\"},{\"hoverinfo\":[\"none\",\"x+y+text\"],\"hovertext\":[\"A. Socialdemokratiet\",\"A. Socialdemokratiet\"],\"line\":{\"color\":\"rgb(140,190,84)\"},\"marker\":{\"color\":\"grey\",\"size\":[0,12]},\"showlegend\":false,\"x\":[0,8],\"y\":[9,9],\"type\":\"scatter\"},{\"hoverinfo\":[\"none\",\"x+y+text\"],\"hovertext\":[\"C. Det Konservative Folkeparti\",\"C. Det Konservative Folkeparti\"],\"line\":{\"color\":\"rgb(140,190,84)\"},\"marker\":{\"color\":\"red\",\"size\":[0,12]},\"showlegend\":false,\"x\":[0,10],\"y\":[10,10],\"type\":\"scatter\"},{\"hoverinfo\":[\"none\",\"x+y+text\"],\"hovertext\":[\"A. Socialdemokratiet\",\"A. Socialdemokratiet\"],\"line\":{\"color\":\"rgb(140,190,84)\"},\"marker\":{\"color\":\"red\",\"size\":[0,12]},\"showlegend\":false,\"x\":[0,11],\"y\":[11,11],\"type\":\"scatter\"},{\"hoverinfo\":[\"none\",\"x+y+text\"],\"hovertext\":[\"B. Det Radikale Venstre\",\"B. Det Radikale Venstre\"],\"line\":{\"color\":\"rgb(140,190,84)\"},\"marker\":{\"color\":\"turquoise\",\"size\":[0,12]},\"showlegend\":false,\"x\":[0,19],\"y\":[12,12],\"type\":\"scatter\"},{\"hoverinfo\":[\"none\",\"x+y+text\"],\"hovertext\":[\"\\u00d8. Enhedslisten\",\"\\u00d8. Enhedslisten\"],\"line\":{\"color\":\"rgb(140,190,84)\"},\"marker\":{\"color\":\"turquoise\",\"size\":[0,12]},\"showlegend\":false,\"x\":[0,21],\"y\":[13,13],\"type\":\"scatter\"},{\"hoverinfo\":[\"none\",\"x+y+text\"],\"hovertext\":[\"\\u00d8. Enhedslisten\",\"\\u00d8. Enhedslisten\"],\"line\":{\"color\":\"rgb(140,190,84)\"},\"marker\":{\"color\":\"turquoise\",\"size\":[0,12]},\"showlegend\":false,\"x\":[0,22],\"y\":[14,14],\"type\":\"scatter\"},{\"hoverinfo\":[\"none\",\"x+y+text\"],\"hovertext\":[\"\\u00d8. Enhedslisten\",\"\\u00d8. Enhedslisten\"],\"line\":{\"color\":\"rgb(140,190,84)\"},\"marker\":{\"color\":\"red\",\"size\":[0,12]},\"showlegend\":false,\"x\":[0,23],\"y\":[15,15],\"type\":\"scatter\"},{\"hoverinfo\":[\"none\",\"x+y+text\"],\"hovertext\":[\"F. Socialistisk Folkeparti\",\"F. Socialistisk Folkeparti\"],\"line\":{\"color\":\"rgb(140,190,84)\"},\"marker\":{\"color\":\"turquoise\",\"size\":[0,12]},\"showlegend\":false,\"x\":[0,26],\"y\":[16,16],\"type\":\"scatter\"},{\"hoverinfo\":[\"none\",\"x+y+text\"],\"hovertext\":[\"\\u00d8. Enhedslisten\",\"\\u00d8. Enhedslisten\"],\"line\":{\"color\":\"rgb(140,190,84)\"},\"marker\":{\"color\":\"turquoise\",\"size\":[0,12]},\"showlegend\":false,\"x\":[0,27],\"y\":[17,17],\"type\":\"scatter\"},{\"hoverinfo\":[\"none\",\"x+y+text\"],\"hovertext\":[\"B. Det Radikale Venstre\",\"B. Det Radikale Venstre\"],\"line\":{\"color\":\"rgb(140,190,84)\"},\"marker\":{\"color\":\"rgb(140,190,84)\",\"size\":[0,12]},\"showlegend\":false,\"x\":[0,27],\"y\":[18,18],\"type\":\"scatter\"},{\"hoverinfo\":[\"none\",\"x+y+text\"],\"hovertext\":[\"\\u00d8. Enhedslisten\",\"\\u00d8. Enhedslisten\"],\"line\":{\"color\":\"rgb(140,190,84)\"},\"marker\":{\"color\":\"red\",\"size\":[0,12]},\"showlegend\":false,\"x\":[0,29],\"y\":[19,19],\"type\":\"scatter\"},{\"hoverinfo\":[\"none\",\"x+y+text\"],\"hovertext\":[\"\\u00c5. Alternativet\",\"\\u00c5. Alternativet\"],\"line\":{\"color\":\"rgb(140,190,84)\"},\"marker\":{\"color\":\"rgb(140,190,84)\",\"size\":[0,12]},\"showlegend\":false,\"x\":[0,32],\"y\":[20,20],\"type\":\"scatter\"},{\"marker\":{\"color\":\"red\",\"size\":[0]},\"name\":\"K\\u00f8dspiser\",\"x\":[0],\"y\":[0],\"type\":\"scatter\"},{\"marker\":{\"color\":\"turquoise\",\"size\":[0]},\"name\":\"Fleksitar\",\"x\":[0],\"y\":[0],\"type\":\"scatter\"},{\"marker\":{\"color\":\"blue\",\"size\":[0]},\"name\":\"Pescetar\",\"x\":[0],\"y\":[0],\"type\":\"scatter\"},{\"marker\":{\"color\":\"rgb(140,190,84)\",\"size\":[0]},\"name\":\"Vegetar\",\"x\":[0],\"y\":[0],\"type\":\"scatter\"},{\"marker\":{\"color\":\"rgb(16,114,60)\",\"size\":[0]},\"name\":\"Veganer\",\"x\":[0],\"y\":[0],\"type\":\"scatter\"},{\"marker\":{\"color\":\"grey\",\"size\":[0]},\"name\":\"\\u00d8nsker ikke at svare\",\"x\":[0],\"y\":[0],\"type\":\"scatter\"}],                        {\"template\":{\"data\":{\"histogram2dcontour\":[{\"type\":\"histogram2dcontour\",\"colorbar\":{\"outlinewidth\":0,\"ticks\":\"\"},\"colorscale\":[[0.0,\"#0d0887\"],[0.1111111111111111,\"#46039f\"],[0.2222222222222222,\"#7201a8\"],[0.3333333333333333,\"#9c179e\"],[0.4444444444444444,\"#bd3786\"],[0.5555555555555556,\"#d8576b\"],[0.6666666666666666,\"#ed7953\"],[0.7777777777777778,\"#fb9f3a\"],[0.8888888888888888,\"#fdca26\"],[1.0,\"#f0f921\"]]}],\"choropleth\":[{\"type\":\"choropleth\",\"colorbar\":{\"outlinewidth\":0,\"ticks\":\"\"}}],\"histogram2d\":[{\"type\":\"histogram2d\",\"colorbar\":{\"outlinewidth\":0,\"ticks\":\"\"},\"colorscale\":[[0.0,\"#0d0887\"],[0.1111111111111111,\"#46039f\"],[0.2222222222222222,\"#7201a8\"],[0.3333333333333333,\"#9c179e\"],[0.4444444444444444,\"#bd3786\"],[0.5555555555555556,\"#d8576b\"],[0.6666666666666666,\"#ed7953\"],[0.7777777777777778,\"#fb9f3a\"],[0.8888888888888888,\"#fdca26\"],[1.0,\"#f0f921\"]]}],\"heatmap\":[{\"type\":\"heatmap\",\"colorbar\":{\"outlinewidth\":0,\"ticks\":\"\"},\"colorscale\":[[0.0,\"#0d0887\"],[0.1111111111111111,\"#46039f\"],[0.2222222222222222,\"#7201a8\"],[0.3333333333333333,\"#9c179e\"],[0.4444444444444444,\"#bd3786\"],[0.5555555555555556,\"#d8576b\"],[0.6666666666666666,\"#ed7953\"],[0.7777777777777778,\"#fb9f3a\"],[0.8888888888888888,\"#fdca26\"],[1.0,\"#f0f921\"]]}],\"heatmapgl\":[{\"type\":\"heatmapgl\",\"colorbar\":{\"outlinewidth\":0,\"ticks\":\"\"},\"colorscale\":[[0.0,\"#0d0887\"],[0.1111111111111111,\"#46039f\"],[0.2222222222222222,\"#7201a8\"],[0.3333333333333333,\"#9c179e\"],[0.4444444444444444,\"#bd3786\"],[0.5555555555555556,\"#d8576b\"],[0.6666666666666666,\"#ed7953\"],[0.7777777777777778,\"#fb9f3a\"],[0.8888888888888888,\"#fdca26\"],[1.0,\"#f0f921\"]]}],\"contourcarpet\":[{\"type\":\"contourcarpet\",\"colorbar\":{\"outlinewidth\":0,\"ticks\":\"\"}}],\"contour\":[{\"type\":\"contour\",\"colorbar\":{\"outlinewidth\":0,\"ticks\":\"\"},\"colorscale\":[[0.0,\"#0d0887\"],[0.1111111111111111,\"#46039f\"],[0.2222222222222222,\"#7201a8\"],[0.3333333333333333,\"#9c179e\"],[0.4444444444444444,\"#bd3786\"],[0.5555555555555556,\"#d8576b\"],[0.6666666666666666,\"#ed7953\"],[0.7777777777777778,\"#fb9f3a\"],[0.8888888888888888,\"#fdca26\"],[1.0,\"#f0f921\"]]}],\"surface\":[{\"type\":\"surface\",\"colorbar\":{\"outlinewidth\":0,\"ticks\":\"\"},\"colorscale\":[[0.0,\"#0d0887\"],[0.1111111111111111,\"#46039f\"],[0.2222222222222222,\"#7201a8\"],[0.3333333333333333,\"#9c179e\"],[0.4444444444444444,\"#bd3786\"],[0.5555555555555556,\"#d8576b\"],[0.6666666666666666,\"#ed7953\"],[0.7777777777777778,\"#fb9f3a\"],[0.8888888888888888,\"#fdca26\"],[1.0,\"#f0f921\"]]}],\"mesh3d\":[{\"type\":\"mesh3d\",\"colorbar\":{\"outlinewidth\":0,\"ticks\":\"\"}}],\"scatter\":[{\"fillpattern\":{\"fillmode\":\"overlay\",\"size\":10,\"solidity\":0.2},\"type\":\"scatter\"}],\"parcoords\":[{\"type\":\"parcoords\",\"line\":{\"colorbar\":{\"outlinewidth\":0,\"ticks\":\"\"}}}],\"scatterpolargl\":[{\"type\":\"scatterpolargl\",\"marker\":{\"colorbar\":{\"outlinewidth\":0,\"ticks\":\"\"}}}],\"bar\":[{\"error_x\":{\"color\":\"#2a3f5f\"},\"error_y\":{\"color\":\"#2a3f5f\"},\"marker\":{\"line\":{\"color\":\"#E5ECF6\",\"width\":0.5},\"pattern\":{\"fillmode\":\"overlay\",\"size\":10,\"solidity\":0.2}},\"type\":\"bar\"}],\"scattergeo\":[{\"type\":\"scattergeo\",\"marker\":{\"colorbar\":{\"outlinewidth\":0,\"ticks\":\"\"}}}],\"scatterpolar\":[{\"type\":\"scatterpolar\",\"marker\":{\"colorbar\":{\"outlinewidth\":0,\"ticks\":\"\"}}}],\"histogram\":[{\"marker\":{\"pattern\":{\"fillmode\":\"overlay\",\"size\":10,\"solidity\":0.2}},\"type\":\"histogram\"}],\"scattergl\":[{\"type\":\"scattergl\",\"marker\":{\"colorbar\":{\"outlinewidth\":0,\"ticks\":\"\"}}}],\"scatter3d\":[{\"type\":\"scatter3d\",\"line\":{\"colorbar\":{\"outlinewidth\":0,\"ticks\":\"\"}},\"marker\":{\"colorbar\":{\"outlinewidth\":0,\"ticks\":\"\"}}}],\"scattermapbox\":[{\"type\":\"scattermapbox\",\"marker\":{\"colorbar\":{\"outlinewidth\":0,\"ticks\":\"\"}}}],\"scatterternary\":[{\"type\":\"scatterternary\",\"marker\":{\"colorbar\":{\"outlinewidth\":0,\"ticks\":\"\"}}}],\"scattercarpet\":[{\"type\":\"scattercarpet\",\"marker\":{\"colorbar\":{\"outlinewidth\":0,\"ticks\":\"\"}}}],\"carpet\":[{\"aaxis\":{\"endlinecolor\":\"#2a3f5f\",\"gridcolor\":\"white\",\"linecolor\":\"white\",\"minorgridcolor\":\"white\",\"startlinecolor\":\"#2a3f5f\"},\"baxis\":{\"endlinecolor\":\"#2a3f5f\",\"gridcolor\":\"white\",\"linecolor\":\"white\",\"minorgridcolor\":\"white\",\"startlinecolor\":\"#2a3f5f\"},\"type\":\"carpet\"}],\"table\":[{\"cells\":{\"fill\":{\"color\":\"#EBF0F8\"},\"line\":{\"color\":\"white\"}},\"header\":{\"fill\":{\"color\":\"#C8D4E3\"},\"line\":{\"color\":\"white\"}},\"type\":\"table\"}],\"barpolar\":[{\"marker\":{\"line\":{\"color\":\"#E5ECF6\",\"width\":0.5},\"pattern\":{\"fillmode\":\"overlay\",\"size\":10,\"solidity\":0.2}},\"type\":\"barpolar\"}],\"pie\":[{\"automargin\":true,\"type\":\"pie\"}]},\"layout\":{\"autotypenumbers\":\"strict\",\"colorway\":[\"#636efa\",\"#EF553B\",\"#00cc96\",\"#ab63fa\",\"#FFA15A\",\"#19d3f3\",\"#FF6692\",\"#B6E880\",\"#FF97FF\",\"#FECB52\"],\"font\":{\"color\":\"#2a3f5f\"},\"hovermode\":\"closest\",\"hoverlabel\":{\"align\":\"left\"},\"paper_bgcolor\":\"white\",\"plot_bgcolor\":\"#E5ECF6\",\"polar\":{\"bgcolor\":\"#E5ECF6\",\"angularaxis\":{\"gridcolor\":\"white\",\"linecolor\":\"white\",\"ticks\":\"\"},\"radialaxis\":{\"gridcolor\":\"white\",\"linecolor\":\"white\",\"ticks\":\"\"}},\"ternary\":{\"bgcolor\":\"#E5ECF6\",\"aaxis\":{\"gridcolor\":\"white\",\"linecolor\":\"white\",\"ticks\":\"\"},\"baxis\":{\"gridcolor\":\"white\",\"linecolor\":\"white\",\"ticks\":\"\"},\"caxis\":{\"gridcolor\":\"white\",\"linecolor\":\"white\",\"ticks\":\"\"}},\"coloraxis\":{\"colorbar\":{\"outlinewidth\":0,\"ticks\":\"\"}},\"colorscale\":{\"sequential\":[[0.0,\"#0d0887\"],[0.1111111111111111,\"#46039f\"],[0.2222222222222222,\"#7201a8\"],[0.3333333333333333,\"#9c179e\"],[0.4444444444444444,\"#bd3786\"],[0.5555555555555556,\"#d8576b\"],[0.6666666666666666,\"#ed7953\"],[0.7777777777777778,\"#fb9f3a\"],[0.8888888888888888,\"#fdca26\"],[1.0,\"#f0f921\"]],\"sequentialminus\":[[0.0,\"#0d0887\"],[0.1111111111111111,\"#46039f\"],[0.2222222222222222,\"#7201a8\"],[0.3333333333333333,\"#9c179e\"],[0.4444444444444444,\"#bd3786\"],[0.5555555555555556,\"#d8576b\"],[0.6666666666666666,\"#ed7953\"],[0.7777777777777778,\"#fb9f3a\"],[0.8888888888888888,\"#fdca26\"],[1.0,\"#f0f921\"]],\"diverging\":[[0,\"#8e0152\"],[0.1,\"#c51b7d\"],[0.2,\"#de77ae\"],[0.3,\"#f1b6da\"],[0.4,\"#fde0ef\"],[0.5,\"#f7f7f7\"],[0.6,\"#e6f5d0\"],[0.7,\"#b8e186\"],[0.8,\"#7fbc41\"],[0.9,\"#4d9221\"],[1,\"#276419\"]]},\"xaxis\":{\"gridcolor\":\"white\",\"linecolor\":\"white\",\"ticks\":\"\",\"title\":{\"standoff\":15},\"zerolinecolor\":\"white\",\"automargin\":true,\"zerolinewidth\":2},\"yaxis\":{\"gridcolor\":\"white\",\"linecolor\":\"white\",\"ticks\":\"\",\"title\":{\"standoff\":15},\"zerolinecolor\":\"white\",\"automargin\":true,\"zerolinewidth\":2},\"scene\":{\"xaxis\":{\"backgroundcolor\":\"#E5ECF6\",\"gridcolor\":\"white\",\"linecolor\":\"white\",\"showbackground\":true,\"ticks\":\"\",\"zerolinecolor\":\"white\",\"gridwidth\":2},\"yaxis\":{\"backgroundcolor\":\"#E5ECF6\",\"gridcolor\":\"white\",\"linecolor\":\"white\",\"showbackground\":true,\"ticks\":\"\",\"zerolinecolor\":\"white\",\"gridwidth\":2},\"zaxis\":{\"backgroundcolor\":\"#E5ECF6\",\"gridcolor\":\"white\",\"linecolor\":\"white\",\"showbackground\":true,\"ticks\":\"\",\"zerolinecolor\":\"white\",\"gridwidth\":2}},\"shapedefaults\":{\"line\":{\"color\":\"#2a3f5f\"}},\"annotationdefaults\":{\"arrowcolor\":\"#2a3f5f\",\"arrowhead\":0,\"arrowwidth\":1},\"geo\":{\"bgcolor\":\"white\",\"landcolor\":\"#E5ECF6\",\"subunitcolor\":\"white\",\"showland\":true,\"showlakes\":true,\"lakecolor\":\"white\"},\"title\":{\"x\":0.05},\"mapbox\":{\"style\":\"light\"}}},\"legend\":{\"itemsizing\":\"constant\"},\"yaxis\":{\"tickmode\":\"array\",\"tickvals\":[0,1,2,3,4,5,6,7,8,9,10,11,12,13,14,15,16,17,18,19,20],\"ticktext\":[\"Erling Pr\\u00e6stekj\\u00e6r\",\"Jakob Kj\\u00e6rsgaard\",\"Freya Luna Andersen\",\"Allan Berg\",\"Ib Bjerregaard\",\"Tenna R\\u00f8berg\",\"Thorbj\\u00f8rn Jacobsen\",\"Hans Christian Molbech\",\"Dina Raabjerg\",\"Anders Andreasen\",\"Mogens Birkelund\",\"Peter Kempf Pedersen\",\"Keld Marstrand Wang\",\"Christian Ivan Jacobsen\",\"Maria Temponeras\",\"Charlotte Lindberg \",\"Emma Thorup Jacobsen\",\"Aksel Rosager Johansen\",\"Johan Br\\u00f8dsgaard\",\"Peter Sig Kristensen\",\"Kirsten Hindbo\"]},\"title\":{\"text\":\"Kandidater for Vestjyllands Storkreds\"}},                        {\"responsive\": true}                    ).then(function(){\n",
       "                            \n",
       "var gd = document.getElementById('2dda5321-136d-4b3a-a3c3-57c9c702b6a4');\n",
       "var x = new MutationObserver(function (mutations, observer) {{\n",
       "        var display = window.getComputedStyle(gd).display;\n",
       "        if (!display || display === 'none') {{\n",
       "            console.log([gd, 'removed!']);\n",
       "            Plotly.purge(gd);\n",
       "            observer.disconnect();\n",
       "        }}\n",
       "}});\n",
       "\n",
       "// Listen for the removal of the full notebook cells\n",
       "var notebookContainer = gd.closest('#notebook-container');\n",
       "if (notebookContainer) {{\n",
       "    x.observe(notebookContainer, {childList: true});\n",
       "}}\n",
       "\n",
       "// Listen for the clearing of the current output cell\n",
       "var outputEl = gd.closest('.output');\n",
       "if (outputEl) {{\n",
       "    x.observe(outputEl, {childList: true});\n",
       "}}\n",
       "\n",
       "                        })                };                });            </script>        </div>"
      ]
     },
     "metadata": {},
     "output_type": "display_data"
    }
   ],
   "source": [
    "\n",
    "fig = go.Figure()\n",
    "df_temp = df_nameIndex[df_nameIndex[\"Storkreds\"]==value]\n",
    "df_temp = df_temp.sort_values(\"Score\")\n",
    "lollipopRange = len(df_temp)*2\n",
    "\n",
    "\n",
    "for j, mean in enumerate(df_temp[\"Score\"]):\n",
    "    candidate = df_temp.index[j]\n",
    "    fig.add_trace(go.Scatter(y=[j,j],x=[0,mean],\n",
    "                             marker_size = [0,12],\n",
    "                             marker_color = df_temp[\"Kost_color\"][j],\n",
    "                             line=go.scatter.Line(color=veggieGreen),\n",
    "                             hovertext=[df_temp.loc[candidate][\"Parti\"],df_temp.loc[candidate][\"Parti\"]],\n",
    "                             showlegend=False,\n",
    "                             hoverinfo=[\"none\",\"x+y+text\"],\n",
    "\n",
    "                             )\n",
    "                  )\n",
    "\n",
    "\n",
    "# Adding a hidden scatterplot to add a legend with the dietary choices of the candidates\n",
    "for k, v in kost_color.items():\n",
    "    fig.add_trace(go.Scatter(x=[0],y=[0],\n",
    "                             marker_size = [0],\n",
    "                             marker_color = v,\n",
    "                             name=k\n",
    "                            ))\n",
    "fig.update_layout(legend= {'itemsizing': 'constant',\n",
    "                           # \"itemsymbol\":\"circle\"\n",
    "                           })\n",
    "\n",
    "#    fig.add_hline(y=df_temp[\"Score\"].mean(),\n",
    "#            line_width=0.5,\n",
    "#            line_dash=\"dash\",\n",
    "#            line_color=veggieGreen,\n",
    "#            annotation_text=\"Kommune gennemsnit\",\n",
    "#            annotation_position=\"bottom right\")\n",
    "\n",
    "\n",
    "\n",
    "tickvals_ = list(range(len(df_temp)))\n",
    "ticktext_ = list(df_temp.index)\n",
    "fig.update_layout(\n",
    "    yaxis = dict(\n",
    "        tickmode = \"array\",\n",
    "        tickvals = tickvals_,\n",
    "        ticktext = ticktext_),\n",
    "    title = {\"text\":f\"Kandidater for {value}\"}\n",
    "    )\n",
    "\n",
    "fig.show()"
   ]
  },
  {
   "cell_type": "code",
   "execution_count": 10,
   "id": "cd2042d1",
   "metadata": {},
   "outputs": [
    {
     "data": {
      "application/vnd.plotly.v1+json": {
       "config": {
        "plotlyServerURL": "https://plot.ly"
       },
       "data": [
        {
         "branchvalues": "total",
         "insidetextorientation": "radial",
         "labels": [
          "Uenig",
          "Enig",
          "Delvist Enig",
          "Peter Kempf Pedersen",
          "Allan Berg",
          "Freya Luna Andersen",
          "Anders Andreasen",
          "Thorbjørn Jacobsen",
          "Erling Præstekjær",
          "Hans Christian Molbech",
          "Jakob Kjærsgaard",
          "Tenna Røberg",
          "Mogens Birkelund",
          "Ib Bjerregaard",
          "Dina Raabjerg",
          "Emma Thorup Jacobsen",
          "Keld Marstrand Wang",
          "Johan Brødsgaard",
          "Maria Temponeras",
          "Peter Sig Kristensen",
          "Aksel Rosager Johansen",
          "Charlotte Lindberg ",
          "Kirsten Hindbo",
          "Christian Ivan Jacobsen"
         ],
         "marker": {
          "colors": [
           "rgb(218,241,212)",
           "rgb(169,220,163)",
           "rgb(15,122,55)"
          ]
         },
         "parents": [
          "",
          "",
          "",
          "Uenig",
          "Uenig",
          "Uenig",
          "Uenig",
          "Uenig",
          "Uenig",
          "Uenig",
          "Uenig",
          "Uenig",
          "Delvist Enig",
          "Delvist Enig",
          "Delvist Enig",
          "Delvist Enig",
          "Enig",
          "Enig",
          "Enig",
          "Enig",
          "Enig",
          "Enig",
          "Enig",
          "Enig"
         ],
         "type": "sunburst",
         "values": [
          9,
          8,
          4,
          1,
          1,
          1,
          1,
          1,
          1,
          1,
          1,
          1,
          1,
          1,
          1,
          1,
          1,
          1,
          1,
          1,
          1,
          1,
          1,
          1
         ]
        }
       ],
       "layout": {
        "autosize": false,
        "height": 720,
        "template": {
         "data": {
          "bar": [
           {
            "error_x": {
             "color": "#2a3f5f"
            },
            "error_y": {
             "color": "#2a3f5f"
            },
            "marker": {
             "line": {
              "color": "#E5ECF6",
              "width": 0.5
             },
             "pattern": {
              "fillmode": "overlay",
              "size": 10,
              "solidity": 0.2
             }
            },
            "type": "bar"
           }
          ],
          "barpolar": [
           {
            "marker": {
             "line": {
              "color": "#E5ECF6",
              "width": 0.5
             },
             "pattern": {
              "fillmode": "overlay",
              "size": 10,
              "solidity": 0.2
             }
            },
            "type": "barpolar"
           }
          ],
          "carpet": [
           {
            "aaxis": {
             "endlinecolor": "#2a3f5f",
             "gridcolor": "white",
             "linecolor": "white",
             "minorgridcolor": "white",
             "startlinecolor": "#2a3f5f"
            },
            "baxis": {
             "endlinecolor": "#2a3f5f",
             "gridcolor": "white",
             "linecolor": "white",
             "minorgridcolor": "white",
             "startlinecolor": "#2a3f5f"
            },
            "type": "carpet"
           }
          ],
          "choropleth": [
           {
            "colorbar": {
             "outlinewidth": 0,
             "ticks": ""
            },
            "type": "choropleth"
           }
          ],
          "contour": [
           {
            "colorbar": {
             "outlinewidth": 0,
             "ticks": ""
            },
            "colorscale": [
             [
              0,
              "#0d0887"
             ],
             [
              0.1111111111111111,
              "#46039f"
             ],
             [
              0.2222222222222222,
              "#7201a8"
             ],
             [
              0.3333333333333333,
              "#9c179e"
             ],
             [
              0.4444444444444444,
              "#bd3786"
             ],
             [
              0.5555555555555556,
              "#d8576b"
             ],
             [
              0.6666666666666666,
              "#ed7953"
             ],
             [
              0.7777777777777778,
              "#fb9f3a"
             ],
             [
              0.8888888888888888,
              "#fdca26"
             ],
             [
              1,
              "#f0f921"
             ]
            ],
            "type": "contour"
           }
          ],
          "contourcarpet": [
           {
            "colorbar": {
             "outlinewidth": 0,
             "ticks": ""
            },
            "type": "contourcarpet"
           }
          ],
          "heatmap": [
           {
            "colorbar": {
             "outlinewidth": 0,
             "ticks": ""
            },
            "colorscale": [
             [
              0,
              "#0d0887"
             ],
             [
              0.1111111111111111,
              "#46039f"
             ],
             [
              0.2222222222222222,
              "#7201a8"
             ],
             [
              0.3333333333333333,
              "#9c179e"
             ],
             [
              0.4444444444444444,
              "#bd3786"
             ],
             [
              0.5555555555555556,
              "#d8576b"
             ],
             [
              0.6666666666666666,
              "#ed7953"
             ],
             [
              0.7777777777777778,
              "#fb9f3a"
             ],
             [
              0.8888888888888888,
              "#fdca26"
             ],
             [
              1,
              "#f0f921"
             ]
            ],
            "type": "heatmap"
           }
          ],
          "heatmapgl": [
           {
            "colorbar": {
             "outlinewidth": 0,
             "ticks": ""
            },
            "colorscale": [
             [
              0,
              "#0d0887"
             ],
             [
              0.1111111111111111,
              "#46039f"
             ],
             [
              0.2222222222222222,
              "#7201a8"
             ],
             [
              0.3333333333333333,
              "#9c179e"
             ],
             [
              0.4444444444444444,
              "#bd3786"
             ],
             [
              0.5555555555555556,
              "#d8576b"
             ],
             [
              0.6666666666666666,
              "#ed7953"
             ],
             [
              0.7777777777777778,
              "#fb9f3a"
             ],
             [
              0.8888888888888888,
              "#fdca26"
             ],
             [
              1,
              "#f0f921"
             ]
            ],
            "type": "heatmapgl"
           }
          ],
          "histogram": [
           {
            "marker": {
             "pattern": {
              "fillmode": "overlay",
              "size": 10,
              "solidity": 0.2
             }
            },
            "type": "histogram"
           }
          ],
          "histogram2d": [
           {
            "colorbar": {
             "outlinewidth": 0,
             "ticks": ""
            },
            "colorscale": [
             [
              0,
              "#0d0887"
             ],
             [
              0.1111111111111111,
              "#46039f"
             ],
             [
              0.2222222222222222,
              "#7201a8"
             ],
             [
              0.3333333333333333,
              "#9c179e"
             ],
             [
              0.4444444444444444,
              "#bd3786"
             ],
             [
              0.5555555555555556,
              "#d8576b"
             ],
             [
              0.6666666666666666,
              "#ed7953"
             ],
             [
              0.7777777777777778,
              "#fb9f3a"
             ],
             [
              0.8888888888888888,
              "#fdca26"
             ],
             [
              1,
              "#f0f921"
             ]
            ],
            "type": "histogram2d"
           }
          ],
          "histogram2dcontour": [
           {
            "colorbar": {
             "outlinewidth": 0,
             "ticks": ""
            },
            "colorscale": [
             [
              0,
              "#0d0887"
             ],
             [
              0.1111111111111111,
              "#46039f"
             ],
             [
              0.2222222222222222,
              "#7201a8"
             ],
             [
              0.3333333333333333,
              "#9c179e"
             ],
             [
              0.4444444444444444,
              "#bd3786"
             ],
             [
              0.5555555555555556,
              "#d8576b"
             ],
             [
              0.6666666666666666,
              "#ed7953"
             ],
             [
              0.7777777777777778,
              "#fb9f3a"
             ],
             [
              0.8888888888888888,
              "#fdca26"
             ],
             [
              1,
              "#f0f921"
             ]
            ],
            "type": "histogram2dcontour"
           }
          ],
          "mesh3d": [
           {
            "colorbar": {
             "outlinewidth": 0,
             "ticks": ""
            },
            "type": "mesh3d"
           }
          ],
          "parcoords": [
           {
            "line": {
             "colorbar": {
              "outlinewidth": 0,
              "ticks": ""
             }
            },
            "type": "parcoords"
           }
          ],
          "pie": [
           {
            "automargin": true,
            "type": "pie"
           }
          ],
          "scatter": [
           {
            "fillpattern": {
             "fillmode": "overlay",
             "size": 10,
             "solidity": 0.2
            },
            "type": "scatter"
           }
          ],
          "scatter3d": [
           {
            "line": {
             "colorbar": {
              "outlinewidth": 0,
              "ticks": ""
             }
            },
            "marker": {
             "colorbar": {
              "outlinewidth": 0,
              "ticks": ""
             }
            },
            "type": "scatter3d"
           }
          ],
          "scattercarpet": [
           {
            "marker": {
             "colorbar": {
              "outlinewidth": 0,
              "ticks": ""
             }
            },
            "type": "scattercarpet"
           }
          ],
          "scattergeo": [
           {
            "marker": {
             "colorbar": {
              "outlinewidth": 0,
              "ticks": ""
             }
            },
            "type": "scattergeo"
           }
          ],
          "scattergl": [
           {
            "marker": {
             "colorbar": {
              "outlinewidth": 0,
              "ticks": ""
             }
            },
            "type": "scattergl"
           }
          ],
          "scattermapbox": [
           {
            "marker": {
             "colorbar": {
              "outlinewidth": 0,
              "ticks": ""
             }
            },
            "type": "scattermapbox"
           }
          ],
          "scatterpolar": [
           {
            "marker": {
             "colorbar": {
              "outlinewidth": 0,
              "ticks": ""
             }
            },
            "type": "scatterpolar"
           }
          ],
          "scatterpolargl": [
           {
            "marker": {
             "colorbar": {
              "outlinewidth": 0,
              "ticks": ""
             }
            },
            "type": "scatterpolargl"
           }
          ],
          "scatterternary": [
           {
            "marker": {
             "colorbar": {
              "outlinewidth": 0,
              "ticks": ""
             }
            },
            "type": "scatterternary"
           }
          ],
          "surface": [
           {
            "colorbar": {
             "outlinewidth": 0,
             "ticks": ""
            },
            "colorscale": [
             [
              0,
              "#0d0887"
             ],
             [
              0.1111111111111111,
              "#46039f"
             ],
             [
              0.2222222222222222,
              "#7201a8"
             ],
             [
              0.3333333333333333,
              "#9c179e"
             ],
             [
              0.4444444444444444,
              "#bd3786"
             ],
             [
              0.5555555555555556,
              "#d8576b"
             ],
             [
              0.6666666666666666,
              "#ed7953"
             ],
             [
              0.7777777777777778,
              "#fb9f3a"
             ],
             [
              0.8888888888888888,
              "#fdca26"
             ],
             [
              1,
              "#f0f921"
             ]
            ],
            "type": "surface"
           }
          ],
          "table": [
           {
            "cells": {
             "fill": {
              "color": "#EBF0F8"
             },
             "line": {
              "color": "white"
             }
            },
            "header": {
             "fill": {
              "color": "#C8D4E3"
             },
             "line": {
              "color": "white"
             }
            },
            "type": "table"
           }
          ]
         },
         "layout": {
          "annotationdefaults": {
           "arrowcolor": "#2a3f5f",
           "arrowhead": 0,
           "arrowwidth": 1
          },
          "autotypenumbers": "strict",
          "coloraxis": {
           "colorbar": {
            "outlinewidth": 0,
            "ticks": ""
           }
          },
          "colorscale": {
           "diverging": [
            [
             0,
             "#8e0152"
            ],
            [
             0.1,
             "#c51b7d"
            ],
            [
             0.2,
             "#de77ae"
            ],
            [
             0.3,
             "#f1b6da"
            ],
            [
             0.4,
             "#fde0ef"
            ],
            [
             0.5,
             "#f7f7f7"
            ],
            [
             0.6,
             "#e6f5d0"
            ],
            [
             0.7,
             "#b8e186"
            ],
            [
             0.8,
             "#7fbc41"
            ],
            [
             0.9,
             "#4d9221"
            ],
            [
             1,
             "#276419"
            ]
           ],
           "sequential": [
            [
             0,
             "#0d0887"
            ],
            [
             0.1111111111111111,
             "#46039f"
            ],
            [
             0.2222222222222222,
             "#7201a8"
            ],
            [
             0.3333333333333333,
             "#9c179e"
            ],
            [
             0.4444444444444444,
             "#bd3786"
            ],
            [
             0.5555555555555556,
             "#d8576b"
            ],
            [
             0.6666666666666666,
             "#ed7953"
            ],
            [
             0.7777777777777778,
             "#fb9f3a"
            ],
            [
             0.8888888888888888,
             "#fdca26"
            ],
            [
             1,
             "#f0f921"
            ]
           ],
           "sequentialminus": [
            [
             0,
             "#0d0887"
            ],
            [
             0.1111111111111111,
             "#46039f"
            ],
            [
             0.2222222222222222,
             "#7201a8"
            ],
            [
             0.3333333333333333,
             "#9c179e"
            ],
            [
             0.4444444444444444,
             "#bd3786"
            ],
            [
             0.5555555555555556,
             "#d8576b"
            ],
            [
             0.6666666666666666,
             "#ed7953"
            ],
            [
             0.7777777777777778,
             "#fb9f3a"
            ],
            [
             0.8888888888888888,
             "#fdca26"
            ],
            [
             1,
             "#f0f921"
            ]
           ]
          },
          "colorway": [
           "#636efa",
           "#EF553B",
           "#00cc96",
           "#ab63fa",
           "#FFA15A",
           "#19d3f3",
           "#FF6692",
           "#B6E880",
           "#FF97FF",
           "#FECB52"
          ],
          "font": {
           "color": "#2a3f5f"
          },
          "geo": {
           "bgcolor": "white",
           "lakecolor": "white",
           "landcolor": "#E5ECF6",
           "showlakes": true,
           "showland": true,
           "subunitcolor": "white"
          },
          "hoverlabel": {
           "align": "left"
          },
          "hovermode": "closest",
          "mapbox": {
           "style": "light"
          },
          "paper_bgcolor": "white",
          "plot_bgcolor": "#E5ECF6",
          "polar": {
           "angularaxis": {
            "gridcolor": "white",
            "linecolor": "white",
            "ticks": ""
           },
           "bgcolor": "#E5ECF6",
           "radialaxis": {
            "gridcolor": "white",
            "linecolor": "white",
            "ticks": ""
           }
          },
          "scene": {
           "xaxis": {
            "backgroundcolor": "#E5ECF6",
            "gridcolor": "white",
            "gridwidth": 2,
            "linecolor": "white",
            "showbackground": true,
            "ticks": "",
            "zerolinecolor": "white"
           },
           "yaxis": {
            "backgroundcolor": "#E5ECF6",
            "gridcolor": "white",
            "gridwidth": 2,
            "linecolor": "white",
            "showbackground": true,
            "ticks": "",
            "zerolinecolor": "white"
           },
           "zaxis": {
            "backgroundcolor": "#E5ECF6",
            "gridcolor": "white",
            "gridwidth": 2,
            "linecolor": "white",
            "showbackground": true,
            "ticks": "",
            "zerolinecolor": "white"
           }
          },
          "shapedefaults": {
           "line": {
            "color": "#2a3f5f"
           }
          },
          "ternary": {
           "aaxis": {
            "gridcolor": "white",
            "linecolor": "white",
            "ticks": ""
           },
           "baxis": {
            "gridcolor": "white",
            "linecolor": "white",
            "ticks": ""
           },
           "bgcolor": "#E5ECF6",
           "caxis": {
            "gridcolor": "white",
            "linecolor": "white",
            "ticks": ""
           }
          },
          "title": {
           "x": 0.05
          },
          "xaxis": {
           "automargin": true,
           "gridcolor": "white",
           "linecolor": "white",
           "ticks": "",
           "title": {
            "standoff": 15
           },
           "zerolinecolor": "white",
           "zerolinewidth": 2
          },
          "yaxis": {
           "automargin": true,
           "gridcolor": "white",
           "linecolor": "white",
           "ticks": "",
           "title": {
            "standoff": 15
           },
           "zerolinecolor": "white",
           "zerolinewidth": 2
          }
         }
        },
        "width": 1200
       }
      },
      "text/html": [
       "<div>                            <div id=\"c36f401a-c984-446f-9436-3f5975b1bba4\" class=\"plotly-graph-div\" style=\"height:720px; width:1200px;\"></div>            <script type=\"text/javascript\">                require([\"plotly\"], function(Plotly) {                    window.PLOTLYENV=window.PLOTLYENV || {};                                    if (document.getElementById(\"c36f401a-c984-446f-9436-3f5975b1bba4\")) {                    Plotly.newPlot(                        \"c36f401a-c984-446f-9436-3f5975b1bba4\",                        [{\"branchvalues\":\"total\",\"insidetextorientation\":\"radial\",\"labels\":[\"Uenig\",\"Enig\",\"Delvist Enig\",\"Peter Kempf Pedersen\",\"Allan Berg\",\"Freya Luna Andersen\",\"Anders Andreasen\",\"Thorbj\\u00f8rn Jacobsen\",\"Erling Pr\\u00e6stekj\\u00e6r\",\"Hans Christian Molbech\",\"Jakob Kj\\u00e6rsgaard\",\"Tenna R\\u00f8berg\",\"Mogens Birkelund\",\"Ib Bjerregaard\",\"Dina Raabjerg\",\"Emma Thorup Jacobsen\",\"Keld Marstrand Wang\",\"Johan Br\\u00f8dsgaard\",\"Maria Temponeras\",\"Peter Sig Kristensen\",\"Aksel Rosager Johansen\",\"Charlotte Lindberg \",\"Kirsten Hindbo\",\"Christian Ivan Jacobsen\"],\"marker\":{\"colors\":[\"rgb(218,241,212)\",\"rgb(169,220,163)\",\"rgb(15,122,55)\"]},\"parents\":[\"\",\"\",\"\",\"Uenig\",\"Uenig\",\"Uenig\",\"Uenig\",\"Uenig\",\"Uenig\",\"Uenig\",\"Uenig\",\"Uenig\",\"Delvist Enig\",\"Delvist Enig\",\"Delvist Enig\",\"Delvist Enig\",\"Enig\",\"Enig\",\"Enig\",\"Enig\",\"Enig\",\"Enig\",\"Enig\",\"Enig\"],\"values\":[9,8,4,1,1,1,1,1,1,1,1,1,1,1,1,1,1,1,1,1,1,1,1,1],\"type\":\"sunburst\"}],                        {\"template\":{\"data\":{\"histogram2dcontour\":[{\"type\":\"histogram2dcontour\",\"colorbar\":{\"outlinewidth\":0,\"ticks\":\"\"},\"colorscale\":[[0.0,\"#0d0887\"],[0.1111111111111111,\"#46039f\"],[0.2222222222222222,\"#7201a8\"],[0.3333333333333333,\"#9c179e\"],[0.4444444444444444,\"#bd3786\"],[0.5555555555555556,\"#d8576b\"],[0.6666666666666666,\"#ed7953\"],[0.7777777777777778,\"#fb9f3a\"],[0.8888888888888888,\"#fdca26\"],[1.0,\"#f0f921\"]]}],\"choropleth\":[{\"type\":\"choropleth\",\"colorbar\":{\"outlinewidth\":0,\"ticks\":\"\"}}],\"histogram2d\":[{\"type\":\"histogram2d\",\"colorbar\":{\"outlinewidth\":0,\"ticks\":\"\"},\"colorscale\":[[0.0,\"#0d0887\"],[0.1111111111111111,\"#46039f\"],[0.2222222222222222,\"#7201a8\"],[0.3333333333333333,\"#9c179e\"],[0.4444444444444444,\"#bd3786\"],[0.5555555555555556,\"#d8576b\"],[0.6666666666666666,\"#ed7953\"],[0.7777777777777778,\"#fb9f3a\"],[0.8888888888888888,\"#fdca26\"],[1.0,\"#f0f921\"]]}],\"heatmap\":[{\"type\":\"heatmap\",\"colorbar\":{\"outlinewidth\":0,\"ticks\":\"\"},\"colorscale\":[[0.0,\"#0d0887\"],[0.1111111111111111,\"#46039f\"],[0.2222222222222222,\"#7201a8\"],[0.3333333333333333,\"#9c179e\"],[0.4444444444444444,\"#bd3786\"],[0.5555555555555556,\"#d8576b\"],[0.6666666666666666,\"#ed7953\"],[0.7777777777777778,\"#fb9f3a\"],[0.8888888888888888,\"#fdca26\"],[1.0,\"#f0f921\"]]}],\"heatmapgl\":[{\"type\":\"heatmapgl\",\"colorbar\":{\"outlinewidth\":0,\"ticks\":\"\"},\"colorscale\":[[0.0,\"#0d0887\"],[0.1111111111111111,\"#46039f\"],[0.2222222222222222,\"#7201a8\"],[0.3333333333333333,\"#9c179e\"],[0.4444444444444444,\"#bd3786\"],[0.5555555555555556,\"#d8576b\"],[0.6666666666666666,\"#ed7953\"],[0.7777777777777778,\"#fb9f3a\"],[0.8888888888888888,\"#fdca26\"],[1.0,\"#f0f921\"]]}],\"contourcarpet\":[{\"type\":\"contourcarpet\",\"colorbar\":{\"outlinewidth\":0,\"ticks\":\"\"}}],\"contour\":[{\"type\":\"contour\",\"colorbar\":{\"outlinewidth\":0,\"ticks\":\"\"},\"colorscale\":[[0.0,\"#0d0887\"],[0.1111111111111111,\"#46039f\"],[0.2222222222222222,\"#7201a8\"],[0.3333333333333333,\"#9c179e\"],[0.4444444444444444,\"#bd3786\"],[0.5555555555555556,\"#d8576b\"],[0.6666666666666666,\"#ed7953\"],[0.7777777777777778,\"#fb9f3a\"],[0.8888888888888888,\"#fdca26\"],[1.0,\"#f0f921\"]]}],\"surface\":[{\"type\":\"surface\",\"colorbar\":{\"outlinewidth\":0,\"ticks\":\"\"},\"colorscale\":[[0.0,\"#0d0887\"],[0.1111111111111111,\"#46039f\"],[0.2222222222222222,\"#7201a8\"],[0.3333333333333333,\"#9c179e\"],[0.4444444444444444,\"#bd3786\"],[0.5555555555555556,\"#d8576b\"],[0.6666666666666666,\"#ed7953\"],[0.7777777777777778,\"#fb9f3a\"],[0.8888888888888888,\"#fdca26\"],[1.0,\"#f0f921\"]]}],\"mesh3d\":[{\"type\":\"mesh3d\",\"colorbar\":{\"outlinewidth\":0,\"ticks\":\"\"}}],\"scatter\":[{\"fillpattern\":{\"fillmode\":\"overlay\",\"size\":10,\"solidity\":0.2},\"type\":\"scatter\"}],\"parcoords\":[{\"type\":\"parcoords\",\"line\":{\"colorbar\":{\"outlinewidth\":0,\"ticks\":\"\"}}}],\"scatterpolargl\":[{\"type\":\"scatterpolargl\",\"marker\":{\"colorbar\":{\"outlinewidth\":0,\"ticks\":\"\"}}}],\"bar\":[{\"error_x\":{\"color\":\"#2a3f5f\"},\"error_y\":{\"color\":\"#2a3f5f\"},\"marker\":{\"line\":{\"color\":\"#E5ECF6\",\"width\":0.5},\"pattern\":{\"fillmode\":\"overlay\",\"size\":10,\"solidity\":0.2}},\"type\":\"bar\"}],\"scattergeo\":[{\"type\":\"scattergeo\",\"marker\":{\"colorbar\":{\"outlinewidth\":0,\"ticks\":\"\"}}}],\"scatterpolar\":[{\"type\":\"scatterpolar\",\"marker\":{\"colorbar\":{\"outlinewidth\":0,\"ticks\":\"\"}}}],\"histogram\":[{\"marker\":{\"pattern\":{\"fillmode\":\"overlay\",\"size\":10,\"solidity\":0.2}},\"type\":\"histogram\"}],\"scattergl\":[{\"type\":\"scattergl\",\"marker\":{\"colorbar\":{\"outlinewidth\":0,\"ticks\":\"\"}}}],\"scatter3d\":[{\"type\":\"scatter3d\",\"line\":{\"colorbar\":{\"outlinewidth\":0,\"ticks\":\"\"}},\"marker\":{\"colorbar\":{\"outlinewidth\":0,\"ticks\":\"\"}}}],\"scattermapbox\":[{\"type\":\"scattermapbox\",\"marker\":{\"colorbar\":{\"outlinewidth\":0,\"ticks\":\"\"}}}],\"scatterternary\":[{\"type\":\"scatterternary\",\"marker\":{\"colorbar\":{\"outlinewidth\":0,\"ticks\":\"\"}}}],\"scattercarpet\":[{\"type\":\"scattercarpet\",\"marker\":{\"colorbar\":{\"outlinewidth\":0,\"ticks\":\"\"}}}],\"carpet\":[{\"aaxis\":{\"endlinecolor\":\"#2a3f5f\",\"gridcolor\":\"white\",\"linecolor\":\"white\",\"minorgridcolor\":\"white\",\"startlinecolor\":\"#2a3f5f\"},\"baxis\":{\"endlinecolor\":\"#2a3f5f\",\"gridcolor\":\"white\",\"linecolor\":\"white\",\"minorgridcolor\":\"white\",\"startlinecolor\":\"#2a3f5f\"},\"type\":\"carpet\"}],\"table\":[{\"cells\":{\"fill\":{\"color\":\"#EBF0F8\"},\"line\":{\"color\":\"white\"}},\"header\":{\"fill\":{\"color\":\"#C8D4E3\"},\"line\":{\"color\":\"white\"}},\"type\":\"table\"}],\"barpolar\":[{\"marker\":{\"line\":{\"color\":\"#E5ECF6\",\"width\":0.5},\"pattern\":{\"fillmode\":\"overlay\",\"size\":10,\"solidity\":0.2}},\"type\":\"barpolar\"}],\"pie\":[{\"automargin\":true,\"type\":\"pie\"}]},\"layout\":{\"autotypenumbers\":\"strict\",\"colorway\":[\"#636efa\",\"#EF553B\",\"#00cc96\",\"#ab63fa\",\"#FFA15A\",\"#19d3f3\",\"#FF6692\",\"#B6E880\",\"#FF97FF\",\"#FECB52\"],\"font\":{\"color\":\"#2a3f5f\"},\"hovermode\":\"closest\",\"hoverlabel\":{\"align\":\"left\"},\"paper_bgcolor\":\"white\",\"plot_bgcolor\":\"#E5ECF6\",\"polar\":{\"bgcolor\":\"#E5ECF6\",\"angularaxis\":{\"gridcolor\":\"white\",\"linecolor\":\"white\",\"ticks\":\"\"},\"radialaxis\":{\"gridcolor\":\"white\",\"linecolor\":\"white\",\"ticks\":\"\"}},\"ternary\":{\"bgcolor\":\"#E5ECF6\",\"aaxis\":{\"gridcolor\":\"white\",\"linecolor\":\"white\",\"ticks\":\"\"},\"baxis\":{\"gridcolor\":\"white\",\"linecolor\":\"white\",\"ticks\":\"\"},\"caxis\":{\"gridcolor\":\"white\",\"linecolor\":\"white\",\"ticks\":\"\"}},\"coloraxis\":{\"colorbar\":{\"outlinewidth\":0,\"ticks\":\"\"}},\"colorscale\":{\"sequential\":[[0.0,\"#0d0887\"],[0.1111111111111111,\"#46039f\"],[0.2222222222222222,\"#7201a8\"],[0.3333333333333333,\"#9c179e\"],[0.4444444444444444,\"#bd3786\"],[0.5555555555555556,\"#d8576b\"],[0.6666666666666666,\"#ed7953\"],[0.7777777777777778,\"#fb9f3a\"],[0.8888888888888888,\"#fdca26\"],[1.0,\"#f0f921\"]],\"sequentialminus\":[[0.0,\"#0d0887\"],[0.1111111111111111,\"#46039f\"],[0.2222222222222222,\"#7201a8\"],[0.3333333333333333,\"#9c179e\"],[0.4444444444444444,\"#bd3786\"],[0.5555555555555556,\"#d8576b\"],[0.6666666666666666,\"#ed7953\"],[0.7777777777777778,\"#fb9f3a\"],[0.8888888888888888,\"#fdca26\"],[1.0,\"#f0f921\"]],\"diverging\":[[0,\"#8e0152\"],[0.1,\"#c51b7d\"],[0.2,\"#de77ae\"],[0.3,\"#f1b6da\"],[0.4,\"#fde0ef\"],[0.5,\"#f7f7f7\"],[0.6,\"#e6f5d0\"],[0.7,\"#b8e186\"],[0.8,\"#7fbc41\"],[0.9,\"#4d9221\"],[1,\"#276419\"]]},\"xaxis\":{\"gridcolor\":\"white\",\"linecolor\":\"white\",\"ticks\":\"\",\"title\":{\"standoff\":15},\"zerolinecolor\":\"white\",\"automargin\":true,\"zerolinewidth\":2},\"yaxis\":{\"gridcolor\":\"white\",\"linecolor\":\"white\",\"ticks\":\"\",\"title\":{\"standoff\":15},\"zerolinecolor\":\"white\",\"automargin\":true,\"zerolinewidth\":2},\"scene\":{\"xaxis\":{\"backgroundcolor\":\"#E5ECF6\",\"gridcolor\":\"white\",\"linecolor\":\"white\",\"showbackground\":true,\"ticks\":\"\",\"zerolinecolor\":\"white\",\"gridwidth\":2},\"yaxis\":{\"backgroundcolor\":\"#E5ECF6\",\"gridcolor\":\"white\",\"linecolor\":\"white\",\"showbackground\":true,\"ticks\":\"\",\"zerolinecolor\":\"white\",\"gridwidth\":2},\"zaxis\":{\"backgroundcolor\":\"#E5ECF6\",\"gridcolor\":\"white\",\"linecolor\":\"white\",\"showbackground\":true,\"ticks\":\"\",\"zerolinecolor\":\"white\",\"gridwidth\":2}},\"shapedefaults\":{\"line\":{\"color\":\"#2a3f5f\"}},\"annotationdefaults\":{\"arrowcolor\":\"#2a3f5f\",\"arrowhead\":0,\"arrowwidth\":1},\"geo\":{\"bgcolor\":\"white\",\"landcolor\":\"#E5ECF6\",\"subunitcolor\":\"white\",\"showland\":true,\"showlakes\":true,\"lakecolor\":\"white\"},\"title\":{\"x\":0.05},\"mapbox\":{\"style\":\"light\"}}},\"autosize\":false,\"width\":1200,\"height\":720},                        {\"responsive\": true}                    ).then(function(){\n",
       "                            \n",
       "var gd = document.getElementById('c36f401a-c984-446f-9436-3f5975b1bba4');\n",
       "var x = new MutationObserver(function (mutations, observer) {{\n",
       "        var display = window.getComputedStyle(gd).display;\n",
       "        if (!display || display === 'none') {{\n",
       "            console.log([gd, 'removed!']);\n",
       "            Plotly.purge(gd);\n",
       "            observer.disconnect();\n",
       "        }}\n",
       "}});\n",
       "\n",
       "// Listen for the removal of the full notebook cells\n",
       "var notebookContainer = gd.closest('#notebook-container');\n",
       "if (notebookContainer) {{\n",
       "    x.observe(notebookContainer, {childList: true});\n",
       "}}\n",
       "\n",
       "// Listen for the clearing of the current output cell\n",
       "var outputEl = gd.closest('.output');\n",
       "if (outputEl) {{\n",
       "    x.observe(outputEl, {childList: true});\n",
       "}}\n",
       "\n",
       "                        })                };                });            </script>        </div>"
      ]
     },
     "metadata": {},
     "output_type": "display_data"
    }
   ],
   "source": [
    "\n",
    "df_temp =  df_nameIndex[df_nameIndex[\"Storkreds\"]==storkreds]\n",
    "df_temp = df_temp.sort_values(question)\n",
    "\n",
    "# Parents for sunburst\n",
    "value_labels = {0:\"Uenig\", 1:\"Delvist Enig\", 2:\"Enig\"}\n",
    "parents_candidates = pd.Series([value_labels[x] for x in df_temp[question]],\n",
    "                              index =df_temp.index)\n",
    "\n",
    "sunburst_parents = []\n",
    "for answer in parents_candidates.unique():\n",
    "    sunburst_parents.append(\"\")\n",
    "sunburst_parents.extend(parents_candidates)\n",
    "\n",
    "# Names for sunburst\n",
    "sunburst_names = []\n",
    "\n",
    "inner_names = list(parents_candidates.value_counts(sort=False).index)\n",
    "sunburst_names.extend(inner_names)\n",
    "\n",
    "candidate_names = list(df_temp.index)\n",
    "sunburst_names.extend(candidate_names)\n",
    "\n",
    "# Values for sunburst\n",
    "sunburst_values = []\n",
    "\n",
    "inner_values = list(parents_candidates.value_counts(sort=False))\n",
    "sunburst_values.extend(inner_values)\n",
    "\n",
    "candidate_values = []\n",
    "for candidate in list(df_temp.index):\n",
    "    candidate_values.append(1)\n",
    "\n",
    "sunburst_values.extend(candidate_values)\n",
    "\n",
    "fig = go.Figure()\n",
    "\n",
    "color_dict = { \"Enig\":'rgb(15,122,55)',\"Delvist Enig\": 'rgb(169,220,163)',\"Uenig\":'rgb(218,241,212)'}\n",
    "colors_sunburst = {}\n",
    "for answer in parents_candidates.unique():\n",
    "    colors_sunburst[answer] = color_dict[answer]\n",
    "\n",
    "data = dict(\n",
    "    names=sunburst_names,\n",
    "    parent=sunburst_parents,\n",
    "    value=sunburst_values)\n",
    "\n",
    "fig.add_trace(go.Sunburst(\n",
    "    labels=data['names'],\n",
    "    parents=data['parent'],\n",
    "    values=data['value'],\n",
    "    branchvalues=\"total\",\n",
    "    marker_colors = list(colors_sunburst.values()),\n",
    "    insidetextorientation='radial',\n",
    "    ))\n",
    "fig.update_layout(\n",
    "    autosize=False,\n",
    "    width=1200,\n",
    "    height=720)\n"
   ]
  }
 ],
 "metadata": {
  "kernelspec": {
   "display_name": "Python 3",
   "language": "python",
   "name": "python3"
  },
  "language_info": {
   "codemirror_mode": {
    "name": "ipython",
    "version": 3
   },
   "file_extension": ".py",
   "mimetype": "text/x-python",
   "name": "python",
   "nbconvert_exporter": "python",
   "pygments_lexer": "ipython3",
   "version": "3.8.8"
  }
 },
 "nbformat": 4,
 "nbformat_minor": 5
}
