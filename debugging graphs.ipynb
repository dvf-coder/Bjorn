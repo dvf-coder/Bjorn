{
 "cells": [
  {
   "cell_type": "code",
   "execution_count": 42,
   "id": "f83b60fe",
   "metadata": {},
   "outputs": [],
   "source": [
    "from plotly import graph_objects as go\n",
    "import plotly.express as px\n",
    "import pandas as pd\n",
    "import dash\n",
    "from dash.dependencies import Input, Output\n",
    "from dash import Dash, html, dcc \n",
    "from urllib.request import urlopen\n",
    "import json\n",
    "from plotly.subplots import make_subplots\n",
    "import numpy as np"
   ]
  },
  {
   "cell_type": "code",
   "execution_count": 43,
   "id": "a3cbc8c4",
   "metadata": {},
   "outputs": [],
   "source": [
    "\n",
    "veganGreen = 'rgb(16,114,60)' # Light-green for the vegan color option !!! Change for real color\n",
    "veggieGreen = 'rgb(140,190,84)' # Dark-green for the vegetarian color option !!! Change for real color\n",
    "veggieGreenLight = \"rgb(180, 240, 120)\"\n",
    "\n",
    "df_nameIndex = pd.read_csv(\"data/fv_data.csv\",\n",
    "                 dtype={\"fips\": str})\n",
    "\n",
    "df_sim = pd.read_excel(\"data_sim.xlsx\",\n",
    "                 dtype={\"fips\": str})\n",
    "#df = df.fillna(0) # replace NA values with 0\n",
    "df_nameIndex = df_nameIndex.set_index(\"Navn\")\n",
    "\n",
    "\n",
    "kost_color = {\"Spiser ofte kød, kødpålæg, fjerkræ og/eller fisk (hver dag eller næsten hver dag)\": \"red\", \n",
    "             \"Spiser fisk, men derudover kun vegetarisk, aldrig kød, kødpålæg og fjerkræ\":\"turquoise\",\n",
    "             \"Spiser vegetarisk mindst halvdelen af ugens dage, de øvrige dage kød, fjerkræ og/eller fisk\":\"blue\", \n",
    "             'Spiser kun vegetarisk, sjældent mælkeprodukter og æg': veggieGreenLight,\n",
    "             'Spiser kun vegetarisk, aldrig kød, kødpålæg, fjerkræ og fisk': veggieGreen,\n",
    "             'Spiser kun vegansk':veganGreen, \n",
    "             'Ønsker ikke at svare': \"grey\",\n",
    "             }\n",
    "\n",
    "#df[\"Candidate\"] = [df['Navn'][i]+f\" ({df['Parti'][i][:2]})\" for i, x in enumerate(df[\"Navn\"])]\n",
    "#df_nameIndex = df.set_index(\"Candidate\")\n",
    "# Tilføjer en randomiseret kostkolonne\n",
    "#df_nameIndex[\"Kost\"] = list(np.random.randint(low=1, high=6,size=len(df_nameIndex)))\n",
    "#kost_dict = {5: \"Kødspiser\", 4:\"Fleksitar\",3:\"Pescetar\", 2: \"Vegetar\",1:\"Veganer\", 6: \"Ønsker ikke at svare\"}\n",
    "# kost_color = {\"Kødspiser\":\"red\", \"Fleksitar\":\"turquoise\",\"Pescetar\":\"blue\", \"Vegetar\":veggieGreen,\"Veganer\":veganGreen\n",
    "#               ,\"Ønsker ikke at svare\" : \"grey\"}\n",
    "#df_nameIndex[\"Kost\"] = [kost_dict[x] for x in df_nameIndex[\"Kost\"]]\n",
    "#df_nameIndex[\"Kost_color\"] = [kost_color[x] for x in df_nameIndex[\"Kost\"]]\n",
    "\n",
    "\n",
    "\n",
    "# List of the five new columns\n",
    "#q1Answers = ['Daginstitutioner','Hospitaler, psykiatrien','Plejehjem, plejecentre og offentlig madudbringning til ældre', 'Offentlige arbejdspladser', 'ALLE offentlige institutioner']\n",
    "#Adding the five columns, if not allready added\n",
    "#if q1Answers[0] not in df.columns:\n",
    "#    df = df.reindex(columns = df.columns[0:5].tolist() + q1Answers + df.columns[5:].tolist())\n",
    "\n",
    "# First value adds random boolean(0,1) to \"Alle offentlige institutioner\" column.\n",
    "# Second value adds random boolean (0,1) to the remaining four columns,\n",
    "# depending on the boolean from the \"Alle offentlige institutioner\" column.\n",
    "#q1Questions = df.columns[4:9]\n",
    "#for i in range(0,len(df)):\n",
    "#    value = 1 if random() > 0.7 else 0\n",
    "#    df.loc[i,q1Questions[4:5]] = value\n",
    "#    for col in q1Questions[0:4]:\n",
    "#        value2 = 1 if random() > 0.5 else 0\n",
    "#        if value == 0:\n",
    "#            df.loc[i,col] = value2\n",
    "#        else:\n",
    "#            df.loc[i,col] = 0\n",
    "# Definitions from the main-file\n",
    "\n",
    "# This codeblock contains the variables for the dash-board\n",
    "#Style\n",
    "textBlack = 'rgb(0,0,0)' #Black for text\n",
    "\n",
    "H2Style = {\"fontSize\": \"25px\",\n",
    "            \"color\": veganGreen,\n",
    "            \"text-align\": \"center\",\n",
    "            'background': 'white',\n",
    "            'font-family': 'Calibri',\n",
    "            \"margin-top\": \"20px\",\n",
    "            \"margin-bottom\":'10px',\n",
    "            \"padding\":\"1.5%\"}\n",
    "\n",
    "pStyle = {'fontSize': '18px',\n",
    "            'color': textBlack,\n",
    "            'text-align': 'center',\n",
    "            'background': 'white',\n",
    "            'font-family': 'Calibri',\n",
    "            'margin-top': '-40px',\n",
    "            'margin-bottom':'1px',\n",
    "            'padding':'1.5%'}\n",
    "\n",
    "#Lists\n",
    "parties = [] # !!! Add list according to values from survey\n",
    "candidates = [] # !!! Add list according to values from survey\n",
    "questions = df_nameIndex.columns[4:26] # !!! Add questions to this list\n",
    "kommuneList = df_nameIndex[\"Storkreds\"].unique()  # !!! change list according to values from survey\n",
    "\n",
    "\n",
    "# Placeholder text\n",
    "loremIpsum = \"Lorem ipsum dolor sit amet, consectetur adipiscing elit, sed do eiusmod tempor incididunt ut labore et dolore magna aliqua. Ut enim ad minim veniam, quis nostrud exercitation ullamco laboris nisi ut aliquip ex ea commodo consequat. Duis aute irure dolor in reprehenderit in voluptate velit esse cillum dolore eu fugiat nulla pariatur. Excepteur sint occaecat cupidatat non proident, sunt in culpa qui officia deserunt mollit anim id est laborum.\"\n",
    "\n"
   ]
  },
  {
   "cell_type": "code",
   "execution_count": 44,
   "id": "07c861dd",
   "metadata": {},
   "outputs": [
    {
     "name": "stdout",
     "output_type": "stream",
     "text": [
      "Fyns Storkreds \n",
      " Fyns Storkreds \n",
      " Fødevarestyrelsen skal have flere midler til at styrke deres faglige ressourcer til at rådgive om plantebaseret ernæring.\n"
     ]
    }
   ],
   "source": [
    "value = \"Fyns Storkreds\"\n",
    "storkreds = value\n",
    "question = df_nameIndex.columns[15]\n",
    "\n",
    "print(value,\"\\n\",\n",
    "      storkreds, \"\\n\",\n",
    "      question)"
   ]
  },
  {
   "cell_type": "markdown",
   "id": "e0e1cac5",
   "metadata": {},
   "source": [
    "# Data! "
   ]
  },
  {
   "cell_type": "code",
   "execution_count": 45,
   "id": "0cd8ece4",
   "metadata": {},
   "outputs": [
    {
     "data": {
      "text/plain": [
       "Storkreds\n",
       "Bornholms Storkreds             5\n",
       "Fyns Storkreds                 27\n",
       "Københavns Omegns Storkreds    25\n",
       "Københavns Storkreds           42\n",
       "Nordjyllands Storkreds         28\n",
       "Nordsjællands Storkreds        26\n",
       "Sjællands Storkreds            36\n",
       "Sydjyllands Storkreds          36\n",
       "Vestjyllands Storkreds         25\n",
       "Østjyllands Storkreds          41\n",
       "dtype: int64"
      ]
     },
     "execution_count": 45,
     "metadata": {},
     "output_type": "execute_result"
    }
   ],
   "source": [
    "df_nameIndex.groupby(\"Storkreds\").size()"
   ]
  },
  {
   "cell_type": "markdown",
   "id": "b37693d4",
   "metadata": {},
   "source": [
    "# Grafer "
   ]
  },
  {
   "cell_type": "code",
   "execution_count": 46,
   "id": "af6a580c",
   "metadata": {},
   "outputs": [
    {
     "data": {
      "text/html": [
       "<div>\n",
       "<style scoped>\n",
       "    .dataframe tbody tr th:only-of-type {\n",
       "        vertical-align: middle;\n",
       "    }\n",
       "\n",
       "    .dataframe tbody tr th {\n",
       "        vertical-align: top;\n",
       "    }\n",
       "\n",
       "    .dataframe thead th {\n",
       "        text-align: right;\n",
       "    }\n",
       "</style>\n",
       "<table border=\"1\" class=\"dataframe\">\n",
       "  <thead>\n",
       "    <tr style=\"text-align: right;\">\n",
       "      <th></th>\n",
       "      <th>Storkreds</th>\n",
       "      <th>Parti</th>\n",
       "      <th>Kost</th>\n",
       "      <th>Score</th>\n",
       "      <th>Folketinget skal vedtage, at det altid skal være muligt, som en valgmulighed, at få et plantebaseret måltid i de offentlige køkkener -  daginstitutioner</th>\n",
       "      <th>Folketinget skal vedtage, at det altid skal være muligt, som en valgmulighed, at få et plantebaseret måltid i de offentlige køkkener - Uddannelsesinstitutioner (skoler, universiteter, o.l.)</th>\n",
       "      <th>Folketinget skal vedtage, at det altid skal være muligt, som en valgmulighed, at få et plantebaseret måltid i de offentlige køkkener - Hospitaler og sygehuse</th>\n",
       "      <th>Folketinget skal vedtage, at det altid skal være muligt, som en valgmulighed, at få et plantebaseret måltid i de offentlige køkkener - Plejehjem, plejecentre og offentlig madudbringning til ældre</th>\n",
       "      <th>Folketinget skal vedtage, at det altid skal være muligt, som en valgmulighed, at få et plantebaseret måltid i de offentlige køkkener - Offentlige arbejdspladser</th>\n",
       "      <th>Folketinget skal vedtage, at det altid skal være muligt, som en valgmulighed, at få et plantebaseret måltid i de offentlige køkkener - ALLE offentlige køkkener (både de ovenfor nævnte og andre)</th>\n",
       "      <th>...</th>\n",
       "      <th>Momsen på frugt og grønt skal sænkes.</th>\n",
       "      <th>Der skal være en klimaafgift på alle fødevarer, der afspejler deres drivhusgasudledning.</th>\n",
       "      <th>Der skal være en klimaafgift specifikt på alle animalske fødevarer</th>\n",
       "      <th>Finansielle institutioner (banker, pensionskasser og investeringsrådgivere, långivere etc.) skal pålægges hvert år at afrapportere, hvordan deres porteføljer, produkter og långivning bidrager til grøn omstilling af landbruget, herunder især fra animalsk til plantebaseret produktion.</th>\n",
       "      <th>Fonden for Plantebaserede Fødevarer skal have mindst 200 mio. kr. ekstra årligt udover de eksisterende 85 mio. kr. årligt, så niveauet i højere grad svarer til omfanget af den nødvendige omstilling.</th>\n",
       "      <th>Forskningsmidler indenfor fødevarer skal omlægges til i højere grad at fokusere på klimavenlige, plantebaserede fødevarer frem for animalske.</th>\n",
       "      <th>Den danske animalske landbrugsproduktion står for en stor andel af den samlede danske drivhusgasudledning. Derfor skal antallet af landbrugsdyr (svin, kyllinger, køer, osv.) mindskes til halvdelen af det nuværende antal i 2030.</th>\n",
       "      <th>Landmænd, der vil omlægge deres produktion til flere plantebaserede afgrøder til mennesker, skal kunne modtage gratis efteruddannelse.</th>\n",
       "      <th>Støtteordninger til fødevareerhvervet skal omlægges til i højere grad at støtte klimavenlige, plantebaserede fødevarer frem for animalske.</th>\n",
       "      <th>Kost_color</th>\n",
       "    </tr>\n",
       "    <tr>\n",
       "      <th>Navn</th>\n",
       "      <th></th>\n",
       "      <th></th>\n",
       "      <th></th>\n",
       "      <th></th>\n",
       "      <th></th>\n",
       "      <th></th>\n",
       "      <th></th>\n",
       "      <th></th>\n",
       "      <th></th>\n",
       "      <th></th>\n",
       "      <th></th>\n",
       "      <th></th>\n",
       "      <th></th>\n",
       "      <th></th>\n",
       "      <th></th>\n",
       "      <th></th>\n",
       "      <th></th>\n",
       "      <th></th>\n",
       "      <th></th>\n",
       "      <th></th>\n",
       "      <th></th>\n",
       "    </tr>\n",
       "  </thead>\n",
       "  <tbody>\n",
       "    <tr>\n",
       "      <th>Malte Jäger (D.)</th>\n",
       "      <td>Fyns Storkreds</td>\n",
       "      <td>D. Nye Borgerlige</td>\n",
       "      <td>Spiser ofte kød, kødpålæg, fjerkræ og/eller fi...</td>\n",
       "      <td>0</td>\n",
       "      <td>Uenig - det vil jeg ikke støtte</td>\n",
       "      <td>Uenig - det vil jeg ikke støtte</td>\n",
       "      <td>Uenig - det vil jeg ikke støtte</td>\n",
       "      <td>Uenig - det vil jeg ikke støtte</td>\n",
       "      <td>Uenig - det vil jeg ikke støtte</td>\n",
       "      <td>Uenig - det vil jeg ikke støtte</td>\n",
       "      <td>...</td>\n",
       "      <td>Uenig - det vil jeg ikke støtte</td>\n",
       "      <td>Uenig - det vil jeg ikke støtte</td>\n",
       "      <td>Uenig - det vil jeg ikke støtte</td>\n",
       "      <td>Uenig - det vil jeg ikke støtte</td>\n",
       "      <td>Uenig - det vil jeg ikke støtte</td>\n",
       "      <td>Uenig - det vil jeg ikke støtte</td>\n",
       "      <td>Uenig - det vil jeg ikke støtte</td>\n",
       "      <td>Uenig - det vil jeg ikke støtte</td>\n",
       "      <td>Uenig - det vil jeg ikke støtte</td>\n",
       "      <td>red</td>\n",
       "    </tr>\n",
       "    <tr>\n",
       "      <th>Nikolaj Leed Henriksen (V.)</th>\n",
       "      <td>Fyns Storkreds</td>\n",
       "      <td>V. Venstre</td>\n",
       "      <td>Ved ikke / har ikke taget stilling</td>\n",
       "      <td>0</td>\n",
       "      <td>Ved ikke / har ikke taget stilling</td>\n",
       "      <td>Ved ikke / har ikke taget stilling</td>\n",
       "      <td>Ved ikke / har ikke taget stilling</td>\n",
       "      <td>Ved ikke / har ikke taget stilling</td>\n",
       "      <td>Ved ikke / har ikke taget stilling</td>\n",
       "      <td>Uenig - det vil jeg ikke støtte</td>\n",
       "      <td>...</td>\n",
       "      <td>Ved ikke / har ikke taget stilling</td>\n",
       "      <td>Ved ikke / har ikke taget stilling</td>\n",
       "      <td>Ved ikke / har ikke taget stilling</td>\n",
       "      <td>Ved ikke / har ikke taget stilling</td>\n",
       "      <td>Ved ikke / har ikke taget stilling</td>\n",
       "      <td>Ved ikke / har ikke taget stilling</td>\n",
       "      <td>Ved ikke / har ikke taget stilling</td>\n",
       "      <td>Ved ikke / har ikke taget stilling</td>\n",
       "      <td>Ved ikke / har ikke taget stilling</td>\n",
       "      <td>grey</td>\n",
       "    </tr>\n",
       "    <tr>\n",
       "      <th>Melanie Jørgensen (D.)</th>\n",
       "      <td>Fyns Storkreds</td>\n",
       "      <td>D. Nye Borgerlige</td>\n",
       "      <td>Spiser ofte kød, kødpålæg, fjerkræ og/eller fi...</td>\n",
       "      <td>1</td>\n",
       "      <td>Uenig - det vil jeg ikke støtte</td>\n",
       "      <td>Uenig - det vil jeg ikke støtte</td>\n",
       "      <td>Uenig - det vil jeg ikke støtte</td>\n",
       "      <td>Uenig - det vil jeg ikke støtte</td>\n",
       "      <td>Uenig - det vil jeg ikke støtte</td>\n",
       "      <td>Uenig - det vil jeg ikke støtte</td>\n",
       "      <td>...</td>\n",
       "      <td>Enig - det vil jeg støtte, men jeg vil ikke se...</td>\n",
       "      <td>Uenig - det vil jeg ikke støtte</td>\n",
       "      <td>Uenig - det vil jeg ikke støtte</td>\n",
       "      <td>Uenig - det vil jeg ikke støtte</td>\n",
       "      <td>Uenig - det vil jeg ikke støtte</td>\n",
       "      <td>Uenig - det vil jeg ikke støtte</td>\n",
       "      <td>Uenig - det vil jeg ikke støtte</td>\n",
       "      <td>Uenig - det vil jeg ikke støtte</td>\n",
       "      <td>Uenig - det vil jeg ikke støtte</td>\n",
       "      <td>red</td>\n",
       "    </tr>\n",
       "    <tr>\n",
       "      <th>Jonas René Jensen (D.)</th>\n",
       "      <td>Fyns Storkreds</td>\n",
       "      <td>D. Nye Borgerlige</td>\n",
       "      <td>Ved ikke / har ikke taget stilling</td>\n",
       "      <td>1</td>\n",
       "      <td>Uenig - det vil jeg ikke støtte</td>\n",
       "      <td>Uenig - det vil jeg ikke støtte</td>\n",
       "      <td>Uenig - det vil jeg ikke støtte</td>\n",
       "      <td>Uenig - det vil jeg ikke støtte</td>\n",
       "      <td>Uenig - det vil jeg ikke støtte</td>\n",
       "      <td>Uenig - det vil jeg ikke støtte</td>\n",
       "      <td>...</td>\n",
       "      <td>Ved ikke / har ikke taget stilling</td>\n",
       "      <td>Uenig - det vil jeg ikke støtte</td>\n",
       "      <td>Uenig - det vil jeg ikke støtte</td>\n",
       "      <td>Uenig - det vil jeg ikke støtte</td>\n",
       "      <td>Uenig - det vil jeg ikke støtte</td>\n",
       "      <td>Uenig - det vil jeg ikke støtte</td>\n",
       "      <td>Uenig - det vil jeg ikke støtte</td>\n",
       "      <td>Ved ikke / har ikke taget stilling</td>\n",
       "      <td>Uenig - det vil jeg ikke støtte</td>\n",
       "      <td>grey</td>\n",
       "    </tr>\n",
       "    <tr>\n",
       "      <th>Kenneth Bjerg Andersen (M.)</th>\n",
       "      <td>Fyns Storkreds</td>\n",
       "      <td>M. Moderaterne</td>\n",
       "      <td>Ved ikke / har ikke taget stilling</td>\n",
       "      <td>2</td>\n",
       "      <td>Uenig - det vil jeg ikke støtte</td>\n",
       "      <td>Uenig - det vil jeg ikke støtte</td>\n",
       "      <td>Uenig - det vil jeg ikke støtte</td>\n",
       "      <td>Uenig - det vil jeg ikke støtte</td>\n",
       "      <td>Uenig - det vil jeg ikke støtte</td>\n",
       "      <td>Uenig - det vil jeg ikke støtte</td>\n",
       "      <td>...</td>\n",
       "      <td>Ved ikke / har ikke taget stilling</td>\n",
       "      <td>Ved ikke / har ikke taget stilling</td>\n",
       "      <td>Ved ikke / har ikke taget stilling</td>\n",
       "      <td>Ved ikke / har ikke taget stilling</td>\n",
       "      <td>Ved ikke / har ikke taget stilling</td>\n",
       "      <td>Ved ikke / har ikke taget stilling</td>\n",
       "      <td>Ved ikke / har ikke taget stilling</td>\n",
       "      <td>Ved ikke / har ikke taget stilling</td>\n",
       "      <td>Ved ikke / har ikke taget stilling</td>\n",
       "      <td>grey</td>\n",
       "    </tr>\n",
       "    <tr>\n",
       "      <th>Rebecha Foged (D.)</th>\n",
       "      <td>Fyns Storkreds</td>\n",
       "      <td>D. Nye Borgerlige</td>\n",
       "      <td>Spiser ofte kød, kødpålæg, fjerkræ og/eller fi...</td>\n",
       "      <td>6</td>\n",
       "      <td>Enig - det vil jeg støtte, men jeg vil ikke se...</td>\n",
       "      <td>Enig - det vil jeg støtte, men jeg vil ikke se...</td>\n",
       "      <td>Enig - det vil jeg støtte, men jeg vil ikke se...</td>\n",
       "      <td>Enig - det vil jeg støtte, men jeg vil ikke se...</td>\n",
       "      <td>Enig - det vil jeg støtte, men jeg vil ikke se...</td>\n",
       "      <td>Enig - det vil jeg støtte, men jeg vil ikke se...</td>\n",
       "      <td>...</td>\n",
       "      <td>Enig - det vil jeg arbejde aktivt for</td>\n",
       "      <td>Uenig - det vil jeg ikke støtte</td>\n",
       "      <td>Uenig - det vil jeg ikke støtte</td>\n",
       "      <td>Ved ikke / har ikke taget stilling</td>\n",
       "      <td>Uenig - det vil jeg ikke støtte</td>\n",
       "      <td>Uenig - det vil jeg ikke støtte</td>\n",
       "      <td>Uenig - det vil jeg ikke støtte</td>\n",
       "      <td>Ved ikke / har ikke taget stilling</td>\n",
       "      <td>Ved ikke / har ikke taget stilling</td>\n",
       "      <td>red</td>\n",
       "    </tr>\n",
       "    <tr>\n",
       "      <th>Henrik Tørnqvist Lauridsen  (D.)</th>\n",
       "      <td>Fyns Storkreds</td>\n",
       "      <td>D. Nye Borgerlige</td>\n",
       "      <td>Spiser ofte kød, kødpålæg, fjerkræ og/eller fi...</td>\n",
       "      <td>6</td>\n",
       "      <td>Uenig - det vil jeg ikke støtte</td>\n",
       "      <td>Uenig - det vil jeg ikke støtte</td>\n",
       "      <td>Uenig - det vil jeg ikke støtte</td>\n",
       "      <td>Uenig - det vil jeg ikke støtte</td>\n",
       "      <td>Uenig - det vil jeg ikke støtte</td>\n",
       "      <td>Uenig - det vil jeg ikke støtte</td>\n",
       "      <td>...</td>\n",
       "      <td>Enig - det vil jeg arbejde aktivt for</td>\n",
       "      <td>Uenig - det vil jeg ikke støtte</td>\n",
       "      <td>Uenig - det vil jeg ikke støtte</td>\n",
       "      <td>Uenig - det vil jeg ikke støtte</td>\n",
       "      <td>Uenig - det vil jeg ikke støtte</td>\n",
       "      <td>Uenig - det vil jeg ikke støtte</td>\n",
       "      <td>Uenig - det vil jeg ikke støtte</td>\n",
       "      <td>Enig - det vil jeg støtte, men jeg vil ikke se...</td>\n",
       "      <td>Uenig - det vil jeg ikke støtte</td>\n",
       "      <td>red</td>\n",
       "    </tr>\n",
       "    <tr>\n",
       "      <th>Reza Javid (Ø.)</th>\n",
       "      <td>Fyns Storkreds</td>\n",
       "      <td>Ø. Enhedslisten</td>\n",
       "      <td>Ved ikke / har ikke taget stilling</td>\n",
       "      <td>7</td>\n",
       "      <td>Ved ikke / har ikke taget stilling</td>\n",
       "      <td>Ved ikke / har ikke taget stilling</td>\n",
       "      <td>Ved ikke / har ikke taget stilling</td>\n",
       "      <td>Ved ikke / har ikke taget stilling</td>\n",
       "      <td>Ved ikke / har ikke taget stilling</td>\n",
       "      <td>Enig - det vil jeg arbejde aktivt for</td>\n",
       "      <td>...</td>\n",
       "      <td>Ved ikke / har ikke taget stilling</td>\n",
       "      <td>Ved ikke / har ikke taget stilling</td>\n",
       "      <td>Ved ikke / har ikke taget stilling</td>\n",
       "      <td>Ved ikke / har ikke taget stilling</td>\n",
       "      <td>Ved ikke / har ikke taget stilling</td>\n",
       "      <td>Ved ikke / har ikke taget stilling</td>\n",
       "      <td>Ved ikke / har ikke taget stilling</td>\n",
       "      <td>Ved ikke / har ikke taget stilling</td>\n",
       "      <td>Ved ikke / har ikke taget stilling</td>\n",
       "      <td>grey</td>\n",
       "    </tr>\n",
       "    <tr>\n",
       "      <th>Katrine Wulff (F.)</th>\n",
       "      <td>Fyns Storkreds</td>\n",
       "      <td>F. Socialistisk Folkeparti</td>\n",
       "      <td>Ved ikke / har ikke taget stilling</td>\n",
       "      <td>11</td>\n",
       "      <td>Enig - det vil jeg støtte, men jeg vil ikke se...</td>\n",
       "      <td>Enig - det vil jeg arbejde aktivt for</td>\n",
       "      <td>Enig - det vil jeg arbejde aktivt for</td>\n",
       "      <td>Enig - det vil jeg støtte, men jeg vil ikke se...</td>\n",
       "      <td>Enig - det vil jeg arbejde aktivt for</td>\n",
       "      <td>Enig - det vil jeg støtte, men jeg vil ikke se...</td>\n",
       "      <td>...</td>\n",
       "      <td>Ved ikke / har ikke taget stilling</td>\n",
       "      <td>Enig - det vil jeg støtte, men jeg vil ikke se...</td>\n",
       "      <td>Ved ikke / har ikke taget stilling</td>\n",
       "      <td>Ved ikke / har ikke taget stilling</td>\n",
       "      <td>Ved ikke / har ikke taget stilling</td>\n",
       "      <td>Ved ikke / har ikke taget stilling</td>\n",
       "      <td>Ved ikke / har ikke taget stilling</td>\n",
       "      <td>Ved ikke / har ikke taget stilling</td>\n",
       "      <td>Ved ikke / har ikke taget stilling</td>\n",
       "      <td>grey</td>\n",
       "    </tr>\n",
       "    <tr>\n",
       "      <th>Nynne Printz (F.)</th>\n",
       "      <td>Fyns Storkreds</td>\n",
       "      <td>F. Socialistisk Folkeparti</td>\n",
       "      <td>Spiser vegetarisk mindst halvdelen af ugens da...</td>\n",
       "      <td>12</td>\n",
       "      <td>Ved ikke / har ikke taget stilling</td>\n",
       "      <td>Ved ikke / har ikke taget stilling</td>\n",
       "      <td>Ved ikke / har ikke taget stilling</td>\n",
       "      <td>Ved ikke / har ikke taget stilling</td>\n",
       "      <td>Ved ikke / har ikke taget stilling</td>\n",
       "      <td>Enig - det vil jeg støtte, men jeg vil ikke se...</td>\n",
       "      <td>...</td>\n",
       "      <td>Uenig - det vil jeg ikke støtte</td>\n",
       "      <td>Uenig - det vil jeg ikke støtte</td>\n",
       "      <td>Enig - det vil jeg støtte, men jeg vil ikke se...</td>\n",
       "      <td>Enig - det vil jeg støtte, men jeg vil ikke se...</td>\n",
       "      <td>Ved ikke / har ikke taget stilling</td>\n",
       "      <td>Enig - det vil jeg støtte, men jeg vil ikke se...</td>\n",
       "      <td>Enig - det vil jeg støtte, men jeg vil ikke se...</td>\n",
       "      <td>Enig - det vil jeg støtte, men jeg vil ikke se...</td>\n",
       "      <td>Enig - det vil jeg støtte, men jeg vil ikke se...</td>\n",
       "      <td>turquoise</td>\n",
       "    </tr>\n",
       "    <tr>\n",
       "      <th>Gert Dyrn (K.)</th>\n",
       "      <td>Fyns Storkreds</td>\n",
       "      <td>K. Kristendemokraterne</td>\n",
       "      <td>Spiser ofte kød, kødpålæg, fjerkræ og/eller fi...</td>\n",
       "      <td>16</td>\n",
       "      <td>Enig - det vil jeg støtte, men jeg vil ikke se...</td>\n",
       "      <td>Enig - det vil jeg støtte, men jeg vil ikke se...</td>\n",
       "      <td>Enig - det vil jeg støtte, men jeg vil ikke se...</td>\n",
       "      <td>Enig - det vil jeg støtte, men jeg vil ikke se...</td>\n",
       "      <td>Enig - det vil jeg støtte, men jeg vil ikke se...</td>\n",
       "      <td>Enig - det vil jeg støtte, men jeg vil ikke se...</td>\n",
       "      <td>...</td>\n",
       "      <td>Enig - det vil jeg arbejde aktivt for</td>\n",
       "      <td>Uenig - det vil jeg ikke støtte</td>\n",
       "      <td>Uenig - det vil jeg ikke støtte</td>\n",
       "      <td>Uenig - det vil jeg ikke støtte</td>\n",
       "      <td>Enig - det vil jeg arbejde aktivt for</td>\n",
       "      <td>Uenig - det vil jeg ikke støtte</td>\n",
       "      <td>Uenig - det vil jeg ikke støtte</td>\n",
       "      <td>Enig - det vil jeg arbejde aktivt for</td>\n",
       "      <td>Uenig - det vil jeg ikke støtte</td>\n",
       "      <td>red</td>\n",
       "    </tr>\n",
       "    <tr>\n",
       "      <th>Jonas Hulgaard Ammundsen (F.)</th>\n",
       "      <td>Fyns Storkreds</td>\n",
       "      <td>F. Socialistisk Folkeparti</td>\n",
       "      <td>Spiser ofte kød, kødpålæg, fjerkræ og/eller fi...</td>\n",
       "      <td>22</td>\n",
       "      <td>Enig - det vil jeg støtte, men jeg vil ikke se...</td>\n",
       "      <td>Enig - det vil jeg arbejde aktivt for</td>\n",
       "      <td>Enig - det vil jeg arbejde aktivt for</td>\n",
       "      <td>Enig - det vil jeg støtte, men jeg vil ikke se...</td>\n",
       "      <td>Enig - det vil jeg arbejde aktivt for</td>\n",
       "      <td>Enig - det vil jeg arbejde aktivt for</td>\n",
       "      <td>...</td>\n",
       "      <td>Enig - det vil jeg arbejde aktivt for</td>\n",
       "      <td>Enig - det vil jeg arbejde aktivt for</td>\n",
       "      <td>Enig - det vil jeg støtte, men jeg vil ikke se...</td>\n",
       "      <td>Enig - det vil jeg støtte, men jeg vil ikke se...</td>\n",
       "      <td>Uenig - det vil jeg ikke støtte</td>\n",
       "      <td>Enig - det vil jeg støtte, men jeg vil ikke se...</td>\n",
       "      <td>Enig - det vil jeg støtte, men jeg vil ikke se...</td>\n",
       "      <td>Enig - det vil jeg arbejde aktivt for</td>\n",
       "      <td>Enig - det vil jeg støtte, men jeg vil ikke se...</td>\n",
       "      <td>red</td>\n",
       "    </tr>\n",
       "    <tr>\n",
       "      <th>Mads Madsen Henriksen (A.)</th>\n",
       "      <td>Fyns Storkreds</td>\n",
       "      <td>A. Socialdemokratiet</td>\n",
       "      <td>Spiser ofte kød, kødpålæg, fjerkræ og/eller fi...</td>\n",
       "      <td>25</td>\n",
       "      <td>Enig - det vil jeg støtte, men jeg vil ikke se...</td>\n",
       "      <td>Enig - det vil jeg støtte, men jeg vil ikke se...</td>\n",
       "      <td>Enig - det vil jeg støtte, men jeg vil ikke se...</td>\n",
       "      <td>Enig - det vil jeg støtte, men jeg vil ikke se...</td>\n",
       "      <td>Enig - det vil jeg støtte, men jeg vil ikke se...</td>\n",
       "      <td>Enig - det vil jeg støtte, men jeg vil ikke se...</td>\n",
       "      <td>...</td>\n",
       "      <td>Enig - det vil jeg arbejde aktivt for</td>\n",
       "      <td>Enig - det vil jeg støtte, men jeg vil ikke se...</td>\n",
       "      <td>Enig - det vil jeg støtte, men jeg vil ikke se...</td>\n",
       "      <td>Enig - det vil jeg støtte, men jeg vil ikke se...</td>\n",
       "      <td>Enig - det vil jeg arbejde aktivt for</td>\n",
       "      <td>Enig - det vil jeg arbejde aktivt for</td>\n",
       "      <td>Enig - det vil jeg støtte, men jeg vil ikke se...</td>\n",
       "      <td>Enig - det vil jeg arbejde aktivt for</td>\n",
       "      <td>Enig - det vil jeg arbejde aktivt for</td>\n",
       "      <td>red</td>\n",
       "    </tr>\n",
       "    <tr>\n",
       "      <th>Jan Werner Mathiasen (B.)</th>\n",
       "      <td>Fyns Storkreds</td>\n",
       "      <td>B. Det Radikale Venstre</td>\n",
       "      <td>Spiser ofte kød, kødpålæg, fjerkræ og/eller fi...</td>\n",
       "      <td>26</td>\n",
       "      <td>Enig - det vil jeg støtte, men jeg vil ikke se...</td>\n",
       "      <td>Enig - det vil jeg støtte, men jeg vil ikke se...</td>\n",
       "      <td>Enig - det vil jeg arbejde aktivt for</td>\n",
       "      <td>Enig - det vil jeg arbejde aktivt for</td>\n",
       "      <td>Enig - det vil jeg støtte, men jeg vil ikke se...</td>\n",
       "      <td>Enig - det vil jeg støtte, men jeg vil ikke se...</td>\n",
       "      <td>...</td>\n",
       "      <td>Enig - det vil jeg arbejde aktivt for</td>\n",
       "      <td>Enig - det vil jeg arbejde aktivt for</td>\n",
       "      <td>Enig - det vil jeg arbejde aktivt for</td>\n",
       "      <td>Uenig - det vil jeg ikke støtte</td>\n",
       "      <td>Enig - det vil jeg arbejde aktivt for</td>\n",
       "      <td>Enig - det vil jeg arbejde aktivt for</td>\n",
       "      <td>Enig - det vil jeg støtte, men jeg vil ikke se...</td>\n",
       "      <td>Enig - det vil jeg arbejde aktivt for</td>\n",
       "      <td>Enig - det vil jeg arbejde aktivt for</td>\n",
       "      <td>red</td>\n",
       "    </tr>\n",
       "    <tr>\n",
       "      <th>Bodil Marie Helbo (Å.)</th>\n",
       "      <td>Fyns Storkreds</td>\n",
       "      <td>Å. Alternativet</td>\n",
       "      <td>Spiser fisk, men derudover kun vegetarisk, ald...</td>\n",
       "      <td>26</td>\n",
       "      <td>Enig - det vil jeg støtte, men jeg vil ikke se...</td>\n",
       "      <td>Enig - det vil jeg støtte, men jeg vil ikke se...</td>\n",
       "      <td>Enig - det vil jeg støtte, men jeg vil ikke se...</td>\n",
       "      <td>Enig - det vil jeg støtte, men jeg vil ikke se...</td>\n",
       "      <td>Enig - det vil jeg støtte, men jeg vil ikke se...</td>\n",
       "      <td>Enig - det vil jeg støtte, men jeg vil ikke se...</td>\n",
       "      <td>...</td>\n",
       "      <td>Enig - det vil jeg arbejde aktivt for</td>\n",
       "      <td>Enig - det vil jeg støtte, men jeg vil ikke se...</td>\n",
       "      <td>Enig - det vil jeg arbejde aktivt for</td>\n",
       "      <td>Enig - det vil jeg arbejde aktivt for</td>\n",
       "      <td>Ved ikke / har ikke taget stilling</td>\n",
       "      <td>Enig - det vil jeg arbejde aktivt for</td>\n",
       "      <td>Enig - det vil jeg arbejde aktivt for</td>\n",
       "      <td>Ved ikke / har ikke taget stilling</td>\n",
       "      <td>Enig - det vil jeg arbejde aktivt for</td>\n",
       "      <td>blue</td>\n",
       "    </tr>\n",
       "    <tr>\n",
       "      <th>Niels Bjarne Lund (Ø.)</th>\n",
       "      <td>Fyns Storkreds</td>\n",
       "      <td>Ø. Enhedslisten</td>\n",
       "      <td>Spiser ofte kød, kødpålæg, fjerkræ og/eller fi...</td>\n",
       "      <td>27</td>\n",
       "      <td>Enig - det vil jeg arbejde aktivt for</td>\n",
       "      <td>Enig - det vil jeg arbejde aktivt for</td>\n",
       "      <td>Enig - det vil jeg arbejde aktivt for</td>\n",
       "      <td>Enig - det vil jeg arbejde aktivt for</td>\n",
       "      <td>Enig - det vil jeg arbejde aktivt for</td>\n",
       "      <td>Enig - det vil jeg arbejde aktivt for</td>\n",
       "      <td>...</td>\n",
       "      <td>Enig - det vil jeg arbejde aktivt for</td>\n",
       "      <td>Enig - det vil jeg arbejde aktivt for</td>\n",
       "      <td>Enig - det vil jeg støtte, men jeg vil ikke se...</td>\n",
       "      <td>Enig - det vil jeg støtte, men jeg vil ikke se...</td>\n",
       "      <td>Enig - det vil jeg støtte, men jeg vil ikke se...</td>\n",
       "      <td>Enig - det vil jeg arbejde aktivt for</td>\n",
       "      <td>Enig - det vil jeg arbejde aktivt for</td>\n",
       "      <td>Enig - det vil jeg arbejde aktivt for</td>\n",
       "      <td>Enig - det vil jeg arbejde aktivt for</td>\n",
       "      <td>red</td>\n",
       "    </tr>\n",
       "    <tr>\n",
       "      <th>Henrik Boye (Å.)</th>\n",
       "      <td>Fyns Storkreds</td>\n",
       "      <td>Å. Alternativet</td>\n",
       "      <td>Spiser vegetarisk mindst halvdelen af ugens da...</td>\n",
       "      <td>28</td>\n",
       "      <td>Enig - det vil jeg støtte, men jeg vil ikke se...</td>\n",
       "      <td>Enig - det vil jeg støtte, men jeg vil ikke se...</td>\n",
       "      <td>Enig - det vil jeg støtte, men jeg vil ikke se...</td>\n",
       "      <td>Enig - det vil jeg støtte, men jeg vil ikke se...</td>\n",
       "      <td>Enig - det vil jeg støtte, men jeg vil ikke se...</td>\n",
       "      <td>Enig - det vil jeg støtte, men jeg vil ikke se...</td>\n",
       "      <td>...</td>\n",
       "      <td>Enig - det vil jeg arbejde aktivt for</td>\n",
       "      <td>Enig - det vil jeg arbejde aktivt for</td>\n",
       "      <td>Enig - det vil jeg arbejde aktivt for</td>\n",
       "      <td>Enig - det vil jeg arbejde aktivt for</td>\n",
       "      <td>Enig - det vil jeg støtte, men jeg vil ikke se...</td>\n",
       "      <td>Enig - det vil jeg støtte, men jeg vil ikke se...</td>\n",
       "      <td>Enig - det vil jeg arbejde aktivt for</td>\n",
       "      <td>Enig - det vil jeg arbejde aktivt for</td>\n",
       "      <td>Enig - det vil jeg arbejde aktivt for</td>\n",
       "      <td>turquoise</td>\n",
       "    </tr>\n",
       "    <tr>\n",
       "      <th>Victoria Bøgh Salo (Ø.)</th>\n",
       "      <td>Fyns Storkreds</td>\n",
       "      <td>Ø. Enhedslisten</td>\n",
       "      <td>Spiser kun vegetarisk, sjældent mælkeprodukter...</td>\n",
       "      <td>30</td>\n",
       "      <td>Enig - det vil jeg arbejde aktivt for</td>\n",
       "      <td>Enig - det vil jeg arbejde aktivt for</td>\n",
       "      <td>Enig - det vil jeg arbejde aktivt for</td>\n",
       "      <td>Enig - det vil jeg arbejde aktivt for</td>\n",
       "      <td>Enig - det vil jeg arbejde aktivt for</td>\n",
       "      <td>Enig - det vil jeg arbejde aktivt for</td>\n",
       "      <td>...</td>\n",
       "      <td>Ved ikke / har ikke taget stilling</td>\n",
       "      <td>Enig - det vil jeg arbejde aktivt for</td>\n",
       "      <td>Enig - det vil jeg støtte, men jeg vil ikke se...</td>\n",
       "      <td>Enig - det vil jeg arbejde aktivt for</td>\n",
       "      <td>Enig - det vil jeg arbejde aktivt for</td>\n",
       "      <td>Enig - det vil jeg arbejde aktivt for</td>\n",
       "      <td>Enig - det vil jeg arbejde aktivt for</td>\n",
       "      <td>Enig - det vil jeg arbejde aktivt for</td>\n",
       "      <td>Enig - det vil jeg arbejde aktivt for</td>\n",
       "      <td>rgb(180, 240, 120)</td>\n",
       "    </tr>\n",
       "    <tr>\n",
       "      <th>Vibeke Syppli Enrum (Ø.)</th>\n",
       "      <td>Fyns Storkreds</td>\n",
       "      <td>Ø. Enhedslisten</td>\n",
       "      <td>Spiser fisk, men derudover kun vegetarisk, ald...</td>\n",
       "      <td>30</td>\n",
       "      <td>Enig - det vil jeg arbejde aktivt for</td>\n",
       "      <td>Enig - det vil jeg arbejde aktivt for</td>\n",
       "      <td>Enig - det vil jeg arbejde aktivt for</td>\n",
       "      <td>Enig - det vil jeg arbejde aktivt for</td>\n",
       "      <td>Enig - det vil jeg arbejde aktivt for</td>\n",
       "      <td>Enig - det vil jeg arbejde aktivt for</td>\n",
       "      <td>...</td>\n",
       "      <td>Enig - det vil jeg arbejde aktivt for</td>\n",
       "      <td>Enig - det vil jeg arbejde aktivt for</td>\n",
       "      <td>Enig - det vil jeg arbejde aktivt for</td>\n",
       "      <td>Enig - det vil jeg arbejde aktivt for</td>\n",
       "      <td>Enig - det vil jeg arbejde aktivt for</td>\n",
       "      <td>Enig - det vil jeg arbejde aktivt for</td>\n",
       "      <td>Enig - det vil jeg arbejde aktivt for</td>\n",
       "      <td>Enig - det vil jeg arbejde aktivt for</td>\n",
       "      <td>Enig - det vil jeg arbejde aktivt for</td>\n",
       "      <td>blue</td>\n",
       "    </tr>\n",
       "    <tr>\n",
       "      <th>Mette Rahbek (Å.)</th>\n",
       "      <td>Fyns Storkreds</td>\n",
       "      <td>Å. Alternativet</td>\n",
       "      <td>Spiser ofte kød, kødpålæg, fjerkræ og/eller fi...</td>\n",
       "      <td>32</td>\n",
       "      <td>Enig - det vil jeg arbejde aktivt for</td>\n",
       "      <td>Enig - det vil jeg arbejde aktivt for</td>\n",
       "      <td>Enig - det vil jeg arbejde aktivt for</td>\n",
       "      <td>Enig - det vil jeg arbejde aktivt for</td>\n",
       "      <td>Enig - det vil jeg arbejde aktivt for</td>\n",
       "      <td>Enig - det vil jeg arbejde aktivt for</td>\n",
       "      <td>...</td>\n",
       "      <td>Enig - det vil jeg arbejde aktivt for</td>\n",
       "      <td>Enig - det vil jeg arbejde aktivt for</td>\n",
       "      <td>Enig - det vil jeg arbejde aktivt for</td>\n",
       "      <td>Enig - det vil jeg arbejde aktivt for</td>\n",
       "      <td>Enig - det vil jeg støtte, men jeg vil ikke se...</td>\n",
       "      <td>Enig - det vil jeg arbejde aktivt for</td>\n",
       "      <td>Enig - det vil jeg arbejde aktivt for</td>\n",
       "      <td>Enig - det vil jeg arbejde aktivt for</td>\n",
       "      <td>Enig - det vil jeg arbejde aktivt for</td>\n",
       "      <td>red</td>\n",
       "    </tr>\n",
       "    <tr>\n",
       "      <th>Nishan Ganesh (Q.)</th>\n",
       "      <td>Fyns Storkreds</td>\n",
       "      <td>Q. Frie Grønne</td>\n",
       "      <td>Spiser vegetarisk mindst halvdelen af ugens da...</td>\n",
       "      <td>33</td>\n",
       "      <td>Enig - det vil jeg arbejde aktivt for</td>\n",
       "      <td>Enig - det vil jeg arbejde aktivt for</td>\n",
       "      <td>Enig - det vil jeg arbejde aktivt for</td>\n",
       "      <td>Enig - det vil jeg arbejde aktivt for</td>\n",
       "      <td>Enig - det vil jeg arbejde aktivt for</td>\n",
       "      <td>Enig - det vil jeg arbejde aktivt for</td>\n",
       "      <td>...</td>\n",
       "      <td>Enig - det vil jeg arbejde aktivt for</td>\n",
       "      <td>Enig - det vil jeg arbejde aktivt for</td>\n",
       "      <td>Enig - det vil jeg arbejde aktivt for</td>\n",
       "      <td>Enig - det vil jeg arbejde aktivt for</td>\n",
       "      <td>Enig - det vil jeg arbejde aktivt for</td>\n",
       "      <td>Enig - det vil jeg arbejde aktivt for</td>\n",
       "      <td>Enig - det vil jeg arbejde aktivt for</td>\n",
       "      <td>Enig - det vil jeg arbejde aktivt for</td>\n",
       "      <td>Enig - det vil jeg arbejde aktivt for</td>\n",
       "      <td>turquoise</td>\n",
       "    </tr>\n",
       "    <tr>\n",
       "      <th>Ole Dupont Kofod (Å.)</th>\n",
       "      <td>Fyns Storkreds</td>\n",
       "      <td>Å. Alternativet</td>\n",
       "      <td>Spiser ofte kød, kødpålæg, fjerkræ og/eller fi...</td>\n",
       "      <td>33</td>\n",
       "      <td>Enig - det vil jeg støtte, men jeg vil ikke se...</td>\n",
       "      <td>Enig - det vil jeg arbejde aktivt for</td>\n",
       "      <td>Enig - det vil jeg arbejde aktivt for</td>\n",
       "      <td>Enig - det vil jeg arbejde aktivt for</td>\n",
       "      <td>Enig - det vil jeg arbejde aktivt for</td>\n",
       "      <td>Enig - det vil jeg arbejde aktivt for</td>\n",
       "      <td>...</td>\n",
       "      <td>Enig - det vil jeg arbejde aktivt for</td>\n",
       "      <td>Enig - det vil jeg arbejde aktivt for</td>\n",
       "      <td>Enig - det vil jeg arbejde aktivt for</td>\n",
       "      <td>Enig - det vil jeg arbejde aktivt for</td>\n",
       "      <td>Enig - det vil jeg arbejde aktivt for</td>\n",
       "      <td>Enig - det vil jeg arbejde aktivt for</td>\n",
       "      <td>Enig - det vil jeg støtte, men jeg vil ikke se...</td>\n",
       "      <td>Enig - det vil jeg arbejde aktivt for</td>\n",
       "      <td>Enig - det vil jeg arbejde aktivt for</td>\n",
       "      <td>red</td>\n",
       "    </tr>\n",
       "    <tr>\n",
       "      <th>Martin Kjærulff (Å.)</th>\n",
       "      <td>Fyns Storkreds</td>\n",
       "      <td>Å. Alternativet</td>\n",
       "      <td>Spiser vegetarisk mindst halvdelen af ugens da...</td>\n",
       "      <td>34</td>\n",
       "      <td>Enig - det vil jeg arbejde aktivt for</td>\n",
       "      <td>Enig - det vil jeg arbejde aktivt for</td>\n",
       "      <td>Enig - det vil jeg arbejde aktivt for</td>\n",
       "      <td>Enig - det vil jeg arbejde aktivt for</td>\n",
       "      <td>Enig - det vil jeg arbejde aktivt for</td>\n",
       "      <td>Enig - det vil jeg arbejde aktivt for</td>\n",
       "      <td>...</td>\n",
       "      <td>Enig - det vil jeg arbejde aktivt for</td>\n",
       "      <td>Enig - det vil jeg arbejde aktivt for</td>\n",
       "      <td>Enig - det vil jeg arbejde aktivt for</td>\n",
       "      <td>Enig - det vil jeg arbejde aktivt for</td>\n",
       "      <td>Enig - det vil jeg arbejde aktivt for</td>\n",
       "      <td>Enig - det vil jeg arbejde aktivt for</td>\n",
       "      <td>Enig - det vil jeg arbejde aktivt for</td>\n",
       "      <td>Enig - det vil jeg arbejde aktivt for</td>\n",
       "      <td>Enig - det vil jeg arbejde aktivt for</td>\n",
       "      <td>turquoise</td>\n",
       "    </tr>\n",
       "    <tr>\n",
       "      <th>Linda Frølund Hansen (Å.)</th>\n",
       "      <td>Fyns Storkreds</td>\n",
       "      <td>Å. Alternativet</td>\n",
       "      <td>Spiser kun vegansk</td>\n",
       "      <td>34</td>\n",
       "      <td>Enig - det vil jeg arbejde aktivt for</td>\n",
       "      <td>Enig - det vil jeg arbejde aktivt for</td>\n",
       "      <td>Enig - det vil jeg arbejde aktivt for</td>\n",
       "      <td>Enig - det vil jeg arbejde aktivt for</td>\n",
       "      <td>Enig - det vil jeg arbejde aktivt for</td>\n",
       "      <td>Enig - det vil jeg arbejde aktivt for</td>\n",
       "      <td>...</td>\n",
       "      <td>Enig - det vil jeg arbejde aktivt for</td>\n",
       "      <td>Enig - det vil jeg arbejde aktivt for</td>\n",
       "      <td>Enig - det vil jeg arbejde aktivt for</td>\n",
       "      <td>Enig - det vil jeg arbejde aktivt for</td>\n",
       "      <td>Enig - det vil jeg arbejde aktivt for</td>\n",
       "      <td>Enig - det vil jeg arbejde aktivt for</td>\n",
       "      <td>Enig - det vil jeg arbejde aktivt for</td>\n",
       "      <td>Enig - det vil jeg arbejde aktivt for</td>\n",
       "      <td>Enig - det vil jeg arbejde aktivt for</td>\n",
       "      <td>rgb(16,114,60)</td>\n",
       "    </tr>\n",
       "    <tr>\n",
       "      <th>Kasper Krebs (Å.)</th>\n",
       "      <td>Fyns Storkreds</td>\n",
       "      <td>Å. Alternativet</td>\n",
       "      <td>Spiser fisk, men derudover kun vegetarisk, ald...</td>\n",
       "      <td>34</td>\n",
       "      <td>Enig - det vil jeg arbejde aktivt for</td>\n",
       "      <td>Enig - det vil jeg arbejde aktivt for</td>\n",
       "      <td>Enig - det vil jeg arbejde aktivt for</td>\n",
       "      <td>Enig - det vil jeg arbejde aktivt for</td>\n",
       "      <td>Enig - det vil jeg arbejde aktivt for</td>\n",
       "      <td>Enig - det vil jeg arbejde aktivt for</td>\n",
       "      <td>...</td>\n",
       "      <td>Enig - det vil jeg arbejde aktivt for</td>\n",
       "      <td>Enig - det vil jeg arbejde aktivt for</td>\n",
       "      <td>Enig - det vil jeg arbejde aktivt for</td>\n",
       "      <td>Enig - det vil jeg arbejde aktivt for</td>\n",
       "      <td>Enig - det vil jeg arbejde aktivt for</td>\n",
       "      <td>Enig - det vil jeg arbejde aktivt for</td>\n",
       "      <td>Enig - det vil jeg arbejde aktivt for</td>\n",
       "      <td>Enig - det vil jeg arbejde aktivt for</td>\n",
       "      <td>Enig - det vil jeg arbejde aktivt for</td>\n",
       "      <td>blue</td>\n",
       "    </tr>\n",
       "    <tr>\n",
       "      <th>Simon Nyborg Jensen (Å.)</th>\n",
       "      <td>Fyns Storkreds</td>\n",
       "      <td>Å. Alternativet</td>\n",
       "      <td>Spiser kun vegansk</td>\n",
       "      <td>34</td>\n",
       "      <td>Enig - det vil jeg arbejde aktivt for</td>\n",
       "      <td>Enig - det vil jeg arbejde aktivt for</td>\n",
       "      <td>Enig - det vil jeg arbejde aktivt for</td>\n",
       "      <td>Enig - det vil jeg arbejde aktivt for</td>\n",
       "      <td>Enig - det vil jeg arbejde aktivt for</td>\n",
       "      <td>Enig - det vil jeg arbejde aktivt for</td>\n",
       "      <td>...</td>\n",
       "      <td>Enig - det vil jeg arbejde aktivt for</td>\n",
       "      <td>Enig - det vil jeg arbejde aktivt for</td>\n",
       "      <td>Enig - det vil jeg arbejde aktivt for</td>\n",
       "      <td>Enig - det vil jeg arbejde aktivt for</td>\n",
       "      <td>Enig - det vil jeg arbejde aktivt for</td>\n",
       "      <td>Enig - det vil jeg arbejde aktivt for</td>\n",
       "      <td>Enig - det vil jeg arbejde aktivt for</td>\n",
       "      <td>Enig - det vil jeg arbejde aktivt for</td>\n",
       "      <td>Enig - det vil jeg arbejde aktivt for</td>\n",
       "      <td>rgb(16,114,60)</td>\n",
       "    </tr>\n",
       "    <tr>\n",
       "      <th>Anna Astrid Høy-Nielsen (Å.)</th>\n",
       "      <td>Fyns Storkreds</td>\n",
       "      <td>Å. Alternativet</td>\n",
       "      <td>Spiser kun vegansk</td>\n",
       "      <td>34</td>\n",
       "      <td>Enig - det vil jeg arbejde aktivt for</td>\n",
       "      <td>Enig - det vil jeg arbejde aktivt for</td>\n",
       "      <td>Enig - det vil jeg arbejde aktivt for</td>\n",
       "      <td>Enig - det vil jeg arbejde aktivt for</td>\n",
       "      <td>Enig - det vil jeg arbejde aktivt for</td>\n",
       "      <td>Enig - det vil jeg arbejde aktivt for</td>\n",
       "      <td>...</td>\n",
       "      <td>Enig - det vil jeg arbejde aktivt for</td>\n",
       "      <td>Enig - det vil jeg arbejde aktivt for</td>\n",
       "      <td>Enig - det vil jeg arbejde aktivt for</td>\n",
       "      <td>Enig - det vil jeg arbejde aktivt for</td>\n",
       "      <td>Enig - det vil jeg arbejde aktivt for</td>\n",
       "      <td>Enig - det vil jeg arbejde aktivt for</td>\n",
       "      <td>Enig - det vil jeg arbejde aktivt for</td>\n",
       "      <td>Enig - det vil jeg arbejde aktivt for</td>\n",
       "      <td>Enig - det vil jeg arbejde aktivt for</td>\n",
       "      <td>rgb(16,114,60)</td>\n",
       "    </tr>\n",
       "  </tbody>\n",
       "</table>\n",
       "<p>27 rows × 27 columns</p>\n",
       "</div>"
      ],
      "text/plain": [
       "                                       Storkreds                       Parti  \\\n",
       "Navn                                                                           \n",
       "Malte Jäger (D.)                  Fyns Storkreds           D. Nye Borgerlige   \n",
       "Nikolaj Leed Henriksen (V.)       Fyns Storkreds                  V. Venstre   \n",
       "Melanie Jørgensen (D.)            Fyns Storkreds           D. Nye Borgerlige   \n",
       "Jonas René Jensen (D.)            Fyns Storkreds           D. Nye Borgerlige   \n",
       "Kenneth Bjerg Andersen (M.)       Fyns Storkreds              M. Moderaterne   \n",
       "Rebecha Foged (D.)                Fyns Storkreds           D. Nye Borgerlige   \n",
       "Henrik Tørnqvist Lauridsen  (D.)  Fyns Storkreds           D. Nye Borgerlige   \n",
       "Reza Javid (Ø.)                   Fyns Storkreds             Ø. Enhedslisten   \n",
       "Katrine Wulff (F.)                Fyns Storkreds  F. Socialistisk Folkeparti   \n",
       "Nynne Printz (F.)                 Fyns Storkreds  F. Socialistisk Folkeparti   \n",
       "Gert Dyrn (K.)                    Fyns Storkreds      K. Kristendemokraterne   \n",
       "Jonas Hulgaard Ammundsen (F.)     Fyns Storkreds  F. Socialistisk Folkeparti   \n",
       "Mads Madsen Henriksen (A.)        Fyns Storkreds        A. Socialdemokratiet   \n",
       "Jan Werner Mathiasen (B.)         Fyns Storkreds     B. Det Radikale Venstre   \n",
       "Bodil Marie Helbo (Å.)            Fyns Storkreds             Å. Alternativet   \n",
       "Niels Bjarne Lund (Ø.)            Fyns Storkreds             Ø. Enhedslisten   \n",
       "Henrik Boye (Å.)                  Fyns Storkreds             Å. Alternativet   \n",
       "Victoria Bøgh Salo (Ø.)           Fyns Storkreds             Ø. Enhedslisten   \n",
       "Vibeke Syppli Enrum (Ø.)          Fyns Storkreds             Ø. Enhedslisten   \n",
       "Mette Rahbek (Å.)                 Fyns Storkreds             Å. Alternativet   \n",
       "Nishan Ganesh (Q.)                Fyns Storkreds              Q. Frie Grønne   \n",
       "Ole Dupont Kofod (Å.)             Fyns Storkreds             Å. Alternativet   \n",
       "Martin Kjærulff (Å.)              Fyns Storkreds             Å. Alternativet   \n",
       "Linda Frølund Hansen (Å.)         Fyns Storkreds             Å. Alternativet   \n",
       "Kasper Krebs (Å.)                 Fyns Storkreds             Å. Alternativet   \n",
       "Simon Nyborg Jensen (Å.)          Fyns Storkreds             Å. Alternativet   \n",
       "Anna Astrid Høy-Nielsen (Å.)      Fyns Storkreds             Å. Alternativet   \n",
       "\n",
       "                                                                               Kost  \\\n",
       "Navn                                                                                  \n",
       "Malte Jäger (D.)                  Spiser ofte kød, kødpålæg, fjerkræ og/eller fi...   \n",
       "Nikolaj Leed Henriksen (V.)                      Ved ikke / har ikke taget stilling   \n",
       "Melanie Jørgensen (D.)            Spiser ofte kød, kødpålæg, fjerkræ og/eller fi...   \n",
       "Jonas René Jensen (D.)                           Ved ikke / har ikke taget stilling   \n",
       "Kenneth Bjerg Andersen (M.)                      Ved ikke / har ikke taget stilling   \n",
       "Rebecha Foged (D.)                Spiser ofte kød, kødpålæg, fjerkræ og/eller fi...   \n",
       "Henrik Tørnqvist Lauridsen  (D.)  Spiser ofte kød, kødpålæg, fjerkræ og/eller fi...   \n",
       "Reza Javid (Ø.)                                  Ved ikke / har ikke taget stilling   \n",
       "Katrine Wulff (F.)                               Ved ikke / har ikke taget stilling   \n",
       "Nynne Printz (F.)                 Spiser vegetarisk mindst halvdelen af ugens da...   \n",
       "Gert Dyrn (K.)                    Spiser ofte kød, kødpålæg, fjerkræ og/eller fi...   \n",
       "Jonas Hulgaard Ammundsen (F.)     Spiser ofte kød, kødpålæg, fjerkræ og/eller fi...   \n",
       "Mads Madsen Henriksen (A.)        Spiser ofte kød, kødpålæg, fjerkræ og/eller fi...   \n",
       "Jan Werner Mathiasen (B.)         Spiser ofte kød, kødpålæg, fjerkræ og/eller fi...   \n",
       "Bodil Marie Helbo (Å.)            Spiser fisk, men derudover kun vegetarisk, ald...   \n",
       "Niels Bjarne Lund (Ø.)            Spiser ofte kød, kødpålæg, fjerkræ og/eller fi...   \n",
       "Henrik Boye (Å.)                  Spiser vegetarisk mindst halvdelen af ugens da...   \n",
       "Victoria Bøgh Salo (Ø.)           Spiser kun vegetarisk, sjældent mælkeprodukter...   \n",
       "Vibeke Syppli Enrum (Ø.)          Spiser fisk, men derudover kun vegetarisk, ald...   \n",
       "Mette Rahbek (Å.)                 Spiser ofte kød, kødpålæg, fjerkræ og/eller fi...   \n",
       "Nishan Ganesh (Q.)                Spiser vegetarisk mindst halvdelen af ugens da...   \n",
       "Ole Dupont Kofod (Å.)             Spiser ofte kød, kødpålæg, fjerkræ og/eller fi...   \n",
       "Martin Kjærulff (Å.)              Spiser vegetarisk mindst halvdelen af ugens da...   \n",
       "Linda Frølund Hansen (Å.)                                        Spiser kun vegansk   \n",
       "Kasper Krebs (Å.)                 Spiser fisk, men derudover kun vegetarisk, ald...   \n",
       "Simon Nyborg Jensen (Å.)                                         Spiser kun vegansk   \n",
       "Anna Astrid Høy-Nielsen (Å.)                                     Spiser kun vegansk   \n",
       "\n",
       "                                  Score  \\\n",
       "Navn                                      \n",
       "Malte Jäger (D.)                      0   \n",
       "Nikolaj Leed Henriksen (V.)           0   \n",
       "Melanie Jørgensen (D.)                1   \n",
       "Jonas René Jensen (D.)                1   \n",
       "Kenneth Bjerg Andersen (M.)           2   \n",
       "Rebecha Foged (D.)                    6   \n",
       "Henrik Tørnqvist Lauridsen  (D.)      6   \n",
       "Reza Javid (Ø.)                       7   \n",
       "Katrine Wulff (F.)                   11   \n",
       "Nynne Printz (F.)                    12   \n",
       "Gert Dyrn (K.)                       16   \n",
       "Jonas Hulgaard Ammundsen (F.)        22   \n",
       "Mads Madsen Henriksen (A.)           25   \n",
       "Jan Werner Mathiasen (B.)            26   \n",
       "Bodil Marie Helbo (Å.)               26   \n",
       "Niels Bjarne Lund (Ø.)               27   \n",
       "Henrik Boye (Å.)                     28   \n",
       "Victoria Bøgh Salo (Ø.)              30   \n",
       "Vibeke Syppli Enrum (Ø.)             30   \n",
       "Mette Rahbek (Å.)                    32   \n",
       "Nishan Ganesh (Q.)                   33   \n",
       "Ole Dupont Kofod (Å.)                33   \n",
       "Martin Kjærulff (Å.)                 34   \n",
       "Linda Frølund Hansen (Å.)            34   \n",
       "Kasper Krebs (Å.)                    34   \n",
       "Simon Nyborg Jensen (Å.)             34   \n",
       "Anna Astrid Høy-Nielsen (Å.)         34   \n",
       "\n",
       "                                 Folketinget skal vedtage, at det altid skal være muligt, som en valgmulighed, at få et plantebaseret måltid i de offentlige køkkener -  daginstitutioner  \\\n",
       "Navn                                                                                                                                                                                        \n",
       "Malte Jäger (D.)                                    Uenig - det vil jeg ikke støtte                                                                                                         \n",
       "Nikolaj Leed Henriksen (V.)                      Ved ikke / har ikke taget stilling                                                                                                         \n",
       "Melanie Jørgensen (D.)                              Uenig - det vil jeg ikke støtte                                                                                                         \n",
       "Jonas René Jensen (D.)                              Uenig - det vil jeg ikke støtte                                                                                                         \n",
       "Kenneth Bjerg Andersen (M.)                         Uenig - det vil jeg ikke støtte                                                                                                         \n",
       "Rebecha Foged (D.)                Enig - det vil jeg støtte, men jeg vil ikke se...                                                                                                         \n",
       "Henrik Tørnqvist Lauridsen  (D.)                    Uenig - det vil jeg ikke støtte                                                                                                         \n",
       "Reza Javid (Ø.)                                  Ved ikke / har ikke taget stilling                                                                                                         \n",
       "Katrine Wulff (F.)                Enig - det vil jeg støtte, men jeg vil ikke se...                                                                                                         \n",
       "Nynne Printz (F.)                                Ved ikke / har ikke taget stilling                                                                                                         \n",
       "Gert Dyrn (K.)                    Enig - det vil jeg støtte, men jeg vil ikke se...                                                                                                         \n",
       "Jonas Hulgaard Ammundsen (F.)     Enig - det vil jeg støtte, men jeg vil ikke se...                                                                                                         \n",
       "Mads Madsen Henriksen (A.)        Enig - det vil jeg støtte, men jeg vil ikke se...                                                                                                         \n",
       "Jan Werner Mathiasen (B.)         Enig - det vil jeg støtte, men jeg vil ikke se...                                                                                                         \n",
       "Bodil Marie Helbo (Å.)            Enig - det vil jeg støtte, men jeg vil ikke se...                                                                                                         \n",
       "Niels Bjarne Lund (Ø.)                        Enig - det vil jeg arbejde aktivt for                                                                                                         \n",
       "Henrik Boye (Å.)                  Enig - det vil jeg støtte, men jeg vil ikke se...                                                                                                         \n",
       "Victoria Bøgh Salo (Ø.)                       Enig - det vil jeg arbejde aktivt for                                                                                                         \n",
       "Vibeke Syppli Enrum (Ø.)                      Enig - det vil jeg arbejde aktivt for                                                                                                         \n",
       "Mette Rahbek (Å.)                             Enig - det vil jeg arbejde aktivt for                                                                                                         \n",
       "Nishan Ganesh (Q.)                            Enig - det vil jeg arbejde aktivt for                                                                                                         \n",
       "Ole Dupont Kofod (Å.)             Enig - det vil jeg støtte, men jeg vil ikke se...                                                                                                         \n",
       "Martin Kjærulff (Å.)                          Enig - det vil jeg arbejde aktivt for                                                                                                         \n",
       "Linda Frølund Hansen (Å.)                     Enig - det vil jeg arbejde aktivt for                                                                                                         \n",
       "Kasper Krebs (Å.)                             Enig - det vil jeg arbejde aktivt for                                                                                                         \n",
       "Simon Nyborg Jensen (Å.)                      Enig - det vil jeg arbejde aktivt for                                                                                                         \n",
       "Anna Astrid Høy-Nielsen (Å.)                  Enig - det vil jeg arbejde aktivt for                                                                                                         \n",
       "\n",
       "                                 Folketinget skal vedtage, at det altid skal være muligt, som en valgmulighed, at få et plantebaseret måltid i de offentlige køkkener - Uddannelsesinstitutioner (skoler, universiteter, o.l.)  \\\n",
       "Navn                                                                                                                                                                                                                             \n",
       "Malte Jäger (D.)                                    Uenig - det vil jeg ikke støtte                                                                                                                                              \n",
       "Nikolaj Leed Henriksen (V.)                      Ved ikke / har ikke taget stilling                                                                                                                                              \n",
       "Melanie Jørgensen (D.)                              Uenig - det vil jeg ikke støtte                                                                                                                                              \n",
       "Jonas René Jensen (D.)                              Uenig - det vil jeg ikke støtte                                                                                                                                              \n",
       "Kenneth Bjerg Andersen (M.)                         Uenig - det vil jeg ikke støtte                                                                                                                                              \n",
       "Rebecha Foged (D.)                Enig - det vil jeg støtte, men jeg vil ikke se...                                                                                                                                              \n",
       "Henrik Tørnqvist Lauridsen  (D.)                    Uenig - det vil jeg ikke støtte                                                                                                                                              \n",
       "Reza Javid (Ø.)                                  Ved ikke / har ikke taget stilling                                                                                                                                              \n",
       "Katrine Wulff (F.)                            Enig - det vil jeg arbejde aktivt for                                                                                                                                              \n",
       "Nynne Printz (F.)                                Ved ikke / har ikke taget stilling                                                                                                                                              \n",
       "Gert Dyrn (K.)                    Enig - det vil jeg støtte, men jeg vil ikke se...                                                                                                                                              \n",
       "Jonas Hulgaard Ammundsen (F.)                 Enig - det vil jeg arbejde aktivt for                                                                                                                                              \n",
       "Mads Madsen Henriksen (A.)        Enig - det vil jeg støtte, men jeg vil ikke se...                                                                                                                                              \n",
       "Jan Werner Mathiasen (B.)         Enig - det vil jeg støtte, men jeg vil ikke se...                                                                                                                                              \n",
       "Bodil Marie Helbo (Å.)            Enig - det vil jeg støtte, men jeg vil ikke se...                                                                                                                                              \n",
       "Niels Bjarne Lund (Ø.)                        Enig - det vil jeg arbejde aktivt for                                                                                                                                              \n",
       "Henrik Boye (Å.)                  Enig - det vil jeg støtte, men jeg vil ikke se...                                                                                                                                              \n",
       "Victoria Bøgh Salo (Ø.)                       Enig - det vil jeg arbejde aktivt for                                                                                                                                              \n",
       "Vibeke Syppli Enrum (Ø.)                      Enig - det vil jeg arbejde aktivt for                                                                                                                                              \n",
       "Mette Rahbek (Å.)                             Enig - det vil jeg arbejde aktivt for                                                                                                                                              \n",
       "Nishan Ganesh (Q.)                            Enig - det vil jeg arbejde aktivt for                                                                                                                                              \n",
       "Ole Dupont Kofod (Å.)                         Enig - det vil jeg arbejde aktivt for                                                                                                                                              \n",
       "Martin Kjærulff (Å.)                          Enig - det vil jeg arbejde aktivt for                                                                                                                                              \n",
       "Linda Frølund Hansen (Å.)                     Enig - det vil jeg arbejde aktivt for                                                                                                                                              \n",
       "Kasper Krebs (Å.)                             Enig - det vil jeg arbejde aktivt for                                                                                                                                              \n",
       "Simon Nyborg Jensen (Å.)                      Enig - det vil jeg arbejde aktivt for                                                                                                                                              \n",
       "Anna Astrid Høy-Nielsen (Å.)                  Enig - det vil jeg arbejde aktivt for                                                                                                                                              \n",
       "\n",
       "                                 Folketinget skal vedtage, at det altid skal være muligt, som en valgmulighed, at få et plantebaseret måltid i de offentlige køkkener - Hospitaler og sygehuse  \\\n",
       "Navn                                                                                                                                                                                             \n",
       "Malte Jäger (D.)                                    Uenig - det vil jeg ikke støtte                                                                                                              \n",
       "Nikolaj Leed Henriksen (V.)                      Ved ikke / har ikke taget stilling                                                                                                              \n",
       "Melanie Jørgensen (D.)                              Uenig - det vil jeg ikke støtte                                                                                                              \n",
       "Jonas René Jensen (D.)                              Uenig - det vil jeg ikke støtte                                                                                                              \n",
       "Kenneth Bjerg Andersen (M.)                         Uenig - det vil jeg ikke støtte                                                                                                              \n",
       "Rebecha Foged (D.)                Enig - det vil jeg støtte, men jeg vil ikke se...                                                                                                              \n",
       "Henrik Tørnqvist Lauridsen  (D.)                    Uenig - det vil jeg ikke støtte                                                                                                              \n",
       "Reza Javid (Ø.)                                  Ved ikke / har ikke taget stilling                                                                                                              \n",
       "Katrine Wulff (F.)                            Enig - det vil jeg arbejde aktivt for                                                                                                              \n",
       "Nynne Printz (F.)                                Ved ikke / har ikke taget stilling                                                                                                              \n",
       "Gert Dyrn (K.)                    Enig - det vil jeg støtte, men jeg vil ikke se...                                                                                                              \n",
       "Jonas Hulgaard Ammundsen (F.)                 Enig - det vil jeg arbejde aktivt for                                                                                                              \n",
       "Mads Madsen Henriksen (A.)        Enig - det vil jeg støtte, men jeg vil ikke se...                                                                                                              \n",
       "Jan Werner Mathiasen (B.)                     Enig - det vil jeg arbejde aktivt for                                                                                                              \n",
       "Bodil Marie Helbo (Å.)            Enig - det vil jeg støtte, men jeg vil ikke se...                                                                                                              \n",
       "Niels Bjarne Lund (Ø.)                        Enig - det vil jeg arbejde aktivt for                                                                                                              \n",
       "Henrik Boye (Å.)                  Enig - det vil jeg støtte, men jeg vil ikke se...                                                                                                              \n",
       "Victoria Bøgh Salo (Ø.)                       Enig - det vil jeg arbejde aktivt for                                                                                                              \n",
       "Vibeke Syppli Enrum (Ø.)                      Enig - det vil jeg arbejde aktivt for                                                                                                              \n",
       "Mette Rahbek (Å.)                             Enig - det vil jeg arbejde aktivt for                                                                                                              \n",
       "Nishan Ganesh (Q.)                            Enig - det vil jeg arbejde aktivt for                                                                                                              \n",
       "Ole Dupont Kofod (Å.)                         Enig - det vil jeg arbejde aktivt for                                                                                                              \n",
       "Martin Kjærulff (Å.)                          Enig - det vil jeg arbejde aktivt for                                                                                                              \n",
       "Linda Frølund Hansen (Å.)                     Enig - det vil jeg arbejde aktivt for                                                                                                              \n",
       "Kasper Krebs (Å.)                             Enig - det vil jeg arbejde aktivt for                                                                                                              \n",
       "Simon Nyborg Jensen (Å.)                      Enig - det vil jeg arbejde aktivt for                                                                                                              \n",
       "Anna Astrid Høy-Nielsen (Å.)                  Enig - det vil jeg arbejde aktivt for                                                                                                              \n",
       "\n",
       "                                 Folketinget skal vedtage, at det altid skal være muligt, som en valgmulighed, at få et plantebaseret måltid i de offentlige køkkener - Plejehjem, plejecentre og offentlig madudbringning til ældre  \\\n",
       "Navn                                                                                                                                                                                                                                   \n",
       "Malte Jäger (D.)                                    Uenig - det vil jeg ikke støtte                                                                                                                                                    \n",
       "Nikolaj Leed Henriksen (V.)                      Ved ikke / har ikke taget stilling                                                                                                                                                    \n",
       "Melanie Jørgensen (D.)                              Uenig - det vil jeg ikke støtte                                                                                                                                                    \n",
       "Jonas René Jensen (D.)                              Uenig - det vil jeg ikke støtte                                                                                                                                                    \n",
       "Kenneth Bjerg Andersen (M.)                         Uenig - det vil jeg ikke støtte                                                                                                                                                    \n",
       "Rebecha Foged (D.)                Enig - det vil jeg støtte, men jeg vil ikke se...                                                                                                                                                    \n",
       "Henrik Tørnqvist Lauridsen  (D.)                    Uenig - det vil jeg ikke støtte                                                                                                                                                    \n",
       "Reza Javid (Ø.)                                  Ved ikke / har ikke taget stilling                                                                                                                                                    \n",
       "Katrine Wulff (F.)                Enig - det vil jeg støtte, men jeg vil ikke se...                                                                                                                                                    \n",
       "Nynne Printz (F.)                                Ved ikke / har ikke taget stilling                                                                                                                                                    \n",
       "Gert Dyrn (K.)                    Enig - det vil jeg støtte, men jeg vil ikke se...                                                                                                                                                    \n",
       "Jonas Hulgaard Ammundsen (F.)     Enig - det vil jeg støtte, men jeg vil ikke se...                                                                                                                                                    \n",
       "Mads Madsen Henriksen (A.)        Enig - det vil jeg støtte, men jeg vil ikke se...                                                                                                                                                    \n",
       "Jan Werner Mathiasen (B.)                     Enig - det vil jeg arbejde aktivt for                                                                                                                                                    \n",
       "Bodil Marie Helbo (Å.)            Enig - det vil jeg støtte, men jeg vil ikke se...                                                                                                                                                    \n",
       "Niels Bjarne Lund (Ø.)                        Enig - det vil jeg arbejde aktivt for                                                                                                                                                    \n",
       "Henrik Boye (Å.)                  Enig - det vil jeg støtte, men jeg vil ikke se...                                                                                                                                                    \n",
       "Victoria Bøgh Salo (Ø.)                       Enig - det vil jeg arbejde aktivt for                                                                                                                                                    \n",
       "Vibeke Syppli Enrum (Ø.)                      Enig - det vil jeg arbejde aktivt for                                                                                                                                                    \n",
       "Mette Rahbek (Å.)                             Enig - det vil jeg arbejde aktivt for                                                                                                                                                    \n",
       "Nishan Ganesh (Q.)                            Enig - det vil jeg arbejde aktivt for                                                                                                                                                    \n",
       "Ole Dupont Kofod (Å.)                         Enig - det vil jeg arbejde aktivt for                                                                                                                                                    \n",
       "Martin Kjærulff (Å.)                          Enig - det vil jeg arbejde aktivt for                                                                                                                                                    \n",
       "Linda Frølund Hansen (Å.)                     Enig - det vil jeg arbejde aktivt for                                                                                                                                                    \n",
       "Kasper Krebs (Å.)                             Enig - det vil jeg arbejde aktivt for                                                                                                                                                    \n",
       "Simon Nyborg Jensen (Å.)                      Enig - det vil jeg arbejde aktivt for                                                                                                                                                    \n",
       "Anna Astrid Høy-Nielsen (Å.)                  Enig - det vil jeg arbejde aktivt for                                                                                                                                                    \n",
       "\n",
       "                                 Folketinget skal vedtage, at det altid skal være muligt, som en valgmulighed, at få et plantebaseret måltid i de offentlige køkkener - Offentlige arbejdspladser  \\\n",
       "Navn                                                                                                                                                                                                \n",
       "Malte Jäger (D.)                                    Uenig - det vil jeg ikke støtte                                                                                                                 \n",
       "Nikolaj Leed Henriksen (V.)                      Ved ikke / har ikke taget stilling                                                                                                                 \n",
       "Melanie Jørgensen (D.)                              Uenig - det vil jeg ikke støtte                                                                                                                 \n",
       "Jonas René Jensen (D.)                              Uenig - det vil jeg ikke støtte                                                                                                                 \n",
       "Kenneth Bjerg Andersen (M.)                         Uenig - det vil jeg ikke støtte                                                                                                                 \n",
       "Rebecha Foged (D.)                Enig - det vil jeg støtte, men jeg vil ikke se...                                                                                                                 \n",
       "Henrik Tørnqvist Lauridsen  (D.)                    Uenig - det vil jeg ikke støtte                                                                                                                 \n",
       "Reza Javid (Ø.)                                  Ved ikke / har ikke taget stilling                                                                                                                 \n",
       "Katrine Wulff (F.)                            Enig - det vil jeg arbejde aktivt for                                                                                                                 \n",
       "Nynne Printz (F.)                                Ved ikke / har ikke taget stilling                                                                                                                 \n",
       "Gert Dyrn (K.)                    Enig - det vil jeg støtte, men jeg vil ikke se...                                                                                                                 \n",
       "Jonas Hulgaard Ammundsen (F.)                 Enig - det vil jeg arbejde aktivt for                                                                                                                 \n",
       "Mads Madsen Henriksen (A.)        Enig - det vil jeg støtte, men jeg vil ikke se...                                                                                                                 \n",
       "Jan Werner Mathiasen (B.)         Enig - det vil jeg støtte, men jeg vil ikke se...                                                                                                                 \n",
       "Bodil Marie Helbo (Å.)            Enig - det vil jeg støtte, men jeg vil ikke se...                                                                                                                 \n",
       "Niels Bjarne Lund (Ø.)                        Enig - det vil jeg arbejde aktivt for                                                                                                                 \n",
       "Henrik Boye (Å.)                  Enig - det vil jeg støtte, men jeg vil ikke se...                                                                                                                 \n",
       "Victoria Bøgh Salo (Ø.)                       Enig - det vil jeg arbejde aktivt for                                                                                                                 \n",
       "Vibeke Syppli Enrum (Ø.)                      Enig - det vil jeg arbejde aktivt for                                                                                                                 \n",
       "Mette Rahbek (Å.)                             Enig - det vil jeg arbejde aktivt for                                                                                                                 \n",
       "Nishan Ganesh (Q.)                            Enig - det vil jeg arbejde aktivt for                                                                                                                 \n",
       "Ole Dupont Kofod (Å.)                         Enig - det vil jeg arbejde aktivt for                                                                                                                 \n",
       "Martin Kjærulff (Å.)                          Enig - det vil jeg arbejde aktivt for                                                                                                                 \n",
       "Linda Frølund Hansen (Å.)                     Enig - det vil jeg arbejde aktivt for                                                                                                                 \n",
       "Kasper Krebs (Å.)                             Enig - det vil jeg arbejde aktivt for                                                                                                                 \n",
       "Simon Nyborg Jensen (Å.)                      Enig - det vil jeg arbejde aktivt for                                                                                                                 \n",
       "Anna Astrid Høy-Nielsen (Å.)                  Enig - det vil jeg arbejde aktivt for                                                                                                                 \n",
       "\n",
       "                                 Folketinget skal vedtage, at det altid skal være muligt, som en valgmulighed, at få et plantebaseret måltid i de offentlige køkkener - ALLE offentlige køkkener (både de ovenfor nævnte og andre)  \\\n",
       "Navn                                                                                                                                                                                                                                 \n",
       "Malte Jäger (D.)                                    Uenig - det vil jeg ikke støtte                                                                                                                                                  \n",
       "Nikolaj Leed Henriksen (V.)                         Uenig - det vil jeg ikke støtte                                                                                                                                                  \n",
       "Melanie Jørgensen (D.)                              Uenig - det vil jeg ikke støtte                                                                                                                                                  \n",
       "Jonas René Jensen (D.)                              Uenig - det vil jeg ikke støtte                                                                                                                                                  \n",
       "Kenneth Bjerg Andersen (M.)                         Uenig - det vil jeg ikke støtte                                                                                                                                                  \n",
       "Rebecha Foged (D.)                Enig - det vil jeg støtte, men jeg vil ikke se...                                                                                                                                                  \n",
       "Henrik Tørnqvist Lauridsen  (D.)                    Uenig - det vil jeg ikke støtte                                                                                                                                                  \n",
       "Reza Javid (Ø.)                               Enig - det vil jeg arbejde aktivt for                                                                                                                                                  \n",
       "Katrine Wulff (F.)                Enig - det vil jeg støtte, men jeg vil ikke se...                                                                                                                                                  \n",
       "Nynne Printz (F.)                 Enig - det vil jeg støtte, men jeg vil ikke se...                                                                                                                                                  \n",
       "Gert Dyrn (K.)                    Enig - det vil jeg støtte, men jeg vil ikke se...                                                                                                                                                  \n",
       "Jonas Hulgaard Ammundsen (F.)                 Enig - det vil jeg arbejde aktivt for                                                                                                                                                  \n",
       "Mads Madsen Henriksen (A.)        Enig - det vil jeg støtte, men jeg vil ikke se...                                                                                                                                                  \n",
       "Jan Werner Mathiasen (B.)         Enig - det vil jeg støtte, men jeg vil ikke se...                                                                                                                                                  \n",
       "Bodil Marie Helbo (Å.)            Enig - det vil jeg støtte, men jeg vil ikke se...                                                                                                                                                  \n",
       "Niels Bjarne Lund (Ø.)                        Enig - det vil jeg arbejde aktivt for                                                                                                                                                  \n",
       "Henrik Boye (Å.)                  Enig - det vil jeg støtte, men jeg vil ikke se...                                                                                                                                                  \n",
       "Victoria Bøgh Salo (Ø.)                       Enig - det vil jeg arbejde aktivt for                                                                                                                                                  \n",
       "Vibeke Syppli Enrum (Ø.)                      Enig - det vil jeg arbejde aktivt for                                                                                                                                                  \n",
       "Mette Rahbek (Å.)                             Enig - det vil jeg arbejde aktivt for                                                                                                                                                  \n",
       "Nishan Ganesh (Q.)                            Enig - det vil jeg arbejde aktivt for                                                                                                                                                  \n",
       "Ole Dupont Kofod (Å.)                         Enig - det vil jeg arbejde aktivt for                                                                                                                                                  \n",
       "Martin Kjærulff (Å.)                          Enig - det vil jeg arbejde aktivt for                                                                                                                                                  \n",
       "Linda Frølund Hansen (Å.)                     Enig - det vil jeg arbejde aktivt for                                                                                                                                                  \n",
       "Kasper Krebs (Å.)                             Enig - det vil jeg arbejde aktivt for                                                                                                                                                  \n",
       "Simon Nyborg Jensen (Å.)                      Enig - det vil jeg arbejde aktivt for                                                                                                                                                  \n",
       "Anna Astrid Høy-Nielsen (Å.)                  Enig - det vil jeg arbejde aktivt for                                                                                                                                                  \n",
       "\n",
       "                                  ...  \\\n",
       "Navn                              ...   \n",
       "Malte Jäger (D.)                  ...   \n",
       "Nikolaj Leed Henriksen (V.)       ...   \n",
       "Melanie Jørgensen (D.)            ...   \n",
       "Jonas René Jensen (D.)            ...   \n",
       "Kenneth Bjerg Andersen (M.)       ...   \n",
       "Rebecha Foged (D.)                ...   \n",
       "Henrik Tørnqvist Lauridsen  (D.)  ...   \n",
       "Reza Javid (Ø.)                   ...   \n",
       "Katrine Wulff (F.)                ...   \n",
       "Nynne Printz (F.)                 ...   \n",
       "Gert Dyrn (K.)                    ...   \n",
       "Jonas Hulgaard Ammundsen (F.)     ...   \n",
       "Mads Madsen Henriksen (A.)        ...   \n",
       "Jan Werner Mathiasen (B.)         ...   \n",
       "Bodil Marie Helbo (Å.)            ...   \n",
       "Niels Bjarne Lund (Ø.)            ...   \n",
       "Henrik Boye (Å.)                  ...   \n",
       "Victoria Bøgh Salo (Ø.)           ...   \n",
       "Vibeke Syppli Enrum (Ø.)          ...   \n",
       "Mette Rahbek (Å.)                 ...   \n",
       "Nishan Ganesh (Q.)                ...   \n",
       "Ole Dupont Kofod (Å.)             ...   \n",
       "Martin Kjærulff (Å.)              ...   \n",
       "Linda Frølund Hansen (Å.)         ...   \n",
       "Kasper Krebs (Å.)                 ...   \n",
       "Simon Nyborg Jensen (Å.)          ...   \n",
       "Anna Astrid Høy-Nielsen (Å.)      ...   \n",
       "\n",
       "                                              Momsen på frugt og grønt skal sænkes.  \\\n",
       "Navn                                                                                  \n",
       "Malte Jäger (D.)                                    Uenig - det vil jeg ikke støtte   \n",
       "Nikolaj Leed Henriksen (V.)                      Ved ikke / har ikke taget stilling   \n",
       "Melanie Jørgensen (D.)            Enig - det vil jeg støtte, men jeg vil ikke se...   \n",
       "Jonas René Jensen (D.)                           Ved ikke / har ikke taget stilling   \n",
       "Kenneth Bjerg Andersen (M.)                      Ved ikke / har ikke taget stilling   \n",
       "Rebecha Foged (D.)                            Enig - det vil jeg arbejde aktivt for   \n",
       "Henrik Tørnqvist Lauridsen  (D.)              Enig - det vil jeg arbejde aktivt for   \n",
       "Reza Javid (Ø.)                                  Ved ikke / har ikke taget stilling   \n",
       "Katrine Wulff (F.)                               Ved ikke / har ikke taget stilling   \n",
       "Nynne Printz (F.)                                   Uenig - det vil jeg ikke støtte   \n",
       "Gert Dyrn (K.)                                Enig - det vil jeg arbejde aktivt for   \n",
       "Jonas Hulgaard Ammundsen (F.)                 Enig - det vil jeg arbejde aktivt for   \n",
       "Mads Madsen Henriksen (A.)                    Enig - det vil jeg arbejde aktivt for   \n",
       "Jan Werner Mathiasen (B.)                     Enig - det vil jeg arbejde aktivt for   \n",
       "Bodil Marie Helbo (Å.)                        Enig - det vil jeg arbejde aktivt for   \n",
       "Niels Bjarne Lund (Ø.)                        Enig - det vil jeg arbejde aktivt for   \n",
       "Henrik Boye (Å.)                              Enig - det vil jeg arbejde aktivt for   \n",
       "Victoria Bøgh Salo (Ø.)                          Ved ikke / har ikke taget stilling   \n",
       "Vibeke Syppli Enrum (Ø.)                      Enig - det vil jeg arbejde aktivt for   \n",
       "Mette Rahbek (Å.)                             Enig - det vil jeg arbejde aktivt for   \n",
       "Nishan Ganesh (Q.)                            Enig - det vil jeg arbejde aktivt for   \n",
       "Ole Dupont Kofod (Å.)                         Enig - det vil jeg arbejde aktivt for   \n",
       "Martin Kjærulff (Å.)                          Enig - det vil jeg arbejde aktivt for   \n",
       "Linda Frølund Hansen (Å.)                     Enig - det vil jeg arbejde aktivt for   \n",
       "Kasper Krebs (Å.)                             Enig - det vil jeg arbejde aktivt for   \n",
       "Simon Nyborg Jensen (Å.)                      Enig - det vil jeg arbejde aktivt for   \n",
       "Anna Astrid Høy-Nielsen (Å.)                  Enig - det vil jeg arbejde aktivt for   \n",
       "\n",
       "                                 Der skal være en klimaafgift på alle fødevarer, der afspejler deres drivhusgasudledning.  \\\n",
       "Navn                                                                                                                        \n",
       "Malte Jäger (D.)                                    Uenig - det vil jeg ikke støtte                                         \n",
       "Nikolaj Leed Henriksen (V.)                      Ved ikke / har ikke taget stilling                                         \n",
       "Melanie Jørgensen (D.)                              Uenig - det vil jeg ikke støtte                                         \n",
       "Jonas René Jensen (D.)                              Uenig - det vil jeg ikke støtte                                         \n",
       "Kenneth Bjerg Andersen (M.)                      Ved ikke / har ikke taget stilling                                         \n",
       "Rebecha Foged (D.)                                  Uenig - det vil jeg ikke støtte                                         \n",
       "Henrik Tørnqvist Lauridsen  (D.)                    Uenig - det vil jeg ikke støtte                                         \n",
       "Reza Javid (Ø.)                                  Ved ikke / har ikke taget stilling                                         \n",
       "Katrine Wulff (F.)                Enig - det vil jeg støtte, men jeg vil ikke se...                                         \n",
       "Nynne Printz (F.)                                   Uenig - det vil jeg ikke støtte                                         \n",
       "Gert Dyrn (K.)                                      Uenig - det vil jeg ikke støtte                                         \n",
       "Jonas Hulgaard Ammundsen (F.)                 Enig - det vil jeg arbejde aktivt for                                         \n",
       "Mads Madsen Henriksen (A.)        Enig - det vil jeg støtte, men jeg vil ikke se...                                         \n",
       "Jan Werner Mathiasen (B.)                     Enig - det vil jeg arbejde aktivt for                                         \n",
       "Bodil Marie Helbo (Å.)            Enig - det vil jeg støtte, men jeg vil ikke se...                                         \n",
       "Niels Bjarne Lund (Ø.)                        Enig - det vil jeg arbejde aktivt for                                         \n",
       "Henrik Boye (Å.)                              Enig - det vil jeg arbejde aktivt for                                         \n",
       "Victoria Bøgh Salo (Ø.)                       Enig - det vil jeg arbejde aktivt for                                         \n",
       "Vibeke Syppli Enrum (Ø.)                      Enig - det vil jeg arbejde aktivt for                                         \n",
       "Mette Rahbek (Å.)                             Enig - det vil jeg arbejde aktivt for                                         \n",
       "Nishan Ganesh (Q.)                            Enig - det vil jeg arbejde aktivt for                                         \n",
       "Ole Dupont Kofod (Å.)                         Enig - det vil jeg arbejde aktivt for                                         \n",
       "Martin Kjærulff (Å.)                          Enig - det vil jeg arbejde aktivt for                                         \n",
       "Linda Frølund Hansen (Å.)                     Enig - det vil jeg arbejde aktivt for                                         \n",
       "Kasper Krebs (Å.)                             Enig - det vil jeg arbejde aktivt for                                         \n",
       "Simon Nyborg Jensen (Å.)                      Enig - det vil jeg arbejde aktivt for                                         \n",
       "Anna Astrid Høy-Nielsen (Å.)                  Enig - det vil jeg arbejde aktivt for                                         \n",
       "\n",
       "                                 Der skal være en klimaafgift specifikt på alle animalske fødevarer  \\\n",
       "Navn                                                                                                  \n",
       "Malte Jäger (D.)                                    Uenig - det vil jeg ikke støtte                   \n",
       "Nikolaj Leed Henriksen (V.)                      Ved ikke / har ikke taget stilling                   \n",
       "Melanie Jørgensen (D.)                              Uenig - det vil jeg ikke støtte                   \n",
       "Jonas René Jensen (D.)                              Uenig - det vil jeg ikke støtte                   \n",
       "Kenneth Bjerg Andersen (M.)                      Ved ikke / har ikke taget stilling                   \n",
       "Rebecha Foged (D.)                                  Uenig - det vil jeg ikke støtte                   \n",
       "Henrik Tørnqvist Lauridsen  (D.)                    Uenig - det vil jeg ikke støtte                   \n",
       "Reza Javid (Ø.)                                  Ved ikke / har ikke taget stilling                   \n",
       "Katrine Wulff (F.)                               Ved ikke / har ikke taget stilling                   \n",
       "Nynne Printz (F.)                 Enig - det vil jeg støtte, men jeg vil ikke se...                   \n",
       "Gert Dyrn (K.)                                      Uenig - det vil jeg ikke støtte                   \n",
       "Jonas Hulgaard Ammundsen (F.)     Enig - det vil jeg støtte, men jeg vil ikke se...                   \n",
       "Mads Madsen Henriksen (A.)        Enig - det vil jeg støtte, men jeg vil ikke se...                   \n",
       "Jan Werner Mathiasen (B.)                     Enig - det vil jeg arbejde aktivt for                   \n",
       "Bodil Marie Helbo (Å.)                        Enig - det vil jeg arbejde aktivt for                   \n",
       "Niels Bjarne Lund (Ø.)            Enig - det vil jeg støtte, men jeg vil ikke se...                   \n",
       "Henrik Boye (Å.)                              Enig - det vil jeg arbejde aktivt for                   \n",
       "Victoria Bøgh Salo (Ø.)           Enig - det vil jeg støtte, men jeg vil ikke se...                   \n",
       "Vibeke Syppli Enrum (Ø.)                      Enig - det vil jeg arbejde aktivt for                   \n",
       "Mette Rahbek (Å.)                             Enig - det vil jeg arbejde aktivt for                   \n",
       "Nishan Ganesh (Q.)                            Enig - det vil jeg arbejde aktivt for                   \n",
       "Ole Dupont Kofod (Å.)                         Enig - det vil jeg arbejde aktivt for                   \n",
       "Martin Kjærulff (Å.)                          Enig - det vil jeg arbejde aktivt for                   \n",
       "Linda Frølund Hansen (Å.)                     Enig - det vil jeg arbejde aktivt for                   \n",
       "Kasper Krebs (Å.)                             Enig - det vil jeg arbejde aktivt for                   \n",
       "Simon Nyborg Jensen (Å.)                      Enig - det vil jeg arbejde aktivt for                   \n",
       "Anna Astrid Høy-Nielsen (Å.)                  Enig - det vil jeg arbejde aktivt for                   \n",
       "\n",
       "                                 Finansielle institutioner (banker, pensionskasser og investeringsrådgivere, långivere etc.) skal pålægges hvert år at afrapportere, hvordan deres porteføljer, produkter og långivning bidrager til grøn omstilling af landbruget, herunder især fra animalsk til plantebaseret produktion.  \\\n",
       "Navn                                                                                                                                                                                                                                                                                                                           \n",
       "Malte Jäger (D.)                                    Uenig - det vil jeg ikke støtte                                                                                                                                                                                                                                            \n",
       "Nikolaj Leed Henriksen (V.)                      Ved ikke / har ikke taget stilling                                                                                                                                                                                                                                            \n",
       "Melanie Jørgensen (D.)                              Uenig - det vil jeg ikke støtte                                                                                                                                                                                                                                            \n",
       "Jonas René Jensen (D.)                              Uenig - det vil jeg ikke støtte                                                                                                                                                                                                                                            \n",
       "Kenneth Bjerg Andersen (M.)                      Ved ikke / har ikke taget stilling                                                                                                                                                                                                                                            \n",
       "Rebecha Foged (D.)                               Ved ikke / har ikke taget stilling                                                                                                                                                                                                                                            \n",
       "Henrik Tørnqvist Lauridsen  (D.)                    Uenig - det vil jeg ikke støtte                                                                                                                                                                                                                                            \n",
       "Reza Javid (Ø.)                                  Ved ikke / har ikke taget stilling                                                                                                                                                                                                                                            \n",
       "Katrine Wulff (F.)                               Ved ikke / har ikke taget stilling                                                                                                                                                                                                                                            \n",
       "Nynne Printz (F.)                 Enig - det vil jeg støtte, men jeg vil ikke se...                                                                                                                                                                                                                                            \n",
       "Gert Dyrn (K.)                                      Uenig - det vil jeg ikke støtte                                                                                                                                                                                                                                            \n",
       "Jonas Hulgaard Ammundsen (F.)     Enig - det vil jeg støtte, men jeg vil ikke se...                                                                                                                                                                                                                                            \n",
       "Mads Madsen Henriksen (A.)        Enig - det vil jeg støtte, men jeg vil ikke se...                                                                                                                                                                                                                                            \n",
       "Jan Werner Mathiasen (B.)                           Uenig - det vil jeg ikke støtte                                                                                                                                                                                                                                            \n",
       "Bodil Marie Helbo (Å.)                        Enig - det vil jeg arbejde aktivt for                                                                                                                                                                                                                                            \n",
       "Niels Bjarne Lund (Ø.)            Enig - det vil jeg støtte, men jeg vil ikke se...                                                                                                                                                                                                                                            \n",
       "Henrik Boye (Å.)                              Enig - det vil jeg arbejde aktivt for                                                                                                                                                                                                                                            \n",
       "Victoria Bøgh Salo (Ø.)                       Enig - det vil jeg arbejde aktivt for                                                                                                                                                                                                                                            \n",
       "Vibeke Syppli Enrum (Ø.)                      Enig - det vil jeg arbejde aktivt for                                                                                                                                                                                                                                            \n",
       "Mette Rahbek (Å.)                             Enig - det vil jeg arbejde aktivt for                                                                                                                                                                                                                                            \n",
       "Nishan Ganesh (Q.)                            Enig - det vil jeg arbejde aktivt for                                                                                                                                                                                                                                            \n",
       "Ole Dupont Kofod (Å.)                         Enig - det vil jeg arbejde aktivt for                                                                                                                                                                                                                                            \n",
       "Martin Kjærulff (Å.)                          Enig - det vil jeg arbejde aktivt for                                                                                                                                                                                                                                            \n",
       "Linda Frølund Hansen (Å.)                     Enig - det vil jeg arbejde aktivt for                                                                                                                                                                                                                                            \n",
       "Kasper Krebs (Å.)                             Enig - det vil jeg arbejde aktivt for                                                                                                                                                                                                                                            \n",
       "Simon Nyborg Jensen (Å.)                      Enig - det vil jeg arbejde aktivt for                                                                                                                                                                                                                                            \n",
       "Anna Astrid Høy-Nielsen (Å.)                  Enig - det vil jeg arbejde aktivt for                                                                                                                                                                                                                                            \n",
       "\n",
       "                                 Fonden for Plantebaserede Fødevarer skal have mindst 200 mio. kr. ekstra årligt udover de eksisterende 85 mio. kr. årligt, så niveauet i højere grad svarer til omfanget af den nødvendige omstilling.  \\\n",
       "Navn                                                                                                                                                                                                                                      \n",
       "Malte Jäger (D.)                                    Uenig - det vil jeg ikke støtte                                                                                                                                                       \n",
       "Nikolaj Leed Henriksen (V.)                      Ved ikke / har ikke taget stilling                                                                                                                                                       \n",
       "Melanie Jørgensen (D.)                              Uenig - det vil jeg ikke støtte                                                                                                                                                       \n",
       "Jonas René Jensen (D.)                              Uenig - det vil jeg ikke støtte                                                                                                                                                       \n",
       "Kenneth Bjerg Andersen (M.)                      Ved ikke / har ikke taget stilling                                                                                                                                                       \n",
       "Rebecha Foged (D.)                                  Uenig - det vil jeg ikke støtte                                                                                                                                                       \n",
       "Henrik Tørnqvist Lauridsen  (D.)                    Uenig - det vil jeg ikke støtte                                                                                                                                                       \n",
       "Reza Javid (Ø.)                                  Ved ikke / har ikke taget stilling                                                                                                                                                       \n",
       "Katrine Wulff (F.)                               Ved ikke / har ikke taget stilling                                                                                                                                                       \n",
       "Nynne Printz (F.)                                Ved ikke / har ikke taget stilling                                                                                                                                                       \n",
       "Gert Dyrn (K.)                                Enig - det vil jeg arbejde aktivt for                                                                                                                                                       \n",
       "Jonas Hulgaard Ammundsen (F.)                       Uenig - det vil jeg ikke støtte                                                                                                                                                       \n",
       "Mads Madsen Henriksen (A.)                    Enig - det vil jeg arbejde aktivt for                                                                                                                                                       \n",
       "Jan Werner Mathiasen (B.)                     Enig - det vil jeg arbejde aktivt for                                                                                                                                                       \n",
       "Bodil Marie Helbo (Å.)                           Ved ikke / har ikke taget stilling                                                                                                                                                       \n",
       "Niels Bjarne Lund (Ø.)            Enig - det vil jeg støtte, men jeg vil ikke se...                                                                                                                                                       \n",
       "Henrik Boye (Å.)                  Enig - det vil jeg støtte, men jeg vil ikke se...                                                                                                                                                       \n",
       "Victoria Bøgh Salo (Ø.)                       Enig - det vil jeg arbejde aktivt for                                                                                                                                                       \n",
       "Vibeke Syppli Enrum (Ø.)                      Enig - det vil jeg arbejde aktivt for                                                                                                                                                       \n",
       "Mette Rahbek (Å.)                 Enig - det vil jeg støtte, men jeg vil ikke se...                                                                                                                                                       \n",
       "Nishan Ganesh (Q.)                            Enig - det vil jeg arbejde aktivt for                                                                                                                                                       \n",
       "Ole Dupont Kofod (Å.)                         Enig - det vil jeg arbejde aktivt for                                                                                                                                                       \n",
       "Martin Kjærulff (Å.)                          Enig - det vil jeg arbejde aktivt for                                                                                                                                                       \n",
       "Linda Frølund Hansen (Å.)                     Enig - det vil jeg arbejde aktivt for                                                                                                                                                       \n",
       "Kasper Krebs (Å.)                             Enig - det vil jeg arbejde aktivt for                                                                                                                                                       \n",
       "Simon Nyborg Jensen (Å.)                      Enig - det vil jeg arbejde aktivt for                                                                                                                                                       \n",
       "Anna Astrid Høy-Nielsen (Å.)                  Enig - det vil jeg arbejde aktivt for                                                                                                                                                       \n",
       "\n",
       "                                 Forskningsmidler indenfor fødevarer skal omlægges til i højere grad at fokusere på klimavenlige, plantebaserede fødevarer frem for animalske.  \\\n",
       "Navn                                                                                                                                                                             \n",
       "Malte Jäger (D.)                                    Uenig - det vil jeg ikke støtte                                                                                              \n",
       "Nikolaj Leed Henriksen (V.)                      Ved ikke / har ikke taget stilling                                                                                              \n",
       "Melanie Jørgensen (D.)                              Uenig - det vil jeg ikke støtte                                                                                              \n",
       "Jonas René Jensen (D.)                              Uenig - det vil jeg ikke støtte                                                                                              \n",
       "Kenneth Bjerg Andersen (M.)                      Ved ikke / har ikke taget stilling                                                                                              \n",
       "Rebecha Foged (D.)                                  Uenig - det vil jeg ikke støtte                                                                                              \n",
       "Henrik Tørnqvist Lauridsen  (D.)                    Uenig - det vil jeg ikke støtte                                                                                              \n",
       "Reza Javid (Ø.)                                  Ved ikke / har ikke taget stilling                                                                                              \n",
       "Katrine Wulff (F.)                               Ved ikke / har ikke taget stilling                                                                                              \n",
       "Nynne Printz (F.)                 Enig - det vil jeg støtte, men jeg vil ikke se...                                                                                              \n",
       "Gert Dyrn (K.)                                      Uenig - det vil jeg ikke støtte                                                                                              \n",
       "Jonas Hulgaard Ammundsen (F.)     Enig - det vil jeg støtte, men jeg vil ikke se...                                                                                              \n",
       "Mads Madsen Henriksen (A.)                    Enig - det vil jeg arbejde aktivt for                                                                                              \n",
       "Jan Werner Mathiasen (B.)                     Enig - det vil jeg arbejde aktivt for                                                                                              \n",
       "Bodil Marie Helbo (Å.)                        Enig - det vil jeg arbejde aktivt for                                                                                              \n",
       "Niels Bjarne Lund (Ø.)                        Enig - det vil jeg arbejde aktivt for                                                                                              \n",
       "Henrik Boye (Å.)                  Enig - det vil jeg støtte, men jeg vil ikke se...                                                                                              \n",
       "Victoria Bøgh Salo (Ø.)                       Enig - det vil jeg arbejde aktivt for                                                                                              \n",
       "Vibeke Syppli Enrum (Ø.)                      Enig - det vil jeg arbejde aktivt for                                                                                              \n",
       "Mette Rahbek (Å.)                             Enig - det vil jeg arbejde aktivt for                                                                                              \n",
       "Nishan Ganesh (Q.)                            Enig - det vil jeg arbejde aktivt for                                                                                              \n",
       "Ole Dupont Kofod (Å.)                         Enig - det vil jeg arbejde aktivt for                                                                                              \n",
       "Martin Kjærulff (Å.)                          Enig - det vil jeg arbejde aktivt for                                                                                              \n",
       "Linda Frølund Hansen (Å.)                     Enig - det vil jeg arbejde aktivt for                                                                                              \n",
       "Kasper Krebs (Å.)                             Enig - det vil jeg arbejde aktivt for                                                                                              \n",
       "Simon Nyborg Jensen (Å.)                      Enig - det vil jeg arbejde aktivt for                                                                                              \n",
       "Anna Astrid Høy-Nielsen (Å.)                  Enig - det vil jeg arbejde aktivt for                                                                                              \n",
       "\n",
       "                                 Den danske animalske landbrugsproduktion står for en stor andel af den samlede danske drivhusgasudledning. Derfor skal antallet af landbrugsdyr (svin, kyllinger, køer, osv.) mindskes til halvdelen af det nuværende antal i 2030.  \\\n",
       "Navn                                                                                                                                                                                                                                                                   \n",
       "Malte Jäger (D.)                                    Uenig - det vil jeg ikke støtte                                                                                                                                                                                    \n",
       "Nikolaj Leed Henriksen (V.)                      Ved ikke / har ikke taget stilling                                                                                                                                                                                    \n",
       "Melanie Jørgensen (D.)                              Uenig - det vil jeg ikke støtte                                                                                                                                                                                    \n",
       "Jonas René Jensen (D.)                              Uenig - det vil jeg ikke støtte                                                                                                                                                                                    \n",
       "Kenneth Bjerg Andersen (M.)                      Ved ikke / har ikke taget stilling                                                                                                                                                                                    \n",
       "Rebecha Foged (D.)                                  Uenig - det vil jeg ikke støtte                                                                                                                                                                                    \n",
       "Henrik Tørnqvist Lauridsen  (D.)                    Uenig - det vil jeg ikke støtte                                                                                                                                                                                    \n",
       "Reza Javid (Ø.)                                  Ved ikke / har ikke taget stilling                                                                                                                                                                                    \n",
       "Katrine Wulff (F.)                               Ved ikke / har ikke taget stilling                                                                                                                                                                                    \n",
       "Nynne Printz (F.)                 Enig - det vil jeg støtte, men jeg vil ikke se...                                                                                                                                                                                    \n",
       "Gert Dyrn (K.)                                      Uenig - det vil jeg ikke støtte                                                                                                                                                                                    \n",
       "Jonas Hulgaard Ammundsen (F.)     Enig - det vil jeg støtte, men jeg vil ikke se...                                                                                                                                                                                    \n",
       "Mads Madsen Henriksen (A.)        Enig - det vil jeg støtte, men jeg vil ikke se...                                                                                                                                                                                    \n",
       "Jan Werner Mathiasen (B.)         Enig - det vil jeg støtte, men jeg vil ikke se...                                                                                                                                                                                    \n",
       "Bodil Marie Helbo (Å.)                        Enig - det vil jeg arbejde aktivt for                                                                                                                                                                                    \n",
       "Niels Bjarne Lund (Ø.)                        Enig - det vil jeg arbejde aktivt for                                                                                                                                                                                    \n",
       "Henrik Boye (Å.)                              Enig - det vil jeg arbejde aktivt for                                                                                                                                                                                    \n",
       "Victoria Bøgh Salo (Ø.)                       Enig - det vil jeg arbejde aktivt for                                                                                                                                                                                    \n",
       "Vibeke Syppli Enrum (Ø.)                      Enig - det vil jeg arbejde aktivt for                                                                                                                                                                                    \n",
       "Mette Rahbek (Å.)                             Enig - det vil jeg arbejde aktivt for                                                                                                                                                                                    \n",
       "Nishan Ganesh (Q.)                            Enig - det vil jeg arbejde aktivt for                                                                                                                                                                                    \n",
       "Ole Dupont Kofod (Å.)             Enig - det vil jeg støtte, men jeg vil ikke se...                                                                                                                                                                                    \n",
       "Martin Kjærulff (Å.)                          Enig - det vil jeg arbejde aktivt for                                                                                                                                                                                    \n",
       "Linda Frølund Hansen (Å.)                     Enig - det vil jeg arbejde aktivt for                                                                                                                                                                                    \n",
       "Kasper Krebs (Å.)                             Enig - det vil jeg arbejde aktivt for                                                                                                                                                                                    \n",
       "Simon Nyborg Jensen (Å.)                      Enig - det vil jeg arbejde aktivt for                                                                                                                                                                                    \n",
       "Anna Astrid Høy-Nielsen (Å.)                  Enig - det vil jeg arbejde aktivt for                                                                                                                                                                                    \n",
       "\n",
       "                                 Landmænd, der vil omlægge deres produktion til flere plantebaserede afgrøder til mennesker, skal kunne modtage gratis efteruddannelse.  \\\n",
       "Navn                                                                                                                                                                      \n",
       "Malte Jäger (D.)                                    Uenig - det vil jeg ikke støtte                                                                                       \n",
       "Nikolaj Leed Henriksen (V.)                      Ved ikke / har ikke taget stilling                                                                                       \n",
       "Melanie Jørgensen (D.)                              Uenig - det vil jeg ikke støtte                                                                                       \n",
       "Jonas René Jensen (D.)                           Ved ikke / har ikke taget stilling                                                                                       \n",
       "Kenneth Bjerg Andersen (M.)                      Ved ikke / har ikke taget stilling                                                                                       \n",
       "Rebecha Foged (D.)                               Ved ikke / har ikke taget stilling                                                                                       \n",
       "Henrik Tørnqvist Lauridsen  (D.)  Enig - det vil jeg støtte, men jeg vil ikke se...                                                                                       \n",
       "Reza Javid (Ø.)                                  Ved ikke / har ikke taget stilling                                                                                       \n",
       "Katrine Wulff (F.)                               Ved ikke / har ikke taget stilling                                                                                       \n",
       "Nynne Printz (F.)                 Enig - det vil jeg støtte, men jeg vil ikke se...                                                                                       \n",
       "Gert Dyrn (K.)                                Enig - det vil jeg arbejde aktivt for                                                                                       \n",
       "Jonas Hulgaard Ammundsen (F.)                 Enig - det vil jeg arbejde aktivt for                                                                                       \n",
       "Mads Madsen Henriksen (A.)                    Enig - det vil jeg arbejde aktivt for                                                                                       \n",
       "Jan Werner Mathiasen (B.)                     Enig - det vil jeg arbejde aktivt for                                                                                       \n",
       "Bodil Marie Helbo (Å.)                           Ved ikke / har ikke taget stilling                                                                                       \n",
       "Niels Bjarne Lund (Ø.)                        Enig - det vil jeg arbejde aktivt for                                                                                       \n",
       "Henrik Boye (Å.)                              Enig - det vil jeg arbejde aktivt for                                                                                       \n",
       "Victoria Bøgh Salo (Ø.)                       Enig - det vil jeg arbejde aktivt for                                                                                       \n",
       "Vibeke Syppli Enrum (Ø.)                      Enig - det vil jeg arbejde aktivt for                                                                                       \n",
       "Mette Rahbek (Å.)                             Enig - det vil jeg arbejde aktivt for                                                                                       \n",
       "Nishan Ganesh (Q.)                            Enig - det vil jeg arbejde aktivt for                                                                                       \n",
       "Ole Dupont Kofod (Å.)                         Enig - det vil jeg arbejde aktivt for                                                                                       \n",
       "Martin Kjærulff (Å.)                          Enig - det vil jeg arbejde aktivt for                                                                                       \n",
       "Linda Frølund Hansen (Å.)                     Enig - det vil jeg arbejde aktivt for                                                                                       \n",
       "Kasper Krebs (Å.)                             Enig - det vil jeg arbejde aktivt for                                                                                       \n",
       "Simon Nyborg Jensen (Å.)                      Enig - det vil jeg arbejde aktivt for                                                                                       \n",
       "Anna Astrid Høy-Nielsen (Å.)                  Enig - det vil jeg arbejde aktivt for                                                                                       \n",
       "\n",
       "                                 Støtteordninger til fødevareerhvervet skal omlægges til i højere grad at støtte klimavenlige, plantebaserede fødevarer frem for animalske.  \\\n",
       "Navn                                                                                                                                                                          \n",
       "Malte Jäger (D.)                                    Uenig - det vil jeg ikke støtte                                                                                           \n",
       "Nikolaj Leed Henriksen (V.)                      Ved ikke / har ikke taget stilling                                                                                           \n",
       "Melanie Jørgensen (D.)                              Uenig - det vil jeg ikke støtte                                                                                           \n",
       "Jonas René Jensen (D.)                              Uenig - det vil jeg ikke støtte                                                                                           \n",
       "Kenneth Bjerg Andersen (M.)                      Ved ikke / har ikke taget stilling                                                                                           \n",
       "Rebecha Foged (D.)                               Ved ikke / har ikke taget stilling                                                                                           \n",
       "Henrik Tørnqvist Lauridsen  (D.)                    Uenig - det vil jeg ikke støtte                                                                                           \n",
       "Reza Javid (Ø.)                                  Ved ikke / har ikke taget stilling                                                                                           \n",
       "Katrine Wulff (F.)                               Ved ikke / har ikke taget stilling                                                                                           \n",
       "Nynne Printz (F.)                 Enig - det vil jeg støtte, men jeg vil ikke se...                                                                                           \n",
       "Gert Dyrn (K.)                                      Uenig - det vil jeg ikke støtte                                                                                           \n",
       "Jonas Hulgaard Ammundsen (F.)     Enig - det vil jeg støtte, men jeg vil ikke se...                                                                                           \n",
       "Mads Madsen Henriksen (A.)                    Enig - det vil jeg arbejde aktivt for                                                                                           \n",
       "Jan Werner Mathiasen (B.)                     Enig - det vil jeg arbejde aktivt for                                                                                           \n",
       "Bodil Marie Helbo (Å.)                        Enig - det vil jeg arbejde aktivt for                                                                                           \n",
       "Niels Bjarne Lund (Ø.)                        Enig - det vil jeg arbejde aktivt for                                                                                           \n",
       "Henrik Boye (Å.)                              Enig - det vil jeg arbejde aktivt for                                                                                           \n",
       "Victoria Bøgh Salo (Ø.)                       Enig - det vil jeg arbejde aktivt for                                                                                           \n",
       "Vibeke Syppli Enrum (Ø.)                      Enig - det vil jeg arbejde aktivt for                                                                                           \n",
       "Mette Rahbek (Å.)                             Enig - det vil jeg arbejde aktivt for                                                                                           \n",
       "Nishan Ganesh (Q.)                            Enig - det vil jeg arbejde aktivt for                                                                                           \n",
       "Ole Dupont Kofod (Å.)                         Enig - det vil jeg arbejde aktivt for                                                                                           \n",
       "Martin Kjærulff (Å.)                          Enig - det vil jeg arbejde aktivt for                                                                                           \n",
       "Linda Frølund Hansen (Å.)                     Enig - det vil jeg arbejde aktivt for                                                                                           \n",
       "Kasper Krebs (Å.)                             Enig - det vil jeg arbejde aktivt for                                                                                           \n",
       "Simon Nyborg Jensen (Å.)                      Enig - det vil jeg arbejde aktivt for                                                                                           \n",
       "Anna Astrid Høy-Nielsen (Å.)                  Enig - det vil jeg arbejde aktivt for                                                                                           \n",
       "\n",
       "                                          Kost_color  \n",
       "Navn                                                  \n",
       "Malte Jäger (D.)                                 red  \n",
       "Nikolaj Leed Henriksen (V.)                     grey  \n",
       "Melanie Jørgensen (D.)                           red  \n",
       "Jonas René Jensen (D.)                          grey  \n",
       "Kenneth Bjerg Andersen (M.)                     grey  \n",
       "Rebecha Foged (D.)                               red  \n",
       "Henrik Tørnqvist Lauridsen  (D.)                 red  \n",
       "Reza Javid (Ø.)                                 grey  \n",
       "Katrine Wulff (F.)                              grey  \n",
       "Nynne Printz (F.)                          turquoise  \n",
       "Gert Dyrn (K.)                                   red  \n",
       "Jonas Hulgaard Ammundsen (F.)                    red  \n",
       "Mads Madsen Henriksen (A.)                       red  \n",
       "Jan Werner Mathiasen (B.)                        red  \n",
       "Bodil Marie Helbo (Å.)                          blue  \n",
       "Niels Bjarne Lund (Ø.)                           red  \n",
       "Henrik Boye (Å.)                           turquoise  \n",
       "Victoria Bøgh Salo (Ø.)           rgb(180, 240, 120)  \n",
       "Vibeke Syppli Enrum (Ø.)                        blue  \n",
       "Mette Rahbek (Å.)                                red  \n",
       "Nishan Ganesh (Q.)                         turquoise  \n",
       "Ole Dupont Kofod (Å.)                            red  \n",
       "Martin Kjærulff (Å.)                       turquoise  \n",
       "Linda Frølund Hansen (Å.)             rgb(16,114,60)  \n",
       "Kasper Krebs (Å.)                               blue  \n",
       "Simon Nyborg Jensen (Å.)              rgb(16,114,60)  \n",
       "Anna Astrid Høy-Nielsen (Å.)          rgb(16,114,60)  \n",
       "\n",
       "[27 rows x 27 columns]"
      ]
     },
     "execution_count": 46,
     "metadata": {},
     "output_type": "execute_result"
    }
   ],
   "source": [
    "df_temp = df_nameIndex[df_nameIndex[\"Storkreds\"]==value]\n",
    "df_temp = df_temp.sort_values(\"Score\")\n",
    "df_temp"
   ]
  },
  {
   "cell_type": "code",
   "execution_count": 47,
   "id": "859e4176",
   "metadata": {},
   "outputs": [
    {
     "data": {
      "text/plain": [
       "54"
      ]
     },
     "execution_count": 47,
     "metadata": {},
     "output_type": "execute_result"
    }
   ],
   "source": [
    "len(df_temp)*2"
   ]
  },
  {
   "cell_type": "code",
   "execution_count": null,
   "id": "56399fcd",
   "metadata": {},
   "outputs": [],
   "source": []
  },
  {
   "cell_type": "code",
   "execution_count": 48,
   "id": "264f6d7c",
   "metadata": {},
   "outputs": [
    {
     "data": {
      "application/vnd.plotly.v1+json": {
       "config": {
        "plotlyServerURL": "https://plot.ly"
       },
       "data": [
        {
         "hoverinfo": [
          "none",
          "x+y+text"
         ],
         "line": {
          "color": "rgb(140,190,84)"
         },
         "marker": {
          "color": "grey",
          "size": [
           0,
           12
          ]
         },
         "showlegend": false,
         "textfont": {
          "size": 14
         },
         "type": "scatter",
         "x": [
          0,
          0
         ],
         "y": [
          0,
          0
         ]
        },
        {
         "hoverinfo": [
          "none",
          "x+y+text"
         ],
         "line": {
          "color": "rgb(140,190,84)"
         },
         "marker": {
          "color": "red",
          "size": [
           0,
           12
          ]
         },
         "showlegend": false,
         "textfont": {
          "size": 14
         },
         "type": "scatter",
         "x": [
          0,
          0
         ],
         "y": [
          1,
          1
         ]
        },
        {
         "hoverinfo": [
          "none",
          "x+y+text"
         ],
         "line": {
          "color": "rgb(140,190,84)"
         },
         "marker": {
          "color": "red",
          "size": [
           0,
           12
          ]
         },
         "showlegend": false,
         "textfont": {
          "size": 14
         },
         "type": "scatter",
         "x": [
          0,
          1
         ],
         "y": [
          2,
          2
         ]
        },
        {
         "hoverinfo": [
          "none",
          "x+y+text"
         ],
         "line": {
          "color": "rgb(140,190,84)"
         },
         "marker": {
          "color": "grey",
          "size": [
           0,
           12
          ]
         },
         "showlegend": false,
         "textfont": {
          "size": 14
         },
         "type": "scatter",
         "x": [
          0,
          1
         ],
         "y": [
          3,
          3
         ]
        },
        {
         "hoverinfo": [
          "none",
          "x+y+text"
         ],
         "line": {
          "color": "rgb(140,190,84)"
         },
         "marker": {
          "color": "grey",
          "size": [
           0,
           12
          ]
         },
         "showlegend": false,
         "textfont": {
          "size": 14
         },
         "type": "scatter",
         "x": [
          0,
          2
         ],
         "y": [
          4,
          4
         ]
        },
        {
         "hoverinfo": [
          "none",
          "x+y+text"
         ],
         "line": {
          "color": "rgb(140,190,84)"
         },
         "marker": {
          "color": "red",
          "size": [
           0,
           12
          ]
         },
         "showlegend": false,
         "textfont": {
          "size": 14
         },
         "type": "scatter",
         "x": [
          0,
          6
         ],
         "y": [
          5,
          5
         ]
        },
        {
         "hoverinfo": [
          "none",
          "x+y+text"
         ],
         "line": {
          "color": "rgb(140,190,84)"
         },
         "marker": {
          "color": "red",
          "size": [
           0,
           12
          ]
         },
         "showlegend": false,
         "textfont": {
          "size": 14
         },
         "type": "scatter",
         "x": [
          0,
          6
         ],
         "y": [
          6,
          6
         ]
        },
        {
         "hoverinfo": [
          "none",
          "x+y+text"
         ],
         "line": {
          "color": "rgb(140,190,84)"
         },
         "marker": {
          "color": "grey",
          "size": [
           0,
           12
          ]
         },
         "showlegend": false,
         "textfont": {
          "size": 14
         },
         "type": "scatter",
         "x": [
          0,
          7
         ],
         "y": [
          7,
          7
         ]
        },
        {
         "hoverinfo": [
          "none",
          "x+y+text"
         ],
         "line": {
          "color": "rgb(140,190,84)"
         },
         "marker": {
          "color": "grey",
          "size": [
           0,
           12
          ]
         },
         "showlegend": false,
         "textfont": {
          "size": 14
         },
         "type": "scatter",
         "x": [
          0,
          11
         ],
         "y": [
          8,
          8
         ]
        },
        {
         "hoverinfo": [
          "none",
          "x+y+text"
         ],
         "line": {
          "color": "rgb(140,190,84)"
         },
         "marker": {
          "color": "turquoise",
          "size": [
           0,
           12
          ]
         },
         "showlegend": false,
         "textfont": {
          "size": 14
         },
         "type": "scatter",
         "x": [
          0,
          12
         ],
         "y": [
          9,
          9
         ]
        },
        {
         "hoverinfo": [
          "none",
          "x+y+text"
         ],
         "line": {
          "color": "rgb(140,190,84)"
         },
         "marker": {
          "color": "red",
          "size": [
           0,
           12
          ]
         },
         "showlegend": false,
         "textfont": {
          "size": 14
         },
         "type": "scatter",
         "x": [
          0,
          16
         ],
         "y": [
          10,
          10
         ]
        },
        {
         "hoverinfo": [
          "none",
          "x+y+text"
         ],
         "line": {
          "color": "rgb(140,190,84)"
         },
         "marker": {
          "color": "red",
          "size": [
           0,
           12
          ]
         },
         "showlegend": false,
         "textfont": {
          "size": 14
         },
         "type": "scatter",
         "x": [
          0,
          22
         ],
         "y": [
          11,
          11
         ]
        },
        {
         "hoverinfo": [
          "none",
          "x+y+text"
         ],
         "line": {
          "color": "rgb(140,190,84)"
         },
         "marker": {
          "color": "red",
          "size": [
           0,
           12
          ]
         },
         "showlegend": false,
         "textfont": {
          "size": 14
         },
         "type": "scatter",
         "x": [
          0,
          25
         ],
         "y": [
          12,
          12
         ]
        },
        {
         "hoverinfo": [
          "none",
          "x+y+text"
         ],
         "line": {
          "color": "rgb(140,190,84)"
         },
         "marker": {
          "color": "red",
          "size": [
           0,
           12
          ]
         },
         "showlegend": false,
         "textfont": {
          "size": 14
         },
         "type": "scatter",
         "x": [
          0,
          26
         ],
         "y": [
          13,
          13
         ]
        },
        {
         "hoverinfo": [
          "none",
          "x+y+text"
         ],
         "line": {
          "color": "rgb(140,190,84)"
         },
         "marker": {
          "color": "blue",
          "size": [
           0,
           12
          ]
         },
         "showlegend": false,
         "textfont": {
          "size": 14
         },
         "type": "scatter",
         "x": [
          0,
          26
         ],
         "y": [
          14,
          14
         ]
        },
        {
         "hoverinfo": [
          "none",
          "x+y+text"
         ],
         "line": {
          "color": "rgb(140,190,84)"
         },
         "marker": {
          "color": "red",
          "size": [
           0,
           12
          ]
         },
         "showlegend": false,
         "textfont": {
          "size": 14
         },
         "type": "scatter",
         "x": [
          0,
          27
         ],
         "y": [
          15,
          15
         ]
        },
        {
         "hoverinfo": [
          "none",
          "x+y+text"
         ],
         "line": {
          "color": "rgb(140,190,84)"
         },
         "marker": {
          "color": "turquoise",
          "size": [
           0,
           12
          ]
         },
         "showlegend": false,
         "textfont": {
          "size": 14
         },
         "type": "scatter",
         "x": [
          0,
          28
         ],
         "y": [
          16,
          16
         ]
        },
        {
         "hoverinfo": [
          "none",
          "x+y+text"
         ],
         "line": {
          "color": "rgb(140,190,84)"
         },
         "marker": {
          "color": "rgb(180, 240, 120)",
          "size": [
           0,
           12
          ]
         },
         "showlegend": false,
         "textfont": {
          "size": 14
         },
         "type": "scatter",
         "x": [
          0,
          30
         ],
         "y": [
          17,
          17
         ]
        },
        {
         "hoverinfo": [
          "none",
          "x+y+text"
         ],
         "line": {
          "color": "rgb(140,190,84)"
         },
         "marker": {
          "color": "blue",
          "size": [
           0,
           12
          ]
         },
         "showlegend": false,
         "textfont": {
          "size": 14
         },
         "type": "scatter",
         "x": [
          0,
          30
         ],
         "y": [
          18,
          18
         ]
        },
        {
         "hoverinfo": [
          "none",
          "x+y+text"
         ],
         "line": {
          "color": "rgb(140,190,84)"
         },
         "marker": {
          "color": "red",
          "size": [
           0,
           12
          ]
         },
         "showlegend": false,
         "textfont": {
          "size": 14
         },
         "type": "scatter",
         "x": [
          0,
          32
         ],
         "y": [
          19,
          19
         ]
        },
        {
         "hoverinfo": [
          "none",
          "x+y+text"
         ],
         "line": {
          "color": "rgb(140,190,84)"
         },
         "marker": {
          "color": "red",
          "size": [
           0,
           12
          ]
         },
         "showlegend": false,
         "textfont": {
          "size": 14
         },
         "type": "scatter",
         "x": [
          0,
          33
         ],
         "y": [
          20,
          20
         ]
        },
        {
         "hoverinfo": [
          "none",
          "x+y+text"
         ],
         "line": {
          "color": "rgb(140,190,84)"
         },
         "marker": {
          "color": "turquoise",
          "size": [
           0,
           12
          ]
         },
         "showlegend": false,
         "textfont": {
          "size": 14
         },
         "type": "scatter",
         "x": [
          0,
          33
         ],
         "y": [
          21,
          21
         ]
        },
        {
         "hoverinfo": [
          "none",
          "x+y+text"
         ],
         "line": {
          "color": "rgb(140,190,84)"
         },
         "marker": {
          "color": "rgb(16,114,60)",
          "size": [
           0,
           12
          ]
         },
         "showlegend": false,
         "textfont": {
          "size": 14
         },
         "type": "scatter",
         "x": [
          0,
          34
         ],
         "y": [
          22,
          22
         ]
        },
        {
         "hoverinfo": [
          "none",
          "x+y+text"
         ],
         "line": {
          "color": "rgb(140,190,84)"
         },
         "marker": {
          "color": "turquoise",
          "size": [
           0,
           12
          ]
         },
         "showlegend": false,
         "textfont": {
          "size": 14
         },
         "type": "scatter",
         "x": [
          0,
          34
         ],
         "y": [
          23,
          23
         ]
        },
        {
         "hoverinfo": [
          "none",
          "x+y+text"
         ],
         "line": {
          "color": "rgb(140,190,84)"
         },
         "marker": {
          "color": "rgb(16,114,60)",
          "size": [
           0,
           12
          ]
         },
         "showlegend": false,
         "textfont": {
          "size": 14
         },
         "type": "scatter",
         "x": [
          0,
          34
         ],
         "y": [
          24,
          24
         ]
        },
        {
         "hoverinfo": [
          "none",
          "x+y+text"
         ],
         "line": {
          "color": "rgb(140,190,84)"
         },
         "marker": {
          "color": "blue",
          "size": [
           0,
           12
          ]
         },
         "showlegend": false,
         "textfont": {
          "size": 14
         },
         "type": "scatter",
         "x": [
          0,
          34
         ],
         "y": [
          25,
          25
         ]
        },
        {
         "hoverinfo": [
          "none",
          "x+y+text"
         ],
         "line": {
          "color": "rgb(140,190,84)"
         },
         "marker": {
          "color": "rgb(16,114,60)",
          "size": [
           0,
           12
          ]
         },
         "showlegend": false,
         "textfont": {
          "size": 14
         },
         "type": "scatter",
         "x": [
          0,
          34
         ],
         "y": [
          26,
          26
         ]
        },
        {
         "marker": {
          "size": [
           0
          ]
         },
         "mode": "lines+markers+text",
         "showlegend": false,
         "text": [
          "Score: 0"
         ],
         "textfont": {
          "size": 14
         },
         "textposition": "top right",
         "type": "scatter",
         "x": [
          0
         ],
         "y": [
          0
         ]
        },
        {
         "marker": {
          "size": [
           0
          ]
         },
         "mode": "lines+markers+text",
         "showlegend": false,
         "text": [
          "Score: 0"
         ],
         "textfont": {
          "size": 14
         },
         "textposition": "top right",
         "type": "scatter",
         "x": [
          0
         ],
         "y": [
          1
         ]
        },
        {
         "marker": {
          "size": [
           0
          ]
         },
         "mode": "lines+markers+text",
         "showlegend": false,
         "text": [
          "Score: 1"
         ],
         "textfont": {
          "size": 14
         },
         "textposition": "top right",
         "type": "scatter",
         "x": [
          0
         ],
         "y": [
          2
         ]
        },
        {
         "marker": {
          "size": [
           0
          ]
         },
         "mode": "lines+markers+text",
         "showlegend": false,
         "text": [
          "Score: 1"
         ],
         "textfont": {
          "size": 14
         },
         "textposition": "top right",
         "type": "scatter",
         "x": [
          0
         ],
         "y": [
          3
         ]
        },
        {
         "marker": {
          "size": [
           0
          ]
         },
         "mode": "lines+markers+text",
         "showlegend": false,
         "text": [
          "Score: 2"
         ],
         "textfont": {
          "size": 14
         },
         "textposition": "top right",
         "type": "scatter",
         "x": [
          0
         ],
         "y": [
          4
         ]
        },
        {
         "marker": {
          "size": [
           0
          ]
         },
         "mode": "lines+markers+text",
         "showlegend": false,
         "text": [
          "Score: 6"
         ],
         "textfont": {
          "size": 14
         },
         "textposition": "top right",
         "type": "scatter",
         "x": [
          0
         ],
         "y": [
          5
         ]
        },
        {
         "marker": {
          "size": [
           0
          ]
         },
         "mode": "lines+markers+text",
         "showlegend": false,
         "text": [
          "Score: 6"
         ],
         "textfont": {
          "size": 14
         },
         "textposition": "top right",
         "type": "scatter",
         "x": [
          0
         ],
         "y": [
          6
         ]
        },
        {
         "marker": {
          "size": [
           0
          ]
         },
         "mode": "lines+markers+text",
         "showlegend": false,
         "text": [
          "Score: 7"
         ],
         "textfont": {
          "size": 14
         },
         "textposition": "top right",
         "type": "scatter",
         "x": [
          0
         ],
         "y": [
          7
         ]
        },
        {
         "marker": {
          "size": [
           0
          ]
         },
         "mode": "lines+markers+text",
         "showlegend": false,
         "text": [
          "Score: 11"
         ],
         "textfont": {
          "size": 14
         },
         "textposition": "top right",
         "type": "scatter",
         "x": [
          0
         ],
         "y": [
          8
         ]
        },
        {
         "marker": {
          "size": [
           0
          ]
         },
         "mode": "lines+markers+text",
         "showlegend": false,
         "text": [
          "Score: 12"
         ],
         "textfont": {
          "size": 14
         },
         "textposition": "top right",
         "type": "scatter",
         "x": [
          0
         ],
         "y": [
          9
         ]
        },
        {
         "marker": {
          "size": [
           0
          ]
         },
         "mode": "lines+markers+text",
         "showlegend": false,
         "text": [
          "Score: 16"
         ],
         "textfont": {
          "size": 14
         },
         "textposition": "top right",
         "type": "scatter",
         "x": [
          0
         ],
         "y": [
          10
         ]
        },
        {
         "marker": {
          "size": [
           0
          ]
         },
         "mode": "lines+markers+text",
         "showlegend": false,
         "text": [
          "Score: 22"
         ],
         "textfont": {
          "size": 14
         },
         "textposition": "top right",
         "type": "scatter",
         "x": [
          0
         ],
         "y": [
          11
         ]
        },
        {
         "marker": {
          "size": [
           0
          ]
         },
         "mode": "lines+markers+text",
         "showlegend": false,
         "text": [
          "Score: 25"
         ],
         "textfont": {
          "size": 14
         },
         "textposition": "top right",
         "type": "scatter",
         "x": [
          0
         ],
         "y": [
          12
         ]
        },
        {
         "marker": {
          "size": [
           0
          ]
         },
         "mode": "lines+markers+text",
         "showlegend": false,
         "text": [
          "Score: 26"
         ],
         "textfont": {
          "size": 14
         },
         "textposition": "top right",
         "type": "scatter",
         "x": [
          0
         ],
         "y": [
          13
         ]
        },
        {
         "marker": {
          "size": [
           0
          ]
         },
         "mode": "lines+markers+text",
         "showlegend": false,
         "text": [
          "Score: 26"
         ],
         "textfont": {
          "size": 14
         },
         "textposition": "top right",
         "type": "scatter",
         "x": [
          0
         ],
         "y": [
          14
         ]
        },
        {
         "marker": {
          "size": [
           0
          ]
         },
         "mode": "lines+markers+text",
         "showlegend": false,
         "text": [
          "Score: 27"
         ],
         "textfont": {
          "size": 14
         },
         "textposition": "top right",
         "type": "scatter",
         "x": [
          0
         ],
         "y": [
          15
         ]
        },
        {
         "marker": {
          "size": [
           0
          ]
         },
         "mode": "lines+markers+text",
         "showlegend": false,
         "text": [
          "Score: 28"
         ],
         "textfont": {
          "size": 14
         },
         "textposition": "top right",
         "type": "scatter",
         "x": [
          0
         ],
         "y": [
          16
         ]
        },
        {
         "marker": {
          "size": [
           0
          ]
         },
         "mode": "lines+markers+text",
         "showlegend": false,
         "text": [
          "Score: 30"
         ],
         "textfont": {
          "size": 14
         },
         "textposition": "top right",
         "type": "scatter",
         "x": [
          0
         ],
         "y": [
          17
         ]
        },
        {
         "marker": {
          "size": [
           0
          ]
         },
         "mode": "lines+markers+text",
         "showlegend": false,
         "text": [
          "Score: 30"
         ],
         "textfont": {
          "size": 14
         },
         "textposition": "top right",
         "type": "scatter",
         "x": [
          0
         ],
         "y": [
          18
         ]
        },
        {
         "marker": {
          "size": [
           0
          ]
         },
         "mode": "lines+markers+text",
         "showlegend": false,
         "text": [
          "Score: 32"
         ],
         "textfont": {
          "size": 14
         },
         "textposition": "top right",
         "type": "scatter",
         "x": [
          0
         ],
         "y": [
          19
         ]
        },
        {
         "marker": {
          "size": [
           0
          ]
         },
         "mode": "lines+markers+text",
         "showlegend": false,
         "text": [
          "Score: 33"
         ],
         "textfont": {
          "size": 14
         },
         "textposition": "top right",
         "type": "scatter",
         "x": [
          0
         ],
         "y": [
          20
         ]
        },
        {
         "marker": {
          "size": [
           0
          ]
         },
         "mode": "lines+markers+text",
         "showlegend": false,
         "text": [
          "Score: 33"
         ],
         "textfont": {
          "size": 14
         },
         "textposition": "top right",
         "type": "scatter",
         "x": [
          0
         ],
         "y": [
          21
         ]
        },
        {
         "marker": {
          "size": [
           0
          ]
         },
         "mode": "lines+markers+text",
         "showlegend": false,
         "text": [
          "Score: 34"
         ],
         "textfont": {
          "size": 14
         },
         "textposition": "top right",
         "type": "scatter",
         "x": [
          0
         ],
         "y": [
          22
         ]
        },
        {
         "marker": {
          "size": [
           0
          ]
         },
         "mode": "lines+markers+text",
         "showlegend": false,
         "text": [
          "Score: 34"
         ],
         "textfont": {
          "size": 14
         },
         "textposition": "top right",
         "type": "scatter",
         "x": [
          0
         ],
         "y": [
          23
         ]
        },
        {
         "marker": {
          "size": [
           0
          ]
         },
         "mode": "lines+markers+text",
         "showlegend": false,
         "text": [
          "Score: 34"
         ],
         "textfont": {
          "size": 14
         },
         "textposition": "top right",
         "type": "scatter",
         "x": [
          0
         ],
         "y": [
          24
         ]
        },
        {
         "marker": {
          "size": [
           0
          ]
         },
         "mode": "lines+markers+text",
         "showlegend": false,
         "text": [
          "Score: 34"
         ],
         "textfont": {
          "size": 14
         },
         "textposition": "top right",
         "type": "scatter",
         "x": [
          0
         ],
         "y": [
          25
         ]
        },
        {
         "marker": {
          "size": [
           0
          ]
         },
         "mode": "lines+markers+text",
         "showlegend": false,
         "text": [
          "Score: 34"
         ],
         "textfont": {
          "size": 14
         },
         "textposition": "top right",
         "type": "scatter",
         "x": [
          0
         ],
         "y": [
          26
         ]
        },
        {
         "marker": {
          "color": "red",
          "size": [
           0
          ]
         },
         "name": "Spiser ofte kød, kødpålæg, fjerkræ og/eller fisk (hver dag eller næsten hver dag)",
         "type": "scatter",
         "x": [
          0
         ],
         "y": [
          0
         ]
        },
        {
         "marker": {
          "color": "turquoise",
          "size": [
           0
          ]
         },
         "name": "Spiser fisk, men derudover kun vegetarisk, aldrig kød, kødpålæg og fjerkræ",
         "type": "scatter",
         "x": [
          0
         ],
         "y": [
          0
         ]
        },
        {
         "marker": {
          "color": "blue",
          "size": [
           0
          ]
         },
         "name": "Spiser vegetarisk mindst halvdelen af ugens dage, de øvrige dage kød, fjerkræ og/eller fisk",
         "type": "scatter",
         "x": [
          0
         ],
         "y": [
          0
         ]
        },
        {
         "marker": {
          "color": "rgb(180, 240, 120)",
          "size": [
           0
          ]
         },
         "name": "Spiser kun vegetarisk, sjældent mælkeprodukter og æg",
         "type": "scatter",
         "x": [
          0
         ],
         "y": [
          0
         ]
        },
        {
         "marker": {
          "color": "rgb(140,190,84)",
          "size": [
           0
          ]
         },
         "name": "Spiser kun vegetarisk, aldrig kød, kødpålæg, fjerkræ og fisk",
         "type": "scatter",
         "x": [
          0
         ],
         "y": [
          0
         ]
        },
        {
         "marker": {
          "color": "rgb(16,114,60)",
          "size": [
           0
          ]
         },
         "name": "Spiser kun vegansk",
         "type": "scatter",
         "x": [
          0
         ],
         "y": [
          0
         ]
        },
        {
         "marker": {
          "color": "grey",
          "size": [
           0
          ]
         },
         "name": "Ønsker ikke at svare",
         "type": "scatter",
         "x": [
          0
         ],
         "y": [
          0
         ]
        }
       ],
       "layout": {
        "height": 1500,
        "legend": {
         "itemsizing": "constant",
         "orientation": "h",
         "x": 0.88,
         "xanchor": "right",
         "y": -0.135,
         "yanchor": "bottom"
        },
        "template": {
         "data": {
          "bar": [
           {
            "error_x": {
             "color": "#2a3f5f"
            },
            "error_y": {
             "color": "#2a3f5f"
            },
            "marker": {
             "line": {
              "color": "#E5ECF6",
              "width": 0.5
             },
             "pattern": {
              "fillmode": "overlay",
              "size": 10,
              "solidity": 0.2
             }
            },
            "type": "bar"
           }
          ],
          "barpolar": [
           {
            "marker": {
             "line": {
              "color": "#E5ECF6",
              "width": 0.5
             },
             "pattern": {
              "fillmode": "overlay",
              "size": 10,
              "solidity": 0.2
             }
            },
            "type": "barpolar"
           }
          ],
          "carpet": [
           {
            "aaxis": {
             "endlinecolor": "#2a3f5f",
             "gridcolor": "white",
             "linecolor": "white",
             "minorgridcolor": "white",
             "startlinecolor": "#2a3f5f"
            },
            "baxis": {
             "endlinecolor": "#2a3f5f",
             "gridcolor": "white",
             "linecolor": "white",
             "minorgridcolor": "white",
             "startlinecolor": "#2a3f5f"
            },
            "type": "carpet"
           }
          ],
          "choropleth": [
           {
            "colorbar": {
             "outlinewidth": 0,
             "ticks": ""
            },
            "type": "choropleth"
           }
          ],
          "contour": [
           {
            "colorbar": {
             "outlinewidth": 0,
             "ticks": ""
            },
            "colorscale": [
             [
              0,
              "#0d0887"
             ],
             [
              0.1111111111111111,
              "#46039f"
             ],
             [
              0.2222222222222222,
              "#7201a8"
             ],
             [
              0.3333333333333333,
              "#9c179e"
             ],
             [
              0.4444444444444444,
              "#bd3786"
             ],
             [
              0.5555555555555556,
              "#d8576b"
             ],
             [
              0.6666666666666666,
              "#ed7953"
             ],
             [
              0.7777777777777778,
              "#fb9f3a"
             ],
             [
              0.8888888888888888,
              "#fdca26"
             ],
             [
              1,
              "#f0f921"
             ]
            ],
            "type": "contour"
           }
          ],
          "contourcarpet": [
           {
            "colorbar": {
             "outlinewidth": 0,
             "ticks": ""
            },
            "type": "contourcarpet"
           }
          ],
          "heatmap": [
           {
            "colorbar": {
             "outlinewidth": 0,
             "ticks": ""
            },
            "colorscale": [
             [
              0,
              "#0d0887"
             ],
             [
              0.1111111111111111,
              "#46039f"
             ],
             [
              0.2222222222222222,
              "#7201a8"
             ],
             [
              0.3333333333333333,
              "#9c179e"
             ],
             [
              0.4444444444444444,
              "#bd3786"
             ],
             [
              0.5555555555555556,
              "#d8576b"
             ],
             [
              0.6666666666666666,
              "#ed7953"
             ],
             [
              0.7777777777777778,
              "#fb9f3a"
             ],
             [
              0.8888888888888888,
              "#fdca26"
             ],
             [
              1,
              "#f0f921"
             ]
            ],
            "type": "heatmap"
           }
          ],
          "heatmapgl": [
           {
            "colorbar": {
             "outlinewidth": 0,
             "ticks": ""
            },
            "colorscale": [
             [
              0,
              "#0d0887"
             ],
             [
              0.1111111111111111,
              "#46039f"
             ],
             [
              0.2222222222222222,
              "#7201a8"
             ],
             [
              0.3333333333333333,
              "#9c179e"
             ],
             [
              0.4444444444444444,
              "#bd3786"
             ],
             [
              0.5555555555555556,
              "#d8576b"
             ],
             [
              0.6666666666666666,
              "#ed7953"
             ],
             [
              0.7777777777777778,
              "#fb9f3a"
             ],
             [
              0.8888888888888888,
              "#fdca26"
             ],
             [
              1,
              "#f0f921"
             ]
            ],
            "type": "heatmapgl"
           }
          ],
          "histogram": [
           {
            "marker": {
             "pattern": {
              "fillmode": "overlay",
              "size": 10,
              "solidity": 0.2
             }
            },
            "type": "histogram"
           }
          ],
          "histogram2d": [
           {
            "colorbar": {
             "outlinewidth": 0,
             "ticks": ""
            },
            "colorscale": [
             [
              0,
              "#0d0887"
             ],
             [
              0.1111111111111111,
              "#46039f"
             ],
             [
              0.2222222222222222,
              "#7201a8"
             ],
             [
              0.3333333333333333,
              "#9c179e"
             ],
             [
              0.4444444444444444,
              "#bd3786"
             ],
             [
              0.5555555555555556,
              "#d8576b"
             ],
             [
              0.6666666666666666,
              "#ed7953"
             ],
             [
              0.7777777777777778,
              "#fb9f3a"
             ],
             [
              0.8888888888888888,
              "#fdca26"
             ],
             [
              1,
              "#f0f921"
             ]
            ],
            "type": "histogram2d"
           }
          ],
          "histogram2dcontour": [
           {
            "colorbar": {
             "outlinewidth": 0,
             "ticks": ""
            },
            "colorscale": [
             [
              0,
              "#0d0887"
             ],
             [
              0.1111111111111111,
              "#46039f"
             ],
             [
              0.2222222222222222,
              "#7201a8"
             ],
             [
              0.3333333333333333,
              "#9c179e"
             ],
             [
              0.4444444444444444,
              "#bd3786"
             ],
             [
              0.5555555555555556,
              "#d8576b"
             ],
             [
              0.6666666666666666,
              "#ed7953"
             ],
             [
              0.7777777777777778,
              "#fb9f3a"
             ],
             [
              0.8888888888888888,
              "#fdca26"
             ],
             [
              1,
              "#f0f921"
             ]
            ],
            "type": "histogram2dcontour"
           }
          ],
          "mesh3d": [
           {
            "colorbar": {
             "outlinewidth": 0,
             "ticks": ""
            },
            "type": "mesh3d"
           }
          ],
          "parcoords": [
           {
            "line": {
             "colorbar": {
              "outlinewidth": 0,
              "ticks": ""
             }
            },
            "type": "parcoords"
           }
          ],
          "pie": [
           {
            "automargin": true,
            "type": "pie"
           }
          ],
          "scatter": [
           {
            "fillpattern": {
             "fillmode": "overlay",
             "size": 10,
             "solidity": 0.2
            },
            "type": "scatter"
           }
          ],
          "scatter3d": [
           {
            "line": {
             "colorbar": {
              "outlinewidth": 0,
              "ticks": ""
             }
            },
            "marker": {
             "colorbar": {
              "outlinewidth": 0,
              "ticks": ""
             }
            },
            "type": "scatter3d"
           }
          ],
          "scattercarpet": [
           {
            "marker": {
             "colorbar": {
              "outlinewidth": 0,
              "ticks": ""
             }
            },
            "type": "scattercarpet"
           }
          ],
          "scattergeo": [
           {
            "marker": {
             "colorbar": {
              "outlinewidth": 0,
              "ticks": ""
             }
            },
            "type": "scattergeo"
           }
          ],
          "scattergl": [
           {
            "marker": {
             "colorbar": {
              "outlinewidth": 0,
              "ticks": ""
             }
            },
            "type": "scattergl"
           }
          ],
          "scattermapbox": [
           {
            "marker": {
             "colorbar": {
              "outlinewidth": 0,
              "ticks": ""
             }
            },
            "type": "scattermapbox"
           }
          ],
          "scatterpolar": [
           {
            "marker": {
             "colorbar": {
              "outlinewidth": 0,
              "ticks": ""
             }
            },
            "type": "scatterpolar"
           }
          ],
          "scatterpolargl": [
           {
            "marker": {
             "colorbar": {
              "outlinewidth": 0,
              "ticks": ""
             }
            },
            "type": "scatterpolargl"
           }
          ],
          "scatterternary": [
           {
            "marker": {
             "colorbar": {
              "outlinewidth": 0,
              "ticks": ""
             }
            },
            "type": "scatterternary"
           }
          ],
          "surface": [
           {
            "colorbar": {
             "outlinewidth": 0,
             "ticks": ""
            },
            "colorscale": [
             [
              0,
              "#0d0887"
             ],
             [
              0.1111111111111111,
              "#46039f"
             ],
             [
              0.2222222222222222,
              "#7201a8"
             ],
             [
              0.3333333333333333,
              "#9c179e"
             ],
             [
              0.4444444444444444,
              "#bd3786"
             ],
             [
              0.5555555555555556,
              "#d8576b"
             ],
             [
              0.6666666666666666,
              "#ed7953"
             ],
             [
              0.7777777777777778,
              "#fb9f3a"
             ],
             [
              0.8888888888888888,
              "#fdca26"
             ],
             [
              1,
              "#f0f921"
             ]
            ],
            "type": "surface"
           }
          ],
          "table": [
           {
            "cells": {
             "fill": {
              "color": "#EBF0F8"
             },
             "line": {
              "color": "white"
             }
            },
            "header": {
             "fill": {
              "color": "#C8D4E3"
             },
             "line": {
              "color": "white"
             }
            },
            "type": "table"
           }
          ]
         },
         "layout": {
          "annotationdefaults": {
           "arrowcolor": "#2a3f5f",
           "arrowhead": 0,
           "arrowwidth": 1
          },
          "autotypenumbers": "strict",
          "coloraxis": {
           "colorbar": {
            "outlinewidth": 0,
            "ticks": ""
           }
          },
          "colorscale": {
           "diverging": [
            [
             0,
             "#8e0152"
            ],
            [
             0.1,
             "#c51b7d"
            ],
            [
             0.2,
             "#de77ae"
            ],
            [
             0.3,
             "#f1b6da"
            ],
            [
             0.4,
             "#fde0ef"
            ],
            [
             0.5,
             "#f7f7f7"
            ],
            [
             0.6,
             "#e6f5d0"
            ],
            [
             0.7,
             "#b8e186"
            ],
            [
             0.8,
             "#7fbc41"
            ],
            [
             0.9,
             "#4d9221"
            ],
            [
             1,
             "#276419"
            ]
           ],
           "sequential": [
            [
             0,
             "#0d0887"
            ],
            [
             0.1111111111111111,
             "#46039f"
            ],
            [
             0.2222222222222222,
             "#7201a8"
            ],
            [
             0.3333333333333333,
             "#9c179e"
            ],
            [
             0.4444444444444444,
             "#bd3786"
            ],
            [
             0.5555555555555556,
             "#d8576b"
            ],
            [
             0.6666666666666666,
             "#ed7953"
            ],
            [
             0.7777777777777778,
             "#fb9f3a"
            ],
            [
             0.8888888888888888,
             "#fdca26"
            ],
            [
             1,
             "#f0f921"
            ]
           ],
           "sequentialminus": [
            [
             0,
             "#0d0887"
            ],
            [
             0.1111111111111111,
             "#46039f"
            ],
            [
             0.2222222222222222,
             "#7201a8"
            ],
            [
             0.3333333333333333,
             "#9c179e"
            ],
            [
             0.4444444444444444,
             "#bd3786"
            ],
            [
             0.5555555555555556,
             "#d8576b"
            ],
            [
             0.6666666666666666,
             "#ed7953"
            ],
            [
             0.7777777777777778,
             "#fb9f3a"
            ],
            [
             0.8888888888888888,
             "#fdca26"
            ],
            [
             1,
             "#f0f921"
            ]
           ]
          },
          "colorway": [
           "#636efa",
           "#EF553B",
           "#00cc96",
           "#ab63fa",
           "#FFA15A",
           "#19d3f3",
           "#FF6692",
           "#B6E880",
           "#FF97FF",
           "#FECB52"
          ],
          "font": {
           "color": "#2a3f5f"
          },
          "geo": {
           "bgcolor": "white",
           "lakecolor": "white",
           "landcolor": "#E5ECF6",
           "showlakes": true,
           "showland": true,
           "subunitcolor": "white"
          },
          "hoverlabel": {
           "align": "left"
          },
          "hovermode": "closest",
          "mapbox": {
           "style": "light"
          },
          "paper_bgcolor": "white",
          "plot_bgcolor": "#E5ECF6",
          "polar": {
           "angularaxis": {
            "gridcolor": "white",
            "linecolor": "white",
            "ticks": ""
           },
           "bgcolor": "#E5ECF6",
           "radialaxis": {
            "gridcolor": "white",
            "linecolor": "white",
            "ticks": ""
           }
          },
          "scene": {
           "xaxis": {
            "backgroundcolor": "#E5ECF6",
            "gridcolor": "white",
            "gridwidth": 2,
            "linecolor": "white",
            "showbackground": true,
            "ticks": "",
            "zerolinecolor": "white"
           },
           "yaxis": {
            "backgroundcolor": "#E5ECF6",
            "gridcolor": "white",
            "gridwidth": 2,
            "linecolor": "white",
            "showbackground": true,
            "ticks": "",
            "zerolinecolor": "white"
           },
           "zaxis": {
            "backgroundcolor": "#E5ECF6",
            "gridcolor": "white",
            "gridwidth": 2,
            "linecolor": "white",
            "showbackground": true,
            "ticks": "",
            "zerolinecolor": "white"
           }
          },
          "shapedefaults": {
           "line": {
            "color": "#2a3f5f"
           }
          },
          "ternary": {
           "aaxis": {
            "gridcolor": "white",
            "linecolor": "white",
            "ticks": ""
           },
           "baxis": {
            "gridcolor": "white",
            "linecolor": "white",
            "ticks": ""
           },
           "bgcolor": "#E5ECF6",
           "caxis": {
            "gridcolor": "white",
            "linecolor": "white",
            "ticks": ""
           }
          },
          "title": {
           "x": 0.05
          },
          "xaxis": {
           "automargin": true,
           "gridcolor": "white",
           "linecolor": "white",
           "ticks": "",
           "title": {
            "standoff": 15
           },
           "zerolinecolor": "white",
           "zerolinewidth": 2
          },
          "yaxis": {
           "automargin": true,
           "gridcolor": "white",
           "linecolor": "white",
           "ticks": "",
           "title": {
            "standoff": 15
           },
           "zerolinecolor": "white",
           "zerolinewidth": 2
          }
         }
        },
        "title": {
         "text": "Kandidater for Fyns Storkreds"
        },
        "yaxis": {
         "tickfont": {
          "size": 20
         },
         "tickmode": "array",
         "ticktext": [
          "Nikolaj Leed Henriksen (V.)",
          "Malte Jäger (D.)",
          "Melanie Jørgensen (D.)",
          "Jonas René Jensen (D.)",
          "Kenneth Bjerg Andersen (M.)",
          "Rebecha Foged (D.)",
          "Henrik Tørnqvist Lauridsen  (D.)",
          "Reza Javid (Ø.)",
          "Katrine Wulff (F.)",
          "Nynne Printz (F.)",
          "Gert Dyrn (K.)",
          "Jonas Hulgaard Ammundsen (F.)",
          "Mads Madsen Henriksen (A.)",
          "Jan Werner Mathiasen (B.)",
          "Bodil Marie Helbo (Å.)",
          "Niels Bjarne Lund (Ø.)",
          "Henrik Boye (Å.)",
          "Victoria Bøgh Salo (Ø.)",
          "Vibeke Syppli Enrum (Ø.)",
          "Mette Rahbek (Å.)",
          "Ole Dupont Kofod (Å.)",
          "Nishan Ganesh (Q.)",
          "Simon Nyborg Jensen (Å.)",
          "Martin Kjærulff (Å.)",
          "Linda Frølund Hansen (Å.)",
          "Kasper Krebs (Å.)",
          "Anna Astrid Høy-Nielsen (Å.)"
         ],
         "tickvals": [
          0,
          1,
          2,
          3,
          4,
          5,
          6,
          7,
          8,
          9,
          10,
          11,
          12,
          13,
          14,
          15,
          16,
          17,
          18,
          19,
          20,
          21,
          22,
          23,
          24,
          25,
          26
         ]
        }
       }
      },
      "text/html": [
       "<div>                            <div id=\"e5fa84c1-5a4f-4dbd-b4c8-2a45427368aa\" class=\"plotly-graph-div\" style=\"height:1500px; width:100%;\"></div>            <script type=\"text/javascript\">                require([\"plotly\"], function(Plotly) {                    window.PLOTLYENV=window.PLOTLYENV || {};                                    if (document.getElementById(\"e5fa84c1-5a4f-4dbd-b4c8-2a45427368aa\")) {                    Plotly.newPlot(                        \"e5fa84c1-5a4f-4dbd-b4c8-2a45427368aa\",                        [{\"hoverinfo\":[\"none\",\"x+y+text\"],\"line\":{\"color\":\"rgb(140,190,84)\"},\"marker\":{\"color\":\"grey\",\"size\":[0,12]},\"showlegend\":false,\"x\":[0,0],\"y\":[0,0],\"type\":\"scatter\",\"textfont\":{\"size\":14}},{\"hoverinfo\":[\"none\",\"x+y+text\"],\"line\":{\"color\":\"rgb(140,190,84)\"},\"marker\":{\"color\":\"red\",\"size\":[0,12]},\"showlegend\":false,\"x\":[0,0],\"y\":[1,1],\"type\":\"scatter\",\"textfont\":{\"size\":14}},{\"hoverinfo\":[\"none\",\"x+y+text\"],\"line\":{\"color\":\"rgb(140,190,84)\"},\"marker\":{\"color\":\"red\",\"size\":[0,12]},\"showlegend\":false,\"x\":[0,1],\"y\":[2,2],\"type\":\"scatter\",\"textfont\":{\"size\":14}},{\"hoverinfo\":[\"none\",\"x+y+text\"],\"line\":{\"color\":\"rgb(140,190,84)\"},\"marker\":{\"color\":\"grey\",\"size\":[0,12]},\"showlegend\":false,\"x\":[0,1],\"y\":[3,3],\"type\":\"scatter\",\"textfont\":{\"size\":14}},{\"hoverinfo\":[\"none\",\"x+y+text\"],\"line\":{\"color\":\"rgb(140,190,84)\"},\"marker\":{\"color\":\"grey\",\"size\":[0,12]},\"showlegend\":false,\"x\":[0,2],\"y\":[4,4],\"type\":\"scatter\",\"textfont\":{\"size\":14}},{\"hoverinfo\":[\"none\",\"x+y+text\"],\"line\":{\"color\":\"rgb(140,190,84)\"},\"marker\":{\"color\":\"red\",\"size\":[0,12]},\"showlegend\":false,\"x\":[0,6],\"y\":[5,5],\"type\":\"scatter\",\"textfont\":{\"size\":14}},{\"hoverinfo\":[\"none\",\"x+y+text\"],\"line\":{\"color\":\"rgb(140,190,84)\"},\"marker\":{\"color\":\"red\",\"size\":[0,12]},\"showlegend\":false,\"x\":[0,6],\"y\":[6,6],\"type\":\"scatter\",\"textfont\":{\"size\":14}},{\"hoverinfo\":[\"none\",\"x+y+text\"],\"line\":{\"color\":\"rgb(140,190,84)\"},\"marker\":{\"color\":\"grey\",\"size\":[0,12]},\"showlegend\":false,\"x\":[0,7],\"y\":[7,7],\"type\":\"scatter\",\"textfont\":{\"size\":14}},{\"hoverinfo\":[\"none\",\"x+y+text\"],\"line\":{\"color\":\"rgb(140,190,84)\"},\"marker\":{\"color\":\"grey\",\"size\":[0,12]},\"showlegend\":false,\"x\":[0,11],\"y\":[8,8],\"type\":\"scatter\",\"textfont\":{\"size\":14}},{\"hoverinfo\":[\"none\",\"x+y+text\"],\"line\":{\"color\":\"rgb(140,190,84)\"},\"marker\":{\"color\":\"turquoise\",\"size\":[0,12]},\"showlegend\":false,\"x\":[0,12],\"y\":[9,9],\"type\":\"scatter\",\"textfont\":{\"size\":14}},{\"hoverinfo\":[\"none\",\"x+y+text\"],\"line\":{\"color\":\"rgb(140,190,84)\"},\"marker\":{\"color\":\"red\",\"size\":[0,12]},\"showlegend\":false,\"x\":[0,16],\"y\":[10,10],\"type\":\"scatter\",\"textfont\":{\"size\":14}},{\"hoverinfo\":[\"none\",\"x+y+text\"],\"line\":{\"color\":\"rgb(140,190,84)\"},\"marker\":{\"color\":\"red\",\"size\":[0,12]},\"showlegend\":false,\"x\":[0,22],\"y\":[11,11],\"type\":\"scatter\",\"textfont\":{\"size\":14}},{\"hoverinfo\":[\"none\",\"x+y+text\"],\"line\":{\"color\":\"rgb(140,190,84)\"},\"marker\":{\"color\":\"red\",\"size\":[0,12]},\"showlegend\":false,\"x\":[0,25],\"y\":[12,12],\"type\":\"scatter\",\"textfont\":{\"size\":14}},{\"hoverinfo\":[\"none\",\"x+y+text\"],\"line\":{\"color\":\"rgb(140,190,84)\"},\"marker\":{\"color\":\"red\",\"size\":[0,12]},\"showlegend\":false,\"x\":[0,26],\"y\":[13,13],\"type\":\"scatter\",\"textfont\":{\"size\":14}},{\"hoverinfo\":[\"none\",\"x+y+text\"],\"line\":{\"color\":\"rgb(140,190,84)\"},\"marker\":{\"color\":\"blue\",\"size\":[0,12]},\"showlegend\":false,\"x\":[0,26],\"y\":[14,14],\"type\":\"scatter\",\"textfont\":{\"size\":14}},{\"hoverinfo\":[\"none\",\"x+y+text\"],\"line\":{\"color\":\"rgb(140,190,84)\"},\"marker\":{\"color\":\"red\",\"size\":[0,12]},\"showlegend\":false,\"x\":[0,27],\"y\":[15,15],\"type\":\"scatter\",\"textfont\":{\"size\":14}},{\"hoverinfo\":[\"none\",\"x+y+text\"],\"line\":{\"color\":\"rgb(140,190,84)\"},\"marker\":{\"color\":\"turquoise\",\"size\":[0,12]},\"showlegend\":false,\"x\":[0,28],\"y\":[16,16],\"type\":\"scatter\",\"textfont\":{\"size\":14}},{\"hoverinfo\":[\"none\",\"x+y+text\"],\"line\":{\"color\":\"rgb(140,190,84)\"},\"marker\":{\"color\":\"rgb(180, 240, 120)\",\"size\":[0,12]},\"showlegend\":false,\"x\":[0,30],\"y\":[17,17],\"type\":\"scatter\",\"textfont\":{\"size\":14}},{\"hoverinfo\":[\"none\",\"x+y+text\"],\"line\":{\"color\":\"rgb(140,190,84)\"},\"marker\":{\"color\":\"blue\",\"size\":[0,12]},\"showlegend\":false,\"x\":[0,30],\"y\":[18,18],\"type\":\"scatter\",\"textfont\":{\"size\":14}},{\"hoverinfo\":[\"none\",\"x+y+text\"],\"line\":{\"color\":\"rgb(140,190,84)\"},\"marker\":{\"color\":\"red\",\"size\":[0,12]},\"showlegend\":false,\"x\":[0,32],\"y\":[19,19],\"type\":\"scatter\",\"textfont\":{\"size\":14}},{\"hoverinfo\":[\"none\",\"x+y+text\"],\"line\":{\"color\":\"rgb(140,190,84)\"},\"marker\":{\"color\":\"red\",\"size\":[0,12]},\"showlegend\":false,\"x\":[0,33],\"y\":[20,20],\"type\":\"scatter\",\"textfont\":{\"size\":14}},{\"hoverinfo\":[\"none\",\"x+y+text\"],\"line\":{\"color\":\"rgb(140,190,84)\"},\"marker\":{\"color\":\"turquoise\",\"size\":[0,12]},\"showlegend\":false,\"x\":[0,33],\"y\":[21,21],\"type\":\"scatter\",\"textfont\":{\"size\":14}},{\"hoverinfo\":[\"none\",\"x+y+text\"],\"line\":{\"color\":\"rgb(140,190,84)\"},\"marker\":{\"color\":\"rgb(16,114,60)\",\"size\":[0,12]},\"showlegend\":false,\"x\":[0,34],\"y\":[22,22],\"type\":\"scatter\",\"textfont\":{\"size\":14}},{\"hoverinfo\":[\"none\",\"x+y+text\"],\"line\":{\"color\":\"rgb(140,190,84)\"},\"marker\":{\"color\":\"turquoise\",\"size\":[0,12]},\"showlegend\":false,\"x\":[0,34],\"y\":[23,23],\"type\":\"scatter\",\"textfont\":{\"size\":14}},{\"hoverinfo\":[\"none\",\"x+y+text\"],\"line\":{\"color\":\"rgb(140,190,84)\"},\"marker\":{\"color\":\"rgb(16,114,60)\",\"size\":[0,12]},\"showlegend\":false,\"x\":[0,34],\"y\":[24,24],\"type\":\"scatter\",\"textfont\":{\"size\":14}},{\"hoverinfo\":[\"none\",\"x+y+text\"],\"line\":{\"color\":\"rgb(140,190,84)\"},\"marker\":{\"color\":\"blue\",\"size\":[0,12]},\"showlegend\":false,\"x\":[0,34],\"y\":[25,25],\"type\":\"scatter\",\"textfont\":{\"size\":14}},{\"hoverinfo\":[\"none\",\"x+y+text\"],\"line\":{\"color\":\"rgb(140,190,84)\"},\"marker\":{\"color\":\"rgb(16,114,60)\",\"size\":[0,12]},\"showlegend\":false,\"x\":[0,34],\"y\":[26,26],\"type\":\"scatter\",\"textfont\":{\"size\":14}},{\"marker\":{\"size\":[0]},\"mode\":\"lines+markers+text\",\"showlegend\":false,\"text\":[\"Score: 0\"],\"textposition\":\"top right\",\"x\":[0],\"y\":[0],\"type\":\"scatter\",\"textfont\":{\"size\":14}},{\"marker\":{\"size\":[0]},\"mode\":\"lines+markers+text\",\"showlegend\":false,\"text\":[\"Score: 0\"],\"textposition\":\"top right\",\"x\":[0],\"y\":[1],\"type\":\"scatter\",\"textfont\":{\"size\":14}},{\"marker\":{\"size\":[0]},\"mode\":\"lines+markers+text\",\"showlegend\":false,\"text\":[\"Score: 1\"],\"textposition\":\"top right\",\"x\":[0],\"y\":[2],\"type\":\"scatter\",\"textfont\":{\"size\":14}},{\"marker\":{\"size\":[0]},\"mode\":\"lines+markers+text\",\"showlegend\":false,\"text\":[\"Score: 1\"],\"textposition\":\"top right\",\"x\":[0],\"y\":[3],\"type\":\"scatter\",\"textfont\":{\"size\":14}},{\"marker\":{\"size\":[0]},\"mode\":\"lines+markers+text\",\"showlegend\":false,\"text\":[\"Score: 2\"],\"textposition\":\"top right\",\"x\":[0],\"y\":[4],\"type\":\"scatter\",\"textfont\":{\"size\":14}},{\"marker\":{\"size\":[0]},\"mode\":\"lines+markers+text\",\"showlegend\":false,\"text\":[\"Score: 6\"],\"textposition\":\"top right\",\"x\":[0],\"y\":[5],\"type\":\"scatter\",\"textfont\":{\"size\":14}},{\"marker\":{\"size\":[0]},\"mode\":\"lines+markers+text\",\"showlegend\":false,\"text\":[\"Score: 6\"],\"textposition\":\"top right\",\"x\":[0],\"y\":[6],\"type\":\"scatter\",\"textfont\":{\"size\":14}},{\"marker\":{\"size\":[0]},\"mode\":\"lines+markers+text\",\"showlegend\":false,\"text\":[\"Score: 7\"],\"textposition\":\"top right\",\"x\":[0],\"y\":[7],\"type\":\"scatter\",\"textfont\":{\"size\":14}},{\"marker\":{\"size\":[0]},\"mode\":\"lines+markers+text\",\"showlegend\":false,\"text\":[\"Score: 11\"],\"textposition\":\"top right\",\"x\":[0],\"y\":[8],\"type\":\"scatter\",\"textfont\":{\"size\":14}},{\"marker\":{\"size\":[0]},\"mode\":\"lines+markers+text\",\"showlegend\":false,\"text\":[\"Score: 12\"],\"textposition\":\"top right\",\"x\":[0],\"y\":[9],\"type\":\"scatter\",\"textfont\":{\"size\":14}},{\"marker\":{\"size\":[0]},\"mode\":\"lines+markers+text\",\"showlegend\":false,\"text\":[\"Score: 16\"],\"textposition\":\"top right\",\"x\":[0],\"y\":[10],\"type\":\"scatter\",\"textfont\":{\"size\":14}},{\"marker\":{\"size\":[0]},\"mode\":\"lines+markers+text\",\"showlegend\":false,\"text\":[\"Score: 22\"],\"textposition\":\"top right\",\"x\":[0],\"y\":[11],\"type\":\"scatter\",\"textfont\":{\"size\":14}},{\"marker\":{\"size\":[0]},\"mode\":\"lines+markers+text\",\"showlegend\":false,\"text\":[\"Score: 25\"],\"textposition\":\"top right\",\"x\":[0],\"y\":[12],\"type\":\"scatter\",\"textfont\":{\"size\":14}},{\"marker\":{\"size\":[0]},\"mode\":\"lines+markers+text\",\"showlegend\":false,\"text\":[\"Score: 26\"],\"textposition\":\"top right\",\"x\":[0],\"y\":[13],\"type\":\"scatter\",\"textfont\":{\"size\":14}},{\"marker\":{\"size\":[0]},\"mode\":\"lines+markers+text\",\"showlegend\":false,\"text\":[\"Score: 26\"],\"textposition\":\"top right\",\"x\":[0],\"y\":[14],\"type\":\"scatter\",\"textfont\":{\"size\":14}},{\"marker\":{\"size\":[0]},\"mode\":\"lines+markers+text\",\"showlegend\":false,\"text\":[\"Score: 27\"],\"textposition\":\"top right\",\"x\":[0],\"y\":[15],\"type\":\"scatter\",\"textfont\":{\"size\":14}},{\"marker\":{\"size\":[0]},\"mode\":\"lines+markers+text\",\"showlegend\":false,\"text\":[\"Score: 28\"],\"textposition\":\"top right\",\"x\":[0],\"y\":[16],\"type\":\"scatter\",\"textfont\":{\"size\":14}},{\"marker\":{\"size\":[0]},\"mode\":\"lines+markers+text\",\"showlegend\":false,\"text\":[\"Score: 30\"],\"textposition\":\"top right\",\"x\":[0],\"y\":[17],\"type\":\"scatter\",\"textfont\":{\"size\":14}},{\"marker\":{\"size\":[0]},\"mode\":\"lines+markers+text\",\"showlegend\":false,\"text\":[\"Score: 30\"],\"textposition\":\"top right\",\"x\":[0],\"y\":[18],\"type\":\"scatter\",\"textfont\":{\"size\":14}},{\"marker\":{\"size\":[0]},\"mode\":\"lines+markers+text\",\"showlegend\":false,\"text\":[\"Score: 32\"],\"textposition\":\"top right\",\"x\":[0],\"y\":[19],\"type\":\"scatter\",\"textfont\":{\"size\":14}},{\"marker\":{\"size\":[0]},\"mode\":\"lines+markers+text\",\"showlegend\":false,\"text\":[\"Score: 33\"],\"textposition\":\"top right\",\"x\":[0],\"y\":[20],\"type\":\"scatter\",\"textfont\":{\"size\":14}},{\"marker\":{\"size\":[0]},\"mode\":\"lines+markers+text\",\"showlegend\":false,\"text\":[\"Score: 33\"],\"textposition\":\"top right\",\"x\":[0],\"y\":[21],\"type\":\"scatter\",\"textfont\":{\"size\":14}},{\"marker\":{\"size\":[0]},\"mode\":\"lines+markers+text\",\"showlegend\":false,\"text\":[\"Score: 34\"],\"textposition\":\"top right\",\"x\":[0],\"y\":[22],\"type\":\"scatter\",\"textfont\":{\"size\":14}},{\"marker\":{\"size\":[0]},\"mode\":\"lines+markers+text\",\"showlegend\":false,\"text\":[\"Score: 34\"],\"textposition\":\"top right\",\"x\":[0],\"y\":[23],\"type\":\"scatter\",\"textfont\":{\"size\":14}},{\"marker\":{\"size\":[0]},\"mode\":\"lines+markers+text\",\"showlegend\":false,\"text\":[\"Score: 34\"],\"textposition\":\"top right\",\"x\":[0],\"y\":[24],\"type\":\"scatter\",\"textfont\":{\"size\":14}},{\"marker\":{\"size\":[0]},\"mode\":\"lines+markers+text\",\"showlegend\":false,\"text\":[\"Score: 34\"],\"textposition\":\"top right\",\"x\":[0],\"y\":[25],\"type\":\"scatter\",\"textfont\":{\"size\":14}},{\"marker\":{\"size\":[0]},\"mode\":\"lines+markers+text\",\"showlegend\":false,\"text\":[\"Score: 34\"],\"textposition\":\"top right\",\"x\":[0],\"y\":[26],\"type\":\"scatter\",\"textfont\":{\"size\":14}},{\"marker\":{\"color\":\"red\",\"size\":[0]},\"name\":\"Spiser ofte k\\u00f8d, k\\u00f8dp\\u00e5l\\u00e6g, fjerkr\\u00e6 og/eller fisk (hver dag eller n\\u00e6sten hver dag)\",\"x\":[0],\"y\":[0],\"type\":\"scatter\"},{\"marker\":{\"color\":\"turquoise\",\"size\":[0]},\"name\":\"Spiser fisk, men derudover kun vegetarisk, aldrig k\\u00f8d, k\\u00f8dp\\u00e5l\\u00e6g og fjerkr\\u00e6\",\"x\":[0],\"y\":[0],\"type\":\"scatter\"},{\"marker\":{\"color\":\"blue\",\"size\":[0]},\"name\":\"Spiser vegetarisk mindst halvdelen af ugens dage, de \\u00f8vrige dage k\\u00f8d, fjerkr\\u00e6 og/eller fisk\",\"x\":[0],\"y\":[0],\"type\":\"scatter\"},{\"marker\":{\"color\":\"rgb(180, 240, 120)\",\"size\":[0]},\"name\":\"Spiser kun vegetarisk, sj\\u00e6ldent m\\u00e6lkeprodukter og \\u00e6g\",\"x\":[0],\"y\":[0],\"type\":\"scatter\"},{\"marker\":{\"color\":\"rgb(140,190,84)\",\"size\":[0]},\"name\":\"Spiser kun vegetarisk, aldrig k\\u00f8d, k\\u00f8dp\\u00e5l\\u00e6g, fjerkr\\u00e6 og fisk\",\"x\":[0],\"y\":[0],\"type\":\"scatter\"},{\"marker\":{\"color\":\"rgb(16,114,60)\",\"size\":[0]},\"name\":\"Spiser kun vegansk\",\"x\":[0],\"y\":[0],\"type\":\"scatter\"},{\"marker\":{\"color\":\"grey\",\"size\":[0]},\"name\":\"\\u00d8nsker ikke at svare\",\"x\":[0],\"y\":[0],\"type\":\"scatter\"}],                        {\"template\":{\"data\":{\"histogram2dcontour\":[{\"type\":\"histogram2dcontour\",\"colorbar\":{\"outlinewidth\":0,\"ticks\":\"\"},\"colorscale\":[[0.0,\"#0d0887\"],[0.1111111111111111,\"#46039f\"],[0.2222222222222222,\"#7201a8\"],[0.3333333333333333,\"#9c179e\"],[0.4444444444444444,\"#bd3786\"],[0.5555555555555556,\"#d8576b\"],[0.6666666666666666,\"#ed7953\"],[0.7777777777777778,\"#fb9f3a\"],[0.8888888888888888,\"#fdca26\"],[1.0,\"#f0f921\"]]}],\"choropleth\":[{\"type\":\"choropleth\",\"colorbar\":{\"outlinewidth\":0,\"ticks\":\"\"}}],\"histogram2d\":[{\"type\":\"histogram2d\",\"colorbar\":{\"outlinewidth\":0,\"ticks\":\"\"},\"colorscale\":[[0.0,\"#0d0887\"],[0.1111111111111111,\"#46039f\"],[0.2222222222222222,\"#7201a8\"],[0.3333333333333333,\"#9c179e\"],[0.4444444444444444,\"#bd3786\"],[0.5555555555555556,\"#d8576b\"],[0.6666666666666666,\"#ed7953\"],[0.7777777777777778,\"#fb9f3a\"],[0.8888888888888888,\"#fdca26\"],[1.0,\"#f0f921\"]]}],\"heatmap\":[{\"type\":\"heatmap\",\"colorbar\":{\"outlinewidth\":0,\"ticks\":\"\"},\"colorscale\":[[0.0,\"#0d0887\"],[0.1111111111111111,\"#46039f\"],[0.2222222222222222,\"#7201a8\"],[0.3333333333333333,\"#9c179e\"],[0.4444444444444444,\"#bd3786\"],[0.5555555555555556,\"#d8576b\"],[0.6666666666666666,\"#ed7953\"],[0.7777777777777778,\"#fb9f3a\"],[0.8888888888888888,\"#fdca26\"],[1.0,\"#f0f921\"]]}],\"heatmapgl\":[{\"type\":\"heatmapgl\",\"colorbar\":{\"outlinewidth\":0,\"ticks\":\"\"},\"colorscale\":[[0.0,\"#0d0887\"],[0.1111111111111111,\"#46039f\"],[0.2222222222222222,\"#7201a8\"],[0.3333333333333333,\"#9c179e\"],[0.4444444444444444,\"#bd3786\"],[0.5555555555555556,\"#d8576b\"],[0.6666666666666666,\"#ed7953\"],[0.7777777777777778,\"#fb9f3a\"],[0.8888888888888888,\"#fdca26\"],[1.0,\"#f0f921\"]]}],\"contourcarpet\":[{\"type\":\"contourcarpet\",\"colorbar\":{\"outlinewidth\":0,\"ticks\":\"\"}}],\"contour\":[{\"type\":\"contour\",\"colorbar\":{\"outlinewidth\":0,\"ticks\":\"\"},\"colorscale\":[[0.0,\"#0d0887\"],[0.1111111111111111,\"#46039f\"],[0.2222222222222222,\"#7201a8\"],[0.3333333333333333,\"#9c179e\"],[0.4444444444444444,\"#bd3786\"],[0.5555555555555556,\"#d8576b\"],[0.6666666666666666,\"#ed7953\"],[0.7777777777777778,\"#fb9f3a\"],[0.8888888888888888,\"#fdca26\"],[1.0,\"#f0f921\"]]}],\"surface\":[{\"type\":\"surface\",\"colorbar\":{\"outlinewidth\":0,\"ticks\":\"\"},\"colorscale\":[[0.0,\"#0d0887\"],[0.1111111111111111,\"#46039f\"],[0.2222222222222222,\"#7201a8\"],[0.3333333333333333,\"#9c179e\"],[0.4444444444444444,\"#bd3786\"],[0.5555555555555556,\"#d8576b\"],[0.6666666666666666,\"#ed7953\"],[0.7777777777777778,\"#fb9f3a\"],[0.8888888888888888,\"#fdca26\"],[1.0,\"#f0f921\"]]}],\"mesh3d\":[{\"type\":\"mesh3d\",\"colorbar\":{\"outlinewidth\":0,\"ticks\":\"\"}}],\"scatter\":[{\"fillpattern\":{\"fillmode\":\"overlay\",\"size\":10,\"solidity\":0.2},\"type\":\"scatter\"}],\"parcoords\":[{\"type\":\"parcoords\",\"line\":{\"colorbar\":{\"outlinewidth\":0,\"ticks\":\"\"}}}],\"scatterpolargl\":[{\"type\":\"scatterpolargl\",\"marker\":{\"colorbar\":{\"outlinewidth\":0,\"ticks\":\"\"}}}],\"bar\":[{\"error_x\":{\"color\":\"#2a3f5f\"},\"error_y\":{\"color\":\"#2a3f5f\"},\"marker\":{\"line\":{\"color\":\"#E5ECF6\",\"width\":0.5},\"pattern\":{\"fillmode\":\"overlay\",\"size\":10,\"solidity\":0.2}},\"type\":\"bar\"}],\"scattergeo\":[{\"type\":\"scattergeo\",\"marker\":{\"colorbar\":{\"outlinewidth\":0,\"ticks\":\"\"}}}],\"scatterpolar\":[{\"type\":\"scatterpolar\",\"marker\":{\"colorbar\":{\"outlinewidth\":0,\"ticks\":\"\"}}}],\"histogram\":[{\"marker\":{\"pattern\":{\"fillmode\":\"overlay\",\"size\":10,\"solidity\":0.2}},\"type\":\"histogram\"}],\"scattergl\":[{\"type\":\"scattergl\",\"marker\":{\"colorbar\":{\"outlinewidth\":0,\"ticks\":\"\"}}}],\"scatter3d\":[{\"type\":\"scatter3d\",\"line\":{\"colorbar\":{\"outlinewidth\":0,\"ticks\":\"\"}},\"marker\":{\"colorbar\":{\"outlinewidth\":0,\"ticks\":\"\"}}}],\"scattermapbox\":[{\"type\":\"scattermapbox\",\"marker\":{\"colorbar\":{\"outlinewidth\":0,\"ticks\":\"\"}}}],\"scatterternary\":[{\"type\":\"scatterternary\",\"marker\":{\"colorbar\":{\"outlinewidth\":0,\"ticks\":\"\"}}}],\"scattercarpet\":[{\"type\":\"scattercarpet\",\"marker\":{\"colorbar\":{\"outlinewidth\":0,\"ticks\":\"\"}}}],\"carpet\":[{\"aaxis\":{\"endlinecolor\":\"#2a3f5f\",\"gridcolor\":\"white\",\"linecolor\":\"white\",\"minorgridcolor\":\"white\",\"startlinecolor\":\"#2a3f5f\"},\"baxis\":{\"endlinecolor\":\"#2a3f5f\",\"gridcolor\":\"white\",\"linecolor\":\"white\",\"minorgridcolor\":\"white\",\"startlinecolor\":\"#2a3f5f\"},\"type\":\"carpet\"}],\"table\":[{\"cells\":{\"fill\":{\"color\":\"#EBF0F8\"},\"line\":{\"color\":\"white\"}},\"header\":{\"fill\":{\"color\":\"#C8D4E3\"},\"line\":{\"color\":\"white\"}},\"type\":\"table\"}],\"barpolar\":[{\"marker\":{\"line\":{\"color\":\"#E5ECF6\",\"width\":0.5},\"pattern\":{\"fillmode\":\"overlay\",\"size\":10,\"solidity\":0.2}},\"type\":\"barpolar\"}],\"pie\":[{\"automargin\":true,\"type\":\"pie\"}]},\"layout\":{\"autotypenumbers\":\"strict\",\"colorway\":[\"#636efa\",\"#EF553B\",\"#00cc96\",\"#ab63fa\",\"#FFA15A\",\"#19d3f3\",\"#FF6692\",\"#B6E880\",\"#FF97FF\",\"#FECB52\"],\"font\":{\"color\":\"#2a3f5f\"},\"hovermode\":\"closest\",\"hoverlabel\":{\"align\":\"left\"},\"paper_bgcolor\":\"white\",\"plot_bgcolor\":\"#E5ECF6\",\"polar\":{\"bgcolor\":\"#E5ECF6\",\"angularaxis\":{\"gridcolor\":\"white\",\"linecolor\":\"white\",\"ticks\":\"\"},\"radialaxis\":{\"gridcolor\":\"white\",\"linecolor\":\"white\",\"ticks\":\"\"}},\"ternary\":{\"bgcolor\":\"#E5ECF6\",\"aaxis\":{\"gridcolor\":\"white\",\"linecolor\":\"white\",\"ticks\":\"\"},\"baxis\":{\"gridcolor\":\"white\",\"linecolor\":\"white\",\"ticks\":\"\"},\"caxis\":{\"gridcolor\":\"white\",\"linecolor\":\"white\",\"ticks\":\"\"}},\"coloraxis\":{\"colorbar\":{\"outlinewidth\":0,\"ticks\":\"\"}},\"colorscale\":{\"sequential\":[[0.0,\"#0d0887\"],[0.1111111111111111,\"#46039f\"],[0.2222222222222222,\"#7201a8\"],[0.3333333333333333,\"#9c179e\"],[0.4444444444444444,\"#bd3786\"],[0.5555555555555556,\"#d8576b\"],[0.6666666666666666,\"#ed7953\"],[0.7777777777777778,\"#fb9f3a\"],[0.8888888888888888,\"#fdca26\"],[1.0,\"#f0f921\"]],\"sequentialminus\":[[0.0,\"#0d0887\"],[0.1111111111111111,\"#46039f\"],[0.2222222222222222,\"#7201a8\"],[0.3333333333333333,\"#9c179e\"],[0.4444444444444444,\"#bd3786\"],[0.5555555555555556,\"#d8576b\"],[0.6666666666666666,\"#ed7953\"],[0.7777777777777778,\"#fb9f3a\"],[0.8888888888888888,\"#fdca26\"],[1.0,\"#f0f921\"]],\"diverging\":[[0,\"#8e0152\"],[0.1,\"#c51b7d\"],[0.2,\"#de77ae\"],[0.3,\"#f1b6da\"],[0.4,\"#fde0ef\"],[0.5,\"#f7f7f7\"],[0.6,\"#e6f5d0\"],[0.7,\"#b8e186\"],[0.8,\"#7fbc41\"],[0.9,\"#4d9221\"],[1,\"#276419\"]]},\"xaxis\":{\"gridcolor\":\"white\",\"linecolor\":\"white\",\"ticks\":\"\",\"title\":{\"standoff\":15},\"zerolinecolor\":\"white\",\"automargin\":true,\"zerolinewidth\":2},\"yaxis\":{\"gridcolor\":\"white\",\"linecolor\":\"white\",\"ticks\":\"\",\"title\":{\"standoff\":15},\"zerolinecolor\":\"white\",\"automargin\":true,\"zerolinewidth\":2},\"scene\":{\"xaxis\":{\"backgroundcolor\":\"#E5ECF6\",\"gridcolor\":\"white\",\"linecolor\":\"white\",\"showbackground\":true,\"ticks\":\"\",\"zerolinecolor\":\"white\",\"gridwidth\":2},\"yaxis\":{\"backgroundcolor\":\"#E5ECF6\",\"gridcolor\":\"white\",\"linecolor\":\"white\",\"showbackground\":true,\"ticks\":\"\",\"zerolinecolor\":\"white\",\"gridwidth\":2},\"zaxis\":{\"backgroundcolor\":\"#E5ECF6\",\"gridcolor\":\"white\",\"linecolor\":\"white\",\"showbackground\":true,\"ticks\":\"\",\"zerolinecolor\":\"white\",\"gridwidth\":2}},\"shapedefaults\":{\"line\":{\"color\":\"#2a3f5f\"}},\"annotationdefaults\":{\"arrowcolor\":\"#2a3f5f\",\"arrowhead\":0,\"arrowwidth\":1},\"geo\":{\"bgcolor\":\"white\",\"landcolor\":\"#E5ECF6\",\"subunitcolor\":\"white\",\"showland\":true,\"showlakes\":true,\"lakecolor\":\"white\"},\"title\":{\"x\":0.05},\"mapbox\":{\"style\":\"light\"}}},\"yaxis\":{\"tickfont\":{\"size\":20},\"tickmode\":\"array\",\"tickvals\":[0,1,2,3,4,5,6,7,8,9,10,11,12,13,14,15,16,17,18,19,20,21,22,23,24,25,26],\"ticktext\":[\"Nikolaj Leed Henriksen (V.)\",\"Malte J\\u00e4ger (D.)\",\"Melanie J\\u00f8rgensen (D.)\",\"Jonas Ren\\u00e9 Jensen (D.)\",\"Kenneth Bjerg Andersen (M.)\",\"Rebecha Foged (D.)\",\"Henrik T\\u00f8rnqvist Lauridsen  (D.)\",\"Reza Javid (\\u00d8.)\",\"Katrine Wulff (F.)\",\"Nynne Printz (F.)\",\"Gert Dyrn (K.)\",\"Jonas Hulgaard Ammundsen (F.)\",\"Mads Madsen Henriksen (A.)\",\"Jan Werner Mathiasen (B.)\",\"Bodil Marie Helbo (\\u00c5.)\",\"Niels Bjarne Lund (\\u00d8.)\",\"Henrik Boye (\\u00c5.)\",\"Victoria B\\u00f8gh Salo (\\u00d8.)\",\"Vibeke Syppli Enrum (\\u00d8.)\",\"Mette Rahbek (\\u00c5.)\",\"Ole Dupont Kofod (\\u00c5.)\",\"Nishan Ganesh (Q.)\",\"Simon Nyborg Jensen (\\u00c5.)\",\"Martin Kj\\u00e6rulff (\\u00c5.)\",\"Linda Fr\\u00f8lund Hansen (\\u00c5.)\",\"Kasper Krebs (\\u00c5.)\",\"Anna Astrid H\\u00f8y-Nielsen (\\u00c5.)\"]},\"title\":{\"text\":\"Kandidater for Fyns Storkreds\"},\"legend\":{\"itemsizing\":\"constant\",\"orientation\":\"h\",\"yanchor\":\"bottom\",\"y\":-0.135,\"xanchor\":\"right\",\"x\":0.88},\"height\":1500},                        {\"responsive\": true}                    ).then(function(){\n",
       "                            \n",
       "var gd = document.getElementById('e5fa84c1-5a4f-4dbd-b4c8-2a45427368aa');\n",
       "var x = new MutationObserver(function (mutations, observer) {{\n",
       "        var display = window.getComputedStyle(gd).display;\n",
       "        if (!display || display === 'none') {{\n",
       "            console.log([gd, 'removed!']);\n",
       "            Plotly.purge(gd);\n",
       "            observer.disconnect();\n",
       "        }}\n",
       "}});\n",
       "\n",
       "// Listen for the removal of the full notebook cells\n",
       "var notebookContainer = gd.closest('#notebook-container');\n",
       "if (notebookContainer) {{\n",
       "    x.observe(notebookContainer, {childList: true});\n",
       "}}\n",
       "\n",
       "// Listen for the clearing of the current output cell\n",
       "var outputEl = gd.closest('.output');\n",
       "if (outputEl) {{\n",
       "    x.observe(outputEl, {childList: true});\n",
       "}}\n",
       "\n",
       "                        })                };                });            </script>        </div>"
      ]
     },
     "metadata": {},
     "output_type": "display_data"
    }
   ],
   "source": [
    "\n",
    "fig = go.Figure()\n",
    "df_temp = df_nameIndex[df_nameIndex[\"Storkreds\"]==value]\n",
    "# df_temp[\"Navn\"] = df_temp.index\n",
    "df_temp = df_temp.sort_values([\"Score\", \"Navn\"], ascending = [True, False])\n",
    "lollipopRange = len(df_temp)*2\n",
    "\n",
    "\n",
    "for j, mean in enumerate(df_temp[\"Score\"]):\n",
    "    candidate = df_temp.index[j]\n",
    "    fig.add_trace(go.Scatter(y=[j,j],x=[0,mean],\n",
    "                             marker_size = [0,12],\n",
    "                             marker_color = df_temp[\"Kost_color\"][j],\n",
    "                             line=go.scatter.Line(color=veggieGreen),\n",
    "                             showlegend=False,\n",
    "                             hoverinfo=[\"none\",\"x+y+text\"],\n",
    "\n",
    "                             )\n",
    "                  )\n",
    "\n",
    "\n",
    "for i, score in enumerate(df_temp[\"Score\"]):\n",
    "    fig.add_trace(go.Scatter(x=[0],y=[i],\n",
    "                             marker_size = [0],\n",
    "                             mode=\"lines+markers+text\",\n",
    "                             text = [f\"Score: {str(score)}\"],\n",
    "                             textposition=\"top right\",\n",
    "                             showlegend=False\n",
    "                            ))\n",
    "fig.update_traces(textfont_size=14)\n",
    "    \n",
    "# Adding a hidden scatterplot to add a legend with the dietary choices of the candidates\n",
    "for k, v in kost_color.items():\n",
    "    fig.add_trace(go.Scatter(x=[0],y=[0],\n",
    "                             marker_size = [0],\n",
    "                             marker_color = v,\n",
    "                             name=k\n",
    "                            ))\n",
    "\n",
    "tickvals_ = list(range(len(df_temp)))\n",
    "ticktext_ = list(df_temp.index)\n",
    "fig.update_layout(\n",
    "    yaxis = dict(\n",
    "        tickfont = dict(size = 20),\n",
    "        tickmode = \"array\",\n",
    "\n",
    "        tickvals = tickvals_,\n",
    "        ticktext = ticktext_),\n",
    "    title = {\"text\":f\"Kandidater for {value}\"}\n",
    "    )    \n",
    "\n",
    "\n",
    "\n",
    "fig.update_layout(legend= {'itemsizing': 'constant',\n",
    "                           \"orientation\" : \"h\",\n",
    "                           \"yanchor\" : \"bottom\",\n",
    "                           \"y\":-0.135,\n",
    "                           \"xanchor\" : \"right\",\n",
    "                           \"x\" : 0.88\n",
    "                           })\n",
    "\n",
    "\n",
    "fig.update_layout(\n",
    "    height=1500)\n",
    "\n",
    "fig.show()"
   ]
  },
  {
   "cell_type": "code",
   "execution_count": 49,
   "id": "cd2042d1",
   "metadata": {},
   "outputs": [
    {
     "data": {
      "application/vnd.plotly.v1+json": {
       "config": {
        "plotlyServerURL": "https://plot.ly"
       },
       "data": [
        {
         "branchvalues": "total",
         "insidetextorientation": "radial",
         "labels": [
          "Enig",
          "Delvist Enig",
          "Ved ikke",
          "Uenig",
          "Anna Astrid Høy-Nielsen (Å.)",
          "Simon Nyborg Jensen (Å.)",
          "Ole Dupont Kofod (Å.)",
          "Mette Rahbek (Å.)",
          "Martin Kjærulff (Å.)",
          "Vibeke Syppli Enrum (Ø.)",
          "Linda Frølund Hansen (Å.)",
          "Kasper Krebs (Å.)",
          "Victoria Bøgh Salo (Ø.)",
          "Bodil Marie Helbo (Å.)",
          "Henrik Boye (Å.)",
          "Katrine Wulff (F.)",
          "Gert Dyrn (K.)",
          "Nynne Printz (F.)",
          "Nishan Ganesh (Q.)",
          "Niels Bjarne Lund (Ø.)",
          "Henrik Tørnqvist Lauridsen  (D.)",
          "Jan Werner Mathiasen (B.)",
          "Mads Madsen Henriksen (A.)",
          "Jonas Hulgaard Ammundsen (F.)",
          "Jonas René Jensen (D.)",
          "Melanie Jørgensen (D.)",
          "Malte Jäger (D.)",
          "Nikolaj Leed Henriksen (V.)",
          "Rebecha Foged (D.)",
          "Reza Javid (Ø.)",
          "Kenneth Bjerg Andersen (M.)"
         ],
         "marker": {
          "colors": [
           "rgb(15,122,55)",
           "rgb(169,220,163)",
           "rgb(218,241,212)",
           "white"
          ]
         },
         "parents": [
          "",
          "",
          "",
          "",
          "Enig",
          "Enig",
          "Enig",
          "Enig",
          "Enig",
          "Enig",
          "Enig",
          "Enig",
          "Enig",
          "Enig",
          "Enig",
          "Delvist Enig",
          "Delvist Enig",
          "Delvist Enig",
          "Delvist Enig",
          "Delvist Enig",
          "Delvist Enig",
          "Delvist Enig",
          "Delvist Enig",
          "Delvist Enig",
          "Uenig",
          "Uenig",
          "Uenig",
          "Ved ikke",
          "Ved ikke",
          "Ved ikke",
          "Ved ikke"
         ],
         "type": "sunburst",
         "values": [
          11,
          9,
          4,
          3,
          1,
          1,
          1,
          1,
          1,
          1,
          1,
          1,
          1,
          1,
          1,
          1,
          1,
          1,
          1,
          1,
          1,
          1,
          1,
          1,
          1,
          1,
          1,
          1,
          1,
          1,
          1
         ]
        }
       ],
       "layout": {
        "autosize": false,
        "height": 720,
        "template": {
         "data": {
          "bar": [
           {
            "error_x": {
             "color": "#2a3f5f"
            },
            "error_y": {
             "color": "#2a3f5f"
            },
            "marker": {
             "line": {
              "color": "#E5ECF6",
              "width": 0.5
             },
             "pattern": {
              "fillmode": "overlay",
              "size": 10,
              "solidity": 0.2
             }
            },
            "type": "bar"
           }
          ],
          "barpolar": [
           {
            "marker": {
             "line": {
              "color": "#E5ECF6",
              "width": 0.5
             },
             "pattern": {
              "fillmode": "overlay",
              "size": 10,
              "solidity": 0.2
             }
            },
            "type": "barpolar"
           }
          ],
          "carpet": [
           {
            "aaxis": {
             "endlinecolor": "#2a3f5f",
             "gridcolor": "white",
             "linecolor": "white",
             "minorgridcolor": "white",
             "startlinecolor": "#2a3f5f"
            },
            "baxis": {
             "endlinecolor": "#2a3f5f",
             "gridcolor": "white",
             "linecolor": "white",
             "minorgridcolor": "white",
             "startlinecolor": "#2a3f5f"
            },
            "type": "carpet"
           }
          ],
          "choropleth": [
           {
            "colorbar": {
             "outlinewidth": 0,
             "ticks": ""
            },
            "type": "choropleth"
           }
          ],
          "contour": [
           {
            "colorbar": {
             "outlinewidth": 0,
             "ticks": ""
            },
            "colorscale": [
             [
              0,
              "#0d0887"
             ],
             [
              0.1111111111111111,
              "#46039f"
             ],
             [
              0.2222222222222222,
              "#7201a8"
             ],
             [
              0.3333333333333333,
              "#9c179e"
             ],
             [
              0.4444444444444444,
              "#bd3786"
             ],
             [
              0.5555555555555556,
              "#d8576b"
             ],
             [
              0.6666666666666666,
              "#ed7953"
             ],
             [
              0.7777777777777778,
              "#fb9f3a"
             ],
             [
              0.8888888888888888,
              "#fdca26"
             ],
             [
              1,
              "#f0f921"
             ]
            ],
            "type": "contour"
           }
          ],
          "contourcarpet": [
           {
            "colorbar": {
             "outlinewidth": 0,
             "ticks": ""
            },
            "type": "contourcarpet"
           }
          ],
          "heatmap": [
           {
            "colorbar": {
             "outlinewidth": 0,
             "ticks": ""
            },
            "colorscale": [
             [
              0,
              "#0d0887"
             ],
             [
              0.1111111111111111,
              "#46039f"
             ],
             [
              0.2222222222222222,
              "#7201a8"
             ],
             [
              0.3333333333333333,
              "#9c179e"
             ],
             [
              0.4444444444444444,
              "#bd3786"
             ],
             [
              0.5555555555555556,
              "#d8576b"
             ],
             [
              0.6666666666666666,
              "#ed7953"
             ],
             [
              0.7777777777777778,
              "#fb9f3a"
             ],
             [
              0.8888888888888888,
              "#fdca26"
             ],
             [
              1,
              "#f0f921"
             ]
            ],
            "type": "heatmap"
           }
          ],
          "heatmapgl": [
           {
            "colorbar": {
             "outlinewidth": 0,
             "ticks": ""
            },
            "colorscale": [
             [
              0,
              "#0d0887"
             ],
             [
              0.1111111111111111,
              "#46039f"
             ],
             [
              0.2222222222222222,
              "#7201a8"
             ],
             [
              0.3333333333333333,
              "#9c179e"
             ],
             [
              0.4444444444444444,
              "#bd3786"
             ],
             [
              0.5555555555555556,
              "#d8576b"
             ],
             [
              0.6666666666666666,
              "#ed7953"
             ],
             [
              0.7777777777777778,
              "#fb9f3a"
             ],
             [
              0.8888888888888888,
              "#fdca26"
             ],
             [
              1,
              "#f0f921"
             ]
            ],
            "type": "heatmapgl"
           }
          ],
          "histogram": [
           {
            "marker": {
             "pattern": {
              "fillmode": "overlay",
              "size": 10,
              "solidity": 0.2
             }
            },
            "type": "histogram"
           }
          ],
          "histogram2d": [
           {
            "colorbar": {
             "outlinewidth": 0,
             "ticks": ""
            },
            "colorscale": [
             [
              0,
              "#0d0887"
             ],
             [
              0.1111111111111111,
              "#46039f"
             ],
             [
              0.2222222222222222,
              "#7201a8"
             ],
             [
              0.3333333333333333,
              "#9c179e"
             ],
             [
              0.4444444444444444,
              "#bd3786"
             ],
             [
              0.5555555555555556,
              "#d8576b"
             ],
             [
              0.6666666666666666,
              "#ed7953"
             ],
             [
              0.7777777777777778,
              "#fb9f3a"
             ],
             [
              0.8888888888888888,
              "#fdca26"
             ],
             [
              1,
              "#f0f921"
             ]
            ],
            "type": "histogram2d"
           }
          ],
          "histogram2dcontour": [
           {
            "colorbar": {
             "outlinewidth": 0,
             "ticks": ""
            },
            "colorscale": [
             [
              0,
              "#0d0887"
             ],
             [
              0.1111111111111111,
              "#46039f"
             ],
             [
              0.2222222222222222,
              "#7201a8"
             ],
             [
              0.3333333333333333,
              "#9c179e"
             ],
             [
              0.4444444444444444,
              "#bd3786"
             ],
             [
              0.5555555555555556,
              "#d8576b"
             ],
             [
              0.6666666666666666,
              "#ed7953"
             ],
             [
              0.7777777777777778,
              "#fb9f3a"
             ],
             [
              0.8888888888888888,
              "#fdca26"
             ],
             [
              1,
              "#f0f921"
             ]
            ],
            "type": "histogram2dcontour"
           }
          ],
          "mesh3d": [
           {
            "colorbar": {
             "outlinewidth": 0,
             "ticks": ""
            },
            "type": "mesh3d"
           }
          ],
          "parcoords": [
           {
            "line": {
             "colorbar": {
              "outlinewidth": 0,
              "ticks": ""
             }
            },
            "type": "parcoords"
           }
          ],
          "pie": [
           {
            "automargin": true,
            "type": "pie"
           }
          ],
          "scatter": [
           {
            "fillpattern": {
             "fillmode": "overlay",
             "size": 10,
             "solidity": 0.2
            },
            "type": "scatter"
           }
          ],
          "scatter3d": [
           {
            "line": {
             "colorbar": {
              "outlinewidth": 0,
              "ticks": ""
             }
            },
            "marker": {
             "colorbar": {
              "outlinewidth": 0,
              "ticks": ""
             }
            },
            "type": "scatter3d"
           }
          ],
          "scattercarpet": [
           {
            "marker": {
             "colorbar": {
              "outlinewidth": 0,
              "ticks": ""
             }
            },
            "type": "scattercarpet"
           }
          ],
          "scattergeo": [
           {
            "marker": {
             "colorbar": {
              "outlinewidth": 0,
              "ticks": ""
             }
            },
            "type": "scattergeo"
           }
          ],
          "scattergl": [
           {
            "marker": {
             "colorbar": {
              "outlinewidth": 0,
              "ticks": ""
             }
            },
            "type": "scattergl"
           }
          ],
          "scattermapbox": [
           {
            "marker": {
             "colorbar": {
              "outlinewidth": 0,
              "ticks": ""
             }
            },
            "type": "scattermapbox"
           }
          ],
          "scatterpolar": [
           {
            "marker": {
             "colorbar": {
              "outlinewidth": 0,
              "ticks": ""
             }
            },
            "type": "scatterpolar"
           }
          ],
          "scatterpolargl": [
           {
            "marker": {
             "colorbar": {
              "outlinewidth": 0,
              "ticks": ""
             }
            },
            "type": "scatterpolargl"
           }
          ],
          "scatterternary": [
           {
            "marker": {
             "colorbar": {
              "outlinewidth": 0,
              "ticks": ""
             }
            },
            "type": "scatterternary"
           }
          ],
          "surface": [
           {
            "colorbar": {
             "outlinewidth": 0,
             "ticks": ""
            },
            "colorscale": [
             [
              0,
              "#0d0887"
             ],
             [
              0.1111111111111111,
              "#46039f"
             ],
             [
              0.2222222222222222,
              "#7201a8"
             ],
             [
              0.3333333333333333,
              "#9c179e"
             ],
             [
              0.4444444444444444,
              "#bd3786"
             ],
             [
              0.5555555555555556,
              "#d8576b"
             ],
             [
              0.6666666666666666,
              "#ed7953"
             ],
             [
              0.7777777777777778,
              "#fb9f3a"
             ],
             [
              0.8888888888888888,
              "#fdca26"
             ],
             [
              1,
              "#f0f921"
             ]
            ],
            "type": "surface"
           }
          ],
          "table": [
           {
            "cells": {
             "fill": {
              "color": "#EBF0F8"
             },
             "line": {
              "color": "white"
             }
            },
            "header": {
             "fill": {
              "color": "#C8D4E3"
             },
             "line": {
              "color": "white"
             }
            },
            "type": "table"
           }
          ]
         },
         "layout": {
          "annotationdefaults": {
           "arrowcolor": "#2a3f5f",
           "arrowhead": 0,
           "arrowwidth": 1
          },
          "autotypenumbers": "strict",
          "coloraxis": {
           "colorbar": {
            "outlinewidth": 0,
            "ticks": ""
           }
          },
          "colorscale": {
           "diverging": [
            [
             0,
             "#8e0152"
            ],
            [
             0.1,
             "#c51b7d"
            ],
            [
             0.2,
             "#de77ae"
            ],
            [
             0.3,
             "#f1b6da"
            ],
            [
             0.4,
             "#fde0ef"
            ],
            [
             0.5,
             "#f7f7f7"
            ],
            [
             0.6,
             "#e6f5d0"
            ],
            [
             0.7,
             "#b8e186"
            ],
            [
             0.8,
             "#7fbc41"
            ],
            [
             0.9,
             "#4d9221"
            ],
            [
             1,
             "#276419"
            ]
           ],
           "sequential": [
            [
             0,
             "#0d0887"
            ],
            [
             0.1111111111111111,
             "#46039f"
            ],
            [
             0.2222222222222222,
             "#7201a8"
            ],
            [
             0.3333333333333333,
             "#9c179e"
            ],
            [
             0.4444444444444444,
             "#bd3786"
            ],
            [
             0.5555555555555556,
             "#d8576b"
            ],
            [
             0.6666666666666666,
             "#ed7953"
            ],
            [
             0.7777777777777778,
             "#fb9f3a"
            ],
            [
             0.8888888888888888,
             "#fdca26"
            ],
            [
             1,
             "#f0f921"
            ]
           ],
           "sequentialminus": [
            [
             0,
             "#0d0887"
            ],
            [
             0.1111111111111111,
             "#46039f"
            ],
            [
             0.2222222222222222,
             "#7201a8"
            ],
            [
             0.3333333333333333,
             "#9c179e"
            ],
            [
             0.4444444444444444,
             "#bd3786"
            ],
            [
             0.5555555555555556,
             "#d8576b"
            ],
            [
             0.6666666666666666,
             "#ed7953"
            ],
            [
             0.7777777777777778,
             "#fb9f3a"
            ],
            [
             0.8888888888888888,
             "#fdca26"
            ],
            [
             1,
             "#f0f921"
            ]
           ]
          },
          "colorway": [
           "#636efa",
           "#EF553B",
           "#00cc96",
           "#ab63fa",
           "#FFA15A",
           "#19d3f3",
           "#FF6692",
           "#B6E880",
           "#FF97FF",
           "#FECB52"
          ],
          "font": {
           "color": "#2a3f5f"
          },
          "geo": {
           "bgcolor": "white",
           "lakecolor": "white",
           "landcolor": "#E5ECF6",
           "showlakes": true,
           "showland": true,
           "subunitcolor": "white"
          },
          "hoverlabel": {
           "align": "left"
          },
          "hovermode": "closest",
          "mapbox": {
           "style": "light"
          },
          "paper_bgcolor": "white",
          "plot_bgcolor": "#E5ECF6",
          "polar": {
           "angularaxis": {
            "gridcolor": "white",
            "linecolor": "white",
            "ticks": ""
           },
           "bgcolor": "#E5ECF6",
           "radialaxis": {
            "gridcolor": "white",
            "linecolor": "white",
            "ticks": ""
           }
          },
          "scene": {
           "xaxis": {
            "backgroundcolor": "#E5ECF6",
            "gridcolor": "white",
            "gridwidth": 2,
            "linecolor": "white",
            "showbackground": true,
            "ticks": "",
            "zerolinecolor": "white"
           },
           "yaxis": {
            "backgroundcolor": "#E5ECF6",
            "gridcolor": "white",
            "gridwidth": 2,
            "linecolor": "white",
            "showbackground": true,
            "ticks": "",
            "zerolinecolor": "white"
           },
           "zaxis": {
            "backgroundcolor": "#E5ECF6",
            "gridcolor": "white",
            "gridwidth": 2,
            "linecolor": "white",
            "showbackground": true,
            "ticks": "",
            "zerolinecolor": "white"
           }
          },
          "shapedefaults": {
           "line": {
            "color": "#2a3f5f"
           }
          },
          "ternary": {
           "aaxis": {
            "gridcolor": "white",
            "linecolor": "white",
            "ticks": ""
           },
           "baxis": {
            "gridcolor": "white",
            "linecolor": "white",
            "ticks": ""
           },
           "bgcolor": "#E5ECF6",
           "caxis": {
            "gridcolor": "white",
            "linecolor": "white",
            "ticks": ""
           }
          },
          "title": {
           "x": 0.05
          },
          "xaxis": {
           "automargin": true,
           "gridcolor": "white",
           "linecolor": "white",
           "ticks": "",
           "title": {
            "standoff": 15
           },
           "zerolinecolor": "white",
           "zerolinewidth": 2
          },
          "yaxis": {
           "automargin": true,
           "gridcolor": "white",
           "linecolor": "white",
           "ticks": "",
           "title": {
            "standoff": 15
           },
           "zerolinecolor": "white",
           "zerolinewidth": 2
          }
         }
        },
        "width": 1200
       }
      },
      "text/html": [
       "<div>                            <div id=\"da81d942-73f1-4b0a-b23f-4a6bb62a9ba0\" class=\"plotly-graph-div\" style=\"height:720px; width:1200px;\"></div>            <script type=\"text/javascript\">                require([\"plotly\"], function(Plotly) {                    window.PLOTLYENV=window.PLOTLYENV || {};                                    if (document.getElementById(\"da81d942-73f1-4b0a-b23f-4a6bb62a9ba0\")) {                    Plotly.newPlot(                        \"da81d942-73f1-4b0a-b23f-4a6bb62a9ba0\",                        [{\"branchvalues\":\"total\",\"insidetextorientation\":\"radial\",\"labels\":[\"Enig\",\"Delvist Enig\",\"Ved ikke\",\"Uenig\",\"Anna Astrid H\\u00f8y-Nielsen (\\u00c5.)\",\"Simon Nyborg Jensen (\\u00c5.)\",\"Ole Dupont Kofod (\\u00c5.)\",\"Mette Rahbek (\\u00c5.)\",\"Martin Kj\\u00e6rulff (\\u00c5.)\",\"Vibeke Syppli Enrum (\\u00d8.)\",\"Linda Fr\\u00f8lund Hansen (\\u00c5.)\",\"Kasper Krebs (\\u00c5.)\",\"Victoria B\\u00f8gh Salo (\\u00d8.)\",\"Bodil Marie Helbo (\\u00c5.)\",\"Henrik Boye (\\u00c5.)\",\"Katrine Wulff (F.)\",\"Gert Dyrn (K.)\",\"Nynne Printz (F.)\",\"Nishan Ganesh (Q.)\",\"Niels Bjarne Lund (\\u00d8.)\",\"Henrik T\\u00f8rnqvist Lauridsen  (D.)\",\"Jan Werner Mathiasen (B.)\",\"Mads Madsen Henriksen (A.)\",\"Jonas Hulgaard Ammundsen (F.)\",\"Jonas Ren\\u00e9 Jensen (D.)\",\"Melanie J\\u00f8rgensen (D.)\",\"Malte J\\u00e4ger (D.)\",\"Nikolaj Leed Henriksen (V.)\",\"Rebecha Foged (D.)\",\"Reza Javid (\\u00d8.)\",\"Kenneth Bjerg Andersen (M.)\"],\"marker\":{\"colors\":[\"rgb(15,122,55)\",\"rgb(169,220,163)\",\"rgb(218,241,212)\",\"white\"]},\"parents\":[\"\",\"\",\"\",\"\",\"Enig\",\"Enig\",\"Enig\",\"Enig\",\"Enig\",\"Enig\",\"Enig\",\"Enig\",\"Enig\",\"Enig\",\"Enig\",\"Delvist Enig\",\"Delvist Enig\",\"Delvist Enig\",\"Delvist Enig\",\"Delvist Enig\",\"Delvist Enig\",\"Delvist Enig\",\"Delvist Enig\",\"Delvist Enig\",\"Uenig\",\"Uenig\",\"Uenig\",\"Ved ikke\",\"Ved ikke\",\"Ved ikke\",\"Ved ikke\"],\"values\":[11,9,4,3,1,1,1,1,1,1,1,1,1,1,1,1,1,1,1,1,1,1,1,1,1,1,1,1,1,1,1],\"type\":\"sunburst\"}],                        {\"template\":{\"data\":{\"histogram2dcontour\":[{\"type\":\"histogram2dcontour\",\"colorbar\":{\"outlinewidth\":0,\"ticks\":\"\"},\"colorscale\":[[0.0,\"#0d0887\"],[0.1111111111111111,\"#46039f\"],[0.2222222222222222,\"#7201a8\"],[0.3333333333333333,\"#9c179e\"],[0.4444444444444444,\"#bd3786\"],[0.5555555555555556,\"#d8576b\"],[0.6666666666666666,\"#ed7953\"],[0.7777777777777778,\"#fb9f3a\"],[0.8888888888888888,\"#fdca26\"],[1.0,\"#f0f921\"]]}],\"choropleth\":[{\"type\":\"choropleth\",\"colorbar\":{\"outlinewidth\":0,\"ticks\":\"\"}}],\"histogram2d\":[{\"type\":\"histogram2d\",\"colorbar\":{\"outlinewidth\":0,\"ticks\":\"\"},\"colorscale\":[[0.0,\"#0d0887\"],[0.1111111111111111,\"#46039f\"],[0.2222222222222222,\"#7201a8\"],[0.3333333333333333,\"#9c179e\"],[0.4444444444444444,\"#bd3786\"],[0.5555555555555556,\"#d8576b\"],[0.6666666666666666,\"#ed7953\"],[0.7777777777777778,\"#fb9f3a\"],[0.8888888888888888,\"#fdca26\"],[1.0,\"#f0f921\"]]}],\"heatmap\":[{\"type\":\"heatmap\",\"colorbar\":{\"outlinewidth\":0,\"ticks\":\"\"},\"colorscale\":[[0.0,\"#0d0887\"],[0.1111111111111111,\"#46039f\"],[0.2222222222222222,\"#7201a8\"],[0.3333333333333333,\"#9c179e\"],[0.4444444444444444,\"#bd3786\"],[0.5555555555555556,\"#d8576b\"],[0.6666666666666666,\"#ed7953\"],[0.7777777777777778,\"#fb9f3a\"],[0.8888888888888888,\"#fdca26\"],[1.0,\"#f0f921\"]]}],\"heatmapgl\":[{\"type\":\"heatmapgl\",\"colorbar\":{\"outlinewidth\":0,\"ticks\":\"\"},\"colorscale\":[[0.0,\"#0d0887\"],[0.1111111111111111,\"#46039f\"],[0.2222222222222222,\"#7201a8\"],[0.3333333333333333,\"#9c179e\"],[0.4444444444444444,\"#bd3786\"],[0.5555555555555556,\"#d8576b\"],[0.6666666666666666,\"#ed7953\"],[0.7777777777777778,\"#fb9f3a\"],[0.8888888888888888,\"#fdca26\"],[1.0,\"#f0f921\"]]}],\"contourcarpet\":[{\"type\":\"contourcarpet\",\"colorbar\":{\"outlinewidth\":0,\"ticks\":\"\"}}],\"contour\":[{\"type\":\"contour\",\"colorbar\":{\"outlinewidth\":0,\"ticks\":\"\"},\"colorscale\":[[0.0,\"#0d0887\"],[0.1111111111111111,\"#46039f\"],[0.2222222222222222,\"#7201a8\"],[0.3333333333333333,\"#9c179e\"],[0.4444444444444444,\"#bd3786\"],[0.5555555555555556,\"#d8576b\"],[0.6666666666666666,\"#ed7953\"],[0.7777777777777778,\"#fb9f3a\"],[0.8888888888888888,\"#fdca26\"],[1.0,\"#f0f921\"]]}],\"surface\":[{\"type\":\"surface\",\"colorbar\":{\"outlinewidth\":0,\"ticks\":\"\"},\"colorscale\":[[0.0,\"#0d0887\"],[0.1111111111111111,\"#46039f\"],[0.2222222222222222,\"#7201a8\"],[0.3333333333333333,\"#9c179e\"],[0.4444444444444444,\"#bd3786\"],[0.5555555555555556,\"#d8576b\"],[0.6666666666666666,\"#ed7953\"],[0.7777777777777778,\"#fb9f3a\"],[0.8888888888888888,\"#fdca26\"],[1.0,\"#f0f921\"]]}],\"mesh3d\":[{\"type\":\"mesh3d\",\"colorbar\":{\"outlinewidth\":0,\"ticks\":\"\"}}],\"scatter\":[{\"fillpattern\":{\"fillmode\":\"overlay\",\"size\":10,\"solidity\":0.2},\"type\":\"scatter\"}],\"parcoords\":[{\"type\":\"parcoords\",\"line\":{\"colorbar\":{\"outlinewidth\":0,\"ticks\":\"\"}}}],\"scatterpolargl\":[{\"type\":\"scatterpolargl\",\"marker\":{\"colorbar\":{\"outlinewidth\":0,\"ticks\":\"\"}}}],\"bar\":[{\"error_x\":{\"color\":\"#2a3f5f\"},\"error_y\":{\"color\":\"#2a3f5f\"},\"marker\":{\"line\":{\"color\":\"#E5ECF6\",\"width\":0.5},\"pattern\":{\"fillmode\":\"overlay\",\"size\":10,\"solidity\":0.2}},\"type\":\"bar\"}],\"scattergeo\":[{\"type\":\"scattergeo\",\"marker\":{\"colorbar\":{\"outlinewidth\":0,\"ticks\":\"\"}}}],\"scatterpolar\":[{\"type\":\"scatterpolar\",\"marker\":{\"colorbar\":{\"outlinewidth\":0,\"ticks\":\"\"}}}],\"histogram\":[{\"marker\":{\"pattern\":{\"fillmode\":\"overlay\",\"size\":10,\"solidity\":0.2}},\"type\":\"histogram\"}],\"scattergl\":[{\"type\":\"scattergl\",\"marker\":{\"colorbar\":{\"outlinewidth\":0,\"ticks\":\"\"}}}],\"scatter3d\":[{\"type\":\"scatter3d\",\"line\":{\"colorbar\":{\"outlinewidth\":0,\"ticks\":\"\"}},\"marker\":{\"colorbar\":{\"outlinewidth\":0,\"ticks\":\"\"}}}],\"scattermapbox\":[{\"type\":\"scattermapbox\",\"marker\":{\"colorbar\":{\"outlinewidth\":0,\"ticks\":\"\"}}}],\"scatterternary\":[{\"type\":\"scatterternary\",\"marker\":{\"colorbar\":{\"outlinewidth\":0,\"ticks\":\"\"}}}],\"scattercarpet\":[{\"type\":\"scattercarpet\",\"marker\":{\"colorbar\":{\"outlinewidth\":0,\"ticks\":\"\"}}}],\"carpet\":[{\"aaxis\":{\"endlinecolor\":\"#2a3f5f\",\"gridcolor\":\"white\",\"linecolor\":\"white\",\"minorgridcolor\":\"white\",\"startlinecolor\":\"#2a3f5f\"},\"baxis\":{\"endlinecolor\":\"#2a3f5f\",\"gridcolor\":\"white\",\"linecolor\":\"white\",\"minorgridcolor\":\"white\",\"startlinecolor\":\"#2a3f5f\"},\"type\":\"carpet\"}],\"table\":[{\"cells\":{\"fill\":{\"color\":\"#EBF0F8\"},\"line\":{\"color\":\"white\"}},\"header\":{\"fill\":{\"color\":\"#C8D4E3\"},\"line\":{\"color\":\"white\"}},\"type\":\"table\"}],\"barpolar\":[{\"marker\":{\"line\":{\"color\":\"#E5ECF6\",\"width\":0.5},\"pattern\":{\"fillmode\":\"overlay\",\"size\":10,\"solidity\":0.2}},\"type\":\"barpolar\"}],\"pie\":[{\"automargin\":true,\"type\":\"pie\"}]},\"layout\":{\"autotypenumbers\":\"strict\",\"colorway\":[\"#636efa\",\"#EF553B\",\"#00cc96\",\"#ab63fa\",\"#FFA15A\",\"#19d3f3\",\"#FF6692\",\"#B6E880\",\"#FF97FF\",\"#FECB52\"],\"font\":{\"color\":\"#2a3f5f\"},\"hovermode\":\"closest\",\"hoverlabel\":{\"align\":\"left\"},\"paper_bgcolor\":\"white\",\"plot_bgcolor\":\"#E5ECF6\",\"polar\":{\"bgcolor\":\"#E5ECF6\",\"angularaxis\":{\"gridcolor\":\"white\",\"linecolor\":\"white\",\"ticks\":\"\"},\"radialaxis\":{\"gridcolor\":\"white\",\"linecolor\":\"white\",\"ticks\":\"\"}},\"ternary\":{\"bgcolor\":\"#E5ECF6\",\"aaxis\":{\"gridcolor\":\"white\",\"linecolor\":\"white\",\"ticks\":\"\"},\"baxis\":{\"gridcolor\":\"white\",\"linecolor\":\"white\",\"ticks\":\"\"},\"caxis\":{\"gridcolor\":\"white\",\"linecolor\":\"white\",\"ticks\":\"\"}},\"coloraxis\":{\"colorbar\":{\"outlinewidth\":0,\"ticks\":\"\"}},\"colorscale\":{\"sequential\":[[0.0,\"#0d0887\"],[0.1111111111111111,\"#46039f\"],[0.2222222222222222,\"#7201a8\"],[0.3333333333333333,\"#9c179e\"],[0.4444444444444444,\"#bd3786\"],[0.5555555555555556,\"#d8576b\"],[0.6666666666666666,\"#ed7953\"],[0.7777777777777778,\"#fb9f3a\"],[0.8888888888888888,\"#fdca26\"],[1.0,\"#f0f921\"]],\"sequentialminus\":[[0.0,\"#0d0887\"],[0.1111111111111111,\"#46039f\"],[0.2222222222222222,\"#7201a8\"],[0.3333333333333333,\"#9c179e\"],[0.4444444444444444,\"#bd3786\"],[0.5555555555555556,\"#d8576b\"],[0.6666666666666666,\"#ed7953\"],[0.7777777777777778,\"#fb9f3a\"],[0.8888888888888888,\"#fdca26\"],[1.0,\"#f0f921\"]],\"diverging\":[[0,\"#8e0152\"],[0.1,\"#c51b7d\"],[0.2,\"#de77ae\"],[0.3,\"#f1b6da\"],[0.4,\"#fde0ef\"],[0.5,\"#f7f7f7\"],[0.6,\"#e6f5d0\"],[0.7,\"#b8e186\"],[0.8,\"#7fbc41\"],[0.9,\"#4d9221\"],[1,\"#276419\"]]},\"xaxis\":{\"gridcolor\":\"white\",\"linecolor\":\"white\",\"ticks\":\"\",\"title\":{\"standoff\":15},\"zerolinecolor\":\"white\",\"automargin\":true,\"zerolinewidth\":2},\"yaxis\":{\"gridcolor\":\"white\",\"linecolor\":\"white\",\"ticks\":\"\",\"title\":{\"standoff\":15},\"zerolinecolor\":\"white\",\"automargin\":true,\"zerolinewidth\":2},\"scene\":{\"xaxis\":{\"backgroundcolor\":\"#E5ECF6\",\"gridcolor\":\"white\",\"linecolor\":\"white\",\"showbackground\":true,\"ticks\":\"\",\"zerolinecolor\":\"white\",\"gridwidth\":2},\"yaxis\":{\"backgroundcolor\":\"#E5ECF6\",\"gridcolor\":\"white\",\"linecolor\":\"white\",\"showbackground\":true,\"ticks\":\"\",\"zerolinecolor\":\"white\",\"gridwidth\":2},\"zaxis\":{\"backgroundcolor\":\"#E5ECF6\",\"gridcolor\":\"white\",\"linecolor\":\"white\",\"showbackground\":true,\"ticks\":\"\",\"zerolinecolor\":\"white\",\"gridwidth\":2}},\"shapedefaults\":{\"line\":{\"color\":\"#2a3f5f\"}},\"annotationdefaults\":{\"arrowcolor\":\"#2a3f5f\",\"arrowhead\":0,\"arrowwidth\":1},\"geo\":{\"bgcolor\":\"white\",\"landcolor\":\"#E5ECF6\",\"subunitcolor\":\"white\",\"showland\":true,\"showlakes\":true,\"lakecolor\":\"white\"},\"title\":{\"x\":0.05},\"mapbox\":{\"style\":\"light\"}}},\"autosize\":false,\"width\":1200,\"height\":720},                        {\"responsive\": true}                    ).then(function(){\n",
       "                            \n",
       "var gd = document.getElementById('da81d942-73f1-4b0a-b23f-4a6bb62a9ba0');\n",
       "var x = new MutationObserver(function (mutations, observer) {{\n",
       "        var display = window.getComputedStyle(gd).display;\n",
       "        if (!display || display === 'none') {{\n",
       "            console.log([gd, 'removed!']);\n",
       "            Plotly.purge(gd);\n",
       "            observer.disconnect();\n",
       "        }}\n",
       "}});\n",
       "\n",
       "// Listen for the removal of the full notebook cells\n",
       "var notebookContainer = gd.closest('#notebook-container');\n",
       "if (notebookContainer) {{\n",
       "    x.observe(notebookContainer, {childList: true});\n",
       "}}\n",
       "\n",
       "// Listen for the clearing of the current output cell\n",
       "var outputEl = gd.closest('.output');\n",
       "if (outputEl) {{\n",
       "    x.observe(outputEl, {childList: true});\n",
       "}}\n",
       "\n",
       "                        })                };                });            </script>        </div>"
      ]
     },
     "metadata": {},
     "output_type": "display_data"
    }
   ],
   "source": [
    "\n",
    "df_temp =  df_nameIndex[df_nameIndex[\"Storkreds\"]==storkreds]\n",
    "df_temp = df_temp.sort_values(question)\n",
    "\n",
    "# Parents for sunburstb\n",
    "value_labels = {'Uenig - det vil jeg ikke støtte':\"Uenig\", \n",
    "                'Enig - det vil jeg støtte, men jeg vil ikke selv sætte det på dagsordenen':\"Delvist Enig\", \n",
    "                \"Enig - det vil jeg arbejde aktivt for\":\"Enig\",\n",
    "               'Ved ikke / har ikke taget stilling': \"Ved ikke\"}\n",
    "parents_candidates = pd.Series([value_labels[x] for x in df_temp[question]],\n",
    "                              index =df_temp.index)\n",
    "\n",
    "sunburst_parents = []\n",
    "for answer in parents_candidates.unique():\n",
    "    sunburst_parents.append(\"\")\n",
    "sunburst_parents.extend(parents_candidates)\n",
    "\n",
    "# Names for sunburst\n",
    "sunburst_names = []\n",
    "\n",
    "inner_names = list(parents_candidates.value_counts(sort=False).index)\n",
    "sunburst_names.extend(inner_names)\n",
    "\n",
    "candidate_names = list(df_temp.index)\n",
    "sunburst_names.extend(candidate_names)\n",
    "\n",
    "# Values for sunburst\n",
    "sunburst_values = []\n",
    "\n",
    "inner_values = list(parents_candidates.value_counts(sort=False))\n",
    "sunburst_values.extend(inner_values)\n",
    "\n",
    "candidate_values = []\n",
    "for candidate in list(df_temp.index):\n",
    "    candidate_values.append(1)\n",
    "\n",
    "sunburst_values.extend(candidate_values)\n",
    "\n",
    "fig = go.Figure()\n",
    "\n",
    "color_dict = { \"Enig\":'rgb(15,122,55)',\n",
    "              \"Delvist Enig\": 'rgb(169,220,163)',\n",
    "              \"Uenig\":'rgb(218,241,212)', \n",
    "              \"Ved ikke\": \"white\"}\n",
    "colors_sunburst = {}\n",
    "for answer in parents_candidates.unique():\n",
    "    colors_sunburst[answer] = color_dict[answer]\n",
    "\n",
    "data = dict(\n",
    "    names=sunburst_names,\n",
    "    parent=sunburst_parents,\n",
    "    value=sunburst_values)\n",
    "\n",
    "fig.add_trace(go.Sunburst(\n",
    "    labels=data['names'],\n",
    "    parents=data['parent'],\n",
    "    values=data['value'],\n",
    "    branchvalues=\"total\",\n",
    "    marker_colors = list(colors_sunburst.values()),\n",
    "    insidetextorientation='radial',\n",
    "    ))\n",
    "fig.update_layout(\n",
    "    autosize=False,\n",
    "    width=1200,\n",
    "    height=720)\n"
   ]
  },
  {
   "cell_type": "code",
   "execution_count": 71,
   "id": "06203284",
   "metadata": {},
   "outputs": [
    {
     "data": {
      "text/plain": [
       "Fødevarestyrelsen skal have flere midler til at styrke deres faglige ressourcer til at rådgive om plantebaseret ernæring.\n",
       "Enig - det vil jeg arbejde aktivt for                                        11\n",
       "Enig - det vil jeg støtte, men jeg vil ikke selv sætte det på dagsordenen     9\n",
       "Uenig - det vil jeg ikke støtte                                               3\n",
       "Ved ikke / har ikke taget stilling                                            4\n",
       "dtype: int64"
      ]
     },
     "execution_count": 71,
     "metadata": {},
     "output_type": "execute_result"
    }
   ],
   "source": [
    "df_temp.groupby(question).size()"
   ]
  },
  {
   "cell_type": "code",
   "execution_count": 69,
   "id": "e90ad7f4",
   "metadata": {},
   "outputs": [
    {
     "data": {
      "application/vnd.plotly.v1+json": {
       "config": {
        "plotlyServerURL": "https://plot.ly"
       },
       "data": [
        {
         "domain": {
          "x": [
           0,
           0.45
          ],
          "y": [
           0,
           1
          ]
         },
         "hole": 0.6,
         "labels": [
          "Enig",
          "Delvist Enig",
          "Uenig",
          "Ved ikke / Ikke taget stilling"
         ],
         "marker": {
          "colors": [
           "rgb(15,122,55)",
           "rgb(169,220,163)",
           "rgb(218,241,212)",
           "grey"
          ]
         },
         "showlegend": false,
         "text": [
          "Enig",
          "Delvist Enig",
          "Uenig",
          "Ved ikke / Ikke taget stilling"
         ],
         "type": "pie",
         "values": [
          11,
          9,
          3,
          4
         ]
        },
        {
         "domain": {
          "x": [
           0.55,
           1
          ],
          "y": [
           0,
           1
          ]
         },
         "hole": 0.6,
         "labels": [
          "Enig",
          "Delvist Enig",
          "Uenig",
          "Ved ikke / Ikke taget stilling"
         ],
         "marker": {
          "colors": [
           "rgb(15,122,55)",
           "rgb(169,220,163)",
           "rgb(218,241,212)",
           "grey"
          ]
         },
         "showlegend": false,
         "text": [
          "Enig",
          "Delvist Enig",
          "Uenig",
          "Ved ikke / Ikke taget stilling"
         ],
         "type": "pie",
         "values": [
          123,
          84,
          33,
          51
         ]
        },
        {
         "domain": {
          "x": [
           0,
           0.45
          ],
          "y": [
           0,
           1
          ]
         },
         "labels": [
          "Fyns Storkreds"
         ],
         "parents": [
          ""
         ],
         "type": "sunburst",
         "values": [
          1
         ]
        },
        {
         "domain": {
          "x": [
           0.55,
           1
          ],
          "y": [
           0,
           1
          ]
         },
         "labels": [
          "Alle Kandidater"
         ],
         "parents": [
          ""
         ],
         "type": "sunburst",
         "values": [
          1
         ]
        }
       ],
       "layout": {
        "autosize": false,
        "height": 720,
        "template": {
         "data": {
          "bar": [
           {
            "error_x": {
             "color": "#2a3f5f"
            },
            "error_y": {
             "color": "#2a3f5f"
            },
            "marker": {
             "line": {
              "color": "#E5ECF6",
              "width": 0.5
             },
             "pattern": {
              "fillmode": "overlay",
              "size": 10,
              "solidity": 0.2
             }
            },
            "type": "bar"
           }
          ],
          "barpolar": [
           {
            "marker": {
             "line": {
              "color": "#E5ECF6",
              "width": 0.5
             },
             "pattern": {
              "fillmode": "overlay",
              "size": 10,
              "solidity": 0.2
             }
            },
            "type": "barpolar"
           }
          ],
          "carpet": [
           {
            "aaxis": {
             "endlinecolor": "#2a3f5f",
             "gridcolor": "white",
             "linecolor": "white",
             "minorgridcolor": "white",
             "startlinecolor": "#2a3f5f"
            },
            "baxis": {
             "endlinecolor": "#2a3f5f",
             "gridcolor": "white",
             "linecolor": "white",
             "minorgridcolor": "white",
             "startlinecolor": "#2a3f5f"
            },
            "type": "carpet"
           }
          ],
          "choropleth": [
           {
            "colorbar": {
             "outlinewidth": 0,
             "ticks": ""
            },
            "type": "choropleth"
           }
          ],
          "contour": [
           {
            "colorbar": {
             "outlinewidth": 0,
             "ticks": ""
            },
            "colorscale": [
             [
              0,
              "#0d0887"
             ],
             [
              0.1111111111111111,
              "#46039f"
             ],
             [
              0.2222222222222222,
              "#7201a8"
             ],
             [
              0.3333333333333333,
              "#9c179e"
             ],
             [
              0.4444444444444444,
              "#bd3786"
             ],
             [
              0.5555555555555556,
              "#d8576b"
             ],
             [
              0.6666666666666666,
              "#ed7953"
             ],
             [
              0.7777777777777778,
              "#fb9f3a"
             ],
             [
              0.8888888888888888,
              "#fdca26"
             ],
             [
              1,
              "#f0f921"
             ]
            ],
            "type": "contour"
           }
          ],
          "contourcarpet": [
           {
            "colorbar": {
             "outlinewidth": 0,
             "ticks": ""
            },
            "type": "contourcarpet"
           }
          ],
          "heatmap": [
           {
            "colorbar": {
             "outlinewidth": 0,
             "ticks": ""
            },
            "colorscale": [
             [
              0,
              "#0d0887"
             ],
             [
              0.1111111111111111,
              "#46039f"
             ],
             [
              0.2222222222222222,
              "#7201a8"
             ],
             [
              0.3333333333333333,
              "#9c179e"
             ],
             [
              0.4444444444444444,
              "#bd3786"
             ],
             [
              0.5555555555555556,
              "#d8576b"
             ],
             [
              0.6666666666666666,
              "#ed7953"
             ],
             [
              0.7777777777777778,
              "#fb9f3a"
             ],
             [
              0.8888888888888888,
              "#fdca26"
             ],
             [
              1,
              "#f0f921"
             ]
            ],
            "type": "heatmap"
           }
          ],
          "heatmapgl": [
           {
            "colorbar": {
             "outlinewidth": 0,
             "ticks": ""
            },
            "colorscale": [
             [
              0,
              "#0d0887"
             ],
             [
              0.1111111111111111,
              "#46039f"
             ],
             [
              0.2222222222222222,
              "#7201a8"
             ],
             [
              0.3333333333333333,
              "#9c179e"
             ],
             [
              0.4444444444444444,
              "#bd3786"
             ],
             [
              0.5555555555555556,
              "#d8576b"
             ],
             [
              0.6666666666666666,
              "#ed7953"
             ],
             [
              0.7777777777777778,
              "#fb9f3a"
             ],
             [
              0.8888888888888888,
              "#fdca26"
             ],
             [
              1,
              "#f0f921"
             ]
            ],
            "type": "heatmapgl"
           }
          ],
          "histogram": [
           {
            "marker": {
             "pattern": {
              "fillmode": "overlay",
              "size": 10,
              "solidity": 0.2
             }
            },
            "type": "histogram"
           }
          ],
          "histogram2d": [
           {
            "colorbar": {
             "outlinewidth": 0,
             "ticks": ""
            },
            "colorscale": [
             [
              0,
              "#0d0887"
             ],
             [
              0.1111111111111111,
              "#46039f"
             ],
             [
              0.2222222222222222,
              "#7201a8"
             ],
             [
              0.3333333333333333,
              "#9c179e"
             ],
             [
              0.4444444444444444,
              "#bd3786"
             ],
             [
              0.5555555555555556,
              "#d8576b"
             ],
             [
              0.6666666666666666,
              "#ed7953"
             ],
             [
              0.7777777777777778,
              "#fb9f3a"
             ],
             [
              0.8888888888888888,
              "#fdca26"
             ],
             [
              1,
              "#f0f921"
             ]
            ],
            "type": "histogram2d"
           }
          ],
          "histogram2dcontour": [
           {
            "colorbar": {
             "outlinewidth": 0,
             "ticks": ""
            },
            "colorscale": [
             [
              0,
              "#0d0887"
             ],
             [
              0.1111111111111111,
              "#46039f"
             ],
             [
              0.2222222222222222,
              "#7201a8"
             ],
             [
              0.3333333333333333,
              "#9c179e"
             ],
             [
              0.4444444444444444,
              "#bd3786"
             ],
             [
              0.5555555555555556,
              "#d8576b"
             ],
             [
              0.6666666666666666,
              "#ed7953"
             ],
             [
              0.7777777777777778,
              "#fb9f3a"
             ],
             [
              0.8888888888888888,
              "#fdca26"
             ],
             [
              1,
              "#f0f921"
             ]
            ],
            "type": "histogram2dcontour"
           }
          ],
          "mesh3d": [
           {
            "colorbar": {
             "outlinewidth": 0,
             "ticks": ""
            },
            "type": "mesh3d"
           }
          ],
          "parcoords": [
           {
            "line": {
             "colorbar": {
              "outlinewidth": 0,
              "ticks": ""
             }
            },
            "type": "parcoords"
           }
          ],
          "pie": [
           {
            "automargin": true,
            "type": "pie"
           }
          ],
          "scatter": [
           {
            "fillpattern": {
             "fillmode": "overlay",
             "size": 10,
             "solidity": 0.2
            },
            "type": "scatter"
           }
          ],
          "scatter3d": [
           {
            "line": {
             "colorbar": {
              "outlinewidth": 0,
              "ticks": ""
             }
            },
            "marker": {
             "colorbar": {
              "outlinewidth": 0,
              "ticks": ""
             }
            },
            "type": "scatter3d"
           }
          ],
          "scattercarpet": [
           {
            "marker": {
             "colorbar": {
              "outlinewidth": 0,
              "ticks": ""
             }
            },
            "type": "scattercarpet"
           }
          ],
          "scattergeo": [
           {
            "marker": {
             "colorbar": {
              "outlinewidth": 0,
              "ticks": ""
             }
            },
            "type": "scattergeo"
           }
          ],
          "scattergl": [
           {
            "marker": {
             "colorbar": {
              "outlinewidth": 0,
              "ticks": ""
             }
            },
            "type": "scattergl"
           }
          ],
          "scattermapbox": [
           {
            "marker": {
             "colorbar": {
              "outlinewidth": 0,
              "ticks": ""
             }
            },
            "type": "scattermapbox"
           }
          ],
          "scatterpolar": [
           {
            "marker": {
             "colorbar": {
              "outlinewidth": 0,
              "ticks": ""
             }
            },
            "type": "scatterpolar"
           }
          ],
          "scatterpolargl": [
           {
            "marker": {
             "colorbar": {
              "outlinewidth": 0,
              "ticks": ""
             }
            },
            "type": "scatterpolargl"
           }
          ],
          "scatterternary": [
           {
            "marker": {
             "colorbar": {
              "outlinewidth": 0,
              "ticks": ""
             }
            },
            "type": "scatterternary"
           }
          ],
          "surface": [
           {
            "colorbar": {
             "outlinewidth": 0,
             "ticks": ""
            },
            "colorscale": [
             [
              0,
              "#0d0887"
             ],
             [
              0.1111111111111111,
              "#46039f"
             ],
             [
              0.2222222222222222,
              "#7201a8"
             ],
             [
              0.3333333333333333,
              "#9c179e"
             ],
             [
              0.4444444444444444,
              "#bd3786"
             ],
             [
              0.5555555555555556,
              "#d8576b"
             ],
             [
              0.6666666666666666,
              "#ed7953"
             ],
             [
              0.7777777777777778,
              "#fb9f3a"
             ],
             [
              0.8888888888888888,
              "#fdca26"
             ],
             [
              1,
              "#f0f921"
             ]
            ],
            "type": "surface"
           }
          ],
          "table": [
           {
            "cells": {
             "fill": {
              "color": "#EBF0F8"
             },
             "line": {
              "color": "white"
             }
            },
            "header": {
             "fill": {
              "color": "#C8D4E3"
             },
             "line": {
              "color": "white"
             }
            },
            "type": "table"
           }
          ]
         },
         "layout": {
          "annotationdefaults": {
           "arrowcolor": "#2a3f5f",
           "arrowhead": 0,
           "arrowwidth": 1
          },
          "autotypenumbers": "strict",
          "coloraxis": {
           "colorbar": {
            "outlinewidth": 0,
            "ticks": ""
           }
          },
          "colorscale": {
           "diverging": [
            [
             0,
             "#8e0152"
            ],
            [
             0.1,
             "#c51b7d"
            ],
            [
             0.2,
             "#de77ae"
            ],
            [
             0.3,
             "#f1b6da"
            ],
            [
             0.4,
             "#fde0ef"
            ],
            [
             0.5,
             "#f7f7f7"
            ],
            [
             0.6,
             "#e6f5d0"
            ],
            [
             0.7,
             "#b8e186"
            ],
            [
             0.8,
             "#7fbc41"
            ],
            [
             0.9,
             "#4d9221"
            ],
            [
             1,
             "#276419"
            ]
           ],
           "sequential": [
            [
             0,
             "#0d0887"
            ],
            [
             0.1111111111111111,
             "#46039f"
            ],
            [
             0.2222222222222222,
             "#7201a8"
            ],
            [
             0.3333333333333333,
             "#9c179e"
            ],
            [
             0.4444444444444444,
             "#bd3786"
            ],
            [
             0.5555555555555556,
             "#d8576b"
            ],
            [
             0.6666666666666666,
             "#ed7953"
            ],
            [
             0.7777777777777778,
             "#fb9f3a"
            ],
            [
             0.8888888888888888,
             "#fdca26"
            ],
            [
             1,
             "#f0f921"
            ]
           ],
           "sequentialminus": [
            [
             0,
             "#0d0887"
            ],
            [
             0.1111111111111111,
             "#46039f"
            ],
            [
             0.2222222222222222,
             "#7201a8"
            ],
            [
             0.3333333333333333,
             "#9c179e"
            ],
            [
             0.4444444444444444,
             "#bd3786"
            ],
            [
             0.5555555555555556,
             "#d8576b"
            ],
            [
             0.6666666666666666,
             "#ed7953"
            ],
            [
             0.7777777777777778,
             "#fb9f3a"
            ],
            [
             0.8888888888888888,
             "#fdca26"
            ],
            [
             1,
             "#f0f921"
            ]
           ]
          },
          "colorway": [
           "#636efa",
           "#EF553B",
           "#00cc96",
           "#ab63fa",
           "#FFA15A",
           "#19d3f3",
           "#FF6692",
           "#B6E880",
           "#FF97FF",
           "#FECB52"
          ],
          "font": {
           "color": "#2a3f5f"
          },
          "geo": {
           "bgcolor": "white",
           "lakecolor": "white",
           "landcolor": "#E5ECF6",
           "showlakes": true,
           "showland": true,
           "subunitcolor": "white"
          },
          "hoverlabel": {
           "align": "left"
          },
          "hovermode": "closest",
          "mapbox": {
           "style": "light"
          },
          "paper_bgcolor": "white",
          "plot_bgcolor": "#E5ECF6",
          "polar": {
           "angularaxis": {
            "gridcolor": "white",
            "linecolor": "white",
            "ticks": ""
           },
           "bgcolor": "#E5ECF6",
           "radialaxis": {
            "gridcolor": "white",
            "linecolor": "white",
            "ticks": ""
           }
          },
          "scene": {
           "xaxis": {
            "backgroundcolor": "#E5ECF6",
            "gridcolor": "white",
            "gridwidth": 2,
            "linecolor": "white",
            "showbackground": true,
            "ticks": "",
            "zerolinecolor": "white"
           },
           "yaxis": {
            "backgroundcolor": "#E5ECF6",
            "gridcolor": "white",
            "gridwidth": 2,
            "linecolor": "white",
            "showbackground": true,
            "ticks": "",
            "zerolinecolor": "white"
           },
           "zaxis": {
            "backgroundcolor": "#E5ECF6",
            "gridcolor": "white",
            "gridwidth": 2,
            "linecolor": "white",
            "showbackground": true,
            "ticks": "",
            "zerolinecolor": "white"
           }
          },
          "shapedefaults": {
           "line": {
            "color": "#2a3f5f"
           }
          },
          "ternary": {
           "aaxis": {
            "gridcolor": "white",
            "linecolor": "white",
            "ticks": ""
           },
           "baxis": {
            "gridcolor": "white",
            "linecolor": "white",
            "ticks": ""
           },
           "bgcolor": "#E5ECF6",
           "caxis": {
            "gridcolor": "white",
            "linecolor": "white",
            "ticks": ""
           }
          },
          "title": {
           "x": 0.05
          },
          "xaxis": {
           "automargin": true,
           "gridcolor": "white",
           "linecolor": "white",
           "ticks": "",
           "title": {
            "standoff": 15
           },
           "zerolinecolor": "white",
           "zerolinewidth": 2
          },
          "yaxis": {
           "automargin": true,
           "gridcolor": "white",
           "linecolor": "white",
           "ticks": "",
           "title": {
            "standoff": 15
           },
           "zerolinecolor": "white",
           "zerolinewidth": 2
          }
         }
        },
        "width": 1200
       }
      },
      "text/html": [
       "<div>                            <div id=\"83ec224d-35a5-48f8-8933-d35364345b35\" class=\"plotly-graph-div\" style=\"height:720px; width:1200px;\"></div>            <script type=\"text/javascript\">                require([\"plotly\"], function(Plotly) {                    window.PLOTLYENV=window.PLOTLYENV || {};                                    if (document.getElementById(\"83ec224d-35a5-48f8-8933-d35364345b35\")) {                    Plotly.newPlot(                        \"83ec224d-35a5-48f8-8933-d35364345b35\",                        [{\"hole\":0.6,\"labels\":[\"Enig\",\"Delvist Enig\",\"Uenig\",\"Ved ikke / Ikke taget stilling\"],\"marker\":{\"colors\":[\"rgb(15,122,55)\",\"rgb(169,220,163)\",\"rgb(218,241,212)\",\"grey\"]},\"showlegend\":false,\"text\":[\"Enig\",\"Delvist Enig\",\"Uenig\",\"Ved ikke / Ikke taget stilling\"],\"values\":[11,9,3,4],\"type\":\"pie\",\"domain\":{\"x\":[0.0,0.45],\"y\":[0.0,1.0]}},{\"hole\":0.6,\"labels\":[\"Enig\",\"Delvist Enig\",\"Uenig\",\"Ved ikke / Ikke taget stilling\"],\"marker\":{\"colors\":[\"rgb(15,122,55)\",\"rgb(169,220,163)\",\"rgb(218,241,212)\",\"grey\"]},\"showlegend\":false,\"text\":[\"Enig\",\"Delvist Enig\",\"Uenig\",\"Ved ikke / Ikke taget stilling\"],\"values\":[123,84,33,51],\"type\":\"pie\",\"domain\":{\"x\":[0.55,1.0],\"y\":[0.0,1.0]}},{\"labels\":[\"Fyns Storkreds\"],\"parents\":[\"\"],\"values\":[1],\"type\":\"sunburst\",\"domain\":{\"x\":[0.0,0.45],\"y\":[0.0,1.0]}},{\"labels\":[\"Alle Kandidater\"],\"parents\":[\"\"],\"values\":[1],\"type\":\"sunburst\",\"domain\":{\"x\":[0.55,1.0],\"y\":[0.0,1.0]}}],                        {\"template\":{\"data\":{\"histogram2dcontour\":[{\"type\":\"histogram2dcontour\",\"colorbar\":{\"outlinewidth\":0,\"ticks\":\"\"},\"colorscale\":[[0.0,\"#0d0887\"],[0.1111111111111111,\"#46039f\"],[0.2222222222222222,\"#7201a8\"],[0.3333333333333333,\"#9c179e\"],[0.4444444444444444,\"#bd3786\"],[0.5555555555555556,\"#d8576b\"],[0.6666666666666666,\"#ed7953\"],[0.7777777777777778,\"#fb9f3a\"],[0.8888888888888888,\"#fdca26\"],[1.0,\"#f0f921\"]]}],\"choropleth\":[{\"type\":\"choropleth\",\"colorbar\":{\"outlinewidth\":0,\"ticks\":\"\"}}],\"histogram2d\":[{\"type\":\"histogram2d\",\"colorbar\":{\"outlinewidth\":0,\"ticks\":\"\"},\"colorscale\":[[0.0,\"#0d0887\"],[0.1111111111111111,\"#46039f\"],[0.2222222222222222,\"#7201a8\"],[0.3333333333333333,\"#9c179e\"],[0.4444444444444444,\"#bd3786\"],[0.5555555555555556,\"#d8576b\"],[0.6666666666666666,\"#ed7953\"],[0.7777777777777778,\"#fb9f3a\"],[0.8888888888888888,\"#fdca26\"],[1.0,\"#f0f921\"]]}],\"heatmap\":[{\"type\":\"heatmap\",\"colorbar\":{\"outlinewidth\":0,\"ticks\":\"\"},\"colorscale\":[[0.0,\"#0d0887\"],[0.1111111111111111,\"#46039f\"],[0.2222222222222222,\"#7201a8\"],[0.3333333333333333,\"#9c179e\"],[0.4444444444444444,\"#bd3786\"],[0.5555555555555556,\"#d8576b\"],[0.6666666666666666,\"#ed7953\"],[0.7777777777777778,\"#fb9f3a\"],[0.8888888888888888,\"#fdca26\"],[1.0,\"#f0f921\"]]}],\"heatmapgl\":[{\"type\":\"heatmapgl\",\"colorbar\":{\"outlinewidth\":0,\"ticks\":\"\"},\"colorscale\":[[0.0,\"#0d0887\"],[0.1111111111111111,\"#46039f\"],[0.2222222222222222,\"#7201a8\"],[0.3333333333333333,\"#9c179e\"],[0.4444444444444444,\"#bd3786\"],[0.5555555555555556,\"#d8576b\"],[0.6666666666666666,\"#ed7953\"],[0.7777777777777778,\"#fb9f3a\"],[0.8888888888888888,\"#fdca26\"],[1.0,\"#f0f921\"]]}],\"contourcarpet\":[{\"type\":\"contourcarpet\",\"colorbar\":{\"outlinewidth\":0,\"ticks\":\"\"}}],\"contour\":[{\"type\":\"contour\",\"colorbar\":{\"outlinewidth\":0,\"ticks\":\"\"},\"colorscale\":[[0.0,\"#0d0887\"],[0.1111111111111111,\"#46039f\"],[0.2222222222222222,\"#7201a8\"],[0.3333333333333333,\"#9c179e\"],[0.4444444444444444,\"#bd3786\"],[0.5555555555555556,\"#d8576b\"],[0.6666666666666666,\"#ed7953\"],[0.7777777777777778,\"#fb9f3a\"],[0.8888888888888888,\"#fdca26\"],[1.0,\"#f0f921\"]]}],\"surface\":[{\"type\":\"surface\",\"colorbar\":{\"outlinewidth\":0,\"ticks\":\"\"},\"colorscale\":[[0.0,\"#0d0887\"],[0.1111111111111111,\"#46039f\"],[0.2222222222222222,\"#7201a8\"],[0.3333333333333333,\"#9c179e\"],[0.4444444444444444,\"#bd3786\"],[0.5555555555555556,\"#d8576b\"],[0.6666666666666666,\"#ed7953\"],[0.7777777777777778,\"#fb9f3a\"],[0.8888888888888888,\"#fdca26\"],[1.0,\"#f0f921\"]]}],\"mesh3d\":[{\"type\":\"mesh3d\",\"colorbar\":{\"outlinewidth\":0,\"ticks\":\"\"}}],\"scatter\":[{\"fillpattern\":{\"fillmode\":\"overlay\",\"size\":10,\"solidity\":0.2},\"type\":\"scatter\"}],\"parcoords\":[{\"type\":\"parcoords\",\"line\":{\"colorbar\":{\"outlinewidth\":0,\"ticks\":\"\"}}}],\"scatterpolargl\":[{\"type\":\"scatterpolargl\",\"marker\":{\"colorbar\":{\"outlinewidth\":0,\"ticks\":\"\"}}}],\"bar\":[{\"error_x\":{\"color\":\"#2a3f5f\"},\"error_y\":{\"color\":\"#2a3f5f\"},\"marker\":{\"line\":{\"color\":\"#E5ECF6\",\"width\":0.5},\"pattern\":{\"fillmode\":\"overlay\",\"size\":10,\"solidity\":0.2}},\"type\":\"bar\"}],\"scattergeo\":[{\"type\":\"scattergeo\",\"marker\":{\"colorbar\":{\"outlinewidth\":0,\"ticks\":\"\"}}}],\"scatterpolar\":[{\"type\":\"scatterpolar\",\"marker\":{\"colorbar\":{\"outlinewidth\":0,\"ticks\":\"\"}}}],\"histogram\":[{\"marker\":{\"pattern\":{\"fillmode\":\"overlay\",\"size\":10,\"solidity\":0.2}},\"type\":\"histogram\"}],\"scattergl\":[{\"type\":\"scattergl\",\"marker\":{\"colorbar\":{\"outlinewidth\":0,\"ticks\":\"\"}}}],\"scatter3d\":[{\"type\":\"scatter3d\",\"line\":{\"colorbar\":{\"outlinewidth\":0,\"ticks\":\"\"}},\"marker\":{\"colorbar\":{\"outlinewidth\":0,\"ticks\":\"\"}}}],\"scattermapbox\":[{\"type\":\"scattermapbox\",\"marker\":{\"colorbar\":{\"outlinewidth\":0,\"ticks\":\"\"}}}],\"scatterternary\":[{\"type\":\"scatterternary\",\"marker\":{\"colorbar\":{\"outlinewidth\":0,\"ticks\":\"\"}}}],\"scattercarpet\":[{\"type\":\"scattercarpet\",\"marker\":{\"colorbar\":{\"outlinewidth\":0,\"ticks\":\"\"}}}],\"carpet\":[{\"aaxis\":{\"endlinecolor\":\"#2a3f5f\",\"gridcolor\":\"white\",\"linecolor\":\"white\",\"minorgridcolor\":\"white\",\"startlinecolor\":\"#2a3f5f\"},\"baxis\":{\"endlinecolor\":\"#2a3f5f\",\"gridcolor\":\"white\",\"linecolor\":\"white\",\"minorgridcolor\":\"white\",\"startlinecolor\":\"#2a3f5f\"},\"type\":\"carpet\"}],\"table\":[{\"cells\":{\"fill\":{\"color\":\"#EBF0F8\"},\"line\":{\"color\":\"white\"}},\"header\":{\"fill\":{\"color\":\"#C8D4E3\"},\"line\":{\"color\":\"white\"}},\"type\":\"table\"}],\"barpolar\":[{\"marker\":{\"line\":{\"color\":\"#E5ECF6\",\"width\":0.5},\"pattern\":{\"fillmode\":\"overlay\",\"size\":10,\"solidity\":0.2}},\"type\":\"barpolar\"}],\"pie\":[{\"automargin\":true,\"type\":\"pie\"}]},\"layout\":{\"autotypenumbers\":\"strict\",\"colorway\":[\"#636efa\",\"#EF553B\",\"#00cc96\",\"#ab63fa\",\"#FFA15A\",\"#19d3f3\",\"#FF6692\",\"#B6E880\",\"#FF97FF\",\"#FECB52\"],\"font\":{\"color\":\"#2a3f5f\"},\"hovermode\":\"closest\",\"hoverlabel\":{\"align\":\"left\"},\"paper_bgcolor\":\"white\",\"plot_bgcolor\":\"#E5ECF6\",\"polar\":{\"bgcolor\":\"#E5ECF6\",\"angularaxis\":{\"gridcolor\":\"white\",\"linecolor\":\"white\",\"ticks\":\"\"},\"radialaxis\":{\"gridcolor\":\"white\",\"linecolor\":\"white\",\"ticks\":\"\"}},\"ternary\":{\"bgcolor\":\"#E5ECF6\",\"aaxis\":{\"gridcolor\":\"white\",\"linecolor\":\"white\",\"ticks\":\"\"},\"baxis\":{\"gridcolor\":\"white\",\"linecolor\":\"white\",\"ticks\":\"\"},\"caxis\":{\"gridcolor\":\"white\",\"linecolor\":\"white\",\"ticks\":\"\"}},\"coloraxis\":{\"colorbar\":{\"outlinewidth\":0,\"ticks\":\"\"}},\"colorscale\":{\"sequential\":[[0.0,\"#0d0887\"],[0.1111111111111111,\"#46039f\"],[0.2222222222222222,\"#7201a8\"],[0.3333333333333333,\"#9c179e\"],[0.4444444444444444,\"#bd3786\"],[0.5555555555555556,\"#d8576b\"],[0.6666666666666666,\"#ed7953\"],[0.7777777777777778,\"#fb9f3a\"],[0.8888888888888888,\"#fdca26\"],[1.0,\"#f0f921\"]],\"sequentialminus\":[[0.0,\"#0d0887\"],[0.1111111111111111,\"#46039f\"],[0.2222222222222222,\"#7201a8\"],[0.3333333333333333,\"#9c179e\"],[0.4444444444444444,\"#bd3786\"],[0.5555555555555556,\"#d8576b\"],[0.6666666666666666,\"#ed7953\"],[0.7777777777777778,\"#fb9f3a\"],[0.8888888888888888,\"#fdca26\"],[1.0,\"#f0f921\"]],\"diverging\":[[0,\"#8e0152\"],[0.1,\"#c51b7d\"],[0.2,\"#de77ae\"],[0.3,\"#f1b6da\"],[0.4,\"#fde0ef\"],[0.5,\"#f7f7f7\"],[0.6,\"#e6f5d0\"],[0.7,\"#b8e186\"],[0.8,\"#7fbc41\"],[0.9,\"#4d9221\"],[1,\"#276419\"]]},\"xaxis\":{\"gridcolor\":\"white\",\"linecolor\":\"white\",\"ticks\":\"\",\"title\":{\"standoff\":15},\"zerolinecolor\":\"white\",\"automargin\":true,\"zerolinewidth\":2},\"yaxis\":{\"gridcolor\":\"white\",\"linecolor\":\"white\",\"ticks\":\"\",\"title\":{\"standoff\":15},\"zerolinecolor\":\"white\",\"automargin\":true,\"zerolinewidth\":2},\"scene\":{\"xaxis\":{\"backgroundcolor\":\"#E5ECF6\",\"gridcolor\":\"white\",\"linecolor\":\"white\",\"showbackground\":true,\"ticks\":\"\",\"zerolinecolor\":\"white\",\"gridwidth\":2},\"yaxis\":{\"backgroundcolor\":\"#E5ECF6\",\"gridcolor\":\"white\",\"linecolor\":\"white\",\"showbackground\":true,\"ticks\":\"\",\"zerolinecolor\":\"white\",\"gridwidth\":2},\"zaxis\":{\"backgroundcolor\":\"#E5ECF6\",\"gridcolor\":\"white\",\"linecolor\":\"white\",\"showbackground\":true,\"ticks\":\"\",\"zerolinecolor\":\"white\",\"gridwidth\":2}},\"shapedefaults\":{\"line\":{\"color\":\"#2a3f5f\"}},\"annotationdefaults\":{\"arrowcolor\":\"#2a3f5f\",\"arrowhead\":0,\"arrowwidth\":1},\"geo\":{\"bgcolor\":\"white\",\"landcolor\":\"#E5ECF6\",\"subunitcolor\":\"white\",\"showland\":true,\"showlakes\":true,\"lakecolor\":\"white\"},\"title\":{\"x\":0.05},\"mapbox\":{\"style\":\"light\"}}},\"autosize\":false,\"width\":1200,\"height\":720},                        {\"responsive\": true}                    ).then(function(){\n",
       "                            \n",
       "var gd = document.getElementById('83ec224d-35a5-48f8-8933-d35364345b35');\n",
       "var x = new MutationObserver(function (mutations, observer) {{\n",
       "        var display = window.getComputedStyle(gd).display;\n",
       "        if (!display || display === 'none') {{\n",
       "            console.log([gd, 'removed!']);\n",
       "            Plotly.purge(gd);\n",
       "            observer.disconnect();\n",
       "        }}\n",
       "}});\n",
       "\n",
       "// Listen for the removal of the full notebook cells\n",
       "var notebookContainer = gd.closest('#notebook-container');\n",
       "if (notebookContainer) {{\n",
       "    x.observe(notebookContainer, {childList: true});\n",
       "}}\n",
       "\n",
       "// Listen for the clearing of the current output cell\n",
       "var outputEl = gd.closest('.output');\n",
       "if (outputEl) {{\n",
       "    x.observe(outputEl, {childList: true});\n",
       "}}\n",
       "\n",
       "                        })                };                });            </script>        </div>"
      ]
     },
     "metadata": {},
     "output_type": "display_data"
    }
   ],
   "source": [
    "df_temp =  df_nameIndex[df_nameIndex[\"Storkreds\"]==storkreds]\n",
    "df_temp = df_temp.sort_values(question)\n",
    "\n",
    "\n",
    "fig_pie = make_subplots(rows=1, cols=2, specs=[[{'type':'domain'}, {'type':'domain'}]])\n",
    "\n",
    "# labels for piechart - kommune\n",
    "value_labels = {'Uenig - det vil jeg ikke støtte':\"Uenig\", \n",
    "                'Enig - det vil jeg støtte, men jeg vil ikke selv sætte det på dagsordenen':\"Delvist Enig\", \n",
    "                \"Enig - det vil jeg arbejde aktivt for\":\"Enig\",\n",
    "               'Ved ikke / har ikke taget stilling': \"Ved ikke / Ikke taget stilling\"}\n",
    "\n",
    "answers_storkreds = pd.Series([value_labels[x] for x in df_temp[question]],\n",
    "                              index =df_temp.index)\n",
    "\n",
    "\n",
    "# Value for kommune\n",
    "value_storkreds = df_temp.groupby(question).size()\n",
    "\n",
    "labels_storkreds = [value_labels[x] for x in value_storkreds.index]\n",
    "\n",
    "# Colors kommune\n",
    "color_dict = { \"Enig\":'rgb(15,122,55)',\n",
    "              \"Delvist Enig\": 'rgb(169,220,163)',\n",
    "              \"Uenig\":'rgb(218,241,212)',\n",
    "              \"Ved ikke / Ikke taget stilling\": \"grey\"}\n",
    "\n",
    "colors = [color_dict[label] for label in labels_storkreds]\n",
    "\n",
    "\n",
    "\n",
    "fig_pie.add_trace(go.Pie(labels=labels_storkreds,\n",
    "                            values=value_storkreds,\n",
    "                            hole=0.6,\n",
    "                            marker_colors = colors,\n",
    "                            showlegend=False,\n",
    "                         text=labels_storkreds\n",
    "                            ),row = 1,col = 1)\n",
    "\n",
    "answers_all = pd.Series([value_labels[x] for x in df_nameIndex[question]],\n",
    "                              index =df_nameIndex.index)\n",
    "\n",
    "values = df_nameIndex.groupby(question).size()\n",
    "labels = [value_labels[x] for x in values.index]\n",
    "\n",
    "colors = [color_dict[label] for label in labels]\n",
    "\n",
    "\n",
    "fig_pie.add_trace(go.Pie(labels=labels,\n",
    "                            values=values,\n",
    "                            hole=0.6,\n",
    "                            marker_colors = colors,\n",
    "                         showlegend=False,\n",
    "                         text = labels\n",
    "                            ),row = 1,col = 2)\n",
    "\n",
    "\n",
    "fig_pie.add_trace(go.Sunburst(\n",
    "    labels=[storkreds],\n",
    "    parents=[\"\"],\n",
    "    values=[1],\n",
    "    ), row = 1, col=1)\n",
    "\n",
    "\n",
    "fig_pie.add_trace(go.Sunburst(\n",
    "    labels=[\"Alle Kandidater\"],\n",
    "    parents=[\"\"],\n",
    "    values=[1],\n",
    "    ), row = 1, col=2)\n",
    "\n",
    "\n",
    "\n",
    "fig_pie.update_layout(\n",
    "    autosize=False,\n",
    "    width=1200,\n",
    "    height=720)"
   ]
  }
 ],
 "metadata": {
  "kernelspec": {
   "display_name": "Python 3",
   "language": "python",
   "name": "python3"
  },
  "language_info": {
   "codemirror_mode": {
    "name": "ipython",
    "version": 3
   },
   "file_extension": ".py",
   "mimetype": "text/x-python",
   "name": "python",
   "nbconvert_exporter": "python",
   "pygments_lexer": "ipython3",
   "version": "3.8.8"
  }
 },
 "nbformat": 4,
 "nbformat_minor": 5
}
