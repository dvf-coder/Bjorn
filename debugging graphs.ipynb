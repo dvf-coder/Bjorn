{
 "cells": [
  {
   "cell_type": "code",
   "execution_count": 58,
   "id": "f83b60fe",
   "metadata": {},
   "outputs": [],
   "source": [
    "from plotly import graph_objects as go\n",
    "import plotly.express as px\n",
    "import pandas as pd\n",
    "import dash\n",
    "from dash.dependencies import Input, Output\n",
    "from dash import Dash, html, dcc \n",
    "from urllib.request import urlopen\n",
    "import json\n",
    "from plotly.subplots import make_subplots\n",
    "import numpy as np"
   ]
  },
  {
   "cell_type": "code",
   "execution_count": 60,
   "id": "a3cbc8c4",
   "metadata": {},
   "outputs": [],
   "source": [
    "\n",
    "veganGreen = 'rgb(16,114,60)' # Light-green for the vegan color option !!! Change for real color\n",
    "veggieGreen = 'rgb(140,190,84)' # Dark-green for the vegetarian color option !!! Change for real color\n",
    "veggieGreenLight = \"rgb(180, 240, 120)\"\n",
    "\n",
    "df_nameIndex = pd.read_csv(\"data/fv_data.csv\",\n",
    "                 dtype={\"fips\": str})\n",
    "\n",
    "df_sim = pd.read_excel(\"data_sim.xlsx\",\n",
    "                 dtype={\"fips\": str})\n",
    "#df = df.fillna(0) # replace NA values with 0\n",
    "df_nameIndex = df_nameIndex.set_index(\"Navn\")\n",
    "\n",
    "\n",
    "kost_color = {\"Spiser ofte kød, kødpålæg, fjerkræ og/eller fisk (hver dag eller næsten hver dag)\": \"red\", \n",
    "             \"Spiser fisk, men derudover kun vegetarisk, aldrig kød, kødpålæg og fjerkræ\":\"turquoise\",\n",
    "             \"Spiser vegetarisk mindst halvdelen af ugens dage, de øvrige dage kød, fjerkræ og/eller fisk\":\"blue\", \n",
    "             'Spiser kun vegetarisk, sjældent mælkeprodukter og æg': veggieGreenLight,\n",
    "             'Spiser kun vegetarisk, aldrig kød, kødpålæg, fjerkræ og fisk': veggieGreen,\n",
    "             'Spiser kun vegansk':veganGreen, \n",
    "             'Ønsker ikke at svare': \"grey\",\n",
    "             }\n",
    "\n",
    "#df[\"Candidate\"] = [df['Navn'][i]+f\" ({df['Parti'][i][:2]})\" for i, x in enumerate(df[\"Navn\"])]\n",
    "#df_nameIndex = df.set_index(\"Candidate\")\n",
    "# Tilføjer en randomiseret kostkolonne\n",
    "#df_nameIndex[\"Kost\"] = list(np.random.randint(low=1, high=6,size=len(df_nameIndex)))\n",
    "#kost_dict = {5: \"Kødspiser\", 4:\"Fleksitar\",3:\"Pescetar\", 2: \"Vegetar\",1:\"Veganer\", 6: \"Ønsker ikke at svare\"}\n",
    "# kost_color = {\"Kødspiser\":\"red\", \"Fleksitar\":\"turquoise\",\"Pescetar\":\"blue\", \"Vegetar\":veggieGreen,\"Veganer\":veganGreen\n",
    "#               ,\"Ønsker ikke at svare\" : \"grey\"}\n",
    "#df_nameIndex[\"Kost\"] = [kost_dict[x] for x in df_nameIndex[\"Kost\"]]\n",
    "#df_nameIndex[\"Kost_color\"] = [kost_color[x] for x in df_nameIndex[\"Kost\"]]\n",
    "\n",
    "\n",
    "\n",
    "# List of the five new columns\n",
    "#q1Answers = ['Daginstitutioner','Hospitaler, psykiatrien','Plejehjem, plejecentre og offentlig madudbringning til ældre', 'Offentlige arbejdspladser', 'ALLE offentlige institutioner']\n",
    "#Adding the five columns, if not allready added\n",
    "#if q1Answers[0] not in df.columns:\n",
    "#    df = df.reindex(columns = df.columns[0:5].tolist() + q1Answers + df.columns[5:].tolist())\n",
    "\n",
    "# First value adds random boolean(0,1) to \"Alle offentlige institutioner\" column.\n",
    "# Second value adds random boolean (0,1) to the remaining four columns,\n",
    "# depending on the boolean from the \"Alle offentlige institutioner\" column.\n",
    "#q1Questions = df.columns[4:9]\n",
    "#for i in range(0,len(df)):\n",
    "#    value = 1 if random() > 0.7 else 0\n",
    "#    df.loc[i,q1Questions[4:5]] = value\n",
    "#    for col in q1Questions[0:4]:\n",
    "#        value2 = 1 if random() > 0.5 else 0\n",
    "#        if value == 0:\n",
    "#            df.loc[i,col] = value2\n",
    "#        else:\n",
    "#            df.loc[i,col] = 0\n",
    "# Definitions from the main-file\n",
    "\n",
    "# This codeblock contains the variables for the dash-board\n",
    "#Style\n",
    "textBlack = 'rgb(0,0,0)' #Black for text\n",
    "\n",
    "H2Style = {\"fontSize\": \"25px\",\n",
    "            \"color\": veganGreen,\n",
    "            \"text-align\": \"center\",\n",
    "            'background': 'white',\n",
    "            'font-family': 'Calibri',\n",
    "            \"margin-top\": \"20px\",\n",
    "            \"margin-bottom\":'10px',\n",
    "            \"padding\":\"1.5%\"}\n",
    "\n",
    "pStyle = {'fontSize': '18px',\n",
    "            'color': textBlack,\n",
    "            'text-align': 'center',\n",
    "            'background': 'white',\n",
    "            'font-family': 'Calibri',\n",
    "            'margin-top': '-40px',\n",
    "            'margin-bottom':'1px',\n",
    "            'padding':'1.5%'}\n",
    "\n",
    "#Lists\n",
    "parties = [] # !!! Add list according to values from survey\n",
    "candidates = [] # !!! Add list according to values from survey\n",
    "questions = df_nameIndex.columns[11:25] # !!! Add questions to this list\n",
    "kommuneList = df_nameIndex[\"Storkreds\"].unique()  # !!! change list according to values from survey\n",
    "\n",
    "\n",
    "# Placeholder text\n",
    "loremIpsum = \"Lorem ipsum dolor sit amet, consectetur adipiscing elit, sed do eiusmod tempor incididunt ut labore et dolore magna aliqua. Ut enim ad minim veniam, quis nostrud exercitation ullamco laboris nisi ut aliquip ex ea commodo consequat. Duis aute irure dolor in reprehenderit in voluptate velit esse cillum dolore eu fugiat nulla pariatur. Excepteur sint occaecat cupidatat non proident, sunt in culpa qui officia deserunt mollit anim id est laborum.\"\n",
    "\n"
   ]
  },
  {
   "cell_type": "code",
   "execution_count": 74,
   "id": "07c861dd",
   "metadata": {},
   "outputs": [
    {
     "name": "stdout",
     "output_type": "stream",
     "text": [
      "Fyns Storkreds \n",
      " Fyns Storkreds \n",
      " Forskningsmidler indenfor fødevarer skal omlægges til i højere grad at fokusere på klimavenlige, plantebaserede fødevarer frem for animalske.\n"
     ]
    }
   ],
   "source": [
    "value = \"Fyns Storkreds\"\n",
    "storkreds = value\n",
    "question = df_nameIndex.columns[15]\n",
    "\n",
    "print(value,\"\\n\",\n",
    "      storkreds, \"\\n\",\n",
    "      question)"
   ]
  },
  {
   "cell_type": "markdown",
   "id": "e0e1cac5",
   "metadata": {},
   "source": [
    "# Data! "
   ]
  },
  {
   "cell_type": "code",
   "execution_count": 70,
   "id": "0cd8ece4",
   "metadata": {},
   "outputs": [
    {
     "data": {
      "text/plain": [
       "Storkreds\n",
       "Bornholms Storkreds             5\n",
       "Fyns Storkreds                 17\n",
       "Københavns Omegns Storkreds    22\n",
       "Københavns Storkreds           32\n",
       "Nordjyllands Storkreds         24\n",
       "Nordsjællands Storkreds        21\n",
       "Sjællands Storkreds            27\n",
       "Sydjyllands Storkreds          27\n",
       "Vestjyllands Storkreds         23\n",
       "Østjyllands Storkreds          35\n",
       "dtype: int64"
      ]
     },
     "execution_count": 70,
     "metadata": {},
     "output_type": "execute_result"
    }
   ],
   "source": [
    "df_nameIndex.groupby(\"Storkreds\").size()"
   ]
  },
  {
   "cell_type": "markdown",
   "id": "b37693d4",
   "metadata": {},
   "source": [
    "# Grafer "
   ]
  },
  {
   "cell_type": "code",
   "execution_count": 62,
   "id": "af6a580c",
   "metadata": {},
   "outputs": [
    {
     "data": {
      "text/html": [
       "<div>\n",
       "<style scoped>\n",
       "    .dataframe tbody tr th:only-of-type {\n",
       "        vertical-align: middle;\n",
       "    }\n",
       "\n",
       "    .dataframe tbody tr th {\n",
       "        vertical-align: top;\n",
       "    }\n",
       "\n",
       "    .dataframe thead th {\n",
       "        text-align: right;\n",
       "    }\n",
       "</style>\n",
       "<table border=\"1\" class=\"dataframe\">\n",
       "  <thead>\n",
       "    <tr style=\"text-align: right;\">\n",
       "      <th></th>\n",
       "      <th>Storkreds</th>\n",
       "      <th>Parti</th>\n",
       "      <th>Kost</th>\n",
       "      <th>Alle offentlige køkkener skal pålægges at reducere deres CO2-udslip fra mad og måltider med 25% i 2025.</th>\n",
       "      <th>Alle offentlige køkkener skal pålægges at reducere deres CO2-udslip fra mad og måltider med 50% i 2030.</th>\n",
       "      <th>En øremærket pulje til efteruddannelse af køkkenpersonale skal sikre, at alle madprofessionelle ved, hvordan de tilbereder klimavenlig, plantebaseret mad.</th>\n",
       "      <th>Lægeuddannelsen skal indeholde et obligatorisk fag om forebyggelse af sygdomme gennem mere plantebaseret kost.</th>\n",
       "      <th>Der skal være en plantebaseret kokkeuddannelse i Danmark, så den grønne gastronomi kan blive udviklet.</th>\n",
       "      <th>Fødevarestyrelsen skal have flere midler til at styrke deres faglige ressourcer til at rådgive om plantebaseret ernæring.</th>\n",
       "      <th>Det skal sikres, at myndighederne på altomkost.dk vejleder konstruktivt i plantebaseret kost, herunder også sikrer konstruktiv vejledning til veganske børnefamilier.</th>\n",
       "      <th>...</th>\n",
       "      <th>Der skal være en klimaafgift på alle fødevarer, der afspejler deres drivhusgasudledning.</th>\n",
       "      <th>Der skal være en klimaafgift specifikt på alle animalske fødevarer</th>\n",
       "      <th>Finansielle institutioner (banker, pensionskasser og investeringsrådgivere, långivere etc.) skal pålægges hvert år at afrapportere, hvordan deres porteføljer, produkter og långivning bidrager til grøn omstilling af landbruget, herunder især fra animalsk til plantebaseret produktion.</th>\n",
       "      <th>Fonden for Plantebaserede Fødevarer skal have mindst 200 mio. kr. ekstra årligt udover de eksisterende 85 mio. kr. årligt, så niveauet i højere grad svarer til omfanget af den nødvendige omstilling.</th>\n",
       "      <th>Forskningsmidler indenfor fødevarer skal omlægges til i højere grad at fokusere på klimavenlige, plantebaserede fødevarer frem for animalske.</th>\n",
       "      <th>Den danske animalske landbrugsproduktion står for en stor andel af den samlede danske drivhusgasudledning. Derfor skal antallet af landbrugsdyr (svin, kyllinger, køer, osv.) mindskes til halvdelen af det nuværende antal i 2030.</th>\n",
       "      <th>Landmænd, der vil omlægge deres produktion til flere plantebaserede afgrøder til mennesker, skal kunne modtage gratis efteruddannelse.</th>\n",
       "      <th>Støtteordninger til fødevareerhvervet skal omlægges til i højere grad at støtte klimavenlige, plantebaserede fødevarer frem for animalske.</th>\n",
       "      <th>Score</th>\n",
       "      <th>Kost_color</th>\n",
       "    </tr>\n",
       "    <tr>\n",
       "      <th>Navn</th>\n",
       "      <th></th>\n",
       "      <th></th>\n",
       "      <th></th>\n",
       "      <th></th>\n",
       "      <th></th>\n",
       "      <th></th>\n",
       "      <th></th>\n",
       "      <th></th>\n",
       "      <th></th>\n",
       "      <th></th>\n",
       "      <th></th>\n",
       "      <th></th>\n",
       "      <th></th>\n",
       "      <th></th>\n",
       "      <th></th>\n",
       "      <th></th>\n",
       "      <th></th>\n",
       "      <th></th>\n",
       "      <th></th>\n",
       "      <th></th>\n",
       "      <th></th>\n",
       "    </tr>\n",
       "  </thead>\n",
       "  <tbody>\n",
       "    <tr>\n",
       "      <th>Lisa Perkins (I.)</th>\n",
       "      <td>Østjyllands Storkreds</td>\n",
       "      <td>I. Liberal Alliance</td>\n",
       "      <td>0</td>\n",
       "      <td>0</td>\n",
       "      <td>0</td>\n",
       "      <td>0</td>\n",
       "      <td>0</td>\n",
       "      <td>0</td>\n",
       "      <td>0</td>\n",
       "      <td>0</td>\n",
       "      <td>...</td>\n",
       "      <td>0</td>\n",
       "      <td>0</td>\n",
       "      <td>0</td>\n",
       "      <td>0</td>\n",
       "      <td>0</td>\n",
       "      <td>0</td>\n",
       "      <td>0</td>\n",
       "      <td>0</td>\n",
       "      <td>0</td>\n",
       "      <td>grey</td>\n",
       "    </tr>\n",
       "    <tr>\n",
       "      <th>Ditte Wedege (I.)</th>\n",
       "      <td>Østjyllands Storkreds</td>\n",
       "      <td>I. Liberal Alliance</td>\n",
       "      <td>0</td>\n",
       "      <td>0</td>\n",
       "      <td>0</td>\n",
       "      <td>0</td>\n",
       "      <td>0</td>\n",
       "      <td>0</td>\n",
       "      <td>0</td>\n",
       "      <td>0</td>\n",
       "      <td>...</td>\n",
       "      <td>0</td>\n",
       "      <td>0</td>\n",
       "      <td>0</td>\n",
       "      <td>0</td>\n",
       "      <td>0</td>\n",
       "      <td>0</td>\n",
       "      <td>0</td>\n",
       "      <td>0</td>\n",
       "      <td>0</td>\n",
       "      <td>grey</td>\n",
       "    </tr>\n",
       "    <tr>\n",
       "      <th>Anders Krojgaard Lund (C.)</th>\n",
       "      <td>Østjyllands Storkreds</td>\n",
       "      <td>C. Det Konservative Folkeparti</td>\n",
       "      <td>Spiser ofte kød, kødpålæg, fjerkræ og/eller fi...</td>\n",
       "      <td>0</td>\n",
       "      <td>0</td>\n",
       "      <td>0</td>\n",
       "      <td>0</td>\n",
       "      <td>0</td>\n",
       "      <td>0</td>\n",
       "      <td>0</td>\n",
       "      <td>...</td>\n",
       "      <td>1</td>\n",
       "      <td>0</td>\n",
       "      <td>0</td>\n",
       "      <td>0</td>\n",
       "      <td>0</td>\n",
       "      <td>0</td>\n",
       "      <td>0</td>\n",
       "      <td>0</td>\n",
       "      <td>1</td>\n",
       "      <td>red</td>\n",
       "    </tr>\n",
       "    <tr>\n",
       "      <th>Karen Budtz-Jørgensen (Ø.)</th>\n",
       "      <td>Østjyllands Storkreds</td>\n",
       "      <td>Ø. Enhedslisten</td>\n",
       "      <td>0</td>\n",
       "      <td>2</td>\n",
       "      <td>1</td>\n",
       "      <td>0</td>\n",
       "      <td>0</td>\n",
       "      <td>0</td>\n",
       "      <td>0</td>\n",
       "      <td>0</td>\n",
       "      <td>...</td>\n",
       "      <td>0</td>\n",
       "      <td>0</td>\n",
       "      <td>0</td>\n",
       "      <td>0</td>\n",
       "      <td>0</td>\n",
       "      <td>0</td>\n",
       "      <td>0</td>\n",
       "      <td>0</td>\n",
       "      <td>3</td>\n",
       "      <td>grey</td>\n",
       "    </tr>\n",
       "    <tr>\n",
       "      <th>Hanna-Maria Lyng (K.)</th>\n",
       "      <td>Østjyllands Storkreds</td>\n",
       "      <td>K. Kristendemokraterne</td>\n",
       "      <td>Spiser ofte kød, kødpålæg, fjerkræ og/eller fi...</td>\n",
       "      <td>0</td>\n",
       "      <td>0</td>\n",
       "      <td>1</td>\n",
       "      <td>0</td>\n",
       "      <td>0</td>\n",
       "      <td>0</td>\n",
       "      <td>1</td>\n",
       "      <td>...</td>\n",
       "      <td>0</td>\n",
       "      <td>0</td>\n",
       "      <td>0</td>\n",
       "      <td>0</td>\n",
       "      <td>0</td>\n",
       "      <td>0</td>\n",
       "      <td>0</td>\n",
       "      <td>0</td>\n",
       "      <td>3</td>\n",
       "      <td>red</td>\n",
       "    </tr>\n",
       "    <tr>\n",
       "      <th>Danny Rosenkilde (O.)</th>\n",
       "      <td>Østjyllands Storkreds</td>\n",
       "      <td>O. Dansk Folkeparti</td>\n",
       "      <td>Spiser ofte kød, kødpålæg, fjerkræ og/eller fi...</td>\n",
       "      <td>0</td>\n",
       "      <td>0</td>\n",
       "      <td>1</td>\n",
       "      <td>0</td>\n",
       "      <td>0</td>\n",
       "      <td>0</td>\n",
       "      <td>1</td>\n",
       "      <td>...</td>\n",
       "      <td>1</td>\n",
       "      <td>0</td>\n",
       "      <td>0</td>\n",
       "      <td>0</td>\n",
       "      <td>0</td>\n",
       "      <td>0</td>\n",
       "      <td>0</td>\n",
       "      <td>0</td>\n",
       "      <td>3</td>\n",
       "      <td>red</td>\n",
       "    </tr>\n",
       "    <tr>\n",
       "      <th>Tina Lund Sørensen (V.)</th>\n",
       "      <td>Østjyllands Storkreds</td>\n",
       "      <td>V. Venstre</td>\n",
       "      <td>Spiser ofte kød, kødpålæg, fjerkræ og/eller fi...</td>\n",
       "      <td>0</td>\n",
       "      <td>0</td>\n",
       "      <td>0</td>\n",
       "      <td>1</td>\n",
       "      <td>1</td>\n",
       "      <td>0</td>\n",
       "      <td>0</td>\n",
       "      <td>...</td>\n",
       "      <td>0</td>\n",
       "      <td>0</td>\n",
       "      <td>0</td>\n",
       "      <td>0</td>\n",
       "      <td>0</td>\n",
       "      <td>0</td>\n",
       "      <td>1</td>\n",
       "      <td>0</td>\n",
       "      <td>3</td>\n",
       "      <td>red</td>\n",
       "    </tr>\n",
       "    <tr>\n",
       "      <th>Inger-Marie Tryde (D.)</th>\n",
       "      <td>Østjyllands Storkreds</td>\n",
       "      <td>D. Nye Borgerlige</td>\n",
       "      <td>Spiser ofte kød, kødpålæg, fjerkræ og/eller fi...</td>\n",
       "      <td>0</td>\n",
       "      <td>0</td>\n",
       "      <td>1</td>\n",
       "      <td>0</td>\n",
       "      <td>1</td>\n",
       "      <td>0</td>\n",
       "      <td>0</td>\n",
       "      <td>...</td>\n",
       "      <td>0</td>\n",
       "      <td>0</td>\n",
       "      <td>0</td>\n",
       "      <td>0</td>\n",
       "      <td>0</td>\n",
       "      <td>0</td>\n",
       "      <td>0</td>\n",
       "      <td>0</td>\n",
       "      <td>4</td>\n",
       "      <td>red</td>\n",
       "    </tr>\n",
       "    <tr>\n",
       "      <th>Anders Vistisen (O.)</th>\n",
       "      <td>Østjyllands Storkreds</td>\n",
       "      <td>O. Dansk Folkeparti</td>\n",
       "      <td>Spiser ofte kød, kødpålæg, fjerkræ og/eller fi...</td>\n",
       "      <td>1</td>\n",
       "      <td>1</td>\n",
       "      <td>0</td>\n",
       "      <td>0</td>\n",
       "      <td>1</td>\n",
       "      <td>0</td>\n",
       "      <td>0</td>\n",
       "      <td>...</td>\n",
       "      <td>0</td>\n",
       "      <td>0</td>\n",
       "      <td>0</td>\n",
       "      <td>0</td>\n",
       "      <td>0</td>\n",
       "      <td>0</td>\n",
       "      <td>0</td>\n",
       "      <td>0</td>\n",
       "      <td>5</td>\n",
       "      <td>red</td>\n",
       "    </tr>\n",
       "    <tr>\n",
       "      <th>Isabella Arendt (C.)</th>\n",
       "      <td>Østjyllands Storkreds</td>\n",
       "      <td>C. Det Konservative Folkeparti</td>\n",
       "      <td>Spiser ofte kød, kødpålæg, fjerkræ og/eller fi...</td>\n",
       "      <td>2</td>\n",
       "      <td>2</td>\n",
       "      <td>1</td>\n",
       "      <td>0</td>\n",
       "      <td>0</td>\n",
       "      <td>0</td>\n",
       "      <td>1</td>\n",
       "      <td>...</td>\n",
       "      <td>1</td>\n",
       "      <td>0</td>\n",
       "      <td>0</td>\n",
       "      <td>0</td>\n",
       "      <td>0</td>\n",
       "      <td>0</td>\n",
       "      <td>0</td>\n",
       "      <td>0</td>\n",
       "      <td>7</td>\n",
       "      <td>red</td>\n",
       "    </tr>\n",
       "    <tr>\n",
       "      <th>Karin Liltorp (M.)</th>\n",
       "      <td>Østjyllands Storkreds</td>\n",
       "      <td>M. Moderaterne</td>\n",
       "      <td>Spiser fisk, men derudover kun vegetarisk, ald...</td>\n",
       "      <td>1</td>\n",
       "      <td>1</td>\n",
       "      <td>1</td>\n",
       "      <td>0</td>\n",
       "      <td>0</td>\n",
       "      <td>1</td>\n",
       "      <td>1</td>\n",
       "      <td>...</td>\n",
       "      <td>1</td>\n",
       "      <td>0</td>\n",
       "      <td>0</td>\n",
       "      <td>0</td>\n",
       "      <td>0</td>\n",
       "      <td>1</td>\n",
       "      <td>1</td>\n",
       "      <td>0</td>\n",
       "      <td>9</td>\n",
       "      <td>blue</td>\n",
       "    </tr>\n",
       "    <tr>\n",
       "      <th>Rasmus Nordqvist  (F.)</th>\n",
       "      <td>Østjyllands Storkreds</td>\n",
       "      <td>F. Socialistisk Folkeparti</td>\n",
       "      <td>0</td>\n",
       "      <td>2</td>\n",
       "      <td>2</td>\n",
       "      <td>2</td>\n",
       "      <td>0</td>\n",
       "      <td>1</td>\n",
       "      <td>2</td>\n",
       "      <td>0</td>\n",
       "      <td>...</td>\n",
       "      <td>0</td>\n",
       "      <td>0</td>\n",
       "      <td>0</td>\n",
       "      <td>0</td>\n",
       "      <td>0</td>\n",
       "      <td>0</td>\n",
       "      <td>0</td>\n",
       "      <td>0</td>\n",
       "      <td>9</td>\n",
       "      <td>grey</td>\n",
       "    </tr>\n",
       "    <tr>\n",
       "      <th>Louise Louring (V.)</th>\n",
       "      <td>Østjyllands Storkreds</td>\n",
       "      <td>V. Venstre</td>\n",
       "      <td>Spiser vegetarisk mindst halvdelen af ugens da...</td>\n",
       "      <td>1</td>\n",
       "      <td>1</td>\n",
       "      <td>0</td>\n",
       "      <td>0</td>\n",
       "      <td>0</td>\n",
       "      <td>2</td>\n",
       "      <td>1</td>\n",
       "      <td>...</td>\n",
       "      <td>0</td>\n",
       "      <td>0</td>\n",
       "      <td>0</td>\n",
       "      <td>0</td>\n",
       "      <td>1</td>\n",
       "      <td>0</td>\n",
       "      <td>1</td>\n",
       "      <td>1</td>\n",
       "      <td>10</td>\n",
       "      <td>turquoise</td>\n",
       "    </tr>\n",
       "    <tr>\n",
       "      <th>Klaus Nyengaard (C.)</th>\n",
       "      <td>Østjyllands Storkreds</td>\n",
       "      <td>C. Det Konservative Folkeparti</td>\n",
       "      <td>Spiser ofte kød, kødpålæg, fjerkræ og/eller fi...</td>\n",
       "      <td>1</td>\n",
       "      <td>0</td>\n",
       "      <td>0</td>\n",
       "      <td>1</td>\n",
       "      <td>1</td>\n",
       "      <td>1</td>\n",
       "      <td>0</td>\n",
       "      <td>...</td>\n",
       "      <td>2</td>\n",
       "      <td>2</td>\n",
       "      <td>0</td>\n",
       "      <td>0</td>\n",
       "      <td>2</td>\n",
       "      <td>0</td>\n",
       "      <td>1</td>\n",
       "      <td>2</td>\n",
       "      <td>13</td>\n",
       "      <td>red</td>\n",
       "    </tr>\n",
       "    <tr>\n",
       "      <th>Jens K. Lundager (D.)</th>\n",
       "      <td>Østjyllands Storkreds</td>\n",
       "      <td>D. Nye Borgerlige</td>\n",
       "      <td>Spiser ofte kød, kødpålæg, fjerkræ og/eller fi...</td>\n",
       "      <td>1</td>\n",
       "      <td>1</td>\n",
       "      <td>1</td>\n",
       "      <td>2</td>\n",
       "      <td>2</td>\n",
       "      <td>1</td>\n",
       "      <td>2</td>\n",
       "      <td>...</td>\n",
       "      <td>2</td>\n",
       "      <td>0</td>\n",
       "      <td>0</td>\n",
       "      <td>0</td>\n",
       "      <td>0</td>\n",
       "      <td>0</td>\n",
       "      <td>0</td>\n",
       "      <td>0</td>\n",
       "      <td>14</td>\n",
       "      <td>red</td>\n",
       "    </tr>\n",
       "    <tr>\n",
       "      <th>Heidi Printzen (C.)</th>\n",
       "      <td>Østjyllands Storkreds</td>\n",
       "      <td>C. Det Konservative Folkeparti</td>\n",
       "      <td>Spiser ofte kød, kødpålæg, fjerkræ og/eller fi...</td>\n",
       "      <td>2</td>\n",
       "      <td>1</td>\n",
       "      <td>2</td>\n",
       "      <td>1</td>\n",
       "      <td>0</td>\n",
       "      <td>0</td>\n",
       "      <td>2</td>\n",
       "      <td>...</td>\n",
       "      <td>2</td>\n",
       "      <td>0</td>\n",
       "      <td>0</td>\n",
       "      <td>0</td>\n",
       "      <td>1</td>\n",
       "      <td>0</td>\n",
       "      <td>0</td>\n",
       "      <td>2</td>\n",
       "      <td>15</td>\n",
       "      <td>red</td>\n",
       "    </tr>\n",
       "    <tr>\n",
       "      <th>Henrik Hjortshøj (K.)</th>\n",
       "      <td>Østjyllands Storkreds</td>\n",
       "      <td>K. Kristendemokraterne</td>\n",
       "      <td>Spiser fisk, men derudover kun vegetarisk, ald...</td>\n",
       "      <td>1</td>\n",
       "      <td>1</td>\n",
       "      <td>1</td>\n",
       "      <td>0</td>\n",
       "      <td>0</td>\n",
       "      <td>1</td>\n",
       "      <td>2</td>\n",
       "      <td>...</td>\n",
       "      <td>2</td>\n",
       "      <td>2</td>\n",
       "      <td>1</td>\n",
       "      <td>0</td>\n",
       "      <td>1</td>\n",
       "      <td>0</td>\n",
       "      <td>2</td>\n",
       "      <td>0</td>\n",
       "      <td>16</td>\n",
       "      <td>blue</td>\n",
       "    </tr>\n",
       "    <tr>\n",
       "      <th>Sofie Lippert  (F.)</th>\n",
       "      <td>Østjyllands Storkreds</td>\n",
       "      <td>F. Socialistisk Folkeparti</td>\n",
       "      <td>Spiser fisk, men derudover kun vegetarisk, ald...</td>\n",
       "      <td>2</td>\n",
       "      <td>2</td>\n",
       "      <td>2</td>\n",
       "      <td>0</td>\n",
       "      <td>1</td>\n",
       "      <td>1</td>\n",
       "      <td>1</td>\n",
       "      <td>...</td>\n",
       "      <td>2</td>\n",
       "      <td>1</td>\n",
       "      <td>2</td>\n",
       "      <td>0</td>\n",
       "      <td>1</td>\n",
       "      <td>2</td>\n",
       "      <td>2</td>\n",
       "      <td>2</td>\n",
       "      <td>21</td>\n",
       "      <td>blue</td>\n",
       "    </tr>\n",
       "    <tr>\n",
       "      <th>Mads Damgaard Mortensen (Å.)</th>\n",
       "      <td>Østjyllands Storkreds</td>\n",
       "      <td>Å. Alternativet</td>\n",
       "      <td>Spiser ofte kød, kødpålæg, fjerkræ og/eller fi...</td>\n",
       "      <td>1</td>\n",
       "      <td>1</td>\n",
       "      <td>2</td>\n",
       "      <td>1</td>\n",
       "      <td>1</td>\n",
       "      <td>1</td>\n",
       "      <td>1</td>\n",
       "      <td>...</td>\n",
       "      <td>2</td>\n",
       "      <td>1</td>\n",
       "      <td>1</td>\n",
       "      <td>1</td>\n",
       "      <td>1</td>\n",
       "      <td>2</td>\n",
       "      <td>2</td>\n",
       "      <td>1</td>\n",
       "      <td>21</td>\n",
       "      <td>red</td>\n",
       "    </tr>\n",
       "    <tr>\n",
       "      <th>Søren Lahn Sloth (F.)</th>\n",
       "      <td>Østjyllands Storkreds</td>\n",
       "      <td>F. Socialistisk Folkeparti</td>\n",
       "      <td>Spiser vegetarisk mindst halvdelen af ugens da...</td>\n",
       "      <td>2</td>\n",
       "      <td>2</td>\n",
       "      <td>2</td>\n",
       "      <td>1</td>\n",
       "      <td>0</td>\n",
       "      <td>2</td>\n",
       "      <td>1</td>\n",
       "      <td>...</td>\n",
       "      <td>2</td>\n",
       "      <td>0</td>\n",
       "      <td>0</td>\n",
       "      <td>2</td>\n",
       "      <td>2</td>\n",
       "      <td>2</td>\n",
       "      <td>2</td>\n",
       "      <td>2</td>\n",
       "      <td>22</td>\n",
       "      <td>turquoise</td>\n",
       "    </tr>\n",
       "    <tr>\n",
       "      <th>Camilla Fabricius (A.)</th>\n",
       "      <td>Østjyllands Storkreds</td>\n",
       "      <td>A. Socialdemokratiet</td>\n",
       "      <td>Spiser kun vegetarisk, sjældent mælkeprodukter...</td>\n",
       "      <td>2</td>\n",
       "      <td>2</td>\n",
       "      <td>2</td>\n",
       "      <td>2</td>\n",
       "      <td>2</td>\n",
       "      <td>2</td>\n",
       "      <td>1</td>\n",
       "      <td>...</td>\n",
       "      <td>0</td>\n",
       "      <td>0</td>\n",
       "      <td>2</td>\n",
       "      <td>2</td>\n",
       "      <td>2</td>\n",
       "      <td>0</td>\n",
       "      <td>2</td>\n",
       "      <td>2</td>\n",
       "      <td>24</td>\n",
       "      <td>rgb(180, 240, 120)</td>\n",
       "    </tr>\n",
       "    <tr>\n",
       "      <th>Anders Pedersen  (Ø.)</th>\n",
       "      <td>Østjyllands Storkreds</td>\n",
       "      <td>Ø. Enhedslisten</td>\n",
       "      <td>Spiser fisk, men derudover kun vegetarisk, ald...</td>\n",
       "      <td>2</td>\n",
       "      <td>2</td>\n",
       "      <td>1</td>\n",
       "      <td>0</td>\n",
       "      <td>1</td>\n",
       "      <td>1</td>\n",
       "      <td>2</td>\n",
       "      <td>...</td>\n",
       "      <td>2</td>\n",
       "      <td>2</td>\n",
       "      <td>2</td>\n",
       "      <td>2</td>\n",
       "      <td>2</td>\n",
       "      <td>2</td>\n",
       "      <td>1</td>\n",
       "      <td>2</td>\n",
       "      <td>25</td>\n",
       "      <td>blue</td>\n",
       "    </tr>\n",
       "    <tr>\n",
       "      <th>Sara Grouleff (Q.)</th>\n",
       "      <td>Østjyllands Storkreds</td>\n",
       "      <td>Q. Frie Grønne</td>\n",
       "      <td>Spiser kun vegetarisk, aldrig kød, kødpålæg, f...</td>\n",
       "      <td>2</td>\n",
       "      <td>2</td>\n",
       "      <td>1</td>\n",
       "      <td>1</td>\n",
       "      <td>1</td>\n",
       "      <td>0</td>\n",
       "      <td>2</td>\n",
       "      <td>...</td>\n",
       "      <td>2</td>\n",
       "      <td>2</td>\n",
       "      <td>2</td>\n",
       "      <td>2</td>\n",
       "      <td>2</td>\n",
       "      <td>2</td>\n",
       "      <td>2</td>\n",
       "      <td>2</td>\n",
       "      <td>26</td>\n",
       "      <td>rgb(140,190,84)</td>\n",
       "    </tr>\n",
       "    <tr>\n",
       "      <th>Carsten Borup (Å.)</th>\n",
       "      <td>Østjyllands Storkreds</td>\n",
       "      <td>Å. Alternativet</td>\n",
       "      <td>Spiser vegetarisk mindst halvdelen af ugens da...</td>\n",
       "      <td>2</td>\n",
       "      <td>2</td>\n",
       "      <td>2</td>\n",
       "      <td>2</td>\n",
       "      <td>2</td>\n",
       "      <td>2</td>\n",
       "      <td>1</td>\n",
       "      <td>...</td>\n",
       "      <td>2</td>\n",
       "      <td>1</td>\n",
       "      <td>2</td>\n",
       "      <td>0</td>\n",
       "      <td>1</td>\n",
       "      <td>2</td>\n",
       "      <td>2</td>\n",
       "      <td>2</td>\n",
       "      <td>27</td>\n",
       "      <td>turquoise</td>\n",
       "    </tr>\n",
       "    <tr>\n",
       "      <th>Lucasia Gregersen (Ø.)</th>\n",
       "      <td>Østjyllands Storkreds</td>\n",
       "      <td>Ø. Enhedslisten</td>\n",
       "      <td>Spiser vegetarisk mindst halvdelen af ugens da...</td>\n",
       "      <td>2</td>\n",
       "      <td>2</td>\n",
       "      <td>2</td>\n",
       "      <td>1</td>\n",
       "      <td>2</td>\n",
       "      <td>2</td>\n",
       "      <td>2</td>\n",
       "      <td>...</td>\n",
       "      <td>2</td>\n",
       "      <td>2</td>\n",
       "      <td>2</td>\n",
       "      <td>1</td>\n",
       "      <td>2</td>\n",
       "      <td>2</td>\n",
       "      <td>2</td>\n",
       "      <td>1</td>\n",
       "      <td>28</td>\n",
       "      <td>turquoise</td>\n",
       "    </tr>\n",
       "    <tr>\n",
       "      <th>Sarah Roued Thomsen (Å.)</th>\n",
       "      <td>Østjyllands Storkreds</td>\n",
       "      <td>Å. Alternativet</td>\n",
       "      <td>Spiser fisk, men derudover kun vegetarisk, ald...</td>\n",
       "      <td>2</td>\n",
       "      <td>2</td>\n",
       "      <td>2</td>\n",
       "      <td>0</td>\n",
       "      <td>2</td>\n",
       "      <td>2</td>\n",
       "      <td>2</td>\n",
       "      <td>...</td>\n",
       "      <td>2</td>\n",
       "      <td>2</td>\n",
       "      <td>2</td>\n",
       "      <td>0</td>\n",
       "      <td>2</td>\n",
       "      <td>2</td>\n",
       "      <td>2</td>\n",
       "      <td>2</td>\n",
       "      <td>28</td>\n",
       "      <td>blue</td>\n",
       "    </tr>\n",
       "    <tr>\n",
       "      <th>Susan Kronborg (B.)</th>\n",
       "      <td>Østjyllands Storkreds</td>\n",
       "      <td>B. Det Radikale Venstre</td>\n",
       "      <td>Spiser vegetarisk mindst halvdelen af ugens da...</td>\n",
       "      <td>2</td>\n",
       "      <td>2</td>\n",
       "      <td>2</td>\n",
       "      <td>2</td>\n",
       "      <td>1</td>\n",
       "      <td>2</td>\n",
       "      <td>2</td>\n",
       "      <td>...</td>\n",
       "      <td>2</td>\n",
       "      <td>2</td>\n",
       "      <td>2</td>\n",
       "      <td>1</td>\n",
       "      <td>2</td>\n",
       "      <td>1</td>\n",
       "      <td>2</td>\n",
       "      <td>2</td>\n",
       "      <td>28</td>\n",
       "      <td>turquoise</td>\n",
       "    </tr>\n",
       "    <tr>\n",
       "      <th>Mohamed Abdikarim  (Q.)</th>\n",
       "      <td>Østjyllands Storkreds</td>\n",
       "      <td>Q. Frie Grønne</td>\n",
       "      <td>Spiser vegetarisk mindst halvdelen af ugens da...</td>\n",
       "      <td>2</td>\n",
       "      <td>2</td>\n",
       "      <td>2</td>\n",
       "      <td>2</td>\n",
       "      <td>1</td>\n",
       "      <td>1</td>\n",
       "      <td>2</td>\n",
       "      <td>...</td>\n",
       "      <td>2</td>\n",
       "      <td>2</td>\n",
       "      <td>2</td>\n",
       "      <td>2</td>\n",
       "      <td>2</td>\n",
       "      <td>2</td>\n",
       "      <td>2</td>\n",
       "      <td>2</td>\n",
       "      <td>30</td>\n",
       "      <td>turquoise</td>\n",
       "    </tr>\n",
       "    <tr>\n",
       "      <th>Berit Naomi Skjernaa (Å.)</th>\n",
       "      <td>Østjyllands Storkreds</td>\n",
       "      <td>Å. Alternativet</td>\n",
       "      <td>Spiser fisk, men derudover kun vegetarisk, ald...</td>\n",
       "      <td>2</td>\n",
       "      <td>2</td>\n",
       "      <td>2</td>\n",
       "      <td>2</td>\n",
       "      <td>2</td>\n",
       "      <td>2</td>\n",
       "      <td>2</td>\n",
       "      <td>...</td>\n",
       "      <td>2</td>\n",
       "      <td>2</td>\n",
       "      <td>0</td>\n",
       "      <td>2</td>\n",
       "      <td>2</td>\n",
       "      <td>2</td>\n",
       "      <td>2</td>\n",
       "      <td>2</td>\n",
       "      <td>30</td>\n",
       "      <td>blue</td>\n",
       "    </tr>\n",
       "    <tr>\n",
       "      <th>Mira Issa Bloch (Å.)</th>\n",
       "      <td>Østjyllands Storkreds</td>\n",
       "      <td>Å. Alternativet</td>\n",
       "      <td>Spiser fisk, men derudover kun vegetarisk, ald...</td>\n",
       "      <td>2</td>\n",
       "      <td>2</td>\n",
       "      <td>2</td>\n",
       "      <td>2</td>\n",
       "      <td>2</td>\n",
       "      <td>2</td>\n",
       "      <td>2</td>\n",
       "      <td>...</td>\n",
       "      <td>2</td>\n",
       "      <td>2</td>\n",
       "      <td>2</td>\n",
       "      <td>2</td>\n",
       "      <td>2</td>\n",
       "      <td>2</td>\n",
       "      <td>2</td>\n",
       "      <td>2</td>\n",
       "      <td>32</td>\n",
       "      <td>blue</td>\n",
       "    </tr>\n",
       "    <tr>\n",
       "      <th>Niko Grünfeld (Q.)</th>\n",
       "      <td>Østjyllands Storkreds</td>\n",
       "      <td>Q. Frie Grønne</td>\n",
       "      <td>Ønsker ikke at svare</td>\n",
       "      <td>2</td>\n",
       "      <td>2</td>\n",
       "      <td>2</td>\n",
       "      <td>2</td>\n",
       "      <td>2</td>\n",
       "      <td>2</td>\n",
       "      <td>2</td>\n",
       "      <td>...</td>\n",
       "      <td>2</td>\n",
       "      <td>2</td>\n",
       "      <td>2</td>\n",
       "      <td>2</td>\n",
       "      <td>2</td>\n",
       "      <td>2</td>\n",
       "      <td>2</td>\n",
       "      <td>2</td>\n",
       "      <td>32</td>\n",
       "      <td>grey</td>\n",
       "    </tr>\n",
       "    <tr>\n",
       "      <th>Nikoline Erbs Hillers-Bendtsen (Å.)</th>\n",
       "      <td>Østjyllands Storkreds</td>\n",
       "      <td>Å. Alternativet</td>\n",
       "      <td>Spiser vegetarisk mindst halvdelen af ugens da...</td>\n",
       "      <td>2</td>\n",
       "      <td>2</td>\n",
       "      <td>2</td>\n",
       "      <td>2</td>\n",
       "      <td>2</td>\n",
       "      <td>2</td>\n",
       "      <td>2</td>\n",
       "      <td>...</td>\n",
       "      <td>2</td>\n",
       "      <td>2</td>\n",
       "      <td>2</td>\n",
       "      <td>2</td>\n",
       "      <td>2</td>\n",
       "      <td>2</td>\n",
       "      <td>2</td>\n",
       "      <td>2</td>\n",
       "      <td>32</td>\n",
       "      <td>turquoise</td>\n",
       "    </tr>\n",
       "    <tr>\n",
       "      <th>Thor Clasen Jonasen (Å.)</th>\n",
       "      <td>Østjyllands Storkreds</td>\n",
       "      <td>Å. Alternativet</td>\n",
       "      <td>Spiser ofte kød, kødpålæg, fjerkræ og/eller fi...</td>\n",
       "      <td>2</td>\n",
       "      <td>2</td>\n",
       "      <td>2</td>\n",
       "      <td>2</td>\n",
       "      <td>2</td>\n",
       "      <td>2</td>\n",
       "      <td>2</td>\n",
       "      <td>...</td>\n",
       "      <td>2</td>\n",
       "      <td>2</td>\n",
       "      <td>2</td>\n",
       "      <td>2</td>\n",
       "      <td>2</td>\n",
       "      <td>2</td>\n",
       "      <td>2</td>\n",
       "      <td>2</td>\n",
       "      <td>32</td>\n",
       "      <td>red</td>\n",
       "    </tr>\n",
       "    <tr>\n",
       "      <th>Helle Wium (Å.)</th>\n",
       "      <td>Østjyllands Storkreds</td>\n",
       "      <td>Å. Alternativet</td>\n",
       "      <td>Spiser vegetarisk mindst halvdelen af ugens da...</td>\n",
       "      <td>2</td>\n",
       "      <td>2</td>\n",
       "      <td>2</td>\n",
       "      <td>2</td>\n",
       "      <td>2</td>\n",
       "      <td>2</td>\n",
       "      <td>2</td>\n",
       "      <td>...</td>\n",
       "      <td>2</td>\n",
       "      <td>2</td>\n",
       "      <td>2</td>\n",
       "      <td>2</td>\n",
       "      <td>2</td>\n",
       "      <td>2</td>\n",
       "      <td>2</td>\n",
       "      <td>2</td>\n",
       "      <td>32</td>\n",
       "      <td>turquoise</td>\n",
       "    </tr>\n",
       "    <tr>\n",
       "      <th>Karina Dammand (Q.)</th>\n",
       "      <td>Østjyllands Storkreds</td>\n",
       "      <td>Q. Frie Grønne</td>\n",
       "      <td>Spiser kun vegetarisk, sjældent mælkeprodukter...</td>\n",
       "      <td>2</td>\n",
       "      <td>2</td>\n",
       "      <td>2</td>\n",
       "      <td>2</td>\n",
       "      <td>2</td>\n",
       "      <td>2</td>\n",
       "      <td>2</td>\n",
       "      <td>...</td>\n",
       "      <td>2</td>\n",
       "      <td>2</td>\n",
       "      <td>2</td>\n",
       "      <td>2</td>\n",
       "      <td>2</td>\n",
       "      <td>2</td>\n",
       "      <td>2</td>\n",
       "      <td>2</td>\n",
       "      <td>32</td>\n",
       "      <td>rgb(180, 240, 120)</td>\n",
       "    </tr>\n",
       "  </tbody>\n",
       "</table>\n",
       "<p>35 rows × 21 columns</p>\n",
       "</div>"
      ],
      "text/plain": [
       "                                                 Storkreds  \\\n",
       "Navn                                                         \n",
       "Lisa Perkins (I.)                    Østjyllands Storkreds   \n",
       "Ditte Wedege (I.)                    Østjyllands Storkreds   \n",
       "Anders Krojgaard Lund (C.)           Østjyllands Storkreds   \n",
       "Karen Budtz-Jørgensen (Ø.)           Østjyllands Storkreds   \n",
       "Hanna-Maria Lyng (K.)                Østjyllands Storkreds   \n",
       "Danny Rosenkilde (O.)                Østjyllands Storkreds   \n",
       "Tina Lund Sørensen (V.)              Østjyllands Storkreds   \n",
       "Inger-Marie Tryde (D.)               Østjyllands Storkreds   \n",
       "Anders Vistisen (O.)                 Østjyllands Storkreds   \n",
       "Isabella Arendt (C.)                 Østjyllands Storkreds   \n",
       "Karin Liltorp (M.)                   Østjyllands Storkreds   \n",
       "Rasmus Nordqvist  (F.)               Østjyllands Storkreds   \n",
       "Louise Louring (V.)                  Østjyllands Storkreds   \n",
       "Klaus Nyengaard (C.)                 Østjyllands Storkreds   \n",
       "Jens K. Lundager (D.)                Østjyllands Storkreds   \n",
       "Heidi Printzen (C.)                  Østjyllands Storkreds   \n",
       "Henrik Hjortshøj (K.)                Østjyllands Storkreds   \n",
       "Sofie Lippert  (F.)                  Østjyllands Storkreds   \n",
       "Mads Damgaard Mortensen (Å.)         Østjyllands Storkreds   \n",
       "Søren Lahn Sloth (F.)                Østjyllands Storkreds   \n",
       "Camilla Fabricius (A.)               Østjyllands Storkreds   \n",
       "Anders Pedersen  (Ø.)                Østjyllands Storkreds   \n",
       "Sara Grouleff (Q.)                   Østjyllands Storkreds   \n",
       "Carsten Borup (Å.)                   Østjyllands Storkreds   \n",
       "Lucasia Gregersen (Ø.)               Østjyllands Storkreds   \n",
       "Sarah Roued Thomsen (Å.)             Østjyllands Storkreds   \n",
       "Susan Kronborg (B.)                  Østjyllands Storkreds   \n",
       "Mohamed Abdikarim  (Q.)              Østjyllands Storkreds   \n",
       "Berit Naomi Skjernaa (Å.)            Østjyllands Storkreds   \n",
       "Mira Issa Bloch (Å.)                 Østjyllands Storkreds   \n",
       "Niko Grünfeld (Q.)                   Østjyllands Storkreds   \n",
       "Nikoline Erbs Hillers-Bendtsen (Å.)  Østjyllands Storkreds   \n",
       "Thor Clasen Jonasen (Å.)             Østjyllands Storkreds   \n",
       "Helle Wium (Å.)                      Østjyllands Storkreds   \n",
       "Karina Dammand (Q.)                  Østjyllands Storkreds   \n",
       "\n",
       "                                                              Parti  \\\n",
       "Navn                                                                  \n",
       "Lisa Perkins (I.)                               I. Liberal Alliance   \n",
       "Ditte Wedege (I.)                               I. Liberal Alliance   \n",
       "Anders Krojgaard Lund (C.)           C. Det Konservative Folkeparti   \n",
       "Karen Budtz-Jørgensen (Ø.)                          Ø. Enhedslisten   \n",
       "Hanna-Maria Lyng (K.)                        K. Kristendemokraterne   \n",
       "Danny Rosenkilde (O.)                           O. Dansk Folkeparti   \n",
       "Tina Lund Sørensen (V.)                                  V. Venstre   \n",
       "Inger-Marie Tryde (D.)                            D. Nye Borgerlige   \n",
       "Anders Vistisen (O.)                            O. Dansk Folkeparti   \n",
       "Isabella Arendt (C.)                 C. Det Konservative Folkeparti   \n",
       "Karin Liltorp (M.)                                   M. Moderaterne   \n",
       "Rasmus Nordqvist  (F.)                   F. Socialistisk Folkeparti   \n",
       "Louise Louring (V.)                                      V. Venstre   \n",
       "Klaus Nyengaard (C.)                 C. Det Konservative Folkeparti   \n",
       "Jens K. Lundager (D.)                             D. Nye Borgerlige   \n",
       "Heidi Printzen (C.)                  C. Det Konservative Folkeparti   \n",
       "Henrik Hjortshøj (K.)                        K. Kristendemokraterne   \n",
       "Sofie Lippert  (F.)                      F. Socialistisk Folkeparti   \n",
       "Mads Damgaard Mortensen (Å.)                        Å. Alternativet   \n",
       "Søren Lahn Sloth (F.)                    F. Socialistisk Folkeparti   \n",
       "Camilla Fabricius (A.)                         A. Socialdemokratiet   \n",
       "Anders Pedersen  (Ø.)                               Ø. Enhedslisten   \n",
       "Sara Grouleff (Q.)                                   Q. Frie Grønne   \n",
       "Carsten Borup (Å.)                                  Å. Alternativet   \n",
       "Lucasia Gregersen (Ø.)                              Ø. Enhedslisten   \n",
       "Sarah Roued Thomsen (Å.)                            Å. Alternativet   \n",
       "Susan Kronborg (B.)                         B. Det Radikale Venstre   \n",
       "Mohamed Abdikarim  (Q.)                              Q. Frie Grønne   \n",
       "Berit Naomi Skjernaa (Å.)                           Å. Alternativet   \n",
       "Mira Issa Bloch (Å.)                                Å. Alternativet   \n",
       "Niko Grünfeld (Q.)                                   Q. Frie Grønne   \n",
       "Nikoline Erbs Hillers-Bendtsen (Å.)                 Å. Alternativet   \n",
       "Thor Clasen Jonasen (Å.)                            Å. Alternativet   \n",
       "Helle Wium (Å.)                                     Å. Alternativet   \n",
       "Karina Dammand (Q.)                                  Q. Frie Grønne   \n",
       "\n",
       "                                                                                  Kost  \\\n",
       "Navn                                                                                     \n",
       "Lisa Perkins (I.)                                                                    0   \n",
       "Ditte Wedege (I.)                                                                    0   \n",
       "Anders Krojgaard Lund (C.)           Spiser ofte kød, kødpålæg, fjerkræ og/eller fi...   \n",
       "Karen Budtz-Jørgensen (Ø.)                                                           0   \n",
       "Hanna-Maria Lyng (K.)                Spiser ofte kød, kødpålæg, fjerkræ og/eller fi...   \n",
       "Danny Rosenkilde (O.)                Spiser ofte kød, kødpålæg, fjerkræ og/eller fi...   \n",
       "Tina Lund Sørensen (V.)              Spiser ofte kød, kødpålæg, fjerkræ og/eller fi...   \n",
       "Inger-Marie Tryde (D.)               Spiser ofte kød, kødpålæg, fjerkræ og/eller fi...   \n",
       "Anders Vistisen (O.)                 Spiser ofte kød, kødpålæg, fjerkræ og/eller fi...   \n",
       "Isabella Arendt (C.)                 Spiser ofte kød, kødpålæg, fjerkræ og/eller fi...   \n",
       "Karin Liltorp (M.)                   Spiser fisk, men derudover kun vegetarisk, ald...   \n",
       "Rasmus Nordqvist  (F.)                                                               0   \n",
       "Louise Louring (V.)                  Spiser vegetarisk mindst halvdelen af ugens da...   \n",
       "Klaus Nyengaard (C.)                 Spiser ofte kød, kødpålæg, fjerkræ og/eller fi...   \n",
       "Jens K. Lundager (D.)                Spiser ofte kød, kødpålæg, fjerkræ og/eller fi...   \n",
       "Heidi Printzen (C.)                  Spiser ofte kød, kødpålæg, fjerkræ og/eller fi...   \n",
       "Henrik Hjortshøj (K.)                Spiser fisk, men derudover kun vegetarisk, ald...   \n",
       "Sofie Lippert  (F.)                  Spiser fisk, men derudover kun vegetarisk, ald...   \n",
       "Mads Damgaard Mortensen (Å.)         Spiser ofte kød, kødpålæg, fjerkræ og/eller fi...   \n",
       "Søren Lahn Sloth (F.)                Spiser vegetarisk mindst halvdelen af ugens da...   \n",
       "Camilla Fabricius (A.)               Spiser kun vegetarisk, sjældent mælkeprodukter...   \n",
       "Anders Pedersen  (Ø.)                Spiser fisk, men derudover kun vegetarisk, ald...   \n",
       "Sara Grouleff (Q.)                   Spiser kun vegetarisk, aldrig kød, kødpålæg, f...   \n",
       "Carsten Borup (Å.)                   Spiser vegetarisk mindst halvdelen af ugens da...   \n",
       "Lucasia Gregersen (Ø.)               Spiser vegetarisk mindst halvdelen af ugens da...   \n",
       "Sarah Roued Thomsen (Å.)             Spiser fisk, men derudover kun vegetarisk, ald...   \n",
       "Susan Kronborg (B.)                  Spiser vegetarisk mindst halvdelen af ugens da...   \n",
       "Mohamed Abdikarim  (Q.)              Spiser vegetarisk mindst halvdelen af ugens da...   \n",
       "Berit Naomi Skjernaa (Å.)            Spiser fisk, men derudover kun vegetarisk, ald...   \n",
       "Mira Issa Bloch (Å.)                 Spiser fisk, men derudover kun vegetarisk, ald...   \n",
       "Niko Grünfeld (Q.)                                                Ønsker ikke at svare   \n",
       "Nikoline Erbs Hillers-Bendtsen (Å.)  Spiser vegetarisk mindst halvdelen af ugens da...   \n",
       "Thor Clasen Jonasen (Å.)             Spiser ofte kød, kødpålæg, fjerkræ og/eller fi...   \n",
       "Helle Wium (Å.)                      Spiser vegetarisk mindst halvdelen af ugens da...   \n",
       "Karina Dammand (Q.)                  Spiser kun vegetarisk, sjældent mælkeprodukter...   \n",
       "\n",
       "                                     Alle offentlige køkkener skal pålægges at reducere deres CO2-udslip fra mad og måltider med 25% i 2025.  \\\n",
       "Navn                                                                                                                                           \n",
       "Lisa Perkins (I.)                                                                    0                                                         \n",
       "Ditte Wedege (I.)                                                                    0                                                         \n",
       "Anders Krojgaard Lund (C.)                                                           0                                                         \n",
       "Karen Budtz-Jørgensen (Ø.)                                                           2                                                         \n",
       "Hanna-Maria Lyng (K.)                                                                0                                                         \n",
       "Danny Rosenkilde (O.)                                                                0                                                         \n",
       "Tina Lund Sørensen (V.)                                                              0                                                         \n",
       "Inger-Marie Tryde (D.)                                                               0                                                         \n",
       "Anders Vistisen (O.)                                                                 1                                                         \n",
       "Isabella Arendt (C.)                                                                 2                                                         \n",
       "Karin Liltorp (M.)                                                                   1                                                         \n",
       "Rasmus Nordqvist  (F.)                                                               2                                                         \n",
       "Louise Louring (V.)                                                                  1                                                         \n",
       "Klaus Nyengaard (C.)                                                                 1                                                         \n",
       "Jens K. Lundager (D.)                                                                1                                                         \n",
       "Heidi Printzen (C.)                                                                  2                                                         \n",
       "Henrik Hjortshøj (K.)                                                                1                                                         \n",
       "Sofie Lippert  (F.)                                                                  2                                                         \n",
       "Mads Damgaard Mortensen (Å.)                                                         1                                                         \n",
       "Søren Lahn Sloth (F.)                                                                2                                                         \n",
       "Camilla Fabricius (A.)                                                               2                                                         \n",
       "Anders Pedersen  (Ø.)                                                                2                                                         \n",
       "Sara Grouleff (Q.)                                                                   2                                                         \n",
       "Carsten Borup (Å.)                                                                   2                                                         \n",
       "Lucasia Gregersen (Ø.)                                                               2                                                         \n",
       "Sarah Roued Thomsen (Å.)                                                             2                                                         \n",
       "Susan Kronborg (B.)                                                                  2                                                         \n",
       "Mohamed Abdikarim  (Q.)                                                              2                                                         \n",
       "Berit Naomi Skjernaa (Å.)                                                            2                                                         \n",
       "Mira Issa Bloch (Å.)                                                                 2                                                         \n",
       "Niko Grünfeld (Q.)                                                                   2                                                         \n",
       "Nikoline Erbs Hillers-Bendtsen (Å.)                                                  2                                                         \n",
       "Thor Clasen Jonasen (Å.)                                                             2                                                         \n",
       "Helle Wium (Å.)                                                                      2                                                         \n",
       "Karina Dammand (Q.)                                                                  2                                                         \n",
       "\n",
       "                                     Alle offentlige køkkener skal pålægges at reducere deres CO2-udslip fra mad og måltider med 50% i 2030.  \\\n",
       "Navn                                                                                                                                           \n",
       "Lisa Perkins (I.)                                                                    0                                                         \n",
       "Ditte Wedege (I.)                                                                    0                                                         \n",
       "Anders Krojgaard Lund (C.)                                                           0                                                         \n",
       "Karen Budtz-Jørgensen (Ø.)                                                           1                                                         \n",
       "Hanna-Maria Lyng (K.)                                                                0                                                         \n",
       "Danny Rosenkilde (O.)                                                                0                                                         \n",
       "Tina Lund Sørensen (V.)                                                              0                                                         \n",
       "Inger-Marie Tryde (D.)                                                               0                                                         \n",
       "Anders Vistisen (O.)                                                                 1                                                         \n",
       "Isabella Arendt (C.)                                                                 2                                                         \n",
       "Karin Liltorp (M.)                                                                   1                                                         \n",
       "Rasmus Nordqvist  (F.)                                                               2                                                         \n",
       "Louise Louring (V.)                                                                  1                                                         \n",
       "Klaus Nyengaard (C.)                                                                 0                                                         \n",
       "Jens K. Lundager (D.)                                                                1                                                         \n",
       "Heidi Printzen (C.)                                                                  1                                                         \n",
       "Henrik Hjortshøj (K.)                                                                1                                                         \n",
       "Sofie Lippert  (F.)                                                                  2                                                         \n",
       "Mads Damgaard Mortensen (Å.)                                                         1                                                         \n",
       "Søren Lahn Sloth (F.)                                                                2                                                         \n",
       "Camilla Fabricius (A.)                                                               2                                                         \n",
       "Anders Pedersen  (Ø.)                                                                2                                                         \n",
       "Sara Grouleff (Q.)                                                                   2                                                         \n",
       "Carsten Borup (Å.)                                                                   2                                                         \n",
       "Lucasia Gregersen (Ø.)                                                               2                                                         \n",
       "Sarah Roued Thomsen (Å.)                                                             2                                                         \n",
       "Susan Kronborg (B.)                                                                  2                                                         \n",
       "Mohamed Abdikarim  (Q.)                                                              2                                                         \n",
       "Berit Naomi Skjernaa (Å.)                                                            2                                                         \n",
       "Mira Issa Bloch (Å.)                                                                 2                                                         \n",
       "Niko Grünfeld (Q.)                                                                   2                                                         \n",
       "Nikoline Erbs Hillers-Bendtsen (Å.)                                                  2                                                         \n",
       "Thor Clasen Jonasen (Å.)                                                             2                                                         \n",
       "Helle Wium (Å.)                                                                      2                                                         \n",
       "Karina Dammand (Q.)                                                                  2                                                         \n",
       "\n",
       "                                     En øremærket pulje til efteruddannelse af køkkenpersonale skal sikre, at alle madprofessionelle ved, hvordan de tilbereder klimavenlig, plantebaseret mad.  \\\n",
       "Navn                                                                                                                                                                                              \n",
       "Lisa Perkins (I.)                                                                    0                                                                                                            \n",
       "Ditte Wedege (I.)                                                                    0                                                                                                            \n",
       "Anders Krojgaard Lund (C.)                                                           0                                                                                                            \n",
       "Karen Budtz-Jørgensen (Ø.)                                                           0                                                                                                            \n",
       "Hanna-Maria Lyng (K.)                                                                1                                                                                                            \n",
       "Danny Rosenkilde (O.)                                                                1                                                                                                            \n",
       "Tina Lund Sørensen (V.)                                                              0                                                                                                            \n",
       "Inger-Marie Tryde (D.)                                                               1                                                                                                            \n",
       "Anders Vistisen (O.)                                                                 0                                                                                                            \n",
       "Isabella Arendt (C.)                                                                 1                                                                                                            \n",
       "Karin Liltorp (M.)                                                                   1                                                                                                            \n",
       "Rasmus Nordqvist  (F.)                                                               2                                                                                                            \n",
       "Louise Louring (V.)                                                                  0                                                                                                            \n",
       "Klaus Nyengaard (C.)                                                                 0                                                                                                            \n",
       "Jens K. Lundager (D.)                                                                1                                                                                                            \n",
       "Heidi Printzen (C.)                                                                  2                                                                                                            \n",
       "Henrik Hjortshøj (K.)                                                                1                                                                                                            \n",
       "Sofie Lippert  (F.)                                                                  2                                                                                                            \n",
       "Mads Damgaard Mortensen (Å.)                                                         2                                                                                                            \n",
       "Søren Lahn Sloth (F.)                                                                2                                                                                                            \n",
       "Camilla Fabricius (A.)                                                               2                                                                                                            \n",
       "Anders Pedersen  (Ø.)                                                                1                                                                                                            \n",
       "Sara Grouleff (Q.)                                                                   1                                                                                                            \n",
       "Carsten Borup (Å.)                                                                   2                                                                                                            \n",
       "Lucasia Gregersen (Ø.)                                                               2                                                                                                            \n",
       "Sarah Roued Thomsen (Å.)                                                             2                                                                                                            \n",
       "Susan Kronborg (B.)                                                                  2                                                                                                            \n",
       "Mohamed Abdikarim  (Q.)                                                              2                                                                                                            \n",
       "Berit Naomi Skjernaa (Å.)                                                            2                                                                                                            \n",
       "Mira Issa Bloch (Å.)                                                                 2                                                                                                            \n",
       "Niko Grünfeld (Q.)                                                                   2                                                                                                            \n",
       "Nikoline Erbs Hillers-Bendtsen (Å.)                                                  2                                                                                                            \n",
       "Thor Clasen Jonasen (Å.)                                                             2                                                                                                            \n",
       "Helle Wium (Å.)                                                                      2                                                                                                            \n",
       "Karina Dammand (Q.)                                                                  2                                                                                                            \n",
       "\n",
       "                                     Lægeuddannelsen skal indeholde et obligatorisk fag om forebyggelse af sygdomme gennem mere plantebaseret kost.  \\\n",
       "Navn                                                                                                                                                  \n",
       "Lisa Perkins (I.)                                                                    0                                                                \n",
       "Ditte Wedege (I.)                                                                    0                                                                \n",
       "Anders Krojgaard Lund (C.)                                                           0                                                                \n",
       "Karen Budtz-Jørgensen (Ø.)                                                           0                                                                \n",
       "Hanna-Maria Lyng (K.)                                                                0                                                                \n",
       "Danny Rosenkilde (O.)                                                                0                                                                \n",
       "Tina Lund Sørensen (V.)                                                              1                                                                \n",
       "Inger-Marie Tryde (D.)                                                               0                                                                \n",
       "Anders Vistisen (O.)                                                                 0                                                                \n",
       "Isabella Arendt (C.)                                                                 0                                                                \n",
       "Karin Liltorp (M.)                                                                   0                                                                \n",
       "Rasmus Nordqvist  (F.)                                                               0                                                                \n",
       "Louise Louring (V.)                                                                  0                                                                \n",
       "Klaus Nyengaard (C.)                                                                 1                                                                \n",
       "Jens K. Lundager (D.)                                                                2                                                                \n",
       "Heidi Printzen (C.)                                                                  1                                                                \n",
       "Henrik Hjortshøj (K.)                                                                0                                                                \n",
       "Sofie Lippert  (F.)                                                                  0                                                                \n",
       "Mads Damgaard Mortensen (Å.)                                                         1                                                                \n",
       "Søren Lahn Sloth (F.)                                                                1                                                                \n",
       "Camilla Fabricius (A.)                                                               2                                                                \n",
       "Anders Pedersen  (Ø.)                                                                0                                                                \n",
       "Sara Grouleff (Q.)                                                                   1                                                                \n",
       "Carsten Borup (Å.)                                                                   2                                                                \n",
       "Lucasia Gregersen (Ø.)                                                               1                                                                \n",
       "Sarah Roued Thomsen (Å.)                                                             0                                                                \n",
       "Susan Kronborg (B.)                                                                  2                                                                \n",
       "Mohamed Abdikarim  (Q.)                                                              2                                                                \n",
       "Berit Naomi Skjernaa (Å.)                                                            2                                                                \n",
       "Mira Issa Bloch (Å.)                                                                 2                                                                \n",
       "Niko Grünfeld (Q.)                                                                   2                                                                \n",
       "Nikoline Erbs Hillers-Bendtsen (Å.)                                                  2                                                                \n",
       "Thor Clasen Jonasen (Å.)                                                             2                                                                \n",
       "Helle Wium (Å.)                                                                      2                                                                \n",
       "Karina Dammand (Q.)                                                                  2                                                                \n",
       "\n",
       "                                     Der skal være en plantebaseret kokkeuddannelse i Danmark, så den grønne gastronomi kan blive udviklet.  \\\n",
       "Navn                                                                                                                                          \n",
       "Lisa Perkins (I.)                                                                    0                                                        \n",
       "Ditte Wedege (I.)                                                                    0                                                        \n",
       "Anders Krojgaard Lund (C.)                                                           0                                                        \n",
       "Karen Budtz-Jørgensen (Ø.)                                                           0                                                        \n",
       "Hanna-Maria Lyng (K.)                                                                0                                                        \n",
       "Danny Rosenkilde (O.)                                                                0                                                        \n",
       "Tina Lund Sørensen (V.)                                                              1                                                        \n",
       "Inger-Marie Tryde (D.)                                                               1                                                        \n",
       "Anders Vistisen (O.)                                                                 1                                                        \n",
       "Isabella Arendt (C.)                                                                 0                                                        \n",
       "Karin Liltorp (M.)                                                                   0                                                        \n",
       "Rasmus Nordqvist  (F.)                                                               1                                                        \n",
       "Louise Louring (V.)                                                                  0                                                        \n",
       "Klaus Nyengaard (C.)                                                                 1                                                        \n",
       "Jens K. Lundager (D.)                                                                2                                                        \n",
       "Heidi Printzen (C.)                                                                  0                                                        \n",
       "Henrik Hjortshøj (K.)                                                                0                                                        \n",
       "Sofie Lippert  (F.)                                                                  1                                                        \n",
       "Mads Damgaard Mortensen (Å.)                                                         1                                                        \n",
       "Søren Lahn Sloth (F.)                                                                0                                                        \n",
       "Camilla Fabricius (A.)                                                               2                                                        \n",
       "Anders Pedersen  (Ø.)                                                                1                                                        \n",
       "Sara Grouleff (Q.)                                                                   1                                                        \n",
       "Carsten Borup (Å.)                                                                   2                                                        \n",
       "Lucasia Gregersen (Ø.)                                                               2                                                        \n",
       "Sarah Roued Thomsen (Å.)                                                             2                                                        \n",
       "Susan Kronborg (B.)                                                                  1                                                        \n",
       "Mohamed Abdikarim  (Q.)                                                              1                                                        \n",
       "Berit Naomi Skjernaa (Å.)                                                            2                                                        \n",
       "Mira Issa Bloch (Å.)                                                                 2                                                        \n",
       "Niko Grünfeld (Q.)                                                                   2                                                        \n",
       "Nikoline Erbs Hillers-Bendtsen (Å.)                                                  2                                                        \n",
       "Thor Clasen Jonasen (Å.)                                                             2                                                        \n",
       "Helle Wium (Å.)                                                                      2                                                        \n",
       "Karina Dammand (Q.)                                                                  2                                                        \n",
       "\n",
       "                                     Fødevarestyrelsen skal have flere midler til at styrke deres faglige ressourcer til at rådgive om plantebaseret ernæring.  \\\n",
       "Navn                                                                                                                                                             \n",
       "Lisa Perkins (I.)                                                                    0                                                                           \n",
       "Ditte Wedege (I.)                                                                    0                                                                           \n",
       "Anders Krojgaard Lund (C.)                                                           0                                                                           \n",
       "Karen Budtz-Jørgensen (Ø.)                                                           0                                                                           \n",
       "Hanna-Maria Lyng (K.)                                                                0                                                                           \n",
       "Danny Rosenkilde (O.)                                                                0                                                                           \n",
       "Tina Lund Sørensen (V.)                                                              0                                                                           \n",
       "Inger-Marie Tryde (D.)                                                               0                                                                           \n",
       "Anders Vistisen (O.)                                                                 0                                                                           \n",
       "Isabella Arendt (C.)                                                                 0                                                                           \n",
       "Karin Liltorp (M.)                                                                   1                                                                           \n",
       "Rasmus Nordqvist  (F.)                                                               2                                                                           \n",
       "Louise Louring (V.)                                                                  2                                                                           \n",
       "Klaus Nyengaard (C.)                                                                 1                                                                           \n",
       "Jens K. Lundager (D.)                                                                1                                                                           \n",
       "Heidi Printzen (C.)                                                                  0                                                                           \n",
       "Henrik Hjortshøj (K.)                                                                1                                                                           \n",
       "Sofie Lippert  (F.)                                                                  1                                                                           \n",
       "Mads Damgaard Mortensen (Å.)                                                         1                                                                           \n",
       "Søren Lahn Sloth (F.)                                                                2                                                                           \n",
       "Camilla Fabricius (A.)                                                               2                                                                           \n",
       "Anders Pedersen  (Ø.)                                                                1                                                                           \n",
       "Sara Grouleff (Q.)                                                                   0                                                                           \n",
       "Carsten Borup (Å.)                                                                   2                                                                           \n",
       "Lucasia Gregersen (Ø.)                                                               2                                                                           \n",
       "Sarah Roued Thomsen (Å.)                                                             2                                                                           \n",
       "Susan Kronborg (B.)                                                                  2                                                                           \n",
       "Mohamed Abdikarim  (Q.)                                                              1                                                                           \n",
       "Berit Naomi Skjernaa (Å.)                                                            2                                                                           \n",
       "Mira Issa Bloch (Å.)                                                                 2                                                                           \n",
       "Niko Grünfeld (Q.)                                                                   2                                                                           \n",
       "Nikoline Erbs Hillers-Bendtsen (Å.)                                                  2                                                                           \n",
       "Thor Clasen Jonasen (Å.)                                                             2                                                                           \n",
       "Helle Wium (Å.)                                                                      2                                                                           \n",
       "Karina Dammand (Q.)                                                                  2                                                                           \n",
       "\n",
       "                                     Det skal sikres, at myndighederne på altomkost.dk vejleder konstruktivt i plantebaseret kost, herunder også sikrer konstruktiv vejledning til veganske børnefamilier.  \\\n",
       "Navn                                                                                                                                                                                                         \n",
       "Lisa Perkins (I.)                                                                    0                                                                                                                       \n",
       "Ditte Wedege (I.)                                                                    0                                                                                                                       \n",
       "Anders Krojgaard Lund (C.)                                                           0                                                                                                                       \n",
       "Karen Budtz-Jørgensen (Ø.)                                                           0                                                                                                                       \n",
       "Hanna-Maria Lyng (K.)                                                                1                                                                                                                       \n",
       "Danny Rosenkilde (O.)                                                                1                                                                                                                       \n",
       "Tina Lund Sørensen (V.)                                                              0                                                                                                                       \n",
       "Inger-Marie Tryde (D.)                                                               0                                                                                                                       \n",
       "Anders Vistisen (O.)                                                                 0                                                                                                                       \n",
       "Isabella Arendt (C.)                                                                 1                                                                                                                       \n",
       "Karin Liltorp (M.)                                                                   1                                                                                                                       \n",
       "Rasmus Nordqvist  (F.)                                                               0                                                                                                                       \n",
       "Louise Louring (V.)                                                                  1                                                                                                                       \n",
       "Klaus Nyengaard (C.)                                                                 0                                                                                                                       \n",
       "Jens K. Lundager (D.)                                                                2                                                                                                                       \n",
       "Heidi Printzen (C.)                                                                  2                                                                                                                       \n",
       "Henrik Hjortshøj (K.)                                                                2                                                                                                                       \n",
       "Sofie Lippert  (F.)                                                                  1                                                                                                                       \n",
       "Mads Damgaard Mortensen (Å.)                                                         1                                                                                                                       \n",
       "Søren Lahn Sloth (F.)                                                                1                                                                                                                       \n",
       "Camilla Fabricius (A.)                                                               1                                                                                                                       \n",
       "Anders Pedersen  (Ø.)                                                                2                                                                                                                       \n",
       "Sara Grouleff (Q.)                                                                   2                                                                                                                       \n",
       "Carsten Borup (Å.)                                                                   1                                                                                                                       \n",
       "Lucasia Gregersen (Ø.)                                                               2                                                                                                                       \n",
       "Sarah Roued Thomsen (Å.)                                                             2                                                                                                                       \n",
       "Susan Kronborg (B.)                                                                  2                                                                                                                       \n",
       "Mohamed Abdikarim  (Q.)                                                              2                                                                                                                       \n",
       "Berit Naomi Skjernaa (Å.)                                                            2                                                                                                                       \n",
       "Mira Issa Bloch (Å.)                                                                 2                                                                                                                       \n",
       "Niko Grünfeld (Q.)                                                                   2                                                                                                                       \n",
       "Nikoline Erbs Hillers-Bendtsen (Å.)                                                  2                                                                                                                       \n",
       "Thor Clasen Jonasen (Å.)                                                             2                                                                                                                       \n",
       "Helle Wium (Å.)                                                                      2                                                                                                                       \n",
       "Karina Dammand (Q.)                                                                  2                                                                                                                       \n",
       "\n",
       "                                     ...  \\\n",
       "Navn                                 ...   \n",
       "Lisa Perkins (I.)                    ...   \n",
       "Ditte Wedege (I.)                    ...   \n",
       "Anders Krojgaard Lund (C.)           ...   \n",
       "Karen Budtz-Jørgensen (Ø.)           ...   \n",
       "Hanna-Maria Lyng (K.)                ...   \n",
       "Danny Rosenkilde (O.)                ...   \n",
       "Tina Lund Sørensen (V.)              ...   \n",
       "Inger-Marie Tryde (D.)               ...   \n",
       "Anders Vistisen (O.)                 ...   \n",
       "Isabella Arendt (C.)                 ...   \n",
       "Karin Liltorp (M.)                   ...   \n",
       "Rasmus Nordqvist  (F.)               ...   \n",
       "Louise Louring (V.)                  ...   \n",
       "Klaus Nyengaard (C.)                 ...   \n",
       "Jens K. Lundager (D.)                ...   \n",
       "Heidi Printzen (C.)                  ...   \n",
       "Henrik Hjortshøj (K.)                ...   \n",
       "Sofie Lippert  (F.)                  ...   \n",
       "Mads Damgaard Mortensen (Å.)         ...   \n",
       "Søren Lahn Sloth (F.)                ...   \n",
       "Camilla Fabricius (A.)               ...   \n",
       "Anders Pedersen  (Ø.)                ...   \n",
       "Sara Grouleff (Q.)                   ...   \n",
       "Carsten Borup (Å.)                   ...   \n",
       "Lucasia Gregersen (Ø.)               ...   \n",
       "Sarah Roued Thomsen (Å.)             ...   \n",
       "Susan Kronborg (B.)                  ...   \n",
       "Mohamed Abdikarim  (Q.)              ...   \n",
       "Berit Naomi Skjernaa (Å.)            ...   \n",
       "Mira Issa Bloch (Å.)                 ...   \n",
       "Niko Grünfeld (Q.)                   ...   \n",
       "Nikoline Erbs Hillers-Bendtsen (Å.)  ...   \n",
       "Thor Clasen Jonasen (Å.)             ...   \n",
       "Helle Wium (Å.)                      ...   \n",
       "Karina Dammand (Q.)                  ...   \n",
       "\n",
       "                                     Der skal være en klimaafgift på alle fødevarer, der afspejler deres drivhusgasudledning.  \\\n",
       "Navn                                                                                                                            \n",
       "Lisa Perkins (I.)                                                                    0                                          \n",
       "Ditte Wedege (I.)                                                                    0                                          \n",
       "Anders Krojgaard Lund (C.)                                                           1                                          \n",
       "Karen Budtz-Jørgensen (Ø.)                                                           0                                          \n",
       "Hanna-Maria Lyng (K.)                                                                0                                          \n",
       "Danny Rosenkilde (O.)                                                                1                                          \n",
       "Tina Lund Sørensen (V.)                                                              0                                          \n",
       "Inger-Marie Tryde (D.)                                                               0                                          \n",
       "Anders Vistisen (O.)                                                                 0                                          \n",
       "Isabella Arendt (C.)                                                                 1                                          \n",
       "Karin Liltorp (M.)                                                                   1                                          \n",
       "Rasmus Nordqvist  (F.)                                                               0                                          \n",
       "Louise Louring (V.)                                                                  0                                          \n",
       "Klaus Nyengaard (C.)                                                                 2                                          \n",
       "Jens K. Lundager (D.)                                                                2                                          \n",
       "Heidi Printzen (C.)                                                                  2                                          \n",
       "Henrik Hjortshøj (K.)                                                                2                                          \n",
       "Sofie Lippert  (F.)                                                                  2                                          \n",
       "Mads Damgaard Mortensen (Å.)                                                         2                                          \n",
       "Søren Lahn Sloth (F.)                                                                2                                          \n",
       "Camilla Fabricius (A.)                                                               0                                          \n",
       "Anders Pedersen  (Ø.)                                                                2                                          \n",
       "Sara Grouleff (Q.)                                                                   2                                          \n",
       "Carsten Borup (Å.)                                                                   2                                          \n",
       "Lucasia Gregersen (Ø.)                                                               2                                          \n",
       "Sarah Roued Thomsen (Å.)                                                             2                                          \n",
       "Susan Kronborg (B.)                                                                  2                                          \n",
       "Mohamed Abdikarim  (Q.)                                                              2                                          \n",
       "Berit Naomi Skjernaa (Å.)                                                            2                                          \n",
       "Mira Issa Bloch (Å.)                                                                 2                                          \n",
       "Niko Grünfeld (Q.)                                                                   2                                          \n",
       "Nikoline Erbs Hillers-Bendtsen (Å.)                                                  2                                          \n",
       "Thor Clasen Jonasen (Å.)                                                             2                                          \n",
       "Helle Wium (Å.)                                                                      2                                          \n",
       "Karina Dammand (Q.)                                                                  2                                          \n",
       "\n",
       "                                     Der skal være en klimaafgift specifikt på alle animalske fødevarer  \\\n",
       "Navn                                                                                                      \n",
       "Lisa Perkins (I.)                                                                    0                    \n",
       "Ditte Wedege (I.)                                                                    0                    \n",
       "Anders Krojgaard Lund (C.)                                                           0                    \n",
       "Karen Budtz-Jørgensen (Ø.)                                                           0                    \n",
       "Hanna-Maria Lyng (K.)                                                                0                    \n",
       "Danny Rosenkilde (O.)                                                                0                    \n",
       "Tina Lund Sørensen (V.)                                                              0                    \n",
       "Inger-Marie Tryde (D.)                                                               0                    \n",
       "Anders Vistisen (O.)                                                                 0                    \n",
       "Isabella Arendt (C.)                                                                 0                    \n",
       "Karin Liltorp (M.)                                                                   0                    \n",
       "Rasmus Nordqvist  (F.)                                                               0                    \n",
       "Louise Louring (V.)                                                                  0                    \n",
       "Klaus Nyengaard (C.)                                                                 2                    \n",
       "Jens K. Lundager (D.)                                                                0                    \n",
       "Heidi Printzen (C.)                                                                  0                    \n",
       "Henrik Hjortshøj (K.)                                                                2                    \n",
       "Sofie Lippert  (F.)                                                                  1                    \n",
       "Mads Damgaard Mortensen (Å.)                                                         1                    \n",
       "Søren Lahn Sloth (F.)                                                                0                    \n",
       "Camilla Fabricius (A.)                                                               0                    \n",
       "Anders Pedersen  (Ø.)                                                                2                    \n",
       "Sara Grouleff (Q.)                                                                   2                    \n",
       "Carsten Borup (Å.)                                                                   1                    \n",
       "Lucasia Gregersen (Ø.)                                                               2                    \n",
       "Sarah Roued Thomsen (Å.)                                                             2                    \n",
       "Susan Kronborg (B.)                                                                  2                    \n",
       "Mohamed Abdikarim  (Q.)                                                              2                    \n",
       "Berit Naomi Skjernaa (Å.)                                                            2                    \n",
       "Mira Issa Bloch (Å.)                                                                 2                    \n",
       "Niko Grünfeld (Q.)                                                                   2                    \n",
       "Nikoline Erbs Hillers-Bendtsen (Å.)                                                  2                    \n",
       "Thor Clasen Jonasen (Å.)                                                             2                    \n",
       "Helle Wium (Å.)                                                                      2                    \n",
       "Karina Dammand (Q.)                                                                  2                    \n",
       "\n",
       "                                     Finansielle institutioner (banker, pensionskasser og investeringsrådgivere, långivere etc.) skal pålægges hvert år at afrapportere, hvordan deres porteføljer, produkter og långivning bidrager til grøn omstilling af landbruget, herunder især fra animalsk til plantebaseret produktion.  \\\n",
       "Navn                                                                                                                                                                                                                                                                                                                               \n",
       "Lisa Perkins (I.)                                                                    0                                                                                                                                                                                                                                             \n",
       "Ditte Wedege (I.)                                                                    0                                                                                                                                                                                                                                             \n",
       "Anders Krojgaard Lund (C.)                                                           0                                                                                                                                                                                                                                             \n",
       "Karen Budtz-Jørgensen (Ø.)                                                           0                                                                                                                                                                                                                                             \n",
       "Hanna-Maria Lyng (K.)                                                                0                                                                                                                                                                                                                                             \n",
       "Danny Rosenkilde (O.)                                                                0                                                                                                                                                                                                                                             \n",
       "Tina Lund Sørensen (V.)                                                              0                                                                                                                                                                                                                                             \n",
       "Inger-Marie Tryde (D.)                                                               0                                                                                                                                                                                                                                             \n",
       "Anders Vistisen (O.)                                                                 0                                                                                                                                                                                                                                             \n",
       "Isabella Arendt (C.)                                                                 0                                                                                                                                                                                                                                             \n",
       "Karin Liltorp (M.)                                                                   0                                                                                                                                                                                                                                             \n",
       "Rasmus Nordqvist  (F.)                                                               0                                                                                                                                                                                                                                             \n",
       "Louise Louring (V.)                                                                  0                                                                                                                                                                                                                                             \n",
       "Klaus Nyengaard (C.)                                                                 0                                                                                                                                                                                                                                             \n",
       "Jens K. Lundager (D.)                                                                0                                                                                                                                                                                                                                             \n",
       "Heidi Printzen (C.)                                                                  0                                                                                                                                                                                                                                             \n",
       "Henrik Hjortshøj (K.)                                                                1                                                                                                                                                                                                                                             \n",
       "Sofie Lippert  (F.)                                                                  2                                                                                                                                                                                                                                             \n",
       "Mads Damgaard Mortensen (Å.)                                                         1                                                                                                                                                                                                                                             \n",
       "Søren Lahn Sloth (F.)                                                                0                                                                                                                                                                                                                                             \n",
       "Camilla Fabricius (A.)                                                               2                                                                                                                                                                                                                                             \n",
       "Anders Pedersen  (Ø.)                                                                2                                                                                                                                                                                                                                             \n",
       "Sara Grouleff (Q.)                                                                   2                                                                                                                                                                                                                                             \n",
       "Carsten Borup (Å.)                                                                   2                                                                                                                                                                                                                                             \n",
       "Lucasia Gregersen (Ø.)                                                               2                                                                                                                                                                                                                                             \n",
       "Sarah Roued Thomsen (Å.)                                                             2                                                                                                                                                                                                                                             \n",
       "Susan Kronborg (B.)                                                                  2                                                                                                                                                                                                                                             \n",
       "Mohamed Abdikarim  (Q.)                                                              2                                                                                                                                                                                                                                             \n",
       "Berit Naomi Skjernaa (Å.)                                                            0                                                                                                                                                                                                                                             \n",
       "Mira Issa Bloch (Å.)                                                                 2                                                                                                                                                                                                                                             \n",
       "Niko Grünfeld (Q.)                                                                   2                                                                                                                                                                                                                                             \n",
       "Nikoline Erbs Hillers-Bendtsen (Å.)                                                  2                                                                                                                                                                                                                                             \n",
       "Thor Clasen Jonasen (Å.)                                                             2                                                                                                                                                                                                                                             \n",
       "Helle Wium (Å.)                                                                      2                                                                                                                                                                                                                                             \n",
       "Karina Dammand (Q.)                                                                  2                                                                                                                                                                                                                                             \n",
       "\n",
       "                                     Fonden for Plantebaserede Fødevarer skal have mindst 200 mio. kr. ekstra årligt udover de eksisterende 85 mio. kr. årligt, så niveauet i højere grad svarer til omfanget af den nødvendige omstilling.  \\\n",
       "Navn                                                                                                                                                                                                                                          \n",
       "Lisa Perkins (I.)                                                                    0                                                                                                                                                        \n",
       "Ditte Wedege (I.)                                                                    0                                                                                                                                                        \n",
       "Anders Krojgaard Lund (C.)                                                           0                                                                                                                                                        \n",
       "Karen Budtz-Jørgensen (Ø.)                                                           0                                                                                                                                                        \n",
       "Hanna-Maria Lyng (K.)                                                                0                                                                                                                                                        \n",
       "Danny Rosenkilde (O.)                                                                0                                                                                                                                                        \n",
       "Tina Lund Sørensen (V.)                                                              0                                                                                                                                                        \n",
       "Inger-Marie Tryde (D.)                                                               0                                                                                                                                                        \n",
       "Anders Vistisen (O.)                                                                 0                                                                                                                                                        \n",
       "Isabella Arendt (C.)                                                                 0                                                                                                                                                        \n",
       "Karin Liltorp (M.)                                                                   0                                                                                                                                                        \n",
       "Rasmus Nordqvist  (F.)                                                               0                                                                                                                                                        \n",
       "Louise Louring (V.)                                                                  0                                                                                                                                                        \n",
       "Klaus Nyengaard (C.)                                                                 0                                                                                                                                                        \n",
       "Jens K. Lundager (D.)                                                                0                                                                                                                                                        \n",
       "Heidi Printzen (C.)                                                                  0                                                                                                                                                        \n",
       "Henrik Hjortshøj (K.)                                                                0                                                                                                                                                        \n",
       "Sofie Lippert  (F.)                                                                  0                                                                                                                                                        \n",
       "Mads Damgaard Mortensen (Å.)                                                         1                                                                                                                                                        \n",
       "Søren Lahn Sloth (F.)                                                                2                                                                                                                                                        \n",
       "Camilla Fabricius (A.)                                                               2                                                                                                                                                        \n",
       "Anders Pedersen  (Ø.)                                                                2                                                                                                                                                        \n",
       "Sara Grouleff (Q.)                                                                   2                                                                                                                                                        \n",
       "Carsten Borup (Å.)                                                                   0                                                                                                                                                        \n",
       "Lucasia Gregersen (Ø.)                                                               1                                                                                                                                                        \n",
       "Sarah Roued Thomsen (Å.)                                                             0                                                                                                                                                        \n",
       "Susan Kronborg (B.)                                                                  1                                                                                                                                                        \n",
       "Mohamed Abdikarim  (Q.)                                                              2                                                                                                                                                        \n",
       "Berit Naomi Skjernaa (Å.)                                                            2                                                                                                                                                        \n",
       "Mira Issa Bloch (Å.)                                                                 2                                                                                                                                                        \n",
       "Niko Grünfeld (Q.)                                                                   2                                                                                                                                                        \n",
       "Nikoline Erbs Hillers-Bendtsen (Å.)                                                  2                                                                                                                                                        \n",
       "Thor Clasen Jonasen (Å.)                                                             2                                                                                                                                                        \n",
       "Helle Wium (Å.)                                                                      2                                                                                                                                                        \n",
       "Karina Dammand (Q.)                                                                  2                                                                                                                                                        \n",
       "\n",
       "                                     Forskningsmidler indenfor fødevarer skal omlægges til i højere grad at fokusere på klimavenlige, plantebaserede fødevarer frem for animalske.  \\\n",
       "Navn                                                                                                                                                                                 \n",
       "Lisa Perkins (I.)                                                                    0                                                                                               \n",
       "Ditte Wedege (I.)                                                                    0                                                                                               \n",
       "Anders Krojgaard Lund (C.)                                                           0                                                                                               \n",
       "Karen Budtz-Jørgensen (Ø.)                                                           0                                                                                               \n",
       "Hanna-Maria Lyng (K.)                                                                0                                                                                               \n",
       "Danny Rosenkilde (O.)                                                                0                                                                                               \n",
       "Tina Lund Sørensen (V.)                                                              0                                                                                               \n",
       "Inger-Marie Tryde (D.)                                                               0                                                                                               \n",
       "Anders Vistisen (O.)                                                                 0                                                                                               \n",
       "Isabella Arendt (C.)                                                                 0                                                                                               \n",
       "Karin Liltorp (M.)                                                                   0                                                                                               \n",
       "Rasmus Nordqvist  (F.)                                                               0                                                                                               \n",
       "Louise Louring (V.)                                                                  1                                                                                               \n",
       "Klaus Nyengaard (C.)                                                                 2                                                                                               \n",
       "Jens K. Lundager (D.)                                                                0                                                                                               \n",
       "Heidi Printzen (C.)                                                                  1                                                                                               \n",
       "Henrik Hjortshøj (K.)                                                                1                                                                                               \n",
       "Sofie Lippert  (F.)                                                                  1                                                                                               \n",
       "Mads Damgaard Mortensen (Å.)                                                         1                                                                                               \n",
       "Søren Lahn Sloth (F.)                                                                2                                                                                               \n",
       "Camilla Fabricius (A.)                                                               2                                                                                               \n",
       "Anders Pedersen  (Ø.)                                                                2                                                                                               \n",
       "Sara Grouleff (Q.)                                                                   2                                                                                               \n",
       "Carsten Borup (Å.)                                                                   1                                                                                               \n",
       "Lucasia Gregersen (Ø.)                                                               2                                                                                               \n",
       "Sarah Roued Thomsen (Å.)                                                             2                                                                                               \n",
       "Susan Kronborg (B.)                                                                  2                                                                                               \n",
       "Mohamed Abdikarim  (Q.)                                                              2                                                                                               \n",
       "Berit Naomi Skjernaa (Å.)                                                            2                                                                                               \n",
       "Mira Issa Bloch (Å.)                                                                 2                                                                                               \n",
       "Niko Grünfeld (Q.)                                                                   2                                                                                               \n",
       "Nikoline Erbs Hillers-Bendtsen (Å.)                                                  2                                                                                               \n",
       "Thor Clasen Jonasen (Å.)                                                             2                                                                                               \n",
       "Helle Wium (Å.)                                                                      2                                                                                               \n",
       "Karina Dammand (Q.)                                                                  2                                                                                               \n",
       "\n",
       "                                     Den danske animalske landbrugsproduktion står for en stor andel af den samlede danske drivhusgasudledning. Derfor skal antallet af landbrugsdyr (svin, kyllinger, køer, osv.) mindskes til halvdelen af det nuværende antal i 2030.  \\\n",
       "Navn                                                                                                                                                                                                                                                                       \n",
       "Lisa Perkins (I.)                                                                    0                                                                                                                                                                                     \n",
       "Ditte Wedege (I.)                                                                    0                                                                                                                                                                                     \n",
       "Anders Krojgaard Lund (C.)                                                           0                                                                                                                                                                                     \n",
       "Karen Budtz-Jørgensen (Ø.)                                                           0                                                                                                                                                                                     \n",
       "Hanna-Maria Lyng (K.)                                                                0                                                                                                                                                                                     \n",
       "Danny Rosenkilde (O.)                                                                0                                                                                                                                                                                     \n",
       "Tina Lund Sørensen (V.)                                                              0                                                                                                                                                                                     \n",
       "Inger-Marie Tryde (D.)                                                               0                                                                                                                                                                                     \n",
       "Anders Vistisen (O.)                                                                 0                                                                                                                                                                                     \n",
       "Isabella Arendt (C.)                                                                 0                                                                                                                                                                                     \n",
       "Karin Liltorp (M.)                                                                   1                                                                                                                                                                                     \n",
       "Rasmus Nordqvist  (F.)                                                               0                                                                                                                                                                                     \n",
       "Louise Louring (V.)                                                                  0                                                                                                                                                                                     \n",
       "Klaus Nyengaard (C.)                                                                 0                                                                                                                                                                                     \n",
       "Jens K. Lundager (D.)                                                                0                                                                                                                                                                                     \n",
       "Heidi Printzen (C.)                                                                  0                                                                                                                                                                                     \n",
       "Henrik Hjortshøj (K.)                                                                0                                                                                                                                                                                     \n",
       "Sofie Lippert  (F.)                                                                  2                                                                                                                                                                                     \n",
       "Mads Damgaard Mortensen (Å.)                                                         2                                                                                                                                                                                     \n",
       "Søren Lahn Sloth (F.)                                                                2                                                                                                                                                                                     \n",
       "Camilla Fabricius (A.)                                                               0                                                                                                                                                                                     \n",
       "Anders Pedersen  (Ø.)                                                                2                                                                                                                                                                                     \n",
       "Sara Grouleff (Q.)                                                                   2                                                                                                                                                                                     \n",
       "Carsten Borup (Å.)                                                                   2                                                                                                                                                                                     \n",
       "Lucasia Gregersen (Ø.)                                                               2                                                                                                                                                                                     \n",
       "Sarah Roued Thomsen (Å.)                                                             2                                                                                                                                                                                     \n",
       "Susan Kronborg (B.)                                                                  1                                                                                                                                                                                     \n",
       "Mohamed Abdikarim  (Q.)                                                              2                                                                                                                                                                                     \n",
       "Berit Naomi Skjernaa (Å.)                                                            2                                                                                                                                                                                     \n",
       "Mira Issa Bloch (Å.)                                                                 2                                                                                                                                                                                     \n",
       "Niko Grünfeld (Q.)                                                                   2                                                                                                                                                                                     \n",
       "Nikoline Erbs Hillers-Bendtsen (Å.)                                                  2                                                                                                                                                                                     \n",
       "Thor Clasen Jonasen (Å.)                                                             2                                                                                                                                                                                     \n",
       "Helle Wium (Å.)                                                                      2                                                                                                                                                                                     \n",
       "Karina Dammand (Q.)                                                                  2                                                                                                                                                                                     \n",
       "\n",
       "                                     Landmænd, der vil omlægge deres produktion til flere plantebaserede afgrøder til mennesker, skal kunne modtage gratis efteruddannelse.  \\\n",
       "Navn                                                                                                                                                                          \n",
       "Lisa Perkins (I.)                                                                    0                                                                                        \n",
       "Ditte Wedege (I.)                                                                    0                                                                                        \n",
       "Anders Krojgaard Lund (C.)                                                           0                                                                                        \n",
       "Karen Budtz-Jørgensen (Ø.)                                                           0                                                                                        \n",
       "Hanna-Maria Lyng (K.)                                                                0                                                                                        \n",
       "Danny Rosenkilde (O.)                                                                0                                                                                        \n",
       "Tina Lund Sørensen (V.)                                                              1                                                                                        \n",
       "Inger-Marie Tryde (D.)                                                               0                                                                                        \n",
       "Anders Vistisen (O.)                                                                 0                                                                                        \n",
       "Isabella Arendt (C.)                                                                 0                                                                                        \n",
       "Karin Liltorp (M.)                                                                   1                                                                                        \n",
       "Rasmus Nordqvist  (F.)                                                               0                                                                                        \n",
       "Louise Louring (V.)                                                                  1                                                                                        \n",
       "Klaus Nyengaard (C.)                                                                 1                                                                                        \n",
       "Jens K. Lundager (D.)                                                                0                                                                                        \n",
       "Heidi Printzen (C.)                                                                  0                                                                                        \n",
       "Henrik Hjortshøj (K.)                                                                2                                                                                        \n",
       "Sofie Lippert  (F.)                                                                  2                                                                                        \n",
       "Mads Damgaard Mortensen (Å.)                                                         2                                                                                        \n",
       "Søren Lahn Sloth (F.)                                                                2                                                                                        \n",
       "Camilla Fabricius (A.)                                                               2                                                                                        \n",
       "Anders Pedersen  (Ø.)                                                                1                                                                                        \n",
       "Sara Grouleff (Q.)                                                                   2                                                                                        \n",
       "Carsten Borup (Å.)                                                                   2                                                                                        \n",
       "Lucasia Gregersen (Ø.)                                                               2                                                                                        \n",
       "Sarah Roued Thomsen (Å.)                                                             2                                                                                        \n",
       "Susan Kronborg (B.)                                                                  2                                                                                        \n",
       "Mohamed Abdikarim  (Q.)                                                              2                                                                                        \n",
       "Berit Naomi Skjernaa (Å.)                                                            2                                                                                        \n",
       "Mira Issa Bloch (Å.)                                                                 2                                                                                        \n",
       "Niko Grünfeld (Q.)                                                                   2                                                                                        \n",
       "Nikoline Erbs Hillers-Bendtsen (Å.)                                                  2                                                                                        \n",
       "Thor Clasen Jonasen (Å.)                                                             2                                                                                        \n",
       "Helle Wium (Å.)                                                                      2                                                                                        \n",
       "Karina Dammand (Q.)                                                                  2                                                                                        \n",
       "\n",
       "                                     Støtteordninger til fødevareerhvervet skal omlægges til i højere grad at støtte klimavenlige, plantebaserede fødevarer frem for animalske.  \\\n",
       "Navn                                                                                                                                                                              \n",
       "Lisa Perkins (I.)                                                                    0                                                                                            \n",
       "Ditte Wedege (I.)                                                                    0                                                                                            \n",
       "Anders Krojgaard Lund (C.)                                                           0                                                                                            \n",
       "Karen Budtz-Jørgensen (Ø.)                                                           0                                                                                            \n",
       "Hanna-Maria Lyng (K.)                                                                0                                                                                            \n",
       "Danny Rosenkilde (O.)                                                                0                                                                                            \n",
       "Tina Lund Sørensen (V.)                                                              0                                                                                            \n",
       "Inger-Marie Tryde (D.)                                                               0                                                                                            \n",
       "Anders Vistisen (O.)                                                                 0                                                                                            \n",
       "Isabella Arendt (C.)                                                                 0                                                                                            \n",
       "Karin Liltorp (M.)                                                                   0                                                                                            \n",
       "Rasmus Nordqvist  (F.)                                                               0                                                                                            \n",
       "Louise Louring (V.)                                                                  1                                                                                            \n",
       "Klaus Nyengaard (C.)                                                                 2                                                                                            \n",
       "Jens K. Lundager (D.)                                                                0                                                                                            \n",
       "Heidi Printzen (C.)                                                                  2                                                                                            \n",
       "Henrik Hjortshøj (K.)                                                                0                                                                                            \n",
       "Sofie Lippert  (F.)                                                                  2                                                                                            \n",
       "Mads Damgaard Mortensen (Å.)                                                         1                                                                                            \n",
       "Søren Lahn Sloth (F.)                                                                2                                                                                            \n",
       "Camilla Fabricius (A.)                                                               2                                                                                            \n",
       "Anders Pedersen  (Ø.)                                                                2                                                                                            \n",
       "Sara Grouleff (Q.)                                                                   2                                                                                            \n",
       "Carsten Borup (Å.)                                                                   2                                                                                            \n",
       "Lucasia Gregersen (Ø.)                                                               1                                                                                            \n",
       "Sarah Roued Thomsen (Å.)                                                             2                                                                                            \n",
       "Susan Kronborg (B.)                                                                  2                                                                                            \n",
       "Mohamed Abdikarim  (Q.)                                                              2                                                                                            \n",
       "Berit Naomi Skjernaa (Å.)                                                            2                                                                                            \n",
       "Mira Issa Bloch (Å.)                                                                 2                                                                                            \n",
       "Niko Grünfeld (Q.)                                                                   2                                                                                            \n",
       "Nikoline Erbs Hillers-Bendtsen (Å.)                                                  2                                                                                            \n",
       "Thor Clasen Jonasen (Å.)                                                             2                                                                                            \n",
       "Helle Wium (Å.)                                                                      2                                                                                            \n",
       "Karina Dammand (Q.)                                                                  2                                                                                            \n",
       "\n",
       "                                     Score          Kost_color  \n",
       "Navn                                                            \n",
       "Lisa Perkins (I.)                        0                grey  \n",
       "Ditte Wedege (I.)                        0                grey  \n",
       "Anders Krojgaard Lund (C.)               1                 red  \n",
       "Karen Budtz-Jørgensen (Ø.)               3                grey  \n",
       "Hanna-Maria Lyng (K.)                    3                 red  \n",
       "Danny Rosenkilde (O.)                    3                 red  \n",
       "Tina Lund Sørensen (V.)                  3                 red  \n",
       "Inger-Marie Tryde (D.)                   4                 red  \n",
       "Anders Vistisen (O.)                     5                 red  \n",
       "Isabella Arendt (C.)                     7                 red  \n",
       "Karin Liltorp (M.)                       9                blue  \n",
       "Rasmus Nordqvist  (F.)                   9                grey  \n",
       "Louise Louring (V.)                     10           turquoise  \n",
       "Klaus Nyengaard (C.)                    13                 red  \n",
       "Jens K. Lundager (D.)                   14                 red  \n",
       "Heidi Printzen (C.)                     15                 red  \n",
       "Henrik Hjortshøj (K.)                   16                blue  \n",
       "Sofie Lippert  (F.)                     21                blue  \n",
       "Mads Damgaard Mortensen (Å.)            21                 red  \n",
       "Søren Lahn Sloth (F.)                   22           turquoise  \n",
       "Camilla Fabricius (A.)                  24  rgb(180, 240, 120)  \n",
       "Anders Pedersen  (Ø.)                   25                blue  \n",
       "Sara Grouleff (Q.)                      26     rgb(140,190,84)  \n",
       "Carsten Borup (Å.)                      27           turquoise  \n",
       "Lucasia Gregersen (Ø.)                  28           turquoise  \n",
       "Sarah Roued Thomsen (Å.)                28                blue  \n",
       "Susan Kronborg (B.)                     28           turquoise  \n",
       "Mohamed Abdikarim  (Q.)                 30           turquoise  \n",
       "Berit Naomi Skjernaa (Å.)               30                blue  \n",
       "Mira Issa Bloch (Å.)                    32                blue  \n",
       "Niko Grünfeld (Q.)                      32                grey  \n",
       "Nikoline Erbs Hillers-Bendtsen (Å.)     32           turquoise  \n",
       "Thor Clasen Jonasen (Å.)                32                 red  \n",
       "Helle Wium (Å.)                         32           turquoise  \n",
       "Karina Dammand (Q.)                     32  rgb(180, 240, 120)  \n",
       "\n",
       "[35 rows x 21 columns]"
      ]
     },
     "execution_count": 62,
     "metadata": {},
     "output_type": "execute_result"
    }
   ],
   "source": [
    "df_temp = df_nameIndex[df_nameIndex[\"Storkreds\"]==value]\n",
    "df_temp = df_temp.sort_values(\"Score\")\n",
    "df_temp"
   ]
  },
  {
   "cell_type": "code",
   "execution_count": 63,
   "id": "859e4176",
   "metadata": {},
   "outputs": [
    {
     "data": {
      "text/plain": [
       "70"
      ]
     },
     "execution_count": 63,
     "metadata": {},
     "output_type": "execute_result"
    }
   ],
   "source": [
    "len(df_temp)*2"
   ]
  },
  {
   "cell_type": "code",
   "execution_count": null,
   "id": "56399fcd",
   "metadata": {},
   "outputs": [],
   "source": []
  },
  {
   "cell_type": "code",
   "execution_count": 78,
   "id": "264f6d7c",
   "metadata": {},
   "outputs": [
    {
     "data": {
      "application/vnd.plotly.v1+json": {
       "config": {
        "plotlyServerURL": "https://plot.ly"
       },
       "data": [
        {
         "hoverinfo": [
          "none",
          "x+y+text"
         ],
         "hovertext": [
          "V. Venstre",
          "V. Venstre"
         ],
         "line": {
          "color": "rgb(140,190,84)"
         },
         "marker": {
          "color": "grey",
          "size": [
           0,
           12
          ]
         },
         "showlegend": false,
         "type": "scatter",
         "x": [
          0,
          0
         ],
         "y": [
          0,
          0
         ]
        },
        {
         "hoverinfo": [
          "none",
          "x+y+text"
         ],
         "hovertext": [
          "D. Nye Borgerlige",
          "D. Nye Borgerlige"
         ],
         "line": {
          "color": "rgb(140,190,84)"
         },
         "marker": {
          "color": "red",
          "size": [
           0,
           12
          ]
         },
         "showlegend": false,
         "type": "scatter",
         "x": [
          0,
          0
         ],
         "y": [
          1,
          1
         ]
        },
        {
         "hoverinfo": [
          "none",
          "x+y+text"
         ],
         "hovertext": [
          "D. Nye Borgerlige",
          "D. Nye Borgerlige"
         ],
         "line": {
          "color": "rgb(140,190,84)"
         },
         "marker": {
          "color": "grey",
          "size": [
           0,
           12
          ]
         },
         "showlegend": false,
         "type": "scatter",
         "x": [
          0,
          1
         ],
         "y": [
          2,
          2
         ]
        },
        {
         "hoverinfo": [
          "none",
          "x+y+text"
         ],
         "hovertext": [
          "M. Moderaterne",
          "M. Moderaterne"
         ],
         "line": {
          "color": "rgb(140,190,84)"
         },
         "marker": {
          "color": "grey",
          "size": [
           0,
           12
          ]
         },
         "showlegend": false,
         "type": "scatter",
         "x": [
          0,
          1
         ],
         "y": [
          3,
          3
         ]
        },
        {
         "hoverinfo": [
          "none",
          "x+y+text"
         ],
         "hovertext": [
          "D. Nye Borgerlige",
          "D. Nye Borgerlige"
         ],
         "line": {
          "color": "rgb(140,190,84)"
         },
         "marker": {
          "color": "red",
          "size": [
           0,
           12
          ]
         },
         "showlegend": false,
         "type": "scatter",
         "x": [
          0,
          1
         ],
         "y": [
          4,
          4
         ]
        },
        {
         "hoverinfo": [
          "none",
          "x+y+text"
         ],
         "hovertext": [
          "D. Nye Borgerlige",
          "D. Nye Borgerlige"
         ],
         "line": {
          "color": "rgb(140,190,84)"
         },
         "marker": {
          "color": "red",
          "size": [
           0,
           12
          ]
         },
         "showlegend": false,
         "type": "scatter",
         "x": [
          0,
          6
         ],
         "y": [
          5,
          5
         ]
        },
        {
         "hoverinfo": [
          "none",
          "x+y+text"
         ],
         "hovertext": [
          "K. Kristendemokraterne",
          "K. Kristendemokraterne"
         ],
         "line": {
          "color": "rgb(140,190,84)"
         },
         "marker": {
          "color": "red",
          "size": [
           0,
           12
          ]
         },
         "showlegend": false,
         "type": "scatter",
         "x": [
          0,
          15
         ],
         "y": [
          6,
          6
         ]
        },
        {
         "hoverinfo": [
          "none",
          "x+y+text"
         ],
         "hovertext": [
          "F. Socialistisk Folkeparti",
          "F. Socialistisk Folkeparti"
         ],
         "line": {
          "color": "rgb(140,190,84)"
         },
         "marker": {
          "color": "red",
          "size": [
           0,
           12
          ]
         },
         "showlegend": false,
         "type": "scatter",
         "x": [
          0,
          20
         ],
         "y": [
          7,
          7
         ]
        },
        {
         "hoverinfo": [
          "none",
          "x+y+text"
         ],
         "hovertext": [
          "A. Socialdemokratiet",
          "A. Socialdemokratiet"
         ],
         "line": {
          "color": "rgb(140,190,84)"
         },
         "marker": {
          "color": "red",
          "size": [
           0,
           12
          ]
         },
         "showlegend": false,
         "type": "scatter",
         "x": [
          0,
          24
         ],
         "y": [
          8,
          8
         ]
        },
        {
         "hoverinfo": [
          "none",
          "x+y+text"
         ],
         "hovertext": [
          "Å. Alternativet",
          "Å. Alternativet"
         ],
         "line": {
          "color": "rgb(140,190,84)"
         },
         "marker": {
          "color": "blue",
          "size": [
           0,
           12
          ]
         },
         "showlegend": false,
         "type": "scatter",
         "x": [
          0,
          25
         ],
         "y": [
          9,
          9
         ]
        },
        {
         "hoverinfo": [
          "none",
          "x+y+text"
         ],
         "hovertext": [
          "Ø. Enhedslisten",
          "Ø. Enhedslisten"
         ],
         "line": {
          "color": "rgb(140,190,84)"
         },
         "marker": {
          "color": "red",
          "size": [
           0,
           12
          ]
         },
         "showlegend": false,
         "type": "scatter",
         "x": [
          0,
          25
         ],
         "y": [
          10,
          10
         ]
        },
        {
         "hoverinfo": [
          "none",
          "x+y+text"
         ],
         "hovertext": [
          "Å. Alternativet",
          "Å. Alternativet"
         ],
         "line": {
          "color": "rgb(140,190,84)"
         },
         "marker": {
          "color": "turquoise",
          "size": [
           0,
           12
          ]
         },
         "showlegend": false,
         "type": "scatter",
         "x": [
          0,
          27
         ],
         "y": [
          11,
          11
         ]
        },
        {
         "hoverinfo": [
          "none",
          "x+y+text"
         ],
         "hovertext": [
          "Ø. Enhedslisten",
          "Ø. Enhedslisten"
         ],
         "line": {
          "color": "rgb(140,190,84)"
         },
         "marker": {
          "color": "rgb(180, 240, 120)",
          "size": [
           0,
           12
          ]
         },
         "showlegend": false,
         "type": "scatter",
         "x": [
          0,
          28
         ],
         "y": [
          12,
          12
         ]
        },
        {
         "hoverinfo": [
          "none",
          "x+y+text"
         ],
         "hovertext": [
          "Ø. Enhedslisten",
          "Ø. Enhedslisten"
         ],
         "line": {
          "color": "rgb(140,190,84)"
         },
         "marker": {
          "color": "blue",
          "size": [
           0,
           12
          ]
         },
         "showlegend": false,
         "type": "scatter",
         "x": [
          0,
          28
         ],
         "y": [
          13,
          13
         ]
        },
        {
         "hoverinfo": [
          "none",
          "x+y+text"
         ],
         "hovertext": [
          "Q. Frie Grønne",
          "Q. Frie Grønne"
         ],
         "line": {
          "color": "rgb(140,190,84)"
         },
         "marker": {
          "color": "turquoise",
          "size": [
           0,
           12
          ]
         },
         "showlegend": false,
         "type": "scatter",
         "x": [
          0,
          31
         ],
         "y": [
          14,
          14
         ]
        },
        {
         "hoverinfo": [
          "none",
          "x+y+text"
         ],
         "hovertext": [
          "Å. Alternativet",
          "Å. Alternativet"
         ],
         "line": {
          "color": "rgb(140,190,84)"
         },
         "marker": {
          "color": "rgb(16,114,60)",
          "size": [
           0,
           12
          ]
         },
         "showlegend": false,
         "type": "scatter",
         "x": [
          0,
          32
         ],
         "y": [
          15,
          15
         ]
        },
        {
         "hoverinfo": [
          "none",
          "x+y+text"
         ],
         "hovertext": [
          "Å. Alternativet",
          "Å. Alternativet"
         ],
         "line": {
          "color": "rgb(140,190,84)"
         },
         "marker": {
          "color": "rgb(16,114,60)",
          "size": [
           0,
           12
          ]
         },
         "showlegend": false,
         "type": "scatter",
         "x": [
          0,
          32
         ],
         "y": [
          16,
          16
         ]
        },
        {
         "marker": {
          "color": "red",
          "size": [
           0
          ]
         },
         "name": "Spiser ofte kød, kødpålæg, fjerkræ og/eller fisk (hver dag eller næsten hver dag)",
         "type": "scatter",
         "x": [
          0
         ],
         "y": [
          0
         ]
        },
        {
         "marker": {
          "color": "turquoise",
          "size": [
           0
          ]
         },
         "name": "Spiser fisk, men derudover kun vegetarisk, aldrig kød, kødpålæg og fjerkræ",
         "type": "scatter",
         "x": [
          0
         ],
         "y": [
          0
         ]
        },
        {
         "marker": {
          "color": "blue",
          "size": [
           0
          ]
         },
         "name": "Spiser vegetarisk mindst halvdelen af ugens dage, de øvrige dage kød, fjerkræ og/eller fisk",
         "type": "scatter",
         "x": [
          0
         ],
         "y": [
          0
         ]
        },
        {
         "marker": {
          "color": "rgb(180, 240, 120)",
          "size": [
           0
          ]
         },
         "name": "Spiser kun vegetarisk, sjældent mælkeprodukter og æg",
         "type": "scatter",
         "x": [
          0
         ],
         "y": [
          0
         ]
        },
        {
         "marker": {
          "color": "rgb(140,190,84)",
          "size": [
           0
          ]
         },
         "name": "Spiser kun vegetarisk, aldrig kød, kødpålæg, fjerkræ og fisk",
         "type": "scatter",
         "x": [
          0
         ],
         "y": [
          0
         ]
        },
        {
         "marker": {
          "color": "rgb(16,114,60)",
          "size": [
           0
          ]
         },
         "name": "Spiser kun vegansk",
         "type": "scatter",
         "x": [
          0
         ],
         "y": [
          0
         ]
        },
        {
         "marker": {
          "color": "grey",
          "size": [
           0
          ]
         },
         "name": "Ønsker ikke at svare",
         "type": "scatter",
         "x": [
          0
         ],
         "y": [
          0
         ]
        }
       ],
       "layout": {
        "height": 1500,
        "legend": {
         "itemsizing": "constant",
         "orientation": "h",
         "x": 0.88,
         "xanchor": "right",
         "y": -0.135,
         "yanchor": "bottom"
        },
        "template": {
         "data": {
          "bar": [
           {
            "error_x": {
             "color": "#2a3f5f"
            },
            "error_y": {
             "color": "#2a3f5f"
            },
            "marker": {
             "line": {
              "color": "#E5ECF6",
              "width": 0.5
             },
             "pattern": {
              "fillmode": "overlay",
              "size": 10,
              "solidity": 0.2
             }
            },
            "type": "bar"
           }
          ],
          "barpolar": [
           {
            "marker": {
             "line": {
              "color": "#E5ECF6",
              "width": 0.5
             },
             "pattern": {
              "fillmode": "overlay",
              "size": 10,
              "solidity": 0.2
             }
            },
            "type": "barpolar"
           }
          ],
          "carpet": [
           {
            "aaxis": {
             "endlinecolor": "#2a3f5f",
             "gridcolor": "white",
             "linecolor": "white",
             "minorgridcolor": "white",
             "startlinecolor": "#2a3f5f"
            },
            "baxis": {
             "endlinecolor": "#2a3f5f",
             "gridcolor": "white",
             "linecolor": "white",
             "minorgridcolor": "white",
             "startlinecolor": "#2a3f5f"
            },
            "type": "carpet"
           }
          ],
          "choropleth": [
           {
            "colorbar": {
             "outlinewidth": 0,
             "ticks": ""
            },
            "type": "choropleth"
           }
          ],
          "contour": [
           {
            "colorbar": {
             "outlinewidth": 0,
             "ticks": ""
            },
            "colorscale": [
             [
              0,
              "#0d0887"
             ],
             [
              0.1111111111111111,
              "#46039f"
             ],
             [
              0.2222222222222222,
              "#7201a8"
             ],
             [
              0.3333333333333333,
              "#9c179e"
             ],
             [
              0.4444444444444444,
              "#bd3786"
             ],
             [
              0.5555555555555556,
              "#d8576b"
             ],
             [
              0.6666666666666666,
              "#ed7953"
             ],
             [
              0.7777777777777778,
              "#fb9f3a"
             ],
             [
              0.8888888888888888,
              "#fdca26"
             ],
             [
              1,
              "#f0f921"
             ]
            ],
            "type": "contour"
           }
          ],
          "contourcarpet": [
           {
            "colorbar": {
             "outlinewidth": 0,
             "ticks": ""
            },
            "type": "contourcarpet"
           }
          ],
          "heatmap": [
           {
            "colorbar": {
             "outlinewidth": 0,
             "ticks": ""
            },
            "colorscale": [
             [
              0,
              "#0d0887"
             ],
             [
              0.1111111111111111,
              "#46039f"
             ],
             [
              0.2222222222222222,
              "#7201a8"
             ],
             [
              0.3333333333333333,
              "#9c179e"
             ],
             [
              0.4444444444444444,
              "#bd3786"
             ],
             [
              0.5555555555555556,
              "#d8576b"
             ],
             [
              0.6666666666666666,
              "#ed7953"
             ],
             [
              0.7777777777777778,
              "#fb9f3a"
             ],
             [
              0.8888888888888888,
              "#fdca26"
             ],
             [
              1,
              "#f0f921"
             ]
            ],
            "type": "heatmap"
           }
          ],
          "heatmapgl": [
           {
            "colorbar": {
             "outlinewidth": 0,
             "ticks": ""
            },
            "colorscale": [
             [
              0,
              "#0d0887"
             ],
             [
              0.1111111111111111,
              "#46039f"
             ],
             [
              0.2222222222222222,
              "#7201a8"
             ],
             [
              0.3333333333333333,
              "#9c179e"
             ],
             [
              0.4444444444444444,
              "#bd3786"
             ],
             [
              0.5555555555555556,
              "#d8576b"
             ],
             [
              0.6666666666666666,
              "#ed7953"
             ],
             [
              0.7777777777777778,
              "#fb9f3a"
             ],
             [
              0.8888888888888888,
              "#fdca26"
             ],
             [
              1,
              "#f0f921"
             ]
            ],
            "type": "heatmapgl"
           }
          ],
          "histogram": [
           {
            "marker": {
             "pattern": {
              "fillmode": "overlay",
              "size": 10,
              "solidity": 0.2
             }
            },
            "type": "histogram"
           }
          ],
          "histogram2d": [
           {
            "colorbar": {
             "outlinewidth": 0,
             "ticks": ""
            },
            "colorscale": [
             [
              0,
              "#0d0887"
             ],
             [
              0.1111111111111111,
              "#46039f"
             ],
             [
              0.2222222222222222,
              "#7201a8"
             ],
             [
              0.3333333333333333,
              "#9c179e"
             ],
             [
              0.4444444444444444,
              "#bd3786"
             ],
             [
              0.5555555555555556,
              "#d8576b"
             ],
             [
              0.6666666666666666,
              "#ed7953"
             ],
             [
              0.7777777777777778,
              "#fb9f3a"
             ],
             [
              0.8888888888888888,
              "#fdca26"
             ],
             [
              1,
              "#f0f921"
             ]
            ],
            "type": "histogram2d"
           }
          ],
          "histogram2dcontour": [
           {
            "colorbar": {
             "outlinewidth": 0,
             "ticks": ""
            },
            "colorscale": [
             [
              0,
              "#0d0887"
             ],
             [
              0.1111111111111111,
              "#46039f"
             ],
             [
              0.2222222222222222,
              "#7201a8"
             ],
             [
              0.3333333333333333,
              "#9c179e"
             ],
             [
              0.4444444444444444,
              "#bd3786"
             ],
             [
              0.5555555555555556,
              "#d8576b"
             ],
             [
              0.6666666666666666,
              "#ed7953"
             ],
             [
              0.7777777777777778,
              "#fb9f3a"
             ],
             [
              0.8888888888888888,
              "#fdca26"
             ],
             [
              1,
              "#f0f921"
             ]
            ],
            "type": "histogram2dcontour"
           }
          ],
          "mesh3d": [
           {
            "colorbar": {
             "outlinewidth": 0,
             "ticks": ""
            },
            "type": "mesh3d"
           }
          ],
          "parcoords": [
           {
            "line": {
             "colorbar": {
              "outlinewidth": 0,
              "ticks": ""
             }
            },
            "type": "parcoords"
           }
          ],
          "pie": [
           {
            "automargin": true,
            "type": "pie"
           }
          ],
          "scatter": [
           {
            "fillpattern": {
             "fillmode": "overlay",
             "size": 10,
             "solidity": 0.2
            },
            "type": "scatter"
           }
          ],
          "scatter3d": [
           {
            "line": {
             "colorbar": {
              "outlinewidth": 0,
              "ticks": ""
             }
            },
            "marker": {
             "colorbar": {
              "outlinewidth": 0,
              "ticks": ""
             }
            },
            "type": "scatter3d"
           }
          ],
          "scattercarpet": [
           {
            "marker": {
             "colorbar": {
              "outlinewidth": 0,
              "ticks": ""
             }
            },
            "type": "scattercarpet"
           }
          ],
          "scattergeo": [
           {
            "marker": {
             "colorbar": {
              "outlinewidth": 0,
              "ticks": ""
             }
            },
            "type": "scattergeo"
           }
          ],
          "scattergl": [
           {
            "marker": {
             "colorbar": {
              "outlinewidth": 0,
              "ticks": ""
             }
            },
            "type": "scattergl"
           }
          ],
          "scattermapbox": [
           {
            "marker": {
             "colorbar": {
              "outlinewidth": 0,
              "ticks": ""
             }
            },
            "type": "scattermapbox"
           }
          ],
          "scatterpolar": [
           {
            "marker": {
             "colorbar": {
              "outlinewidth": 0,
              "ticks": ""
             }
            },
            "type": "scatterpolar"
           }
          ],
          "scatterpolargl": [
           {
            "marker": {
             "colorbar": {
              "outlinewidth": 0,
              "ticks": ""
             }
            },
            "type": "scatterpolargl"
           }
          ],
          "scatterternary": [
           {
            "marker": {
             "colorbar": {
              "outlinewidth": 0,
              "ticks": ""
             }
            },
            "type": "scatterternary"
           }
          ],
          "surface": [
           {
            "colorbar": {
             "outlinewidth": 0,
             "ticks": ""
            },
            "colorscale": [
             [
              0,
              "#0d0887"
             ],
             [
              0.1111111111111111,
              "#46039f"
             ],
             [
              0.2222222222222222,
              "#7201a8"
             ],
             [
              0.3333333333333333,
              "#9c179e"
             ],
             [
              0.4444444444444444,
              "#bd3786"
             ],
             [
              0.5555555555555556,
              "#d8576b"
             ],
             [
              0.6666666666666666,
              "#ed7953"
             ],
             [
              0.7777777777777778,
              "#fb9f3a"
             ],
             [
              0.8888888888888888,
              "#fdca26"
             ],
             [
              1,
              "#f0f921"
             ]
            ],
            "type": "surface"
           }
          ],
          "table": [
           {
            "cells": {
             "fill": {
              "color": "#EBF0F8"
             },
             "line": {
              "color": "white"
             }
            },
            "header": {
             "fill": {
              "color": "#C8D4E3"
             },
             "line": {
              "color": "white"
             }
            },
            "type": "table"
           }
          ]
         },
         "layout": {
          "annotationdefaults": {
           "arrowcolor": "#2a3f5f",
           "arrowhead": 0,
           "arrowwidth": 1
          },
          "autotypenumbers": "strict",
          "coloraxis": {
           "colorbar": {
            "outlinewidth": 0,
            "ticks": ""
           }
          },
          "colorscale": {
           "diverging": [
            [
             0,
             "#8e0152"
            ],
            [
             0.1,
             "#c51b7d"
            ],
            [
             0.2,
             "#de77ae"
            ],
            [
             0.3,
             "#f1b6da"
            ],
            [
             0.4,
             "#fde0ef"
            ],
            [
             0.5,
             "#f7f7f7"
            ],
            [
             0.6,
             "#e6f5d0"
            ],
            [
             0.7,
             "#b8e186"
            ],
            [
             0.8,
             "#7fbc41"
            ],
            [
             0.9,
             "#4d9221"
            ],
            [
             1,
             "#276419"
            ]
           ],
           "sequential": [
            [
             0,
             "#0d0887"
            ],
            [
             0.1111111111111111,
             "#46039f"
            ],
            [
             0.2222222222222222,
             "#7201a8"
            ],
            [
             0.3333333333333333,
             "#9c179e"
            ],
            [
             0.4444444444444444,
             "#bd3786"
            ],
            [
             0.5555555555555556,
             "#d8576b"
            ],
            [
             0.6666666666666666,
             "#ed7953"
            ],
            [
             0.7777777777777778,
             "#fb9f3a"
            ],
            [
             0.8888888888888888,
             "#fdca26"
            ],
            [
             1,
             "#f0f921"
            ]
           ],
           "sequentialminus": [
            [
             0,
             "#0d0887"
            ],
            [
             0.1111111111111111,
             "#46039f"
            ],
            [
             0.2222222222222222,
             "#7201a8"
            ],
            [
             0.3333333333333333,
             "#9c179e"
            ],
            [
             0.4444444444444444,
             "#bd3786"
            ],
            [
             0.5555555555555556,
             "#d8576b"
            ],
            [
             0.6666666666666666,
             "#ed7953"
            ],
            [
             0.7777777777777778,
             "#fb9f3a"
            ],
            [
             0.8888888888888888,
             "#fdca26"
            ],
            [
             1,
             "#f0f921"
            ]
           ]
          },
          "colorway": [
           "#636efa",
           "#EF553B",
           "#00cc96",
           "#ab63fa",
           "#FFA15A",
           "#19d3f3",
           "#FF6692",
           "#B6E880",
           "#FF97FF",
           "#FECB52"
          ],
          "font": {
           "color": "#2a3f5f"
          },
          "geo": {
           "bgcolor": "white",
           "lakecolor": "white",
           "landcolor": "#E5ECF6",
           "showlakes": true,
           "showland": true,
           "subunitcolor": "white"
          },
          "hoverlabel": {
           "align": "left"
          },
          "hovermode": "closest",
          "mapbox": {
           "style": "light"
          },
          "paper_bgcolor": "white",
          "plot_bgcolor": "#E5ECF6",
          "polar": {
           "angularaxis": {
            "gridcolor": "white",
            "linecolor": "white",
            "ticks": ""
           },
           "bgcolor": "#E5ECF6",
           "radialaxis": {
            "gridcolor": "white",
            "linecolor": "white",
            "ticks": ""
           }
          },
          "scene": {
           "xaxis": {
            "backgroundcolor": "#E5ECF6",
            "gridcolor": "white",
            "gridwidth": 2,
            "linecolor": "white",
            "showbackground": true,
            "ticks": "",
            "zerolinecolor": "white"
           },
           "yaxis": {
            "backgroundcolor": "#E5ECF6",
            "gridcolor": "white",
            "gridwidth": 2,
            "linecolor": "white",
            "showbackground": true,
            "ticks": "",
            "zerolinecolor": "white"
           },
           "zaxis": {
            "backgroundcolor": "#E5ECF6",
            "gridcolor": "white",
            "gridwidth": 2,
            "linecolor": "white",
            "showbackground": true,
            "ticks": "",
            "zerolinecolor": "white"
           }
          },
          "shapedefaults": {
           "line": {
            "color": "#2a3f5f"
           }
          },
          "ternary": {
           "aaxis": {
            "gridcolor": "white",
            "linecolor": "white",
            "ticks": ""
           },
           "baxis": {
            "gridcolor": "white",
            "linecolor": "white",
            "ticks": ""
           },
           "bgcolor": "#E5ECF6",
           "caxis": {
            "gridcolor": "white",
            "linecolor": "white",
            "ticks": ""
           }
          },
          "title": {
           "x": 0.05
          },
          "xaxis": {
           "automargin": true,
           "gridcolor": "white",
           "linecolor": "white",
           "ticks": "",
           "title": {
            "standoff": 15
           },
           "zerolinecolor": "white",
           "zerolinewidth": 2
          },
          "yaxis": {
           "automargin": true,
           "gridcolor": "white",
           "linecolor": "white",
           "ticks": "",
           "title": {
            "standoff": 15
           },
           "zerolinecolor": "white",
           "zerolinewidth": 2
          }
         }
        },
        "title": {
         "text": "Kandidater for Fyns Storkreds"
        },
        "yaxis": {
         "tickmode": "array",
         "ticktext": [
          "Nikolaj Leed Henriksen (V.)",
          "Malte Jäger (D.)",
          "Jonas René Jensen (D.)",
          "Kenneth Bjerg Andersen (M.)",
          "Melanie Jørgensen (D.)",
          "Henrik Tørnqvist Lauridsen  (D.)",
          "Gert Dyrn (K.)",
          "Jonas Hulgaard Ammundsen (F.)",
          "Mads Madsen Henriksen (A.)",
          "Bodil Marie Helbo (Å.)",
          "Niels Bjarne Lund (Ø.)",
          "Henrik Boye (Å.)",
          "Victoria Bøgh Salo (Ø.)",
          "Vibeke Syppli Enrum (Ø.)",
          "Nishan Ganesh (Q.)",
          "Simon Nyborg Jensen (Å.)",
          "Anna Astrid Høy-Nielsen (Å.)"
         ],
         "tickvals": [
          0,
          1,
          2,
          3,
          4,
          5,
          6,
          7,
          8,
          9,
          10,
          11,
          12,
          13,
          14,
          15,
          16
         ],
         "title": {
          "font": {
           "size": 20
          }
         }
        }
       }
      },
      "text/html": [
       "<div>                            <div id=\"e1a74eda-c58a-462c-93fd-747418054359\" class=\"plotly-graph-div\" style=\"height:1500px; width:100%;\"></div>            <script type=\"text/javascript\">                require([\"plotly\"], function(Plotly) {                    window.PLOTLYENV=window.PLOTLYENV || {};                                    if (document.getElementById(\"e1a74eda-c58a-462c-93fd-747418054359\")) {                    Plotly.newPlot(                        \"e1a74eda-c58a-462c-93fd-747418054359\",                        [{\"hoverinfo\":[\"none\",\"x+y+text\"],\"hovertext\":[\"V. Venstre\",\"V. Venstre\"],\"line\":{\"color\":\"rgb(140,190,84)\"},\"marker\":{\"color\":\"grey\",\"size\":[0,12]},\"showlegend\":false,\"x\":[0,0],\"y\":[0,0],\"type\":\"scatter\"},{\"hoverinfo\":[\"none\",\"x+y+text\"],\"hovertext\":[\"D. Nye Borgerlige\",\"D. Nye Borgerlige\"],\"line\":{\"color\":\"rgb(140,190,84)\"},\"marker\":{\"color\":\"red\",\"size\":[0,12]},\"showlegend\":false,\"x\":[0,0],\"y\":[1,1],\"type\":\"scatter\"},{\"hoverinfo\":[\"none\",\"x+y+text\"],\"hovertext\":[\"D. Nye Borgerlige\",\"D. Nye Borgerlige\"],\"line\":{\"color\":\"rgb(140,190,84)\"},\"marker\":{\"color\":\"grey\",\"size\":[0,12]},\"showlegend\":false,\"x\":[0,1],\"y\":[2,2],\"type\":\"scatter\"},{\"hoverinfo\":[\"none\",\"x+y+text\"],\"hovertext\":[\"M. Moderaterne\",\"M. Moderaterne\"],\"line\":{\"color\":\"rgb(140,190,84)\"},\"marker\":{\"color\":\"grey\",\"size\":[0,12]},\"showlegend\":false,\"x\":[0,1],\"y\":[3,3],\"type\":\"scatter\"},{\"hoverinfo\":[\"none\",\"x+y+text\"],\"hovertext\":[\"D. Nye Borgerlige\",\"D. Nye Borgerlige\"],\"line\":{\"color\":\"rgb(140,190,84)\"},\"marker\":{\"color\":\"red\",\"size\":[0,12]},\"showlegend\":false,\"x\":[0,1],\"y\":[4,4],\"type\":\"scatter\"},{\"hoverinfo\":[\"none\",\"x+y+text\"],\"hovertext\":[\"D. Nye Borgerlige\",\"D. Nye Borgerlige\"],\"line\":{\"color\":\"rgb(140,190,84)\"},\"marker\":{\"color\":\"red\",\"size\":[0,12]},\"showlegend\":false,\"x\":[0,6],\"y\":[5,5],\"type\":\"scatter\"},{\"hoverinfo\":[\"none\",\"x+y+text\"],\"hovertext\":[\"K. Kristendemokraterne\",\"K. Kristendemokraterne\"],\"line\":{\"color\":\"rgb(140,190,84)\"},\"marker\":{\"color\":\"red\",\"size\":[0,12]},\"showlegend\":false,\"x\":[0,15],\"y\":[6,6],\"type\":\"scatter\"},{\"hoverinfo\":[\"none\",\"x+y+text\"],\"hovertext\":[\"F. Socialistisk Folkeparti\",\"F. Socialistisk Folkeparti\"],\"line\":{\"color\":\"rgb(140,190,84)\"},\"marker\":{\"color\":\"red\",\"size\":[0,12]},\"showlegend\":false,\"x\":[0,20],\"y\":[7,7],\"type\":\"scatter\"},{\"hoverinfo\":[\"none\",\"x+y+text\"],\"hovertext\":[\"A. Socialdemokratiet\",\"A. Socialdemokratiet\"],\"line\":{\"color\":\"rgb(140,190,84)\"},\"marker\":{\"color\":\"red\",\"size\":[0,12]},\"showlegend\":false,\"x\":[0,24],\"y\":[8,8],\"type\":\"scatter\"},{\"hoverinfo\":[\"none\",\"x+y+text\"],\"hovertext\":[\"\\u00c5. Alternativet\",\"\\u00c5. Alternativet\"],\"line\":{\"color\":\"rgb(140,190,84)\"},\"marker\":{\"color\":\"blue\",\"size\":[0,12]},\"showlegend\":false,\"x\":[0,25],\"y\":[9,9],\"type\":\"scatter\"},{\"hoverinfo\":[\"none\",\"x+y+text\"],\"hovertext\":[\"\\u00d8. Enhedslisten\",\"\\u00d8. Enhedslisten\"],\"line\":{\"color\":\"rgb(140,190,84)\"},\"marker\":{\"color\":\"red\",\"size\":[0,12]},\"showlegend\":false,\"x\":[0,25],\"y\":[10,10],\"type\":\"scatter\"},{\"hoverinfo\":[\"none\",\"x+y+text\"],\"hovertext\":[\"\\u00c5. Alternativet\",\"\\u00c5. Alternativet\"],\"line\":{\"color\":\"rgb(140,190,84)\"},\"marker\":{\"color\":\"turquoise\",\"size\":[0,12]},\"showlegend\":false,\"x\":[0,27],\"y\":[11,11],\"type\":\"scatter\"},{\"hoverinfo\":[\"none\",\"x+y+text\"],\"hovertext\":[\"\\u00d8. Enhedslisten\",\"\\u00d8. Enhedslisten\"],\"line\":{\"color\":\"rgb(140,190,84)\"},\"marker\":{\"color\":\"rgb(180, 240, 120)\",\"size\":[0,12]},\"showlegend\":false,\"x\":[0,28],\"y\":[12,12],\"type\":\"scatter\"},{\"hoverinfo\":[\"none\",\"x+y+text\"],\"hovertext\":[\"\\u00d8. Enhedslisten\",\"\\u00d8. Enhedslisten\"],\"line\":{\"color\":\"rgb(140,190,84)\"},\"marker\":{\"color\":\"blue\",\"size\":[0,12]},\"showlegend\":false,\"x\":[0,28],\"y\":[13,13],\"type\":\"scatter\"},{\"hoverinfo\":[\"none\",\"x+y+text\"],\"hovertext\":[\"Q. Frie Gr\\u00f8nne\",\"Q. Frie Gr\\u00f8nne\"],\"line\":{\"color\":\"rgb(140,190,84)\"},\"marker\":{\"color\":\"turquoise\",\"size\":[0,12]},\"showlegend\":false,\"x\":[0,31],\"y\":[14,14],\"type\":\"scatter\"},{\"hoverinfo\":[\"none\",\"x+y+text\"],\"hovertext\":[\"\\u00c5. Alternativet\",\"\\u00c5. Alternativet\"],\"line\":{\"color\":\"rgb(140,190,84)\"},\"marker\":{\"color\":\"rgb(16,114,60)\",\"size\":[0,12]},\"showlegend\":false,\"x\":[0,32],\"y\":[15,15],\"type\":\"scatter\"},{\"hoverinfo\":[\"none\",\"x+y+text\"],\"hovertext\":[\"\\u00c5. Alternativet\",\"\\u00c5. Alternativet\"],\"line\":{\"color\":\"rgb(140,190,84)\"},\"marker\":{\"color\":\"rgb(16,114,60)\",\"size\":[0,12]},\"showlegend\":false,\"x\":[0,32],\"y\":[16,16],\"type\":\"scatter\"},{\"marker\":{\"color\":\"red\",\"size\":[0]},\"name\":\"Spiser ofte k\\u00f8d, k\\u00f8dp\\u00e5l\\u00e6g, fjerkr\\u00e6 og/eller fisk (hver dag eller n\\u00e6sten hver dag)\",\"x\":[0],\"y\":[0],\"type\":\"scatter\"},{\"marker\":{\"color\":\"turquoise\",\"size\":[0]},\"name\":\"Spiser fisk, men derudover kun vegetarisk, aldrig k\\u00f8d, k\\u00f8dp\\u00e5l\\u00e6g og fjerkr\\u00e6\",\"x\":[0],\"y\":[0],\"type\":\"scatter\"},{\"marker\":{\"color\":\"blue\",\"size\":[0]},\"name\":\"Spiser vegetarisk mindst halvdelen af ugens dage, de \\u00f8vrige dage k\\u00f8d, fjerkr\\u00e6 og/eller fisk\",\"x\":[0],\"y\":[0],\"type\":\"scatter\"},{\"marker\":{\"color\":\"rgb(180, 240, 120)\",\"size\":[0]},\"name\":\"Spiser kun vegetarisk, sj\\u00e6ldent m\\u00e6lkeprodukter og \\u00e6g\",\"x\":[0],\"y\":[0],\"type\":\"scatter\"},{\"marker\":{\"color\":\"rgb(140,190,84)\",\"size\":[0]},\"name\":\"Spiser kun vegetarisk, aldrig k\\u00f8d, k\\u00f8dp\\u00e5l\\u00e6g, fjerkr\\u00e6 og fisk\",\"x\":[0],\"y\":[0],\"type\":\"scatter\"},{\"marker\":{\"color\":\"rgb(16,114,60)\",\"size\":[0]},\"name\":\"Spiser kun vegansk\",\"x\":[0],\"y\":[0],\"type\":\"scatter\"},{\"marker\":{\"color\":\"grey\",\"size\":[0]},\"name\":\"\\u00d8nsker ikke at svare\",\"x\":[0],\"y\":[0],\"type\":\"scatter\"}],                        {\"template\":{\"data\":{\"histogram2dcontour\":[{\"type\":\"histogram2dcontour\",\"colorbar\":{\"outlinewidth\":0,\"ticks\":\"\"},\"colorscale\":[[0.0,\"#0d0887\"],[0.1111111111111111,\"#46039f\"],[0.2222222222222222,\"#7201a8\"],[0.3333333333333333,\"#9c179e\"],[0.4444444444444444,\"#bd3786\"],[0.5555555555555556,\"#d8576b\"],[0.6666666666666666,\"#ed7953\"],[0.7777777777777778,\"#fb9f3a\"],[0.8888888888888888,\"#fdca26\"],[1.0,\"#f0f921\"]]}],\"choropleth\":[{\"type\":\"choropleth\",\"colorbar\":{\"outlinewidth\":0,\"ticks\":\"\"}}],\"histogram2d\":[{\"type\":\"histogram2d\",\"colorbar\":{\"outlinewidth\":0,\"ticks\":\"\"},\"colorscale\":[[0.0,\"#0d0887\"],[0.1111111111111111,\"#46039f\"],[0.2222222222222222,\"#7201a8\"],[0.3333333333333333,\"#9c179e\"],[0.4444444444444444,\"#bd3786\"],[0.5555555555555556,\"#d8576b\"],[0.6666666666666666,\"#ed7953\"],[0.7777777777777778,\"#fb9f3a\"],[0.8888888888888888,\"#fdca26\"],[1.0,\"#f0f921\"]]}],\"heatmap\":[{\"type\":\"heatmap\",\"colorbar\":{\"outlinewidth\":0,\"ticks\":\"\"},\"colorscale\":[[0.0,\"#0d0887\"],[0.1111111111111111,\"#46039f\"],[0.2222222222222222,\"#7201a8\"],[0.3333333333333333,\"#9c179e\"],[0.4444444444444444,\"#bd3786\"],[0.5555555555555556,\"#d8576b\"],[0.6666666666666666,\"#ed7953\"],[0.7777777777777778,\"#fb9f3a\"],[0.8888888888888888,\"#fdca26\"],[1.0,\"#f0f921\"]]}],\"heatmapgl\":[{\"type\":\"heatmapgl\",\"colorbar\":{\"outlinewidth\":0,\"ticks\":\"\"},\"colorscale\":[[0.0,\"#0d0887\"],[0.1111111111111111,\"#46039f\"],[0.2222222222222222,\"#7201a8\"],[0.3333333333333333,\"#9c179e\"],[0.4444444444444444,\"#bd3786\"],[0.5555555555555556,\"#d8576b\"],[0.6666666666666666,\"#ed7953\"],[0.7777777777777778,\"#fb9f3a\"],[0.8888888888888888,\"#fdca26\"],[1.0,\"#f0f921\"]]}],\"contourcarpet\":[{\"type\":\"contourcarpet\",\"colorbar\":{\"outlinewidth\":0,\"ticks\":\"\"}}],\"contour\":[{\"type\":\"contour\",\"colorbar\":{\"outlinewidth\":0,\"ticks\":\"\"},\"colorscale\":[[0.0,\"#0d0887\"],[0.1111111111111111,\"#46039f\"],[0.2222222222222222,\"#7201a8\"],[0.3333333333333333,\"#9c179e\"],[0.4444444444444444,\"#bd3786\"],[0.5555555555555556,\"#d8576b\"],[0.6666666666666666,\"#ed7953\"],[0.7777777777777778,\"#fb9f3a\"],[0.8888888888888888,\"#fdca26\"],[1.0,\"#f0f921\"]]}],\"surface\":[{\"type\":\"surface\",\"colorbar\":{\"outlinewidth\":0,\"ticks\":\"\"},\"colorscale\":[[0.0,\"#0d0887\"],[0.1111111111111111,\"#46039f\"],[0.2222222222222222,\"#7201a8\"],[0.3333333333333333,\"#9c179e\"],[0.4444444444444444,\"#bd3786\"],[0.5555555555555556,\"#d8576b\"],[0.6666666666666666,\"#ed7953\"],[0.7777777777777778,\"#fb9f3a\"],[0.8888888888888888,\"#fdca26\"],[1.0,\"#f0f921\"]]}],\"mesh3d\":[{\"type\":\"mesh3d\",\"colorbar\":{\"outlinewidth\":0,\"ticks\":\"\"}}],\"scatter\":[{\"fillpattern\":{\"fillmode\":\"overlay\",\"size\":10,\"solidity\":0.2},\"type\":\"scatter\"}],\"parcoords\":[{\"type\":\"parcoords\",\"line\":{\"colorbar\":{\"outlinewidth\":0,\"ticks\":\"\"}}}],\"scatterpolargl\":[{\"type\":\"scatterpolargl\",\"marker\":{\"colorbar\":{\"outlinewidth\":0,\"ticks\":\"\"}}}],\"bar\":[{\"error_x\":{\"color\":\"#2a3f5f\"},\"error_y\":{\"color\":\"#2a3f5f\"},\"marker\":{\"line\":{\"color\":\"#E5ECF6\",\"width\":0.5},\"pattern\":{\"fillmode\":\"overlay\",\"size\":10,\"solidity\":0.2}},\"type\":\"bar\"}],\"scattergeo\":[{\"type\":\"scattergeo\",\"marker\":{\"colorbar\":{\"outlinewidth\":0,\"ticks\":\"\"}}}],\"scatterpolar\":[{\"type\":\"scatterpolar\",\"marker\":{\"colorbar\":{\"outlinewidth\":0,\"ticks\":\"\"}}}],\"histogram\":[{\"marker\":{\"pattern\":{\"fillmode\":\"overlay\",\"size\":10,\"solidity\":0.2}},\"type\":\"histogram\"}],\"scattergl\":[{\"type\":\"scattergl\",\"marker\":{\"colorbar\":{\"outlinewidth\":0,\"ticks\":\"\"}}}],\"scatter3d\":[{\"type\":\"scatter3d\",\"line\":{\"colorbar\":{\"outlinewidth\":0,\"ticks\":\"\"}},\"marker\":{\"colorbar\":{\"outlinewidth\":0,\"ticks\":\"\"}}}],\"scattermapbox\":[{\"type\":\"scattermapbox\",\"marker\":{\"colorbar\":{\"outlinewidth\":0,\"ticks\":\"\"}}}],\"scatterternary\":[{\"type\":\"scatterternary\",\"marker\":{\"colorbar\":{\"outlinewidth\":0,\"ticks\":\"\"}}}],\"scattercarpet\":[{\"type\":\"scattercarpet\",\"marker\":{\"colorbar\":{\"outlinewidth\":0,\"ticks\":\"\"}}}],\"carpet\":[{\"aaxis\":{\"endlinecolor\":\"#2a3f5f\",\"gridcolor\":\"white\",\"linecolor\":\"white\",\"minorgridcolor\":\"white\",\"startlinecolor\":\"#2a3f5f\"},\"baxis\":{\"endlinecolor\":\"#2a3f5f\",\"gridcolor\":\"white\",\"linecolor\":\"white\",\"minorgridcolor\":\"white\",\"startlinecolor\":\"#2a3f5f\"},\"type\":\"carpet\"}],\"table\":[{\"cells\":{\"fill\":{\"color\":\"#EBF0F8\"},\"line\":{\"color\":\"white\"}},\"header\":{\"fill\":{\"color\":\"#C8D4E3\"},\"line\":{\"color\":\"white\"}},\"type\":\"table\"}],\"barpolar\":[{\"marker\":{\"line\":{\"color\":\"#E5ECF6\",\"width\":0.5},\"pattern\":{\"fillmode\":\"overlay\",\"size\":10,\"solidity\":0.2}},\"type\":\"barpolar\"}],\"pie\":[{\"automargin\":true,\"type\":\"pie\"}]},\"layout\":{\"autotypenumbers\":\"strict\",\"colorway\":[\"#636efa\",\"#EF553B\",\"#00cc96\",\"#ab63fa\",\"#FFA15A\",\"#19d3f3\",\"#FF6692\",\"#B6E880\",\"#FF97FF\",\"#FECB52\"],\"font\":{\"color\":\"#2a3f5f\"},\"hovermode\":\"closest\",\"hoverlabel\":{\"align\":\"left\"},\"paper_bgcolor\":\"white\",\"plot_bgcolor\":\"#E5ECF6\",\"polar\":{\"bgcolor\":\"#E5ECF6\",\"angularaxis\":{\"gridcolor\":\"white\",\"linecolor\":\"white\",\"ticks\":\"\"},\"radialaxis\":{\"gridcolor\":\"white\",\"linecolor\":\"white\",\"ticks\":\"\"}},\"ternary\":{\"bgcolor\":\"#E5ECF6\",\"aaxis\":{\"gridcolor\":\"white\",\"linecolor\":\"white\",\"ticks\":\"\"},\"baxis\":{\"gridcolor\":\"white\",\"linecolor\":\"white\",\"ticks\":\"\"},\"caxis\":{\"gridcolor\":\"white\",\"linecolor\":\"white\",\"ticks\":\"\"}},\"coloraxis\":{\"colorbar\":{\"outlinewidth\":0,\"ticks\":\"\"}},\"colorscale\":{\"sequential\":[[0.0,\"#0d0887\"],[0.1111111111111111,\"#46039f\"],[0.2222222222222222,\"#7201a8\"],[0.3333333333333333,\"#9c179e\"],[0.4444444444444444,\"#bd3786\"],[0.5555555555555556,\"#d8576b\"],[0.6666666666666666,\"#ed7953\"],[0.7777777777777778,\"#fb9f3a\"],[0.8888888888888888,\"#fdca26\"],[1.0,\"#f0f921\"]],\"sequentialminus\":[[0.0,\"#0d0887\"],[0.1111111111111111,\"#46039f\"],[0.2222222222222222,\"#7201a8\"],[0.3333333333333333,\"#9c179e\"],[0.4444444444444444,\"#bd3786\"],[0.5555555555555556,\"#d8576b\"],[0.6666666666666666,\"#ed7953\"],[0.7777777777777778,\"#fb9f3a\"],[0.8888888888888888,\"#fdca26\"],[1.0,\"#f0f921\"]],\"diverging\":[[0,\"#8e0152\"],[0.1,\"#c51b7d\"],[0.2,\"#de77ae\"],[0.3,\"#f1b6da\"],[0.4,\"#fde0ef\"],[0.5,\"#f7f7f7\"],[0.6,\"#e6f5d0\"],[0.7,\"#b8e186\"],[0.8,\"#7fbc41\"],[0.9,\"#4d9221\"],[1,\"#276419\"]]},\"xaxis\":{\"gridcolor\":\"white\",\"linecolor\":\"white\",\"ticks\":\"\",\"title\":{\"standoff\":15},\"zerolinecolor\":\"white\",\"automargin\":true,\"zerolinewidth\":2},\"yaxis\":{\"gridcolor\":\"white\",\"linecolor\":\"white\",\"ticks\":\"\",\"title\":{\"standoff\":15},\"zerolinecolor\":\"white\",\"automargin\":true,\"zerolinewidth\":2},\"scene\":{\"xaxis\":{\"backgroundcolor\":\"#E5ECF6\",\"gridcolor\":\"white\",\"linecolor\":\"white\",\"showbackground\":true,\"ticks\":\"\",\"zerolinecolor\":\"white\",\"gridwidth\":2},\"yaxis\":{\"backgroundcolor\":\"#E5ECF6\",\"gridcolor\":\"white\",\"linecolor\":\"white\",\"showbackground\":true,\"ticks\":\"\",\"zerolinecolor\":\"white\",\"gridwidth\":2},\"zaxis\":{\"backgroundcolor\":\"#E5ECF6\",\"gridcolor\":\"white\",\"linecolor\":\"white\",\"showbackground\":true,\"ticks\":\"\",\"zerolinecolor\":\"white\",\"gridwidth\":2}},\"shapedefaults\":{\"line\":{\"color\":\"#2a3f5f\"}},\"annotationdefaults\":{\"arrowcolor\":\"#2a3f5f\",\"arrowhead\":0,\"arrowwidth\":1},\"geo\":{\"bgcolor\":\"white\",\"landcolor\":\"#E5ECF6\",\"subunitcolor\":\"white\",\"showland\":true,\"showlakes\":true,\"lakecolor\":\"white\"},\"title\":{\"x\":0.05},\"mapbox\":{\"style\":\"light\"}}},\"yaxis\":{\"title\":{\"font\":{\"size\":20}},\"tickmode\":\"array\",\"tickvals\":[0,1,2,3,4,5,6,7,8,9,10,11,12,13,14,15,16],\"ticktext\":[\"Nikolaj Leed Henriksen (V.)\",\"Malte J\\u00e4ger (D.)\",\"Jonas Ren\\u00e9 Jensen (D.)\",\"Kenneth Bjerg Andersen (M.)\",\"Melanie J\\u00f8rgensen (D.)\",\"Henrik T\\u00f8rnqvist Lauridsen  (D.)\",\"Gert Dyrn (K.)\",\"Jonas Hulgaard Ammundsen (F.)\",\"Mads Madsen Henriksen (A.)\",\"Bodil Marie Helbo (\\u00c5.)\",\"Niels Bjarne Lund (\\u00d8.)\",\"Henrik Boye (\\u00c5.)\",\"Victoria B\\u00f8gh Salo (\\u00d8.)\",\"Vibeke Syppli Enrum (\\u00d8.)\",\"Nishan Ganesh (Q.)\",\"Simon Nyborg Jensen (\\u00c5.)\",\"Anna Astrid H\\u00f8y-Nielsen (\\u00c5.)\"]},\"title\":{\"text\":\"Kandidater for Fyns Storkreds\"},\"legend\":{\"itemsizing\":\"constant\",\"orientation\":\"h\",\"yanchor\":\"bottom\",\"y\":-0.135,\"xanchor\":\"right\",\"x\":0.88},\"height\":1500},                        {\"responsive\": true}                    ).then(function(){\n",
       "                            \n",
       "var gd = document.getElementById('e1a74eda-c58a-462c-93fd-747418054359');\n",
       "var x = new MutationObserver(function (mutations, observer) {{\n",
       "        var display = window.getComputedStyle(gd).display;\n",
       "        if (!display || display === 'none') {{\n",
       "            console.log([gd, 'removed!']);\n",
       "            Plotly.purge(gd);\n",
       "            observer.disconnect();\n",
       "        }}\n",
       "}});\n",
       "\n",
       "// Listen for the removal of the full notebook cells\n",
       "var notebookContainer = gd.closest('#notebook-container');\n",
       "if (notebookContainer) {{\n",
       "    x.observe(notebookContainer, {childList: true});\n",
       "}}\n",
       "\n",
       "// Listen for the clearing of the current output cell\n",
       "var outputEl = gd.closest('.output');\n",
       "if (outputEl) {{\n",
       "    x.observe(outputEl, {childList: true});\n",
       "}}\n",
       "\n",
       "                        })                };                });            </script>        </div>"
      ]
     },
     "metadata": {},
     "output_type": "display_data"
    }
   ],
   "source": [
    "\n",
    "fig = go.Figure()\n",
    "df_temp = df_nameIndex[df_nameIndex[\"Storkreds\"]==value]\n",
    "df_temp = df_temp.sort_values(\"Score\")\n",
    "lollipopRange = len(df_temp)*2\n",
    "\n",
    "\n",
    "for j, mean in enumerate(df_temp[\"Score\"]):\n",
    "    candidate = df_temp.index[j]\n",
    "    fig.add_trace(go.Scatter(y=[j,j],x=[0,mean],\n",
    "                             marker_size = [0,12],\n",
    "                             marker_color = df_temp[\"Kost_color\"][j],\n",
    "                             line=go.scatter.Line(color=veggieGreen),\n",
    "                             hovertext=[df_temp.loc[candidate][\"Parti\"],df_temp.loc[candidate][\"Parti\"]],\n",
    "                             showlegend=False,\n",
    "                             hoverinfo=[\"none\",\"x+y+text\"],\n",
    "\n",
    "                             )\n",
    "                  )\n",
    "\n",
    "\n",
    "# Adding a hidden scatterplot to add a legend with the dietary choices of the candidates\n",
    "for k, v in kost_color.items():\n",
    "    fig.add_trace(go.Scatter(x=[0],y=[0],\n",
    "                             marker_size = [0],\n",
    "                             marker_color = v,\n",
    "                             name=k\n",
    "                            ))\n",
    "\n",
    "tickvals_ = list(range(len(df_temp)))\n",
    "ticktext_ = list(df_temp.index)\n",
    "fig.update_layout(\n",
    "    yaxis = dict(\n",
    "        titlefont = dict(size = 20),\n",
    "        tickmode = \"array\",\n",
    "        tickvals = tickvals_,\n",
    "        ticktext = ticktext_),\n",
    "    title = {\"text\":f\"Kandidater for {value}\"}\n",
    "    )    \n",
    "\n",
    "\n",
    "\n",
    "fig.update_layout(legend= {'itemsizing': 'constant',\n",
    "                           \"orientation\" : \"h\",\n",
    "                           \"yanchor\" : \"bottom\",\n",
    "                           \"y\":-0.135,\n",
    "                           \"xanchor\" : \"right\",\n",
    "                           \"x\" : 0.88\n",
    "                           })\n",
    "\n",
    "\n",
    "fig.update_layout(\n",
    "    height=1500)\n",
    "\n",
    "fig.show()"
   ]
  },
  {
   "cell_type": "code",
   "execution_count": 65,
   "id": "cd2042d1",
   "metadata": {},
   "outputs": [
    {
     "data": {
      "application/vnd.plotly.v1+json": {
       "config": {
        "plotlyServerURL": "https://plot.ly"
       },
       "data": [
        {
         "branchvalues": "total",
         "insidetextorientation": "radial",
         "labels": [
          "Enig",
          "Uenig",
          "Delvist Enig",
          "Anders Krojgaard Lund (C.)",
          "Rasmus Nordqvist  (F.)",
          "Lisa Perkins (I.)",
          "Karin Liltorp (M.)",
          "Karen Budtz-Jørgensen (Ø.)",
          "Jens K. Lundager (D.)",
          "Isabella Arendt (C.)",
          "Inger-Marie Tryde (D.)",
          "Tina Lund Sørensen (V.)",
          "Ditte Wedege (I.)",
          "Danny Rosenkilde (O.)",
          "Anders Vistisen (O.)",
          "Hanna-Maria Lyng (K.)",
          "Heidi Printzen (C.)",
          "Henrik Hjortshøj (K.)",
          "Carsten Borup (Å.)",
          "Sofie Lippert  (F.)",
          "Louise Louring (V.)",
          "Mads Damgaard Mortensen (Å.)",
          "Søren Lahn Sloth (F.)",
          "Susan Kronborg (B.)",
          "Sarah Roued Thomsen (Å.)",
          "Sara Grouleff (Q.)",
          "Anders Pedersen  (Ø.)",
          "Nikoline Erbs Hillers-Bendtsen (Å.)",
          "Lucasia Gregersen (Ø.)",
          "Mohamed Abdikarim  (Q.)",
          "Mira Issa Bloch (Å.)",
          "Klaus Nyengaard (C.)",
          "Thor Clasen Jonasen (Å.)",
          "Berit Naomi Skjernaa (Å.)",
          "Camilla Fabricius (A.)",
          "Helle Wium (Å.)",
          "Niko Grünfeld (Q.)",
          "Karina Dammand (Q.)"
         ],
         "marker": {
          "colors": [
           "rgb(218,241,212)",
           "rgb(169,220,163)",
           "rgb(15,122,55)"
          ]
         },
         "parents": [
          "",
          "",
          "",
          "Uenig",
          "Uenig",
          "Uenig",
          "Uenig",
          "Uenig",
          "Uenig",
          "Uenig",
          "Uenig",
          "Uenig",
          "Uenig",
          "Uenig",
          "Uenig",
          "Uenig",
          "Delvist Enig",
          "Delvist Enig",
          "Delvist Enig",
          "Delvist Enig",
          "Delvist Enig",
          "Delvist Enig",
          "Enig",
          "Enig",
          "Enig",
          "Enig",
          "Enig",
          "Enig",
          "Enig",
          "Enig",
          "Enig",
          "Enig",
          "Enig",
          "Enig",
          "Enig",
          "Enig",
          "Enig",
          "Enig"
         ],
         "type": "sunburst",
         "values": [
          16,
          13,
          6,
          1,
          1,
          1,
          1,
          1,
          1,
          1,
          1,
          1,
          1,
          1,
          1,
          1,
          1,
          1,
          1,
          1,
          1,
          1,
          1,
          1,
          1,
          1,
          1,
          1,
          1,
          1,
          1,
          1,
          1,
          1,
          1,
          1,
          1,
          1
         ]
        }
       ],
       "layout": {
        "autosize": false,
        "height": 720,
        "template": {
         "data": {
          "bar": [
           {
            "error_x": {
             "color": "#2a3f5f"
            },
            "error_y": {
             "color": "#2a3f5f"
            },
            "marker": {
             "line": {
              "color": "#E5ECF6",
              "width": 0.5
             },
             "pattern": {
              "fillmode": "overlay",
              "size": 10,
              "solidity": 0.2
             }
            },
            "type": "bar"
           }
          ],
          "barpolar": [
           {
            "marker": {
             "line": {
              "color": "#E5ECF6",
              "width": 0.5
             },
             "pattern": {
              "fillmode": "overlay",
              "size": 10,
              "solidity": 0.2
             }
            },
            "type": "barpolar"
           }
          ],
          "carpet": [
           {
            "aaxis": {
             "endlinecolor": "#2a3f5f",
             "gridcolor": "white",
             "linecolor": "white",
             "minorgridcolor": "white",
             "startlinecolor": "#2a3f5f"
            },
            "baxis": {
             "endlinecolor": "#2a3f5f",
             "gridcolor": "white",
             "linecolor": "white",
             "minorgridcolor": "white",
             "startlinecolor": "#2a3f5f"
            },
            "type": "carpet"
           }
          ],
          "choropleth": [
           {
            "colorbar": {
             "outlinewidth": 0,
             "ticks": ""
            },
            "type": "choropleth"
           }
          ],
          "contour": [
           {
            "colorbar": {
             "outlinewidth": 0,
             "ticks": ""
            },
            "colorscale": [
             [
              0,
              "#0d0887"
             ],
             [
              0.1111111111111111,
              "#46039f"
             ],
             [
              0.2222222222222222,
              "#7201a8"
             ],
             [
              0.3333333333333333,
              "#9c179e"
             ],
             [
              0.4444444444444444,
              "#bd3786"
             ],
             [
              0.5555555555555556,
              "#d8576b"
             ],
             [
              0.6666666666666666,
              "#ed7953"
             ],
             [
              0.7777777777777778,
              "#fb9f3a"
             ],
             [
              0.8888888888888888,
              "#fdca26"
             ],
             [
              1,
              "#f0f921"
             ]
            ],
            "type": "contour"
           }
          ],
          "contourcarpet": [
           {
            "colorbar": {
             "outlinewidth": 0,
             "ticks": ""
            },
            "type": "contourcarpet"
           }
          ],
          "heatmap": [
           {
            "colorbar": {
             "outlinewidth": 0,
             "ticks": ""
            },
            "colorscale": [
             [
              0,
              "#0d0887"
             ],
             [
              0.1111111111111111,
              "#46039f"
             ],
             [
              0.2222222222222222,
              "#7201a8"
             ],
             [
              0.3333333333333333,
              "#9c179e"
             ],
             [
              0.4444444444444444,
              "#bd3786"
             ],
             [
              0.5555555555555556,
              "#d8576b"
             ],
             [
              0.6666666666666666,
              "#ed7953"
             ],
             [
              0.7777777777777778,
              "#fb9f3a"
             ],
             [
              0.8888888888888888,
              "#fdca26"
             ],
             [
              1,
              "#f0f921"
             ]
            ],
            "type": "heatmap"
           }
          ],
          "heatmapgl": [
           {
            "colorbar": {
             "outlinewidth": 0,
             "ticks": ""
            },
            "colorscale": [
             [
              0,
              "#0d0887"
             ],
             [
              0.1111111111111111,
              "#46039f"
             ],
             [
              0.2222222222222222,
              "#7201a8"
             ],
             [
              0.3333333333333333,
              "#9c179e"
             ],
             [
              0.4444444444444444,
              "#bd3786"
             ],
             [
              0.5555555555555556,
              "#d8576b"
             ],
             [
              0.6666666666666666,
              "#ed7953"
             ],
             [
              0.7777777777777778,
              "#fb9f3a"
             ],
             [
              0.8888888888888888,
              "#fdca26"
             ],
             [
              1,
              "#f0f921"
             ]
            ],
            "type": "heatmapgl"
           }
          ],
          "histogram": [
           {
            "marker": {
             "pattern": {
              "fillmode": "overlay",
              "size": 10,
              "solidity": 0.2
             }
            },
            "type": "histogram"
           }
          ],
          "histogram2d": [
           {
            "colorbar": {
             "outlinewidth": 0,
             "ticks": ""
            },
            "colorscale": [
             [
              0,
              "#0d0887"
             ],
             [
              0.1111111111111111,
              "#46039f"
             ],
             [
              0.2222222222222222,
              "#7201a8"
             ],
             [
              0.3333333333333333,
              "#9c179e"
             ],
             [
              0.4444444444444444,
              "#bd3786"
             ],
             [
              0.5555555555555556,
              "#d8576b"
             ],
             [
              0.6666666666666666,
              "#ed7953"
             ],
             [
              0.7777777777777778,
              "#fb9f3a"
             ],
             [
              0.8888888888888888,
              "#fdca26"
             ],
             [
              1,
              "#f0f921"
             ]
            ],
            "type": "histogram2d"
           }
          ],
          "histogram2dcontour": [
           {
            "colorbar": {
             "outlinewidth": 0,
             "ticks": ""
            },
            "colorscale": [
             [
              0,
              "#0d0887"
             ],
             [
              0.1111111111111111,
              "#46039f"
             ],
             [
              0.2222222222222222,
              "#7201a8"
             ],
             [
              0.3333333333333333,
              "#9c179e"
             ],
             [
              0.4444444444444444,
              "#bd3786"
             ],
             [
              0.5555555555555556,
              "#d8576b"
             ],
             [
              0.6666666666666666,
              "#ed7953"
             ],
             [
              0.7777777777777778,
              "#fb9f3a"
             ],
             [
              0.8888888888888888,
              "#fdca26"
             ],
             [
              1,
              "#f0f921"
             ]
            ],
            "type": "histogram2dcontour"
           }
          ],
          "mesh3d": [
           {
            "colorbar": {
             "outlinewidth": 0,
             "ticks": ""
            },
            "type": "mesh3d"
           }
          ],
          "parcoords": [
           {
            "line": {
             "colorbar": {
              "outlinewidth": 0,
              "ticks": ""
             }
            },
            "type": "parcoords"
           }
          ],
          "pie": [
           {
            "automargin": true,
            "type": "pie"
           }
          ],
          "scatter": [
           {
            "fillpattern": {
             "fillmode": "overlay",
             "size": 10,
             "solidity": 0.2
            },
            "type": "scatter"
           }
          ],
          "scatter3d": [
           {
            "line": {
             "colorbar": {
              "outlinewidth": 0,
              "ticks": ""
             }
            },
            "marker": {
             "colorbar": {
              "outlinewidth": 0,
              "ticks": ""
             }
            },
            "type": "scatter3d"
           }
          ],
          "scattercarpet": [
           {
            "marker": {
             "colorbar": {
              "outlinewidth": 0,
              "ticks": ""
             }
            },
            "type": "scattercarpet"
           }
          ],
          "scattergeo": [
           {
            "marker": {
             "colorbar": {
              "outlinewidth": 0,
              "ticks": ""
             }
            },
            "type": "scattergeo"
           }
          ],
          "scattergl": [
           {
            "marker": {
             "colorbar": {
              "outlinewidth": 0,
              "ticks": ""
             }
            },
            "type": "scattergl"
           }
          ],
          "scattermapbox": [
           {
            "marker": {
             "colorbar": {
              "outlinewidth": 0,
              "ticks": ""
             }
            },
            "type": "scattermapbox"
           }
          ],
          "scatterpolar": [
           {
            "marker": {
             "colorbar": {
              "outlinewidth": 0,
              "ticks": ""
             }
            },
            "type": "scatterpolar"
           }
          ],
          "scatterpolargl": [
           {
            "marker": {
             "colorbar": {
              "outlinewidth": 0,
              "ticks": ""
             }
            },
            "type": "scatterpolargl"
           }
          ],
          "scatterternary": [
           {
            "marker": {
             "colorbar": {
              "outlinewidth": 0,
              "ticks": ""
             }
            },
            "type": "scatterternary"
           }
          ],
          "surface": [
           {
            "colorbar": {
             "outlinewidth": 0,
             "ticks": ""
            },
            "colorscale": [
             [
              0,
              "#0d0887"
             ],
             [
              0.1111111111111111,
              "#46039f"
             ],
             [
              0.2222222222222222,
              "#7201a8"
             ],
             [
              0.3333333333333333,
              "#9c179e"
             ],
             [
              0.4444444444444444,
              "#bd3786"
             ],
             [
              0.5555555555555556,
              "#d8576b"
             ],
             [
              0.6666666666666666,
              "#ed7953"
             ],
             [
              0.7777777777777778,
              "#fb9f3a"
             ],
             [
              0.8888888888888888,
              "#fdca26"
             ],
             [
              1,
              "#f0f921"
             ]
            ],
            "type": "surface"
           }
          ],
          "table": [
           {
            "cells": {
             "fill": {
              "color": "#EBF0F8"
             },
             "line": {
              "color": "white"
             }
            },
            "header": {
             "fill": {
              "color": "#C8D4E3"
             },
             "line": {
              "color": "white"
             }
            },
            "type": "table"
           }
          ]
         },
         "layout": {
          "annotationdefaults": {
           "arrowcolor": "#2a3f5f",
           "arrowhead": 0,
           "arrowwidth": 1
          },
          "autotypenumbers": "strict",
          "coloraxis": {
           "colorbar": {
            "outlinewidth": 0,
            "ticks": ""
           }
          },
          "colorscale": {
           "diverging": [
            [
             0,
             "#8e0152"
            ],
            [
             0.1,
             "#c51b7d"
            ],
            [
             0.2,
             "#de77ae"
            ],
            [
             0.3,
             "#f1b6da"
            ],
            [
             0.4,
             "#fde0ef"
            ],
            [
             0.5,
             "#f7f7f7"
            ],
            [
             0.6,
             "#e6f5d0"
            ],
            [
             0.7,
             "#b8e186"
            ],
            [
             0.8,
             "#7fbc41"
            ],
            [
             0.9,
             "#4d9221"
            ],
            [
             1,
             "#276419"
            ]
           ],
           "sequential": [
            [
             0,
             "#0d0887"
            ],
            [
             0.1111111111111111,
             "#46039f"
            ],
            [
             0.2222222222222222,
             "#7201a8"
            ],
            [
             0.3333333333333333,
             "#9c179e"
            ],
            [
             0.4444444444444444,
             "#bd3786"
            ],
            [
             0.5555555555555556,
             "#d8576b"
            ],
            [
             0.6666666666666666,
             "#ed7953"
            ],
            [
             0.7777777777777778,
             "#fb9f3a"
            ],
            [
             0.8888888888888888,
             "#fdca26"
            ],
            [
             1,
             "#f0f921"
            ]
           ],
           "sequentialminus": [
            [
             0,
             "#0d0887"
            ],
            [
             0.1111111111111111,
             "#46039f"
            ],
            [
             0.2222222222222222,
             "#7201a8"
            ],
            [
             0.3333333333333333,
             "#9c179e"
            ],
            [
             0.4444444444444444,
             "#bd3786"
            ],
            [
             0.5555555555555556,
             "#d8576b"
            ],
            [
             0.6666666666666666,
             "#ed7953"
            ],
            [
             0.7777777777777778,
             "#fb9f3a"
            ],
            [
             0.8888888888888888,
             "#fdca26"
            ],
            [
             1,
             "#f0f921"
            ]
           ]
          },
          "colorway": [
           "#636efa",
           "#EF553B",
           "#00cc96",
           "#ab63fa",
           "#FFA15A",
           "#19d3f3",
           "#FF6692",
           "#B6E880",
           "#FF97FF",
           "#FECB52"
          ],
          "font": {
           "color": "#2a3f5f"
          },
          "geo": {
           "bgcolor": "white",
           "lakecolor": "white",
           "landcolor": "#E5ECF6",
           "showlakes": true,
           "showland": true,
           "subunitcolor": "white"
          },
          "hoverlabel": {
           "align": "left"
          },
          "hovermode": "closest",
          "mapbox": {
           "style": "light"
          },
          "paper_bgcolor": "white",
          "plot_bgcolor": "#E5ECF6",
          "polar": {
           "angularaxis": {
            "gridcolor": "white",
            "linecolor": "white",
            "ticks": ""
           },
           "bgcolor": "#E5ECF6",
           "radialaxis": {
            "gridcolor": "white",
            "linecolor": "white",
            "ticks": ""
           }
          },
          "scene": {
           "xaxis": {
            "backgroundcolor": "#E5ECF6",
            "gridcolor": "white",
            "gridwidth": 2,
            "linecolor": "white",
            "showbackground": true,
            "ticks": "",
            "zerolinecolor": "white"
           },
           "yaxis": {
            "backgroundcolor": "#E5ECF6",
            "gridcolor": "white",
            "gridwidth": 2,
            "linecolor": "white",
            "showbackground": true,
            "ticks": "",
            "zerolinecolor": "white"
           },
           "zaxis": {
            "backgroundcolor": "#E5ECF6",
            "gridcolor": "white",
            "gridwidth": 2,
            "linecolor": "white",
            "showbackground": true,
            "ticks": "",
            "zerolinecolor": "white"
           }
          },
          "shapedefaults": {
           "line": {
            "color": "#2a3f5f"
           }
          },
          "ternary": {
           "aaxis": {
            "gridcolor": "white",
            "linecolor": "white",
            "ticks": ""
           },
           "baxis": {
            "gridcolor": "white",
            "linecolor": "white",
            "ticks": ""
           },
           "bgcolor": "#E5ECF6",
           "caxis": {
            "gridcolor": "white",
            "linecolor": "white",
            "ticks": ""
           }
          },
          "title": {
           "x": 0.05
          },
          "xaxis": {
           "automargin": true,
           "gridcolor": "white",
           "linecolor": "white",
           "ticks": "",
           "title": {
            "standoff": 15
           },
           "zerolinecolor": "white",
           "zerolinewidth": 2
          },
          "yaxis": {
           "automargin": true,
           "gridcolor": "white",
           "linecolor": "white",
           "ticks": "",
           "title": {
            "standoff": 15
           },
           "zerolinecolor": "white",
           "zerolinewidth": 2
          }
         }
        },
        "width": 1200
       }
      },
      "text/html": [
       "<div>                            <div id=\"59792a6c-cf8b-4887-aed5-d9ff77e50a0e\" class=\"plotly-graph-div\" style=\"height:720px; width:1200px;\"></div>            <script type=\"text/javascript\">                require([\"plotly\"], function(Plotly) {                    window.PLOTLYENV=window.PLOTLYENV || {};                                    if (document.getElementById(\"59792a6c-cf8b-4887-aed5-d9ff77e50a0e\")) {                    Plotly.newPlot(                        \"59792a6c-cf8b-4887-aed5-d9ff77e50a0e\",                        [{\"branchvalues\":\"total\",\"insidetextorientation\":\"radial\",\"labels\":[\"Enig\",\"Uenig\",\"Delvist Enig\",\"Anders Krojgaard Lund (C.)\",\"Rasmus Nordqvist  (F.)\",\"Lisa Perkins (I.)\",\"Karin Liltorp (M.)\",\"Karen Budtz-J\\u00f8rgensen (\\u00d8.)\",\"Jens K. Lundager (D.)\",\"Isabella Arendt (C.)\",\"Inger-Marie Tryde (D.)\",\"Tina Lund S\\u00f8rensen (V.)\",\"Ditte Wedege (I.)\",\"Danny Rosenkilde (O.)\",\"Anders Vistisen (O.)\",\"Hanna-Maria Lyng (K.)\",\"Heidi Printzen (C.)\",\"Henrik Hjortsh\\u00f8j (K.)\",\"Carsten Borup (\\u00c5.)\",\"Sofie Lippert  (F.)\",\"Louise Louring (V.)\",\"Mads Damgaard Mortensen (\\u00c5.)\",\"S\\u00f8ren Lahn Sloth (F.)\",\"Susan Kronborg (B.)\",\"Sarah Roued Thomsen (\\u00c5.)\",\"Sara Grouleff (Q.)\",\"Anders Pedersen  (\\u00d8.)\",\"Nikoline Erbs Hillers-Bendtsen (\\u00c5.)\",\"Lucasia Gregersen (\\u00d8.)\",\"Mohamed Abdikarim  (Q.)\",\"Mira Issa Bloch (\\u00c5.)\",\"Klaus Nyengaard (C.)\",\"Thor Clasen Jonasen (\\u00c5.)\",\"Berit Naomi Skjernaa (\\u00c5.)\",\"Camilla Fabricius (A.)\",\"Helle Wium (\\u00c5.)\",\"Niko Gr\\u00fcnfeld (Q.)\",\"Karina Dammand (Q.)\"],\"marker\":{\"colors\":[\"rgb(218,241,212)\",\"rgb(169,220,163)\",\"rgb(15,122,55)\"]},\"parents\":[\"\",\"\",\"\",\"Uenig\",\"Uenig\",\"Uenig\",\"Uenig\",\"Uenig\",\"Uenig\",\"Uenig\",\"Uenig\",\"Uenig\",\"Uenig\",\"Uenig\",\"Uenig\",\"Uenig\",\"Delvist Enig\",\"Delvist Enig\",\"Delvist Enig\",\"Delvist Enig\",\"Delvist Enig\",\"Delvist Enig\",\"Enig\",\"Enig\",\"Enig\",\"Enig\",\"Enig\",\"Enig\",\"Enig\",\"Enig\",\"Enig\",\"Enig\",\"Enig\",\"Enig\",\"Enig\",\"Enig\",\"Enig\",\"Enig\"],\"values\":[16,13,6,1,1,1,1,1,1,1,1,1,1,1,1,1,1,1,1,1,1,1,1,1,1,1,1,1,1,1,1,1,1,1,1,1,1,1],\"type\":\"sunburst\"}],                        {\"template\":{\"data\":{\"histogram2dcontour\":[{\"type\":\"histogram2dcontour\",\"colorbar\":{\"outlinewidth\":0,\"ticks\":\"\"},\"colorscale\":[[0.0,\"#0d0887\"],[0.1111111111111111,\"#46039f\"],[0.2222222222222222,\"#7201a8\"],[0.3333333333333333,\"#9c179e\"],[0.4444444444444444,\"#bd3786\"],[0.5555555555555556,\"#d8576b\"],[0.6666666666666666,\"#ed7953\"],[0.7777777777777778,\"#fb9f3a\"],[0.8888888888888888,\"#fdca26\"],[1.0,\"#f0f921\"]]}],\"choropleth\":[{\"type\":\"choropleth\",\"colorbar\":{\"outlinewidth\":0,\"ticks\":\"\"}}],\"histogram2d\":[{\"type\":\"histogram2d\",\"colorbar\":{\"outlinewidth\":0,\"ticks\":\"\"},\"colorscale\":[[0.0,\"#0d0887\"],[0.1111111111111111,\"#46039f\"],[0.2222222222222222,\"#7201a8\"],[0.3333333333333333,\"#9c179e\"],[0.4444444444444444,\"#bd3786\"],[0.5555555555555556,\"#d8576b\"],[0.6666666666666666,\"#ed7953\"],[0.7777777777777778,\"#fb9f3a\"],[0.8888888888888888,\"#fdca26\"],[1.0,\"#f0f921\"]]}],\"heatmap\":[{\"type\":\"heatmap\",\"colorbar\":{\"outlinewidth\":0,\"ticks\":\"\"},\"colorscale\":[[0.0,\"#0d0887\"],[0.1111111111111111,\"#46039f\"],[0.2222222222222222,\"#7201a8\"],[0.3333333333333333,\"#9c179e\"],[0.4444444444444444,\"#bd3786\"],[0.5555555555555556,\"#d8576b\"],[0.6666666666666666,\"#ed7953\"],[0.7777777777777778,\"#fb9f3a\"],[0.8888888888888888,\"#fdca26\"],[1.0,\"#f0f921\"]]}],\"heatmapgl\":[{\"type\":\"heatmapgl\",\"colorbar\":{\"outlinewidth\":0,\"ticks\":\"\"},\"colorscale\":[[0.0,\"#0d0887\"],[0.1111111111111111,\"#46039f\"],[0.2222222222222222,\"#7201a8\"],[0.3333333333333333,\"#9c179e\"],[0.4444444444444444,\"#bd3786\"],[0.5555555555555556,\"#d8576b\"],[0.6666666666666666,\"#ed7953\"],[0.7777777777777778,\"#fb9f3a\"],[0.8888888888888888,\"#fdca26\"],[1.0,\"#f0f921\"]]}],\"contourcarpet\":[{\"type\":\"contourcarpet\",\"colorbar\":{\"outlinewidth\":0,\"ticks\":\"\"}}],\"contour\":[{\"type\":\"contour\",\"colorbar\":{\"outlinewidth\":0,\"ticks\":\"\"},\"colorscale\":[[0.0,\"#0d0887\"],[0.1111111111111111,\"#46039f\"],[0.2222222222222222,\"#7201a8\"],[0.3333333333333333,\"#9c179e\"],[0.4444444444444444,\"#bd3786\"],[0.5555555555555556,\"#d8576b\"],[0.6666666666666666,\"#ed7953\"],[0.7777777777777778,\"#fb9f3a\"],[0.8888888888888888,\"#fdca26\"],[1.0,\"#f0f921\"]]}],\"surface\":[{\"type\":\"surface\",\"colorbar\":{\"outlinewidth\":0,\"ticks\":\"\"},\"colorscale\":[[0.0,\"#0d0887\"],[0.1111111111111111,\"#46039f\"],[0.2222222222222222,\"#7201a8\"],[0.3333333333333333,\"#9c179e\"],[0.4444444444444444,\"#bd3786\"],[0.5555555555555556,\"#d8576b\"],[0.6666666666666666,\"#ed7953\"],[0.7777777777777778,\"#fb9f3a\"],[0.8888888888888888,\"#fdca26\"],[1.0,\"#f0f921\"]]}],\"mesh3d\":[{\"type\":\"mesh3d\",\"colorbar\":{\"outlinewidth\":0,\"ticks\":\"\"}}],\"scatter\":[{\"fillpattern\":{\"fillmode\":\"overlay\",\"size\":10,\"solidity\":0.2},\"type\":\"scatter\"}],\"parcoords\":[{\"type\":\"parcoords\",\"line\":{\"colorbar\":{\"outlinewidth\":0,\"ticks\":\"\"}}}],\"scatterpolargl\":[{\"type\":\"scatterpolargl\",\"marker\":{\"colorbar\":{\"outlinewidth\":0,\"ticks\":\"\"}}}],\"bar\":[{\"error_x\":{\"color\":\"#2a3f5f\"},\"error_y\":{\"color\":\"#2a3f5f\"},\"marker\":{\"line\":{\"color\":\"#E5ECF6\",\"width\":0.5},\"pattern\":{\"fillmode\":\"overlay\",\"size\":10,\"solidity\":0.2}},\"type\":\"bar\"}],\"scattergeo\":[{\"type\":\"scattergeo\",\"marker\":{\"colorbar\":{\"outlinewidth\":0,\"ticks\":\"\"}}}],\"scatterpolar\":[{\"type\":\"scatterpolar\",\"marker\":{\"colorbar\":{\"outlinewidth\":0,\"ticks\":\"\"}}}],\"histogram\":[{\"marker\":{\"pattern\":{\"fillmode\":\"overlay\",\"size\":10,\"solidity\":0.2}},\"type\":\"histogram\"}],\"scattergl\":[{\"type\":\"scattergl\",\"marker\":{\"colorbar\":{\"outlinewidth\":0,\"ticks\":\"\"}}}],\"scatter3d\":[{\"type\":\"scatter3d\",\"line\":{\"colorbar\":{\"outlinewidth\":0,\"ticks\":\"\"}},\"marker\":{\"colorbar\":{\"outlinewidth\":0,\"ticks\":\"\"}}}],\"scattermapbox\":[{\"type\":\"scattermapbox\",\"marker\":{\"colorbar\":{\"outlinewidth\":0,\"ticks\":\"\"}}}],\"scatterternary\":[{\"type\":\"scatterternary\",\"marker\":{\"colorbar\":{\"outlinewidth\":0,\"ticks\":\"\"}}}],\"scattercarpet\":[{\"type\":\"scattercarpet\",\"marker\":{\"colorbar\":{\"outlinewidth\":0,\"ticks\":\"\"}}}],\"carpet\":[{\"aaxis\":{\"endlinecolor\":\"#2a3f5f\",\"gridcolor\":\"white\",\"linecolor\":\"white\",\"minorgridcolor\":\"white\",\"startlinecolor\":\"#2a3f5f\"},\"baxis\":{\"endlinecolor\":\"#2a3f5f\",\"gridcolor\":\"white\",\"linecolor\":\"white\",\"minorgridcolor\":\"white\",\"startlinecolor\":\"#2a3f5f\"},\"type\":\"carpet\"}],\"table\":[{\"cells\":{\"fill\":{\"color\":\"#EBF0F8\"},\"line\":{\"color\":\"white\"}},\"header\":{\"fill\":{\"color\":\"#C8D4E3\"},\"line\":{\"color\":\"white\"}},\"type\":\"table\"}],\"barpolar\":[{\"marker\":{\"line\":{\"color\":\"#E5ECF6\",\"width\":0.5},\"pattern\":{\"fillmode\":\"overlay\",\"size\":10,\"solidity\":0.2}},\"type\":\"barpolar\"}],\"pie\":[{\"automargin\":true,\"type\":\"pie\"}]},\"layout\":{\"autotypenumbers\":\"strict\",\"colorway\":[\"#636efa\",\"#EF553B\",\"#00cc96\",\"#ab63fa\",\"#FFA15A\",\"#19d3f3\",\"#FF6692\",\"#B6E880\",\"#FF97FF\",\"#FECB52\"],\"font\":{\"color\":\"#2a3f5f\"},\"hovermode\":\"closest\",\"hoverlabel\":{\"align\":\"left\"},\"paper_bgcolor\":\"white\",\"plot_bgcolor\":\"#E5ECF6\",\"polar\":{\"bgcolor\":\"#E5ECF6\",\"angularaxis\":{\"gridcolor\":\"white\",\"linecolor\":\"white\",\"ticks\":\"\"},\"radialaxis\":{\"gridcolor\":\"white\",\"linecolor\":\"white\",\"ticks\":\"\"}},\"ternary\":{\"bgcolor\":\"#E5ECF6\",\"aaxis\":{\"gridcolor\":\"white\",\"linecolor\":\"white\",\"ticks\":\"\"},\"baxis\":{\"gridcolor\":\"white\",\"linecolor\":\"white\",\"ticks\":\"\"},\"caxis\":{\"gridcolor\":\"white\",\"linecolor\":\"white\",\"ticks\":\"\"}},\"coloraxis\":{\"colorbar\":{\"outlinewidth\":0,\"ticks\":\"\"}},\"colorscale\":{\"sequential\":[[0.0,\"#0d0887\"],[0.1111111111111111,\"#46039f\"],[0.2222222222222222,\"#7201a8\"],[0.3333333333333333,\"#9c179e\"],[0.4444444444444444,\"#bd3786\"],[0.5555555555555556,\"#d8576b\"],[0.6666666666666666,\"#ed7953\"],[0.7777777777777778,\"#fb9f3a\"],[0.8888888888888888,\"#fdca26\"],[1.0,\"#f0f921\"]],\"sequentialminus\":[[0.0,\"#0d0887\"],[0.1111111111111111,\"#46039f\"],[0.2222222222222222,\"#7201a8\"],[0.3333333333333333,\"#9c179e\"],[0.4444444444444444,\"#bd3786\"],[0.5555555555555556,\"#d8576b\"],[0.6666666666666666,\"#ed7953\"],[0.7777777777777778,\"#fb9f3a\"],[0.8888888888888888,\"#fdca26\"],[1.0,\"#f0f921\"]],\"diverging\":[[0,\"#8e0152\"],[0.1,\"#c51b7d\"],[0.2,\"#de77ae\"],[0.3,\"#f1b6da\"],[0.4,\"#fde0ef\"],[0.5,\"#f7f7f7\"],[0.6,\"#e6f5d0\"],[0.7,\"#b8e186\"],[0.8,\"#7fbc41\"],[0.9,\"#4d9221\"],[1,\"#276419\"]]},\"xaxis\":{\"gridcolor\":\"white\",\"linecolor\":\"white\",\"ticks\":\"\",\"title\":{\"standoff\":15},\"zerolinecolor\":\"white\",\"automargin\":true,\"zerolinewidth\":2},\"yaxis\":{\"gridcolor\":\"white\",\"linecolor\":\"white\",\"ticks\":\"\",\"title\":{\"standoff\":15},\"zerolinecolor\":\"white\",\"automargin\":true,\"zerolinewidth\":2},\"scene\":{\"xaxis\":{\"backgroundcolor\":\"#E5ECF6\",\"gridcolor\":\"white\",\"linecolor\":\"white\",\"showbackground\":true,\"ticks\":\"\",\"zerolinecolor\":\"white\",\"gridwidth\":2},\"yaxis\":{\"backgroundcolor\":\"#E5ECF6\",\"gridcolor\":\"white\",\"linecolor\":\"white\",\"showbackground\":true,\"ticks\":\"\",\"zerolinecolor\":\"white\",\"gridwidth\":2},\"zaxis\":{\"backgroundcolor\":\"#E5ECF6\",\"gridcolor\":\"white\",\"linecolor\":\"white\",\"showbackground\":true,\"ticks\":\"\",\"zerolinecolor\":\"white\",\"gridwidth\":2}},\"shapedefaults\":{\"line\":{\"color\":\"#2a3f5f\"}},\"annotationdefaults\":{\"arrowcolor\":\"#2a3f5f\",\"arrowhead\":0,\"arrowwidth\":1},\"geo\":{\"bgcolor\":\"white\",\"landcolor\":\"#E5ECF6\",\"subunitcolor\":\"white\",\"showland\":true,\"showlakes\":true,\"lakecolor\":\"white\"},\"title\":{\"x\":0.05},\"mapbox\":{\"style\":\"light\"}}},\"autosize\":false,\"width\":1200,\"height\":720},                        {\"responsive\": true}                    ).then(function(){\n",
       "                            \n",
       "var gd = document.getElementById('59792a6c-cf8b-4887-aed5-d9ff77e50a0e');\n",
       "var x = new MutationObserver(function (mutations, observer) {{\n",
       "        var display = window.getComputedStyle(gd).display;\n",
       "        if (!display || display === 'none') {{\n",
       "            console.log([gd, 'removed!']);\n",
       "            Plotly.purge(gd);\n",
       "            observer.disconnect();\n",
       "        }}\n",
       "}});\n",
       "\n",
       "// Listen for the removal of the full notebook cells\n",
       "var notebookContainer = gd.closest('#notebook-container');\n",
       "if (notebookContainer) {{\n",
       "    x.observe(notebookContainer, {childList: true});\n",
       "}}\n",
       "\n",
       "// Listen for the clearing of the current output cell\n",
       "var outputEl = gd.closest('.output');\n",
       "if (outputEl) {{\n",
       "    x.observe(outputEl, {childList: true});\n",
       "}}\n",
       "\n",
       "                        })                };                });            </script>        </div>"
      ]
     },
     "metadata": {},
     "output_type": "display_data"
    }
   ],
   "source": [
    "\n",
    "df_temp =  df_nameIndex[df_nameIndex[\"Storkreds\"]==storkreds]\n",
    "df_temp = df_temp.sort_values(question)\n",
    "\n",
    "# Parents for sunburst\n",
    "value_labels = {0:\"Uenig\", 1:\"Delvist Enig\", 2:\"Enig\"}\n",
    "parents_candidates = pd.Series([value_labels[x] for x in df_temp[question]],\n",
    "                              index =df_temp.index)\n",
    "\n",
    "sunburst_parents = []\n",
    "for answer in parents_candidates.unique():\n",
    "    sunburst_parents.append(\"\")\n",
    "sunburst_parents.extend(parents_candidates)\n",
    "\n",
    "# Names for sunburst\n",
    "sunburst_names = []\n",
    "\n",
    "inner_names = list(parents_candidates.value_counts(sort=False).index)\n",
    "sunburst_names.extend(inner_names)\n",
    "\n",
    "candidate_names = list(df_temp.index)\n",
    "sunburst_names.extend(candidate_names)\n",
    "\n",
    "# Values for sunburst\n",
    "sunburst_values = []\n",
    "\n",
    "inner_values = list(parents_candidates.value_counts(sort=False))\n",
    "sunburst_values.extend(inner_values)\n",
    "\n",
    "candidate_values = []\n",
    "for candidate in list(df_temp.index):\n",
    "    candidate_values.append(1)\n",
    "\n",
    "sunburst_values.extend(candidate_values)\n",
    "\n",
    "fig = go.Figure()\n",
    "\n",
    "color_dict = { \"Enig\":'rgb(15,122,55)',\"Delvist Enig\": 'rgb(169,220,163)',\"Uenig\":'rgb(218,241,212)'}\n",
    "colors_sunburst = {}\n",
    "for answer in parents_candidates.unique():\n",
    "    colors_sunburst[answer] = color_dict[answer]\n",
    "\n",
    "data = dict(\n",
    "    names=sunburst_names,\n",
    "    parent=sunburst_parents,\n",
    "    value=sunburst_values)\n",
    "\n",
    "fig.add_trace(go.Sunburst(\n",
    "    labels=data['names'],\n",
    "    parents=data['parent'],\n",
    "    values=data['value'],\n",
    "    branchvalues=\"total\",\n",
    "    marker_colors = list(colors_sunburst.values()),\n",
    "    insidetextorientation='radial',\n",
    "    ))\n",
    "fig.update_layout(\n",
    "    autosize=False,\n",
    "    width=1200,\n",
    "    height=720)\n"
   ]
  }
 ],
 "metadata": {
  "kernelspec": {
   "display_name": "Python 3",
   "language": "python",
   "name": "python3"
  },
  "language_info": {
   "codemirror_mode": {
    "name": "ipython",
    "version": 3
   },
   "file_extension": ".py",
   "mimetype": "text/x-python",
   "name": "python",
   "nbconvert_exporter": "python",
   "pygments_lexer": "ipython3",
   "version": "3.8.8"
  }
 },
 "nbformat": 4,
 "nbformat_minor": 5
}
