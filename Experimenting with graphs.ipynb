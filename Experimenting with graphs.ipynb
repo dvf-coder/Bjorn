{
 "cells": [
  {
   "cell_type": "code",
   "execution_count": 78,
   "id": "04479f47",
   "metadata": {},
   "outputs": [],
   "source": [
    "# import all libraries\n",
    "from plotly import graph_objects as go\n",
    "import plotly.express as px\n",
    "import pandas as pd\n",
    "import dash\n",
    "from dash.dependencies import Input, Output\n",
    "from dash import Dash, html, dcc \n",
    "from urllib.request import urlopen\n",
    "import json\n",
    "from plotly.subplots import make_subplots"
   ]
  },
  {
   "cell_type": "code",
   "execution_count": 79,
   "id": "5d3e46b0",
   "metadata": {},
   "outputs": [],
   "source": [
    "# Load Veggie Data\n",
    "df = pd.read_csv(\"kv21_trimmet_98.csv\",\n",
    "                 dtype={\"fips\": str})\n",
    "df = df.fillna(0) # replace NA values with 0\n",
    "df[\"Candidate\"] = [df['Navn'][i]+f\" ({df['Parti'][i][:2]})\" for i, x in enumerate(df[\"Navn\"])]\n",
    "df_nameIndex = df.set_index(\"Candidate\")"
   ]
  },
  {
   "cell_type": "code",
   "execution_count": 80,
   "id": "de5b62c9",
   "metadata": {},
   "outputs": [
    {
     "name": "stdout",
     "output_type": "stream",
     "text": [
      "Bornholm 1. \"Kommunen skal prioritere, at skolerne får flere midler til indkøb af klimavenlige og bæredygtige råvarer til madkundskab\"\n"
     ]
    }
   ],
   "source": [
    "# Input til graferne\n",
    "kommune = df_nameIndex[\"Kommune\"].unique()[5]\n",
    "df_temp =  df_nameIndex[df_nameIndex[\"Kommune\"]==kommune]\n",
    "question = df_nameIndex.columns[5]\n",
    "color_dict = { \"Enig\":'rgb(15,122,55)',\"Delvist Enig\": 'rgb(169,220,163)',\"Uenig\":'rgb(218,241,212)'}\n",
    "print(kommune, question)\n",
    "colors = ['rgb(218,241,212)','rgb(169,220,163)','rgb(15,122,55)']"
   ]
  },
  {
   "cell_type": "code",
   "execution_count": 103,
<<<<<<< HEAD
<<<<<<< Updated upstream
   "id": "a60174a1",
=======
   "id": "c4dec9e9",
>>>>>>> Stashed changes
=======
   "id": "ee9f0bfc",
>>>>>>> parent of 8de6f7d (Update Experimenting with graphs.ipynb)
   "metadata": {},
   "outputs": [],
   "source": [
    "komdict = {}\n",
    "for kommune in df_nameIndex[\"Kommune\"].unique():\n",
    "    if len(df_nameIndex[df_nameIndex[\"Kommune\"]==kommune]) > 25:\n",
    "        komdict[kommune] = len(df_nameIndex[df_nameIndex[\"Kommune\"]==kommune])"
   ]
  },
  {
   "cell_type": "code",
   "execution_count": 104,
<<<<<<< HEAD
<<<<<<< Updated upstream
   "id": "5d28dd02",
=======
   "id": "f60d568e",
>>>>>>> Stashed changes
=======
   "id": "d70e5cd0",
>>>>>>> parent of 8de6f7d (Update Experimenting with graphs.ipynb)
   "metadata": {},
   "outputs": [
    {
     "data": {
      "text/plain": [
       "{'Frederiksberg': 37,\n",
       " 'København': 60,\n",
       " 'Odense': 28,\n",
       " 'Roskilde': 26,\n",
       " 'Aalborg': 27,\n",
       " 'Aarhus': 39}"
      ]
     },
     "execution_count": 104,
     "metadata": {},
     "output_type": "execute_result"
    }
   ],
   "source": [
    "komdict"
   ]
  },
  {
   "cell_type": "code",
   "execution_count": 81,
<<<<<<< HEAD
<<<<<<< Updated upstream
   "id": "2729b48f",
=======
   "id": "bd104b72",
>>>>>>> Stashed changes
=======
   "id": "6200719b",
>>>>>>> parent of 8de6f7d (Update Experimenting with graphs.ipynb)
   "metadata": {},
   "outputs": [],
   "source": [
    "df[\"Candidate\"] = [df['Navn'][i]+f\" ({df['Parti'][i][:2]})\" for i, x in enumerate(df[\"Navn\"])]"
   ]
  },
  {
   "cell_type": "markdown",
   "id": "9dbcacb3",
   "metadata": {},
   "source": [
    "## Lollipop 4 eva"
   ]
  },
  {
   "cell_type": "code",
   "execution_count": 82,
   "id": "55a18826",
   "metadata": {},
   "outputs": [],
   "source": [
    "def Marker_size(lenght):\n",
    "    markerList = []\n",
    "    for i in range(lenght):\n",
    "        markerList.extend([0,10])\n",
    "    return markerList"
   ]
  },
  {
   "cell_type": "code",
   "execution_count": 83,
   "id": "cb5252ac",
   "metadata": {},
   "outputs": [
    {
     "name": "stdout",
     "output_type": "stream",
     "text": [
      "0 Ronald Kofoed-Rasmussen  (A.) 18\n",
      "1 Jacob Trøst (C.) 3\n",
      "2 Leif Olsen (F.) 17\n",
      "3 Nikolaj Fjellerad (F.) 12\n",
      "4 Lærke Lina Skovbjerg (G.) 32\n",
      "5 Hartvig Mumm (K.) 12\n",
      "6 Bjarne Hartung Kirkegaard (K.) 11\n",
      "7 Niels Chresten Andersen (K.) 8\n",
      "8 Hans Ole Bech (K.) 6\n",
      "9 Søren Schow (V.) 12\n",
      "10 Carsten Hæstrup  (V.) 1\n",
      "11 Klaus Hermansen (Ø.) 23\n",
      "12 Morten Riis (Ø.) 16\n",
      "13 João A. B. R. Møller  (B.) 27\n",
      "14 Jannie Sauer (V.) 3\n",
      "15 Runa Jensen  (Ø.) 15\n",
      "16 Stig Westermann (Ø.) 29\n",
      "17 Bo Haxthausen (F.) 28\n"
     ]
    }
   ],
   "source": [
    "\n",
    "\n",
    "for i, name in enumerate(df_temp.index):\n",
    "    print(i, name,df_temp.loc[name][\"Score\"])"
   ]
  },
  {
   "cell_type": "code",
   "execution_count": 84,
   "id": "e0416c58",
   "metadata": {},
   "outputs": [
    {
     "data": {
      "application/vnd.plotly.v1+json": {
       "config": {
        "plotlyServerURL": "https://plot.ly"
       },
       "data": [
        {
         "hovertext": [
          "G. Veganerpartiet",
          "G. Veganerpartiet"
         ],
         "line": {
          "color": "rgb(5,122,87)"
         },
         "marker": {
          "color": "rgb(5,122,87)",
          "size": [
           0,
           10,
           0,
           10,
           0,
           10,
           0,
           10,
           0,
           10,
           0,
           10,
           0,
           10,
           0,
           10,
           0,
           10,
           0,
           10,
           0,
           10,
           0,
           10,
           0,
           10,
           0,
           10,
           0,
           10,
           0,
           10,
           0,
           10,
           0,
           10
          ]
         },
         "showlegend": false,
         "type": "scatter",
         "x": [
          0,
          0
         ],
         "y": [
          0,
          32
         ]
        },
        {
         "hovertext": [
          "Ø. Enhedslisten",
          "Ø. Enhedslisten"
         ],
         "line": {
          "color": "rgb(5,122,87)"
         },
         "marker": {
          "color": "rgb(5,122,87)",
          "size": [
           0,
           10,
           0,
           10,
           0,
           10,
           0,
           10,
           0,
           10,
           0,
           10,
           0,
           10,
           0,
           10,
           0,
           10,
           0,
           10,
           0,
           10,
           0,
           10,
           0,
           10,
           0,
           10,
           0,
           10,
           0,
           10,
           0,
           10,
           0,
           10
          ]
         },
         "showlegend": false,
         "type": "scatter",
         "x": [
          1,
          1
         ],
         "y": [
          0,
          29
         ]
        },
        {
         "hovertext": [
          "F. Socialistisk Folkeparti",
          "F. Socialistisk Folkeparti"
         ],
         "line": {
          "color": "rgb(5,122,87)"
         },
         "marker": {
          "color": "rgb(5,122,87)",
          "size": [
           0,
           10,
           0,
           10,
           0,
           10,
           0,
           10,
           0,
           10,
           0,
           10,
           0,
           10,
           0,
           10,
           0,
           10,
           0,
           10,
           0,
           10,
           0,
           10,
           0,
           10,
           0,
           10,
           0,
           10,
           0,
           10,
           0,
           10,
           0,
           10
          ]
         },
         "showlegend": false,
         "type": "scatter",
         "x": [
          2,
          2
         ],
         "y": [
          0,
          28
         ]
        },
        {
         "hovertext": [
          "B. Det Radikale Venstre",
          "B. Det Radikale Venstre"
         ],
         "line": {
          "color": "rgb(5,122,87)"
         },
         "marker": {
          "color": "rgb(5,122,87)",
          "size": [
           0,
           10,
           0,
           10,
           0,
           10,
           0,
           10,
           0,
           10,
           0,
           10,
           0,
           10,
           0,
           10,
           0,
           10,
           0,
           10,
           0,
           10,
           0,
           10,
           0,
           10,
           0,
           10,
           0,
           10,
           0,
           10,
           0,
           10,
           0,
           10
          ]
         },
         "showlegend": false,
         "type": "scatter",
         "x": [
          3,
          3
         ],
         "y": [
          0,
          27
         ]
        },
        {
         "hovertext": [
          "Ø. Enhedslisten",
          "Ø. Enhedslisten"
         ],
         "line": {
          "color": "rgb(5,122,87)"
         },
         "marker": {
          "color": "rgb(5,122,87)",
          "size": [
           0,
           10,
           0,
           10,
           0,
           10,
           0,
           10,
           0,
           10,
           0,
           10,
           0,
           10,
           0,
           10,
           0,
           10,
           0,
           10,
           0,
           10,
           0,
           10,
           0,
           10,
           0,
           10,
           0,
           10,
           0,
           10,
           0,
           10,
           0,
           10
          ]
         },
         "showlegend": false,
         "type": "scatter",
         "x": [
          4,
          4
         ],
         "y": [
          0,
          23
         ]
        },
        {
         "hovertext": [
          "A. Socialdemokratiet",
          "A. Socialdemokratiet"
         ],
         "line": {
          "color": "rgb(5,122,87)"
         },
         "marker": {
          "color": "rgb(5,122,87)",
          "size": [
           0,
           10,
           0,
           10,
           0,
           10,
           0,
           10,
           0,
           10,
           0,
           10,
           0,
           10,
           0,
           10,
           0,
           10,
           0,
           10,
           0,
           10,
           0,
           10,
           0,
           10,
           0,
           10,
           0,
           10,
           0,
           10,
           0,
           10,
           0,
           10
          ]
         },
         "showlegend": false,
         "type": "scatter",
         "x": [
          5,
          5
         ],
         "y": [
          0,
          18
         ]
        },
        {
         "hovertext": [
          "F. Socialistisk Folkeparti",
          "F. Socialistisk Folkeparti"
         ],
         "line": {
          "color": "rgb(5,122,87)"
         },
         "marker": {
          "color": "rgb(5,122,87)",
          "size": [
           0,
           10,
           0,
           10,
           0,
           10,
           0,
           10,
           0,
           10,
           0,
           10,
           0,
           10,
           0,
           10,
           0,
           10,
           0,
           10,
           0,
           10,
           0,
           10,
           0,
           10,
           0,
           10,
           0,
           10,
           0,
           10,
           0,
           10,
           0,
           10
          ]
         },
         "showlegend": false,
         "type": "scatter",
         "x": [
          6,
          6
         ],
         "y": [
          0,
          17
         ]
        },
        {
         "hovertext": [
          "Ø. Enhedslisten",
          "Ø. Enhedslisten"
         ],
         "line": {
          "color": "rgb(5,122,87)"
         },
         "marker": {
          "color": "rgb(5,122,87)",
          "size": [
           0,
           10,
           0,
           10,
           0,
           10,
           0,
           10,
           0,
           10,
           0,
           10,
           0,
           10,
           0,
           10,
           0,
           10,
           0,
           10,
           0,
           10,
           0,
           10,
           0,
           10,
           0,
           10,
           0,
           10,
           0,
           10,
           0,
           10,
           0,
           10
          ]
         },
         "showlegend": false,
         "type": "scatter",
         "x": [
          7,
          7
         ],
         "y": [
          0,
          16
         ]
        },
        {
         "hovertext": [
          "Ø. Enhedslisten",
          "Ø. Enhedslisten"
         ],
         "line": {
          "color": "rgb(5,122,87)"
         },
         "marker": {
          "color": "rgb(5,122,87)",
          "size": [
           0,
           10,
           0,
           10,
           0,
           10,
           0,
           10,
           0,
           10,
           0,
           10,
           0,
           10,
           0,
           10,
           0,
           10,
           0,
           10,
           0,
           10,
           0,
           10,
           0,
           10,
           0,
           10,
           0,
           10,
           0,
           10,
           0,
           10,
           0,
           10
          ]
         },
         "showlegend": false,
         "type": "scatter",
         "x": [
          8,
          8
         ],
         "y": [
          0,
          15
         ]
        },
        {
         "hovertext": [
          "K. Kristendemokraterne",
          "K. Kristendemokraterne"
         ],
         "line": {
          "color": "rgb(5,122,87)"
         },
         "marker": {
          "color": "rgb(5,122,87)",
          "size": [
           0,
           10,
           0,
           10,
           0,
           10,
           0,
           10,
           0,
           10,
           0,
           10,
           0,
           10,
           0,
           10,
           0,
           10,
           0,
           10,
           0,
           10,
           0,
           10,
           0,
           10,
           0,
           10,
           0,
           10,
           0,
           10,
           0,
           10,
           0,
           10
          ]
         },
         "showlegend": false,
         "type": "scatter",
         "x": [
          9,
          9
         ],
         "y": [
          0,
          12
         ]
        },
        {
         "hovertext": [
          "F. Socialistisk Folkeparti",
          "F. Socialistisk Folkeparti"
         ],
         "line": {
          "color": "rgb(5,122,87)"
         },
         "marker": {
          "color": "rgb(5,122,87)",
          "size": [
           0,
           10,
           0,
           10,
           0,
           10,
           0,
           10,
           0,
           10,
           0,
           10,
           0,
           10,
           0,
           10,
           0,
           10,
           0,
           10,
           0,
           10,
           0,
           10,
           0,
           10,
           0,
           10,
           0,
           10,
           0,
           10,
           0,
           10,
           0,
           10
          ]
         },
         "showlegend": false,
         "type": "scatter",
         "x": [
          10,
          10
         ],
         "y": [
          0,
          12
         ]
        },
        {
         "hovertext": [
          "V. Venstre",
          "V. Venstre"
         ],
         "line": {
          "color": "rgb(5,122,87)"
         },
         "marker": {
          "color": "rgb(5,122,87)",
          "size": [
           0,
           10,
           0,
           10,
           0,
           10,
           0,
           10,
           0,
           10,
           0,
           10,
           0,
           10,
           0,
           10,
           0,
           10,
           0,
           10,
           0,
           10,
           0,
           10,
           0,
           10,
           0,
           10,
           0,
           10,
           0,
           10,
           0,
           10,
           0,
           10
          ]
         },
         "showlegend": false,
         "type": "scatter",
         "x": [
          11,
          11
         ],
         "y": [
          0,
          12
         ]
        },
        {
         "hovertext": [
          "K. Kristendemokraterne",
          "K. Kristendemokraterne"
         ],
         "line": {
          "color": "rgb(5,122,87)"
         },
         "marker": {
          "color": "rgb(5,122,87)",
          "size": [
           0,
           10,
           0,
           10,
           0,
           10,
           0,
           10,
           0,
           10,
           0,
           10,
           0,
           10,
           0,
           10,
           0,
           10,
           0,
           10,
           0,
           10,
           0,
           10,
           0,
           10,
           0,
           10,
           0,
           10,
           0,
           10,
           0,
           10,
           0,
           10
          ]
         },
         "showlegend": false,
         "type": "scatter",
         "x": [
          12,
          12
         ],
         "y": [
          0,
          11
         ]
        },
        {
         "hovertext": [
          "K. Kristendemokraterne",
          "K. Kristendemokraterne"
         ],
         "line": {
          "color": "rgb(5,122,87)"
         },
         "marker": {
          "color": "rgb(5,122,87)",
          "size": [
           0,
           10,
           0,
           10,
           0,
           10,
           0,
           10,
           0,
           10,
           0,
           10,
           0,
           10,
           0,
           10,
           0,
           10,
           0,
           10,
           0,
           10,
           0,
           10,
           0,
           10,
           0,
           10,
           0,
           10,
           0,
           10,
           0,
           10,
           0,
           10
          ]
         },
         "showlegend": false,
         "type": "scatter",
         "x": [
          13,
          13
         ],
         "y": [
          0,
          8
         ]
        },
        {
         "hovertext": [
          "K. Kristendemokraterne",
          "K. Kristendemokraterne"
         ],
         "line": {
          "color": "rgb(5,122,87)"
         },
         "marker": {
          "color": "rgb(5,122,87)",
          "size": [
           0,
           10,
           0,
           10,
           0,
           10,
           0,
           10,
           0,
           10,
           0,
           10,
           0,
           10,
           0,
           10,
           0,
           10,
           0,
           10,
           0,
           10,
           0,
           10,
           0,
           10,
           0,
           10,
           0,
           10,
           0,
           10,
           0,
           10,
           0,
           10
          ]
         },
         "showlegend": false,
         "type": "scatter",
         "x": [
          14,
          14
         ],
         "y": [
          0,
          6
         ]
        },
        {
         "hovertext": [
          "C. Det Konservative Folkeparti",
          "C. Det Konservative Folkeparti"
         ],
         "line": {
          "color": "rgb(5,122,87)"
         },
         "marker": {
          "color": "rgb(5,122,87)",
          "size": [
           0,
           10,
           0,
           10,
           0,
           10,
           0,
           10,
           0,
           10,
           0,
           10,
           0,
           10,
           0,
           10,
           0,
           10,
           0,
           10,
           0,
           10,
           0,
           10,
           0,
           10,
           0,
           10,
           0,
           10,
           0,
           10,
           0,
           10,
           0,
           10
          ]
         },
         "showlegend": false,
         "type": "scatter",
         "x": [
          15,
          15
         ],
         "y": [
          0,
          3
         ]
        },
        {
         "hovertext": [
          "V. Venstre",
          "V. Venstre"
         ],
         "line": {
          "color": "rgb(5,122,87)"
         },
         "marker": {
          "color": "rgb(5,122,87)",
          "size": [
           0,
           10,
           0,
           10,
           0,
           10,
           0,
           10,
           0,
           10,
           0,
           10,
           0,
           10,
           0,
           10,
           0,
           10,
           0,
           10,
           0,
           10,
           0,
           10,
           0,
           10,
           0,
           10,
           0,
           10,
           0,
           10,
           0,
           10,
           0,
           10
          ]
         },
         "showlegend": false,
         "type": "scatter",
         "x": [
          16,
          16
         ],
         "y": [
          0,
          3
         ]
        },
        {
         "hovertext": [
          "V. Venstre",
          "V. Venstre"
         ],
         "line": {
          "color": "rgb(5,122,87)"
         },
         "marker": {
          "color": "rgb(5,122,87)",
          "size": [
           0,
           10,
           0,
           10,
           0,
           10,
           0,
           10,
           0,
           10,
           0,
           10,
           0,
           10,
           0,
           10,
           0,
           10,
           0,
           10,
           0,
           10,
           0,
           10,
           0,
           10,
           0,
           10,
           0,
           10,
           0,
           10,
           0,
           10,
           0,
           10
          ]
         },
         "showlegend": false,
         "type": "scatter",
         "x": [
          17,
          17
         ],
         "y": [
          0,
          1
         ]
        }
       ],
       "layout": {
        "annotations": [
         {
          "showarrow": false,
          "text": "Kommune gennemsnit",
          "x": 1,
          "xanchor": "right",
          "xref": "x domain",
          "y": 15.166666666666666,
          "yanchor": "top",
          "yref": "y"
         }
        ],
        "shapes": [
         {
          "line": {
           "color": "rgb(5,122,87)",
           "dash": "dash",
           "width": 0.5
          },
          "type": "line",
          "x0": 0,
          "x1": 1,
          "xref": "x domain",
          "y0": 15.166666666666666,
          "y1": 15.166666666666666,
          "yref": "y"
         }
        ],
        "template": {
         "data": {
          "bar": [
           {
            "error_x": {
             "color": "#2a3f5f"
            },
            "error_y": {
             "color": "#2a3f5f"
            },
            "marker": {
             "line": {
              "color": "#E5ECF6",
              "width": 0.5
             },
             "pattern": {
              "fillmode": "overlay",
              "size": 10,
              "solidity": 0.2
             }
            },
            "type": "bar"
           }
          ],
          "barpolar": [
           {
            "marker": {
             "line": {
              "color": "#E5ECF6",
              "width": 0.5
             },
             "pattern": {
              "fillmode": "overlay",
              "size": 10,
              "solidity": 0.2
             }
            },
            "type": "barpolar"
           }
          ],
          "carpet": [
           {
            "aaxis": {
             "endlinecolor": "#2a3f5f",
             "gridcolor": "white",
             "linecolor": "white",
             "minorgridcolor": "white",
             "startlinecolor": "#2a3f5f"
            },
            "baxis": {
             "endlinecolor": "#2a3f5f",
             "gridcolor": "white",
             "linecolor": "white",
             "minorgridcolor": "white",
             "startlinecolor": "#2a3f5f"
            },
            "type": "carpet"
           }
          ],
          "choropleth": [
           {
            "colorbar": {
             "outlinewidth": 0,
             "ticks": ""
            },
            "type": "choropleth"
           }
          ],
          "contour": [
           {
            "colorbar": {
             "outlinewidth": 0,
             "ticks": ""
            },
            "colorscale": [
             [
              0,
              "#0d0887"
             ],
             [
              0.1111111111111111,
              "#46039f"
             ],
             [
              0.2222222222222222,
              "#7201a8"
             ],
             [
              0.3333333333333333,
              "#9c179e"
             ],
             [
              0.4444444444444444,
              "#bd3786"
             ],
             [
              0.5555555555555556,
              "#d8576b"
             ],
             [
              0.6666666666666666,
              "#ed7953"
             ],
             [
              0.7777777777777778,
              "#fb9f3a"
             ],
             [
              0.8888888888888888,
              "#fdca26"
             ],
             [
              1,
              "#f0f921"
             ]
            ],
            "type": "contour"
           }
          ],
          "contourcarpet": [
           {
            "colorbar": {
             "outlinewidth": 0,
             "ticks": ""
            },
            "type": "contourcarpet"
           }
          ],
          "heatmap": [
           {
            "colorbar": {
             "outlinewidth": 0,
             "ticks": ""
            },
            "colorscale": [
             [
              0,
              "#0d0887"
             ],
             [
              0.1111111111111111,
              "#46039f"
             ],
             [
              0.2222222222222222,
              "#7201a8"
             ],
             [
              0.3333333333333333,
              "#9c179e"
             ],
             [
              0.4444444444444444,
              "#bd3786"
             ],
             [
              0.5555555555555556,
              "#d8576b"
             ],
             [
              0.6666666666666666,
              "#ed7953"
             ],
             [
              0.7777777777777778,
              "#fb9f3a"
             ],
             [
              0.8888888888888888,
              "#fdca26"
             ],
             [
              1,
              "#f0f921"
             ]
            ],
            "type": "heatmap"
           }
          ],
          "heatmapgl": [
           {
            "colorbar": {
             "outlinewidth": 0,
             "ticks": ""
            },
            "colorscale": [
             [
              0,
              "#0d0887"
             ],
             [
              0.1111111111111111,
              "#46039f"
             ],
             [
              0.2222222222222222,
              "#7201a8"
             ],
             [
              0.3333333333333333,
              "#9c179e"
             ],
             [
              0.4444444444444444,
              "#bd3786"
             ],
             [
              0.5555555555555556,
              "#d8576b"
             ],
             [
              0.6666666666666666,
              "#ed7953"
             ],
             [
              0.7777777777777778,
              "#fb9f3a"
             ],
             [
              0.8888888888888888,
              "#fdca26"
             ],
             [
              1,
              "#f0f921"
             ]
            ],
            "type": "heatmapgl"
           }
          ],
          "histogram": [
           {
            "marker": {
             "pattern": {
              "fillmode": "overlay",
              "size": 10,
              "solidity": 0.2
             }
            },
            "type": "histogram"
           }
          ],
          "histogram2d": [
           {
            "colorbar": {
             "outlinewidth": 0,
             "ticks": ""
            },
            "colorscale": [
             [
              0,
              "#0d0887"
             ],
             [
              0.1111111111111111,
              "#46039f"
             ],
             [
              0.2222222222222222,
              "#7201a8"
             ],
             [
              0.3333333333333333,
              "#9c179e"
             ],
             [
              0.4444444444444444,
              "#bd3786"
             ],
             [
              0.5555555555555556,
              "#d8576b"
             ],
             [
              0.6666666666666666,
              "#ed7953"
             ],
             [
              0.7777777777777778,
              "#fb9f3a"
             ],
             [
              0.8888888888888888,
              "#fdca26"
             ],
             [
              1,
              "#f0f921"
             ]
            ],
            "type": "histogram2d"
           }
          ],
          "histogram2dcontour": [
           {
            "colorbar": {
             "outlinewidth": 0,
             "ticks": ""
            },
            "colorscale": [
             [
              0,
              "#0d0887"
             ],
             [
              0.1111111111111111,
              "#46039f"
             ],
             [
              0.2222222222222222,
              "#7201a8"
             ],
             [
              0.3333333333333333,
              "#9c179e"
             ],
             [
              0.4444444444444444,
              "#bd3786"
             ],
             [
              0.5555555555555556,
              "#d8576b"
             ],
             [
              0.6666666666666666,
              "#ed7953"
             ],
             [
              0.7777777777777778,
              "#fb9f3a"
             ],
             [
              0.8888888888888888,
              "#fdca26"
             ],
             [
              1,
              "#f0f921"
             ]
            ],
            "type": "histogram2dcontour"
           }
          ],
          "mesh3d": [
           {
            "colorbar": {
             "outlinewidth": 0,
             "ticks": ""
            },
            "type": "mesh3d"
           }
          ],
          "parcoords": [
           {
            "line": {
             "colorbar": {
              "outlinewidth": 0,
              "ticks": ""
             }
            },
            "type": "parcoords"
           }
          ],
          "pie": [
           {
            "automargin": true,
            "type": "pie"
           }
          ],
          "scatter": [
           {
            "fillpattern": {
             "fillmode": "overlay",
             "size": 10,
             "solidity": 0.2
            },
            "type": "scatter"
           }
          ],
          "scatter3d": [
           {
            "line": {
             "colorbar": {
              "outlinewidth": 0,
              "ticks": ""
             }
            },
            "marker": {
             "colorbar": {
              "outlinewidth": 0,
              "ticks": ""
             }
            },
            "type": "scatter3d"
           }
          ],
          "scattercarpet": [
           {
            "marker": {
             "colorbar": {
              "outlinewidth": 0,
              "ticks": ""
             }
            },
            "type": "scattercarpet"
           }
          ],
          "scattergeo": [
           {
            "marker": {
             "colorbar": {
              "outlinewidth": 0,
              "ticks": ""
             }
            },
            "type": "scattergeo"
           }
          ],
          "scattergl": [
           {
            "marker": {
             "colorbar": {
              "outlinewidth": 0,
              "ticks": ""
             }
            },
            "type": "scattergl"
           }
          ],
          "scattermapbox": [
           {
            "marker": {
             "colorbar": {
              "outlinewidth": 0,
              "ticks": ""
             }
            },
            "type": "scattermapbox"
           }
          ],
          "scatterpolar": [
           {
            "marker": {
             "colorbar": {
              "outlinewidth": 0,
              "ticks": ""
             }
            },
            "type": "scatterpolar"
           }
          ],
          "scatterpolargl": [
           {
            "marker": {
             "colorbar": {
              "outlinewidth": 0,
              "ticks": ""
             }
            },
            "type": "scatterpolargl"
           }
          ],
          "scatterternary": [
           {
            "marker": {
             "colorbar": {
              "outlinewidth": 0,
              "ticks": ""
             }
            },
            "type": "scatterternary"
           }
          ],
          "surface": [
           {
            "colorbar": {
             "outlinewidth": 0,
             "ticks": ""
            },
            "colorscale": [
             [
              0,
              "#0d0887"
             ],
             [
              0.1111111111111111,
              "#46039f"
             ],
             [
              0.2222222222222222,
              "#7201a8"
             ],
             [
              0.3333333333333333,
              "#9c179e"
             ],
             [
              0.4444444444444444,
              "#bd3786"
             ],
             [
              0.5555555555555556,
              "#d8576b"
             ],
             [
              0.6666666666666666,
              "#ed7953"
             ],
             [
              0.7777777777777778,
              "#fb9f3a"
             ],
             [
              0.8888888888888888,
              "#fdca26"
             ],
             [
              1,
              "#f0f921"
             ]
            ],
            "type": "surface"
           }
          ],
          "table": [
           {
            "cells": {
             "fill": {
              "color": "#EBF0F8"
             },
             "line": {
              "color": "white"
             }
            },
            "header": {
             "fill": {
              "color": "#C8D4E3"
             },
             "line": {
              "color": "white"
             }
            },
            "type": "table"
           }
          ]
         },
         "layout": {
          "annotationdefaults": {
           "arrowcolor": "#2a3f5f",
           "arrowhead": 0,
           "arrowwidth": 1
          },
          "autotypenumbers": "strict",
          "coloraxis": {
           "colorbar": {
            "outlinewidth": 0,
            "ticks": ""
           }
          },
          "colorscale": {
           "diverging": [
            [
             0,
             "#8e0152"
            ],
            [
             0.1,
             "#c51b7d"
            ],
            [
             0.2,
             "#de77ae"
            ],
            [
             0.3,
             "#f1b6da"
            ],
            [
             0.4,
             "#fde0ef"
            ],
            [
             0.5,
             "#f7f7f7"
            ],
            [
             0.6,
             "#e6f5d0"
            ],
            [
             0.7,
             "#b8e186"
            ],
            [
             0.8,
             "#7fbc41"
            ],
            [
             0.9,
             "#4d9221"
            ],
            [
             1,
             "#276419"
            ]
           ],
           "sequential": [
            [
             0,
             "#0d0887"
            ],
            [
             0.1111111111111111,
             "#46039f"
            ],
            [
             0.2222222222222222,
             "#7201a8"
            ],
            [
             0.3333333333333333,
             "#9c179e"
            ],
            [
             0.4444444444444444,
             "#bd3786"
            ],
            [
             0.5555555555555556,
             "#d8576b"
            ],
            [
             0.6666666666666666,
             "#ed7953"
            ],
            [
             0.7777777777777778,
             "#fb9f3a"
            ],
            [
             0.8888888888888888,
             "#fdca26"
            ],
            [
             1,
             "#f0f921"
            ]
           ],
           "sequentialminus": [
            [
             0,
             "#0d0887"
            ],
            [
             0.1111111111111111,
             "#46039f"
            ],
            [
             0.2222222222222222,
             "#7201a8"
            ],
            [
             0.3333333333333333,
             "#9c179e"
            ],
            [
             0.4444444444444444,
             "#bd3786"
            ],
            [
             0.5555555555555556,
             "#d8576b"
            ],
            [
             0.6666666666666666,
             "#ed7953"
            ],
            [
             0.7777777777777778,
             "#fb9f3a"
            ],
            [
             0.8888888888888888,
             "#fdca26"
            ],
            [
             1,
             "#f0f921"
            ]
           ]
          },
          "colorway": [
           "#636efa",
           "#EF553B",
           "#00cc96",
           "#ab63fa",
           "#FFA15A",
           "#19d3f3",
           "#FF6692",
           "#B6E880",
           "#FF97FF",
           "#FECB52"
          ],
          "font": {
           "color": "#2a3f5f"
          },
          "geo": {
           "bgcolor": "white",
           "lakecolor": "white",
           "landcolor": "#E5ECF6",
           "showlakes": true,
           "showland": true,
           "subunitcolor": "white"
          },
          "hoverlabel": {
           "align": "left"
          },
          "hovermode": "closest",
          "mapbox": {
           "style": "light"
          },
          "paper_bgcolor": "white",
          "plot_bgcolor": "#E5ECF6",
          "polar": {
           "angularaxis": {
            "gridcolor": "white",
            "linecolor": "white",
            "ticks": ""
           },
           "bgcolor": "#E5ECF6",
           "radialaxis": {
            "gridcolor": "white",
            "linecolor": "white",
            "ticks": ""
           }
          },
          "scene": {
           "xaxis": {
            "backgroundcolor": "#E5ECF6",
            "gridcolor": "white",
            "gridwidth": 2,
            "linecolor": "white",
            "showbackground": true,
            "ticks": "",
            "zerolinecolor": "white"
           },
           "yaxis": {
            "backgroundcolor": "#E5ECF6",
            "gridcolor": "white",
            "gridwidth": 2,
            "linecolor": "white",
            "showbackground": true,
            "ticks": "",
            "zerolinecolor": "white"
           },
           "zaxis": {
            "backgroundcolor": "#E5ECF6",
            "gridcolor": "white",
            "gridwidth": 2,
            "linecolor": "white",
            "showbackground": true,
            "ticks": "",
            "zerolinecolor": "white"
           }
          },
          "shapedefaults": {
           "line": {
            "color": "#2a3f5f"
           }
          },
          "ternary": {
           "aaxis": {
            "gridcolor": "white",
            "linecolor": "white",
            "ticks": ""
           },
           "baxis": {
            "gridcolor": "white",
            "linecolor": "white",
            "ticks": ""
           },
           "bgcolor": "#E5ECF6",
           "caxis": {
            "gridcolor": "white",
            "linecolor": "white",
            "ticks": ""
           }
          },
          "title": {
           "x": 0.05
          },
          "xaxis": {
           "automargin": true,
           "gridcolor": "white",
           "linecolor": "white",
           "ticks": "",
           "title": {
            "standoff": 15
           },
           "zerolinecolor": "white",
           "zerolinewidth": 2
          },
          "yaxis": {
           "automargin": true,
           "gridcolor": "white",
           "linecolor": "white",
           "ticks": "",
           "title": {
            "standoff": 15
           },
           "zerolinecolor": "white",
           "zerolinewidth": 2
          }
         }
        },
        "title": {
         "text": "Kandidater for Bornholm"
        },
        "xaxis": {
         "range": [
          -1,
          18
         ],
         "tickmode": "array",
         "ticktext": [
          "Lærke Lina Skovbjerg (G.)",
          "Stig Westermann (Ø.)",
          "Bo Haxthausen (F.)",
          "João A. B. R. Møller  (B.)",
          "Klaus Hermansen (Ø.)",
          "Ronald Kofoed-Rasmussen  (A.)",
          "Leif Olsen (F.)",
          "Morten Riis (Ø.)",
          "Runa Jensen  (Ø.)",
          "Hartvig Mumm (K.)",
          "Nikolaj Fjellerad (F.)",
          "Søren Schow (V.)",
          "Bjarne Hartung Kirkegaard (K.)",
          "Niels Chresten Andersen (K.)",
          "Hans Ole Bech (K.)",
          "Jacob Trøst (C.)",
          "Jannie Sauer (V.)",
          "Carsten Hæstrup  (V.)"
         ],
         "tickvals": [
          0,
          1,
          2,
          3,
          4,
          5,
          6,
          7,
          8,
          9,
          10,
          11,
          12,
          13,
          14,
          15,
          16,
          17
         ]
        }
       }
      },
      "text/html": [
       "<div>                            <div id=\"661149a1-3a41-47ad-9344-a98e555b7106\" class=\"plotly-graph-div\" style=\"height:525px; width:100%;\"></div>            <script type=\"text/javascript\">                require([\"plotly\"], function(Plotly) {                    window.PLOTLYENV=window.PLOTLYENV || {};                                    if (document.getElementById(\"661149a1-3a41-47ad-9344-a98e555b7106\")) {                    Plotly.newPlot(                        \"661149a1-3a41-47ad-9344-a98e555b7106\",                        [{\"hovertext\":[\"G. Veganerpartiet\",\"G. Veganerpartiet\"],\"line\":{\"color\":\"rgb(5,122,87)\"},\"marker\":{\"color\":\"rgb(5,122,87)\",\"size\":[0,10,0,10,0,10,0,10,0,10,0,10,0,10,0,10,0,10,0,10,0,10,0,10,0,10,0,10,0,10,0,10,0,10,0,10]},\"showlegend\":false,\"x\":[0,0],\"y\":[0,32],\"type\":\"scatter\"},{\"hovertext\":[\"\\u00d8. Enhedslisten\",\"\\u00d8. Enhedslisten\"],\"line\":{\"color\":\"rgb(5,122,87)\"},\"marker\":{\"color\":\"rgb(5,122,87)\",\"size\":[0,10,0,10,0,10,0,10,0,10,0,10,0,10,0,10,0,10,0,10,0,10,0,10,0,10,0,10,0,10,0,10,0,10,0,10]},\"showlegend\":false,\"x\":[1,1],\"y\":[0,29],\"type\":\"scatter\"},{\"hovertext\":[\"F. Socialistisk Folkeparti\",\"F. Socialistisk Folkeparti\"],\"line\":{\"color\":\"rgb(5,122,87)\"},\"marker\":{\"color\":\"rgb(5,122,87)\",\"size\":[0,10,0,10,0,10,0,10,0,10,0,10,0,10,0,10,0,10,0,10,0,10,0,10,0,10,0,10,0,10,0,10,0,10,0,10]},\"showlegend\":false,\"x\":[2,2],\"y\":[0,28],\"type\":\"scatter\"},{\"hovertext\":[\"B. Det Radikale Venstre\",\"B. Det Radikale Venstre\"],\"line\":{\"color\":\"rgb(5,122,87)\"},\"marker\":{\"color\":\"rgb(5,122,87)\",\"size\":[0,10,0,10,0,10,0,10,0,10,0,10,0,10,0,10,0,10,0,10,0,10,0,10,0,10,0,10,0,10,0,10,0,10,0,10]},\"showlegend\":false,\"x\":[3,3],\"y\":[0,27],\"type\":\"scatter\"},{\"hovertext\":[\"\\u00d8. Enhedslisten\",\"\\u00d8. Enhedslisten\"],\"line\":{\"color\":\"rgb(5,122,87)\"},\"marker\":{\"color\":\"rgb(5,122,87)\",\"size\":[0,10,0,10,0,10,0,10,0,10,0,10,0,10,0,10,0,10,0,10,0,10,0,10,0,10,0,10,0,10,0,10,0,10,0,10]},\"showlegend\":false,\"x\":[4,4],\"y\":[0,23],\"type\":\"scatter\"},{\"hovertext\":[\"A. Socialdemokratiet\",\"A. Socialdemokratiet\"],\"line\":{\"color\":\"rgb(5,122,87)\"},\"marker\":{\"color\":\"rgb(5,122,87)\",\"size\":[0,10,0,10,0,10,0,10,0,10,0,10,0,10,0,10,0,10,0,10,0,10,0,10,0,10,0,10,0,10,0,10,0,10,0,10]},\"showlegend\":false,\"x\":[5,5],\"y\":[0,18],\"type\":\"scatter\"},{\"hovertext\":[\"F. Socialistisk Folkeparti\",\"F. Socialistisk Folkeparti\"],\"line\":{\"color\":\"rgb(5,122,87)\"},\"marker\":{\"color\":\"rgb(5,122,87)\",\"size\":[0,10,0,10,0,10,0,10,0,10,0,10,0,10,0,10,0,10,0,10,0,10,0,10,0,10,0,10,0,10,0,10,0,10,0,10]},\"showlegend\":false,\"x\":[6,6],\"y\":[0,17],\"type\":\"scatter\"},{\"hovertext\":[\"\\u00d8. Enhedslisten\",\"\\u00d8. Enhedslisten\"],\"line\":{\"color\":\"rgb(5,122,87)\"},\"marker\":{\"color\":\"rgb(5,122,87)\",\"size\":[0,10,0,10,0,10,0,10,0,10,0,10,0,10,0,10,0,10,0,10,0,10,0,10,0,10,0,10,0,10,0,10,0,10,0,10]},\"showlegend\":false,\"x\":[7,7],\"y\":[0,16],\"type\":\"scatter\"},{\"hovertext\":[\"\\u00d8. Enhedslisten\",\"\\u00d8. Enhedslisten\"],\"line\":{\"color\":\"rgb(5,122,87)\"},\"marker\":{\"color\":\"rgb(5,122,87)\",\"size\":[0,10,0,10,0,10,0,10,0,10,0,10,0,10,0,10,0,10,0,10,0,10,0,10,0,10,0,10,0,10,0,10,0,10,0,10]},\"showlegend\":false,\"x\":[8,8],\"y\":[0,15],\"type\":\"scatter\"},{\"hovertext\":[\"K. Kristendemokraterne\",\"K. Kristendemokraterne\"],\"line\":{\"color\":\"rgb(5,122,87)\"},\"marker\":{\"color\":\"rgb(5,122,87)\",\"size\":[0,10,0,10,0,10,0,10,0,10,0,10,0,10,0,10,0,10,0,10,0,10,0,10,0,10,0,10,0,10,0,10,0,10,0,10]},\"showlegend\":false,\"x\":[9,9],\"y\":[0,12],\"type\":\"scatter\"},{\"hovertext\":[\"F. Socialistisk Folkeparti\",\"F. Socialistisk Folkeparti\"],\"line\":{\"color\":\"rgb(5,122,87)\"},\"marker\":{\"color\":\"rgb(5,122,87)\",\"size\":[0,10,0,10,0,10,0,10,0,10,0,10,0,10,0,10,0,10,0,10,0,10,0,10,0,10,0,10,0,10,0,10,0,10,0,10]},\"showlegend\":false,\"x\":[10,10],\"y\":[0,12],\"type\":\"scatter\"},{\"hovertext\":[\"V. Venstre\",\"V. Venstre\"],\"line\":{\"color\":\"rgb(5,122,87)\"},\"marker\":{\"color\":\"rgb(5,122,87)\",\"size\":[0,10,0,10,0,10,0,10,0,10,0,10,0,10,0,10,0,10,0,10,0,10,0,10,0,10,0,10,0,10,0,10,0,10,0,10]},\"showlegend\":false,\"x\":[11,11],\"y\":[0,12],\"type\":\"scatter\"},{\"hovertext\":[\"K. Kristendemokraterne\",\"K. Kristendemokraterne\"],\"line\":{\"color\":\"rgb(5,122,87)\"},\"marker\":{\"color\":\"rgb(5,122,87)\",\"size\":[0,10,0,10,0,10,0,10,0,10,0,10,0,10,0,10,0,10,0,10,0,10,0,10,0,10,0,10,0,10,0,10,0,10,0,10]},\"showlegend\":false,\"x\":[12,12],\"y\":[0,11],\"type\":\"scatter\"},{\"hovertext\":[\"K. Kristendemokraterne\",\"K. Kristendemokraterne\"],\"line\":{\"color\":\"rgb(5,122,87)\"},\"marker\":{\"color\":\"rgb(5,122,87)\",\"size\":[0,10,0,10,0,10,0,10,0,10,0,10,0,10,0,10,0,10,0,10,0,10,0,10,0,10,0,10,0,10,0,10,0,10,0,10]},\"showlegend\":false,\"x\":[13,13],\"y\":[0,8],\"type\":\"scatter\"},{\"hovertext\":[\"K. Kristendemokraterne\",\"K. Kristendemokraterne\"],\"line\":{\"color\":\"rgb(5,122,87)\"},\"marker\":{\"color\":\"rgb(5,122,87)\",\"size\":[0,10,0,10,0,10,0,10,0,10,0,10,0,10,0,10,0,10,0,10,0,10,0,10,0,10,0,10,0,10,0,10,0,10,0,10]},\"showlegend\":false,\"x\":[14,14],\"y\":[0,6],\"type\":\"scatter\"},{\"hovertext\":[\"C. Det Konservative Folkeparti\",\"C. Det Konservative Folkeparti\"],\"line\":{\"color\":\"rgb(5,122,87)\"},\"marker\":{\"color\":\"rgb(5,122,87)\",\"size\":[0,10,0,10,0,10,0,10,0,10,0,10,0,10,0,10,0,10,0,10,0,10,0,10,0,10,0,10,0,10,0,10,0,10,0,10]},\"showlegend\":false,\"x\":[15,15],\"y\":[0,3],\"type\":\"scatter\"},{\"hovertext\":[\"V. Venstre\",\"V. Venstre\"],\"line\":{\"color\":\"rgb(5,122,87)\"},\"marker\":{\"color\":\"rgb(5,122,87)\",\"size\":[0,10,0,10,0,10,0,10,0,10,0,10,0,10,0,10,0,10,0,10,0,10,0,10,0,10,0,10,0,10,0,10,0,10,0,10]},\"showlegend\":false,\"x\":[16,16],\"y\":[0,3],\"type\":\"scatter\"},{\"hovertext\":[\"V. Venstre\",\"V. Venstre\"],\"line\":{\"color\":\"rgb(5,122,87)\"},\"marker\":{\"color\":\"rgb(5,122,87)\",\"size\":[0,10,0,10,0,10,0,10,0,10,0,10,0,10,0,10,0,10,0,10,0,10,0,10,0,10,0,10,0,10,0,10,0,10,0,10]},\"showlegend\":false,\"x\":[17,17],\"y\":[0,1],\"type\":\"scatter\"}],                        {\"template\":{\"data\":{\"histogram2dcontour\":[{\"type\":\"histogram2dcontour\",\"colorbar\":{\"outlinewidth\":0,\"ticks\":\"\"},\"colorscale\":[[0.0,\"#0d0887\"],[0.1111111111111111,\"#46039f\"],[0.2222222222222222,\"#7201a8\"],[0.3333333333333333,\"#9c179e\"],[0.4444444444444444,\"#bd3786\"],[0.5555555555555556,\"#d8576b\"],[0.6666666666666666,\"#ed7953\"],[0.7777777777777778,\"#fb9f3a\"],[0.8888888888888888,\"#fdca26\"],[1.0,\"#f0f921\"]]}],\"choropleth\":[{\"type\":\"choropleth\",\"colorbar\":{\"outlinewidth\":0,\"ticks\":\"\"}}],\"histogram2d\":[{\"type\":\"histogram2d\",\"colorbar\":{\"outlinewidth\":0,\"ticks\":\"\"},\"colorscale\":[[0.0,\"#0d0887\"],[0.1111111111111111,\"#46039f\"],[0.2222222222222222,\"#7201a8\"],[0.3333333333333333,\"#9c179e\"],[0.4444444444444444,\"#bd3786\"],[0.5555555555555556,\"#d8576b\"],[0.6666666666666666,\"#ed7953\"],[0.7777777777777778,\"#fb9f3a\"],[0.8888888888888888,\"#fdca26\"],[1.0,\"#f0f921\"]]}],\"heatmap\":[{\"type\":\"heatmap\",\"colorbar\":{\"outlinewidth\":0,\"ticks\":\"\"},\"colorscale\":[[0.0,\"#0d0887\"],[0.1111111111111111,\"#46039f\"],[0.2222222222222222,\"#7201a8\"],[0.3333333333333333,\"#9c179e\"],[0.4444444444444444,\"#bd3786\"],[0.5555555555555556,\"#d8576b\"],[0.6666666666666666,\"#ed7953\"],[0.7777777777777778,\"#fb9f3a\"],[0.8888888888888888,\"#fdca26\"],[1.0,\"#f0f921\"]]}],\"heatmapgl\":[{\"type\":\"heatmapgl\",\"colorbar\":{\"outlinewidth\":0,\"ticks\":\"\"},\"colorscale\":[[0.0,\"#0d0887\"],[0.1111111111111111,\"#46039f\"],[0.2222222222222222,\"#7201a8\"],[0.3333333333333333,\"#9c179e\"],[0.4444444444444444,\"#bd3786\"],[0.5555555555555556,\"#d8576b\"],[0.6666666666666666,\"#ed7953\"],[0.7777777777777778,\"#fb9f3a\"],[0.8888888888888888,\"#fdca26\"],[1.0,\"#f0f921\"]]}],\"contourcarpet\":[{\"type\":\"contourcarpet\",\"colorbar\":{\"outlinewidth\":0,\"ticks\":\"\"}}],\"contour\":[{\"type\":\"contour\",\"colorbar\":{\"outlinewidth\":0,\"ticks\":\"\"},\"colorscale\":[[0.0,\"#0d0887\"],[0.1111111111111111,\"#46039f\"],[0.2222222222222222,\"#7201a8\"],[0.3333333333333333,\"#9c179e\"],[0.4444444444444444,\"#bd3786\"],[0.5555555555555556,\"#d8576b\"],[0.6666666666666666,\"#ed7953\"],[0.7777777777777778,\"#fb9f3a\"],[0.8888888888888888,\"#fdca26\"],[1.0,\"#f0f921\"]]}],\"surface\":[{\"type\":\"surface\",\"colorbar\":{\"outlinewidth\":0,\"ticks\":\"\"},\"colorscale\":[[0.0,\"#0d0887\"],[0.1111111111111111,\"#46039f\"],[0.2222222222222222,\"#7201a8\"],[0.3333333333333333,\"#9c179e\"],[0.4444444444444444,\"#bd3786\"],[0.5555555555555556,\"#d8576b\"],[0.6666666666666666,\"#ed7953\"],[0.7777777777777778,\"#fb9f3a\"],[0.8888888888888888,\"#fdca26\"],[1.0,\"#f0f921\"]]}],\"mesh3d\":[{\"type\":\"mesh3d\",\"colorbar\":{\"outlinewidth\":0,\"ticks\":\"\"}}],\"scatter\":[{\"fillpattern\":{\"fillmode\":\"overlay\",\"size\":10,\"solidity\":0.2},\"type\":\"scatter\"}],\"parcoords\":[{\"type\":\"parcoords\",\"line\":{\"colorbar\":{\"outlinewidth\":0,\"ticks\":\"\"}}}],\"scatterpolargl\":[{\"type\":\"scatterpolargl\",\"marker\":{\"colorbar\":{\"outlinewidth\":0,\"ticks\":\"\"}}}],\"bar\":[{\"error_x\":{\"color\":\"#2a3f5f\"},\"error_y\":{\"color\":\"#2a3f5f\"},\"marker\":{\"line\":{\"color\":\"#E5ECF6\",\"width\":0.5},\"pattern\":{\"fillmode\":\"overlay\",\"size\":10,\"solidity\":0.2}},\"type\":\"bar\"}],\"scattergeo\":[{\"type\":\"scattergeo\",\"marker\":{\"colorbar\":{\"outlinewidth\":0,\"ticks\":\"\"}}}],\"scatterpolar\":[{\"type\":\"scatterpolar\",\"marker\":{\"colorbar\":{\"outlinewidth\":0,\"ticks\":\"\"}}}],\"histogram\":[{\"marker\":{\"pattern\":{\"fillmode\":\"overlay\",\"size\":10,\"solidity\":0.2}},\"type\":\"histogram\"}],\"scattergl\":[{\"type\":\"scattergl\",\"marker\":{\"colorbar\":{\"outlinewidth\":0,\"ticks\":\"\"}}}],\"scatter3d\":[{\"type\":\"scatter3d\",\"line\":{\"colorbar\":{\"outlinewidth\":0,\"ticks\":\"\"}},\"marker\":{\"colorbar\":{\"outlinewidth\":0,\"ticks\":\"\"}}}],\"scattermapbox\":[{\"type\":\"scattermapbox\",\"marker\":{\"colorbar\":{\"outlinewidth\":0,\"ticks\":\"\"}}}],\"scatterternary\":[{\"type\":\"scatterternary\",\"marker\":{\"colorbar\":{\"outlinewidth\":0,\"ticks\":\"\"}}}],\"scattercarpet\":[{\"type\":\"scattercarpet\",\"marker\":{\"colorbar\":{\"outlinewidth\":0,\"ticks\":\"\"}}}],\"carpet\":[{\"aaxis\":{\"endlinecolor\":\"#2a3f5f\",\"gridcolor\":\"white\",\"linecolor\":\"white\",\"minorgridcolor\":\"white\",\"startlinecolor\":\"#2a3f5f\"},\"baxis\":{\"endlinecolor\":\"#2a3f5f\",\"gridcolor\":\"white\",\"linecolor\":\"white\",\"minorgridcolor\":\"white\",\"startlinecolor\":\"#2a3f5f\"},\"type\":\"carpet\"}],\"table\":[{\"cells\":{\"fill\":{\"color\":\"#EBF0F8\"},\"line\":{\"color\":\"white\"}},\"header\":{\"fill\":{\"color\":\"#C8D4E3\"},\"line\":{\"color\":\"white\"}},\"type\":\"table\"}],\"barpolar\":[{\"marker\":{\"line\":{\"color\":\"#E5ECF6\",\"width\":0.5},\"pattern\":{\"fillmode\":\"overlay\",\"size\":10,\"solidity\":0.2}},\"type\":\"barpolar\"}],\"pie\":[{\"automargin\":true,\"type\":\"pie\"}]},\"layout\":{\"autotypenumbers\":\"strict\",\"colorway\":[\"#636efa\",\"#EF553B\",\"#00cc96\",\"#ab63fa\",\"#FFA15A\",\"#19d3f3\",\"#FF6692\",\"#B6E880\",\"#FF97FF\",\"#FECB52\"],\"font\":{\"color\":\"#2a3f5f\"},\"hovermode\":\"closest\",\"hoverlabel\":{\"align\":\"left\"},\"paper_bgcolor\":\"white\",\"plot_bgcolor\":\"#E5ECF6\",\"polar\":{\"bgcolor\":\"#E5ECF6\",\"angularaxis\":{\"gridcolor\":\"white\",\"linecolor\":\"white\",\"ticks\":\"\"},\"radialaxis\":{\"gridcolor\":\"white\",\"linecolor\":\"white\",\"ticks\":\"\"}},\"ternary\":{\"bgcolor\":\"#E5ECF6\",\"aaxis\":{\"gridcolor\":\"white\",\"linecolor\":\"white\",\"ticks\":\"\"},\"baxis\":{\"gridcolor\":\"white\",\"linecolor\":\"white\",\"ticks\":\"\"},\"caxis\":{\"gridcolor\":\"white\",\"linecolor\":\"white\",\"ticks\":\"\"}},\"coloraxis\":{\"colorbar\":{\"outlinewidth\":0,\"ticks\":\"\"}},\"colorscale\":{\"sequential\":[[0.0,\"#0d0887\"],[0.1111111111111111,\"#46039f\"],[0.2222222222222222,\"#7201a8\"],[0.3333333333333333,\"#9c179e\"],[0.4444444444444444,\"#bd3786\"],[0.5555555555555556,\"#d8576b\"],[0.6666666666666666,\"#ed7953\"],[0.7777777777777778,\"#fb9f3a\"],[0.8888888888888888,\"#fdca26\"],[1.0,\"#f0f921\"]],\"sequentialminus\":[[0.0,\"#0d0887\"],[0.1111111111111111,\"#46039f\"],[0.2222222222222222,\"#7201a8\"],[0.3333333333333333,\"#9c179e\"],[0.4444444444444444,\"#bd3786\"],[0.5555555555555556,\"#d8576b\"],[0.6666666666666666,\"#ed7953\"],[0.7777777777777778,\"#fb9f3a\"],[0.8888888888888888,\"#fdca26\"],[1.0,\"#f0f921\"]],\"diverging\":[[0,\"#8e0152\"],[0.1,\"#c51b7d\"],[0.2,\"#de77ae\"],[0.3,\"#f1b6da\"],[0.4,\"#fde0ef\"],[0.5,\"#f7f7f7\"],[0.6,\"#e6f5d0\"],[0.7,\"#b8e186\"],[0.8,\"#7fbc41\"],[0.9,\"#4d9221\"],[1,\"#276419\"]]},\"xaxis\":{\"gridcolor\":\"white\",\"linecolor\":\"white\",\"ticks\":\"\",\"title\":{\"standoff\":15},\"zerolinecolor\":\"white\",\"automargin\":true,\"zerolinewidth\":2},\"yaxis\":{\"gridcolor\":\"white\",\"linecolor\":\"white\",\"ticks\":\"\",\"title\":{\"standoff\":15},\"zerolinecolor\":\"white\",\"automargin\":true,\"zerolinewidth\":2},\"scene\":{\"xaxis\":{\"backgroundcolor\":\"#E5ECF6\",\"gridcolor\":\"white\",\"linecolor\":\"white\",\"showbackground\":true,\"ticks\":\"\",\"zerolinecolor\":\"white\",\"gridwidth\":2},\"yaxis\":{\"backgroundcolor\":\"#E5ECF6\",\"gridcolor\":\"white\",\"linecolor\":\"white\",\"showbackground\":true,\"ticks\":\"\",\"zerolinecolor\":\"white\",\"gridwidth\":2},\"zaxis\":{\"backgroundcolor\":\"#E5ECF6\",\"gridcolor\":\"white\",\"linecolor\":\"white\",\"showbackground\":true,\"ticks\":\"\",\"zerolinecolor\":\"white\",\"gridwidth\":2}},\"shapedefaults\":{\"line\":{\"color\":\"#2a3f5f\"}},\"annotationdefaults\":{\"arrowcolor\":\"#2a3f5f\",\"arrowhead\":0,\"arrowwidth\":1},\"geo\":{\"bgcolor\":\"white\",\"landcolor\":\"#E5ECF6\",\"subunitcolor\":\"white\",\"showland\":true,\"showlakes\":true,\"lakecolor\":\"white\"},\"title\":{\"x\":0.05},\"mapbox\":{\"style\":\"light\"}}},\"shapes\":[{\"line\":{\"color\":\"rgb(5,122,87)\",\"dash\":\"dash\",\"width\":0.5},\"type\":\"line\",\"x0\":0,\"x1\":1,\"xref\":\"x domain\",\"y0\":15.166666666666666,\"y1\":15.166666666666666,\"yref\":\"y\"}],\"annotations\":[{\"showarrow\":false,\"text\":\"Kommune gennemsnit\",\"x\":1,\"xanchor\":\"right\",\"xref\":\"x domain\",\"y\":15.166666666666666,\"yanchor\":\"top\",\"yref\":\"y\"}],\"xaxis\":{\"tickmode\":\"array\",\"tickvals\":[0,1,2,3,4,5,6,7,8,9,10,11,12,13,14,15,16,17],\"ticktext\":[\"L\\u00e6rke Lina Skovbjerg (G.)\",\"Stig Westermann (\\u00d8.)\",\"Bo Haxthausen (F.)\",\"Jo\\u00e3o A. B. R. M\\u00f8ller  (B.)\",\"Klaus Hermansen (\\u00d8.)\",\"Ronald Kofoed-Rasmussen  (A.)\",\"Leif Olsen (F.)\",\"Morten Riis (\\u00d8.)\",\"Runa Jensen  (\\u00d8.)\",\"Hartvig Mumm (K.)\",\"Nikolaj Fjellerad (F.)\",\"S\\u00f8ren Schow (V.)\",\"Bjarne Hartung Kirkegaard (K.)\",\"Niels Chresten Andersen (K.)\",\"Hans Ole Bech (K.)\",\"Jacob Tr\\u00f8st (C.)\",\"Jannie Sauer (V.)\",\"Carsten H\\u00e6strup  (V.)\"],\"range\":[-1,18]},\"title\":{\"text\":\"Kandidater for Bornholm\"}},                        {\"responsive\": true}                    ).then(function(){\n",
       "                            \n",
       "var gd = document.getElementById('661149a1-3a41-47ad-9344-a98e555b7106');\n",
       "var x = new MutationObserver(function (mutations, observer) {{\n",
       "        var display = window.getComputedStyle(gd).display;\n",
       "        if (!display || display === 'none') {{\n",
       "            console.log([gd, 'removed!']);\n",
       "            Plotly.purge(gd);\n",
       "            observer.disconnect();\n",
       "        }}\n",
       "}});\n",
       "\n",
       "// Listen for the removal of the full notebook cells\n",
       "var notebookContainer = gd.closest('#notebook-container');\n",
       "if (notebookContainer) {{\n",
       "    x.observe(notebookContainer, {childList: true});\n",
       "}}\n",
       "\n",
       "// Listen for the clearing of the current output cell\n",
       "var outputEl = gd.closest('.output');\n",
       "if (outputEl) {{\n",
       "    x.observe(outputEl, {childList: true});\n",
       "}}\n",
       "\n",
       "                        })                };                });            </script>        </div>"
      ]
     },
     "metadata": {},
     "output_type": "display_data"
    }
   ],
   "source": [
    "fig = go.Figure()\n",
    "\n",
    "df_temp = df_nameIndex[df_nameIndex[\"Kommune\"]==kommune].sort_values(\"Score\", ascending = False)\n",
    "\n",
    "tickvals_ = list(range(len(df_temp)))\n",
    "\n",
    "ticktext_ = list(df_temp.index)\n",
    "\n",
    "\n",
    "veggieGreen = 'rgb(5,122,87)' # Dark-green for the vegetarian color option !!! Change for real color\n",
    "markerSize = Marker_size(len(df_temp))\n",
    "\n",
    "\n",
    "for i, mean in enumerate(df_temp[\"Score\"]):\n",
    "    candidate = df_temp.index[i]\n",
    "    fig.add_trace(go.Scatter(x=[i,i],y=[0,mean],\n",
    "                             marker={\"color\":veggieGreen,\"size\":markerSize},\n",
    "                             line=go.scatter.Line(color=veggieGreen),\n",
    "                             hovertext=[df_temp.loc[candidate][\"Parti\"],df_temp.loc[candidate][\"Parti\"]],\n",
    "                             showlegend=False))\n",
    "    \n",
    "fig.add_hline(y=df_temp[\"Score\"].mean(), \n",
    "              line_width=0.5, \n",
    "              line_dash=\"dash\", \n",
    "              line_color=veggieGreen,\n",
    "              annotation_text=\"Kommune gennemsnit\", \n",
    "              annotation_position=\"bottom right\")\n",
    "\n",
    "fig.update_layout(\n",
    "    xaxis = dict(\n",
    "        tickmode = \"array\",\n",
    "        tickvals = tickvals_,\n",
    "        ticktext = ticktext_),\n",
    "    xaxis_range=[-1,len(df_temp)],\n",
    "    title = {\"text\":f\"Kandidater for {kommune}\"}\n",
    "    )\n",
    "\n",
    "    \n",
    "fig.show()"
   ]
  },
  {
   "cell_type": "markdown",
   "id": "e5f57e38",
   "metadata": {},
   "source": [
    "# Pie-chart"
   ]
  },
  {
   "cell_type": "code",
   "execution_count": 85,
   "id": "294aeb35",
   "metadata": {},
   "outputs": [],
   "source": [
    "# df_temp =  df_nameIndex[df_nameIndex[\"Kommune\"]==df_nameIndex[\"Kommune\"][10]]\n",
    "# answer_labels = {2:\"Enig\", 1:\"Delvist Enig\",0: \"Uenig\"}\n",
    "# df_temp[\"question_labels\"] = [answer_labels[x] for x in df_temp[df_temp.columns[5]]]\n",
    "\n",
    "\n",
    "df_pie = df_temp.groupby(df_temp.columns[5]).count()\n",
    "df_pie2 = df_temp.groupby(df_temp.columns[6]).count()\n",
    "\n",
    "\n",
    "# labels = [\"Enig\", \"Delvist Enig\", \"Uenig\"]\n",
    "# df_pie.reindex(labels)[\"Score\"]"
   ]
  },
  {
   "cell_type": "code",
   "execution_count": 86,
<<<<<<< HEAD
<<<<<<< Updated upstream
   "id": "4d40eb0c",
=======
   "id": "fd0edd48",
>>>>>>> Stashed changes
=======
   "id": "53ca374b",
>>>>>>> parent of 8de6f7d (Update Experimenting with graphs.ipynb)
   "metadata": {},
   "outputs": [
    {
     "data": {
      "text/plain": [
       "Candidate\n",
       "Lærke Lina Skovbjerg (G.)         2.0\n",
       "Stig Westermann (Ø.)              2.0\n",
       "Bo Haxthausen (F.)                2.0\n",
       "João A. B. R. Møller  (B.)        2.0\n",
       "Klaus Hermansen (Ø.)              2.0\n",
       "Ronald Kofoed-Rasmussen  (A.)     2.0\n",
       "Leif Olsen (F.)                   2.0\n",
       "Morten Riis (Ø.)                  2.0\n",
       "Runa Jensen  (Ø.)                 1.0\n",
       "Hartvig Mumm (K.)                 1.0\n",
       "Nikolaj Fjellerad (F.)            2.0\n",
       "Søren Schow (V.)                  2.0\n",
       "Bjarne Hartung Kirkegaard (K.)    1.0\n",
       "Niels Chresten Andersen (K.)      1.0\n",
       "Hans Ole Bech (K.)                1.0\n",
       "Jacob Trøst (C.)                  1.0\n",
       "Jannie Sauer (V.)                 0.0\n",
       "Carsten Hæstrup  (V.)             0.0\n",
       "Name: 1. \"Kommunen skal prioritere, at skolerne får flere midler til indkøb af klimavenlige og bæredygtige råvarer til madkundskab\", dtype: float64"
      ]
     },
     "execution_count": 86,
     "metadata": {},
     "output_type": "execute_result"
    }
   ],
   "source": [
    "df_temp[question]"
   ]
  },
  {
   "cell_type": "code",
   "execution_count": 87,
   "id": "85428dfa",
   "metadata": {},
   "outputs": [
    {
     "data": {
      "application/vnd.plotly.v1+json": {
       "config": {
        "plotlyServerURL": "https://plot.ly"
       },
       "data": [
        {
         "hole": 0.6,
         "labels": [
          "Enig",
          "Delvist Enig",
          "Uenig"
         ],
         "marker": {
          "colors": [
           "rgb(15,122,55)",
           "rgb(169,220,163)",
           "rgb(218,241,212)"
          ]
         },
         "type": "pie",
         "values": [
          2,
          6,
          10
         ]
        }
       ],
       "layout": {
        "template": {
         "data": {
          "bar": [
           {
            "error_x": {
             "color": "#2a3f5f"
            },
            "error_y": {
             "color": "#2a3f5f"
            },
            "marker": {
             "line": {
              "color": "#E5ECF6",
              "width": 0.5
             },
             "pattern": {
              "fillmode": "overlay",
              "size": 10,
              "solidity": 0.2
             }
            },
            "type": "bar"
           }
          ],
          "barpolar": [
           {
            "marker": {
             "line": {
              "color": "#E5ECF6",
              "width": 0.5
             },
             "pattern": {
              "fillmode": "overlay",
              "size": 10,
              "solidity": 0.2
             }
            },
            "type": "barpolar"
           }
          ],
          "carpet": [
           {
            "aaxis": {
             "endlinecolor": "#2a3f5f",
             "gridcolor": "white",
             "linecolor": "white",
             "minorgridcolor": "white",
             "startlinecolor": "#2a3f5f"
            },
            "baxis": {
             "endlinecolor": "#2a3f5f",
             "gridcolor": "white",
             "linecolor": "white",
             "minorgridcolor": "white",
             "startlinecolor": "#2a3f5f"
            },
            "type": "carpet"
           }
          ],
          "choropleth": [
           {
            "colorbar": {
             "outlinewidth": 0,
             "ticks": ""
            },
            "type": "choropleth"
           }
          ],
          "contour": [
           {
            "colorbar": {
             "outlinewidth": 0,
             "ticks": ""
            },
            "colorscale": [
             [
              0,
              "#0d0887"
             ],
             [
              0.1111111111111111,
              "#46039f"
             ],
             [
              0.2222222222222222,
              "#7201a8"
             ],
             [
              0.3333333333333333,
              "#9c179e"
             ],
             [
              0.4444444444444444,
              "#bd3786"
             ],
             [
              0.5555555555555556,
              "#d8576b"
             ],
             [
              0.6666666666666666,
              "#ed7953"
             ],
             [
              0.7777777777777778,
              "#fb9f3a"
             ],
             [
              0.8888888888888888,
              "#fdca26"
             ],
             [
              1,
              "#f0f921"
             ]
            ],
            "type": "contour"
           }
          ],
          "contourcarpet": [
           {
            "colorbar": {
             "outlinewidth": 0,
             "ticks": ""
            },
            "type": "contourcarpet"
           }
          ],
          "heatmap": [
           {
            "colorbar": {
             "outlinewidth": 0,
             "ticks": ""
            },
            "colorscale": [
             [
              0,
              "#0d0887"
             ],
             [
              0.1111111111111111,
              "#46039f"
             ],
             [
              0.2222222222222222,
              "#7201a8"
             ],
             [
              0.3333333333333333,
              "#9c179e"
             ],
             [
              0.4444444444444444,
              "#bd3786"
             ],
             [
              0.5555555555555556,
              "#d8576b"
             ],
             [
              0.6666666666666666,
              "#ed7953"
             ],
             [
              0.7777777777777778,
              "#fb9f3a"
             ],
             [
              0.8888888888888888,
              "#fdca26"
             ],
             [
              1,
              "#f0f921"
             ]
            ],
            "type": "heatmap"
           }
          ],
          "heatmapgl": [
           {
            "colorbar": {
             "outlinewidth": 0,
             "ticks": ""
            },
            "colorscale": [
             [
              0,
              "#0d0887"
             ],
             [
              0.1111111111111111,
              "#46039f"
             ],
             [
              0.2222222222222222,
              "#7201a8"
             ],
             [
              0.3333333333333333,
              "#9c179e"
             ],
             [
              0.4444444444444444,
              "#bd3786"
             ],
             [
              0.5555555555555556,
              "#d8576b"
             ],
             [
              0.6666666666666666,
              "#ed7953"
             ],
             [
              0.7777777777777778,
              "#fb9f3a"
             ],
             [
              0.8888888888888888,
              "#fdca26"
             ],
             [
              1,
              "#f0f921"
             ]
            ],
            "type": "heatmapgl"
           }
          ],
          "histogram": [
           {
            "marker": {
             "pattern": {
              "fillmode": "overlay",
              "size": 10,
              "solidity": 0.2
             }
            },
            "type": "histogram"
           }
          ],
          "histogram2d": [
           {
            "colorbar": {
             "outlinewidth": 0,
             "ticks": ""
            },
            "colorscale": [
             [
              0,
              "#0d0887"
             ],
             [
              0.1111111111111111,
              "#46039f"
             ],
             [
              0.2222222222222222,
              "#7201a8"
             ],
             [
              0.3333333333333333,
              "#9c179e"
             ],
             [
              0.4444444444444444,
              "#bd3786"
             ],
             [
              0.5555555555555556,
              "#d8576b"
             ],
             [
              0.6666666666666666,
              "#ed7953"
             ],
             [
              0.7777777777777778,
              "#fb9f3a"
             ],
             [
              0.8888888888888888,
              "#fdca26"
             ],
             [
              1,
              "#f0f921"
             ]
            ],
            "type": "histogram2d"
           }
          ],
          "histogram2dcontour": [
           {
            "colorbar": {
             "outlinewidth": 0,
             "ticks": ""
            },
            "colorscale": [
             [
              0,
              "#0d0887"
             ],
             [
              0.1111111111111111,
              "#46039f"
             ],
             [
              0.2222222222222222,
              "#7201a8"
             ],
             [
              0.3333333333333333,
              "#9c179e"
             ],
             [
              0.4444444444444444,
              "#bd3786"
             ],
             [
              0.5555555555555556,
              "#d8576b"
             ],
             [
              0.6666666666666666,
              "#ed7953"
             ],
             [
              0.7777777777777778,
              "#fb9f3a"
             ],
             [
              0.8888888888888888,
              "#fdca26"
             ],
             [
              1,
              "#f0f921"
             ]
            ],
            "type": "histogram2dcontour"
           }
          ],
          "mesh3d": [
           {
            "colorbar": {
             "outlinewidth": 0,
             "ticks": ""
            },
            "type": "mesh3d"
           }
          ],
          "parcoords": [
           {
            "line": {
             "colorbar": {
              "outlinewidth": 0,
              "ticks": ""
             }
            },
            "type": "parcoords"
           }
          ],
          "pie": [
           {
            "automargin": true,
            "type": "pie"
           }
          ],
          "scatter": [
           {
            "fillpattern": {
             "fillmode": "overlay",
             "size": 10,
             "solidity": 0.2
            },
            "type": "scatter"
           }
          ],
          "scatter3d": [
           {
            "line": {
             "colorbar": {
              "outlinewidth": 0,
              "ticks": ""
             }
            },
            "marker": {
             "colorbar": {
              "outlinewidth": 0,
              "ticks": ""
             }
            },
            "type": "scatter3d"
           }
          ],
          "scattercarpet": [
           {
            "marker": {
             "colorbar": {
              "outlinewidth": 0,
              "ticks": ""
             }
            },
            "type": "scattercarpet"
           }
          ],
          "scattergeo": [
           {
            "marker": {
             "colorbar": {
              "outlinewidth": 0,
              "ticks": ""
             }
            },
            "type": "scattergeo"
           }
          ],
          "scattergl": [
           {
            "marker": {
             "colorbar": {
              "outlinewidth": 0,
              "ticks": ""
             }
            },
            "type": "scattergl"
           }
          ],
          "scattermapbox": [
           {
            "marker": {
             "colorbar": {
              "outlinewidth": 0,
              "ticks": ""
             }
            },
            "type": "scattermapbox"
           }
          ],
          "scatterpolar": [
           {
            "marker": {
             "colorbar": {
              "outlinewidth": 0,
              "ticks": ""
             }
            },
            "type": "scatterpolar"
           }
          ],
          "scatterpolargl": [
           {
            "marker": {
             "colorbar": {
              "outlinewidth": 0,
              "ticks": ""
             }
            },
            "type": "scatterpolargl"
           }
          ],
          "scatterternary": [
           {
            "marker": {
             "colorbar": {
              "outlinewidth": 0,
              "ticks": ""
             }
            },
            "type": "scatterternary"
           }
          ],
          "surface": [
           {
            "colorbar": {
             "outlinewidth": 0,
             "ticks": ""
            },
            "colorscale": [
             [
              0,
              "#0d0887"
             ],
             [
              0.1111111111111111,
              "#46039f"
             ],
             [
              0.2222222222222222,
              "#7201a8"
             ],
             [
              0.3333333333333333,
              "#9c179e"
             ],
             [
              0.4444444444444444,
              "#bd3786"
             ],
             [
              0.5555555555555556,
              "#d8576b"
             ],
             [
              0.6666666666666666,
              "#ed7953"
             ],
             [
              0.7777777777777778,
              "#fb9f3a"
             ],
             [
              0.8888888888888888,
              "#fdca26"
             ],
             [
              1,
              "#f0f921"
             ]
            ],
            "type": "surface"
           }
          ],
          "table": [
           {
            "cells": {
             "fill": {
              "color": "#EBF0F8"
             },
             "line": {
              "color": "white"
             }
            },
            "header": {
             "fill": {
              "color": "#C8D4E3"
             },
             "line": {
              "color": "white"
             }
            },
            "type": "table"
           }
          ]
         },
         "layout": {
          "annotationdefaults": {
           "arrowcolor": "#2a3f5f",
           "arrowhead": 0,
           "arrowwidth": 1
          },
          "autotypenumbers": "strict",
          "coloraxis": {
           "colorbar": {
            "outlinewidth": 0,
            "ticks": ""
           }
          },
          "colorscale": {
           "diverging": [
            [
             0,
             "#8e0152"
            ],
            [
             0.1,
             "#c51b7d"
            ],
            [
             0.2,
             "#de77ae"
            ],
            [
             0.3,
             "#f1b6da"
            ],
            [
             0.4,
             "#fde0ef"
            ],
            [
             0.5,
             "#f7f7f7"
            ],
            [
             0.6,
             "#e6f5d0"
            ],
            [
             0.7,
             "#b8e186"
            ],
            [
             0.8,
             "#7fbc41"
            ],
            [
             0.9,
             "#4d9221"
            ],
            [
             1,
             "#276419"
            ]
           ],
           "sequential": [
            [
             0,
             "#0d0887"
            ],
            [
             0.1111111111111111,
             "#46039f"
            ],
            [
             0.2222222222222222,
             "#7201a8"
            ],
            [
             0.3333333333333333,
             "#9c179e"
            ],
            [
             0.4444444444444444,
             "#bd3786"
            ],
            [
             0.5555555555555556,
             "#d8576b"
            ],
            [
             0.6666666666666666,
             "#ed7953"
            ],
            [
             0.7777777777777778,
             "#fb9f3a"
            ],
            [
             0.8888888888888888,
             "#fdca26"
            ],
            [
             1,
             "#f0f921"
            ]
           ],
           "sequentialminus": [
            [
             0,
             "#0d0887"
            ],
            [
             0.1111111111111111,
             "#46039f"
            ],
            [
             0.2222222222222222,
             "#7201a8"
            ],
            [
             0.3333333333333333,
             "#9c179e"
            ],
            [
             0.4444444444444444,
             "#bd3786"
            ],
            [
             0.5555555555555556,
             "#d8576b"
            ],
            [
             0.6666666666666666,
             "#ed7953"
            ],
            [
             0.7777777777777778,
             "#fb9f3a"
            ],
            [
             0.8888888888888888,
             "#fdca26"
            ],
            [
             1,
             "#f0f921"
            ]
           ]
          },
          "colorway": [
           "#636efa",
           "#EF553B",
           "#00cc96",
           "#ab63fa",
           "#FFA15A",
           "#19d3f3",
           "#FF6692",
           "#B6E880",
           "#FF97FF",
           "#FECB52"
          ],
          "font": {
           "color": "#2a3f5f"
          },
          "geo": {
           "bgcolor": "white",
           "lakecolor": "white",
           "landcolor": "#E5ECF6",
           "showlakes": true,
           "showland": true,
           "subunitcolor": "white"
          },
          "hoverlabel": {
           "align": "left"
          },
          "hovermode": "closest",
          "mapbox": {
           "style": "light"
          },
          "paper_bgcolor": "white",
          "plot_bgcolor": "#E5ECF6",
          "polar": {
           "angularaxis": {
            "gridcolor": "white",
            "linecolor": "white",
            "ticks": ""
           },
           "bgcolor": "#E5ECF6",
           "radialaxis": {
            "gridcolor": "white",
            "linecolor": "white",
            "ticks": ""
           }
          },
          "scene": {
           "xaxis": {
            "backgroundcolor": "#E5ECF6",
            "gridcolor": "white",
            "gridwidth": 2,
            "linecolor": "white",
            "showbackground": true,
            "ticks": "",
            "zerolinecolor": "white"
           },
           "yaxis": {
            "backgroundcolor": "#E5ECF6",
            "gridcolor": "white",
            "gridwidth": 2,
            "linecolor": "white",
            "showbackground": true,
            "ticks": "",
            "zerolinecolor": "white"
           },
           "zaxis": {
            "backgroundcolor": "#E5ECF6",
            "gridcolor": "white",
            "gridwidth": 2,
            "linecolor": "white",
            "showbackground": true,
            "ticks": "",
            "zerolinecolor": "white"
           }
          },
          "shapedefaults": {
           "line": {
            "color": "#2a3f5f"
           }
          },
          "ternary": {
           "aaxis": {
            "gridcolor": "white",
            "linecolor": "white",
            "ticks": ""
           },
           "baxis": {
            "gridcolor": "white",
            "linecolor": "white",
            "ticks": ""
           },
           "bgcolor": "#E5ECF6",
           "caxis": {
            "gridcolor": "white",
            "linecolor": "white",
            "ticks": ""
           }
          },
          "title": {
           "x": 0.05
          },
          "xaxis": {
           "automargin": true,
           "gridcolor": "white",
           "linecolor": "white",
           "ticks": "",
           "title": {
            "standoff": 15
           },
           "zerolinecolor": "white",
           "zerolinewidth": 2
          },
          "yaxis": {
           "automargin": true,
           "gridcolor": "white",
           "linecolor": "white",
           "ticks": "",
           "title": {
            "standoff": 15
           },
           "zerolinecolor": "white",
           "zerolinewidth": 2
          }
         }
        }
       }
      },
      "text/html": [
       "<div>                            <div id=\"8a36c0e9-cc3d-4daa-b73a-aa15e6827370\" class=\"plotly-graph-div\" style=\"height:525px; width:100%;\"></div>            <script type=\"text/javascript\">                require([\"plotly\"], function(Plotly) {                    window.PLOTLYENV=window.PLOTLYENV || {};                                    if (document.getElementById(\"8a36c0e9-cc3d-4daa-b73a-aa15e6827370\")) {                    Plotly.newPlot(                        \"8a36c0e9-cc3d-4daa-b73a-aa15e6827370\",                        [{\"hole\":0.6,\"labels\":[\"Enig\",\"Delvist Enig\",\"Uenig\"],\"marker\":{\"colors\":[\"rgb(15,122,55)\",\"rgb(169,220,163)\",\"rgb(218,241,212)\"]},\"values\":[2,6,10],\"type\":\"pie\"}],                        {\"template\":{\"data\":{\"histogram2dcontour\":[{\"type\":\"histogram2dcontour\",\"colorbar\":{\"outlinewidth\":0,\"ticks\":\"\"},\"colorscale\":[[0.0,\"#0d0887\"],[0.1111111111111111,\"#46039f\"],[0.2222222222222222,\"#7201a8\"],[0.3333333333333333,\"#9c179e\"],[0.4444444444444444,\"#bd3786\"],[0.5555555555555556,\"#d8576b\"],[0.6666666666666666,\"#ed7953\"],[0.7777777777777778,\"#fb9f3a\"],[0.8888888888888888,\"#fdca26\"],[1.0,\"#f0f921\"]]}],\"choropleth\":[{\"type\":\"choropleth\",\"colorbar\":{\"outlinewidth\":0,\"ticks\":\"\"}}],\"histogram2d\":[{\"type\":\"histogram2d\",\"colorbar\":{\"outlinewidth\":0,\"ticks\":\"\"},\"colorscale\":[[0.0,\"#0d0887\"],[0.1111111111111111,\"#46039f\"],[0.2222222222222222,\"#7201a8\"],[0.3333333333333333,\"#9c179e\"],[0.4444444444444444,\"#bd3786\"],[0.5555555555555556,\"#d8576b\"],[0.6666666666666666,\"#ed7953\"],[0.7777777777777778,\"#fb9f3a\"],[0.8888888888888888,\"#fdca26\"],[1.0,\"#f0f921\"]]}],\"heatmap\":[{\"type\":\"heatmap\",\"colorbar\":{\"outlinewidth\":0,\"ticks\":\"\"},\"colorscale\":[[0.0,\"#0d0887\"],[0.1111111111111111,\"#46039f\"],[0.2222222222222222,\"#7201a8\"],[0.3333333333333333,\"#9c179e\"],[0.4444444444444444,\"#bd3786\"],[0.5555555555555556,\"#d8576b\"],[0.6666666666666666,\"#ed7953\"],[0.7777777777777778,\"#fb9f3a\"],[0.8888888888888888,\"#fdca26\"],[1.0,\"#f0f921\"]]}],\"heatmapgl\":[{\"type\":\"heatmapgl\",\"colorbar\":{\"outlinewidth\":0,\"ticks\":\"\"},\"colorscale\":[[0.0,\"#0d0887\"],[0.1111111111111111,\"#46039f\"],[0.2222222222222222,\"#7201a8\"],[0.3333333333333333,\"#9c179e\"],[0.4444444444444444,\"#bd3786\"],[0.5555555555555556,\"#d8576b\"],[0.6666666666666666,\"#ed7953\"],[0.7777777777777778,\"#fb9f3a\"],[0.8888888888888888,\"#fdca26\"],[1.0,\"#f0f921\"]]}],\"contourcarpet\":[{\"type\":\"contourcarpet\",\"colorbar\":{\"outlinewidth\":0,\"ticks\":\"\"}}],\"contour\":[{\"type\":\"contour\",\"colorbar\":{\"outlinewidth\":0,\"ticks\":\"\"},\"colorscale\":[[0.0,\"#0d0887\"],[0.1111111111111111,\"#46039f\"],[0.2222222222222222,\"#7201a8\"],[0.3333333333333333,\"#9c179e\"],[0.4444444444444444,\"#bd3786\"],[0.5555555555555556,\"#d8576b\"],[0.6666666666666666,\"#ed7953\"],[0.7777777777777778,\"#fb9f3a\"],[0.8888888888888888,\"#fdca26\"],[1.0,\"#f0f921\"]]}],\"surface\":[{\"type\":\"surface\",\"colorbar\":{\"outlinewidth\":0,\"ticks\":\"\"},\"colorscale\":[[0.0,\"#0d0887\"],[0.1111111111111111,\"#46039f\"],[0.2222222222222222,\"#7201a8\"],[0.3333333333333333,\"#9c179e\"],[0.4444444444444444,\"#bd3786\"],[0.5555555555555556,\"#d8576b\"],[0.6666666666666666,\"#ed7953\"],[0.7777777777777778,\"#fb9f3a\"],[0.8888888888888888,\"#fdca26\"],[1.0,\"#f0f921\"]]}],\"mesh3d\":[{\"type\":\"mesh3d\",\"colorbar\":{\"outlinewidth\":0,\"ticks\":\"\"}}],\"scatter\":[{\"fillpattern\":{\"fillmode\":\"overlay\",\"size\":10,\"solidity\":0.2},\"type\":\"scatter\"}],\"parcoords\":[{\"type\":\"parcoords\",\"line\":{\"colorbar\":{\"outlinewidth\":0,\"ticks\":\"\"}}}],\"scatterpolargl\":[{\"type\":\"scatterpolargl\",\"marker\":{\"colorbar\":{\"outlinewidth\":0,\"ticks\":\"\"}}}],\"bar\":[{\"error_x\":{\"color\":\"#2a3f5f\"},\"error_y\":{\"color\":\"#2a3f5f\"},\"marker\":{\"line\":{\"color\":\"#E5ECF6\",\"width\":0.5},\"pattern\":{\"fillmode\":\"overlay\",\"size\":10,\"solidity\":0.2}},\"type\":\"bar\"}],\"scattergeo\":[{\"type\":\"scattergeo\",\"marker\":{\"colorbar\":{\"outlinewidth\":0,\"ticks\":\"\"}}}],\"scatterpolar\":[{\"type\":\"scatterpolar\",\"marker\":{\"colorbar\":{\"outlinewidth\":0,\"ticks\":\"\"}}}],\"histogram\":[{\"marker\":{\"pattern\":{\"fillmode\":\"overlay\",\"size\":10,\"solidity\":0.2}},\"type\":\"histogram\"}],\"scattergl\":[{\"type\":\"scattergl\",\"marker\":{\"colorbar\":{\"outlinewidth\":0,\"ticks\":\"\"}}}],\"scatter3d\":[{\"type\":\"scatter3d\",\"line\":{\"colorbar\":{\"outlinewidth\":0,\"ticks\":\"\"}},\"marker\":{\"colorbar\":{\"outlinewidth\":0,\"ticks\":\"\"}}}],\"scattermapbox\":[{\"type\":\"scattermapbox\",\"marker\":{\"colorbar\":{\"outlinewidth\":0,\"ticks\":\"\"}}}],\"scatterternary\":[{\"type\":\"scatterternary\",\"marker\":{\"colorbar\":{\"outlinewidth\":0,\"ticks\":\"\"}}}],\"scattercarpet\":[{\"type\":\"scattercarpet\",\"marker\":{\"colorbar\":{\"outlinewidth\":0,\"ticks\":\"\"}}}],\"carpet\":[{\"aaxis\":{\"endlinecolor\":\"#2a3f5f\",\"gridcolor\":\"white\",\"linecolor\":\"white\",\"minorgridcolor\":\"white\",\"startlinecolor\":\"#2a3f5f\"},\"baxis\":{\"endlinecolor\":\"#2a3f5f\",\"gridcolor\":\"white\",\"linecolor\":\"white\",\"minorgridcolor\":\"white\",\"startlinecolor\":\"#2a3f5f\"},\"type\":\"carpet\"}],\"table\":[{\"cells\":{\"fill\":{\"color\":\"#EBF0F8\"},\"line\":{\"color\":\"white\"}},\"header\":{\"fill\":{\"color\":\"#C8D4E3\"},\"line\":{\"color\":\"white\"}},\"type\":\"table\"}],\"barpolar\":[{\"marker\":{\"line\":{\"color\":\"#E5ECF6\",\"width\":0.5},\"pattern\":{\"fillmode\":\"overlay\",\"size\":10,\"solidity\":0.2}},\"type\":\"barpolar\"}],\"pie\":[{\"automargin\":true,\"type\":\"pie\"}]},\"layout\":{\"autotypenumbers\":\"strict\",\"colorway\":[\"#636efa\",\"#EF553B\",\"#00cc96\",\"#ab63fa\",\"#FFA15A\",\"#19d3f3\",\"#FF6692\",\"#B6E880\",\"#FF97FF\",\"#FECB52\"],\"font\":{\"color\":\"#2a3f5f\"},\"hovermode\":\"closest\",\"hoverlabel\":{\"align\":\"left\"},\"paper_bgcolor\":\"white\",\"plot_bgcolor\":\"#E5ECF6\",\"polar\":{\"bgcolor\":\"#E5ECF6\",\"angularaxis\":{\"gridcolor\":\"white\",\"linecolor\":\"white\",\"ticks\":\"\"},\"radialaxis\":{\"gridcolor\":\"white\",\"linecolor\":\"white\",\"ticks\":\"\"}},\"ternary\":{\"bgcolor\":\"#E5ECF6\",\"aaxis\":{\"gridcolor\":\"white\",\"linecolor\":\"white\",\"ticks\":\"\"},\"baxis\":{\"gridcolor\":\"white\",\"linecolor\":\"white\",\"ticks\":\"\"},\"caxis\":{\"gridcolor\":\"white\",\"linecolor\":\"white\",\"ticks\":\"\"}},\"coloraxis\":{\"colorbar\":{\"outlinewidth\":0,\"ticks\":\"\"}},\"colorscale\":{\"sequential\":[[0.0,\"#0d0887\"],[0.1111111111111111,\"#46039f\"],[0.2222222222222222,\"#7201a8\"],[0.3333333333333333,\"#9c179e\"],[0.4444444444444444,\"#bd3786\"],[0.5555555555555556,\"#d8576b\"],[0.6666666666666666,\"#ed7953\"],[0.7777777777777778,\"#fb9f3a\"],[0.8888888888888888,\"#fdca26\"],[1.0,\"#f0f921\"]],\"sequentialminus\":[[0.0,\"#0d0887\"],[0.1111111111111111,\"#46039f\"],[0.2222222222222222,\"#7201a8\"],[0.3333333333333333,\"#9c179e\"],[0.4444444444444444,\"#bd3786\"],[0.5555555555555556,\"#d8576b\"],[0.6666666666666666,\"#ed7953\"],[0.7777777777777778,\"#fb9f3a\"],[0.8888888888888888,\"#fdca26\"],[1.0,\"#f0f921\"]],\"diverging\":[[0,\"#8e0152\"],[0.1,\"#c51b7d\"],[0.2,\"#de77ae\"],[0.3,\"#f1b6da\"],[0.4,\"#fde0ef\"],[0.5,\"#f7f7f7\"],[0.6,\"#e6f5d0\"],[0.7,\"#b8e186\"],[0.8,\"#7fbc41\"],[0.9,\"#4d9221\"],[1,\"#276419\"]]},\"xaxis\":{\"gridcolor\":\"white\",\"linecolor\":\"white\",\"ticks\":\"\",\"title\":{\"standoff\":15},\"zerolinecolor\":\"white\",\"automargin\":true,\"zerolinewidth\":2},\"yaxis\":{\"gridcolor\":\"white\",\"linecolor\":\"white\",\"ticks\":\"\",\"title\":{\"standoff\":15},\"zerolinecolor\":\"white\",\"automargin\":true,\"zerolinewidth\":2},\"scene\":{\"xaxis\":{\"backgroundcolor\":\"#E5ECF6\",\"gridcolor\":\"white\",\"linecolor\":\"white\",\"showbackground\":true,\"ticks\":\"\",\"zerolinecolor\":\"white\",\"gridwidth\":2},\"yaxis\":{\"backgroundcolor\":\"#E5ECF6\",\"gridcolor\":\"white\",\"linecolor\":\"white\",\"showbackground\":true,\"ticks\":\"\",\"zerolinecolor\":\"white\",\"gridwidth\":2},\"zaxis\":{\"backgroundcolor\":\"#E5ECF6\",\"gridcolor\":\"white\",\"linecolor\":\"white\",\"showbackground\":true,\"ticks\":\"\",\"zerolinecolor\":\"white\",\"gridwidth\":2}},\"shapedefaults\":{\"line\":{\"color\":\"#2a3f5f\"}},\"annotationdefaults\":{\"arrowcolor\":\"#2a3f5f\",\"arrowhead\":0,\"arrowwidth\":1},\"geo\":{\"bgcolor\":\"white\",\"landcolor\":\"#E5ECF6\",\"subunitcolor\":\"white\",\"showland\":true,\"showlakes\":true,\"lakecolor\":\"white\"},\"title\":{\"x\":0.05},\"mapbox\":{\"style\":\"light\"}}}},                        {\"responsive\": true}                    ).then(function(){\n",
       "                            \n",
       "var gd = document.getElementById('8a36c0e9-cc3d-4daa-b73a-aa15e6827370');\n",
       "var x = new MutationObserver(function (mutations, observer) {{\n",
       "        var display = window.getComputedStyle(gd).display;\n",
       "        if (!display || display === 'none') {{\n",
       "            console.log([gd, 'removed!']);\n",
       "            Plotly.purge(gd);\n",
       "            observer.disconnect();\n",
       "        }}\n",
       "}});\n",
       "\n",
       "// Listen for the removal of the full notebook cells\n",
       "var notebookContainer = gd.closest('#notebook-container');\n",
       "if (notebookContainer) {{\n",
       "    x.observe(notebookContainer, {childList: true});\n",
       "}}\n",
       "\n",
       "// Listen for the clearing of the current output cell\n",
       "var outputEl = gd.closest('.output');\n",
       "if (outputEl) {{\n",
       "    x.observe(outputEl, {childList: true});\n",
       "}}\n",
       "\n",
       "                        })                };                });            </script>        </div>"
      ]
     },
     "metadata": {},
     "output_type": "display_data"
    }
   ],
   "source": [
    "df_temp =  df_nameIndex[df_nameIndex[\"Kommune\"]==kommune]\n",
    "df_temp = df_temp.sort_values(question, ascending = False)\n",
    "\n",
    "\n",
    "# labels for piechart - kommune\n",
    "value_labels = {0:\"Uenig\", 1:\"Delvist Enig\", 2:\"Enig\"}\n",
    "answers_kommune = pd.Series([value_labels[x] for x in df_temp[question]], \n",
    "                              index =df_temp.index)\n",
    "labels_kommune = list(answers_kommune.unique())\n",
    "\n",
    "# Value for kommune\n",
    "df_pie = df_temp.groupby(df_temp[question]).count()\n",
    "value_kommune = df_pie[\"Score\"]\n",
    "\n",
    "# Colors kommune\n",
    "color_dict = { \"Enig\":'rgb(15,122,55)',\"Delvist Enig\": 'rgb(169,220,163)',\"Uenig\":'rgb(218,241,212)'}\n",
    "colors_pie = {}\n",
    "for answer in labels_kommune:\n",
    "    colors_pie[answer] = color_dict[answer]\n",
    "\n",
    "fig = go.Figure()\n",
    "\n",
    "fig.add_trace(go.Pie(labels=labels_kommune, \n",
    "                            values=value_kommune, \n",
    "                            hole=0.6,\n",
    "                            marker_colors = list(colors_pie.values()),\n",
    "                            ))\n"
   ]
  },
  {
   "cell_type": "code",
   "execution_count": 88,
<<<<<<< HEAD
<<<<<<< Updated upstream
   "id": "c023280f",
=======
   "id": "e0269c5f",
>>>>>>> Stashed changes
=======
   "id": "d2ea4186",
>>>>>>> parent of 8de6f7d (Update Experimenting with graphs.ipynb)
   "metadata": {},
   "outputs": [
    {
     "data": {
      "text/html": [
       "<div>\n",
       "<style scoped>\n",
       "    .dataframe tbody tr th:only-of-type {\n",
       "        vertical-align: middle;\n",
       "    }\n",
       "\n",
       "    .dataframe tbody tr th {\n",
       "        vertical-align: top;\n",
       "    }\n",
       "\n",
       "    .dataframe thead th {\n",
       "        text-align: right;\n",
       "    }\n",
       "</style>\n",
       "<table border=\"1\" class=\"dataframe\">\n",
       "  <thead>\n",
       "    <tr style=\"text-align: right;\">\n",
       "      <th></th>\n",
       "      <th>Score</th>\n",
       "      <th>Kommune</th>\n",
       "      <th>Parti</th>\n",
       "      <th>Anden liste</th>\n",
       "      <th>Navn</th>\n",
       "      <th>1. \"Kommunen skal prioritere, at skolerne får flere midler til indkøb af klimavenlige og bæredygtige råvarer til madkundskab\"</th>\n",
       "      <th>2. \"Ved kommunale bevillinger til arrangementer, som involverer udgifter til mad/forplejning, skal de klimavenlige kostråd følges, og der skal altid være et plantebaseret alternativ\"</th>\n",
       "      <th>3. \"Fødevareministeriet har fået beregnet de sundhedsøkonomiske gevinster ved, at danskerne følger kostrådene. Der skal laves en tilsvarende beregning af de sundhedsøkonomiske gevinster for min kommune\"</th>\n",
       "      <th>4. \"De offentlige køkkener i kommunen skal tilbyde en vegetarisk valgmulighed; som kun består af vegetabilske fødevarer (På plejehjem, ældrecentre og ved kommunal madudbringning til ældre)\"</th>\n",
       "      <th>5. \"De offentlige køkkener i kommunen skal tilbyde en vegetarisk valgmulighed; som kun består af vegetabilske fødevarer (I skoler)\"</th>\n",
       "      <th>...</th>\n",
       "      <th>7. \"De offentlige køkkener i kommunen skal tilbyde en vegetarisk valgmulighed; som kun består af vegetabilske fødevarer (På kommunale arbejdspladser)\"</th>\n",
       "      <th>8. \"Alle offentlige køkkener i kommunen skal som udgangspunkt servere en 100 % plantebaseret kost, hvor eventuelle animalske fødevarer er et aktivt tilvalg\"</th>\n",
       "      <th>9. \"Alle skolers mælkeordninger skal tilbyde en plantebaseret drik\"</th>\n",
       "      <th>10. Nogle d1ginstitutioner h1r en politik om, 1t børnene sk1l s1mles om et fælles måltid. I nogle 1f de institutioner tilbydes der dog ikke s1mtidigt det mest klim1venlige måltid – et pl1nteb1seret måltid. Det betyder, 1t f1milier, som h1r v1lgt 1t leve klim1venligt, ikke k1n få deres ønske opfyldt, fordi det er i konflikt med politikken om et fælles måltid. Hv1d sk1l kommunens måltidspolitik være?</th>\n",
       "      <th>11. \"Kommunen skal opstille en målsætning om 25 % CO2-reduktion i 2025 fra maden i de offentlige køkkener (referenceåret for sammenligningen er 2020)\"</th>\n",
       "      <th>12. \"Kommunen skal opstille en målsætning om 50 % CO2-reduktion i 2030 fra maden i de offentlige køkkener (referenceåret for sammenligningen er 2020)\"</th>\n",
       "      <th>13. \"Min kommune skal erklære sig som foregangskommune og udarbejde en strategi for plantebaserede fødevarer fra jord til bord\"</th>\n",
       "      <th>14. Konkret borgernær case (daginstitution)*</th>\n",
       "      <th>15 \"Kommunen skal oprette forsøgspuljer til at fremme økologisk plantebaseret iværksætteri\"</th>\n",
       "      <th>16. \"Kommunen skal afsætte penge til efteruddannelse af kommunens køkkenpersonale inden for tilberedning af klimavenlig, økologisk og plantebaseret mad\"</th>\n",
       "    </tr>\n",
       "    <tr>\n",
       "      <th>Candidate</th>\n",
       "      <th></th>\n",
       "      <th></th>\n",
       "      <th></th>\n",
       "      <th></th>\n",
       "      <th></th>\n",
       "      <th></th>\n",
       "      <th></th>\n",
       "      <th></th>\n",
       "      <th></th>\n",
       "      <th></th>\n",
       "      <th></th>\n",
       "      <th></th>\n",
       "      <th></th>\n",
       "      <th></th>\n",
       "      <th></th>\n",
       "      <th></th>\n",
       "      <th></th>\n",
       "      <th></th>\n",
       "      <th></th>\n",
       "      <th></th>\n",
       "      <th></th>\n",
       "    </tr>\n",
       "  </thead>\n",
       "  <tbody>\n",
       "    <tr>\n",
       "      <th>Ronald Kofoed-Rasmussen  (A.)</th>\n",
       "      <td>18</td>\n",
       "      <td>Bornholm</td>\n",
       "      <td>A. Socialdemokratiet</td>\n",
       "      <td>0</td>\n",
       "      <td>Ronald Kofoed-Rasmussen</td>\n",
       "      <td>2.0</td>\n",
       "      <td>0.0</td>\n",
       "      <td>1.0</td>\n",
       "      <td>2.0</td>\n",
       "      <td>2.0</td>\n",
       "      <td>...</td>\n",
       "      <td>2.0</td>\n",
       "      <td>0.0</td>\n",
       "      <td>0.0</td>\n",
       "      <td>0.0</td>\n",
       "      <td>2.0</td>\n",
       "      <td>2.0</td>\n",
       "      <td>1.0</td>\n",
       "      <td>0.0</td>\n",
       "      <td>1.0</td>\n",
       "      <td>1.0</td>\n",
       "    </tr>\n",
       "    <tr>\n",
       "      <th>Klaus Hermansen (Ø.)</th>\n",
       "      <td>23</td>\n",
       "      <td>Bornholm</td>\n",
       "      <td>Ø. Enhedslisten</td>\n",
       "      <td>0</td>\n",
       "      <td>Klaus Hermansen</td>\n",
       "      <td>2.0</td>\n",
       "      <td>2.0</td>\n",
       "      <td>2.0</td>\n",
       "      <td>1.0</td>\n",
       "      <td>1.0</td>\n",
       "      <td>...</td>\n",
       "      <td>1.0</td>\n",
       "      <td>1.0</td>\n",
       "      <td>2.0</td>\n",
       "      <td>2.0</td>\n",
       "      <td>2.0</td>\n",
       "      <td>2.0</td>\n",
       "      <td>1.0</td>\n",
       "      <td>1.0</td>\n",
       "      <td>1.0</td>\n",
       "      <td>1.0</td>\n",
       "    </tr>\n",
       "    <tr>\n",
       "      <th>Stig Westermann (Ø.)</th>\n",
       "      <td>29</td>\n",
       "      <td>Bornholm</td>\n",
       "      <td>Ø. Enhedslisten</td>\n",
       "      <td>0</td>\n",
       "      <td>Stig Westermann</td>\n",
       "      <td>2.0</td>\n",
       "      <td>2.0</td>\n",
       "      <td>2.0</td>\n",
       "      <td>2.0</td>\n",
       "      <td>2.0</td>\n",
       "      <td>...</td>\n",
       "      <td>2.0</td>\n",
       "      <td>1.0</td>\n",
       "      <td>2.0</td>\n",
       "      <td>2.0</td>\n",
       "      <td>2.0</td>\n",
       "      <td>2.0</td>\n",
       "      <td>2.0</td>\n",
       "      <td>2.0</td>\n",
       "      <td>1.0</td>\n",
       "      <td>1.0</td>\n",
       "    </tr>\n",
       "    <tr>\n",
       "      <th>João A. B. R. Møller  (B.)</th>\n",
       "      <td>27</td>\n",
       "      <td>Bornholm</td>\n",
       "      <td>B. Det Radikale Venstre</td>\n",
       "      <td>0</td>\n",
       "      <td>João A. B. R. Møller</td>\n",
       "      <td>2.0</td>\n",
       "      <td>2.0</td>\n",
       "      <td>1.0</td>\n",
       "      <td>1.0</td>\n",
       "      <td>2.0</td>\n",
       "      <td>...</td>\n",
       "      <td>1.0</td>\n",
       "      <td>1.0</td>\n",
       "      <td>2.0</td>\n",
       "      <td>1.0</td>\n",
       "      <td>2.0</td>\n",
       "      <td>2.0</td>\n",
       "      <td>2.0</td>\n",
       "      <td>2.0</td>\n",
       "      <td>2.0</td>\n",
       "      <td>2.0</td>\n",
       "    </tr>\n",
       "    <tr>\n",
       "      <th>Morten Riis (Ø.)</th>\n",
       "      <td>16</td>\n",
       "      <td>Bornholm</td>\n",
       "      <td>Ø. Enhedslisten</td>\n",
       "      <td>0</td>\n",
       "      <td>Morten Riis</td>\n",
       "      <td>2.0</td>\n",
       "      <td>2.0</td>\n",
       "      <td>0.0</td>\n",
       "      <td>0.0</td>\n",
       "      <td>2.0</td>\n",
       "      <td>...</td>\n",
       "      <td>2.0</td>\n",
       "      <td>2.0</td>\n",
       "      <td>2.0</td>\n",
       "      <td>2.0</td>\n",
       "      <td>0.0</td>\n",
       "      <td>0.0</td>\n",
       "      <td>0.0</td>\n",
       "      <td>0.0</td>\n",
       "      <td>0.0</td>\n",
       "      <td>0.0</td>\n",
       "    </tr>\n",
       "    <tr>\n",
       "      <th>Søren Schow (V.)</th>\n",
       "      <td>12</td>\n",
       "      <td>Bornholm</td>\n",
       "      <td>V. Venstre</td>\n",
       "      <td>0</td>\n",
       "      <td>Søren Schow</td>\n",
       "      <td>2.0</td>\n",
       "      <td>0.0</td>\n",
       "      <td>0.0</td>\n",
       "      <td>1.0</td>\n",
       "      <td>1.0</td>\n",
       "      <td>...</td>\n",
       "      <td>1.0</td>\n",
       "      <td>0.0</td>\n",
       "      <td>0.0</td>\n",
       "      <td>0.0</td>\n",
       "      <td>1.0</td>\n",
       "      <td>1.0</td>\n",
       "      <td>0.0</td>\n",
       "      <td>0.0</td>\n",
       "      <td>2.0</td>\n",
       "      <td>2.0</td>\n",
       "    </tr>\n",
       "    <tr>\n",
       "      <th>Lærke Lina Skovbjerg (G.)</th>\n",
       "      <td>32</td>\n",
       "      <td>Bornholm</td>\n",
       "      <td>G. Veganerpartiet</td>\n",
       "      <td>0</td>\n",
       "      <td>Lærke Lina Skovbjerg</td>\n",
       "      <td>2.0</td>\n",
       "      <td>2.0</td>\n",
       "      <td>2.0</td>\n",
       "      <td>2.0</td>\n",
       "      <td>2.0</td>\n",
       "      <td>...</td>\n",
       "      <td>2.0</td>\n",
       "      <td>2.0</td>\n",
       "      <td>2.0</td>\n",
       "      <td>2.0</td>\n",
       "      <td>2.0</td>\n",
       "      <td>2.0</td>\n",
       "      <td>2.0</td>\n",
       "      <td>2.0</td>\n",
       "      <td>2.0</td>\n",
       "      <td>2.0</td>\n",
       "    </tr>\n",
       "    <tr>\n",
       "      <th>Nikolaj Fjellerad (F.)</th>\n",
       "      <td>12</td>\n",
       "      <td>Bornholm</td>\n",
       "      <td>F. Socialistisk Folkeparti</td>\n",
       "      <td>0</td>\n",
       "      <td>Nikolaj Fjellerad</td>\n",
       "      <td>2.0</td>\n",
       "      <td>1.0</td>\n",
       "      <td>0.0</td>\n",
       "      <td>1.0</td>\n",
       "      <td>1.0</td>\n",
       "      <td>...</td>\n",
       "      <td>2.0</td>\n",
       "      <td>0.0</td>\n",
       "      <td>1.0</td>\n",
       "      <td>0.0</td>\n",
       "      <td>1.0</td>\n",
       "      <td>0.0</td>\n",
       "      <td>0.0</td>\n",
       "      <td>1.0</td>\n",
       "      <td>1.0</td>\n",
       "      <td>1.0</td>\n",
       "    </tr>\n",
       "    <tr>\n",
       "      <th>Leif Olsen (F.)</th>\n",
       "      <td>17</td>\n",
       "      <td>Bornholm</td>\n",
       "      <td>F. Socialistisk Folkeparti</td>\n",
       "      <td>0</td>\n",
       "      <td>Leif Olsen</td>\n",
       "      <td>2.0</td>\n",
       "      <td>1.0</td>\n",
       "      <td>0.0</td>\n",
       "      <td>1.0</td>\n",
       "      <td>1.0</td>\n",
       "      <td>...</td>\n",
       "      <td>1.0</td>\n",
       "      <td>0.0</td>\n",
       "      <td>0.0</td>\n",
       "      <td>1.0</td>\n",
       "      <td>2.0</td>\n",
       "      <td>2.0</td>\n",
       "      <td>0.0</td>\n",
       "      <td>1.0</td>\n",
       "      <td>2.0</td>\n",
       "      <td>2.0</td>\n",
       "    </tr>\n",
       "    <tr>\n",
       "      <th>Bo Haxthausen (F.)</th>\n",
       "      <td>28</td>\n",
       "      <td>Bornholm</td>\n",
       "      <td>F. Socialistisk Folkeparti</td>\n",
       "      <td>0</td>\n",
       "      <td>Bo Haxthausen</td>\n",
       "      <td>2.0</td>\n",
       "      <td>2.0</td>\n",
       "      <td>1.0</td>\n",
       "      <td>2.0</td>\n",
       "      <td>2.0</td>\n",
       "      <td>...</td>\n",
       "      <td>2.0</td>\n",
       "      <td>1.0</td>\n",
       "      <td>2.0</td>\n",
       "      <td>1.0</td>\n",
       "      <td>2.0</td>\n",
       "      <td>2.0</td>\n",
       "      <td>1.0</td>\n",
       "      <td>2.0</td>\n",
       "      <td>2.0</td>\n",
       "      <td>2.0</td>\n",
       "    </tr>\n",
       "    <tr>\n",
       "      <th>Bjarne Hartung Kirkegaard (K.)</th>\n",
       "      <td>11</td>\n",
       "      <td>Bornholm</td>\n",
       "      <td>K. Kristendemokraterne</td>\n",
       "      <td>0</td>\n",
       "      <td>Bjarne Hartung Kirkegaard</td>\n",
       "      <td>1.0</td>\n",
       "      <td>0.0</td>\n",
       "      <td>0.0</td>\n",
       "      <td>1.0</td>\n",
       "      <td>1.0</td>\n",
       "      <td>...</td>\n",
       "      <td>1.0</td>\n",
       "      <td>0.0</td>\n",
       "      <td>1.0</td>\n",
       "      <td>1.0</td>\n",
       "      <td>1.0</td>\n",
       "      <td>1.0</td>\n",
       "      <td>0.0</td>\n",
       "      <td>1.0</td>\n",
       "      <td>0.0</td>\n",
       "      <td>1.0</td>\n",
       "    </tr>\n",
       "    <tr>\n",
       "      <th>Niels Chresten Andersen (K.)</th>\n",
       "      <td>8</td>\n",
       "      <td>Bornholm</td>\n",
       "      <td>K. Kristendemokraterne</td>\n",
       "      <td>0</td>\n",
       "      <td>Niels Chresten Andersen</td>\n",
       "      <td>1.0</td>\n",
       "      <td>1.0</td>\n",
       "      <td>0.0</td>\n",
       "      <td>1.0</td>\n",
       "      <td>1.0</td>\n",
       "      <td>...</td>\n",
       "      <td>1.0</td>\n",
       "      <td>0.0</td>\n",
       "      <td>0.0</td>\n",
       "      <td>1.0</td>\n",
       "      <td>0.0</td>\n",
       "      <td>0.0</td>\n",
       "      <td>0.0</td>\n",
       "      <td>0.0</td>\n",
       "      <td>0.0</td>\n",
       "      <td>1.0</td>\n",
       "    </tr>\n",
       "    <tr>\n",
       "      <th>Hans Ole Bech (K.)</th>\n",
       "      <td>6</td>\n",
       "      <td>Bornholm</td>\n",
       "      <td>K. Kristendemokraterne</td>\n",
       "      <td>0</td>\n",
       "      <td>Hans Ole Bech</td>\n",
       "      <td>1.0</td>\n",
       "      <td>1.0</td>\n",
       "      <td>0.0</td>\n",
       "      <td>0.0</td>\n",
       "      <td>0.0</td>\n",
       "      <td>...</td>\n",
       "      <td>1.0</td>\n",
       "      <td>0.0</td>\n",
       "      <td>1.0</td>\n",
       "      <td>0.0</td>\n",
       "      <td>0.0</td>\n",
       "      <td>0.0</td>\n",
       "      <td>0.0</td>\n",
       "      <td>0.0</td>\n",
       "      <td>1.0</td>\n",
       "      <td>1.0</td>\n",
       "    </tr>\n",
       "    <tr>\n",
       "      <th>Jacob Trøst (C.)</th>\n",
       "      <td>3</td>\n",
       "      <td>Bornholm</td>\n",
       "      <td>C. Det Konservative Folkeparti</td>\n",
       "      <td>0</td>\n",
       "      <td>Jacob Trøst</td>\n",
       "      <td>1.0</td>\n",
       "      <td>0.0</td>\n",
       "      <td>0.0</td>\n",
       "      <td>0.0</td>\n",
       "      <td>0.0</td>\n",
       "      <td>...</td>\n",
       "      <td>0.0</td>\n",
       "      <td>0.0</td>\n",
       "      <td>1.0</td>\n",
       "      <td>0.0</td>\n",
       "      <td>0.0</td>\n",
       "      <td>0.0</td>\n",
       "      <td>0.0</td>\n",
       "      <td>0.0</td>\n",
       "      <td>1.0</td>\n",
       "      <td>0.0</td>\n",
       "    </tr>\n",
       "    <tr>\n",
       "      <th>Hartvig Mumm (K.)</th>\n",
       "      <td>12</td>\n",
       "      <td>Bornholm</td>\n",
       "      <td>K. Kristendemokraterne</td>\n",
       "      <td>0</td>\n",
       "      <td>Hartvig Mumm</td>\n",
       "      <td>1.0</td>\n",
       "      <td>1.0</td>\n",
       "      <td>1.0</td>\n",
       "      <td>1.0</td>\n",
       "      <td>1.0</td>\n",
       "      <td>...</td>\n",
       "      <td>1.0</td>\n",
       "      <td>0.0</td>\n",
       "      <td>0.0</td>\n",
       "      <td>1.0</td>\n",
       "      <td>1.0</td>\n",
       "      <td>1.0</td>\n",
       "      <td>1.0</td>\n",
       "      <td>0.0</td>\n",
       "      <td>0.0</td>\n",
       "      <td>1.0</td>\n",
       "    </tr>\n",
       "    <tr>\n",
       "      <th>Runa Jensen  (Ø.)</th>\n",
       "      <td>15</td>\n",
       "      <td>Bornholm</td>\n",
       "      <td>Ø. Enhedslisten</td>\n",
       "      <td>0</td>\n",
       "      <td>Runa Jensen</td>\n",
       "      <td>1.0</td>\n",
       "      <td>1.0</td>\n",
       "      <td>1.0</td>\n",
       "      <td>2.0</td>\n",
       "      <td>2.0</td>\n",
       "      <td>...</td>\n",
       "      <td>2.0</td>\n",
       "      <td>1.0</td>\n",
       "      <td>2.0</td>\n",
       "      <td>1.0</td>\n",
       "      <td>0.0</td>\n",
       "      <td>0.0</td>\n",
       "      <td>0.0</td>\n",
       "      <td>0.0</td>\n",
       "      <td>0.0</td>\n",
       "      <td>0.0</td>\n",
       "    </tr>\n",
       "    <tr>\n",
       "      <th>Carsten Hæstrup  (V.)</th>\n",
       "      <td>1</td>\n",
       "      <td>Bornholm</td>\n",
       "      <td>V. Venstre</td>\n",
       "      <td>0</td>\n",
       "      <td>Carsten Hæstrup</td>\n",
       "      <td>0.0</td>\n",
       "      <td>0.0</td>\n",
       "      <td>1.0</td>\n",
       "      <td>0.0</td>\n",
       "      <td>0.0</td>\n",
       "      <td>...</td>\n",
       "      <td>0.0</td>\n",
       "      <td>0.0</td>\n",
       "      <td>0.0</td>\n",
       "      <td>0.0</td>\n",
       "      <td>0.0</td>\n",
       "      <td>0.0</td>\n",
       "      <td>0.0</td>\n",
       "      <td>0.0</td>\n",
       "      <td>0.0</td>\n",
       "      <td>0.0</td>\n",
       "    </tr>\n",
       "    <tr>\n",
       "      <th>Jannie Sauer (V.)</th>\n",
       "      <td>3</td>\n",
       "      <td>Bornholm</td>\n",
       "      <td>V. Venstre</td>\n",
       "      <td>0</td>\n",
       "      <td>Jannie Sauer</td>\n",
       "      <td>0.0</td>\n",
       "      <td>1.0</td>\n",
       "      <td>0.0</td>\n",
       "      <td>0.0</td>\n",
       "      <td>0.0</td>\n",
       "      <td>...</td>\n",
       "      <td>0.0</td>\n",
       "      <td>0.0</td>\n",
       "      <td>0.0</td>\n",
       "      <td>2.0</td>\n",
       "      <td>0.0</td>\n",
       "      <td>0.0</td>\n",
       "      <td>0.0</td>\n",
       "      <td>0.0</td>\n",
       "      <td>0.0</td>\n",
       "      <td>0.0</td>\n",
       "    </tr>\n",
       "  </tbody>\n",
       "</table>\n",
       "<p>18 rows × 21 columns</p>\n",
       "</div>"
      ],
      "text/plain": [
       "                                Score   Kommune  \\\n",
       "Candidate                                         \n",
       "Ronald Kofoed-Rasmussen  (A.)      18  Bornholm   \n",
       "Klaus Hermansen (Ø.)               23  Bornholm   \n",
       "Stig Westermann (Ø.)               29  Bornholm   \n",
       "João A. B. R. Møller  (B.)         27  Bornholm   \n",
       "Morten Riis (Ø.)                   16  Bornholm   \n",
       "Søren Schow (V.)                   12  Bornholm   \n",
       "Lærke Lina Skovbjerg (G.)          32  Bornholm   \n",
       "Nikolaj Fjellerad (F.)             12  Bornholm   \n",
       "Leif Olsen (F.)                    17  Bornholm   \n",
       "Bo Haxthausen (F.)                 28  Bornholm   \n",
       "Bjarne Hartung Kirkegaard (K.)     11  Bornholm   \n",
       "Niels Chresten Andersen (K.)        8  Bornholm   \n",
       "Hans Ole Bech (K.)                  6  Bornholm   \n",
       "Jacob Trøst (C.)                    3  Bornholm   \n",
       "Hartvig Mumm (K.)                  12  Bornholm   \n",
       "Runa Jensen  (Ø.)                  15  Bornholm   \n",
       "Carsten Hæstrup  (V.)               1  Bornholm   \n",
       "Jannie Sauer (V.)                   3  Bornholm   \n",
       "\n",
       "                                                         Parti Anden liste  \\\n",
       "Candidate                                                                    \n",
       "Ronald Kofoed-Rasmussen  (A.)             A. Socialdemokratiet           0   \n",
       "Klaus Hermansen (Ø.)                           Ø. Enhedslisten           0   \n",
       "Stig Westermann (Ø.)                           Ø. Enhedslisten           0   \n",
       "João A. B. R. Møller  (B.)             B. Det Radikale Venstre           0   \n",
       "Morten Riis (Ø.)                               Ø. Enhedslisten           0   \n",
       "Søren Schow (V.)                                    V. Venstre           0   \n",
       "Lærke Lina Skovbjerg (G.)                    G. Veganerpartiet           0   \n",
       "Nikolaj Fjellerad (F.)              F. Socialistisk Folkeparti           0   \n",
       "Leif Olsen (F.)                     F. Socialistisk Folkeparti           0   \n",
       "Bo Haxthausen (F.)                  F. Socialistisk Folkeparti           0   \n",
       "Bjarne Hartung Kirkegaard (K.)          K. Kristendemokraterne           0   \n",
       "Niels Chresten Andersen (K.)            K. Kristendemokraterne           0   \n",
       "Hans Ole Bech (K.)                      K. Kristendemokraterne           0   \n",
       "Jacob Trøst (C.)                C. Det Konservative Folkeparti           0   \n",
       "Hartvig Mumm (K.)                       K. Kristendemokraterne           0   \n",
       "Runa Jensen  (Ø.)                              Ø. Enhedslisten           0   \n",
       "Carsten Hæstrup  (V.)                               V. Venstre           0   \n",
       "Jannie Sauer (V.)                                   V. Venstre           0   \n",
       "\n",
       "                                                     Navn  \\\n",
       "Candidate                                                   \n",
       "Ronald Kofoed-Rasmussen  (A.)    Ronald Kofoed-Rasmussen    \n",
       "Klaus Hermansen (Ø.)                      Klaus Hermansen   \n",
       "Stig Westermann (Ø.)                      Stig Westermann   \n",
       "João A. B. R. Møller  (B.)          João A. B. R. Møller    \n",
       "Morten Riis (Ø.)                              Morten Riis   \n",
       "Søren Schow (V.)                              Søren Schow   \n",
       "Lærke Lina Skovbjerg (G.)            Lærke Lina Skovbjerg   \n",
       "Nikolaj Fjellerad (F.)                  Nikolaj Fjellerad   \n",
       "Leif Olsen (F.)                                Leif Olsen   \n",
       "Bo Haxthausen (F.)                          Bo Haxthausen   \n",
       "Bjarne Hartung Kirkegaard (K.)  Bjarne Hartung Kirkegaard   \n",
       "Niels Chresten Andersen (K.)      Niels Chresten Andersen   \n",
       "Hans Ole Bech (K.)                          Hans Ole Bech   \n",
       "Jacob Trøst (C.)                              Jacob Trøst   \n",
       "Hartvig Mumm (K.)                            Hartvig Mumm   \n",
       "Runa Jensen  (Ø.)                            Runa Jensen    \n",
       "Carsten Hæstrup  (V.)                    Carsten Hæstrup    \n",
       "Jannie Sauer (V.)                            Jannie Sauer   \n",
       "\n",
       "                                1. \"Kommunen skal prioritere, at skolerne får flere midler til indkøb af klimavenlige og bæredygtige råvarer til madkundskab\"  \\\n",
       "Candidate                                                                                                                                                       \n",
       "Ronald Kofoed-Rasmussen  (A.)                                                 2.0                                                                               \n",
       "Klaus Hermansen (Ø.)                                                          2.0                                                                               \n",
       "Stig Westermann (Ø.)                                                          2.0                                                                               \n",
       "João A. B. R. Møller  (B.)                                                    2.0                                                                               \n",
       "Morten Riis (Ø.)                                                              2.0                                                                               \n",
       "Søren Schow (V.)                                                              2.0                                                                               \n",
       "Lærke Lina Skovbjerg (G.)                                                     2.0                                                                               \n",
       "Nikolaj Fjellerad (F.)                                                        2.0                                                                               \n",
       "Leif Olsen (F.)                                                               2.0                                                                               \n",
       "Bo Haxthausen (F.)                                                            2.0                                                                               \n",
       "Bjarne Hartung Kirkegaard (K.)                                                1.0                                                                               \n",
       "Niels Chresten Andersen (K.)                                                  1.0                                                                               \n",
       "Hans Ole Bech (K.)                                                            1.0                                                                               \n",
       "Jacob Trøst (C.)                                                              1.0                                                                               \n",
       "Hartvig Mumm (K.)                                                             1.0                                                                               \n",
       "Runa Jensen  (Ø.)                                                             1.0                                                                               \n",
       "Carsten Hæstrup  (V.)                                                         0.0                                                                               \n",
       "Jannie Sauer (V.)                                                             0.0                                                                               \n",
       "\n",
       "                                2. \"Ved kommunale bevillinger til arrangementer, som involverer udgifter til mad/forplejning, skal de klimavenlige kostråd følges, og der skal altid være et plantebaseret alternativ\"  \\\n",
       "Candidate                                                                                                                                                                                                                \n",
       "Ronald Kofoed-Rasmussen  (A.)                                                 0.0                                                                                                                                        \n",
       "Klaus Hermansen (Ø.)                                                          2.0                                                                                                                                        \n",
       "Stig Westermann (Ø.)                                                          2.0                                                                                                                                        \n",
       "João A. B. R. Møller  (B.)                                                    2.0                                                                                                                                        \n",
       "Morten Riis (Ø.)                                                              2.0                                                                                                                                        \n",
       "Søren Schow (V.)                                                              0.0                                                                                                                                        \n",
       "Lærke Lina Skovbjerg (G.)                                                     2.0                                                                                                                                        \n",
       "Nikolaj Fjellerad (F.)                                                        1.0                                                                                                                                        \n",
       "Leif Olsen (F.)                                                               1.0                                                                                                                                        \n",
       "Bo Haxthausen (F.)                                                            2.0                                                                                                                                        \n",
       "Bjarne Hartung Kirkegaard (K.)                                                0.0                                                                                                                                        \n",
       "Niels Chresten Andersen (K.)                                                  1.0                                                                                                                                        \n",
       "Hans Ole Bech (K.)                                                            1.0                                                                                                                                        \n",
       "Jacob Trøst (C.)                                                              0.0                                                                                                                                        \n",
       "Hartvig Mumm (K.)                                                             1.0                                                                                                                                        \n",
       "Runa Jensen  (Ø.)                                                             1.0                                                                                                                                        \n",
       "Carsten Hæstrup  (V.)                                                         0.0                                                                                                                                        \n",
       "Jannie Sauer (V.)                                                             1.0                                                                                                                                        \n",
       "\n",
       "                                3. \"Fødevareministeriet har fået beregnet de sundhedsøkonomiske gevinster ved, at danskerne følger kostrådene. Der skal laves en tilsvarende beregning af de sundhedsøkonomiske gevinster for min kommune\"  \\\n",
       "Candidate                                                                                                                                                                                                                                    \n",
       "Ronald Kofoed-Rasmussen  (A.)                                                 1.0                                                                                                                                                            \n",
       "Klaus Hermansen (Ø.)                                                          2.0                                                                                                                                                            \n",
       "Stig Westermann (Ø.)                                                          2.0                                                                                                                                                            \n",
       "João A. B. R. Møller  (B.)                                                    1.0                                                                                                                                                            \n",
       "Morten Riis (Ø.)                                                              0.0                                                                                                                                                            \n",
       "Søren Schow (V.)                                                              0.0                                                                                                                                                            \n",
       "Lærke Lina Skovbjerg (G.)                                                     2.0                                                                                                                                                            \n",
       "Nikolaj Fjellerad (F.)                                                        0.0                                                                                                                                                            \n",
       "Leif Olsen (F.)                                                               0.0                                                                                                                                                            \n",
       "Bo Haxthausen (F.)                                                            1.0                                                                                                                                                            \n",
       "Bjarne Hartung Kirkegaard (K.)                                                0.0                                                                                                                                                            \n",
       "Niels Chresten Andersen (K.)                                                  0.0                                                                                                                                                            \n",
       "Hans Ole Bech (K.)                                                            0.0                                                                                                                                                            \n",
       "Jacob Trøst (C.)                                                              0.0                                                                                                                                                            \n",
       "Hartvig Mumm (K.)                                                             1.0                                                                                                                                                            \n",
       "Runa Jensen  (Ø.)                                                             1.0                                                                                                                                                            \n",
       "Carsten Hæstrup  (V.)                                                         1.0                                                                                                                                                            \n",
       "Jannie Sauer (V.)                                                             0.0                                                                                                                                                            \n",
       "\n",
       "                                4. \"De offentlige køkkener i kommunen skal tilbyde en vegetarisk valgmulighed; som kun består af vegetabilske fødevarer (På plejehjem, ældrecentre og ved kommunal madudbringning til ældre)\"  \\\n",
       "Candidate                                                                                                                                                                                                                       \n",
       "Ronald Kofoed-Rasmussen  (A.)                                                 2.0                                                                                                                                               \n",
       "Klaus Hermansen (Ø.)                                                          1.0                                                                                                                                               \n",
       "Stig Westermann (Ø.)                                                          2.0                                                                                                                                               \n",
       "João A. B. R. Møller  (B.)                                                    1.0                                                                                                                                               \n",
       "Morten Riis (Ø.)                                                              0.0                                                                                                                                               \n",
       "Søren Schow (V.)                                                              1.0                                                                                                                                               \n",
       "Lærke Lina Skovbjerg (G.)                                                     2.0                                                                                                                                               \n",
       "Nikolaj Fjellerad (F.)                                                        1.0                                                                                                                                               \n",
       "Leif Olsen (F.)                                                               1.0                                                                                                                                               \n",
       "Bo Haxthausen (F.)                                                            2.0                                                                                                                                               \n",
       "Bjarne Hartung Kirkegaard (K.)                                                1.0                                                                                                                                               \n",
       "Niels Chresten Andersen (K.)                                                  1.0                                                                                                                                               \n",
       "Hans Ole Bech (K.)                                                            0.0                                                                                                                                               \n",
       "Jacob Trøst (C.)                                                              0.0                                                                                                                                               \n",
       "Hartvig Mumm (K.)                                                             1.0                                                                                                                                               \n",
       "Runa Jensen  (Ø.)                                                             2.0                                                                                                                                               \n",
       "Carsten Hæstrup  (V.)                                                         0.0                                                                                                                                               \n",
       "Jannie Sauer (V.)                                                             0.0                                                                                                                                               \n",
       "\n",
       "                                5. \"De offentlige køkkener i kommunen skal tilbyde en vegetarisk valgmulighed; som kun består af vegetabilske fødevarer (I skoler)\"  \\\n",
       "Candidate                                                                                                                                                             \n",
       "Ronald Kofoed-Rasmussen  (A.)                                                 2.0                                                                                     \n",
       "Klaus Hermansen (Ø.)                                                          1.0                                                                                     \n",
       "Stig Westermann (Ø.)                                                          2.0                                                                                     \n",
       "João A. B. R. Møller  (B.)                                                    2.0                                                                                     \n",
       "Morten Riis (Ø.)                                                              2.0                                                                                     \n",
       "Søren Schow (V.)                                                              1.0                                                                                     \n",
       "Lærke Lina Skovbjerg (G.)                                                     2.0                                                                                     \n",
       "Nikolaj Fjellerad (F.)                                                        1.0                                                                                     \n",
       "Leif Olsen (F.)                                                               1.0                                                                                     \n",
       "Bo Haxthausen (F.)                                                            2.0                                                                                     \n",
       "Bjarne Hartung Kirkegaard (K.)                                                1.0                                                                                     \n",
       "Niels Chresten Andersen (K.)                                                  1.0                                                                                     \n",
       "Hans Ole Bech (K.)                                                            0.0                                                                                     \n",
       "Jacob Trøst (C.)                                                              0.0                                                                                     \n",
       "Hartvig Mumm (K.)                                                             1.0                                                                                     \n",
       "Runa Jensen  (Ø.)                                                             2.0                                                                                     \n",
       "Carsten Hæstrup  (V.)                                                         0.0                                                                                     \n",
       "Jannie Sauer (V.)                                                             0.0                                                                                     \n",
       "\n",
       "                                ...  \\\n",
       "Candidate                       ...   \n",
       "Ronald Kofoed-Rasmussen  (A.)   ...   \n",
       "Klaus Hermansen (Ø.)            ...   \n",
       "Stig Westermann (Ø.)            ...   \n",
       "João A. B. R. Møller  (B.)      ...   \n",
       "Morten Riis (Ø.)                ...   \n",
       "Søren Schow (V.)                ...   \n",
       "Lærke Lina Skovbjerg (G.)       ...   \n",
       "Nikolaj Fjellerad (F.)          ...   \n",
       "Leif Olsen (F.)                 ...   \n",
       "Bo Haxthausen (F.)              ...   \n",
       "Bjarne Hartung Kirkegaard (K.)  ...   \n",
       "Niels Chresten Andersen (K.)    ...   \n",
       "Hans Ole Bech (K.)              ...   \n",
       "Jacob Trøst (C.)                ...   \n",
       "Hartvig Mumm (K.)               ...   \n",
       "Runa Jensen  (Ø.)               ...   \n",
       "Carsten Hæstrup  (V.)           ...   \n",
       "Jannie Sauer (V.)               ...   \n",
       "\n",
       "                                7. \"De offentlige køkkener i kommunen skal tilbyde en vegetarisk valgmulighed; som kun består af vegetabilske fødevarer (På kommunale arbejdspladser)\"  \\\n",
       "Candidate                                                                                                                                                                                \n",
       "Ronald Kofoed-Rasmussen  (A.)                                                 2.0                                                                                                        \n",
       "Klaus Hermansen (Ø.)                                                          1.0                                                                                                        \n",
       "Stig Westermann (Ø.)                                                          2.0                                                                                                        \n",
       "João A. B. R. Møller  (B.)                                                    1.0                                                                                                        \n",
       "Morten Riis (Ø.)                                                              2.0                                                                                                        \n",
       "Søren Schow (V.)                                                              1.0                                                                                                        \n",
       "Lærke Lina Skovbjerg (G.)                                                     2.0                                                                                                        \n",
       "Nikolaj Fjellerad (F.)                                                        2.0                                                                                                        \n",
       "Leif Olsen (F.)                                                               1.0                                                                                                        \n",
       "Bo Haxthausen (F.)                                                            2.0                                                                                                        \n",
       "Bjarne Hartung Kirkegaard (K.)                                                1.0                                                                                                        \n",
       "Niels Chresten Andersen (K.)                                                  1.0                                                                                                        \n",
       "Hans Ole Bech (K.)                                                            1.0                                                                                                        \n",
       "Jacob Trøst (C.)                                                              0.0                                                                                                        \n",
       "Hartvig Mumm (K.)                                                             1.0                                                                                                        \n",
       "Runa Jensen  (Ø.)                                                             2.0                                                                                                        \n",
       "Carsten Hæstrup  (V.)                                                         0.0                                                                                                        \n",
       "Jannie Sauer (V.)                                                             0.0                                                                                                        \n",
       "\n",
       "                                8. \"Alle offentlige køkkener i kommunen skal som udgangspunkt servere en 100 % plantebaseret kost, hvor eventuelle animalske fødevarer er et aktivt tilvalg\"  \\\n",
       "Candidate                                                                                                                                                                                      \n",
       "Ronald Kofoed-Rasmussen  (A.)                                                 0.0                                                                                                              \n",
       "Klaus Hermansen (Ø.)                                                          1.0                                                                                                              \n",
       "Stig Westermann (Ø.)                                                          1.0                                                                                                              \n",
       "João A. B. R. Møller  (B.)                                                    1.0                                                                                                              \n",
       "Morten Riis (Ø.)                                                              2.0                                                                                                              \n",
       "Søren Schow (V.)                                                              0.0                                                                                                              \n",
       "Lærke Lina Skovbjerg (G.)                                                     2.0                                                                                                              \n",
       "Nikolaj Fjellerad (F.)                                                        0.0                                                                                                              \n",
       "Leif Olsen (F.)                                                               0.0                                                                                                              \n",
       "Bo Haxthausen (F.)                                                            1.0                                                                                                              \n",
       "Bjarne Hartung Kirkegaard (K.)                                                0.0                                                                                                              \n",
       "Niels Chresten Andersen (K.)                                                  0.0                                                                                                              \n",
       "Hans Ole Bech (K.)                                                            0.0                                                                                                              \n",
       "Jacob Trøst (C.)                                                              0.0                                                                                                              \n",
       "Hartvig Mumm (K.)                                                             0.0                                                                                                              \n",
       "Runa Jensen  (Ø.)                                                             1.0                                                                                                              \n",
       "Carsten Hæstrup  (V.)                                                         0.0                                                                                                              \n",
       "Jannie Sauer (V.)                                                             0.0                                                                                                              \n",
       "\n",
       "                                9. \"Alle skolers mælkeordninger skal tilbyde en plantebaseret drik\"  \\\n",
       "Candidate                                                                                             \n",
       "Ronald Kofoed-Rasmussen  (A.)                                                 0.0                     \n",
       "Klaus Hermansen (Ø.)                                                          2.0                     \n",
       "Stig Westermann (Ø.)                                                          2.0                     \n",
       "João A. B. R. Møller  (B.)                                                    2.0                     \n",
       "Morten Riis (Ø.)                                                              2.0                     \n",
       "Søren Schow (V.)                                                              0.0                     \n",
       "Lærke Lina Skovbjerg (G.)                                                     2.0                     \n",
       "Nikolaj Fjellerad (F.)                                                        1.0                     \n",
       "Leif Olsen (F.)                                                               0.0                     \n",
       "Bo Haxthausen (F.)                                                            2.0                     \n",
       "Bjarne Hartung Kirkegaard (K.)                                                1.0                     \n",
       "Niels Chresten Andersen (K.)                                                  0.0                     \n",
       "Hans Ole Bech (K.)                                                            1.0                     \n",
       "Jacob Trøst (C.)                                                              1.0                     \n",
       "Hartvig Mumm (K.)                                                             0.0                     \n",
       "Runa Jensen  (Ø.)                                                             2.0                     \n",
       "Carsten Hæstrup  (V.)                                                         0.0                     \n",
       "Jannie Sauer (V.)                                                             0.0                     \n",
       "\n",
       "                                10. Nogle d1ginstitutioner h1r en politik om, 1t børnene sk1l s1mles om et fælles måltid. I nogle 1f de institutioner tilbydes der dog ikke s1mtidigt det mest klim1venlige måltid – et pl1nteb1seret måltid. Det betyder, 1t f1milier, som h1r v1lgt 1t leve klim1venligt, ikke k1n få deres ønske opfyldt, fordi det er i konflikt med politikken om et fælles måltid. Hv1d sk1l kommunens måltidspolitik være?   \\\n",
       "Candidate                                                                                                                                                                                                                                                                                                                                                                                                                                            \n",
       "Ronald Kofoed-Rasmussen  (A.)                                                 0.0                                                                                                                                                                                                                                                                                                                                                                    \n",
       "Klaus Hermansen (Ø.)                                                          2.0                                                                                                                                                                                                                                                                                                                                                                    \n",
       "Stig Westermann (Ø.)                                                          2.0                                                                                                                                                                                                                                                                                                                                                                    \n",
       "João A. B. R. Møller  (B.)                                                    1.0                                                                                                                                                                                                                                                                                                                                                                    \n",
       "Morten Riis (Ø.)                                                              2.0                                                                                                                                                                                                                                                                                                                                                                    \n",
       "Søren Schow (V.)                                                              0.0                                                                                                                                                                                                                                                                                                                                                                    \n",
       "Lærke Lina Skovbjerg (G.)                                                     2.0                                                                                                                                                                                                                                                                                                                                                                    \n",
       "Nikolaj Fjellerad (F.)                                                        0.0                                                                                                                                                                                                                                                                                                                                                                    \n",
       "Leif Olsen (F.)                                                               1.0                                                                                                                                                                                                                                                                                                                                                                    \n",
       "Bo Haxthausen (F.)                                                            1.0                                                                                                                                                                                                                                                                                                                                                                    \n",
       "Bjarne Hartung Kirkegaard (K.)                                                1.0                                                                                                                                                                                                                                                                                                                                                                    \n",
       "Niels Chresten Andersen (K.)                                                  1.0                                                                                                                                                                                                                                                                                                                                                                    \n",
       "Hans Ole Bech (K.)                                                            0.0                                                                                                                                                                                                                                                                                                                                                                    \n",
       "Jacob Trøst (C.)                                                              0.0                                                                                                                                                                                                                                                                                                                                                                    \n",
       "Hartvig Mumm (K.)                                                             1.0                                                                                                                                                                                                                                                                                                                                                                    \n",
       "Runa Jensen  (Ø.)                                                             1.0                                                                                                                                                                                                                                                                                                                                                                    \n",
       "Carsten Hæstrup  (V.)                                                         0.0                                                                                                                                                                                                                                                                                                                                                                    \n",
       "Jannie Sauer (V.)                                                             2.0                                                                                                                                                                                                                                                                                                                                                                    \n",
       "\n",
       "                                11. \"Kommunen skal opstille en målsætning om 25 % CO2-reduktion i 2025 fra maden i de offentlige køkkener (referenceåret for sammenligningen er 2020)\"  \\\n",
       "Candidate                                                                                                                                                                                \n",
       "Ronald Kofoed-Rasmussen  (A.)                                                 2.0                                                                                                        \n",
       "Klaus Hermansen (Ø.)                                                          2.0                                                                                                        \n",
       "Stig Westermann (Ø.)                                                          2.0                                                                                                        \n",
       "João A. B. R. Møller  (B.)                                                    2.0                                                                                                        \n",
       "Morten Riis (Ø.)                                                              0.0                                                                                                        \n",
       "Søren Schow (V.)                                                              1.0                                                                                                        \n",
       "Lærke Lina Skovbjerg (G.)                                                     2.0                                                                                                        \n",
       "Nikolaj Fjellerad (F.)                                                        1.0                                                                                                        \n",
       "Leif Olsen (F.)                                                               2.0                                                                                                        \n",
       "Bo Haxthausen (F.)                                                            2.0                                                                                                        \n",
       "Bjarne Hartung Kirkegaard (K.)                                                1.0                                                                                                        \n",
       "Niels Chresten Andersen (K.)                                                  0.0                                                                                                        \n",
       "Hans Ole Bech (K.)                                                            0.0                                                                                                        \n",
       "Jacob Trøst (C.)                                                              0.0                                                                                                        \n",
       "Hartvig Mumm (K.)                                                             1.0                                                                                                        \n",
       "Runa Jensen  (Ø.)                                                             0.0                                                                                                        \n",
       "Carsten Hæstrup  (V.)                                                         0.0                                                                                                        \n",
       "Jannie Sauer (V.)                                                             0.0                                                                                                        \n",
       "\n",
       "                                12. \"Kommunen skal opstille en målsætning om 50 % CO2-reduktion i 2030 fra maden i de offentlige køkkener (referenceåret for sammenligningen er 2020)\"  \\\n",
       "Candidate                                                                                                                                                                                \n",
       "Ronald Kofoed-Rasmussen  (A.)                                                 2.0                                                                                                        \n",
       "Klaus Hermansen (Ø.)                                                          2.0                                                                                                        \n",
       "Stig Westermann (Ø.)                                                          2.0                                                                                                        \n",
       "João A. B. R. Møller  (B.)                                                    2.0                                                                                                        \n",
       "Morten Riis (Ø.)                                                              0.0                                                                                                        \n",
       "Søren Schow (V.)                                                              1.0                                                                                                        \n",
       "Lærke Lina Skovbjerg (G.)                                                     2.0                                                                                                        \n",
       "Nikolaj Fjellerad (F.)                                                        0.0                                                                                                        \n",
       "Leif Olsen (F.)                                                               2.0                                                                                                        \n",
       "Bo Haxthausen (F.)                                                            2.0                                                                                                        \n",
       "Bjarne Hartung Kirkegaard (K.)                                                1.0                                                                                                        \n",
       "Niels Chresten Andersen (K.)                                                  0.0                                                                                                        \n",
       "Hans Ole Bech (K.)                                                            0.0                                                                                                        \n",
       "Jacob Trøst (C.)                                                              0.0                                                                                                        \n",
       "Hartvig Mumm (K.)                                                             1.0                                                                                                        \n",
       "Runa Jensen  (Ø.)                                                             0.0                                                                                                        \n",
       "Carsten Hæstrup  (V.)                                                         0.0                                                                                                        \n",
       "Jannie Sauer (V.)                                                             0.0                                                                                                        \n",
       "\n",
       "                                13. \"Min kommune skal erklære sig som foregangskommune og udarbejde en strategi for plantebaserede fødevarer fra jord til bord\"  \\\n",
       "Candidate                                                                                                                                                         \n",
       "Ronald Kofoed-Rasmussen  (A.)                                                 1.0                                                                                 \n",
       "Klaus Hermansen (Ø.)                                                          1.0                                                                                 \n",
       "Stig Westermann (Ø.)                                                          2.0                                                                                 \n",
       "João A. B. R. Møller  (B.)                                                    2.0                                                                                 \n",
       "Morten Riis (Ø.)                                                              0.0                                                                                 \n",
       "Søren Schow (V.)                                                              0.0                                                                                 \n",
       "Lærke Lina Skovbjerg (G.)                                                     2.0                                                                                 \n",
       "Nikolaj Fjellerad (F.)                                                        0.0                                                                                 \n",
       "Leif Olsen (F.)                                                               0.0                                                                                 \n",
       "Bo Haxthausen (F.)                                                            1.0                                                                                 \n",
       "Bjarne Hartung Kirkegaard (K.)                                                0.0                                                                                 \n",
       "Niels Chresten Andersen (K.)                                                  0.0                                                                                 \n",
       "Hans Ole Bech (K.)                                                            0.0                                                                                 \n",
       "Jacob Trøst (C.)                                                              0.0                                                                                 \n",
       "Hartvig Mumm (K.)                                                             1.0                                                                                 \n",
       "Runa Jensen  (Ø.)                                                             0.0                                                                                 \n",
       "Carsten Hæstrup  (V.)                                                         0.0                                                                                 \n",
       "Jannie Sauer (V.)                                                             0.0                                                                                 \n",
       "\n",
       "                                14. Konkret borgernær case (daginstitution)*  \\\n",
       "Candidate                                                                      \n",
       "Ronald Kofoed-Rasmussen  (A.)                                            0.0   \n",
       "Klaus Hermansen (Ø.)                                                     1.0   \n",
       "Stig Westermann (Ø.)                                                     2.0   \n",
       "João A. B. R. Møller  (B.)                                               2.0   \n",
       "Morten Riis (Ø.)                                                         0.0   \n",
       "Søren Schow (V.)                                                         0.0   \n",
       "Lærke Lina Skovbjerg (G.)                                                2.0   \n",
       "Nikolaj Fjellerad (F.)                                                   1.0   \n",
       "Leif Olsen (F.)                                                          1.0   \n",
       "Bo Haxthausen (F.)                                                       2.0   \n",
       "Bjarne Hartung Kirkegaard (K.)                                           1.0   \n",
       "Niels Chresten Andersen (K.)                                             0.0   \n",
       "Hans Ole Bech (K.)                                                       0.0   \n",
       "Jacob Trøst (C.)                                                         0.0   \n",
       "Hartvig Mumm (K.)                                                        0.0   \n",
       "Runa Jensen  (Ø.)                                                        0.0   \n",
       "Carsten Hæstrup  (V.)                                                    0.0   \n",
       "Jannie Sauer (V.)                                                        0.0   \n",
       "\n",
       "                                15 \"Kommunen skal oprette forsøgspuljer til at fremme økologisk plantebaseret iværksætteri\"  \\\n",
       "Candidate                                                                                                                     \n",
       "Ronald Kofoed-Rasmussen  (A.)                                                 1.0                                             \n",
       "Klaus Hermansen (Ø.)                                                          1.0                                             \n",
       "Stig Westermann (Ø.)                                                          1.0                                             \n",
       "João A. B. R. Møller  (B.)                                                    2.0                                             \n",
       "Morten Riis (Ø.)                                                              0.0                                             \n",
       "Søren Schow (V.)                                                              2.0                                             \n",
       "Lærke Lina Skovbjerg (G.)                                                     2.0                                             \n",
       "Nikolaj Fjellerad (F.)                                                        1.0                                             \n",
       "Leif Olsen (F.)                                                               2.0                                             \n",
       "Bo Haxthausen (F.)                                                            2.0                                             \n",
       "Bjarne Hartung Kirkegaard (K.)                                                0.0                                             \n",
       "Niels Chresten Andersen (K.)                                                  0.0                                             \n",
       "Hans Ole Bech (K.)                                                            1.0                                             \n",
       "Jacob Trøst (C.)                                                              1.0                                             \n",
       "Hartvig Mumm (K.)                                                             0.0                                             \n",
       "Runa Jensen  (Ø.)                                                             0.0                                             \n",
       "Carsten Hæstrup  (V.)                                                         0.0                                             \n",
       "Jannie Sauer (V.)                                                             0.0                                             \n",
       "\n",
       "                                16. \"Kommunen skal afsætte penge til efteruddannelse af kommunens køkkenpersonale inden for tilberedning af klimavenlig, økologisk og plantebaseret mad\"  \n",
       "Candidate                                                                                                                                                                                 \n",
       "Ronald Kofoed-Rasmussen  (A.)                                                 1.0                                                                                                         \n",
       "Klaus Hermansen (Ø.)                                                          1.0                                                                                                         \n",
       "Stig Westermann (Ø.)                                                          1.0                                                                                                         \n",
       "João A. B. R. Møller  (B.)                                                    2.0                                                                                                         \n",
       "Morten Riis (Ø.)                                                              0.0                                                                                                         \n",
       "Søren Schow (V.)                                                              2.0                                                                                                         \n",
       "Lærke Lina Skovbjerg (G.)                                                     2.0                                                                                                         \n",
       "Nikolaj Fjellerad (F.)                                                        1.0                                                                                                         \n",
       "Leif Olsen (F.)                                                               2.0                                                                                                         \n",
       "Bo Haxthausen (F.)                                                            2.0                                                                                                         \n",
       "Bjarne Hartung Kirkegaard (K.)                                                1.0                                                                                                         \n",
       "Niels Chresten Andersen (K.)                                                  1.0                                                                                                         \n",
       "Hans Ole Bech (K.)                                                            1.0                                                                                                         \n",
       "Jacob Trøst (C.)                                                              0.0                                                                                                         \n",
       "Hartvig Mumm (K.)                                                             1.0                                                                                                         \n",
       "Runa Jensen  (Ø.)                                                             0.0                                                                                                         \n",
       "Carsten Hæstrup  (V.)                                                         0.0                                                                                                         \n",
       "Jannie Sauer (V.)                                                             0.0                                                                                                         \n",
       "\n",
       "[18 rows x 21 columns]"
      ]
     },
     "execution_count": 88,
     "metadata": {},
     "output_type": "execute_result"
    }
   ],
   "source": [
    "df_temp"
   ]
  },
  {
   "cell_type": "code",
   "execution_count": 89,
   "id": "f6fa08a8",
   "metadata": {},
   "outputs": [
    {
     "data": {
      "application/vnd.plotly.v1+json": {
       "config": {
        "plotlyServerURL": "https://plot.ly"
       },
       "data": [
        {
         "domain": {
          "x": [
           0,
           0.45
          ],
          "y": [
           0,
           1
          ]
         },
         "hole": 0.6,
         "labels": [
          "Enig",
          "Delvist Enig",
          "Uenig"
         ],
         "marker": {
          "colors": [
           "rgb(15,122,55)",
           "rgb(169,220,163)",
           "rgb(218,241,212)"
          ]
         },
         "type": "pie",
         "values": [
          2,
          6,
          10
         ]
        },
        {
         "domain": {
          "x": [
           0.55,
           1
          ],
          "y": [
           0,
           1
          ]
         },
         "hole": 0.6,
         "labels": [
          "Uenig",
          "Delvist Enig",
          "Enig"
         ],
         "marker": {
          "colors": [
           "rgb(218,241,212)",
           "rgb(169,220,163)",
           "rgb(15,122,55)"
          ]
         },
         "type": "pie",
         "values": [
          164,
          495,
          709
         ]
        },
        {
         "domain": {
          "x": [
           0,
           0.45
          ],
          "y": [
           0,
           1
          ]
         },
         "labels": [
          "Bornholm"
         ],
         "parents": [
          ""
         ],
         "type": "sunburst",
         "values": [
          1
         ]
        },
        {
         "domain": {
          "x": [
           0.55,
           1
          ],
          "y": [
           0,
           1
          ]
         },
         "labels": [
          "Danmark"
         ],
         "parents": [
          ""
         ],
         "type": "sunburst",
         "values": [
          1
         ]
        }
       ],
       "layout": {
        "autosize": false,
        "height": 720,
        "template": {
         "data": {
          "bar": [
           {
            "error_x": {
             "color": "#2a3f5f"
            },
            "error_y": {
             "color": "#2a3f5f"
            },
            "marker": {
             "line": {
              "color": "#E5ECF6",
              "width": 0.5
             },
             "pattern": {
              "fillmode": "overlay",
              "size": 10,
              "solidity": 0.2
             }
            },
            "type": "bar"
           }
          ],
          "barpolar": [
           {
            "marker": {
             "line": {
              "color": "#E5ECF6",
              "width": 0.5
             },
             "pattern": {
              "fillmode": "overlay",
              "size": 10,
              "solidity": 0.2
             }
            },
            "type": "barpolar"
           }
          ],
          "carpet": [
           {
            "aaxis": {
             "endlinecolor": "#2a3f5f",
             "gridcolor": "white",
             "linecolor": "white",
             "minorgridcolor": "white",
             "startlinecolor": "#2a3f5f"
            },
            "baxis": {
             "endlinecolor": "#2a3f5f",
             "gridcolor": "white",
             "linecolor": "white",
             "minorgridcolor": "white",
             "startlinecolor": "#2a3f5f"
            },
            "type": "carpet"
           }
          ],
          "choropleth": [
           {
            "colorbar": {
             "outlinewidth": 0,
             "ticks": ""
            },
            "type": "choropleth"
           }
          ],
          "contour": [
           {
            "colorbar": {
             "outlinewidth": 0,
             "ticks": ""
            },
            "colorscale": [
             [
              0,
              "#0d0887"
             ],
             [
              0.1111111111111111,
              "#46039f"
             ],
             [
              0.2222222222222222,
              "#7201a8"
             ],
             [
              0.3333333333333333,
              "#9c179e"
             ],
             [
              0.4444444444444444,
              "#bd3786"
             ],
             [
              0.5555555555555556,
              "#d8576b"
             ],
             [
              0.6666666666666666,
              "#ed7953"
             ],
             [
              0.7777777777777778,
              "#fb9f3a"
             ],
             [
              0.8888888888888888,
              "#fdca26"
             ],
             [
              1,
              "#f0f921"
             ]
            ],
            "type": "contour"
           }
          ],
          "contourcarpet": [
           {
            "colorbar": {
             "outlinewidth": 0,
             "ticks": ""
            },
            "type": "contourcarpet"
           }
          ],
          "heatmap": [
           {
            "colorbar": {
             "outlinewidth": 0,
             "ticks": ""
            },
            "colorscale": [
             [
              0,
              "#0d0887"
             ],
             [
              0.1111111111111111,
              "#46039f"
             ],
             [
              0.2222222222222222,
              "#7201a8"
             ],
             [
              0.3333333333333333,
              "#9c179e"
             ],
             [
              0.4444444444444444,
              "#bd3786"
             ],
             [
              0.5555555555555556,
              "#d8576b"
             ],
             [
              0.6666666666666666,
              "#ed7953"
             ],
             [
              0.7777777777777778,
              "#fb9f3a"
             ],
             [
              0.8888888888888888,
              "#fdca26"
             ],
             [
              1,
              "#f0f921"
             ]
            ],
            "type": "heatmap"
           }
          ],
          "heatmapgl": [
           {
            "colorbar": {
             "outlinewidth": 0,
             "ticks": ""
            },
            "colorscale": [
             [
              0,
              "#0d0887"
             ],
             [
              0.1111111111111111,
              "#46039f"
             ],
             [
              0.2222222222222222,
              "#7201a8"
             ],
             [
              0.3333333333333333,
              "#9c179e"
             ],
             [
              0.4444444444444444,
              "#bd3786"
             ],
             [
              0.5555555555555556,
              "#d8576b"
             ],
             [
              0.6666666666666666,
              "#ed7953"
             ],
             [
              0.7777777777777778,
              "#fb9f3a"
             ],
             [
              0.8888888888888888,
              "#fdca26"
             ],
             [
              1,
              "#f0f921"
             ]
            ],
            "type": "heatmapgl"
           }
          ],
          "histogram": [
           {
            "marker": {
             "pattern": {
              "fillmode": "overlay",
              "size": 10,
              "solidity": 0.2
             }
            },
            "type": "histogram"
           }
          ],
          "histogram2d": [
           {
            "colorbar": {
             "outlinewidth": 0,
             "ticks": ""
            },
            "colorscale": [
             [
              0,
              "#0d0887"
             ],
             [
              0.1111111111111111,
              "#46039f"
             ],
             [
              0.2222222222222222,
              "#7201a8"
             ],
             [
              0.3333333333333333,
              "#9c179e"
             ],
             [
              0.4444444444444444,
              "#bd3786"
             ],
             [
              0.5555555555555556,
              "#d8576b"
             ],
             [
              0.6666666666666666,
              "#ed7953"
             ],
             [
              0.7777777777777778,
              "#fb9f3a"
             ],
             [
              0.8888888888888888,
              "#fdca26"
             ],
             [
              1,
              "#f0f921"
             ]
            ],
            "type": "histogram2d"
           }
          ],
          "histogram2dcontour": [
           {
            "colorbar": {
             "outlinewidth": 0,
             "ticks": ""
            },
            "colorscale": [
             [
              0,
              "#0d0887"
             ],
             [
              0.1111111111111111,
              "#46039f"
             ],
             [
              0.2222222222222222,
              "#7201a8"
             ],
             [
              0.3333333333333333,
              "#9c179e"
             ],
             [
              0.4444444444444444,
              "#bd3786"
             ],
             [
              0.5555555555555556,
              "#d8576b"
             ],
             [
              0.6666666666666666,
              "#ed7953"
             ],
             [
              0.7777777777777778,
              "#fb9f3a"
             ],
             [
              0.8888888888888888,
              "#fdca26"
             ],
             [
              1,
              "#f0f921"
             ]
            ],
            "type": "histogram2dcontour"
           }
          ],
          "mesh3d": [
           {
            "colorbar": {
             "outlinewidth": 0,
             "ticks": ""
            },
            "type": "mesh3d"
           }
          ],
          "parcoords": [
           {
            "line": {
             "colorbar": {
              "outlinewidth": 0,
              "ticks": ""
             }
            },
            "type": "parcoords"
           }
          ],
          "pie": [
           {
            "automargin": true,
            "type": "pie"
           }
          ],
          "scatter": [
           {
            "fillpattern": {
             "fillmode": "overlay",
             "size": 10,
             "solidity": 0.2
            },
            "type": "scatter"
           }
          ],
          "scatter3d": [
           {
            "line": {
             "colorbar": {
              "outlinewidth": 0,
              "ticks": ""
             }
            },
            "marker": {
             "colorbar": {
              "outlinewidth": 0,
              "ticks": ""
             }
            },
            "type": "scatter3d"
           }
          ],
          "scattercarpet": [
           {
            "marker": {
             "colorbar": {
              "outlinewidth": 0,
              "ticks": ""
             }
            },
            "type": "scattercarpet"
           }
          ],
          "scattergeo": [
           {
            "marker": {
             "colorbar": {
              "outlinewidth": 0,
              "ticks": ""
             }
            },
            "type": "scattergeo"
           }
          ],
          "scattergl": [
           {
            "marker": {
             "colorbar": {
              "outlinewidth": 0,
              "ticks": ""
             }
            },
            "type": "scattergl"
           }
          ],
          "scattermapbox": [
           {
            "marker": {
             "colorbar": {
              "outlinewidth": 0,
              "ticks": ""
             }
            },
            "type": "scattermapbox"
           }
          ],
          "scatterpolar": [
           {
            "marker": {
             "colorbar": {
              "outlinewidth": 0,
              "ticks": ""
             }
            },
            "type": "scatterpolar"
           }
          ],
          "scatterpolargl": [
           {
            "marker": {
             "colorbar": {
              "outlinewidth": 0,
              "ticks": ""
             }
            },
            "type": "scatterpolargl"
           }
          ],
          "scatterternary": [
           {
            "marker": {
             "colorbar": {
              "outlinewidth": 0,
              "ticks": ""
             }
            },
            "type": "scatterternary"
           }
          ],
          "surface": [
           {
            "colorbar": {
             "outlinewidth": 0,
             "ticks": ""
            },
            "colorscale": [
             [
              0,
              "#0d0887"
             ],
             [
              0.1111111111111111,
              "#46039f"
             ],
             [
              0.2222222222222222,
              "#7201a8"
             ],
             [
              0.3333333333333333,
              "#9c179e"
             ],
             [
              0.4444444444444444,
              "#bd3786"
             ],
             [
              0.5555555555555556,
              "#d8576b"
             ],
             [
              0.6666666666666666,
              "#ed7953"
             ],
             [
              0.7777777777777778,
              "#fb9f3a"
             ],
             [
              0.8888888888888888,
              "#fdca26"
             ],
             [
              1,
              "#f0f921"
             ]
            ],
            "type": "surface"
           }
          ],
          "table": [
           {
            "cells": {
             "fill": {
              "color": "#EBF0F8"
             },
             "line": {
              "color": "white"
             }
            },
            "header": {
             "fill": {
              "color": "#C8D4E3"
             },
             "line": {
              "color": "white"
             }
            },
            "type": "table"
           }
          ]
         },
         "layout": {
          "annotationdefaults": {
           "arrowcolor": "#2a3f5f",
           "arrowhead": 0,
           "arrowwidth": 1
          },
          "autotypenumbers": "strict",
          "coloraxis": {
           "colorbar": {
            "outlinewidth": 0,
            "ticks": ""
           }
          },
          "colorscale": {
           "diverging": [
            [
             0,
             "#8e0152"
            ],
            [
             0.1,
             "#c51b7d"
            ],
            [
             0.2,
             "#de77ae"
            ],
            [
             0.3,
             "#f1b6da"
            ],
            [
             0.4,
             "#fde0ef"
            ],
            [
             0.5,
             "#f7f7f7"
            ],
            [
             0.6,
             "#e6f5d0"
            ],
            [
             0.7,
             "#b8e186"
            ],
            [
             0.8,
             "#7fbc41"
            ],
            [
             0.9,
             "#4d9221"
            ],
            [
             1,
             "#276419"
            ]
           ],
           "sequential": [
            [
             0,
             "#0d0887"
            ],
            [
             0.1111111111111111,
             "#46039f"
            ],
            [
             0.2222222222222222,
             "#7201a8"
            ],
            [
             0.3333333333333333,
             "#9c179e"
            ],
            [
             0.4444444444444444,
             "#bd3786"
            ],
            [
             0.5555555555555556,
             "#d8576b"
            ],
            [
             0.6666666666666666,
             "#ed7953"
            ],
            [
             0.7777777777777778,
             "#fb9f3a"
            ],
            [
             0.8888888888888888,
             "#fdca26"
            ],
            [
             1,
             "#f0f921"
            ]
           ],
           "sequentialminus": [
            [
             0,
             "#0d0887"
            ],
            [
             0.1111111111111111,
             "#46039f"
            ],
            [
             0.2222222222222222,
             "#7201a8"
            ],
            [
             0.3333333333333333,
             "#9c179e"
            ],
            [
             0.4444444444444444,
             "#bd3786"
            ],
            [
             0.5555555555555556,
             "#d8576b"
            ],
            [
             0.6666666666666666,
             "#ed7953"
            ],
            [
             0.7777777777777778,
             "#fb9f3a"
            ],
            [
             0.8888888888888888,
             "#fdca26"
            ],
            [
             1,
             "#f0f921"
            ]
           ]
          },
          "colorway": [
           "#636efa",
           "#EF553B",
           "#00cc96",
           "#ab63fa",
           "#FFA15A",
           "#19d3f3",
           "#FF6692",
           "#B6E880",
           "#FF97FF",
           "#FECB52"
          ],
          "font": {
           "color": "#2a3f5f"
          },
          "geo": {
           "bgcolor": "white",
           "lakecolor": "white",
           "landcolor": "#E5ECF6",
           "showlakes": true,
           "showland": true,
           "subunitcolor": "white"
          },
          "hoverlabel": {
           "align": "left"
          },
          "hovermode": "closest",
          "mapbox": {
           "style": "light"
          },
          "paper_bgcolor": "white",
          "plot_bgcolor": "#E5ECF6",
          "polar": {
           "angularaxis": {
            "gridcolor": "white",
            "linecolor": "white",
            "ticks": ""
           },
           "bgcolor": "#E5ECF6",
           "radialaxis": {
            "gridcolor": "white",
            "linecolor": "white",
            "ticks": ""
           }
          },
          "scene": {
           "xaxis": {
            "backgroundcolor": "#E5ECF6",
            "gridcolor": "white",
            "gridwidth": 2,
            "linecolor": "white",
            "showbackground": true,
            "ticks": "",
            "zerolinecolor": "white"
           },
           "yaxis": {
            "backgroundcolor": "#E5ECF6",
            "gridcolor": "white",
            "gridwidth": 2,
            "linecolor": "white",
            "showbackground": true,
            "ticks": "",
            "zerolinecolor": "white"
           },
           "zaxis": {
            "backgroundcolor": "#E5ECF6",
            "gridcolor": "white",
            "gridwidth": 2,
            "linecolor": "white",
            "showbackground": true,
            "ticks": "",
            "zerolinecolor": "white"
           }
          },
          "shapedefaults": {
           "line": {
            "color": "#2a3f5f"
           }
          },
          "ternary": {
           "aaxis": {
            "gridcolor": "white",
            "linecolor": "white",
            "ticks": ""
           },
           "baxis": {
            "gridcolor": "white",
            "linecolor": "white",
            "ticks": ""
           },
           "bgcolor": "#E5ECF6",
           "caxis": {
            "gridcolor": "white",
            "linecolor": "white",
            "ticks": ""
           }
          },
          "title": {
           "x": 0.05
          },
          "xaxis": {
           "automargin": true,
           "gridcolor": "white",
           "linecolor": "white",
           "ticks": "",
           "title": {
            "standoff": 15
           },
           "zerolinecolor": "white",
           "zerolinewidth": 2
          },
          "yaxis": {
           "automargin": true,
           "gridcolor": "white",
           "linecolor": "white",
           "ticks": "",
           "title": {
            "standoff": 15
           },
           "zerolinecolor": "white",
           "zerolinewidth": 2
          }
         }
        },
        "width": 1200
       }
      },
      "text/html": [
       "<div>                            <div id=\"71b612e4-1dd7-4f2d-b8e1-45f8765f4c96\" class=\"plotly-graph-div\" style=\"height:720px; width:1200px;\"></div>            <script type=\"text/javascript\">                require([\"plotly\"], function(Plotly) {                    window.PLOTLYENV=window.PLOTLYENV || {};                                    if (document.getElementById(\"71b612e4-1dd7-4f2d-b8e1-45f8765f4c96\")) {                    Plotly.newPlot(                        \"71b612e4-1dd7-4f2d-b8e1-45f8765f4c96\",                        [{\"hole\":0.6,\"labels\":[\"Enig\",\"Delvist Enig\",\"Uenig\"],\"marker\":{\"colors\":[\"rgb(15,122,55)\",\"rgb(169,220,163)\",\"rgb(218,241,212)\"]},\"values\":[2,6,10],\"type\":\"pie\",\"domain\":{\"x\":[0.0,0.45],\"y\":[0.0,1.0]}},{\"hole\":0.6,\"labels\":[\"Uenig\",\"Delvist Enig\",\"Enig\"],\"marker\":{\"colors\":[\"rgb(218,241,212)\",\"rgb(169,220,163)\",\"rgb(15,122,55)\"]},\"values\":[164,495,709],\"type\":\"pie\",\"domain\":{\"x\":[0.55,1.0],\"y\":[0.0,1.0]}},{\"labels\":[\"Bornholm\"],\"parents\":[\"\"],\"values\":[1],\"type\":\"sunburst\",\"domain\":{\"x\":[0.0,0.45],\"y\":[0.0,1.0]}},{\"labels\":[\"Danmark\"],\"parents\":[\"\"],\"values\":[1],\"type\":\"sunburst\",\"domain\":{\"x\":[0.55,1.0],\"y\":[0.0,1.0]}}],                        {\"template\":{\"data\":{\"histogram2dcontour\":[{\"type\":\"histogram2dcontour\",\"colorbar\":{\"outlinewidth\":0,\"ticks\":\"\"},\"colorscale\":[[0.0,\"#0d0887\"],[0.1111111111111111,\"#46039f\"],[0.2222222222222222,\"#7201a8\"],[0.3333333333333333,\"#9c179e\"],[0.4444444444444444,\"#bd3786\"],[0.5555555555555556,\"#d8576b\"],[0.6666666666666666,\"#ed7953\"],[0.7777777777777778,\"#fb9f3a\"],[0.8888888888888888,\"#fdca26\"],[1.0,\"#f0f921\"]]}],\"choropleth\":[{\"type\":\"choropleth\",\"colorbar\":{\"outlinewidth\":0,\"ticks\":\"\"}}],\"histogram2d\":[{\"type\":\"histogram2d\",\"colorbar\":{\"outlinewidth\":0,\"ticks\":\"\"},\"colorscale\":[[0.0,\"#0d0887\"],[0.1111111111111111,\"#46039f\"],[0.2222222222222222,\"#7201a8\"],[0.3333333333333333,\"#9c179e\"],[0.4444444444444444,\"#bd3786\"],[0.5555555555555556,\"#d8576b\"],[0.6666666666666666,\"#ed7953\"],[0.7777777777777778,\"#fb9f3a\"],[0.8888888888888888,\"#fdca26\"],[1.0,\"#f0f921\"]]}],\"heatmap\":[{\"type\":\"heatmap\",\"colorbar\":{\"outlinewidth\":0,\"ticks\":\"\"},\"colorscale\":[[0.0,\"#0d0887\"],[0.1111111111111111,\"#46039f\"],[0.2222222222222222,\"#7201a8\"],[0.3333333333333333,\"#9c179e\"],[0.4444444444444444,\"#bd3786\"],[0.5555555555555556,\"#d8576b\"],[0.6666666666666666,\"#ed7953\"],[0.7777777777777778,\"#fb9f3a\"],[0.8888888888888888,\"#fdca26\"],[1.0,\"#f0f921\"]]}],\"heatmapgl\":[{\"type\":\"heatmapgl\",\"colorbar\":{\"outlinewidth\":0,\"ticks\":\"\"},\"colorscale\":[[0.0,\"#0d0887\"],[0.1111111111111111,\"#46039f\"],[0.2222222222222222,\"#7201a8\"],[0.3333333333333333,\"#9c179e\"],[0.4444444444444444,\"#bd3786\"],[0.5555555555555556,\"#d8576b\"],[0.6666666666666666,\"#ed7953\"],[0.7777777777777778,\"#fb9f3a\"],[0.8888888888888888,\"#fdca26\"],[1.0,\"#f0f921\"]]}],\"contourcarpet\":[{\"type\":\"contourcarpet\",\"colorbar\":{\"outlinewidth\":0,\"ticks\":\"\"}}],\"contour\":[{\"type\":\"contour\",\"colorbar\":{\"outlinewidth\":0,\"ticks\":\"\"},\"colorscale\":[[0.0,\"#0d0887\"],[0.1111111111111111,\"#46039f\"],[0.2222222222222222,\"#7201a8\"],[0.3333333333333333,\"#9c179e\"],[0.4444444444444444,\"#bd3786\"],[0.5555555555555556,\"#d8576b\"],[0.6666666666666666,\"#ed7953\"],[0.7777777777777778,\"#fb9f3a\"],[0.8888888888888888,\"#fdca26\"],[1.0,\"#f0f921\"]]}],\"surface\":[{\"type\":\"surface\",\"colorbar\":{\"outlinewidth\":0,\"ticks\":\"\"},\"colorscale\":[[0.0,\"#0d0887\"],[0.1111111111111111,\"#46039f\"],[0.2222222222222222,\"#7201a8\"],[0.3333333333333333,\"#9c179e\"],[0.4444444444444444,\"#bd3786\"],[0.5555555555555556,\"#d8576b\"],[0.6666666666666666,\"#ed7953\"],[0.7777777777777778,\"#fb9f3a\"],[0.8888888888888888,\"#fdca26\"],[1.0,\"#f0f921\"]]}],\"mesh3d\":[{\"type\":\"mesh3d\",\"colorbar\":{\"outlinewidth\":0,\"ticks\":\"\"}}],\"scatter\":[{\"fillpattern\":{\"fillmode\":\"overlay\",\"size\":10,\"solidity\":0.2},\"type\":\"scatter\"}],\"parcoords\":[{\"type\":\"parcoords\",\"line\":{\"colorbar\":{\"outlinewidth\":0,\"ticks\":\"\"}}}],\"scatterpolargl\":[{\"type\":\"scatterpolargl\",\"marker\":{\"colorbar\":{\"outlinewidth\":0,\"ticks\":\"\"}}}],\"bar\":[{\"error_x\":{\"color\":\"#2a3f5f\"},\"error_y\":{\"color\":\"#2a3f5f\"},\"marker\":{\"line\":{\"color\":\"#E5ECF6\",\"width\":0.5},\"pattern\":{\"fillmode\":\"overlay\",\"size\":10,\"solidity\":0.2}},\"type\":\"bar\"}],\"scattergeo\":[{\"type\":\"scattergeo\",\"marker\":{\"colorbar\":{\"outlinewidth\":0,\"ticks\":\"\"}}}],\"scatterpolar\":[{\"type\":\"scatterpolar\",\"marker\":{\"colorbar\":{\"outlinewidth\":0,\"ticks\":\"\"}}}],\"histogram\":[{\"marker\":{\"pattern\":{\"fillmode\":\"overlay\",\"size\":10,\"solidity\":0.2}},\"type\":\"histogram\"}],\"scattergl\":[{\"type\":\"scattergl\",\"marker\":{\"colorbar\":{\"outlinewidth\":0,\"ticks\":\"\"}}}],\"scatter3d\":[{\"type\":\"scatter3d\",\"line\":{\"colorbar\":{\"outlinewidth\":0,\"ticks\":\"\"}},\"marker\":{\"colorbar\":{\"outlinewidth\":0,\"ticks\":\"\"}}}],\"scattermapbox\":[{\"type\":\"scattermapbox\",\"marker\":{\"colorbar\":{\"outlinewidth\":0,\"ticks\":\"\"}}}],\"scatterternary\":[{\"type\":\"scatterternary\",\"marker\":{\"colorbar\":{\"outlinewidth\":0,\"ticks\":\"\"}}}],\"scattercarpet\":[{\"type\":\"scattercarpet\",\"marker\":{\"colorbar\":{\"outlinewidth\":0,\"ticks\":\"\"}}}],\"carpet\":[{\"aaxis\":{\"endlinecolor\":\"#2a3f5f\",\"gridcolor\":\"white\",\"linecolor\":\"white\",\"minorgridcolor\":\"white\",\"startlinecolor\":\"#2a3f5f\"},\"baxis\":{\"endlinecolor\":\"#2a3f5f\",\"gridcolor\":\"white\",\"linecolor\":\"white\",\"minorgridcolor\":\"white\",\"startlinecolor\":\"#2a3f5f\"},\"type\":\"carpet\"}],\"table\":[{\"cells\":{\"fill\":{\"color\":\"#EBF0F8\"},\"line\":{\"color\":\"white\"}},\"header\":{\"fill\":{\"color\":\"#C8D4E3\"},\"line\":{\"color\":\"white\"}},\"type\":\"table\"}],\"barpolar\":[{\"marker\":{\"line\":{\"color\":\"#E5ECF6\",\"width\":0.5},\"pattern\":{\"fillmode\":\"overlay\",\"size\":10,\"solidity\":0.2}},\"type\":\"barpolar\"}],\"pie\":[{\"automargin\":true,\"type\":\"pie\"}]},\"layout\":{\"autotypenumbers\":\"strict\",\"colorway\":[\"#636efa\",\"#EF553B\",\"#00cc96\",\"#ab63fa\",\"#FFA15A\",\"#19d3f3\",\"#FF6692\",\"#B6E880\",\"#FF97FF\",\"#FECB52\"],\"font\":{\"color\":\"#2a3f5f\"},\"hovermode\":\"closest\",\"hoverlabel\":{\"align\":\"left\"},\"paper_bgcolor\":\"white\",\"plot_bgcolor\":\"#E5ECF6\",\"polar\":{\"bgcolor\":\"#E5ECF6\",\"angularaxis\":{\"gridcolor\":\"white\",\"linecolor\":\"white\",\"ticks\":\"\"},\"radialaxis\":{\"gridcolor\":\"white\",\"linecolor\":\"white\",\"ticks\":\"\"}},\"ternary\":{\"bgcolor\":\"#E5ECF6\",\"aaxis\":{\"gridcolor\":\"white\",\"linecolor\":\"white\",\"ticks\":\"\"},\"baxis\":{\"gridcolor\":\"white\",\"linecolor\":\"white\",\"ticks\":\"\"},\"caxis\":{\"gridcolor\":\"white\",\"linecolor\":\"white\",\"ticks\":\"\"}},\"coloraxis\":{\"colorbar\":{\"outlinewidth\":0,\"ticks\":\"\"}},\"colorscale\":{\"sequential\":[[0.0,\"#0d0887\"],[0.1111111111111111,\"#46039f\"],[0.2222222222222222,\"#7201a8\"],[0.3333333333333333,\"#9c179e\"],[0.4444444444444444,\"#bd3786\"],[0.5555555555555556,\"#d8576b\"],[0.6666666666666666,\"#ed7953\"],[0.7777777777777778,\"#fb9f3a\"],[0.8888888888888888,\"#fdca26\"],[1.0,\"#f0f921\"]],\"sequentialminus\":[[0.0,\"#0d0887\"],[0.1111111111111111,\"#46039f\"],[0.2222222222222222,\"#7201a8\"],[0.3333333333333333,\"#9c179e\"],[0.4444444444444444,\"#bd3786\"],[0.5555555555555556,\"#d8576b\"],[0.6666666666666666,\"#ed7953\"],[0.7777777777777778,\"#fb9f3a\"],[0.8888888888888888,\"#fdca26\"],[1.0,\"#f0f921\"]],\"diverging\":[[0,\"#8e0152\"],[0.1,\"#c51b7d\"],[0.2,\"#de77ae\"],[0.3,\"#f1b6da\"],[0.4,\"#fde0ef\"],[0.5,\"#f7f7f7\"],[0.6,\"#e6f5d0\"],[0.7,\"#b8e186\"],[0.8,\"#7fbc41\"],[0.9,\"#4d9221\"],[1,\"#276419\"]]},\"xaxis\":{\"gridcolor\":\"white\",\"linecolor\":\"white\",\"ticks\":\"\",\"title\":{\"standoff\":15},\"zerolinecolor\":\"white\",\"automargin\":true,\"zerolinewidth\":2},\"yaxis\":{\"gridcolor\":\"white\",\"linecolor\":\"white\",\"ticks\":\"\",\"title\":{\"standoff\":15},\"zerolinecolor\":\"white\",\"automargin\":true,\"zerolinewidth\":2},\"scene\":{\"xaxis\":{\"backgroundcolor\":\"#E5ECF6\",\"gridcolor\":\"white\",\"linecolor\":\"white\",\"showbackground\":true,\"ticks\":\"\",\"zerolinecolor\":\"white\",\"gridwidth\":2},\"yaxis\":{\"backgroundcolor\":\"#E5ECF6\",\"gridcolor\":\"white\",\"linecolor\":\"white\",\"showbackground\":true,\"ticks\":\"\",\"zerolinecolor\":\"white\",\"gridwidth\":2},\"zaxis\":{\"backgroundcolor\":\"#E5ECF6\",\"gridcolor\":\"white\",\"linecolor\":\"white\",\"showbackground\":true,\"ticks\":\"\",\"zerolinecolor\":\"white\",\"gridwidth\":2}},\"shapedefaults\":{\"line\":{\"color\":\"#2a3f5f\"}},\"annotationdefaults\":{\"arrowcolor\":\"#2a3f5f\",\"arrowhead\":0,\"arrowwidth\":1},\"geo\":{\"bgcolor\":\"white\",\"landcolor\":\"#E5ECF6\",\"subunitcolor\":\"white\",\"showland\":true,\"showlakes\":true,\"lakecolor\":\"white\"},\"title\":{\"x\":0.05},\"mapbox\":{\"style\":\"light\"}}},\"autosize\":false,\"width\":1200,\"height\":720},                        {\"responsive\": true}                    ).then(function(){\n",
       "                            \n",
       "var gd = document.getElementById('71b612e4-1dd7-4f2d-b8e1-45f8765f4c96');\n",
       "var x = new MutationObserver(function (mutations, observer) {{\n",
       "        var display = window.getComputedStyle(gd).display;\n",
       "        if (!display || display === 'none') {{\n",
       "            console.log([gd, 'removed!']);\n",
       "            Plotly.purge(gd);\n",
       "            observer.disconnect();\n",
       "        }}\n",
       "}});\n",
       "\n",
       "// Listen for the removal of the full notebook cells\n",
       "var notebookContainer = gd.closest('#notebook-container');\n",
       "if (notebookContainer) {{\n",
       "    x.observe(notebookContainer, {childList: true});\n",
       "}}\n",
       "\n",
       "// Listen for the clearing of the current output cell\n",
       "var outputEl = gd.closest('.output');\n",
       "if (outputEl) {{\n",
       "    x.observe(outputEl, {childList: true});\n",
       "}}\n",
       "\n",
       "                        })                };                });            </script>        </div>"
      ]
     },
     "metadata": {},
     "output_type": "display_data"
    }
   ],
   "source": [
    "df_temp =  df_nameIndex[df_nameIndex[\"Kommune\"]==kommune]\n",
    "df_temp = df_temp.sort_values(question, ascending = False)\n",
    "\n",
    "\n",
    "fig_pie = make_subplots(rows=1, cols=2, specs=[[{'type':'domain'}, {'type':'domain'}]])\n",
    "\n",
    "# labels for piechart - kommune\n",
    "value_labels = {0:\"Uenig\", 1:\"Delvist Enig\", 2:\"Enig\"}\n",
    "answers_kommune = pd.Series([value_labels[x] for x in df_temp[question]], \n",
    "                              index =df_temp.index)\n",
    "labels_kommune = list(answers_kommune.unique())\n",
    "\n",
    "# Value for kommune\n",
    "df_pie = df_temp.groupby(df_temp[question]).count()\n",
    "value_kommune = df_pie[\"Score\"]\n",
    "\n",
    "# Colors kommune\n",
    "color_dict = { \"Enig\":'rgb(15,122,55)',\"Delvist Enig\": 'rgb(169,220,163)',\"Uenig\":'rgb(218,241,212)'}\n",
    "colors_pie = {}\n",
    "for answer in labels_kommune:\n",
    "    colors_pie[answer] = color_dict[answer]\n",
    "\n",
    "\n",
    "fig_pie.add_trace(go.Pie(labels=labels_kommune, \n",
    "                            values=value_kommune, \n",
    "                            hole=0.6,\n",
    "                            marker_colors = list(colors_pie.values()),\n",
    "                            ),row = 1,col = 1)\n",
    "\n",
    "\n",
    "df_pie2 = df_nameIndex.groupby(df_nameIndex[question]).count()\n",
    "values = df_pie2[\"Score\"]\n",
    "labels = [\"Uenig\", \"Delvist Enig\", \"Enig\"]\n",
    "colors = ['rgb(218,241,212)','rgb(169,220,163)','rgb(15,122,55)']\n",
    "\n",
    "\n",
    "fig_pie.add_trace(go.Pie(labels=labels, \n",
    "                            values=values, \n",
    "                            hole=0.6,\n",
    "                            marker_colors = colors\n",
    "                            ),row = 1,col = 2)\n",
    "\n",
    "\n",
    "fig_pie.add_trace(go.Sunburst(\n",
    "    labels=[kommune],\n",
    "    parents=[\"\"],\n",
    "    values=[1],\n",
    "    ), row = 1, col=1)\n",
    "\n",
    "\n",
    "fig_pie.add_trace(go.Sunburst(\n",
    "    labels=[\"Danmark\"],\n",
    "    parents=[\"\"],\n",
    "    values=[1],\n",
    "    ), row = 1, col=2)\n",
    "\n",
    "fig_pie.update_layout(\n",
    "    autosize=False,\n",
    "    width=1200,\n",
    "    height=720)"
   ]
  },
  {
   "cell_type": "markdown",
   "id": "b0727e79",
   "metadata": {},
   "source": [
    "# Sunburst chart"
   ]
  },
  {
   "cell_type": "code",
   "execution_count": 90,
   "id": "b6e69539",
   "metadata": {},
   "outputs": [],
   "source": [
    "# question = df_temp.columns[5]\n",
    "# municipality = df_nameIndex[\"Kommune\"][10]\n",
    "# df_temp =  df_nameIndex[df_nameIndex[\"Kommune\"]==df_nameIndex[\"Kommune\"][10]]\n",
    "# color_dict = { \"Enig\":'rgb(15,122,55)',\"Delvist Enig\": 'rgb(169,220,163)',\"Uenig\":'rgb(218,241,212)'}"
   ]
  },
  {
   "cell_type": "code",
   "execution_count": 91,
   "id": "ffff7eac",
   "metadata": {},
   "outputs": [],
   "source": [
    "df_temp = df_temp.sort_values(question, ascending = False)"
   ]
  },
  {
   "cell_type": "code",
   "execution_count": 92,
   "id": "4786806a",
   "metadata": {},
   "outputs": [
    {
     "name": "stdout",
     "output_type": "stream",
     "text": [
      "Bornholm 1. \"Kommunen skal prioritere, at skolerne får flere midler til indkøb af klimavenlige og bæredygtige råvarer til madkundskab\"\n"
     ]
    }
   ],
   "source": [
    "print(kommune, question)"
   ]
  },
  {
   "cell_type": "code",
   "execution_count": 93,
   "id": "7a91adc4",
   "metadata": {},
   "outputs": [
    {
     "data": {
      "text/plain": [
       "['',\n",
       " '',\n",
       " '',\n",
       " 'Enig',\n",
       " 'Enig',\n",
       " 'Enig',\n",
       " 'Enig',\n",
       " 'Enig',\n",
       " 'Enig',\n",
       " 'Enig',\n",
       " 'Enig',\n",
       " 'Enig',\n",
       " 'Enig',\n",
       " 'Delvist Enig',\n",
       " 'Delvist Enig',\n",
       " 'Delvist Enig',\n",
       " 'Delvist Enig',\n",
       " 'Delvist Enig',\n",
       " 'Delvist Enig',\n",
       " 'Uenig',\n",
       " 'Uenig']"
      ]
     },
     "execution_count": 93,
     "metadata": {},
     "output_type": "execute_result"
    }
   ],
   "source": [
    "# Parents for sunburst\n",
    "value_labels = {0:\"Uenig\", 1:\"Delvist Enig\", 2:\"Enig\"}\n",
    "parents_candidates = pd.Series([value_labels[x] for x in df_temp[question]], \n",
    "                              index =df_temp.index)\n",
    "\n",
    "sunburst_parents = [\"\",\"\",\"\"]\n",
    "sunburst_parents.extend(parents_candidates)\n",
    "sunburst_parents"
   ]
  },
  {
   "cell_type": "code",
   "execution_count": 94,
   "id": "095ea972",
   "metadata": {},
   "outputs": [
    {
     "data": {
      "text/plain": [
       "Candidate\n",
       "Ronald Kofoed-Rasmussen  (A.)             Enig\n",
       "Lærke Lina Skovbjerg (G.)                 Enig\n",
       "Klaus Hermansen (Ø.)                      Enig\n",
       "Leif Olsen (F.)                           Enig\n",
       "Nikolaj Fjellerad (F.)                    Enig\n",
       "Bo Haxthausen (F.)                        Enig\n",
       "Søren Schow (V.)                          Enig\n",
       "Morten Riis (Ø.)                          Enig\n",
       "João A. B. R. Møller  (B.)                Enig\n",
       "Stig Westermann (Ø.)                      Enig\n",
       "Bjarne Hartung Kirkegaard (K.)    Delvist Enig\n",
       "Niels Chresten Andersen (K.)      Delvist Enig\n",
       "Hans Ole Bech (K.)                Delvist Enig\n",
       "Jacob Trøst (C.)                  Delvist Enig\n",
       "Hartvig Mumm (K.)                 Delvist Enig\n",
       "Runa Jensen  (Ø.)                 Delvist Enig\n",
       "Carsten Hæstrup  (V.)                    Uenig\n",
       "Jannie Sauer (V.)                        Uenig\n",
       "dtype: object"
      ]
     },
     "execution_count": 94,
     "metadata": {},
     "output_type": "execute_result"
    }
   ],
   "source": [
    "parents_candidates"
   ]
  },
  {
   "cell_type": "code",
   "execution_count": 95,
   "id": "a6c43d8b",
   "metadata": {},
   "outputs": [
    {
     "data": {
      "text/plain": [
       "['Enig',\n",
       " 'Delvist Enig',\n",
       " 'Uenig',\n",
       " 'Ronald Kofoed-Rasmussen  (A.)',\n",
       " 'Lærke Lina Skovbjerg (G.)',\n",
       " 'Klaus Hermansen (Ø.)',\n",
       " 'Leif Olsen (F.)',\n",
       " 'Nikolaj Fjellerad (F.)',\n",
       " 'Bo Haxthausen (F.)',\n",
       " 'Søren Schow (V.)',\n",
       " 'Morten Riis (Ø.)',\n",
       " 'João A. B. R. Møller  (B.)',\n",
       " 'Stig Westermann (Ø.)',\n",
       " 'Bjarne Hartung Kirkegaard (K.)',\n",
       " 'Niels Chresten Andersen (K.)',\n",
       " 'Hans Ole Bech (K.)',\n",
       " 'Jacob Trøst (C.)',\n",
       " 'Hartvig Mumm (K.)',\n",
       " 'Runa Jensen  (Ø.)',\n",
       " 'Carsten Hæstrup  (V.)',\n",
       " 'Jannie Sauer (V.)']"
      ]
     },
     "execution_count": 95,
     "metadata": {},
     "output_type": "execute_result"
    }
   ],
   "source": [
    "# Names for sunburst\n",
    "sunburst_names = []\n",
    "\n",
    "inner_names = list(parents_candidates.value_counts(sort=False).index)\n",
    "sunburst_names.extend(inner_names)\n",
    "\n",
    "candidate_names = list(df_temp.index)\n",
    "sunburst_names.extend(candidate_names)\n",
    "\n",
    "sunburst_names"
   ]
  },
  {
   "cell_type": "code",
   "execution_count": 96,
   "id": "6ac5e406",
   "metadata": {},
   "outputs": [
    {
     "data": {
      "text/plain": [
       "[10, 6, 2, 1, 1, 1, 1, 1, 1, 1, 1, 1, 1, 1, 1, 1, 1, 1, 1, 1, 1]"
      ]
     },
     "execution_count": 96,
     "metadata": {},
     "output_type": "execute_result"
    }
   ],
   "source": [
    "# Values for sunburst\n",
    "sunburst_values = []\n",
    "\n",
    "inner_values = list(parents_candidates.value_counts(sort=False))\n",
    "sunburst_values.extend(inner_values)\n",
    "\n",
    "candidate_values = []\n",
    "for candidate in list(df_temp.index):\n",
    "    candidate_values.extend([1])\n",
    "\n",
    "sunburst_values.extend(candidate_values)\n",
    "\n",
    "sunburst_values"
   ]
  },
  {
   "cell_type": "code",
   "execution_count": 97,
   "id": "6c779f35",
   "metadata": {},
   "outputs": [],
   "source": [
    "# Denne kode bruges KUN til express sunbursten\n",
    "inner_names = list(parents_candidates.value_counts(sort=False).index)\n",
    "inner_names.extend(parents_candidates)\n",
    "\n",
    "\n",
    "colormap = []\n",
    "for value in inner_names:\n",
    "    colormap.append(color_dict[value])\n"
   ]
  },
  {
   "cell_type": "code",
   "execution_count": 98,
   "id": "c271b780",
   "metadata": {},
   "outputs": [],
   "source": [
    "# data = dict(\n",
    "#     names=sunburst_names,\n",
    "#     parent=sunburst_parents,\n",
    "#     value=sunburst_values,\n",
    "#     color_map = inner_names)\n",
    "\n",
    "# fig = px.sunburst(\n",
    "#     data,\n",
    "#     names='names',\n",
    "#     parents='parent',\n",
    "#     values='value',\n",
    "#     branchvalues=\"total\",\n",
    "#     color = \"color_map\",\n",
    "#     color_discrete_map = color_dict\n",
    "#     )\n",
    "\n",
    "\n",
    "\n",
    "# fig.show()"
   ]
  },
  {
   "cell_type": "code",
   "execution_count": 99,
   "id": "87da0712",
   "metadata": {},
   "outputs": [],
   "source": [
<<<<<<< HEAD
<<<<<<< Updated upstream
=======
    "# Values for sunburst\n",
    "sunburst_values = []\n",
    "\n",
    "inner_values = list(parents_candidates.value_counts(sort=False))\n",
    "sunburst_values.extend(inner_values)\n",
    "\n",
    "candidate_values = []\n",
    "for candidate in list(df_temp.index):\n",
    "    candidate_values.extend([1])\n",
    "\n",
    "sunburst_values.extend(candidate_values)\n",
    "\n",
    "sunburst_values"
   ]
  },
  {
   "cell_type": "code",
   "execution_count": 97,
   "id": "6c779f35",
   "metadata": {},
   "outputs": [],
   "source": [
    "# Denne kode bruges KUN til express sunbursten\n",
    "inner_names = list(parents_candidates.value_counts(sort=False).index)\n",
    "inner_names.extend(parents_candidates)\n",
    "\n",
    "\n",
    "colormap = []\n",
    "for value in inner_names:\n",
    "    colormap.append(color_dict[value])\n"
   ]
  },
  {
   "cell_type": "code",
   "execution_count": 98,
   "id": "c271b780",
   "metadata": {},
   "outputs": [],
   "source": [
    "# data = dict(\n",
    "#     names=sunburst_names,\n",
    "#     parent=sunburst_parents,\n",
    "#     value=sunburst_values,\n",
    "#     color_map = inner_names)\n",
    "\n",
    "# fig = px.sunburst(\n",
    "#     data,\n",
    "#     names='names',\n",
    "#     parents='parent',\n",
    "#     values='value',\n",
    "#     branchvalues=\"total\",\n",
    "#     color = \"color_map\",\n",
    "#     color_discrete_map = color_dict\n",
    "#     )\n",
    "\n",
    "\n",
    "\n",
    "# fig.show()"
   ]
  },
  {
   "cell_type": "code",
   "execution_count": 105,
   "id": "87da0712",
   "metadata": {},
   "outputs": [
    {
     "data": {
      "application/vnd.plotly.v1+json": {
       "config": {
        "plotlyServerURL": "https://plot.ly"
       },
       "data": [
        {
         "branchvalues": "total",
         "insidetextorientation": "radial",
         "labels": [
          "Enig",
          "Delvist Enig",
          "Uenig",
          "Ronald Kofoed-Rasmussen  (A.)",
          "Klaus Hermansen (Ø.)",
          "Stig Westermann (Ø.)",
          "João A. B. R. Møller  (B.)",
          "Morten Riis (Ø.)",
          "Søren Schow (V.)",
          "Lærke Lina Skovbjerg (G.)",
          "Nikolaj Fjellerad (F.)",
          "Leif Olsen (F.)",
          "Bo Haxthausen (F.)",
          "Bjarne Hartung Kirkegaard (K.)",
          "Niels Chresten Andersen (K.)",
          "Hans Ole Bech (K.)",
          "Jacob Trøst (C.)",
          "Hartvig Mumm (K.)",
          "Runa Jensen  (Ø.)",
          "Carsten Hæstrup  (V.)",
          "Jannie Sauer (V.)"
         ],
         "marker": {
          "colors": [
           "rgb(169,220,163)",
           "rgb(15,122,55)"
          ]
         },
         "parents": [
          "",
          "",
          "",
          "Enig",
          "Enig",
          "Enig",
          "Enig",
          "Enig",
          "Enig",
          "Enig",
          "Enig",
          "Enig",
          "Enig",
          "Delvist Enig",
          "Delvist Enig",
          "Delvist Enig",
          "Delvist Enig",
          "Delvist Enig",
          "Delvist Enig",
          "Uenig",
          "Uenig"
         ],
         "type": "sunburst",
         "values": [
          10,
          6,
          2,
          1,
          1,
          1,
          1,
          1,
          1,
          1,
          1,
          1,
          1,
          1,
          1,
          1,
          1,
          1,
          1,
          1,
          1
         ]
        }
       ],
       "layout": {
        "template": {
         "data": {
          "bar": [
           {
            "error_x": {
             "color": "#2a3f5f"
            },
            "error_y": {
             "color": "#2a3f5f"
            },
            "marker": {
             "line": {
              "color": "#E5ECF6",
              "width": 0.5
             },
             "pattern": {
              "fillmode": "overlay",
              "size": 10,
              "solidity": 0.2
             }
            },
            "type": "bar"
           }
          ],
          "barpolar": [
           {
            "marker": {
             "line": {
              "color": "#E5ECF6",
              "width": 0.5
             },
             "pattern": {
              "fillmode": "overlay",
              "size": 10,
              "solidity": 0.2
             }
            },
            "type": "barpolar"
           }
          ],
          "carpet": [
           {
            "aaxis": {
             "endlinecolor": "#2a3f5f",
             "gridcolor": "white",
             "linecolor": "white",
             "minorgridcolor": "white",
             "startlinecolor": "#2a3f5f"
            },
            "baxis": {
             "endlinecolor": "#2a3f5f",
             "gridcolor": "white",
             "linecolor": "white",
             "minorgridcolor": "white",
             "startlinecolor": "#2a3f5f"
            },
            "type": "carpet"
           }
          ],
          "choropleth": [
           {
            "colorbar": {
             "outlinewidth": 0,
             "ticks": ""
            },
            "type": "choropleth"
           }
          ],
          "contour": [
           {
            "colorbar": {
             "outlinewidth": 0,
             "ticks": ""
            },
            "colorscale": [
             [
              0,
              "#0d0887"
             ],
             [
              0.1111111111111111,
              "#46039f"
             ],
             [
              0.2222222222222222,
              "#7201a8"
             ],
             [
              0.3333333333333333,
              "#9c179e"
             ],
             [
              0.4444444444444444,
              "#bd3786"
             ],
             [
              0.5555555555555556,
              "#d8576b"
             ],
             [
              0.6666666666666666,
              "#ed7953"
             ],
             [
              0.7777777777777778,
              "#fb9f3a"
             ],
             [
              0.8888888888888888,
              "#fdca26"
             ],
             [
              1,
              "#f0f921"
             ]
            ],
            "type": "contour"
           }
          ],
          "contourcarpet": [
           {
            "colorbar": {
             "outlinewidth": 0,
             "ticks": ""
            },
            "type": "contourcarpet"
           }
          ],
          "heatmap": [
           {
            "colorbar": {
             "outlinewidth": 0,
             "ticks": ""
            },
            "colorscale": [
             [
              0,
              "#0d0887"
             ],
             [
              0.1111111111111111,
              "#46039f"
             ],
             [
              0.2222222222222222,
              "#7201a8"
             ],
             [
              0.3333333333333333,
              "#9c179e"
             ],
             [
              0.4444444444444444,
              "#bd3786"
             ],
             [
              0.5555555555555556,
              "#d8576b"
             ],
             [
              0.6666666666666666,
              "#ed7953"
             ],
             [
              0.7777777777777778,
              "#fb9f3a"
             ],
             [
              0.8888888888888888,
              "#fdca26"
             ],
             [
              1,
              "#f0f921"
             ]
            ],
            "type": "heatmap"
           }
          ],
          "heatmapgl": [
           {
            "colorbar": {
             "outlinewidth": 0,
             "ticks": ""
            },
            "colorscale": [
             [
              0,
              "#0d0887"
             ],
             [
              0.1111111111111111,
              "#46039f"
             ],
             [
              0.2222222222222222,
              "#7201a8"
             ],
             [
              0.3333333333333333,
              "#9c179e"
             ],
             [
              0.4444444444444444,
              "#bd3786"
             ],
             [
              0.5555555555555556,
              "#d8576b"
             ],
             [
              0.6666666666666666,
              "#ed7953"
             ],
             [
              0.7777777777777778,
              "#fb9f3a"
             ],
             [
              0.8888888888888888,
              "#fdca26"
             ],
             [
              1,
              "#f0f921"
             ]
            ],
            "type": "heatmapgl"
           }
          ],
          "histogram": [
           {
            "marker": {
             "pattern": {
              "fillmode": "overlay",
              "size": 10,
              "solidity": 0.2
             }
            },
            "type": "histogram"
           }
          ],
          "histogram2d": [
           {
            "colorbar": {
             "outlinewidth": 0,
             "ticks": ""
            },
            "colorscale": [
             [
              0,
              "#0d0887"
             ],
             [
              0.1111111111111111,
              "#46039f"
             ],
             [
              0.2222222222222222,
              "#7201a8"
             ],
             [
              0.3333333333333333,
              "#9c179e"
             ],
             [
              0.4444444444444444,
              "#bd3786"
             ],
             [
              0.5555555555555556,
              "#d8576b"
             ],
             [
              0.6666666666666666,
              "#ed7953"
             ],
             [
              0.7777777777777778,
              "#fb9f3a"
             ],
             [
              0.8888888888888888,
              "#fdca26"
             ],
             [
              1,
              "#f0f921"
             ]
            ],
            "type": "histogram2d"
           }
          ],
          "histogram2dcontour": [
           {
            "colorbar": {
             "outlinewidth": 0,
             "ticks": ""
            },
            "colorscale": [
             [
              0,
              "#0d0887"
             ],
             [
              0.1111111111111111,
              "#46039f"
             ],
             [
              0.2222222222222222,
              "#7201a8"
             ],
             [
              0.3333333333333333,
              "#9c179e"
             ],
             [
              0.4444444444444444,
              "#bd3786"
             ],
             [
              0.5555555555555556,
              "#d8576b"
             ],
             [
              0.6666666666666666,
              "#ed7953"
             ],
             [
              0.7777777777777778,
              "#fb9f3a"
             ],
             [
              0.8888888888888888,
              "#fdca26"
             ],
             [
              1,
              "#f0f921"
             ]
            ],
            "type": "histogram2dcontour"
           }
          ],
          "mesh3d": [
           {
            "colorbar": {
             "outlinewidth": 0,
             "ticks": ""
            },
            "type": "mesh3d"
           }
          ],
          "parcoords": [
           {
            "line": {
             "colorbar": {
              "outlinewidth": 0,
              "ticks": ""
             }
            },
            "type": "parcoords"
           }
          ],
          "pie": [
           {
            "automargin": true,
            "type": "pie"
           }
          ],
          "scatter": [
           {
            "fillpattern": {
             "fillmode": "overlay",
             "size": 10,
             "solidity": 0.2
            },
            "type": "scatter"
           }
          ],
          "scatter3d": [
           {
            "line": {
             "colorbar": {
              "outlinewidth": 0,
              "ticks": ""
             }
            },
            "marker": {
             "colorbar": {
              "outlinewidth": 0,
              "ticks": ""
             }
            },
            "type": "scatter3d"
           }
          ],
          "scattercarpet": [
           {
            "marker": {
             "colorbar": {
              "outlinewidth": 0,
              "ticks": ""
             }
            },
            "type": "scattercarpet"
           }
          ],
          "scattergeo": [
           {
            "marker": {
             "colorbar": {
              "outlinewidth": 0,
              "ticks": ""
             }
            },
            "type": "scattergeo"
           }
          ],
          "scattergl": [
           {
            "marker": {
             "colorbar": {
              "outlinewidth": 0,
              "ticks": ""
             }
            },
            "type": "scattergl"
           }
          ],
          "scattermapbox": [
           {
            "marker": {
             "colorbar": {
              "outlinewidth": 0,
              "ticks": ""
             }
            },
            "type": "scattermapbox"
           }
          ],
          "scatterpolar": [
           {
            "marker": {
             "colorbar": {
              "outlinewidth": 0,
              "ticks": ""
             }
            },
            "type": "scatterpolar"
           }
          ],
          "scatterpolargl": [
           {
            "marker": {
             "colorbar": {
              "outlinewidth": 0,
              "ticks": ""
             }
            },
            "type": "scatterpolargl"
           }
          ],
          "scatterternary": [
           {
            "marker": {
             "colorbar": {
              "outlinewidth": 0,
              "ticks": ""
             }
            },
            "type": "scatterternary"
           }
          ],
          "surface": [
           {
            "colorbar": {
             "outlinewidth": 0,
             "ticks": ""
            },
            "colorscale": [
             [
              0,
              "#0d0887"
             ],
             [
              0.1111111111111111,
              "#46039f"
             ],
             [
              0.2222222222222222,
              "#7201a8"
             ],
             [
              0.3333333333333333,
              "#9c179e"
             ],
             [
              0.4444444444444444,
              "#bd3786"
             ],
             [
              0.5555555555555556,
              "#d8576b"
             ],
             [
              0.6666666666666666,
              "#ed7953"
             ],
             [
              0.7777777777777778,
              "#fb9f3a"
             ],
             [
              0.8888888888888888,
              "#fdca26"
             ],
             [
              1,
              "#f0f921"
             ]
            ],
            "type": "surface"
           }
          ],
          "table": [
           {
            "cells": {
             "fill": {
              "color": "#EBF0F8"
             },
             "line": {
              "color": "white"
             }
            },
            "header": {
             "fill": {
              "color": "#C8D4E3"
             },
             "line": {
              "color": "white"
             }
            },
            "type": "table"
           }
          ]
         },
         "layout": {
          "annotationdefaults": {
           "arrowcolor": "#2a3f5f",
           "arrowhead": 0,
           "arrowwidth": 1
          },
          "autotypenumbers": "strict",
          "coloraxis": {
           "colorbar": {
            "outlinewidth": 0,
            "ticks": ""
           }
          },
          "colorscale": {
           "diverging": [
            [
             0,
             "#8e0152"
            ],
            [
             0.1,
             "#c51b7d"
            ],
            [
             0.2,
             "#de77ae"
            ],
            [
             0.3,
             "#f1b6da"
            ],
            [
             0.4,
             "#fde0ef"
            ],
            [
             0.5,
             "#f7f7f7"
            ],
            [
             0.6,
             "#e6f5d0"
            ],
            [
             0.7,
             "#b8e186"
            ],
            [
             0.8,
             "#7fbc41"
            ],
            [
             0.9,
             "#4d9221"
            ],
            [
             1,
             "#276419"
            ]
           ],
           "sequential": [
            [
             0,
             "#0d0887"
            ],
            [
             0.1111111111111111,
             "#46039f"
            ],
            [
             0.2222222222222222,
             "#7201a8"
            ],
            [
             0.3333333333333333,
             "#9c179e"
            ],
            [
             0.4444444444444444,
             "#bd3786"
            ],
            [
             0.5555555555555556,
             "#d8576b"
            ],
            [
             0.6666666666666666,
             "#ed7953"
            ],
            [
             0.7777777777777778,
             "#fb9f3a"
            ],
            [
             0.8888888888888888,
             "#fdca26"
            ],
            [
             1,
             "#f0f921"
            ]
           ],
           "sequentialminus": [
            [
             0,
             "#0d0887"
            ],
            [
             0.1111111111111111,
             "#46039f"
            ],
            [
             0.2222222222222222,
             "#7201a8"
            ],
            [
             0.3333333333333333,
             "#9c179e"
            ],
            [
             0.4444444444444444,
             "#bd3786"
            ],
            [
             0.5555555555555556,
             "#d8576b"
            ],
            [
             0.6666666666666666,
             "#ed7953"
            ],
            [
             0.7777777777777778,
             "#fb9f3a"
            ],
            [
             0.8888888888888888,
             "#fdca26"
            ],
            [
             1,
             "#f0f921"
            ]
           ]
          },
          "colorway": [
           "#636efa",
           "#EF553B",
           "#00cc96",
           "#ab63fa",
           "#FFA15A",
           "#19d3f3",
           "#FF6692",
           "#B6E880",
           "#FF97FF",
           "#FECB52"
          ],
          "font": {
           "color": "#2a3f5f"
          },
          "geo": {
           "bgcolor": "white",
           "lakecolor": "white",
           "landcolor": "#E5ECF6",
           "showlakes": true,
           "showland": true,
           "subunitcolor": "white"
          },
          "hoverlabel": {
           "align": "left"
          },
          "hovermode": "closest",
          "mapbox": {
           "style": "light"
          },
          "paper_bgcolor": "white",
          "plot_bgcolor": "#E5ECF6",
          "polar": {
           "angularaxis": {
            "gridcolor": "white",
            "linecolor": "white",
            "ticks": ""
           },
           "bgcolor": "#E5ECF6",
           "radialaxis": {
            "gridcolor": "white",
            "linecolor": "white",
            "ticks": ""
           }
          },
          "scene": {
           "xaxis": {
            "backgroundcolor": "#E5ECF6",
            "gridcolor": "white",
            "gridwidth": 2,
            "linecolor": "white",
            "showbackground": true,
            "ticks": "",
            "zerolinecolor": "white"
           },
           "yaxis": {
            "backgroundcolor": "#E5ECF6",
            "gridcolor": "white",
            "gridwidth": 2,
            "linecolor": "white",
            "showbackground": true,
            "ticks": "",
            "zerolinecolor": "white"
           },
           "zaxis": {
            "backgroundcolor": "#E5ECF6",
            "gridcolor": "white",
            "gridwidth": 2,
            "linecolor": "white",
            "showbackground": true,
            "ticks": "",
            "zerolinecolor": "white"
           }
          },
          "shapedefaults": {
           "line": {
            "color": "#2a3f5f"
           }
          },
          "ternary": {
           "aaxis": {
            "gridcolor": "white",
            "linecolor": "white",
            "ticks": ""
           },
           "baxis": {
            "gridcolor": "white",
            "linecolor": "white",
            "ticks": ""
           },
           "bgcolor": "#E5ECF6",
           "caxis": {
            "gridcolor": "white",
            "linecolor": "white",
            "ticks": ""
           }
          },
          "title": {
           "x": 0.05
          },
          "xaxis": {
           "automargin": true,
           "gridcolor": "white",
           "linecolor": "white",
           "ticks": "",
           "title": {
            "standoff": 15
           },
           "zerolinecolor": "white",
           "zerolinewidth": 2
          },
          "yaxis": {
           "automargin": true,
           "gridcolor": "white",
           "linecolor": "white",
           "ticks": "",
           "title": {
            "standoff": 15
           },
           "zerolinecolor": "white",
           "zerolinewidth": 2
          }
         }
        }
       }
      },
      "text/html": [
       "<div>                            <div id=\"78c6fec2-06c2-48f3-859a-1754bafd3712\" class=\"plotly-graph-div\" style=\"height:525px; width:100%;\"></div>            <script type=\"text/javascript\">                require([\"plotly\"], function(Plotly) {                    window.PLOTLYENV=window.PLOTLYENV || {};                                    if (document.getElementById(\"78c6fec2-06c2-48f3-859a-1754bafd3712\")) {                    Plotly.newPlot(                        \"78c6fec2-06c2-48f3-859a-1754bafd3712\",                        [{\"branchvalues\":\"total\",\"insidetextorientation\":\"radial\",\"labels\":[\"Enig\",\"Delvist Enig\",\"Uenig\",\"Ronald Kofoed-Rasmussen  (A.)\",\"Klaus Hermansen (\\u00d8.)\",\"Stig Westermann (\\u00d8.)\",\"Jo\\u00e3o A. B. R. M\\u00f8ller  (B.)\",\"Morten Riis (\\u00d8.)\",\"S\\u00f8ren Schow (V.)\",\"L\\u00e6rke Lina Skovbjerg (G.)\",\"Nikolaj Fjellerad (F.)\",\"Leif Olsen (F.)\",\"Bo Haxthausen (F.)\",\"Bjarne Hartung Kirkegaard (K.)\",\"Niels Chresten Andersen (K.)\",\"Hans Ole Bech (K.)\",\"Jacob Tr\\u00f8st (C.)\",\"Hartvig Mumm (K.)\",\"Runa Jensen  (\\u00d8.)\",\"Carsten H\\u00e6strup  (V.)\",\"Jannie Sauer (V.)\"],\"marker\":{\"colors\":[\"rgb(169,220,163)\",\"rgb(15,122,55)\"]},\"parents\":[\"\",\"\",\"\",\"Enig\",\"Enig\",\"Enig\",\"Enig\",\"Enig\",\"Enig\",\"Enig\",\"Enig\",\"Enig\",\"Enig\",\"Delvist Enig\",\"Delvist Enig\",\"Delvist Enig\",\"Delvist Enig\",\"Delvist Enig\",\"Delvist Enig\",\"Uenig\",\"Uenig\"],\"values\":[10,6,2,1,1,1,1,1,1,1,1,1,1,1,1,1,1,1,1,1,1],\"type\":\"sunburst\"}],                        {\"template\":{\"data\":{\"histogram2dcontour\":[{\"type\":\"histogram2dcontour\",\"colorbar\":{\"outlinewidth\":0,\"ticks\":\"\"},\"colorscale\":[[0.0,\"#0d0887\"],[0.1111111111111111,\"#46039f\"],[0.2222222222222222,\"#7201a8\"],[0.3333333333333333,\"#9c179e\"],[0.4444444444444444,\"#bd3786\"],[0.5555555555555556,\"#d8576b\"],[0.6666666666666666,\"#ed7953\"],[0.7777777777777778,\"#fb9f3a\"],[0.8888888888888888,\"#fdca26\"],[1.0,\"#f0f921\"]]}],\"choropleth\":[{\"type\":\"choropleth\",\"colorbar\":{\"outlinewidth\":0,\"ticks\":\"\"}}],\"histogram2d\":[{\"type\":\"histogram2d\",\"colorbar\":{\"outlinewidth\":0,\"ticks\":\"\"},\"colorscale\":[[0.0,\"#0d0887\"],[0.1111111111111111,\"#46039f\"],[0.2222222222222222,\"#7201a8\"],[0.3333333333333333,\"#9c179e\"],[0.4444444444444444,\"#bd3786\"],[0.5555555555555556,\"#d8576b\"],[0.6666666666666666,\"#ed7953\"],[0.7777777777777778,\"#fb9f3a\"],[0.8888888888888888,\"#fdca26\"],[1.0,\"#f0f921\"]]}],\"heatmap\":[{\"type\":\"heatmap\",\"colorbar\":{\"outlinewidth\":0,\"ticks\":\"\"},\"colorscale\":[[0.0,\"#0d0887\"],[0.1111111111111111,\"#46039f\"],[0.2222222222222222,\"#7201a8\"],[0.3333333333333333,\"#9c179e\"],[0.4444444444444444,\"#bd3786\"],[0.5555555555555556,\"#d8576b\"],[0.6666666666666666,\"#ed7953\"],[0.7777777777777778,\"#fb9f3a\"],[0.8888888888888888,\"#fdca26\"],[1.0,\"#f0f921\"]]}],\"heatmapgl\":[{\"type\":\"heatmapgl\",\"colorbar\":{\"outlinewidth\":0,\"ticks\":\"\"},\"colorscale\":[[0.0,\"#0d0887\"],[0.1111111111111111,\"#46039f\"],[0.2222222222222222,\"#7201a8\"],[0.3333333333333333,\"#9c179e\"],[0.4444444444444444,\"#bd3786\"],[0.5555555555555556,\"#d8576b\"],[0.6666666666666666,\"#ed7953\"],[0.7777777777777778,\"#fb9f3a\"],[0.8888888888888888,\"#fdca26\"],[1.0,\"#f0f921\"]]}],\"contourcarpet\":[{\"type\":\"contourcarpet\",\"colorbar\":{\"outlinewidth\":0,\"ticks\":\"\"}}],\"contour\":[{\"type\":\"contour\",\"colorbar\":{\"outlinewidth\":0,\"ticks\":\"\"},\"colorscale\":[[0.0,\"#0d0887\"],[0.1111111111111111,\"#46039f\"],[0.2222222222222222,\"#7201a8\"],[0.3333333333333333,\"#9c179e\"],[0.4444444444444444,\"#bd3786\"],[0.5555555555555556,\"#d8576b\"],[0.6666666666666666,\"#ed7953\"],[0.7777777777777778,\"#fb9f3a\"],[0.8888888888888888,\"#fdca26\"],[1.0,\"#f0f921\"]]}],\"surface\":[{\"type\":\"surface\",\"colorbar\":{\"outlinewidth\":0,\"ticks\":\"\"},\"colorscale\":[[0.0,\"#0d0887\"],[0.1111111111111111,\"#46039f\"],[0.2222222222222222,\"#7201a8\"],[0.3333333333333333,\"#9c179e\"],[0.4444444444444444,\"#bd3786\"],[0.5555555555555556,\"#d8576b\"],[0.6666666666666666,\"#ed7953\"],[0.7777777777777778,\"#fb9f3a\"],[0.8888888888888888,\"#fdca26\"],[1.0,\"#f0f921\"]]}],\"mesh3d\":[{\"type\":\"mesh3d\",\"colorbar\":{\"outlinewidth\":0,\"ticks\":\"\"}}],\"scatter\":[{\"fillpattern\":{\"fillmode\":\"overlay\",\"size\":10,\"solidity\":0.2},\"type\":\"scatter\"}],\"parcoords\":[{\"type\":\"parcoords\",\"line\":{\"colorbar\":{\"outlinewidth\":0,\"ticks\":\"\"}}}],\"scatterpolargl\":[{\"type\":\"scatterpolargl\",\"marker\":{\"colorbar\":{\"outlinewidth\":0,\"ticks\":\"\"}}}],\"bar\":[{\"error_x\":{\"color\":\"#2a3f5f\"},\"error_y\":{\"color\":\"#2a3f5f\"},\"marker\":{\"line\":{\"color\":\"#E5ECF6\",\"width\":0.5},\"pattern\":{\"fillmode\":\"overlay\",\"size\":10,\"solidity\":0.2}},\"type\":\"bar\"}],\"scattergeo\":[{\"type\":\"scattergeo\",\"marker\":{\"colorbar\":{\"outlinewidth\":0,\"ticks\":\"\"}}}],\"scatterpolar\":[{\"type\":\"scatterpolar\",\"marker\":{\"colorbar\":{\"outlinewidth\":0,\"ticks\":\"\"}}}],\"histogram\":[{\"marker\":{\"pattern\":{\"fillmode\":\"overlay\",\"size\":10,\"solidity\":0.2}},\"type\":\"histogram\"}],\"scattergl\":[{\"type\":\"scattergl\",\"marker\":{\"colorbar\":{\"outlinewidth\":0,\"ticks\":\"\"}}}],\"scatter3d\":[{\"type\":\"scatter3d\",\"line\":{\"colorbar\":{\"outlinewidth\":0,\"ticks\":\"\"}},\"marker\":{\"colorbar\":{\"outlinewidth\":0,\"ticks\":\"\"}}}],\"scattermapbox\":[{\"type\":\"scattermapbox\",\"marker\":{\"colorbar\":{\"outlinewidth\":0,\"ticks\":\"\"}}}],\"scatterternary\":[{\"type\":\"scatterternary\",\"marker\":{\"colorbar\":{\"outlinewidth\":0,\"ticks\":\"\"}}}],\"scattercarpet\":[{\"type\":\"scattercarpet\",\"marker\":{\"colorbar\":{\"outlinewidth\":0,\"ticks\":\"\"}}}],\"carpet\":[{\"aaxis\":{\"endlinecolor\":\"#2a3f5f\",\"gridcolor\":\"white\",\"linecolor\":\"white\",\"minorgridcolor\":\"white\",\"startlinecolor\":\"#2a3f5f\"},\"baxis\":{\"endlinecolor\":\"#2a3f5f\",\"gridcolor\":\"white\",\"linecolor\":\"white\",\"minorgridcolor\":\"white\",\"startlinecolor\":\"#2a3f5f\"},\"type\":\"carpet\"}],\"table\":[{\"cells\":{\"fill\":{\"color\":\"#EBF0F8\"},\"line\":{\"color\":\"white\"}},\"header\":{\"fill\":{\"color\":\"#C8D4E3\"},\"line\":{\"color\":\"white\"}},\"type\":\"table\"}],\"barpolar\":[{\"marker\":{\"line\":{\"color\":\"#E5ECF6\",\"width\":0.5},\"pattern\":{\"fillmode\":\"overlay\",\"size\":10,\"solidity\":0.2}},\"type\":\"barpolar\"}],\"pie\":[{\"automargin\":true,\"type\":\"pie\"}]},\"layout\":{\"autotypenumbers\":\"strict\",\"colorway\":[\"#636efa\",\"#EF553B\",\"#00cc96\",\"#ab63fa\",\"#FFA15A\",\"#19d3f3\",\"#FF6692\",\"#B6E880\",\"#FF97FF\",\"#FECB52\"],\"font\":{\"color\":\"#2a3f5f\"},\"hovermode\":\"closest\",\"hoverlabel\":{\"align\":\"left\"},\"paper_bgcolor\":\"white\",\"plot_bgcolor\":\"#E5ECF6\",\"polar\":{\"bgcolor\":\"#E5ECF6\",\"angularaxis\":{\"gridcolor\":\"white\",\"linecolor\":\"white\",\"ticks\":\"\"},\"radialaxis\":{\"gridcolor\":\"white\",\"linecolor\":\"white\",\"ticks\":\"\"}},\"ternary\":{\"bgcolor\":\"#E5ECF6\",\"aaxis\":{\"gridcolor\":\"white\",\"linecolor\":\"white\",\"ticks\":\"\"},\"baxis\":{\"gridcolor\":\"white\",\"linecolor\":\"white\",\"ticks\":\"\"},\"caxis\":{\"gridcolor\":\"white\",\"linecolor\":\"white\",\"ticks\":\"\"}},\"coloraxis\":{\"colorbar\":{\"outlinewidth\":0,\"ticks\":\"\"}},\"colorscale\":{\"sequential\":[[0.0,\"#0d0887\"],[0.1111111111111111,\"#46039f\"],[0.2222222222222222,\"#7201a8\"],[0.3333333333333333,\"#9c179e\"],[0.4444444444444444,\"#bd3786\"],[0.5555555555555556,\"#d8576b\"],[0.6666666666666666,\"#ed7953\"],[0.7777777777777778,\"#fb9f3a\"],[0.8888888888888888,\"#fdca26\"],[1.0,\"#f0f921\"]],\"sequentialminus\":[[0.0,\"#0d0887\"],[0.1111111111111111,\"#46039f\"],[0.2222222222222222,\"#7201a8\"],[0.3333333333333333,\"#9c179e\"],[0.4444444444444444,\"#bd3786\"],[0.5555555555555556,\"#d8576b\"],[0.6666666666666666,\"#ed7953\"],[0.7777777777777778,\"#fb9f3a\"],[0.8888888888888888,\"#fdca26\"],[1.0,\"#f0f921\"]],\"diverging\":[[0,\"#8e0152\"],[0.1,\"#c51b7d\"],[0.2,\"#de77ae\"],[0.3,\"#f1b6da\"],[0.4,\"#fde0ef\"],[0.5,\"#f7f7f7\"],[0.6,\"#e6f5d0\"],[0.7,\"#b8e186\"],[0.8,\"#7fbc41\"],[0.9,\"#4d9221\"],[1,\"#276419\"]]},\"xaxis\":{\"gridcolor\":\"white\",\"linecolor\":\"white\",\"ticks\":\"\",\"title\":{\"standoff\":15},\"zerolinecolor\":\"white\",\"automargin\":true,\"zerolinewidth\":2},\"yaxis\":{\"gridcolor\":\"white\",\"linecolor\":\"white\",\"ticks\":\"\",\"title\":{\"standoff\":15},\"zerolinecolor\":\"white\",\"automargin\":true,\"zerolinewidth\":2},\"scene\":{\"xaxis\":{\"backgroundcolor\":\"#E5ECF6\",\"gridcolor\":\"white\",\"linecolor\":\"white\",\"showbackground\":true,\"ticks\":\"\",\"zerolinecolor\":\"white\",\"gridwidth\":2},\"yaxis\":{\"backgroundcolor\":\"#E5ECF6\",\"gridcolor\":\"white\",\"linecolor\":\"white\",\"showbackground\":true,\"ticks\":\"\",\"zerolinecolor\":\"white\",\"gridwidth\":2},\"zaxis\":{\"backgroundcolor\":\"#E5ECF6\",\"gridcolor\":\"white\",\"linecolor\":\"white\",\"showbackground\":true,\"ticks\":\"\",\"zerolinecolor\":\"white\",\"gridwidth\":2}},\"shapedefaults\":{\"line\":{\"color\":\"#2a3f5f\"}},\"annotationdefaults\":{\"arrowcolor\":\"#2a3f5f\",\"arrowhead\":0,\"arrowwidth\":1},\"geo\":{\"bgcolor\":\"white\",\"landcolor\":\"#E5ECF6\",\"subunitcolor\":\"white\",\"showland\":true,\"showlakes\":true,\"lakecolor\":\"white\"},\"title\":{\"x\":0.05},\"mapbox\":{\"style\":\"light\"}}}},                        {\"responsive\": true}                    ).then(function(){\n",
       "                            \n",
       "var gd = document.getElementById('78c6fec2-06c2-48f3-859a-1754bafd3712');\n",
       "var x = new MutationObserver(function (mutations, observer) {{\n",
       "        var display = window.getComputedStyle(gd).display;\n",
       "        if (!display || display === 'none') {{\n",
       "            console.log([gd, 'removed!']);\n",
       "            Plotly.purge(gd);\n",
       "            observer.disconnect();\n",
       "        }}\n",
       "}});\n",
       "\n",
       "// Listen for the removal of the full notebook cells\n",
       "var notebookContainer = gd.closest('#notebook-container');\n",
       "if (notebookContainer) {{\n",
       "    x.observe(notebookContainer, {childList: true});\n",
       "}}\n",
       "\n",
       "// Listen for the clearing of the current output cell\n",
       "var outputEl = gd.closest('.output');\n",
       "if (outputEl) {{\n",
       "    x.observe(outputEl, {childList: true});\n",
       "}}\n",
       "\n",
       "                        })                };                });            </script>        </div>"
      ]
     },
     "metadata": {},
     "output_type": "display_data"
    }
   ],
   "source": [
>>>>>>> Stashed changes
    "fig = go.Figure()\n",
=======
    "# fig = go.Figure()\n",
>>>>>>> parent of 8de6f7d (Update Experimenting with graphs.ipynb)
    "\n",
    "# colors = ['rgb(218,241,212)','rgb(169,220,163)','rgb(15,122,55)']\n",
    "\n",
    "# data = dict(\n",
    "#     names=sunburst_names,\n",
    "#     parent=sunburst_parents,\n",
    "#     value=sunburst_values)\n",
    "\n",
    "# fig.add_trace(go.Sunburst(\n",
    "#     labels=data['names'],\n",
    "#     parents=data['parent'],\n",
    "#     values=data['value'],\n",
    "#     branchvalues=\"total\",\n",
    "#     marker_colors = ['rgb(169,220,163)','rgb(15,122,55)'],\n",
    "#     insidetextorientation='radial',\n",
    "#     ))\n",
    "\n",
    "\n",
    "\n",
    "# fig.show()"
   ]
  },
  {
   "cell_type": "code",
   "execution_count": 100,
   "id": "6a4b3e9a",
   "metadata": {},
   "outputs": [],
   "source": [
    "# parents_candidates.unique()\n",
    "# color_dict = {\"Enig\":'rgb(15,122,55)',\"Delvist Enig\": 'rgb(169,220,163)'}\n",
    "# colors_sunburst = {}\n",
    "# for answer in parents_candidates.unique():\n",
    "#     colors_sunburst[answer] = color_dict[answer]\n",
    "# colors_sunburst"
   ]
  },
  {
   "cell_type": "code",
   "execution_count": 101,
   "id": "eab6666c",
   "metadata": {},
   "outputs": [
    {
     "data": {
      "application/vnd.plotly.v1+json": {
       "config": {
        "plotlyServerURL": "https://plot.ly"
       },
       "data": [
        {
         "branchvalues": "total",
         "insidetextorientation": "radial",
         "labels": [
          "Enig",
          "Delvist Enig",
          "Uenig",
          "Ronald Kofoed-Rasmussen  (A.)",
          "Klaus Hermansen (Ø.)",
          "Stig Westermann (Ø.)",
          "João A. B. R. Møller  (B.)",
          "Morten Riis (Ø.)",
          "Søren Schow (V.)",
          "Lærke Lina Skovbjerg (G.)",
          "Nikolaj Fjellerad (F.)",
          "Leif Olsen (F.)",
          "Bo Haxthausen (F.)",
          "Bjarne Hartung Kirkegaard (K.)",
          "Niels Chresten Andersen (K.)",
          "Hans Ole Bech (K.)",
          "Jacob Trøst (C.)",
          "Hartvig Mumm (K.)",
          "Runa Jensen  (Ø.)",
          "Carsten Hæstrup  (V.)",
          "Jannie Sauer (V.)"
         ],
         "marker": {
          "colors": [
           "rgb(15,122,55)",
           "rgb(169,220,163)",
           "rgb(218,241,212)"
          ]
         },
         "parents": [
          "",
          "",
          "",
          "Enig",
          "Enig",
          "Enig",
          "Enig",
          "Enig",
          "Enig",
          "Enig",
          "Enig",
          "Enig",
          "Enig",
          "Delvist Enig",
          "Delvist Enig",
          "Delvist Enig",
          "Delvist Enig",
          "Delvist Enig",
          "Delvist Enig",
          "Uenig",
          "Uenig"
         ],
         "type": "sunburst",
         "values": [
          10,
          6,
          2,
          1,
          1,
          1,
          1,
          1,
          1,
          1,
          1,
          1,
          1,
          1,
          1,
          1,
          1,
          1,
          1,
          1,
          1
         ]
        }
       ],
       "layout": {
        "autosize": false,
        "height": 720,
        "template": {
         "data": {
          "bar": [
           {
            "error_x": {
             "color": "#2a3f5f"
            },
            "error_y": {
             "color": "#2a3f5f"
            },
            "marker": {
             "line": {
              "color": "#E5ECF6",
              "width": 0.5
             },
             "pattern": {
              "fillmode": "overlay",
              "size": 10,
              "solidity": 0.2
             }
            },
            "type": "bar"
           }
          ],
          "barpolar": [
           {
            "marker": {
             "line": {
              "color": "#E5ECF6",
              "width": 0.5
             },
             "pattern": {
              "fillmode": "overlay",
              "size": 10,
              "solidity": 0.2
             }
            },
            "type": "barpolar"
           }
          ],
          "carpet": [
           {
            "aaxis": {
             "endlinecolor": "#2a3f5f",
             "gridcolor": "white",
             "linecolor": "white",
             "minorgridcolor": "white",
             "startlinecolor": "#2a3f5f"
            },
            "baxis": {
             "endlinecolor": "#2a3f5f",
             "gridcolor": "white",
             "linecolor": "white",
             "minorgridcolor": "white",
             "startlinecolor": "#2a3f5f"
            },
            "type": "carpet"
           }
          ],
          "choropleth": [
           {
            "colorbar": {
             "outlinewidth": 0,
             "ticks": ""
            },
            "type": "choropleth"
           }
          ],
          "contour": [
           {
            "colorbar": {
             "outlinewidth": 0,
             "ticks": ""
            },
            "colorscale": [
             [
              0,
              "#0d0887"
             ],
             [
              0.1111111111111111,
              "#46039f"
             ],
             [
              0.2222222222222222,
              "#7201a8"
             ],
             [
              0.3333333333333333,
              "#9c179e"
             ],
             [
              0.4444444444444444,
              "#bd3786"
             ],
             [
              0.5555555555555556,
              "#d8576b"
             ],
             [
              0.6666666666666666,
              "#ed7953"
             ],
             [
              0.7777777777777778,
              "#fb9f3a"
             ],
             [
              0.8888888888888888,
              "#fdca26"
             ],
             [
              1,
              "#f0f921"
             ]
            ],
            "type": "contour"
           }
          ],
          "contourcarpet": [
           {
            "colorbar": {
             "outlinewidth": 0,
             "ticks": ""
            },
            "type": "contourcarpet"
           }
          ],
          "heatmap": [
           {
            "colorbar": {
             "outlinewidth": 0,
             "ticks": ""
            },
            "colorscale": [
             [
              0,
              "#0d0887"
             ],
             [
              0.1111111111111111,
              "#46039f"
             ],
             [
              0.2222222222222222,
              "#7201a8"
             ],
             [
              0.3333333333333333,
              "#9c179e"
             ],
             [
              0.4444444444444444,
              "#bd3786"
             ],
             [
              0.5555555555555556,
              "#d8576b"
             ],
             [
              0.6666666666666666,
              "#ed7953"
             ],
             [
              0.7777777777777778,
              "#fb9f3a"
             ],
             [
              0.8888888888888888,
              "#fdca26"
             ],
             [
              1,
              "#f0f921"
             ]
            ],
            "type": "heatmap"
           }
          ],
          "heatmapgl": [
           {
            "colorbar": {
             "outlinewidth": 0,
             "ticks": ""
            },
            "colorscale": [
             [
              0,
              "#0d0887"
             ],
             [
              0.1111111111111111,
              "#46039f"
             ],
             [
              0.2222222222222222,
              "#7201a8"
             ],
             [
              0.3333333333333333,
              "#9c179e"
             ],
             [
              0.4444444444444444,
              "#bd3786"
             ],
             [
              0.5555555555555556,
              "#d8576b"
             ],
             [
              0.6666666666666666,
              "#ed7953"
             ],
             [
              0.7777777777777778,
              "#fb9f3a"
             ],
             [
              0.8888888888888888,
              "#fdca26"
             ],
             [
              1,
              "#f0f921"
             ]
            ],
            "type": "heatmapgl"
           }
          ],
          "histogram": [
           {
            "marker": {
             "pattern": {
              "fillmode": "overlay",
              "size": 10,
              "solidity": 0.2
             }
            },
            "type": "histogram"
           }
          ],
          "histogram2d": [
           {
            "colorbar": {
             "outlinewidth": 0,
             "ticks": ""
            },
            "colorscale": [
             [
              0,
              "#0d0887"
             ],
             [
              0.1111111111111111,
              "#46039f"
             ],
             [
              0.2222222222222222,
              "#7201a8"
             ],
             [
              0.3333333333333333,
              "#9c179e"
             ],
             [
              0.4444444444444444,
              "#bd3786"
             ],
             [
              0.5555555555555556,
              "#d8576b"
             ],
             [
              0.6666666666666666,
              "#ed7953"
             ],
             [
              0.7777777777777778,
              "#fb9f3a"
             ],
             [
              0.8888888888888888,
              "#fdca26"
             ],
             [
              1,
              "#f0f921"
             ]
            ],
            "type": "histogram2d"
           }
          ],
          "histogram2dcontour": [
           {
            "colorbar": {
             "outlinewidth": 0,
             "ticks": ""
            },
            "colorscale": [
             [
              0,
              "#0d0887"
             ],
             [
              0.1111111111111111,
              "#46039f"
             ],
             [
              0.2222222222222222,
              "#7201a8"
             ],
             [
              0.3333333333333333,
              "#9c179e"
             ],
             [
              0.4444444444444444,
              "#bd3786"
             ],
             [
              0.5555555555555556,
              "#d8576b"
             ],
             [
              0.6666666666666666,
              "#ed7953"
             ],
             [
              0.7777777777777778,
              "#fb9f3a"
             ],
             [
              0.8888888888888888,
              "#fdca26"
             ],
             [
              1,
              "#f0f921"
             ]
            ],
            "type": "histogram2dcontour"
           }
          ],
          "mesh3d": [
           {
            "colorbar": {
             "outlinewidth": 0,
             "ticks": ""
            },
            "type": "mesh3d"
           }
          ],
          "parcoords": [
           {
            "line": {
             "colorbar": {
              "outlinewidth": 0,
              "ticks": ""
             }
            },
            "type": "parcoords"
           }
          ],
          "pie": [
           {
            "automargin": true,
            "type": "pie"
           }
          ],
          "scatter": [
           {
            "fillpattern": {
             "fillmode": "overlay",
             "size": 10,
             "solidity": 0.2
            },
            "type": "scatter"
           }
          ],
          "scatter3d": [
           {
            "line": {
             "colorbar": {
              "outlinewidth": 0,
              "ticks": ""
             }
            },
            "marker": {
             "colorbar": {
              "outlinewidth": 0,
              "ticks": ""
             }
            },
            "type": "scatter3d"
           }
          ],
          "scattercarpet": [
           {
            "marker": {
             "colorbar": {
              "outlinewidth": 0,
              "ticks": ""
             }
            },
            "type": "scattercarpet"
           }
          ],
          "scattergeo": [
           {
            "marker": {
             "colorbar": {
              "outlinewidth": 0,
              "ticks": ""
             }
            },
            "type": "scattergeo"
           }
          ],
          "scattergl": [
           {
            "marker": {
             "colorbar": {
              "outlinewidth": 0,
              "ticks": ""
             }
            },
            "type": "scattergl"
           }
          ],
          "scattermapbox": [
           {
            "marker": {
             "colorbar": {
              "outlinewidth": 0,
              "ticks": ""
             }
            },
            "type": "scattermapbox"
           }
          ],
          "scatterpolar": [
           {
            "marker": {
             "colorbar": {
              "outlinewidth": 0,
              "ticks": ""
             }
            },
            "type": "scatterpolar"
           }
          ],
          "scatterpolargl": [
           {
            "marker": {
             "colorbar": {
              "outlinewidth": 0,
              "ticks": ""
             }
            },
            "type": "scatterpolargl"
           }
          ],
          "scatterternary": [
           {
            "marker": {
             "colorbar": {
              "outlinewidth": 0,
              "ticks": ""
             }
            },
            "type": "scatterternary"
           }
          ],
          "surface": [
           {
            "colorbar": {
             "outlinewidth": 0,
             "ticks": ""
            },
            "colorscale": [
             [
              0,
              "#0d0887"
             ],
             [
              0.1111111111111111,
              "#46039f"
             ],
             [
              0.2222222222222222,
              "#7201a8"
             ],
             [
              0.3333333333333333,
              "#9c179e"
             ],
             [
              0.4444444444444444,
              "#bd3786"
             ],
             [
              0.5555555555555556,
              "#d8576b"
             ],
             [
              0.6666666666666666,
              "#ed7953"
             ],
             [
              0.7777777777777778,
              "#fb9f3a"
             ],
             [
              0.8888888888888888,
              "#fdca26"
             ],
             [
              1,
              "#f0f921"
             ]
            ],
            "type": "surface"
           }
          ],
          "table": [
           {
            "cells": {
             "fill": {
              "color": "#EBF0F8"
             },
             "line": {
              "color": "white"
             }
            },
            "header": {
             "fill": {
              "color": "#C8D4E3"
             },
             "line": {
              "color": "white"
             }
            },
            "type": "table"
           }
          ]
         },
         "layout": {
          "annotationdefaults": {
           "arrowcolor": "#2a3f5f",
           "arrowhead": 0,
           "arrowwidth": 1
          },
          "autotypenumbers": "strict",
          "coloraxis": {
           "colorbar": {
            "outlinewidth": 0,
            "ticks": ""
           }
          },
          "colorscale": {
           "diverging": [
            [
             0,
             "#8e0152"
            ],
            [
             0.1,
             "#c51b7d"
            ],
            [
             0.2,
             "#de77ae"
            ],
            [
             0.3,
             "#f1b6da"
            ],
            [
             0.4,
             "#fde0ef"
            ],
            [
             0.5,
             "#f7f7f7"
            ],
            [
             0.6,
             "#e6f5d0"
            ],
            [
             0.7,
             "#b8e186"
            ],
            [
             0.8,
             "#7fbc41"
            ],
            [
             0.9,
             "#4d9221"
            ],
            [
             1,
             "#276419"
            ]
           ],
           "sequential": [
            [
             0,
             "#0d0887"
            ],
            [
             0.1111111111111111,
             "#46039f"
            ],
            [
             0.2222222222222222,
             "#7201a8"
            ],
            [
             0.3333333333333333,
             "#9c179e"
            ],
            [
             0.4444444444444444,
             "#bd3786"
            ],
            [
             0.5555555555555556,
             "#d8576b"
            ],
            [
             0.6666666666666666,
             "#ed7953"
            ],
            [
             0.7777777777777778,
             "#fb9f3a"
            ],
            [
             0.8888888888888888,
             "#fdca26"
            ],
            [
             1,
             "#f0f921"
            ]
           ],
           "sequentialminus": [
            [
             0,
             "#0d0887"
            ],
            [
             0.1111111111111111,
             "#46039f"
            ],
            [
             0.2222222222222222,
             "#7201a8"
            ],
            [
             0.3333333333333333,
             "#9c179e"
            ],
            [
             0.4444444444444444,
             "#bd3786"
            ],
            [
             0.5555555555555556,
             "#d8576b"
            ],
            [
             0.6666666666666666,
             "#ed7953"
            ],
            [
             0.7777777777777778,
             "#fb9f3a"
            ],
            [
             0.8888888888888888,
             "#fdca26"
            ],
            [
             1,
             "#f0f921"
            ]
           ]
          },
          "colorway": [
           "#636efa",
           "#EF553B",
           "#00cc96",
           "#ab63fa",
           "#FFA15A",
           "#19d3f3",
           "#FF6692",
           "#B6E880",
           "#FF97FF",
           "#FECB52"
          ],
          "font": {
           "color": "#2a3f5f"
          },
          "geo": {
           "bgcolor": "white",
           "lakecolor": "white",
           "landcolor": "#E5ECF6",
           "showlakes": true,
           "showland": true,
           "subunitcolor": "white"
          },
          "hoverlabel": {
           "align": "left"
          },
          "hovermode": "closest",
          "mapbox": {
           "style": "light"
          },
          "paper_bgcolor": "white",
          "plot_bgcolor": "#E5ECF6",
          "polar": {
           "angularaxis": {
            "gridcolor": "white",
            "linecolor": "white",
            "ticks": ""
           },
           "bgcolor": "#E5ECF6",
           "radialaxis": {
            "gridcolor": "white",
            "linecolor": "white",
            "ticks": ""
           }
          },
          "scene": {
           "xaxis": {
            "backgroundcolor": "#E5ECF6",
            "gridcolor": "white",
            "gridwidth": 2,
            "linecolor": "white",
            "showbackground": true,
            "ticks": "",
            "zerolinecolor": "white"
           },
           "yaxis": {
            "backgroundcolor": "#E5ECF6",
            "gridcolor": "white",
            "gridwidth": 2,
            "linecolor": "white",
            "showbackground": true,
            "ticks": "",
            "zerolinecolor": "white"
           },
           "zaxis": {
            "backgroundcolor": "#E5ECF6",
            "gridcolor": "white",
            "gridwidth": 2,
            "linecolor": "white",
            "showbackground": true,
            "ticks": "",
            "zerolinecolor": "white"
           }
          },
          "shapedefaults": {
           "line": {
            "color": "#2a3f5f"
           }
          },
          "ternary": {
           "aaxis": {
            "gridcolor": "white",
            "linecolor": "white",
            "ticks": ""
           },
           "baxis": {
            "gridcolor": "white",
            "linecolor": "white",
            "ticks": ""
           },
           "bgcolor": "#E5ECF6",
           "caxis": {
            "gridcolor": "white",
            "linecolor": "white",
            "ticks": ""
           }
          },
          "title": {
           "x": 0.05
          },
          "xaxis": {
           "automargin": true,
           "gridcolor": "white",
           "linecolor": "white",
           "ticks": "",
           "title": {
            "standoff": 15
           },
           "zerolinecolor": "white",
           "zerolinewidth": 2
          },
          "yaxis": {
           "automargin": true,
           "gridcolor": "white",
           "linecolor": "white",
           "ticks": "",
           "title": {
            "standoff": 15
           },
           "zerolinecolor": "white",
           "zerolinewidth": 2
          }
         }
        },
        "width": 1200
       }
      },
      "text/html": [
       "<div>                            <div id=\"37f4f455-41a6-4462-a419-8eb799fdbc04\" class=\"plotly-graph-div\" style=\"height:720px; width:1200px;\"></div>            <script type=\"text/javascript\">                require([\"plotly\"], function(Plotly) {                    window.PLOTLYENV=window.PLOTLYENV || {};                                    if (document.getElementById(\"37f4f455-41a6-4462-a419-8eb799fdbc04\")) {                    Plotly.newPlot(                        \"37f4f455-41a6-4462-a419-8eb799fdbc04\",                        [{\"branchvalues\":\"total\",\"insidetextorientation\":\"radial\",\"labels\":[\"Enig\",\"Delvist Enig\",\"Uenig\",\"Ronald Kofoed-Rasmussen  (A.)\",\"Klaus Hermansen (\\u00d8.)\",\"Stig Westermann (\\u00d8.)\",\"Jo\\u00e3o A. B. R. M\\u00f8ller  (B.)\",\"Morten Riis (\\u00d8.)\",\"S\\u00f8ren Schow (V.)\",\"L\\u00e6rke Lina Skovbjerg (G.)\",\"Nikolaj Fjellerad (F.)\",\"Leif Olsen (F.)\",\"Bo Haxthausen (F.)\",\"Bjarne Hartung Kirkegaard (K.)\",\"Niels Chresten Andersen (K.)\",\"Hans Ole Bech (K.)\",\"Jacob Tr\\u00f8st (C.)\",\"Hartvig Mumm (K.)\",\"Runa Jensen  (\\u00d8.)\",\"Carsten H\\u00e6strup  (V.)\",\"Jannie Sauer (V.)\"],\"marker\":{\"colors\":[\"rgb(15,122,55)\",\"rgb(169,220,163)\",\"rgb(218,241,212)\"]},\"parents\":[\"\",\"\",\"\",\"Enig\",\"Enig\",\"Enig\",\"Enig\",\"Enig\",\"Enig\",\"Enig\",\"Enig\",\"Enig\",\"Enig\",\"Delvist Enig\",\"Delvist Enig\",\"Delvist Enig\",\"Delvist Enig\",\"Delvist Enig\",\"Delvist Enig\",\"Uenig\",\"Uenig\"],\"values\":[10,6,2,1,1,1,1,1,1,1,1,1,1,1,1,1,1,1,1,1,1],\"type\":\"sunburst\"}],                        {\"template\":{\"data\":{\"histogram2dcontour\":[{\"type\":\"histogram2dcontour\",\"colorbar\":{\"outlinewidth\":0,\"ticks\":\"\"},\"colorscale\":[[0.0,\"#0d0887\"],[0.1111111111111111,\"#46039f\"],[0.2222222222222222,\"#7201a8\"],[0.3333333333333333,\"#9c179e\"],[0.4444444444444444,\"#bd3786\"],[0.5555555555555556,\"#d8576b\"],[0.6666666666666666,\"#ed7953\"],[0.7777777777777778,\"#fb9f3a\"],[0.8888888888888888,\"#fdca26\"],[1.0,\"#f0f921\"]]}],\"choropleth\":[{\"type\":\"choropleth\",\"colorbar\":{\"outlinewidth\":0,\"ticks\":\"\"}}],\"histogram2d\":[{\"type\":\"histogram2d\",\"colorbar\":{\"outlinewidth\":0,\"ticks\":\"\"},\"colorscale\":[[0.0,\"#0d0887\"],[0.1111111111111111,\"#46039f\"],[0.2222222222222222,\"#7201a8\"],[0.3333333333333333,\"#9c179e\"],[0.4444444444444444,\"#bd3786\"],[0.5555555555555556,\"#d8576b\"],[0.6666666666666666,\"#ed7953\"],[0.7777777777777778,\"#fb9f3a\"],[0.8888888888888888,\"#fdca26\"],[1.0,\"#f0f921\"]]}],\"heatmap\":[{\"type\":\"heatmap\",\"colorbar\":{\"outlinewidth\":0,\"ticks\":\"\"},\"colorscale\":[[0.0,\"#0d0887\"],[0.1111111111111111,\"#46039f\"],[0.2222222222222222,\"#7201a8\"],[0.3333333333333333,\"#9c179e\"],[0.4444444444444444,\"#bd3786\"],[0.5555555555555556,\"#d8576b\"],[0.6666666666666666,\"#ed7953\"],[0.7777777777777778,\"#fb9f3a\"],[0.8888888888888888,\"#fdca26\"],[1.0,\"#f0f921\"]]}],\"heatmapgl\":[{\"type\":\"heatmapgl\",\"colorbar\":{\"outlinewidth\":0,\"ticks\":\"\"},\"colorscale\":[[0.0,\"#0d0887\"],[0.1111111111111111,\"#46039f\"],[0.2222222222222222,\"#7201a8\"],[0.3333333333333333,\"#9c179e\"],[0.4444444444444444,\"#bd3786\"],[0.5555555555555556,\"#d8576b\"],[0.6666666666666666,\"#ed7953\"],[0.7777777777777778,\"#fb9f3a\"],[0.8888888888888888,\"#fdca26\"],[1.0,\"#f0f921\"]]}],\"contourcarpet\":[{\"type\":\"contourcarpet\",\"colorbar\":{\"outlinewidth\":0,\"ticks\":\"\"}}],\"contour\":[{\"type\":\"contour\",\"colorbar\":{\"outlinewidth\":0,\"ticks\":\"\"},\"colorscale\":[[0.0,\"#0d0887\"],[0.1111111111111111,\"#46039f\"],[0.2222222222222222,\"#7201a8\"],[0.3333333333333333,\"#9c179e\"],[0.4444444444444444,\"#bd3786\"],[0.5555555555555556,\"#d8576b\"],[0.6666666666666666,\"#ed7953\"],[0.7777777777777778,\"#fb9f3a\"],[0.8888888888888888,\"#fdca26\"],[1.0,\"#f0f921\"]]}],\"surface\":[{\"type\":\"surface\",\"colorbar\":{\"outlinewidth\":0,\"ticks\":\"\"},\"colorscale\":[[0.0,\"#0d0887\"],[0.1111111111111111,\"#46039f\"],[0.2222222222222222,\"#7201a8\"],[0.3333333333333333,\"#9c179e\"],[0.4444444444444444,\"#bd3786\"],[0.5555555555555556,\"#d8576b\"],[0.6666666666666666,\"#ed7953\"],[0.7777777777777778,\"#fb9f3a\"],[0.8888888888888888,\"#fdca26\"],[1.0,\"#f0f921\"]]}],\"mesh3d\":[{\"type\":\"mesh3d\",\"colorbar\":{\"outlinewidth\":0,\"ticks\":\"\"}}],\"scatter\":[{\"fillpattern\":{\"fillmode\":\"overlay\",\"size\":10,\"solidity\":0.2},\"type\":\"scatter\"}],\"parcoords\":[{\"type\":\"parcoords\",\"line\":{\"colorbar\":{\"outlinewidth\":0,\"ticks\":\"\"}}}],\"scatterpolargl\":[{\"type\":\"scatterpolargl\",\"marker\":{\"colorbar\":{\"outlinewidth\":0,\"ticks\":\"\"}}}],\"bar\":[{\"error_x\":{\"color\":\"#2a3f5f\"},\"error_y\":{\"color\":\"#2a3f5f\"},\"marker\":{\"line\":{\"color\":\"#E5ECF6\",\"width\":0.5},\"pattern\":{\"fillmode\":\"overlay\",\"size\":10,\"solidity\":0.2}},\"type\":\"bar\"}],\"scattergeo\":[{\"type\":\"scattergeo\",\"marker\":{\"colorbar\":{\"outlinewidth\":0,\"ticks\":\"\"}}}],\"scatterpolar\":[{\"type\":\"scatterpolar\",\"marker\":{\"colorbar\":{\"outlinewidth\":0,\"ticks\":\"\"}}}],\"histogram\":[{\"marker\":{\"pattern\":{\"fillmode\":\"overlay\",\"size\":10,\"solidity\":0.2}},\"type\":\"histogram\"}],\"scattergl\":[{\"type\":\"scattergl\",\"marker\":{\"colorbar\":{\"outlinewidth\":0,\"ticks\":\"\"}}}],\"scatter3d\":[{\"type\":\"scatter3d\",\"line\":{\"colorbar\":{\"outlinewidth\":0,\"ticks\":\"\"}},\"marker\":{\"colorbar\":{\"outlinewidth\":0,\"ticks\":\"\"}}}],\"scattermapbox\":[{\"type\":\"scattermapbox\",\"marker\":{\"colorbar\":{\"outlinewidth\":0,\"ticks\":\"\"}}}],\"scatterternary\":[{\"type\":\"scatterternary\",\"marker\":{\"colorbar\":{\"outlinewidth\":0,\"ticks\":\"\"}}}],\"scattercarpet\":[{\"type\":\"scattercarpet\",\"marker\":{\"colorbar\":{\"outlinewidth\":0,\"ticks\":\"\"}}}],\"carpet\":[{\"aaxis\":{\"endlinecolor\":\"#2a3f5f\",\"gridcolor\":\"white\",\"linecolor\":\"white\",\"minorgridcolor\":\"white\",\"startlinecolor\":\"#2a3f5f\"},\"baxis\":{\"endlinecolor\":\"#2a3f5f\",\"gridcolor\":\"white\",\"linecolor\":\"white\",\"minorgridcolor\":\"white\",\"startlinecolor\":\"#2a3f5f\"},\"type\":\"carpet\"}],\"table\":[{\"cells\":{\"fill\":{\"color\":\"#EBF0F8\"},\"line\":{\"color\":\"white\"}},\"header\":{\"fill\":{\"color\":\"#C8D4E3\"},\"line\":{\"color\":\"white\"}},\"type\":\"table\"}],\"barpolar\":[{\"marker\":{\"line\":{\"color\":\"#E5ECF6\",\"width\":0.5},\"pattern\":{\"fillmode\":\"overlay\",\"size\":10,\"solidity\":0.2}},\"type\":\"barpolar\"}],\"pie\":[{\"automargin\":true,\"type\":\"pie\"}]},\"layout\":{\"autotypenumbers\":\"strict\",\"colorway\":[\"#636efa\",\"#EF553B\",\"#00cc96\",\"#ab63fa\",\"#FFA15A\",\"#19d3f3\",\"#FF6692\",\"#B6E880\",\"#FF97FF\",\"#FECB52\"],\"font\":{\"color\":\"#2a3f5f\"},\"hovermode\":\"closest\",\"hoverlabel\":{\"align\":\"left\"},\"paper_bgcolor\":\"white\",\"plot_bgcolor\":\"#E5ECF6\",\"polar\":{\"bgcolor\":\"#E5ECF6\",\"angularaxis\":{\"gridcolor\":\"white\",\"linecolor\":\"white\",\"ticks\":\"\"},\"radialaxis\":{\"gridcolor\":\"white\",\"linecolor\":\"white\",\"ticks\":\"\"}},\"ternary\":{\"bgcolor\":\"#E5ECF6\",\"aaxis\":{\"gridcolor\":\"white\",\"linecolor\":\"white\",\"ticks\":\"\"},\"baxis\":{\"gridcolor\":\"white\",\"linecolor\":\"white\",\"ticks\":\"\"},\"caxis\":{\"gridcolor\":\"white\",\"linecolor\":\"white\",\"ticks\":\"\"}},\"coloraxis\":{\"colorbar\":{\"outlinewidth\":0,\"ticks\":\"\"}},\"colorscale\":{\"sequential\":[[0.0,\"#0d0887\"],[0.1111111111111111,\"#46039f\"],[0.2222222222222222,\"#7201a8\"],[0.3333333333333333,\"#9c179e\"],[0.4444444444444444,\"#bd3786\"],[0.5555555555555556,\"#d8576b\"],[0.6666666666666666,\"#ed7953\"],[0.7777777777777778,\"#fb9f3a\"],[0.8888888888888888,\"#fdca26\"],[1.0,\"#f0f921\"]],\"sequentialminus\":[[0.0,\"#0d0887\"],[0.1111111111111111,\"#46039f\"],[0.2222222222222222,\"#7201a8\"],[0.3333333333333333,\"#9c179e\"],[0.4444444444444444,\"#bd3786\"],[0.5555555555555556,\"#d8576b\"],[0.6666666666666666,\"#ed7953\"],[0.7777777777777778,\"#fb9f3a\"],[0.8888888888888888,\"#fdca26\"],[1.0,\"#f0f921\"]],\"diverging\":[[0,\"#8e0152\"],[0.1,\"#c51b7d\"],[0.2,\"#de77ae\"],[0.3,\"#f1b6da\"],[0.4,\"#fde0ef\"],[0.5,\"#f7f7f7\"],[0.6,\"#e6f5d0\"],[0.7,\"#b8e186\"],[0.8,\"#7fbc41\"],[0.9,\"#4d9221\"],[1,\"#276419\"]]},\"xaxis\":{\"gridcolor\":\"white\",\"linecolor\":\"white\",\"ticks\":\"\",\"title\":{\"standoff\":15},\"zerolinecolor\":\"white\",\"automargin\":true,\"zerolinewidth\":2},\"yaxis\":{\"gridcolor\":\"white\",\"linecolor\":\"white\",\"ticks\":\"\",\"title\":{\"standoff\":15},\"zerolinecolor\":\"white\",\"automargin\":true,\"zerolinewidth\":2},\"scene\":{\"xaxis\":{\"backgroundcolor\":\"#E5ECF6\",\"gridcolor\":\"white\",\"linecolor\":\"white\",\"showbackground\":true,\"ticks\":\"\",\"zerolinecolor\":\"white\",\"gridwidth\":2},\"yaxis\":{\"backgroundcolor\":\"#E5ECF6\",\"gridcolor\":\"white\",\"linecolor\":\"white\",\"showbackground\":true,\"ticks\":\"\",\"zerolinecolor\":\"white\",\"gridwidth\":2},\"zaxis\":{\"backgroundcolor\":\"#E5ECF6\",\"gridcolor\":\"white\",\"linecolor\":\"white\",\"showbackground\":true,\"ticks\":\"\",\"zerolinecolor\":\"white\",\"gridwidth\":2}},\"shapedefaults\":{\"line\":{\"color\":\"#2a3f5f\"}},\"annotationdefaults\":{\"arrowcolor\":\"#2a3f5f\",\"arrowhead\":0,\"arrowwidth\":1},\"geo\":{\"bgcolor\":\"white\",\"landcolor\":\"#E5ECF6\",\"subunitcolor\":\"white\",\"showland\":true,\"showlakes\":true,\"lakecolor\":\"white\"},\"title\":{\"x\":0.05},\"mapbox\":{\"style\":\"light\"}}},\"autosize\":false,\"width\":1200,\"height\":720},                        {\"responsive\": true}                    ).then(function(){\n",
       "                            \n",
       "var gd = document.getElementById('37f4f455-41a6-4462-a419-8eb799fdbc04');\n",
       "var x = new MutationObserver(function (mutations, observer) {{\n",
       "        var display = window.getComputedStyle(gd).display;\n",
       "        if (!display || display === 'none') {{\n",
       "            console.log([gd, 'removed!']);\n",
       "            Plotly.purge(gd);\n",
       "            observer.disconnect();\n",
       "        }}\n",
       "}});\n",
       "\n",
       "// Listen for the removal of the full notebook cells\n",
       "var notebookContainer = gd.closest('#notebook-container');\n",
       "if (notebookContainer) {{\n",
       "    x.observe(notebookContainer, {childList: true});\n",
       "}}\n",
       "\n",
       "// Listen for the clearing of the current output cell\n",
       "var outputEl = gd.closest('.output');\n",
       "if (outputEl) {{\n",
       "    x.observe(outputEl, {childList: true});\n",
       "}}\n",
       "\n",
       "                        })                };                });            </script>        </div>"
      ]
     },
     "metadata": {},
     "output_type": "display_data"
    }
   ],
   "source": [
    "df_temp =  df_nameIndex[df_nameIndex[\"Kommune\"]==kommune]\n",
    "df_temp = df_temp.sort_values(question, ascending = False)\n",
    "\n",
    "# Parents for sunburst\n",
    "value_labels = {0:\"Uenig\", 1:\"Delvist Enig\", 2:\"Enig\"}\n",
    "parents_candidates = pd.Series([value_labels[x] for x in df_temp[question]], \n",
    "                              index =df_temp.index)\n",
    "\n",
    "sunburst_parents = []\n",
    "for answer in parents_candidates.unique():\n",
    "    sunburst_parents.append(\"\")\n",
    "sunburst_parents.extend(parents_candidates)\n",
    "\n",
    "# Names for sunburst\n",
    "sunburst_names = []\n",
    "\n",
    "inner_names = list(parents_candidates.value_counts(sort=False).index)\n",
    "sunburst_names.extend(inner_names)\n",
    "\n",
    "candidate_names = list(df_temp.index)\n",
    "sunburst_names.extend(candidate_names)\n",
    "\n",
    "# Values for sunburst\n",
    "sunburst_values = []\n",
    "\n",
    "inner_values = list(parents_candidates.value_counts(sort=False))\n",
    "sunburst_values.extend(inner_values)\n",
    "\n",
    "candidate_values = []\n",
    "for candidate in list(df_temp.index):\n",
    "    candidate_values.append(1)\n",
    "\n",
    "sunburst_values.extend(candidate_values)\n",
    "\n",
    "fig = go.Figure()\n",
    "\n",
    "color_dict = { \"Enig\":'rgb(15,122,55)',\"Delvist Enig\": 'rgb(169,220,163)',\"Uenig\":'rgb(218,241,212)'}\n",
    "colors_sunburst = {}\n",
    "for answer in parents_candidates.unique():\n",
    "    colors_sunburst[answer] = color_dict[answer]\n",
    "\n",
    "data = dict(\n",
    "    names=sunburst_names,\n",
    "    parent=sunburst_parents,\n",
    "    value=sunburst_values)\n",
    "\n",
    "fig.add_trace(go.Sunburst(\n",
    "    labels=data['names'],\n",
    "    parents=data['parent'],\n",
    "    values=data['value'],\n",
    "    branchvalues=\"total\",\n",
    "    marker_colors = list(colors_sunburst.values()),\n",
    "    insidetextorientation='radial',\n",
    "    ))\n",
    "fig.update_layout(\n",
    "    autosize=False,\n",
    "    width=1200,\n",
    "    height=720)\n",
    "\n"
   ]
  }
 ],
 "metadata": {
  "kernelspec": {
   "display_name": "Python 3 (ipykernel)",
   "language": "python",
   "name": "python3"
  },
  "language_info": {
   "codemirror_mode": {
    "name": "ipython",
    "version": 3
   },
   "file_extension": ".py",
   "mimetype": "text/x-python",
   "name": "python",
   "nbconvert_exporter": "python",
   "pygments_lexer": "ipython3",
   "version": "3.9.7"
  }
 },
 "nbformat": 4,
 "nbformat_minor": 5
}
