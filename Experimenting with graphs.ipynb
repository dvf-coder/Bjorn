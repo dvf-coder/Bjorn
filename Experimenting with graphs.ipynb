{
 "cells": [
  {
   "cell_type": "code",
   "execution_count": 1,
   "id": "04479f47",
   "metadata": {},
   "outputs": [],
   "source": [
    "# import all libraries\n",
    "from plotly import graph_objects as go\n",
    "import pandas as pd\n",
    "import dash\n",
    "from dash.dependencies import Input, Output\n",
    "from dash import Dash, html, dcc \n",
    "from urllib.request import urlopen\n",
    "import json\n",
    "from plotly.subplots import make_subplots"
   ]
  },
  {
   "cell_type": "code",
   "execution_count": 2,
   "id": "5d3e46b0",
   "metadata": {},
   "outputs": [],
   "source": [
    "# Load Veggie Data\n",
    "df = pd.read_csv(\"kv21_trimmet_98.csv\",\n",
    "                 dtype={\"fips\": str})\n",
    "df = df.fillna(0) # replace NA values with 0\n",
    "df_nameIndex = df.set_index(\"Navn\")"
   ]
  },
  {
   "cell_type": "markdown",
   "id": "9dbcacb3",
   "metadata": {},
   "source": [
    "## Lollipop 4 eva"
   ]
  },
  {
   "cell_type": "code",
   "execution_count": 23,
   "id": "9cd753ce",
   "metadata": {},
   "outputs": [
    {
     "data": {
      "text/plain": [
       "array(['A. Socialdemokratiet', 'B. Det Radikale Venstre',\n",
       "       'C. Det Konservative Folkeparti', 'F. Socialistisk Folkeparti',\n",
       "       'G. Veganerpartiet', 'Ø. Enhedslisten', 'D. Nye Borgerlige',\n",
       "       'V. Venstre', 'Å. Alternativet', 'O. Dansk Folkeparti',\n",
       "       'K. Kristendemokraterne', 'I. Liberal Alliance', 'E. Nyt gribskov',\n",
       "       'Æ. Frihedslisten', 'R. Kommunistisk Liste'], dtype=object)"
      ]
     },
     "execution_count": 23,
     "metadata": {},
     "output_type": "execute_result"
    }
   ],
   "source": [
    "df_temp = df_nameIndex.iloc[:10]\n",
    "df_nameIndex[\"Parti\"].unique()"
   ]
  },
  {
   "cell_type": "code",
   "execution_count": 4,
   "id": "55a18826",
   "metadata": {},
   "outputs": [],
   "source": [
    "def Marker_size(lenght):\n",
    "    markerList = []\n",
    "    for i in range(lenght):\n",
    "        markerList.extend([0,10])\n",
    "    return markerList"
   ]
  },
  {
   "cell_type": "code",
   "execution_count": 5,
   "id": "cb5252ac",
   "metadata": {},
   "outputs": [],
   "source": [
    "def UpdateHeadline(value):\n",
    "    return f\"Sammenlign kandidatter fra {value}\""
   ]
  },
  {
   "cell_type": "code",
   "execution_count": 46,
   "id": "e0416c58",
   "metadata": {},
   "outputs": [
    {
     "data": {
      "application/vnd.plotly.v1+json": {
       "config": {
        "plotlyServerURL": "https://plot.ly"
       },
       "data": [
        {
         "hovertext": [
          "Ø. Enhedslisten",
          "Ø. Enhedslisten"
         ],
         "line": {
          "color": "rgb(5,122,87)"
         },
         "marker": {
          "color": "rgb(5,122,87)",
          "size": [
           0,
           10,
           0,
           10,
           0,
           10,
           0,
           10,
           0,
           10,
           0,
           10,
           0,
           10,
           0,
           10,
           0,
           10,
           0,
           10,
           0,
           10,
           0,
           10,
           0,
           10,
           0,
           10,
           0,
           10,
           0,
           10,
           0,
           10
          ]
         },
         "showlegend": false,
         "type": "scatter",
         "x": [
          0,
          0
         ],
         "y": [
          0,
          29
         ]
        },
        {
         "hovertext": [
          "F. Socialistisk Folkeparti",
          "F. Socialistisk Folkeparti"
         ],
         "line": {
          "color": "rgb(5,122,87)"
         },
         "marker": {
          "color": "rgb(5,122,87)",
          "size": [
           0,
           10,
           0,
           10,
           0,
           10,
           0,
           10,
           0,
           10,
           0,
           10,
           0,
           10,
           0,
           10,
           0,
           10,
           0,
           10,
           0,
           10,
           0,
           10,
           0,
           10,
           0,
           10,
           0,
           10,
           0,
           10,
           0,
           10
          ]
         },
         "showlegend": false,
         "type": "scatter",
         "x": [
          1,
          1
         ],
         "y": [
          0,
          26
         ]
        },
        {
         "hovertext": [
          "B. Det Radikale Venstre",
          "B. Det Radikale Venstre"
         ],
         "line": {
          "color": "rgb(5,122,87)"
         },
         "marker": {
          "color": "rgb(5,122,87)",
          "size": [
           0,
           10,
           0,
           10,
           0,
           10,
           0,
           10,
           0,
           10,
           0,
           10,
           0,
           10,
           0,
           10,
           0,
           10,
           0,
           10,
           0,
           10,
           0,
           10,
           0,
           10,
           0,
           10,
           0,
           10,
           0,
           10,
           0,
           10
          ]
         },
         "showlegend": false,
         "type": "scatter",
         "x": [
          2,
          2
         ],
         "y": [
          0,
          26
         ]
        },
        {
         "hovertext": [
          "C. Det Konservative Folkeparti",
          "C. Det Konservative Folkeparti"
         ],
         "line": {
          "color": "rgb(5,122,87)"
         },
         "marker": {
          "color": "rgb(5,122,87)",
          "size": [
           0,
           10,
           0,
           10,
           0,
           10,
           0,
           10,
           0,
           10,
           0,
           10,
           0,
           10,
           0,
           10,
           0,
           10,
           0,
           10,
           0,
           10,
           0,
           10,
           0,
           10,
           0,
           10,
           0,
           10,
           0,
           10,
           0,
           10
          ]
         },
         "showlegend": false,
         "type": "scatter",
         "x": [
          3,
          3
         ],
         "y": [
          0,
          26
         ]
        },
        {
         "hovertext": [
          "Ø. Enhedslisten",
          "Ø. Enhedslisten"
         ],
         "line": {
          "color": "rgb(5,122,87)"
         },
         "marker": {
          "color": "rgb(5,122,87)",
          "size": [
           0,
           10,
           0,
           10,
           0,
           10,
           0,
           10,
           0,
           10,
           0,
           10,
           0,
           10,
           0,
           10,
           0,
           10,
           0,
           10,
           0,
           10,
           0,
           10,
           0,
           10,
           0,
           10,
           0,
           10,
           0,
           10,
           0,
           10
          ]
         },
         "showlegend": false,
         "type": "scatter",
         "x": [
          4,
          4
         ],
         "y": [
          0,
          25
         ]
        },
        {
         "hovertext": [
          "C. Det Konservative Folkeparti",
          "C. Det Konservative Folkeparti"
         ],
         "line": {
          "color": "rgb(5,122,87)"
         },
         "marker": {
          "color": "rgb(5,122,87)",
          "size": [
           0,
           10,
           0,
           10,
           0,
           10,
           0,
           10,
           0,
           10,
           0,
           10,
           0,
           10,
           0,
           10,
           0,
           10,
           0,
           10,
           0,
           10,
           0,
           10,
           0,
           10,
           0,
           10,
           0,
           10,
           0,
           10,
           0,
           10
          ]
         },
         "showlegend": false,
         "type": "scatter",
         "x": [
          5,
          5
         ],
         "y": [
          0,
          23
         ]
        },
        {
         "hovertext": [
          "A. Socialdemokratiet",
          "A. Socialdemokratiet"
         ],
         "line": {
          "color": "rgb(5,122,87)"
         },
         "marker": {
          "color": "rgb(5,122,87)",
          "size": [
           0,
           10,
           0,
           10,
           0,
           10,
           0,
           10,
           0,
           10,
           0,
           10,
           0,
           10,
           0,
           10,
           0,
           10,
           0,
           10,
           0,
           10,
           0,
           10,
           0,
           10,
           0,
           10,
           0,
           10,
           0,
           10,
           0,
           10
          ]
         },
         "showlegend": false,
         "type": "scatter",
         "x": [
          6,
          6
         ],
         "y": [
          0,
          21
         ]
        },
        {
         "hovertext": [
          "F. Socialistisk Folkeparti",
          "F. Socialistisk Folkeparti"
         ],
         "line": {
          "color": "rgb(5,122,87)"
         },
         "marker": {
          "color": "rgb(5,122,87)",
          "size": [
           0,
           10,
           0,
           10,
           0,
           10,
           0,
           10,
           0,
           10,
           0,
           10,
           0,
           10,
           0,
           10,
           0,
           10,
           0,
           10,
           0,
           10,
           0,
           10,
           0,
           10,
           0,
           10,
           0,
           10,
           0,
           10,
           0,
           10
          ]
         },
         "showlegend": false,
         "type": "scatter",
         "x": [
          7,
          7
         ],
         "y": [
          0,
          21
         ]
        },
        {
         "hovertext": [
          "B. Det Radikale Venstre",
          "B. Det Radikale Venstre"
         ],
         "line": {
          "color": "rgb(5,122,87)"
         },
         "marker": {
          "color": "rgb(5,122,87)",
          "size": [
           0,
           10,
           0,
           10,
           0,
           10,
           0,
           10,
           0,
           10,
           0,
           10,
           0,
           10,
           0,
           10,
           0,
           10,
           0,
           10,
           0,
           10,
           0,
           10,
           0,
           10,
           0,
           10,
           0,
           10,
           0,
           10,
           0,
           10
          ]
         },
         "showlegend": false,
         "type": "scatter",
         "x": [
          8,
          8
         ],
         "y": [
          0,
          20
         ]
        },
        {
         "hovertext": [
          "C. Det Konservative Folkeparti",
          "C. Det Konservative Folkeparti"
         ],
         "line": {
          "color": "rgb(5,122,87)"
         },
         "marker": {
          "color": "rgb(5,122,87)",
          "size": [
           0,
           10,
           0,
           10,
           0,
           10,
           0,
           10,
           0,
           10,
           0,
           10,
           0,
           10,
           0,
           10,
           0,
           10,
           0,
           10,
           0,
           10,
           0,
           10,
           0,
           10,
           0,
           10,
           0,
           10,
           0,
           10,
           0,
           10
          ]
         },
         "showlegend": false,
         "type": "scatter",
         "x": [
          9,
          9
         ],
         "y": [
          0,
          18
         ]
        },
        {
         "hovertext": [
          "C. Det Konservative Folkeparti",
          "C. Det Konservative Folkeparti"
         ],
         "line": {
          "color": "rgb(5,122,87)"
         },
         "marker": {
          "color": "rgb(5,122,87)",
          "size": [
           0,
           10,
           0,
           10,
           0,
           10,
           0,
           10,
           0,
           10,
           0,
           10,
           0,
           10,
           0,
           10,
           0,
           10,
           0,
           10,
           0,
           10,
           0,
           10,
           0,
           10,
           0,
           10,
           0,
           10,
           0,
           10,
           0,
           10
          ]
         },
         "showlegend": false,
         "type": "scatter",
         "x": [
          10,
          10
         ],
         "y": [
          0,
          14
         ]
        },
        {
         "hovertext": [
          "B. Det Radikale Venstre",
          "B. Det Radikale Venstre"
         ],
         "line": {
          "color": "rgb(5,122,87)"
         },
         "marker": {
          "color": "rgb(5,122,87)",
          "size": [
           0,
           10,
           0,
           10,
           0,
           10,
           0,
           10,
           0,
           10,
           0,
           10,
           0,
           10,
           0,
           10,
           0,
           10,
           0,
           10,
           0,
           10,
           0,
           10,
           0,
           10,
           0,
           10,
           0,
           10,
           0,
           10,
           0,
           10
          ]
         },
         "showlegend": false,
         "type": "scatter",
         "x": [
          11,
          11
         ],
         "y": [
          0,
          13
         ]
        },
        {
         "hovertext": [
          "C. Det Konservative Folkeparti",
          "C. Det Konservative Folkeparti"
         ],
         "line": {
          "color": "rgb(5,122,87)"
         },
         "marker": {
          "color": "rgb(5,122,87)",
          "size": [
           0,
           10,
           0,
           10,
           0,
           10,
           0,
           10,
           0,
           10,
           0,
           10,
           0,
           10,
           0,
           10,
           0,
           10,
           0,
           10,
           0,
           10,
           0,
           10,
           0,
           10,
           0,
           10,
           0,
           10,
           0,
           10,
           0,
           10
          ]
         },
         "showlegend": false,
         "type": "scatter",
         "x": [
          12,
          12
         ],
         "y": [
          0,
          7
         ]
        },
        {
         "hovertext": [
          "C. Det Konservative Folkeparti",
          "C. Det Konservative Folkeparti"
         ],
         "line": {
          "color": "rgb(5,122,87)"
         },
         "marker": {
          "color": "rgb(5,122,87)",
          "size": [
           0,
           10,
           0,
           10,
           0,
           10,
           0,
           10,
           0,
           10,
           0,
           10,
           0,
           10,
           0,
           10,
           0,
           10,
           0,
           10,
           0,
           10,
           0,
           10,
           0,
           10,
           0,
           10,
           0,
           10,
           0,
           10,
           0,
           10
          ]
         },
         "showlegend": false,
         "type": "scatter",
         "x": [
          13,
          13
         ],
         "y": [
          0,
          6
         ]
        },
        {
         "hovertext": [
          "A. Socialdemokratiet",
          "A. Socialdemokratiet"
         ],
         "line": {
          "color": "rgb(5,122,87)"
         },
         "marker": {
          "color": "rgb(5,122,87)",
          "size": [
           0,
           10,
           0,
           10,
           0,
           10,
           0,
           10,
           0,
           10,
           0,
           10,
           0,
           10,
           0,
           10,
           0,
           10,
           0,
           10,
           0,
           10,
           0,
           10,
           0,
           10,
           0,
           10,
           0,
           10,
           0,
           10,
           0,
           10
          ]
         },
         "showlegend": false,
         "type": "scatter",
         "x": [
          14,
          14
         ],
         "y": [
          0,
          6
         ]
        },
        {
         "hovertext": [
          "A. Socialdemokratiet",
          "A. Socialdemokratiet"
         ],
         "line": {
          "color": "rgb(5,122,87)"
         },
         "marker": {
          "color": "rgb(5,122,87)",
          "size": [
           0,
           10,
           0,
           10,
           0,
           10,
           0,
           10,
           0,
           10,
           0,
           10,
           0,
           10,
           0,
           10,
           0,
           10,
           0,
           10,
           0,
           10,
           0,
           10,
           0,
           10,
           0,
           10,
           0,
           10,
           0,
           10,
           0,
           10
          ]
         },
         "showlegend": false,
         "type": "scatter",
         "x": [
          15,
          15
         ],
         "y": [
          0,
          2
         ]
        },
        {
         "hovertext": [
          "V. Venstre",
          "V. Venstre"
         ],
         "line": {
          "color": "rgb(5,122,87)"
         },
         "marker": {
          "color": "rgb(5,122,87)",
          "size": [
           0,
           10,
           0,
           10,
           0,
           10,
           0,
           10,
           0,
           10,
           0,
           10,
           0,
           10,
           0,
           10,
           0,
           10,
           0,
           10,
           0,
           10,
           0,
           10,
           0,
           10,
           0,
           10,
           0,
           10,
           0,
           10,
           0,
           10
          ]
         },
         "showlegend": false,
         "type": "scatter",
         "x": [
          16,
          16
         ],
         "y": [
          0,
          0
         ]
        }
       ],
       "layout": {
        "annotations": [
         {
          "showarrow": false,
          "text": "Kommune gennemsnit",
          "x": 1,
          "xanchor": "right",
          "xref": "x domain",
          "y": 16.647058823529413,
          "yanchor": "top",
          "yref": "y"
         }
        ],
        "shapes": [
         {
          "line": {
           "color": "rgb(5,122,87)",
           "dash": "dash",
           "width": 0.5
          },
          "type": "line",
          "x0": 0,
          "x1": 1,
          "xref": "x domain",
          "y0": 16.647058823529413,
          "y1": 16.647058823529413,
          "yref": "y"
         }
        ],
        "template": {
         "data": {
          "bar": [
           {
            "error_x": {
             "color": "#2a3f5f"
            },
            "error_y": {
             "color": "#2a3f5f"
            },
            "marker": {
             "line": {
              "color": "#E5ECF6",
              "width": 0.5
             },
             "pattern": {
              "fillmode": "overlay",
              "size": 10,
              "solidity": 0.2
             }
            },
            "type": "bar"
           }
          ],
          "barpolar": [
           {
            "marker": {
             "line": {
              "color": "#E5ECF6",
              "width": 0.5
             },
             "pattern": {
              "fillmode": "overlay",
              "size": 10,
              "solidity": 0.2
             }
            },
            "type": "barpolar"
           }
          ],
          "carpet": [
           {
            "aaxis": {
             "endlinecolor": "#2a3f5f",
             "gridcolor": "white",
             "linecolor": "white",
             "minorgridcolor": "white",
             "startlinecolor": "#2a3f5f"
            },
            "baxis": {
             "endlinecolor": "#2a3f5f",
             "gridcolor": "white",
             "linecolor": "white",
             "minorgridcolor": "white",
             "startlinecolor": "#2a3f5f"
            },
            "type": "carpet"
           }
          ],
          "choropleth": [
           {
            "colorbar": {
             "outlinewidth": 0,
             "ticks": ""
            },
            "type": "choropleth"
           }
          ],
          "contour": [
           {
            "colorbar": {
             "outlinewidth": 0,
             "ticks": ""
            },
            "colorscale": [
             [
              0,
              "#0d0887"
             ],
             [
              0.1111111111111111,
              "#46039f"
             ],
             [
              0.2222222222222222,
              "#7201a8"
             ],
             [
              0.3333333333333333,
              "#9c179e"
             ],
             [
              0.4444444444444444,
              "#bd3786"
             ],
             [
              0.5555555555555556,
              "#d8576b"
             ],
             [
              0.6666666666666666,
              "#ed7953"
             ],
             [
              0.7777777777777778,
              "#fb9f3a"
             ],
             [
              0.8888888888888888,
              "#fdca26"
             ],
             [
              1,
              "#f0f921"
             ]
            ],
            "type": "contour"
           }
          ],
          "contourcarpet": [
           {
            "colorbar": {
             "outlinewidth": 0,
             "ticks": ""
            },
            "type": "contourcarpet"
           }
          ],
          "heatmap": [
           {
            "colorbar": {
             "outlinewidth": 0,
             "ticks": ""
            },
            "colorscale": [
             [
              0,
              "#0d0887"
             ],
             [
              0.1111111111111111,
              "#46039f"
             ],
             [
              0.2222222222222222,
              "#7201a8"
             ],
             [
              0.3333333333333333,
              "#9c179e"
             ],
             [
              0.4444444444444444,
              "#bd3786"
             ],
             [
              0.5555555555555556,
              "#d8576b"
             ],
             [
              0.6666666666666666,
              "#ed7953"
             ],
             [
              0.7777777777777778,
              "#fb9f3a"
             ],
             [
              0.8888888888888888,
              "#fdca26"
             ],
             [
              1,
              "#f0f921"
             ]
            ],
            "type": "heatmap"
           }
          ],
          "heatmapgl": [
           {
            "colorbar": {
             "outlinewidth": 0,
             "ticks": ""
            },
            "colorscale": [
             [
              0,
              "#0d0887"
             ],
             [
              0.1111111111111111,
              "#46039f"
             ],
             [
              0.2222222222222222,
              "#7201a8"
             ],
             [
              0.3333333333333333,
              "#9c179e"
             ],
             [
              0.4444444444444444,
              "#bd3786"
             ],
             [
              0.5555555555555556,
              "#d8576b"
             ],
             [
              0.6666666666666666,
              "#ed7953"
             ],
             [
              0.7777777777777778,
              "#fb9f3a"
             ],
             [
              0.8888888888888888,
              "#fdca26"
             ],
             [
              1,
              "#f0f921"
             ]
            ],
            "type": "heatmapgl"
           }
          ],
          "histogram": [
           {
            "marker": {
             "pattern": {
              "fillmode": "overlay",
              "size": 10,
              "solidity": 0.2
             }
            },
            "type": "histogram"
           }
          ],
          "histogram2d": [
           {
            "colorbar": {
             "outlinewidth": 0,
             "ticks": ""
            },
            "colorscale": [
             [
              0,
              "#0d0887"
             ],
             [
              0.1111111111111111,
              "#46039f"
             ],
             [
              0.2222222222222222,
              "#7201a8"
             ],
             [
              0.3333333333333333,
              "#9c179e"
             ],
             [
              0.4444444444444444,
              "#bd3786"
             ],
             [
              0.5555555555555556,
              "#d8576b"
             ],
             [
              0.6666666666666666,
              "#ed7953"
             ],
             [
              0.7777777777777778,
              "#fb9f3a"
             ],
             [
              0.8888888888888888,
              "#fdca26"
             ],
             [
              1,
              "#f0f921"
             ]
            ],
            "type": "histogram2d"
           }
          ],
          "histogram2dcontour": [
           {
            "colorbar": {
             "outlinewidth": 0,
             "ticks": ""
            },
            "colorscale": [
             [
              0,
              "#0d0887"
             ],
             [
              0.1111111111111111,
              "#46039f"
             ],
             [
              0.2222222222222222,
              "#7201a8"
             ],
             [
              0.3333333333333333,
              "#9c179e"
             ],
             [
              0.4444444444444444,
              "#bd3786"
             ],
             [
              0.5555555555555556,
              "#d8576b"
             ],
             [
              0.6666666666666666,
              "#ed7953"
             ],
             [
              0.7777777777777778,
              "#fb9f3a"
             ],
             [
              0.8888888888888888,
              "#fdca26"
             ],
             [
              1,
              "#f0f921"
             ]
            ],
            "type": "histogram2dcontour"
           }
          ],
          "mesh3d": [
           {
            "colorbar": {
             "outlinewidth": 0,
             "ticks": ""
            },
            "type": "mesh3d"
           }
          ],
          "parcoords": [
           {
            "line": {
             "colorbar": {
              "outlinewidth": 0,
              "ticks": ""
             }
            },
            "type": "parcoords"
           }
          ],
          "pie": [
           {
            "automargin": true,
            "type": "pie"
           }
          ],
          "scatter": [
           {
            "marker": {
             "colorbar": {
              "outlinewidth": 0,
              "ticks": ""
             }
            },
            "type": "scatter"
           }
          ],
          "scatter3d": [
           {
            "line": {
             "colorbar": {
              "outlinewidth": 0,
              "ticks": ""
             }
            },
            "marker": {
             "colorbar": {
              "outlinewidth": 0,
              "ticks": ""
             }
            },
            "type": "scatter3d"
           }
          ],
          "scattercarpet": [
           {
            "marker": {
             "colorbar": {
              "outlinewidth": 0,
              "ticks": ""
             }
            },
            "type": "scattercarpet"
           }
          ],
          "scattergeo": [
           {
            "marker": {
             "colorbar": {
              "outlinewidth": 0,
              "ticks": ""
             }
            },
            "type": "scattergeo"
           }
          ],
          "scattergl": [
           {
            "marker": {
             "colorbar": {
              "outlinewidth": 0,
              "ticks": ""
             }
            },
            "type": "scattergl"
           }
          ],
          "scattermapbox": [
           {
            "marker": {
             "colorbar": {
              "outlinewidth": 0,
              "ticks": ""
             }
            },
            "type": "scattermapbox"
           }
          ],
          "scatterpolar": [
           {
            "marker": {
             "colorbar": {
              "outlinewidth": 0,
              "ticks": ""
             }
            },
            "type": "scatterpolar"
           }
          ],
          "scatterpolargl": [
           {
            "marker": {
             "colorbar": {
              "outlinewidth": 0,
              "ticks": ""
             }
            },
            "type": "scatterpolargl"
           }
          ],
          "scatterternary": [
           {
            "marker": {
             "colorbar": {
              "outlinewidth": 0,
              "ticks": ""
             }
            },
            "type": "scatterternary"
           }
          ],
          "surface": [
           {
            "colorbar": {
             "outlinewidth": 0,
             "ticks": ""
            },
            "colorscale": [
             [
              0,
              "#0d0887"
             ],
             [
              0.1111111111111111,
              "#46039f"
             ],
             [
              0.2222222222222222,
              "#7201a8"
             ],
             [
              0.3333333333333333,
              "#9c179e"
             ],
             [
              0.4444444444444444,
              "#bd3786"
             ],
             [
              0.5555555555555556,
              "#d8576b"
             ],
             [
              0.6666666666666666,
              "#ed7953"
             ],
             [
              0.7777777777777778,
              "#fb9f3a"
             ],
             [
              0.8888888888888888,
              "#fdca26"
             ],
             [
              1,
              "#f0f921"
             ]
            ],
            "type": "surface"
           }
          ],
          "table": [
           {
            "cells": {
             "fill": {
              "color": "#EBF0F8"
             },
             "line": {
              "color": "white"
             }
            },
            "header": {
             "fill": {
              "color": "#C8D4E3"
             },
             "line": {
              "color": "white"
             }
            },
            "type": "table"
           }
          ]
         },
         "layout": {
          "annotationdefaults": {
           "arrowcolor": "#2a3f5f",
           "arrowhead": 0,
           "arrowwidth": 1
          },
          "autotypenumbers": "strict",
          "coloraxis": {
           "colorbar": {
            "outlinewidth": 0,
            "ticks": ""
           }
          },
          "colorscale": {
           "diverging": [
            [
             0,
             "#8e0152"
            ],
            [
             0.1,
             "#c51b7d"
            ],
            [
             0.2,
             "#de77ae"
            ],
            [
             0.3,
             "#f1b6da"
            ],
            [
             0.4,
             "#fde0ef"
            ],
            [
             0.5,
             "#f7f7f7"
            ],
            [
             0.6,
             "#e6f5d0"
            ],
            [
             0.7,
             "#b8e186"
            ],
            [
             0.8,
             "#7fbc41"
            ],
            [
             0.9,
             "#4d9221"
            ],
            [
             1,
             "#276419"
            ]
           ],
           "sequential": [
            [
             0,
             "#0d0887"
            ],
            [
             0.1111111111111111,
             "#46039f"
            ],
            [
             0.2222222222222222,
             "#7201a8"
            ],
            [
             0.3333333333333333,
             "#9c179e"
            ],
            [
             0.4444444444444444,
             "#bd3786"
            ],
            [
             0.5555555555555556,
             "#d8576b"
            ],
            [
             0.6666666666666666,
             "#ed7953"
            ],
            [
             0.7777777777777778,
             "#fb9f3a"
            ],
            [
             0.8888888888888888,
             "#fdca26"
            ],
            [
             1,
             "#f0f921"
            ]
           ],
           "sequentialminus": [
            [
             0,
             "#0d0887"
            ],
            [
             0.1111111111111111,
             "#46039f"
            ],
            [
             0.2222222222222222,
             "#7201a8"
            ],
            [
             0.3333333333333333,
             "#9c179e"
            ],
            [
             0.4444444444444444,
             "#bd3786"
            ],
            [
             0.5555555555555556,
             "#d8576b"
            ],
            [
             0.6666666666666666,
             "#ed7953"
            ],
            [
             0.7777777777777778,
             "#fb9f3a"
            ],
            [
             0.8888888888888888,
             "#fdca26"
            ],
            [
             1,
             "#f0f921"
            ]
           ]
          },
          "colorway": [
           "#636efa",
           "#EF553B",
           "#00cc96",
           "#ab63fa",
           "#FFA15A",
           "#19d3f3",
           "#FF6692",
           "#B6E880",
           "#FF97FF",
           "#FECB52"
          ],
          "font": {
           "color": "#2a3f5f"
          },
          "geo": {
           "bgcolor": "white",
           "lakecolor": "white",
           "landcolor": "#E5ECF6",
           "showlakes": true,
           "showland": true,
           "subunitcolor": "white"
          },
          "hoverlabel": {
           "align": "left"
          },
          "hovermode": "closest",
          "mapbox": {
           "style": "light"
          },
          "paper_bgcolor": "white",
          "plot_bgcolor": "#E5ECF6",
          "polar": {
           "angularaxis": {
            "gridcolor": "white",
            "linecolor": "white",
            "ticks": ""
           },
           "bgcolor": "#E5ECF6",
           "radialaxis": {
            "gridcolor": "white",
            "linecolor": "white",
            "ticks": ""
           }
          },
          "scene": {
           "xaxis": {
            "backgroundcolor": "#E5ECF6",
            "gridcolor": "white",
            "gridwidth": 2,
            "linecolor": "white",
            "showbackground": true,
            "ticks": "",
            "zerolinecolor": "white"
           },
           "yaxis": {
            "backgroundcolor": "#E5ECF6",
            "gridcolor": "white",
            "gridwidth": 2,
            "linecolor": "white",
            "showbackground": true,
            "ticks": "",
            "zerolinecolor": "white"
           },
           "zaxis": {
            "backgroundcolor": "#E5ECF6",
            "gridcolor": "white",
            "gridwidth": 2,
            "linecolor": "white",
            "showbackground": true,
            "ticks": "",
            "zerolinecolor": "white"
           }
          },
          "shapedefaults": {
           "line": {
            "color": "#2a3f5f"
           }
          },
          "ternary": {
           "aaxis": {
            "gridcolor": "white",
            "linecolor": "white",
            "ticks": ""
           },
           "baxis": {
            "gridcolor": "white",
            "linecolor": "white",
            "ticks": ""
           },
           "bgcolor": "#E5ECF6",
           "caxis": {
            "gridcolor": "white",
            "linecolor": "white",
            "ticks": ""
           }
          },
          "title": {
           "x": 0.05
          },
          "xaxis": {
           "automargin": true,
           "gridcolor": "white",
           "linecolor": "white",
           "ticks": "",
           "title": {
            "standoff": 15
           },
           "zerolinecolor": "white",
           "zerolinewidth": 2
          },
          "yaxis": {
           "automargin": true,
           "gridcolor": "white",
           "linecolor": "white",
           "ticks": "",
           "title": {
            "standoff": 15
           },
           "zerolinecolor": "white",
           "zerolinewidth": 2
          }
         }
        },
        "title": {
         "text": "Kandidater for Esbjerg"
        },
        "xaxis": {
         "range": [
          -1,
          17
         ],
         "tickmode": "array",
         "ticktext": [
          "Sarah Nørris",
          "Diana Mose Olsen",
          "Jasmin Lykke",
          "Peter Kent Starup",
          "Lars Mogensen",
          "Christina Simonia",
          "Jørgen Ahlquist",
          "David Dam Jensen",
          "Anne Marie Geisler Andersen",
          "Jan Nielsen",
          "Uffe Thestrup",
          "Anders Toft Andersen",
          "May-Britt Andrea Andersen",
          "Allan V. Jessen",
          "Mads Lustrup Johansen",
          "Henrik Rømer",
          "Hans Mortensen"
         ],
         "tickvals": [
          0,
          1,
          2,
          3,
          4,
          5,
          6,
          7,
          8,
          9,
          10,
          11,
          12,
          13,
          14,
          15,
          16
         ]
        }
       }
      },
      "text/html": [
       "<div>                            <div id=\"df1ab5d9-7a1c-43f2-a8ae-70ad635633b7\" class=\"plotly-graph-div\" style=\"height:525px; width:100%;\"></div>            <script type=\"text/javascript\">                require([\"plotly\"], function(Plotly) {                    window.PLOTLYENV=window.PLOTLYENV || {};                                    if (document.getElementById(\"df1ab5d9-7a1c-43f2-a8ae-70ad635633b7\")) {                    Plotly.newPlot(                        \"df1ab5d9-7a1c-43f2-a8ae-70ad635633b7\",                        [{\"hovertext\":[\"\\u00d8. Enhedslisten\",\"\\u00d8. Enhedslisten\"],\"line\":{\"color\":\"rgb(5,122,87)\"},\"marker\":{\"color\":\"rgb(5,122,87)\",\"size\":[0,10,0,10,0,10,0,10,0,10,0,10,0,10,0,10,0,10,0,10,0,10,0,10,0,10,0,10,0,10,0,10,0,10]},\"showlegend\":false,\"x\":[0,0],\"y\":[0,29],\"type\":\"scatter\"},{\"hovertext\":[\"F. Socialistisk Folkeparti\",\"F. Socialistisk Folkeparti\"],\"line\":{\"color\":\"rgb(5,122,87)\"},\"marker\":{\"color\":\"rgb(5,122,87)\",\"size\":[0,10,0,10,0,10,0,10,0,10,0,10,0,10,0,10,0,10,0,10,0,10,0,10,0,10,0,10,0,10,0,10,0,10]},\"showlegend\":false,\"x\":[1,1],\"y\":[0,26],\"type\":\"scatter\"},{\"hovertext\":[\"B. Det Radikale Venstre\",\"B. Det Radikale Venstre\"],\"line\":{\"color\":\"rgb(5,122,87)\"},\"marker\":{\"color\":\"rgb(5,122,87)\",\"size\":[0,10,0,10,0,10,0,10,0,10,0,10,0,10,0,10,0,10,0,10,0,10,0,10,0,10,0,10,0,10,0,10,0,10]},\"showlegend\":false,\"x\":[2,2],\"y\":[0,26],\"type\":\"scatter\"},{\"hovertext\":[\"C. Det Konservative Folkeparti\",\"C. Det Konservative Folkeparti\"],\"line\":{\"color\":\"rgb(5,122,87)\"},\"marker\":{\"color\":\"rgb(5,122,87)\",\"size\":[0,10,0,10,0,10,0,10,0,10,0,10,0,10,0,10,0,10,0,10,0,10,0,10,0,10,0,10,0,10,0,10,0,10]},\"showlegend\":false,\"x\":[3,3],\"y\":[0,26],\"type\":\"scatter\"},{\"hovertext\":[\"\\u00d8. Enhedslisten\",\"\\u00d8. Enhedslisten\"],\"line\":{\"color\":\"rgb(5,122,87)\"},\"marker\":{\"color\":\"rgb(5,122,87)\",\"size\":[0,10,0,10,0,10,0,10,0,10,0,10,0,10,0,10,0,10,0,10,0,10,0,10,0,10,0,10,0,10,0,10,0,10]},\"showlegend\":false,\"x\":[4,4],\"y\":[0,25],\"type\":\"scatter\"},{\"hovertext\":[\"C. Det Konservative Folkeparti\",\"C. Det Konservative Folkeparti\"],\"line\":{\"color\":\"rgb(5,122,87)\"},\"marker\":{\"color\":\"rgb(5,122,87)\",\"size\":[0,10,0,10,0,10,0,10,0,10,0,10,0,10,0,10,0,10,0,10,0,10,0,10,0,10,0,10,0,10,0,10,0,10]},\"showlegend\":false,\"x\":[5,5],\"y\":[0,23],\"type\":\"scatter\"},{\"hovertext\":[\"A. Socialdemokratiet\",\"A. Socialdemokratiet\"],\"line\":{\"color\":\"rgb(5,122,87)\"},\"marker\":{\"color\":\"rgb(5,122,87)\",\"size\":[0,10,0,10,0,10,0,10,0,10,0,10,0,10,0,10,0,10,0,10,0,10,0,10,0,10,0,10,0,10,0,10,0,10]},\"showlegend\":false,\"x\":[6,6],\"y\":[0,21],\"type\":\"scatter\"},{\"hovertext\":[\"F. Socialistisk Folkeparti\",\"F. Socialistisk Folkeparti\"],\"line\":{\"color\":\"rgb(5,122,87)\"},\"marker\":{\"color\":\"rgb(5,122,87)\",\"size\":[0,10,0,10,0,10,0,10,0,10,0,10,0,10,0,10,0,10,0,10,0,10,0,10,0,10,0,10,0,10,0,10,0,10]},\"showlegend\":false,\"x\":[7,7],\"y\":[0,21],\"type\":\"scatter\"},{\"hovertext\":[\"B. Det Radikale Venstre\",\"B. Det Radikale Venstre\"],\"line\":{\"color\":\"rgb(5,122,87)\"},\"marker\":{\"color\":\"rgb(5,122,87)\",\"size\":[0,10,0,10,0,10,0,10,0,10,0,10,0,10,0,10,0,10,0,10,0,10,0,10,0,10,0,10,0,10,0,10,0,10]},\"showlegend\":false,\"x\":[8,8],\"y\":[0,20],\"type\":\"scatter\"},{\"hovertext\":[\"C. Det Konservative Folkeparti\",\"C. Det Konservative Folkeparti\"],\"line\":{\"color\":\"rgb(5,122,87)\"},\"marker\":{\"color\":\"rgb(5,122,87)\",\"size\":[0,10,0,10,0,10,0,10,0,10,0,10,0,10,0,10,0,10,0,10,0,10,0,10,0,10,0,10,0,10,0,10,0,10]},\"showlegend\":false,\"x\":[9,9],\"y\":[0,18],\"type\":\"scatter\"},{\"hovertext\":[\"C. Det Konservative Folkeparti\",\"C. Det Konservative Folkeparti\"],\"line\":{\"color\":\"rgb(5,122,87)\"},\"marker\":{\"color\":\"rgb(5,122,87)\",\"size\":[0,10,0,10,0,10,0,10,0,10,0,10,0,10,0,10,0,10,0,10,0,10,0,10,0,10,0,10,0,10,0,10,0,10]},\"showlegend\":false,\"x\":[10,10],\"y\":[0,14],\"type\":\"scatter\"},{\"hovertext\":[\"B. Det Radikale Venstre\",\"B. Det Radikale Venstre\"],\"line\":{\"color\":\"rgb(5,122,87)\"},\"marker\":{\"color\":\"rgb(5,122,87)\",\"size\":[0,10,0,10,0,10,0,10,0,10,0,10,0,10,0,10,0,10,0,10,0,10,0,10,0,10,0,10,0,10,0,10,0,10]},\"showlegend\":false,\"x\":[11,11],\"y\":[0,13],\"type\":\"scatter\"},{\"hovertext\":[\"C. Det Konservative Folkeparti\",\"C. Det Konservative Folkeparti\"],\"line\":{\"color\":\"rgb(5,122,87)\"},\"marker\":{\"color\":\"rgb(5,122,87)\",\"size\":[0,10,0,10,0,10,0,10,0,10,0,10,0,10,0,10,0,10,0,10,0,10,0,10,0,10,0,10,0,10,0,10,0,10]},\"showlegend\":false,\"x\":[12,12],\"y\":[0,7],\"type\":\"scatter\"},{\"hovertext\":[\"C. Det Konservative Folkeparti\",\"C. Det Konservative Folkeparti\"],\"line\":{\"color\":\"rgb(5,122,87)\"},\"marker\":{\"color\":\"rgb(5,122,87)\",\"size\":[0,10,0,10,0,10,0,10,0,10,0,10,0,10,0,10,0,10,0,10,0,10,0,10,0,10,0,10,0,10,0,10,0,10]},\"showlegend\":false,\"x\":[13,13],\"y\":[0,6],\"type\":\"scatter\"},{\"hovertext\":[\"A. Socialdemokratiet\",\"A. Socialdemokratiet\"],\"line\":{\"color\":\"rgb(5,122,87)\"},\"marker\":{\"color\":\"rgb(5,122,87)\",\"size\":[0,10,0,10,0,10,0,10,0,10,0,10,0,10,0,10,0,10,0,10,0,10,0,10,0,10,0,10,0,10,0,10,0,10]},\"showlegend\":false,\"x\":[14,14],\"y\":[0,6],\"type\":\"scatter\"},{\"hovertext\":[\"A. Socialdemokratiet\",\"A. Socialdemokratiet\"],\"line\":{\"color\":\"rgb(5,122,87)\"},\"marker\":{\"color\":\"rgb(5,122,87)\",\"size\":[0,10,0,10,0,10,0,10,0,10,0,10,0,10,0,10,0,10,0,10,0,10,0,10,0,10,0,10,0,10,0,10,0,10]},\"showlegend\":false,\"x\":[15,15],\"y\":[0,2],\"type\":\"scatter\"},{\"hovertext\":[\"V. Venstre\",\"V. Venstre\"],\"line\":{\"color\":\"rgb(5,122,87)\"},\"marker\":{\"color\":\"rgb(5,122,87)\",\"size\":[0,10,0,10,0,10,0,10,0,10,0,10,0,10,0,10,0,10,0,10,0,10,0,10,0,10,0,10,0,10,0,10,0,10]},\"showlegend\":false,\"x\":[16,16],\"y\":[0,0],\"type\":\"scatter\"}],                        {\"template\":{\"data\":{\"bar\":[{\"error_x\":{\"color\":\"#2a3f5f\"},\"error_y\":{\"color\":\"#2a3f5f\"},\"marker\":{\"line\":{\"color\":\"#E5ECF6\",\"width\":0.5},\"pattern\":{\"fillmode\":\"overlay\",\"size\":10,\"solidity\":0.2}},\"type\":\"bar\"}],\"barpolar\":[{\"marker\":{\"line\":{\"color\":\"#E5ECF6\",\"width\":0.5},\"pattern\":{\"fillmode\":\"overlay\",\"size\":10,\"solidity\":0.2}},\"type\":\"barpolar\"}],\"carpet\":[{\"aaxis\":{\"endlinecolor\":\"#2a3f5f\",\"gridcolor\":\"white\",\"linecolor\":\"white\",\"minorgridcolor\":\"white\",\"startlinecolor\":\"#2a3f5f\"},\"baxis\":{\"endlinecolor\":\"#2a3f5f\",\"gridcolor\":\"white\",\"linecolor\":\"white\",\"minorgridcolor\":\"white\",\"startlinecolor\":\"#2a3f5f\"},\"type\":\"carpet\"}],\"choropleth\":[{\"colorbar\":{\"outlinewidth\":0,\"ticks\":\"\"},\"type\":\"choropleth\"}],\"contour\":[{\"colorbar\":{\"outlinewidth\":0,\"ticks\":\"\"},\"colorscale\":[[0.0,\"#0d0887\"],[0.1111111111111111,\"#46039f\"],[0.2222222222222222,\"#7201a8\"],[0.3333333333333333,\"#9c179e\"],[0.4444444444444444,\"#bd3786\"],[0.5555555555555556,\"#d8576b\"],[0.6666666666666666,\"#ed7953\"],[0.7777777777777778,\"#fb9f3a\"],[0.8888888888888888,\"#fdca26\"],[1.0,\"#f0f921\"]],\"type\":\"contour\"}],\"contourcarpet\":[{\"colorbar\":{\"outlinewidth\":0,\"ticks\":\"\"},\"type\":\"contourcarpet\"}],\"heatmap\":[{\"colorbar\":{\"outlinewidth\":0,\"ticks\":\"\"},\"colorscale\":[[0.0,\"#0d0887\"],[0.1111111111111111,\"#46039f\"],[0.2222222222222222,\"#7201a8\"],[0.3333333333333333,\"#9c179e\"],[0.4444444444444444,\"#bd3786\"],[0.5555555555555556,\"#d8576b\"],[0.6666666666666666,\"#ed7953\"],[0.7777777777777778,\"#fb9f3a\"],[0.8888888888888888,\"#fdca26\"],[1.0,\"#f0f921\"]],\"type\":\"heatmap\"}],\"heatmapgl\":[{\"colorbar\":{\"outlinewidth\":0,\"ticks\":\"\"},\"colorscale\":[[0.0,\"#0d0887\"],[0.1111111111111111,\"#46039f\"],[0.2222222222222222,\"#7201a8\"],[0.3333333333333333,\"#9c179e\"],[0.4444444444444444,\"#bd3786\"],[0.5555555555555556,\"#d8576b\"],[0.6666666666666666,\"#ed7953\"],[0.7777777777777778,\"#fb9f3a\"],[0.8888888888888888,\"#fdca26\"],[1.0,\"#f0f921\"]],\"type\":\"heatmapgl\"}],\"histogram\":[{\"marker\":{\"pattern\":{\"fillmode\":\"overlay\",\"size\":10,\"solidity\":0.2}},\"type\":\"histogram\"}],\"histogram2d\":[{\"colorbar\":{\"outlinewidth\":0,\"ticks\":\"\"},\"colorscale\":[[0.0,\"#0d0887\"],[0.1111111111111111,\"#46039f\"],[0.2222222222222222,\"#7201a8\"],[0.3333333333333333,\"#9c179e\"],[0.4444444444444444,\"#bd3786\"],[0.5555555555555556,\"#d8576b\"],[0.6666666666666666,\"#ed7953\"],[0.7777777777777778,\"#fb9f3a\"],[0.8888888888888888,\"#fdca26\"],[1.0,\"#f0f921\"]],\"type\":\"histogram2d\"}],\"histogram2dcontour\":[{\"colorbar\":{\"outlinewidth\":0,\"ticks\":\"\"},\"colorscale\":[[0.0,\"#0d0887\"],[0.1111111111111111,\"#46039f\"],[0.2222222222222222,\"#7201a8\"],[0.3333333333333333,\"#9c179e\"],[0.4444444444444444,\"#bd3786\"],[0.5555555555555556,\"#d8576b\"],[0.6666666666666666,\"#ed7953\"],[0.7777777777777778,\"#fb9f3a\"],[0.8888888888888888,\"#fdca26\"],[1.0,\"#f0f921\"]],\"type\":\"histogram2dcontour\"}],\"mesh3d\":[{\"colorbar\":{\"outlinewidth\":0,\"ticks\":\"\"},\"type\":\"mesh3d\"}],\"parcoords\":[{\"line\":{\"colorbar\":{\"outlinewidth\":0,\"ticks\":\"\"}},\"type\":\"parcoords\"}],\"pie\":[{\"automargin\":true,\"type\":\"pie\"}],\"scatter\":[{\"marker\":{\"colorbar\":{\"outlinewidth\":0,\"ticks\":\"\"}},\"type\":\"scatter\"}],\"scatter3d\":[{\"line\":{\"colorbar\":{\"outlinewidth\":0,\"ticks\":\"\"}},\"marker\":{\"colorbar\":{\"outlinewidth\":0,\"ticks\":\"\"}},\"type\":\"scatter3d\"}],\"scattercarpet\":[{\"marker\":{\"colorbar\":{\"outlinewidth\":0,\"ticks\":\"\"}},\"type\":\"scattercarpet\"}],\"scattergeo\":[{\"marker\":{\"colorbar\":{\"outlinewidth\":0,\"ticks\":\"\"}},\"type\":\"scattergeo\"}],\"scattergl\":[{\"marker\":{\"colorbar\":{\"outlinewidth\":0,\"ticks\":\"\"}},\"type\":\"scattergl\"}],\"scattermapbox\":[{\"marker\":{\"colorbar\":{\"outlinewidth\":0,\"ticks\":\"\"}},\"type\":\"scattermapbox\"}],\"scatterpolar\":[{\"marker\":{\"colorbar\":{\"outlinewidth\":0,\"ticks\":\"\"}},\"type\":\"scatterpolar\"}],\"scatterpolargl\":[{\"marker\":{\"colorbar\":{\"outlinewidth\":0,\"ticks\":\"\"}},\"type\":\"scatterpolargl\"}],\"scatterternary\":[{\"marker\":{\"colorbar\":{\"outlinewidth\":0,\"ticks\":\"\"}},\"type\":\"scatterternary\"}],\"surface\":[{\"colorbar\":{\"outlinewidth\":0,\"ticks\":\"\"},\"colorscale\":[[0.0,\"#0d0887\"],[0.1111111111111111,\"#46039f\"],[0.2222222222222222,\"#7201a8\"],[0.3333333333333333,\"#9c179e\"],[0.4444444444444444,\"#bd3786\"],[0.5555555555555556,\"#d8576b\"],[0.6666666666666666,\"#ed7953\"],[0.7777777777777778,\"#fb9f3a\"],[0.8888888888888888,\"#fdca26\"],[1.0,\"#f0f921\"]],\"type\":\"surface\"}],\"table\":[{\"cells\":{\"fill\":{\"color\":\"#EBF0F8\"},\"line\":{\"color\":\"white\"}},\"header\":{\"fill\":{\"color\":\"#C8D4E3\"},\"line\":{\"color\":\"white\"}},\"type\":\"table\"}]},\"layout\":{\"annotationdefaults\":{\"arrowcolor\":\"#2a3f5f\",\"arrowhead\":0,\"arrowwidth\":1},\"autotypenumbers\":\"strict\",\"coloraxis\":{\"colorbar\":{\"outlinewidth\":0,\"ticks\":\"\"}},\"colorscale\":{\"diverging\":[[0,\"#8e0152\"],[0.1,\"#c51b7d\"],[0.2,\"#de77ae\"],[0.3,\"#f1b6da\"],[0.4,\"#fde0ef\"],[0.5,\"#f7f7f7\"],[0.6,\"#e6f5d0\"],[0.7,\"#b8e186\"],[0.8,\"#7fbc41\"],[0.9,\"#4d9221\"],[1,\"#276419\"]],\"sequential\":[[0.0,\"#0d0887\"],[0.1111111111111111,\"#46039f\"],[0.2222222222222222,\"#7201a8\"],[0.3333333333333333,\"#9c179e\"],[0.4444444444444444,\"#bd3786\"],[0.5555555555555556,\"#d8576b\"],[0.6666666666666666,\"#ed7953\"],[0.7777777777777778,\"#fb9f3a\"],[0.8888888888888888,\"#fdca26\"],[1.0,\"#f0f921\"]],\"sequentialminus\":[[0.0,\"#0d0887\"],[0.1111111111111111,\"#46039f\"],[0.2222222222222222,\"#7201a8\"],[0.3333333333333333,\"#9c179e\"],[0.4444444444444444,\"#bd3786\"],[0.5555555555555556,\"#d8576b\"],[0.6666666666666666,\"#ed7953\"],[0.7777777777777778,\"#fb9f3a\"],[0.8888888888888888,\"#fdca26\"],[1.0,\"#f0f921\"]]},\"colorway\":[\"#636efa\",\"#EF553B\",\"#00cc96\",\"#ab63fa\",\"#FFA15A\",\"#19d3f3\",\"#FF6692\",\"#B6E880\",\"#FF97FF\",\"#FECB52\"],\"font\":{\"color\":\"#2a3f5f\"},\"geo\":{\"bgcolor\":\"white\",\"lakecolor\":\"white\",\"landcolor\":\"#E5ECF6\",\"showlakes\":true,\"showland\":true,\"subunitcolor\":\"white\"},\"hoverlabel\":{\"align\":\"left\"},\"hovermode\":\"closest\",\"mapbox\":{\"style\":\"light\"},\"paper_bgcolor\":\"white\",\"plot_bgcolor\":\"#E5ECF6\",\"polar\":{\"angularaxis\":{\"gridcolor\":\"white\",\"linecolor\":\"white\",\"ticks\":\"\"},\"bgcolor\":\"#E5ECF6\",\"radialaxis\":{\"gridcolor\":\"white\",\"linecolor\":\"white\",\"ticks\":\"\"}},\"scene\":{\"xaxis\":{\"backgroundcolor\":\"#E5ECF6\",\"gridcolor\":\"white\",\"gridwidth\":2,\"linecolor\":\"white\",\"showbackground\":true,\"ticks\":\"\",\"zerolinecolor\":\"white\"},\"yaxis\":{\"backgroundcolor\":\"#E5ECF6\",\"gridcolor\":\"white\",\"gridwidth\":2,\"linecolor\":\"white\",\"showbackground\":true,\"ticks\":\"\",\"zerolinecolor\":\"white\"},\"zaxis\":{\"backgroundcolor\":\"#E5ECF6\",\"gridcolor\":\"white\",\"gridwidth\":2,\"linecolor\":\"white\",\"showbackground\":true,\"ticks\":\"\",\"zerolinecolor\":\"white\"}},\"shapedefaults\":{\"line\":{\"color\":\"#2a3f5f\"}},\"ternary\":{\"aaxis\":{\"gridcolor\":\"white\",\"linecolor\":\"white\",\"ticks\":\"\"},\"baxis\":{\"gridcolor\":\"white\",\"linecolor\":\"white\",\"ticks\":\"\"},\"bgcolor\":\"#E5ECF6\",\"caxis\":{\"gridcolor\":\"white\",\"linecolor\":\"white\",\"ticks\":\"\"}},\"title\":{\"x\":0.05},\"xaxis\":{\"automargin\":true,\"gridcolor\":\"white\",\"linecolor\":\"white\",\"ticks\":\"\",\"title\":{\"standoff\":15},\"zerolinecolor\":\"white\",\"zerolinewidth\":2},\"yaxis\":{\"automargin\":true,\"gridcolor\":\"white\",\"linecolor\":\"white\",\"ticks\":\"\",\"title\":{\"standoff\":15},\"zerolinecolor\":\"white\",\"zerolinewidth\":2}}},\"shapes\":[{\"line\":{\"color\":\"rgb(5,122,87)\",\"dash\":\"dash\",\"width\":0.5},\"type\":\"line\",\"x0\":0,\"x1\":1,\"xref\":\"x domain\",\"y0\":16.647058823529413,\"y1\":16.647058823529413,\"yref\":\"y\"}],\"annotations\":[{\"showarrow\":false,\"text\":\"Kommune gennemsnit\",\"x\":1,\"xanchor\":\"right\",\"xref\":\"x domain\",\"y\":16.647058823529413,\"yanchor\":\"top\",\"yref\":\"y\"}],\"xaxis\":{\"tickmode\":\"array\",\"tickvals\":[0,1,2,3,4,5,6,7,8,9,10,11,12,13,14,15,16],\"ticktext\":[\"Sarah N\\u00f8rris\",\"Diana Mose Olsen\",\"Jasmin Lykke\",\"Peter Kent Starup\",\"Lars Mogensen\",\"Christina Simonia\",\"J\\u00f8rgen Ahlquist\",\"David Dam Jensen\",\"Anne Marie Geisler Andersen\",\"Jan Nielsen\",\"Uffe Thestrup\",\"Anders Toft Andersen\",\"May-Britt Andrea Andersen\",\"Allan V. Jessen\",\"Mads Lustrup Johansen\",\"Henrik R\\u00f8mer\",\"Hans Mortensen\"],\"range\":[-1,17]},\"title\":{\"text\":\"Kandidater for Esbjerg\"}},                        {\"responsive\": true}                    ).then(function(){\n",
       "                            \n",
       "var gd = document.getElementById('df1ab5d9-7a1c-43f2-a8ae-70ad635633b7');\n",
       "var x = new MutationObserver(function (mutations, observer) {{\n",
       "        var display = window.getComputedStyle(gd).display;\n",
       "        if (!display || display === 'none') {{\n",
       "            console.log([gd, 'removed!']);\n",
       "            Plotly.purge(gd);\n",
       "            observer.disconnect();\n",
       "        }}\n",
       "}});\n",
       "\n",
       "// Listen for the removal of the full notebook cells\n",
       "var notebookContainer = gd.closest('#notebook-container');\n",
       "if (notebookContainer) {{\n",
       "    x.observe(notebookContainer, {childList: true});\n",
       "}}\n",
       "\n",
       "// Listen for the clearing of the current output cell\n",
       "var outputEl = gd.closest('.output');\n",
       "if (outputEl) {{\n",
       "    x.observe(outputEl, {childList: true});\n",
       "}}\n",
       "\n",
       "                        })                };                });            </script>        </div>"
      ]
     },
     "metadata": {},
     "output_type": "display_data"
    }
   ],
   "source": [
    "fig = go.Figure()\n",
    "kommune = df_nameIndex[\"Kommune\"].unique()[10]\n",
    "df_temp = df_nameIndex[df_nameIndex[\"Kommune\"]==kommune].sort_values(\"Score\", ascending = False)\n",
    "\n",
    "tickvals_ = list(range(len(df_temp)))\n",
    "\n",
    "ticktext_ = list(df_temp.index)\n",
    "\n",
    "\n",
    "veggieGreen = 'rgb(5,122,87)' # Dark-green for the vegetarian color option !!! Change for real color\n",
    "markerSize = Marker_size(len(df_temp))\n",
    "\n",
    "\n",
    "for i, mean in enumerate(df_temp[\"Score\"]):\n",
    "    candidate = df_temp.index[i]\n",
    "    fig.add_trace(go.Scatter(x=[i,i],y=[0,mean],\n",
    "                             marker={\"color\":veggieGreen,\"size\":markerSize},\n",
    "                             line=go.scatter.Line(color=veggieGreen),\n",
    "                             hovertext=[df_temp.loc[candidate][\"Parti\"],df_temp.loc[candidate][\"Parti\"]],\n",
    "                             showlegend=False))\n",
    "    \n",
    "fig.add_hline(y=df_temp[\"Score\"].mean(), \n",
    "              line_width=0.5, \n",
    "              line_dash=\"dash\", \n",
    "              line_color=veggieGreen,\n",
    "              annotation_text=\"Kommune gennemsnit\", \n",
    "              annotation_position=\"bottom right\")\n",
    "\n",
    "fig.update_layout(\n",
    "    xaxis = dict(\n",
    "        tickmode = \"array\",\n",
    "        tickvals = tickvals_,\n",
    "        ticktext = ticktext_),\n",
    "    xaxis_range=[-1,len(df_temp)],\n",
    "    title = {\"text\":f\"Kandidater for {kommune}\"}\n",
    "    )\n",
    "\n",
    "    \n",
    "fig.show()"
   ]
  }
 ],
 "metadata": {
  "kernelspec": {
   "display_name": "Python 3",
   "language": "python",
   "name": "python3"
  },
  "language_info": {
   "codemirror_mode": {
    "name": "ipython",
    "version": 3
   },
   "file_extension": ".py",
   "mimetype": "text/x-python",
   "name": "python",
   "nbconvert_exporter": "python",
   "pygments_lexer": "ipython3",
   "version": "3.8.8"
  }
 },
 "nbformat": 4,
 "nbformat_minor": 5
}
